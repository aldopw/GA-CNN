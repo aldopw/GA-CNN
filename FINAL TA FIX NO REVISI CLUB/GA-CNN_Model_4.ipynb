{
 "cells": [
  {
   "cell_type": "code",
   "execution_count": 1,
   "metadata": {},
   "outputs": [],
   "source": [
    "from sklearn.metrics import mean_squared_error\n",
    "import tensorflow as tf\n",
    "from tensorflow.keras.preprocessing.image import ImageDataGenerator\n",
    "from tensorflow.keras.models import Sequential\n",
    "from tensorflow.keras.layers import Dense, Dropout, Activation, Flatten\n",
    "from tensorflow.keras.layers import Conv2D, MaxPooling2D,AveragePooling2D\n",
    "import numpy as np\n",
    "import pickle\n",
    "import random\n",
    "from numpy.random import seed\n",
    "import time\n",
    "from tensorflow.keras.callbacks import TensorBoard\n",
    "from tensorflow.keras.callbacks import EarlyStopping\n",
    "from tensorflow import keras\n",
    "from tensorflow.compat.v1 import ConfigProto\n",
    "from tensorflow.compat.v1 import InteractiveSession\n",
    "import pandas as pd\n",
    "from secrets import randbelow"
   ]
  },
  {
   "cell_type": "code",
   "execution_count": 2,
   "metadata": {},
   "outputs": [],
   "source": [
    "pickle_in = open(\"Xtrain96.pickle\",\"rb\")\n",
    "Xtrain = pickle.load(pickle_in)\n",
    "\n",
    "pickle_in = open(\"ytrain96.pickle\",\"rb\")\n",
    "ytrain = pickle.load(pickle_in)\n",
    "\n",
    "Xtrain=np.array(Xtrain/255.0)\n",
    "ytrain=np.array(ytrain)\n",
    "\n",
    "pickle_in = open(\"Xval96.pickle\",\"rb\")\n",
    "Xval = pickle.load(pickle_in)\n",
    "\n",
    "pickle_in = open(\"yval96.pickle\",\"rb\")\n",
    "yval = pickle.load(pickle_in)\n",
    "\n",
    "pickle_in = open(\"XTest96.pickle\",\"rb\")\n",
    "Xtest = pickle.load(pickle_in)\n",
    "\n",
    "pickle_in = open(\"ytest96.pickle\",\"rb\")\n",
    "ytest = pickle.load(pickle_in)\n",
    "\n",
    "pickle_in = open(\"Xtrain96.pickle\",\"rb\")\n",
    "Xtrain2 = pickle.load(pickle_in)\n",
    "\n",
    "pickle_in = open(\"ytrain96.pickle\",\"rb\")\n",
    "ytrain2 = pickle.load(pickle_in)"
   ]
  },
  {
   "cell_type": "markdown",
   "metadata": {},
   "source": [
    "# Genetic Algorithm"
   ]
  },
  {
   "cell_type": "code",
   "execution_count": 3,
   "metadata": {},
   "outputs": [],
   "source": [
    "class GA():\n",
    "    def __init__(self,popsize, iter_):\n",
    "        self.popsize = popsize\n",
    "        self.iter_ = iter_\n",
    "        \n",
    "    def popinit(self):\n",
    "        population = [] \n",
    "        random.seed(99)\n",
    "        fmap = [32,64,128,256] \n",
    "        kernel = [2,3,5,7]\n",
    "        learningRate = [0.0001,0.0005, 0.001, 0.005] \n",
    "        dropout = [0.0,0.1,0.2,0.3,0.4,0.5]\n",
    "        layer = [2,3,4,5,6]\n",
    "        pool =[0,1]\n",
    "        node = [64,128,256,512]\n",
    "        for i in range(self.popsize):\n",
    "            inPop = [random.choice(fmap),random.choice(kernel),random.choice(learningRate),random.choice(dropout),random.choice(layer),random.choice(pool),random.choice(node)]\n",
    "            population.append(inPop)\n",
    "        return population\n",
    "\n",
    "        \n",
    "    def fitness(self,population,X,y):\n",
    "        savefit=[]\n",
    "        for i in range(len(population)):\n",
    "            pop = population[i]\n",
    "            f = pop[0]\n",
    "            k = pop[1]\n",
    "            learning = pop[2]\n",
    "            dropout = pop[3]\n",
    "            layer = pop[4]\n",
    "            pool = pop[5]\n",
    "            node = pop[6]\n",
    "            \n",
    "            model = Sequential()\n",
    "            gpu_options = tf.compat.v1.GPUOptions(per_process_gpu_memory_fraction=0.050)\n",
    "\n",
    "            config = ConfigProto()\n",
    "            config.gpu_options.per_process_gpu_memory_fraction = 0.050\n",
    "            session = InteractiveSession(config=config)\n",
    "\n",
    "            seed(99)\n",
    "            tf.random.set_seed(99)\n",
    "            if (pool == 0) :\n",
    "                model.add(Conv2D(f, (k, k), input_shape=X.shape[1:]))\n",
    "                model.add(Activation('relu'))\n",
    "                model.add(MaxPooling2D(pool_size=(2, 2)))\n",
    "\n",
    "                for i in range(layer-1):\n",
    "                    model.add(Conv2D(f, (k,k),padding='same'))\n",
    "                    model.add(Activation('relu'))\n",
    "                    model.add(MaxPooling2D(pool_size=(2, 2)))\n",
    "\n",
    "                model.add(Flatten())\n",
    "                \n",
    "                model.add(Dense(node))\n",
    "                model.add(Activation('relu'))\n",
    "                model.add(Dropout(dropout))\n",
    "\n",
    "                model.add(Dense(1))\n",
    "                model.add(Activation('sigmoid'))\n",
    "\n",
    "                model.compile(loss='binary_crossentropy',optimizer=keras.optimizers.Adam(learning_rate=learning),metrics=['accuracy'])\n",
    "            \n",
    "                model.fit(X, y,batch_size=16,epochs=10,validation_split=0.3)\n",
    "                model.save('CNN.model')\n",
    "                modelcnn = tf.keras.models.load_model(\"CNN.model\")\n",
    "\n",
    "                prediction = modelcnn.predict(Xval)\n",
    "                mse = mean_squared_error(yval,prediction)\n",
    "                savefit.append(mse)\n",
    "\n",
    "            else :\n",
    "                model.add(Conv2D(f,(k,k), input_shape=X.shape[1:]))\n",
    "                model.add(Activation('relu'))\n",
    "                model.add(AveragePooling2D(pool_size=(2, 2)))\n",
    "\n",
    "                for i in range(layer-1):\n",
    "                    model.add(Conv2D(f, (k,k),padding='same'))\n",
    "                    model.add(Activation('relu'))\n",
    "                    model.add(AveragePooling2D(pool_size=(2, 2)))\n",
    "\n",
    "                model.add(Flatten())\n",
    "                \n",
    "                model.add(Dense(node))\n",
    "                model.add(Activation('relu'))\n",
    "                model.add(Dropout(dropout))\n",
    "\n",
    "                model.add(Dense(1))\n",
    "                model.add(Activation('sigmoid'))\n",
    "\n",
    "                model.compile(loss='binary_crossentropy',optimizer=keras.optimizers.Adam(learning_rate=learning),metrics=['accuracy'])\n",
    "            \n",
    "                model.fit(X, y,batch_size=16,epochs=10,validation_split=0.3)\n",
    "                model.save('CNN.model')\n",
    "                modelcnn = tf.keras.models.load_model(\"CNN.model\")\n",
    "        \n",
    "                prediction = modelcnn.predict(Xval)\n",
    "                mse = mean_squared_error(yval,prediction)\n",
    "                savefit.append(mse)\n",
    "\n",
    "        return savefit\n",
    "    \n",
    "    def fitmutation(self,mut,X,y):\n",
    "            pop = mut\n",
    "            f = pop[0]\n",
    "            k = pop[1]\n",
    "            learning = pop[2]\n",
    "            dropout = pop[3]\n",
    "            layer = pop[4]\n",
    "            pool = pop[5]\n",
    "            node = pop[6]\n",
    "            \n",
    "            model = Sequential()\n",
    "            gpu_options = tf.compat.v1.GPUOptions(per_process_gpu_memory_fraction=0.050)\n",
    "\n",
    "            config = ConfigProto()\n",
    "            config.gpu_options.per_process_gpu_memory_fraction = 0.050\n",
    "            session = InteractiveSession(config=config)\n",
    "\n",
    "            seed(99)\n",
    "            tf.random.set_seed(99)\n",
    "            if (pool == 0) :\n",
    "                model.add(Conv2D(f, (k, k), input_shape=X.shape[1:]))\n",
    "                model.add(Activation('relu'))\n",
    "                model.add(MaxPooling2D(pool_size=(2, 2)))\n",
    "\n",
    "                for i in range(layer-1):\n",
    "                    model.add(Conv2D(f, (k,k),padding='same'))\n",
    "                    model.add(Activation('relu'))\n",
    "                    model.add(MaxPooling2D(pool_size=(2, 2)))\n",
    "\n",
    "                model.add(Flatten())\n",
    "                \n",
    "                model.add(Dense(node))\n",
    "                model.add(Activation('relu'))\n",
    "                model.add(Dropout(dropout))\n",
    "\n",
    "                model.add(Dense(1))\n",
    "                model.add(Activation('sigmoid'))\n",
    "\n",
    "                model.compile(loss='binary_crossentropy',optimizer=keras.optimizers.Adam(learning_rate=learning),metrics=['accuracy'])\n",
    "            \n",
    "                model.fit(X, y,batch_size=16,epochs=10,validation_split=0.3)\n",
    "                model.save('CNNmut.model')\n",
    "                modelcnn = tf.keras.models.load_model(\"CNNmut.model\")\n",
    "\n",
    "                prediction = modelcnn.predict(Xval)\n",
    "                mse = mean_squared_error(yval,prediction)\n",
    "                fitmut = mse\n",
    "\n",
    "            else :\n",
    "                model.add(Conv2D(f,(k,k), input_shape=X.shape[1:]))\n",
    "                model.add(Activation('relu'))\n",
    "                model.add(AveragePooling2D(pool_size=(2, 2)))\n",
    "\n",
    "                for i in range(layer-1):\n",
    "                    model.add(Conv2D(f, (k,k),padding='same'))\n",
    "                    model.add(Activation('relu'))\n",
    "                    model.add(AveragePooling2D(pool_size=(2, 2)))\n",
    "\n",
    "                model.add(Flatten())\n",
    "                \n",
    "                model.add(Dense(node))\n",
    "                model.add(Activation('relu'))\n",
    "                model.add(Dropout(dropout))\n",
    "\n",
    "                model.add(Dense(1))\n",
    "                model.add(Activation('sigmoid'))\n",
    "\n",
    "                model.compile(loss='binary_crossentropy',optimizer=keras.optimizers.Adam(learning_rate=learning),metrics=['accuracy'])\n",
    "            \n",
    "                model.fit(X, y,batch_size=16,epochs=10,validation_split=0.3)\n",
    "                model.save('CNNmut.model')\n",
    "                modelcnn = tf.keras.models.load_model(\"CNNmut.model\")\n",
    "        \n",
    "                prediction = modelcnn.predict(Xval)\n",
    "                mse = mean_squared_error(yval,prediction)\n",
    "                fitmut = mse\n",
    "            return fitmut\n",
    "        \n",
    "    \n",
    "    def parent_select(self,population, fitness):\n",
    "        sumfit = np.sum(fitness)\n",
    "        prob=[]\n",
    "        parent_1=[]\n",
    "        random.seed(99)\n",
    "        for i in range(len(fitness)):\n",
    "            tmp = fitness[i]/sumfit\n",
    "            prob.append(tmp)\n",
    "        prob_range = []\n",
    "        sum_ = 0\n",
    "        for i in range(len(prob)):\n",
    "                sum_ += prob[i]\n",
    "                prob_range.append(sum_)\n",
    "        for i in range(len(prob)):\n",
    "                rand = random.random()\n",
    "                if rand <= prob_range[i]:\n",
    "                    parent_1 = population[i]\n",
    "                    break\n",
    "        # select second parent\n",
    "        parent_2 = parent_1\n",
    "        while (parent_2 == parent_1):\n",
    "                for i in range(len(prob)):\n",
    "                    rand = random.random()\n",
    "                    if rand <= prob_range[i]:\n",
    "                        parent_2 = population[i]\n",
    "                        break\n",
    "        return parent_1, parent_2\n",
    "    \n",
    "    def cross_over(self,parent1, parent2):\n",
    "        random.seed(99)\n",
    "        crosspoint = random.randrange(0,6)\n",
    "        child1 = parent1[:crosspoint+1] + parent2[crosspoint+1:]\n",
    "        child2 = parent2[:crosspoint+1] + parent1[crosspoint+1:] \n",
    "        return child1, child2\n",
    "    \n",
    "    def mutation(self,child1, child2):\n",
    "        import copy\n",
    "        random.seed(99)\n",
    "        tmp1 = copy.deepcopy(child1)\n",
    "        tmp2 = copy.deepcopy(child2)\n",
    "        fmap = [32,64,128,256] \n",
    "        kernel = [2,3,5,7]\n",
    "        learningRate = [0.0001,0.0005, 0.001, 0.005] \n",
    "        dropout = [0.0,0.1,0.2,0.3,0.4,0.5]\n",
    "        layer = [2,3,4,5,6]\n",
    "        pool =[0,1]\n",
    "        node = [64,128,256,512]\n",
    "        for i in range(len(tmp1)):    \n",
    "            if (i == 0) :\n",
    "                prob = random.random()\n",
    "                if (prob<=0.10) :\n",
    "                    tmp1[point] = random.choice(fmap)\n",
    "                    tmp2[point] = random.choice(fmap)\n",
    "            elif (i ==1):\n",
    "                prob = random.random()\n",
    "                if (prob<=0.10) :\n",
    "                    tmp1[point] = random.choice(kernel)\n",
    "                    tmp2[point] = random.choice(kernel)\n",
    "            elif (i == 2) :\n",
    "                prob = random.random()\n",
    "                if (prob<=0.10) :\n",
    "                    tmp1[point] = random.choice(learningRate)\n",
    "                    tmp2[point] = random.choice(learningRate)\n",
    "            elif (i == 3) :\n",
    "                prob = random.random()\n",
    "                if (prob<=0.10) :\n",
    "                    tmp1[point] = random.choice(dropout)\n",
    "                    tmp2[point] = random.choice(dropout)\n",
    "            elif (i == 4) :\n",
    "                prob = random.random()\n",
    "                if (prob<=0.10) :\n",
    "                    tmp1[point] = random.choice(layer)\n",
    "                    tmp2[point] = random.choice(layer)\n",
    "            elif (i == 5) :\n",
    "                prob = random.random()\n",
    "                if (prob<=0.10) :\n",
    "                    tmp1[point] = random.choice(pool)\n",
    "                    tmp2[point] = random.choice(pool)\n",
    "            else :\n",
    "                prob = random.random()\n",
    "                if (prob<=0.10) :\n",
    "                    tmp1[point] = random.choice(node)\n",
    "                    tmp2[point] = random.choice(node)\n",
    "        return tmp1, tmp2\n",
    "       \n",
    "    def sort(self, population, fitness):\n",
    "        tmp_dict = {'population' : population,'fitness': fitness }\n",
    "        df = pd.DataFrame(tmp_dict)\n",
    "        df.sort_values('fitness', ascending=True, inplace=True)\n",
    "        new_pop = df['population'].values.tolist()\n",
    "        fit = df['fitness'].values.tolist()\n",
    "        return new_pop, fit\n",
    "    \n",
    "    def newfit(self,mut1,mut2,listindividu,X,y) :\n",
    "        tmpmut=[]\n",
    "        tmpfit1=0.0\n",
    "        tmpfit2=0.0\n",
    "        tmpmut.append(mut1)\n",
    "        tmpmut.append(mut2)\n",
    "        for i in listindividu:\n",
    "            if i[0] == mut1 :\n",
    "                tmpfit1  = (i[1])\n",
    "            if i[0] == mut2 :\n",
    "                tmpfit2 = (i[1])\n",
    "        if (tmpfit1)==0.0 and (tmpfit2)==0.0 :\n",
    "            fitness = self.fitness(tmpmut,X,y)\n",
    "            fit1 = fitness[0]\n",
    "            fit2 = fitness[1]\n",
    "        elif (tmpfit1)==0.0 :\n",
    "            fit1 = self.fitmutation(mut1,X,y)\n",
    "            fit2 = tmpfit2\n",
    "        else :\n",
    "            fit1= tmpfit1\n",
    "            fit2 = self.fitmutation(mut2,X,y)\n",
    "        return fit1,fit2\n",
    "                        \n",
    "    \n",
    "    def fit(self,X,y):\n",
    "        pop = self.popinit()\n",
    "        fitness = self.fitness(pop,X,y)\n",
    "        listindividu =[]\n",
    "        for i in range(len(pop)):\n",
    "            a = pop[i]\n",
    "            b = fitness[i]\n",
    "            temp=[a,b]\n",
    "            listindividu.append(temp)\n",
    "        print(pop)\n",
    "        print(fitness)\n",
    "        bestingen =[]\n",
    "        index = np.argmin(fitness)\n",
    "        popgen = pop[index]\n",
    "        fitgen = fitness[index]\n",
    "        bestingen.append('Generasi 0')\n",
    "        bestingen.append(popgen)\n",
    "        bestingen.append(fitgen)\n",
    "        for i in range(self.iter_):\n",
    "            print( 'Generasi Ke ' , i+1 )\n",
    "            parent_1, parent_2 = self.parent_select(pop, fitness)\n",
    "            print('Parent 1 dan 2 ', parent_1, parent_2)\n",
    "            child_1, child_2 = self.cross_over(parent_1, parent_2)\n",
    "            print('Child 1 dan 2', child_1, child_2 )\n",
    "            mut1, mut2 = self.mutation(child_1, child_2)\n",
    "            print('Mutasi 1 dan 2', mut1, mut2)\n",
    "            pop, fitness = self.sort(pop,fitness)\n",
    "            fitmut1,fitmut2 = self.newfit(mut1,mut2,listindividu,X,y)\n",
    "            pop[-1] = mut1; pop[-2] = mut2\n",
    "            fitness[-1] = fitmut1 ; fitness[-2] = fitmut2\n",
    "            mutt=[]\n",
    "            mutt.append(mut1)\n",
    "            mutt.append(mut2)\n",
    "            fitmut=[]\n",
    "            fitmut.append(fitmut1)\n",
    "            fitmut.append(fitmut2)\n",
    "            update=[]\n",
    "            for i in range(len(mutt)) :\n",
    "                a = mutt[i]\n",
    "                b = fitmut[i]\n",
    "                temp=[a,b]\n",
    "                update.append(temp)\n",
    "            listindividu.extend(update)\n",
    "            print(pop)\n",
    "            print(fitness)\n",
    "            index = np.argmin(fitness)\n",
    "            popgen = pop[index]\n",
    "            fitgen = fitness[index]\n",
    "            bestingen.append(popgen)\n",
    "            bestingen.append(fitgen)\n",
    "        idx_ = np.argmin(fitness)\n",
    "        best_pop = pop[idx_]\n",
    "        return  best_pop,bestingen"
   ]
  },
  {
   "cell_type": "code",
   "execution_count": 4,
   "metadata": {},
   "outputs": [],
   "source": [
    "featSelection = GA( popsize=10, iter_=20)"
   ]
  },
  {
   "cell_type": "code",
   "execution_count": 5,
   "metadata": {},
   "outputs": [
    {
     "name": "stdout",
     "output_type": "stream",
     "text": [
      "Epoch 1/10\n",
      "66/66 [==============================] - 285s 87ms/step - loss: 0.8433 - accuracy: 0.5180 - val_loss: 0.6920 - val_accuracy: 0.5011\n",
      "Epoch 2/10\n",
      "66/66 [==============================] - 3s 47ms/step - loss: 0.6893 - accuracy: 0.5232 - val_loss: 0.6336 - val_accuracy: 0.6510\n",
      "Epoch 3/10\n",
      "66/66 [==============================] - 3s 47ms/step - loss: 0.6375 - accuracy: 0.7032 - val_loss: 0.5895 - val_accuracy: 0.6980\n",
      "Epoch 4/10\n",
      "66/66 [==============================] - 3s 47ms/step - loss: 0.5766 - accuracy: 0.7017 - val_loss: 0.5284 - val_accuracy: 0.7718\n",
      "Epoch 5/10\n",
      "66/66 [==============================] - 3s 47ms/step - loss: 0.5314 - accuracy: 0.7421 - val_loss: 0.5243 - val_accuracy: 0.7629\n",
      "Epoch 6/10\n",
      "66/66 [==============================] - 3s 47ms/step - loss: 0.5162 - accuracy: 0.7470 - val_loss: 0.5118 - val_accuracy: 0.7494\n",
      "Epoch 7/10\n",
      "66/66 [==============================] - 3s 47ms/step - loss: 0.4915 - accuracy: 0.7560 - val_loss: 0.5738 - val_accuracy: 0.7047\n",
      "Epoch 8/10\n",
      "66/66 [==============================] - 3s 47ms/step - loss: 0.5682 - accuracy: 0.7026 - val_loss: 0.5475 - val_accuracy: 0.7092\n",
      "Epoch 9/10\n",
      "66/66 [==============================] - 3s 47ms/step - loss: 0.4454 - accuracy: 0.7772 - val_loss: 0.4332 - val_accuracy: 0.7897\n",
      "Epoch 10/10\n",
      "66/66 [==============================] - 3s 47ms/step - loss: 0.5159 - accuracy: 0.7425 - val_loss: 0.4674 - val_accuracy: 0.7673\n",
      "INFO:tensorflow:Assets written to: CNN.model\\assets\n"
     ]
    },
    {
     "name": "stderr",
     "output_type": "stream",
     "text": [
      "D:\\ProgramData\\Anaconda3\\lib\\site-packages\\tensorflow\\python\\client\\session.py:1761: UserWarning: An interactive session is already active. This can cause out-of-memory errors in some cases. You must explicitly call `InteractiveSession.close()` to release resources held by the other session(s).\n",
      "  warnings.warn('An interactive session is already active. This can '\n"
     ]
    },
    {
     "name": "stdout",
     "output_type": "stream",
     "text": [
      "Epoch 1/10\n",
      "66/66 [==============================] - 5s 41ms/step - loss: 0.6936 - accuracy: 0.5234 - val_loss: 0.6913 - val_accuracy: 0.5011\n",
      "Epoch 2/10\n",
      "66/66 [==============================] - 0s 7ms/step - loss: 0.6958 - accuracy: 0.4826 - val_loss: 0.6926 - val_accuracy: 0.5011\n",
      "Epoch 3/10\n",
      "66/66 [==============================] - 0s 7ms/step - loss: 0.6935 - accuracy: 0.4858 - val_loss: 0.6944 - val_accuracy: 0.4989\n",
      "Epoch 4/10\n",
      "66/66 [==============================] - 0s 7ms/step - loss: 0.6884 - accuracy: 0.5504 - val_loss: 0.6761 - val_accuracy: 0.5280\n",
      "Epoch 5/10\n",
      "66/66 [==============================] - 0s 7ms/step - loss: 0.6702 - accuracy: 0.6023 - val_loss: 0.6424 - val_accuracy: 0.6331\n",
      "Epoch 6/10\n",
      "66/66 [==============================] - 0s 7ms/step - loss: 0.6098 - accuracy: 0.6993 - val_loss: 0.5725 - val_accuracy: 0.7092\n",
      "Epoch 7/10\n",
      "66/66 [==============================] - 0s 7ms/step - loss: 0.5302 - accuracy: 0.7420 - val_loss: 0.4694 - val_accuracy: 0.7673\n",
      "Epoch 8/10\n",
      "66/66 [==============================] - 0s 7ms/step - loss: 0.3747 - accuracy: 0.8306 - val_loss: 0.4142 - val_accuracy: 0.8009\n",
      "Epoch 9/10\n",
      "66/66 [==============================] - 0s 7ms/step - loss: 0.2667 - accuracy: 0.8933 - val_loss: 0.3267 - val_accuracy: 0.8568\n",
      "Epoch 10/10\n",
      "66/66 [==============================] - 0s 7ms/step - loss: 0.2077 - accuracy: 0.9079 - val_loss: 0.2010 - val_accuracy: 0.9217\n",
      "INFO:tensorflow:Assets written to: CNN.model\\assets\n"
     ]
    },
    {
     "name": "stderr",
     "output_type": "stream",
     "text": [
      "D:\\ProgramData\\Anaconda3\\lib\\site-packages\\tensorflow\\python\\client\\session.py:1761: UserWarning: An interactive session is already active. This can cause out-of-memory errors in some cases. You must explicitly call `InteractiveSession.close()` to release resources held by the other session(s).\n",
      "  warnings.warn('An interactive session is already active. This can '\n"
     ]
    },
    {
     "name": "stdout",
     "output_type": "stream",
     "text": [
      "Epoch 1/10\n",
      "66/66 [==============================] - 5s 46ms/step - loss: 0.6999 - accuracy: 0.4777 - val_loss: 0.6931 - val_accuracy: 0.5011\n",
      "Epoch 2/10\n",
      "66/66 [==============================] - 1s 9ms/step - loss: 0.6934 - accuracy: 0.4729 - val_loss: 0.6847 - val_accuracy: 0.6376\n",
      "Epoch 3/10\n",
      "66/66 [==============================] - 1s 9ms/step - loss: 0.6699 - accuracy: 0.5827 - val_loss: 0.6490 - val_accuracy: 0.5951\n",
      "Epoch 4/10\n",
      "66/66 [==============================] - 1s 9ms/step - loss: 0.5880 - accuracy: 0.7010 - val_loss: 0.5308 - val_accuracy: 0.7427\n",
      "Epoch 5/10\n",
      "66/66 [==============================] - 1s 9ms/step - loss: 0.6040 - accuracy: 0.6971 - val_loss: 0.5734 - val_accuracy: 0.7293\n",
      "Epoch 6/10\n",
      "66/66 [==============================] - 1s 9ms/step - loss: 0.5195 - accuracy: 0.7816 - val_loss: 0.5226 - val_accuracy: 0.7517\n",
      "Epoch 7/10\n",
      "66/66 [==============================] - 1s 9ms/step - loss: 0.4834 - accuracy: 0.7661 - val_loss: 0.4807 - val_accuracy: 0.7696\n",
      "Epoch 8/10\n",
      "66/66 [==============================] - 1s 9ms/step - loss: 0.4793 - accuracy: 0.7816 - val_loss: 0.4370 - val_accuracy: 0.7964\n",
      "Epoch 9/10\n",
      "66/66 [==============================] - ETA: 0s - loss: 0.4041 - accuracy: 0.81 - 1s 9ms/step - loss: 0.4046 - accuracy: 0.8112 - val_loss: 0.4221 - val_accuracy: 0.7830\n",
      "Epoch 10/10\n",
      "66/66 [==============================] - 1s 9ms/step - loss: 0.4283 - accuracy: 0.8045 - val_loss: 0.5010 - val_accuracy: 0.7852\n",
      "INFO:tensorflow:Assets written to: CNN.model\\assets\n"
     ]
    },
    {
     "name": "stderr",
     "output_type": "stream",
     "text": [
      "D:\\ProgramData\\Anaconda3\\lib\\site-packages\\tensorflow\\python\\client\\session.py:1761: UserWarning: An interactive session is already active. This can cause out-of-memory errors in some cases. You must explicitly call `InteractiveSession.close()` to release resources held by the other session(s).\n",
      "  warnings.warn('An interactive session is already active. This can '\n"
     ]
    },
    {
     "name": "stdout",
     "output_type": "stream",
     "text": [
      "Epoch 1/10\n",
      "66/66 [==============================] - 9s 89ms/step - loss: 0.6967 - accuracy: 0.4701 - val_loss: 0.6934 - val_accuracy: 0.4989\n",
      "Epoch 2/10\n",
      "66/66 [==============================] - 2s 31ms/step - loss: 0.6931 - accuracy: 0.5213 - val_loss: 0.6932 - val_accuracy: 0.4989\n",
      "Epoch 3/10\n",
      "66/66 [==============================] - 2s 31ms/step - loss: 0.6935 - accuracy: 0.4916 - val_loss: 0.6932 - val_accuracy: 0.4989\n",
      "Epoch 4/10\n",
      "66/66 [==============================] - 2s 31ms/step - loss: 0.6933 - accuracy: 0.5114 - val_loss: 0.6933 - val_accuracy: 0.4989\n",
      "Epoch 5/10\n",
      "66/66 [==============================] - 2s 31ms/step - loss: 0.6931 - accuracy: 0.5091 - val_loss: 0.6932 - val_accuracy: 0.4989\n",
      "Epoch 6/10\n",
      "66/66 [==============================] - 2s 31ms/step - loss: 0.6932 - accuracy: 0.5034 - val_loss: 0.6932 - val_accuracy: 0.4989\n",
      "Epoch 7/10\n",
      "66/66 [==============================] - 2s 31ms/step - loss: 0.6928 - accuracy: 0.5287 - val_loss: 0.6932 - val_accuracy: 0.4989\n",
      "Epoch 8/10\n",
      "66/66 [==============================] - 2s 31ms/step - loss: 0.6932 - accuracy: 0.5107 - val_loss: 0.6933 - val_accuracy: 0.4989\n",
      "Epoch 9/10\n",
      "66/66 [==============================] - 2s 31ms/step - loss: 0.6920 - accuracy: 0.5482 - val_loss: 0.6932 - val_accuracy: 0.4989\n",
      "Epoch 10/10\n",
      "66/66 [==============================] - 2s 31ms/step - loss: 0.6928 - accuracy: 0.5246 - val_loss: 0.6932 - val_accuracy: 0.4989\n",
      "INFO:tensorflow:Assets written to: CNN.model\\assets\n"
     ]
    },
    {
     "name": "stderr",
     "output_type": "stream",
     "text": [
      "D:\\ProgramData\\Anaconda3\\lib\\site-packages\\tensorflow\\python\\client\\session.py:1761: UserWarning: An interactive session is already active. This can cause out-of-memory errors in some cases. You must explicitly call `InteractiveSession.close()` to release resources held by the other session(s).\n",
      "  warnings.warn('An interactive session is already active. This can '\n"
     ]
    },
    {
     "name": "stdout",
     "output_type": "stream",
     "text": [
      "Epoch 1/10\n",
      "66/66 [==============================] - 7s 67ms/step - loss: 0.6935 - accuracy: 0.4951 - val_loss: 0.6927 - val_accuracy: 0.6018\n",
      "Epoch 2/10\n",
      "66/66 [==============================] - 1s 20ms/step - loss: 0.6926 - accuracy: 0.4827 - val_loss: 0.6405 - val_accuracy: 0.6510\n",
      "Epoch 3/10\n",
      "66/66 [==============================] - 1s 21ms/step - loss: 0.6430 - accuracy: 0.6374 - val_loss: 0.5675 - val_accuracy: 0.7069\n",
      "Epoch 4/10\n",
      "66/66 [==============================] - 1s 21ms/step - loss: 0.5999 - accuracy: 0.7001 - val_loss: 0.5234 - val_accuracy: 0.7427\n",
      "Epoch 5/10\n",
      "66/66 [==============================] - 1s 20ms/step - loss: 0.5252 - accuracy: 0.7511 - val_loss: 0.5407 - val_accuracy: 0.7293\n",
      "Epoch 6/10\n",
      "66/66 [==============================] - 1s 20ms/step - loss: 0.4890 - accuracy: 0.7840 - val_loss: 0.4823 - val_accuracy: 0.7562\n",
      "Epoch 7/10\n",
      "66/66 [==============================] - 1s 21ms/step - loss: 0.4472 - accuracy: 0.7941 - val_loss: 0.4513 - val_accuracy: 0.7942\n",
      "Epoch 8/10\n",
      "66/66 [==============================] - 1s 20ms/step - loss: 0.4438 - accuracy: 0.7978 - val_loss: 0.3790 - val_accuracy: 0.8367\n",
      "Epoch 9/10\n",
      "66/66 [==============================] - 1s 20ms/step - loss: 0.3518 - accuracy: 0.8483 - val_loss: 0.3305 - val_accuracy: 0.8546\n",
      "Epoch 10/10\n",
      "66/66 [==============================] - 1s 20ms/step - loss: 0.3567 - accuracy: 0.8471 - val_loss: 0.3015 - val_accuracy: 0.8770\n",
      "INFO:tensorflow:Assets written to: CNN.model\\assets\n"
     ]
    },
    {
     "name": "stderr",
     "output_type": "stream",
     "text": [
      "D:\\ProgramData\\Anaconda3\\lib\\site-packages\\tensorflow\\python\\client\\session.py:1761: UserWarning: An interactive session is already active. This can cause out-of-memory errors in some cases. You must explicitly call `InteractiveSession.close()` to release resources held by the other session(s).\n",
      "  warnings.warn('An interactive session is already active. This can '\n"
     ]
    },
    {
     "name": "stdout",
     "output_type": "stream",
     "text": [
      "Epoch 1/10\n",
      "66/66 [==============================] - 7s 64ms/step - loss: 0.6932 - accuracy: 0.4948 - val_loss: 0.6917 - val_accuracy: 0.4989\n",
      "Epoch 2/10\n",
      "66/66 [==============================] - 1s 10ms/step - loss: 0.6917 - accuracy: 0.5320 - val_loss: 0.6822 - val_accuracy: 0.6980\n",
      "Epoch 3/10\n",
      "66/66 [==============================] - 1s 10ms/step - loss: 0.6764 - accuracy: 0.6000 - val_loss: 0.6015 - val_accuracy: 0.6801\n",
      "Epoch 4/10\n",
      "66/66 [==============================] - 1s 10ms/step - loss: 0.5708 - accuracy: 0.6990 - val_loss: 0.5112 - val_accuracy: 0.7517\n",
      "Epoch 5/10\n",
      "66/66 [==============================] - 1s 10ms/step - loss: 0.5359 - accuracy: 0.7450 - val_loss: 0.5138 - val_accuracy: 0.7405\n",
      "Epoch 6/10\n",
      "66/66 [==============================] - 1s 10ms/step - loss: 0.4648 - accuracy: 0.8143 - val_loss: 0.4548 - val_accuracy: 0.7919\n",
      "Epoch 7/10\n",
      "66/66 [==============================] - 1s 10ms/step - loss: 0.4459 - accuracy: 0.7956 - val_loss: 0.4372 - val_accuracy: 0.7964\n",
      "Epoch 8/10\n",
      "66/66 [==============================] - 1s 10ms/step - loss: 0.4303 - accuracy: 0.8076 - val_loss: 0.3834 - val_accuracy: 0.8322\n",
      "Epoch 9/10\n",
      "66/66 [==============================] - 1s 10ms/step - loss: 0.3439 - accuracy: 0.8713 - val_loss: 0.3490 - val_accuracy: 0.8523\n",
      "Epoch 10/10\n",
      "66/66 [==============================] - 1s 10ms/step - loss: 0.3755 - accuracy: 0.8395 - val_loss: 0.3198 - val_accuracy: 0.8770\n",
      "INFO:tensorflow:Assets written to: CNN.model\\assets\n"
     ]
    },
    {
     "name": "stderr",
     "output_type": "stream",
     "text": [
      "D:\\ProgramData\\Anaconda3\\lib\\site-packages\\tensorflow\\python\\client\\session.py:1761: UserWarning: An interactive session is already active. This can cause out-of-memory errors in some cases. You must explicitly call `InteractiveSession.close()` to release resources held by the other session(s).\n",
      "  warnings.warn('An interactive session is already active. This can '\n"
     ]
    },
    {
     "name": "stdout",
     "output_type": "stream",
     "text": [
      "Epoch 1/10\n",
      "66/66 [==============================] - 4s 33ms/step - loss: 0.6892 - accuracy: 0.5457 - val_loss: 0.6657 - val_accuracy: 0.5727\n",
      "Epoch 2/10\n",
      "66/66 [==============================] - 0s 6ms/step - loss: 0.6542 - accuracy: 0.6154 - val_loss: 0.6526 - val_accuracy: 0.6264\n",
      "Epoch 3/10\n",
      "66/66 [==============================] - 0s 6ms/step - loss: 0.5639 - accuracy: 0.7142 - val_loss: 0.5161 - val_accuracy: 0.7315\n",
      "Epoch 4/10\n",
      "66/66 [==============================] - 0s 5ms/step - loss: 0.4916 - accuracy: 0.7792 - val_loss: 0.4565 - val_accuracy: 0.7987\n",
      "Epoch 5/10\n",
      "66/66 [==============================] - 0s 5ms/step - loss: 0.5309 - accuracy: 0.7605 - val_loss: 0.4243 - val_accuracy: 0.8277\n",
      "Epoch 6/10\n",
      "66/66 [==============================] - 0s 5ms/step - loss: 0.4379 - accuracy: 0.8109 - val_loss: 0.4607 - val_accuracy: 0.7718\n",
      "Epoch 7/10\n",
      "66/66 [==============================] - 0s 5ms/step - loss: 0.3794 - accuracy: 0.8176 - val_loss: 0.4793 - val_accuracy: 0.8009\n",
      "Epoch 8/10\n",
      "66/66 [==============================] - 0s 5ms/step - loss: 0.4635 - accuracy: 0.7808 - val_loss: 0.3099 - val_accuracy: 0.8568\n",
      "Epoch 9/10\n",
      "66/66 [==============================] - 0s 5ms/step - loss: 0.2792 - accuracy: 0.8861 - val_loss: 0.3246 - val_accuracy: 0.8479\n",
      "Epoch 10/10\n",
      "66/66 [==============================] - 0s 5ms/step - loss: 0.4052 - accuracy: 0.8271 - val_loss: 0.2671 - val_accuracy: 0.8837\n",
      "INFO:tensorflow:Assets written to: CNN.model\\assets\n"
     ]
    },
    {
     "name": "stderr",
     "output_type": "stream",
     "text": [
      "D:\\ProgramData\\Anaconda3\\lib\\site-packages\\tensorflow\\python\\client\\session.py:1761: UserWarning: An interactive session is already active. This can cause out-of-memory errors in some cases. You must explicitly call `InteractiveSession.close()` to release resources held by the other session(s).\n",
      "  warnings.warn('An interactive session is already active. This can '\n"
     ]
    },
    {
     "name": "stdout",
     "output_type": "stream",
     "text": [
      "Epoch 1/10\n",
      "66/66 [==============================] - 1s 9ms/step - loss: 0.6857 - accuracy: 0.5610 - val_loss: 0.6364 - val_accuracy: 0.7271\n",
      "Epoch 2/10\n",
      "66/66 [==============================] - 0s 7ms/step - loss: 0.6350 - accuracy: 0.6648 - val_loss: 0.5702 - val_accuracy: 0.7338\n",
      "Epoch 3/10\n",
      "66/66 [==============================] - 0s 7ms/step - loss: 0.5787 - accuracy: 0.6639 - val_loss: 0.5618 - val_accuracy: 0.6734\n",
      "Epoch 4/10\n",
      "66/66 [==============================] - 0s 7ms/step - loss: 0.5160 - accuracy: 0.7409 - val_loss: 0.5016 - val_accuracy: 0.7606\n",
      "Epoch 5/10\n",
      "66/66 [==============================] - 0s 7ms/step - loss: 0.4868 - accuracy: 0.7698 - val_loss: 0.4708 - val_accuracy: 0.7875\n",
      "Epoch 6/10\n",
      "66/66 [==============================] - 0s 7ms/step - loss: 0.4852 - accuracy: 0.7758 - val_loss: 0.4334 - val_accuracy: 0.8166\n",
      "Epoch 7/10\n",
      "66/66 [==============================] - 0s 7ms/step - loss: 0.4322 - accuracy: 0.7951 - val_loss: 0.4036 - val_accuracy: 0.8546\n",
      "Epoch 8/10\n",
      "66/66 [==============================] - 0s 7ms/step - loss: 0.4175 - accuracy: 0.8280 - val_loss: 0.3777 - val_accuracy: 0.8501\n",
      "Epoch 9/10\n",
      "66/66 [==============================] - 0s 7ms/step - loss: 0.3302 - accuracy: 0.8831 - val_loss: 0.3233 - val_accuracy: 0.8949\n",
      "Epoch 10/10\n",
      "66/66 [==============================] - 0s 7ms/step - loss: 0.3483 - accuracy: 0.8785 - val_loss: 0.2957 - val_accuracy: 0.8949\n",
      "INFO:tensorflow:Assets written to: CNN.model\\assets\n"
     ]
    },
    {
     "name": "stderr",
     "output_type": "stream",
     "text": [
      "D:\\ProgramData\\Anaconda3\\lib\\site-packages\\tensorflow\\python\\client\\session.py:1761: UserWarning: An interactive session is already active. This can cause out-of-memory errors in some cases. You must explicitly call `InteractiveSession.close()` to release resources held by the other session(s).\n",
      "  warnings.warn('An interactive session is already active. This can '\n"
     ]
    },
    {
     "name": "stdout",
     "output_type": "stream",
     "text": [
      "Epoch 1/10\n",
      "66/66 [==============================] - 4s 36ms/step - loss: 0.6890 - accuracy: 0.5397 - val_loss: 0.6462 - val_accuracy: 0.7315\n",
      "Epoch 2/10\n",
      "66/66 [==============================] - 0s 7ms/step - loss: 0.6345 - accuracy: 0.6597 - val_loss: 0.5577 - val_accuracy: 0.7315\n",
      "Epoch 3/10\n",
      "66/66 [==============================] - 0s 6ms/step - loss: 0.5499 - accuracy: 0.7390 - val_loss: 0.4994 - val_accuracy: 0.7629\n",
      "Epoch 4/10\n",
      "66/66 [==============================] - 0s 7ms/step - loss: 0.4765 - accuracy: 0.7798 - val_loss: 0.4485 - val_accuracy: 0.8031\n",
      "Epoch 5/10\n",
      "66/66 [==============================] - 0s 6ms/step - loss: 0.4381 - accuracy: 0.8037 - val_loss: 0.4111 - val_accuracy: 0.8121\n",
      "Epoch 6/10\n",
      "66/66 [==============================] - 0s 6ms/step - loss: 0.4177 - accuracy: 0.8323 - val_loss: 0.3893 - val_accuracy: 0.8456\n",
      "Epoch 7/10\n",
      "66/66 [==============================] - 0s 7ms/step - loss: 0.3681 - accuracy: 0.8385 - val_loss: 0.3370 - val_accuracy: 0.8837\n",
      "Epoch 8/10\n",
      "66/66 [==============================] - 0s 7ms/step - loss: 0.3461 - accuracy: 0.8546 - val_loss: 0.2982 - val_accuracy: 0.8993\n",
      "Epoch 9/10\n",
      "66/66 [==============================] - 0s 6ms/step - loss: 0.2976 - accuracy: 0.8785 - val_loss: 0.2757 - val_accuracy: 0.8993\n",
      "Epoch 10/10\n",
      "66/66 [==============================] - ETA: 0s - loss: 0.3202 - accuracy: 0.87 - 0s 7ms/step - loss: 0.3170 - accuracy: 0.8757 - val_loss: 0.2522 - val_accuracy: 0.9195\n",
      "INFO:tensorflow:Assets written to: CNN.model\\assets\n"
     ]
    },
    {
     "name": "stderr",
     "output_type": "stream",
     "text": [
      "D:\\ProgramData\\Anaconda3\\lib\\site-packages\\tensorflow\\python\\client\\session.py:1761: UserWarning: An interactive session is already active. This can cause out-of-memory errors in some cases. You must explicitly call `InteractiveSession.close()` to release resources held by the other session(s).\n",
      "  warnings.warn('An interactive session is already active. This can '\n"
     ]
    },
    {
     "name": "stdout",
     "output_type": "stream",
     "text": [
      "Epoch 1/10\n",
      "66/66 [==============================] - 4s 36ms/step - loss: 12.5955 - accuracy: 0.5109 - val_loss: 0.6932 - val_accuracy: 0.5011\n",
      "Epoch 2/10\n",
      "66/66 [==============================] - 1s 17ms/step - loss: 0.6948 - accuracy: 0.4724 - val_loss: 0.6931 - val_accuracy: 0.5011\n",
      "Epoch 3/10\n",
      "66/66 [==============================] - 1s 17ms/step - loss: 0.6936 - accuracy: 0.4535 - val_loss: 0.6932 - val_accuracy: 0.4989\n",
      "Epoch 4/10\n",
      "66/66 [==============================] - 1s 17ms/step - loss: 0.6936 - accuracy: 0.5114 - val_loss: 0.6934 - val_accuracy: 0.4989\n",
      "Epoch 5/10\n",
      "66/66 [==============================] - 1s 17ms/step - loss: 0.6931 - accuracy: 0.5091 - val_loss: 0.6933 - val_accuracy: 0.4989\n",
      "Epoch 6/10\n",
      "66/66 [==============================] - 1s 17ms/step - loss: 0.6932 - accuracy: 0.4826 - val_loss: 0.6932 - val_accuracy: 0.4989\n",
      "Epoch 7/10\n",
      "66/66 [==============================] - 1s 17ms/step - loss: 0.6928 - accuracy: 0.5287 - val_loss: 0.6933 - val_accuracy: 0.4989\n",
      "Epoch 8/10\n",
      "66/66 [==============================] - 1s 17ms/step - loss: 0.6933 - accuracy: 0.5107 - val_loss: 0.6933 - val_accuracy: 0.4989\n",
      "Epoch 9/10\n",
      "66/66 [==============================] - 1s 17ms/step - loss: 0.6918 - accuracy: 0.5482 - val_loss: 0.6932 - val_accuracy: 0.4989\n",
      "Epoch 10/10\n",
      "66/66 [==============================] - 1s 16ms/step - loss: 0.6929 - accuracy: 0.5246 - val_loss: 0.6932 - val_accuracy: 0.4989\n",
      "INFO:tensorflow:Assets written to: CNN.model\\assets\n",
      "[[256, 7, 0.0005, 0.4, 3, 0, 128], [64, 2, 0.001, 0.5, 5, 0, 512], [64, 7, 0.0005, 0.2, 5, 0, 128], [256, 3, 0.001, 0.0, 6, 0, 512], [128, 7, 0.0001, 0.2, 6, 0, 512], [64, 5, 0.0001, 0.3, 6, 0, 512], [32, 5, 0.0005, 0.1, 3, 1, 128], [64, 2, 0.0001, 0.0, 3, 1, 512], [32, 7, 0.0001, 0.1, 4, 0, 512], [128, 3, 0.005, 0.1, 2, 0, 512]]\n",
      "[0.27510246333717436, 0.2668206041458828, 0.18488238169782414, 0.24996131228442012, 0.19326367796301386, 0.1784378816062696, 0.16256376927743507, 0.16719725180265937, 0.17897903786202563, 0.25019797156204987]\n",
      "Generasi Ke  1\n",
      "Parent 1 dan 2  [64, 2, 0.001, 0.5, 5, 0, 512] [128, 7, 0.0001, 0.2, 6, 0, 512]\n",
      "Child 1 dan 2 [64, 2, 0.001, 0.5, 6, 0, 512] [128, 7, 0.0001, 0.2, 5, 0, 512]\n",
      "Mutasi 1 dan 2 [64, 2, 0.001, 0.5, 6, 0, 512] [128, 7, 0.0001, 0.2, 5, 0, 512]\n",
      "Epoch 1/10\n"
     ]
    },
    {
     "name": "stderr",
     "output_type": "stream",
     "text": [
      "D:\\ProgramData\\Anaconda3\\lib\\site-packages\\tensorflow\\python\\client\\session.py:1761: UserWarning: An interactive session is already active. This can cause out-of-memory errors in some cases. You must explicitly call `InteractiveSession.close()` to release resources held by the other session(s).\n",
      "  warnings.warn('An interactive session is already active. This can '\n"
     ]
    },
    {
     "name": "stdout",
     "output_type": "stream",
     "text": [
      "66/66 [==============================] - 2s 19ms/step - loss: 0.6933 - accuracy: 0.5156 - val_loss: 0.6927 - val_accuracy: 0.4989\n",
      "Epoch 2/10\n",
      "66/66 [==============================] - 1s 9ms/step - loss: 0.6938 - accuracy: 0.4974 - val_loss: 0.6930 - val_accuracy: 0.4989\n",
      "Epoch 3/10\n",
      "66/66 [==============================] - 1s 9ms/step - loss: 0.6939 - accuracy: 0.4737 - val_loss: 0.6932 - val_accuracy: 0.4989\n",
      "Epoch 4/10\n",
      "66/66 [==============================] - 1s 9ms/step - loss: 0.6935 - accuracy: 0.5116 - val_loss: 0.6933 - val_accuracy: 0.4989\n",
      "Epoch 5/10\n",
      "66/66 [==============================] - 1s 9ms/step - loss: 0.6926 - accuracy: 0.5151 - val_loss: 0.6880 - val_accuracy: 0.4989\n",
      "Epoch 6/10\n",
      "66/66 [==============================] - 1s 9ms/step - loss: 0.6766 - accuracy: 0.5761 - val_loss: 0.5498 - val_accuracy: 0.7427\n",
      "Epoch 7/10\n",
      "66/66 [==============================] - 1s 9ms/step - loss: 0.5454 - accuracy: 0.7558 - val_loss: 0.3630 - val_accuracy: 0.8613\n",
      "Epoch 8/10\n",
      "66/66 [==============================] - 1s 9ms/step - loss: 0.3119 - accuracy: 0.8874 - val_loss: 0.2558 - val_accuracy: 0.8904\n",
      "Epoch 9/10\n",
      "66/66 [==============================] - 1s 9ms/step - loss: 0.2577 - accuracy: 0.9058 - val_loss: 0.1729 - val_accuracy: 0.9262\n",
      "Epoch 10/10\n",
      "66/66 [==============================] - 1s 9ms/step - loss: 0.1985 - accuracy: 0.9292 - val_loss: 0.1670 - val_accuracy: 0.9441\n",
      "INFO:tensorflow:Assets written to: CNN.model\\assets\n"
     ]
    },
    {
     "name": "stderr",
     "output_type": "stream",
     "text": [
      "D:\\ProgramData\\Anaconda3\\lib\\site-packages\\tensorflow\\python\\client\\session.py:1761: UserWarning: An interactive session is already active. This can cause out-of-memory errors in some cases. You must explicitly call `InteractiveSession.close()` to release resources held by the other session(s).\n",
      "  warnings.warn('An interactive session is already active. This can '\n"
     ]
    },
    {
     "name": "stdout",
     "output_type": "stream",
     "text": [
      "Epoch 1/10\n",
      "66/66 [==============================] - 2s 22ms/step - loss: 0.6908 - accuracy: 0.5159 - val_loss: 0.6648 - val_accuracy: 0.7047\n",
      "Epoch 2/10\n",
      "66/66 [==============================] - 1s 20ms/step - loss: 0.6388 - accuracy: 0.6522 - val_loss: 0.5938 - val_accuracy: 0.7226\n",
      "Epoch 3/10\n",
      "66/66 [==============================] - 1s 21ms/step - loss: 0.5292 - accuracy: 0.7409 - val_loss: 0.4740 - val_accuracy: 0.7808\n",
      "Epoch 4/10\n",
      "66/66 [==============================] - 1s 20ms/step - loss: 0.4751 - accuracy: 0.7921 - val_loss: 0.4329 - val_accuracy: 0.8121\n",
      "Epoch 5/10\n",
      "66/66 [==============================] - 1s 20ms/step - loss: 0.4727 - accuracy: 0.7950 - val_loss: 0.4474 - val_accuracy: 0.7964\n",
      "Epoch 6/10\n",
      "66/66 [==============================] - 1s 20ms/step - loss: 0.3892 - accuracy: 0.8580 - val_loss: 0.3880 - val_accuracy: 0.8434\n",
      "Epoch 7/10\n",
      "66/66 [==============================] - 1s 20ms/step - loss: 0.3550 - accuracy: 0.8494 - val_loss: 0.2799 - val_accuracy: 0.8971\n",
      "Epoch 8/10\n",
      "66/66 [==============================] - 1s 20ms/step - loss: 0.2802 - accuracy: 0.8826 - val_loss: 0.2787 - val_accuracy: 0.8904\n",
      "Epoch 9/10\n",
      "66/66 [==============================] - 1s 20ms/step - loss: 0.1969 - accuracy: 0.9227 - val_loss: 0.2785 - val_accuracy: 0.8725\n",
      "Epoch 10/10\n",
      "66/66 [==============================] - 1s 21ms/step - loss: 0.2339 - accuracy: 0.9093 - val_loss: 0.2060 - val_accuracy: 0.9284\n",
      "INFO:tensorflow:Assets written to: CNN.model\\assets\n",
      "[[32, 5, 0.0005, 0.1, 3, 1, 128], [64, 2, 0.0001, 0.0, 3, 1, 512], [64, 5, 0.0001, 0.3, 6, 0, 512], [32, 7, 0.0001, 0.1, 4, 0, 512], [64, 7, 0.0005, 0.2, 5, 0, 128], [128, 7, 0.0001, 0.2, 6, 0, 512], [256, 3, 0.001, 0.0, 6, 0, 512], [128, 3, 0.005, 0.1, 2, 0, 512], [128, 7, 0.0001, 0.2, 5, 0, 512], [64, 2, 0.001, 0.5, 6, 0, 512]]\n",
      "[0.16256376927743507, 0.16719725180265937, 0.1784378816062696, 0.17897903786202563, 0.18488238169782414, 0.19326367796301386, 0.24996131228442012, 0.25019797156204987, 0.20739231779344974, 0.26621562845180585]\n",
      "Generasi Ke  2\n",
      "Parent 1 dan 2  [64, 5, 0.0001, 0.3, 6, 0, 512] [128, 3, 0.005, 0.1, 2, 0, 512]\n",
      "Child 1 dan 2 [64, 5, 0.0001, 0.3, 2, 0, 512] [128, 3, 0.005, 0.1, 6, 0, 512]\n",
      "Mutasi 1 dan 2 [64, 5, 0.0001, 0.3, 2, 0, 512] [128, 3, 0.005, 0.1, 6, 0, 512]\n",
      "Epoch 1/10\n"
     ]
    },
    {
     "name": "stderr",
     "output_type": "stream",
     "text": [
      "D:\\ProgramData\\Anaconda3\\lib\\site-packages\\tensorflow\\python\\client\\session.py:1761: UserWarning: An interactive session is already active. This can cause out-of-memory errors in some cases. You must explicitly call `InteractiveSession.close()` to release resources held by the other session(s).\n",
      "  warnings.warn('An interactive session is already active. This can '\n"
     ]
    },
    {
     "name": "stdout",
     "output_type": "stream",
     "text": [
      "66/66 [==============================] - 1s 13ms/step - loss: 0.7340 - accuracy: 0.5256 - val_loss: 0.6298 - val_accuracy: 0.7517\n",
      "Epoch 2/10\n",
      "66/66 [==============================] - 1s 11ms/step - loss: 0.6042 - accuracy: 0.6744 - val_loss: 0.4994 - val_accuracy: 0.7651\n",
      "Epoch 3/10\n",
      "66/66 [==============================] - 1s 11ms/step - loss: 0.4723 - accuracy: 0.7857 - val_loss: 0.3780 - val_accuracy: 0.8591\n",
      "Epoch 4/10\n",
      "66/66 [==============================] - 1s 11ms/step - loss: 0.3641 - accuracy: 0.8535 - val_loss: 0.3403 - val_accuracy: 0.8725\n",
      "Epoch 5/10\n",
      "66/66 [==============================] - 1s 11ms/step - loss: 0.3223 - accuracy: 0.8760 - val_loss: 0.2988 - val_accuracy: 0.8926\n",
      "Epoch 6/10\n",
      "66/66 [==============================] - 1s 11ms/step - loss: 0.3035 - accuracy: 0.8820 - val_loss: 0.2856 - val_accuracy: 0.8904\n",
      "Epoch 7/10\n",
      "66/66 [==============================] - 1s 11ms/step - loss: 0.2566 - accuracy: 0.8993 - val_loss: 0.3264 - val_accuracy: 0.8680\n",
      "Epoch 8/10\n",
      "66/66 [==============================] - 1s 11ms/step - loss: 0.2758 - accuracy: 0.8979 - val_loss: 0.3105 - val_accuracy: 0.8747\n",
      "Epoch 9/10\n",
      "66/66 [==============================] - 1s 11ms/step - loss: 0.2095 - accuracy: 0.9102 - val_loss: 0.2574 - val_accuracy: 0.9060\n",
      "Epoch 10/10\n",
      "66/66 [==============================] - 1s 11ms/step - loss: 0.1989 - accuracy: 0.9354 - val_loss: 0.2330 - val_accuracy: 0.9038\n",
      "INFO:tensorflow:Assets written to: CNN.model\\assets\n"
     ]
    },
    {
     "name": "stderr",
     "output_type": "stream",
     "text": [
      "D:\\ProgramData\\Anaconda3\\lib\\site-packages\\tensorflow\\python\\client\\session.py:1761: UserWarning: An interactive session is already active. This can cause out-of-memory errors in some cases. You must explicitly call `InteractiveSession.close()` to release resources held by the other session(s).\n",
      "  warnings.warn('An interactive session is already active. This can '\n"
     ]
    },
    {
     "name": "stdout",
     "output_type": "stream",
     "text": [
      "Epoch 1/10\n",
      "66/66 [==============================] - 6s 54ms/step - loss: 0.8476 - accuracy: 0.4796 - val_loss: 0.6941 - val_accuracy: 0.4989\n",
      "Epoch 2/10\n",
      "66/66 [==============================] - 1s 15ms/step - loss: 0.6938 - accuracy: 0.4862 - val_loss: 0.6932 - val_accuracy: 0.5011\n",
      "Epoch 3/10\n",
      "66/66 [==============================] - 1s 15ms/step - loss: 0.6939 - accuracy: 0.4605 - val_loss: 0.6933 - val_accuracy: 0.4989\n",
      "Epoch 4/10\n",
      "66/66 [==============================] - 1s 14ms/step - loss: 0.6939 - accuracy: 0.5114 - val_loss: 0.6935 - val_accuracy: 0.4989\n",
      "Epoch 5/10\n",
      "66/66 [==============================] - 1s 14ms/step - loss: 0.6932 - accuracy: 0.5091 - val_loss: 0.6932 - val_accuracy: 0.4989\n",
      "Epoch 6/10\n",
      "66/66 [==============================] - 1s 14ms/step - loss: 0.6933 - accuracy: 0.5007 - val_loss: 0.6932 - val_accuracy: 0.4989\n",
      "Epoch 7/10\n",
      "66/66 [==============================] - 1s 14ms/step - loss: 0.6929 - accuracy: 0.5287 - val_loss: 0.6932 - val_accuracy: 0.4989\n",
      "Epoch 8/10\n",
      "66/66 [==============================] - 1s 15ms/step - loss: 0.6934 - accuracy: 0.5107 - val_loss: 0.6933 - val_accuracy: 0.4989\n",
      "Epoch 9/10\n",
      "66/66 [==============================] - 1s 15ms/step - loss: 0.6919 - accuracy: 0.5482 - val_loss: 0.6932 - val_accuracy: 0.4989\n",
      "Epoch 10/10\n",
      "66/66 [==============================] - 1s 14ms/step - loss: 0.6930 - accuracy: 0.5198 - val_loss: 0.6932 - val_accuracy: 0.4989\n",
      "INFO:tensorflow:Assets written to: CNN.model\\assets\n",
      "[[32, 5, 0.0005, 0.1, 3, 1, 128], [64, 2, 0.0001, 0.0, 3, 1, 512], [64, 5, 0.0001, 0.3, 6, 0, 512], [32, 7, 0.0001, 0.1, 4, 0, 512], [64, 7, 0.0005, 0.2, 5, 0, 128], [128, 7, 0.0001, 0.2, 6, 0, 512], [128, 7, 0.0001, 0.2, 5, 0, 512], [256, 3, 0.001, 0.0, 6, 0, 512], [128, 3, 0.005, 0.1, 6, 0, 512], [64, 5, 0.0001, 0.3, 2, 0, 512]]\n",
      "[0.16256376927743507, 0.16719725180265937, 0.1784378816062696, 0.17897903786202563, 0.18488238169782414, 0.19326367796301386, 0.20739231779344974, 0.24996131228442012, 0.2491720912377246, 0.17851267954733543]\n",
      "Generasi Ke  3\n",
      "Parent 1 dan 2  [64, 5, 0.0001, 0.3, 6, 0, 512] [128, 7, 0.0001, 0.2, 6, 0, 512]\n",
      "Child 1 dan 2 [64, 5, 0.0001, 0.3, 6, 0, 512] [128, 7, 0.0001, 0.2, 6, 0, 512]\n",
      "Mutasi 1 dan 2 [64, 5, 0.0001, 0.3, 6, 0, 512] [128, 7, 0.0001, 0.2, 6, 0, 512]\n",
      "Epoch 1/10\n"
     ]
    },
    {
     "name": "stderr",
     "output_type": "stream",
     "text": [
      "D:\\ProgramData\\Anaconda3\\lib\\site-packages\\tensorflow\\python\\client\\session.py:1761: UserWarning: An interactive session is already active. This can cause out-of-memory errors in some cases. You must explicitly call `InteractiveSession.close()` to release resources held by the other session(s).\n",
      "  warnings.warn('An interactive session is already active. This can '\n"
     ]
    },
    {
     "name": "stdout",
     "output_type": "stream",
     "text": [
      "66/66 [==============================] - 2s 24ms/step - loss: 0.6934 - accuracy: 0.4987 - val_loss: 0.6928 - val_accuracy: 0.5011\n",
      "Epoch 2/10\n",
      "66/66 [==============================] - 1s 21ms/step - loss: 0.6935 - accuracy: 0.4901 - val_loss: 0.6903 - val_accuracy: 0.6957\n",
      "Epoch 3/10\n",
      "66/66 [==============================] - 1s 22ms/step - loss: 0.6778 - accuracy: 0.5896 - val_loss: 0.5700 - val_accuracy: 0.7092\n",
      "Epoch 4/10\n",
      "66/66 [==============================] - 1s 21ms/step - loss: 0.5537 - accuracy: 0.7192 - val_loss: 0.5199 - val_accuracy: 0.7539\n",
      "Epoch 5/10\n",
      "66/66 [==============================] - 1s 21ms/step - loss: 0.5218 - accuracy: 0.7652 - val_loss: 0.5274 - val_accuracy: 0.7584\n",
      "Epoch 6/10\n",
      "66/66 [==============================] - 1s 21ms/step - loss: 0.4800 - accuracy: 0.7879 - val_loss: 0.4381 - val_accuracy: 0.8210\n",
      "Epoch 7/10\n",
      "66/66 [==============================] - 1s 21ms/step - loss: 0.4186 - accuracy: 0.8186 - val_loss: 0.4067 - val_accuracy: 0.8210\n",
      "Epoch 8/10\n",
      "66/66 [==============================] - 1s 21ms/step - loss: 0.4081 - accuracy: 0.8296 - val_loss: 0.3643 - val_accuracy: 0.8322\n",
      "Epoch 9/10\n",
      "66/66 [==============================] - 1s 21ms/step - loss: 0.3195 - accuracy: 0.8662 - val_loss: 0.3125 - val_accuracy: 0.8725\n",
      "Epoch 10/10\n",
      "66/66 [==============================] - 1s 21ms/step - loss: 0.3258 - accuracy: 0.8719 - val_loss: 0.2642 - val_accuracy: 0.8926\n",
      "INFO:tensorflow:Assets written to: CNNmut.model\\assets\n",
      "[[32, 5, 0.0005, 0.1, 3, 1, 128], [64, 2, 0.0001, 0.0, 3, 1, 512], [64, 5, 0.0001, 0.3, 6, 0, 512], [64, 5, 0.0001, 0.3, 2, 0, 512], [32, 7, 0.0001, 0.1, 4, 0, 512], [64, 7, 0.0005, 0.2, 5, 0, 128], [128, 7, 0.0001, 0.2, 6, 0, 512], [128, 7, 0.0001, 0.2, 5, 0, 512], [128, 7, 0.0001, 0.2, 6, 0, 512], [64, 5, 0.0001, 0.3, 6, 0, 512]]\n",
      "[0.16256376927743507, 0.16719725180265937, 0.1784378816062696, 0.17851267954733543, 0.17897903786202563, 0.18488238169782414, 0.19326367796301386, 0.20739231779344974, 0.18801985616926775, 0.1784378816062696]\n",
      "Generasi Ke  4\n",
      "Parent 1 dan 2  [64, 5, 0.0001, 0.3, 6, 0, 512] [64, 7, 0.0005, 0.2, 5, 0, 128]\n",
      "Child 1 dan 2 [64, 5, 0.0001, 0.3, 5, 0, 128] [64, 7, 0.0005, 0.2, 6, 0, 512]\n",
      "Mutasi 1 dan 2 [64, 5, 0.0001, 0.3, 5, 0, 128] [64, 7, 0.0005, 0.2, 6, 0, 512]\n",
      "Epoch 1/10\n"
     ]
    },
    {
     "name": "stderr",
     "output_type": "stream",
     "text": [
      "D:\\ProgramData\\Anaconda3\\lib\\site-packages\\tensorflow\\python\\client\\session.py:1761: UserWarning: An interactive session is already active. This can cause out-of-memory errors in some cases. You must explicitly call `InteractiveSession.close()` to release resources held by the other session(s).\n",
      "  warnings.warn('An interactive session is already active. This can '\n"
     ]
    },
    {
     "name": "stdout",
     "output_type": "stream",
     "text": [
      "66/66 [==============================] - 1s 13ms/step - loss: 0.6915 - accuracy: 0.5330 - val_loss: 0.6770 - val_accuracy: 0.5973\n",
      "Epoch 2/10\n",
      "66/66 [==============================] - 1s 10ms/step - loss: 0.6761 - accuracy: 0.5471 - val_loss: 0.6022 - val_accuracy: 0.7271\n",
      "Epoch 3/10\n",
      "66/66 [==============================] - 1s 10ms/step - loss: 0.6079 - accuracy: 0.6742 - val_loss: 0.5268 - val_accuracy: 0.7360\n",
      "Epoch 4/10\n",
      "66/66 [==============================] - 1s 10ms/step - loss: 0.5335 - accuracy: 0.7406 - val_loss: 0.4797 - val_accuracy: 0.7875\n",
      "Epoch 5/10\n",
      "66/66 [==============================] - 1s 10ms/step - loss: 0.5124 - accuracy: 0.7532 - val_loss: 0.4507 - val_accuracy: 0.8076\n",
      "Epoch 6/10\n",
      "66/66 [==============================] - 1s 10ms/step - loss: 0.4259 - accuracy: 0.8373 - val_loss: 0.4115 - val_accuracy: 0.8412\n",
      "Epoch 7/10\n",
      "66/66 [==============================] - 1s 10ms/step - loss: 0.4090 - accuracy: 0.8214 - val_loss: 0.3685 - val_accuracy: 0.8680\n",
      "Epoch 8/10\n",
      "66/66 [==============================] - 1s 10ms/step - loss: 0.3700 - accuracy: 0.8490 - val_loss: 0.3346 - val_accuracy: 0.8635\n",
      "Epoch 9/10\n",
      "66/66 [==============================] - 1s 10ms/step - loss: 0.2959 - accuracy: 0.8802 - val_loss: 0.2908 - val_accuracy: 0.9016\n",
      "Epoch 10/10\n",
      "66/66 [==============================] - 1s 10ms/step - loss: 0.3239 - accuracy: 0.8727 - val_loss: 0.2648 - val_accuracy: 0.9016\n",
      "INFO:tensorflow:Assets written to: CNN.model\\assets\n"
     ]
    },
    {
     "name": "stderr",
     "output_type": "stream",
     "text": [
      "D:\\ProgramData\\Anaconda3\\lib\\site-packages\\tensorflow\\python\\client\\session.py:1761: UserWarning: An interactive session is already active. This can cause out-of-memory errors in some cases. You must explicitly call `InteractiveSession.close()` to release resources held by the other session(s).\n",
      "  warnings.warn('An interactive session is already active. This can '\n"
     ]
    },
    {
     "name": "stdout",
     "output_type": "stream",
     "text": [
      "Epoch 1/10\n",
      "66/66 [==============================] - 2s 21ms/step - loss: 0.6937 - accuracy: 0.5041 - val_loss: 0.6932 - val_accuracy: 0.4989\n",
      "Epoch 2/10\n",
      "66/66 [==============================] - 1s 12ms/step - loss: 0.6931 - accuracy: 0.5213 - val_loss: 0.6932 - val_accuracy: 0.4989\n",
      "Epoch 3/10\n",
      "66/66 [==============================] - 1s 12ms/step - loss: 0.6934 - accuracy: 0.4935 - val_loss: 0.6932 - val_accuracy: 0.4989\n",
      "Epoch 4/10\n",
      "66/66 [==============================] - 1s 12ms/step - loss: 0.6932 - accuracy: 0.5114 - val_loss: 0.6933 - val_accuracy: 0.4989\n",
      "Epoch 5/10\n",
      "66/66 [==============================] - 1s 11ms/step - loss: 0.6931 - accuracy: 0.5091 - val_loss: 0.6932 - val_accuracy: 0.4989\n",
      "Epoch 6/10\n",
      "66/66 [==============================] - 1s 11ms/step - loss: 0.6932 - accuracy: 0.5034 - val_loss: 0.6932 - val_accuracy: 0.4989\n",
      "Epoch 7/10\n",
      "66/66 [==============================] - 1s 11ms/step - loss: 0.6928 - accuracy: 0.5287 - val_loss: 0.6932 - val_accuracy: 0.4989\n",
      "Epoch 8/10\n",
      "66/66 [==============================] - 1s 11ms/step - loss: 0.6932 - accuracy: 0.5107 - val_loss: 0.6933 - val_accuracy: 0.4989\n",
      "Epoch 9/10\n",
      "66/66 [==============================] - 1s 11ms/step - loss: 0.6920 - accuracy: 0.5482 - val_loss: 0.6932 - val_accuracy: 0.4989\n",
      "Epoch 10/10\n",
      "66/66 [==============================] - 1s 11ms/step - loss: 0.6927 - accuracy: 0.5246 - val_loss: 0.6932 - val_accuracy: 0.4989\n",
      "INFO:tensorflow:Assets written to: CNN.model\\assets\n",
      "[[32, 5, 0.0005, 0.1, 3, 1, 128], [64, 2, 0.0001, 0.0, 3, 1, 512], [64, 5, 0.0001, 0.3, 6, 0, 512], [64, 5, 0.0001, 0.3, 6, 0, 512], [64, 5, 0.0001, 0.3, 2, 0, 512], [32, 7, 0.0001, 0.1, 4, 0, 512], [64, 7, 0.0005, 0.2, 5, 0, 128], [128, 7, 0.0001, 0.2, 6, 0, 512], [64, 7, 0.0005, 0.2, 6, 0, 512], [64, 5, 0.0001, 0.3, 5, 0, 128]]\n",
      "[0.16256376927743507, 0.16719725180265937, 0.1784378816062696, 0.1784378816062696, 0.17851267954733543, 0.17897903786202563, 0.18488238169782414, 0.18801985616926775, 0.24994575427929785, 0.17165467828915262]\n",
      "Generasi Ke  5\n",
      "Parent 1 dan 2  [64, 5, 0.0001, 0.3, 6, 0, 512] [32, 7, 0.0001, 0.1, 4, 0, 512]\n",
      "Child 1 dan 2 [64, 5, 0.0001, 0.3, 4, 0, 512] [32, 7, 0.0001, 0.1, 6, 0, 512]\n",
      "Mutasi 1 dan 2 [64, 5, 0.0001, 0.3, 4, 0, 512] [32, 7, 0.0001, 0.1, 6, 0, 512]\n",
      "Epoch 1/10\n"
     ]
    },
    {
     "name": "stderr",
     "output_type": "stream",
     "text": [
      "D:\\ProgramData\\Anaconda3\\lib\\site-packages\\tensorflow\\python\\client\\session.py:1761: UserWarning: An interactive session is already active. This can cause out-of-memory errors in some cases. You must explicitly call `InteractiveSession.close()` to release resources held by the other session(s).\n",
      "  warnings.warn('An interactive session is already active. This can '\n"
     ]
    },
    {
     "name": "stdout",
     "output_type": "stream",
     "text": [
      "66/66 [==============================] - 1s 12ms/step - loss: 0.6916 - accuracy: 0.5422 - val_loss: 0.6730 - val_accuracy: 0.5772\n",
      "Epoch 2/10\n",
      "66/66 [==============================] - 1s 10ms/step - loss: 0.6646 - accuracy: 0.6175 - val_loss: 0.5807 - val_accuracy: 0.7136\n",
      "Epoch 3/10\n",
      "66/66 [==============================] - 1s 10ms/step - loss: 0.5882 - accuracy: 0.7021 - val_loss: 0.5111 - val_accuracy: 0.7651\n",
      "Epoch 4/10\n",
      "66/66 [==============================] - 1s 10ms/step - loss: 0.4999 - accuracy: 0.7609 - val_loss: 0.4685 - val_accuracy: 0.7942\n",
      "Epoch 5/10\n",
      "66/66 [==============================] - 1s 10ms/step - loss: 0.4461 - accuracy: 0.8246 - val_loss: 0.4083 - val_accuracy: 0.8591\n",
      "Epoch 6/10\n",
      "66/66 [==============================] - 1s 11ms/step - loss: 0.4153 - accuracy: 0.8438 - val_loss: 0.3689 - val_accuracy: 0.8613\n",
      "Epoch 7/10\n",
      "66/66 [==============================] - 1s 10ms/step - loss: 0.3603 - accuracy: 0.8427 - val_loss: 0.3155 - val_accuracy: 0.8971\n",
      "Epoch 8/10\n",
      "66/66 [==============================] - 1s 11ms/step - loss: 0.3265 - accuracy: 0.8674 - val_loss: 0.2806 - val_accuracy: 0.8971\n",
      "Epoch 9/10\n",
      "66/66 [==============================] - 1s 10ms/step - loss: 0.2585 - accuracy: 0.8989 - val_loss: 0.2578 - val_accuracy: 0.8971\n",
      "Epoch 10/10\n",
      "66/66 [==============================] - 1s 10ms/step - loss: 0.2507 - accuracy: 0.9002 - val_loss: 0.2219 - val_accuracy: 0.9172\n",
      "INFO:tensorflow:Assets written to: CNN.model\\assets\n"
     ]
    },
    {
     "name": "stderr",
     "output_type": "stream",
     "text": [
      "D:\\ProgramData\\Anaconda3\\lib\\site-packages\\tensorflow\\python\\client\\session.py:1761: UserWarning: An interactive session is already active. This can cause out-of-memory errors in some cases. You must explicitly call `InteractiveSession.close()` to release resources held by the other session(s).\n",
      "  warnings.warn('An interactive session is already active. This can '\n"
     ]
    },
    {
     "name": "stdout",
     "output_type": "stream",
     "text": [
      "Epoch 1/10\n",
      "66/66 [==============================] - 3s 26ms/step - loss: 0.6931 - accuracy: 0.4982 - val_loss: 0.6915 - val_accuracy: 0.4989\n",
      "Epoch 2/10\n",
      "66/66 [==============================] - 1s 8ms/step - loss: 0.6912 - accuracy: 0.5658 - val_loss: 0.6799 - val_accuracy: 0.5145\n",
      "Epoch 3/10\n",
      "66/66 [==============================] - 1s 8ms/step - loss: 0.6719 - accuracy: 0.5878 - val_loss: 0.6051 - val_accuracy: 0.6465\n",
      "Epoch 4/10\n",
      "66/66 [==============================] - 1s 8ms/step - loss: 0.5728 - accuracy: 0.6904 - val_loss: 0.5336 - val_accuracy: 0.7517\n",
      "Epoch 5/10\n",
      "66/66 [==============================] - 1s 8ms/step - loss: 0.5450 - accuracy: 0.7394 - val_loss: 0.5203 - val_accuracy: 0.7472\n",
      "Epoch 6/10\n",
      "66/66 [==============================] - 1s 8ms/step - loss: 0.4883 - accuracy: 0.7781 - val_loss: 0.4826 - val_accuracy: 0.7830\n",
      "Epoch 7/10\n",
      "66/66 [==============================] - 1s 8ms/step - loss: 0.4798 - accuracy: 0.7633 - val_loss: 0.4740 - val_accuracy: 0.7942\n",
      "Epoch 8/10\n",
      "66/66 [==============================] - 1s 8ms/step - loss: 0.4829 - accuracy: 0.7750 - val_loss: 0.4590 - val_accuracy: 0.7964\n",
      "Epoch 9/10\n",
      "66/66 [==============================] - 1s 8ms/step - loss: 0.3985 - accuracy: 0.8387 - val_loss: 0.4054 - val_accuracy: 0.8277\n",
      "Epoch 10/10\n",
      "66/66 [==============================] - 1s 8ms/step - loss: 0.4550 - accuracy: 0.8016 - val_loss: 0.3999 - val_accuracy: 0.8255\n",
      "INFO:tensorflow:Assets written to: CNN.model\\assets\n",
      "[[32, 5, 0.0005, 0.1, 3, 1, 128], [64, 2, 0.0001, 0.0, 3, 1, 512], [64, 5, 0.0001, 0.3, 5, 0, 128], [64, 5, 0.0001, 0.3, 6, 0, 512], [64, 5, 0.0001, 0.3, 6, 0, 512], [64, 5, 0.0001, 0.3, 2, 0, 512], [32, 7, 0.0001, 0.1, 4, 0, 512], [64, 7, 0.0005, 0.2, 5, 0, 128], [32, 7, 0.0001, 0.1, 6, 0, 512], [64, 5, 0.0001, 0.3, 4, 0, 512]]\n",
      "[0.16256376927743507, 0.16719725180265937, 0.17165467828915262, 0.1784378816062696, 0.1784378816062696, 0.17851267954733543, 0.17897903786202563, 0.18488238169782414, 0.155955913753435, 0.21437258781560692]\n",
      "Generasi Ke  6\n",
      "Parent 1 dan 2  [64, 5, 0.0001, 0.3, 5, 0, 128] [64, 5, 0.0001, 0.3, 2, 0, 512]\n",
      "Child 1 dan 2 [64, 5, 0.0001, 0.3, 2, 0, 512] [64, 5, 0.0001, 0.3, 5, 0, 128]\n",
      "Mutasi 1 dan 2 [64, 5, 0.0001, 0.3, 2, 0, 512] [64, 5, 0.0001, 0.3, 5, 0, 128]\n",
      "Epoch 1/10\n"
     ]
    },
    {
     "name": "stderr",
     "output_type": "stream",
     "text": [
      "D:\\ProgramData\\Anaconda3\\lib\\site-packages\\tensorflow\\python\\client\\session.py:1761: UserWarning: An interactive session is already active. This can cause out-of-memory errors in some cases. You must explicitly call `InteractiveSession.close()` to release resources held by the other session(s).\n",
      "  warnings.warn('An interactive session is already active. This can '\n"
     ]
    },
    {
     "name": "stdout",
     "output_type": "stream",
     "text": [
      "66/66 [==============================] - 1s 13ms/step - loss: 0.6915 - accuracy: 0.5403 - val_loss: 0.6777 - val_accuracy: 0.5861\n",
      "Epoch 2/10\n",
      "66/66 [==============================] - 1s 10ms/step - loss: 0.6757 - accuracy: 0.5626 - val_loss: 0.6071 - val_accuracy: 0.7271\n",
      "Epoch 3/10\n",
      "66/66 [==============================] - 1s 10ms/step - loss: 0.6122 - accuracy: 0.6780 - val_loss: 0.5319 - val_accuracy: 0.7383\n",
      "Epoch 4/10\n",
      "66/66 [==============================] - 1s 10ms/step - loss: 0.5346 - accuracy: 0.7538 - val_loss: 0.4846 - val_accuracy: 0.7897\n",
      "Epoch 5/10\n",
      "66/66 [==============================] - 1s 10ms/step - loss: 0.5146 - accuracy: 0.7483 - val_loss: 0.4450 - val_accuracy: 0.8143\n",
      "Epoch 6/10\n",
      "66/66 [==============================] - 1s 10ms/step - loss: 0.4187 - accuracy: 0.8429 - val_loss: 0.4102 - val_accuracy: 0.8501\n",
      "Epoch 7/10\n",
      "66/66 [==============================] - 1s 10ms/step - loss: 0.4131 - accuracy: 0.8133 - val_loss: 0.3753 - val_accuracy: 0.8479\n",
      "Epoch 8/10\n",
      "66/66 [==============================] - 1s 10ms/step - loss: 0.3657 - accuracy: 0.8556 - val_loss: 0.3417 - val_accuracy: 0.8613\n",
      "Epoch 9/10\n",
      "66/66 [==============================] - 1s 11ms/step - loss: 0.2947 - accuracy: 0.8770 - val_loss: 0.2861 - val_accuracy: 0.8971\n",
      "Epoch 10/10\n",
      "66/66 [==============================] - 1s 10ms/step - loss: 0.3195 - accuracy: 0.8673 - val_loss: 0.2630 - val_accuracy: 0.8949\n",
      "INFO:tensorflow:Assets written to: CNNmut.model\\assets\n",
      "[[32, 7, 0.0001, 0.1, 6, 0, 512], [32, 5, 0.0005, 0.1, 3, 1, 128], [64, 2, 0.0001, 0.0, 3, 1, 512], [64, 5, 0.0001, 0.3, 5, 0, 128], [64, 5, 0.0001, 0.3, 6, 0, 512], [64, 5, 0.0001, 0.3, 6, 0, 512], [64, 5, 0.0001, 0.3, 2, 0, 512], [32, 7, 0.0001, 0.1, 4, 0, 512], [64, 5, 0.0001, 0.3, 5, 0, 128], [64, 5, 0.0001, 0.3, 2, 0, 512]]\n",
      "[0.155955913753435, 0.16256376927743507, 0.16719725180265937, 0.17165467828915262, 0.1784378816062696, 0.1784378816062696, 0.17851267954733543, 0.17897903786202563, 0.18333960746899075, 0.17851267954733543]\n",
      "Generasi Ke  7\n",
      "Parent 1 dan 2  [64, 2, 0.0001, 0.0, 3, 1, 512] [64, 5, 0.0001, 0.3, 6, 0, 512]\n",
      "Child 1 dan 2 [64, 2, 0.0001, 0.0, 6, 0, 512] [64, 5, 0.0001, 0.3, 3, 1, 512]\n",
      "Mutasi 1 dan 2 [64, 2, 0.0001, 0.0, 6, 0, 512] [64, 5, 0.0001, 0.3, 3, 1, 512]\n",
      "Epoch 1/10\n"
     ]
    },
    {
     "name": "stderr",
     "output_type": "stream",
     "text": [
      "D:\\ProgramData\\Anaconda3\\lib\\site-packages\\tensorflow\\python\\client\\session.py:1761: UserWarning: An interactive session is already active. This can cause out-of-memory errors in some cases. You must explicitly call `InteractiveSession.close()` to release resources held by the other session(s).\n",
      "  warnings.warn('An interactive session is already active. This can '\n"
     ]
    },
    {
     "name": "stdout",
     "output_type": "stream",
     "text": [
      "66/66 [==============================] - 1s 13ms/step - loss: 0.6929 - accuracy: 0.4891 - val_loss: 0.6917 - val_accuracy: 0.5168\n",
      "Epoch 2/10\n",
      "66/66 [==============================] - 1s 10ms/step - loss: 0.6916 - accuracy: 0.5439 - val_loss: 0.6883 - val_accuracy: 0.6465\n",
      "Epoch 3/10\n",
      "66/66 [==============================] - 1s 11ms/step - loss: 0.6850 - accuracy: 0.6342 - val_loss: 0.6918 - val_accuracy: 0.4989\n",
      "Epoch 4/10\n",
      "66/66 [==============================] - 1s 11ms/step - loss: 0.6694 - accuracy: 0.5884 - val_loss: 0.6386 - val_accuracy: 0.6421\n",
      "Epoch 5/10\n",
      "66/66 [==============================] - 1s 11ms/step - loss: 0.6202 - accuracy: 0.6818 - val_loss: 0.5930 - val_accuracy: 0.6890\n",
      "Epoch 6/10\n",
      "66/66 [==============================] - 1s 11ms/step - loss: 0.5608 - accuracy: 0.7525 - val_loss: 0.6031 - val_accuracy: 0.6801\n",
      "Epoch 7/10\n",
      "66/66 [==============================] - 1s 11ms/step - loss: 0.5576 - accuracy: 0.7271 - val_loss: 0.5601 - val_accuracy: 0.7204\n",
      "Epoch 8/10\n",
      "66/66 [==============================] - 1s 11ms/step - loss: 0.5635 - accuracy: 0.7062 - val_loss: 0.5430 - val_accuracy: 0.7159\n",
      "Epoch 9/10\n",
      "66/66 [==============================] - 1s 11ms/step - loss: 0.4931 - accuracy: 0.7664 - val_loss: 0.5257 - val_accuracy: 0.7517\n",
      "Epoch 10/10\n",
      "66/66 [==============================] - 1s 11ms/step - loss: 0.4976 - accuracy: 0.7685 - val_loss: 0.5157 - val_accuracy: 0.7427\n",
      "INFO:tensorflow:Assets written to: CNN.model\\assets\n"
     ]
    },
    {
     "name": "stderr",
     "output_type": "stream",
     "text": [
      "D:\\ProgramData\\Anaconda3\\lib\\site-packages\\tensorflow\\python\\client\\session.py:1761: UserWarning: An interactive session is already active. This can cause out-of-memory errors in some cases. You must explicitly call `InteractiveSession.close()` to release resources held by the other session(s).\n",
      "  warnings.warn('An interactive session is already active. This can '\n"
     ]
    },
    {
     "name": "stdout",
     "output_type": "stream",
     "text": [
      "Epoch 1/10\n",
      "66/66 [==============================] - 1s 12ms/step - loss: 0.6863 - accuracy: 0.5465 - val_loss: 0.6427 - val_accuracy: 0.6063\n",
      "Epoch 2/10\n",
      "66/66 [==============================] - 1s 10ms/step - loss: 0.6536 - accuracy: 0.6140 - val_loss: 0.5498 - val_accuracy: 0.7383\n",
      "Epoch 3/10\n",
      "66/66 [==============================] - 1s 10ms/step - loss: 0.5772 - accuracy: 0.6647 - val_loss: 0.5300 - val_accuracy: 0.7204\n",
      "Epoch 4/10\n",
      "66/66 [==============================] - 1s 10ms/step - loss: 0.5004 - accuracy: 0.7648 - val_loss: 0.4458 - val_accuracy: 0.8098\n",
      "Epoch 5/10\n",
      "66/66 [==============================] - 1s 10ms/step - loss: 0.4776 - accuracy: 0.8004 - val_loss: 0.4275 - val_accuracy: 0.8501\n",
      "Epoch 6/10\n",
      "66/66 [==============================] - 1s 10ms/step - loss: 0.4307 - accuracy: 0.8258 - val_loss: 0.4278 - val_accuracy: 0.8054\n",
      "Epoch 7/10\n",
      "66/66 [==============================] - 1s 10ms/step - loss: 0.3836 - accuracy: 0.8315 - val_loss: 0.3284 - val_accuracy: 0.8881\n",
      "Epoch 8/10\n",
      "66/66 [==============================] - 1s 10ms/step - loss: 0.3416 - accuracy: 0.8567 - val_loss: 0.2967 - val_accuracy: 0.8993\n",
      "Epoch 9/10\n",
      "66/66 [==============================] - ETA: 0s - loss: 0.2916 - accuracy: 0.88 - 1s 10ms/step - loss: 0.2929 - accuracy: 0.8882 - val_loss: 0.2686 - val_accuracy: 0.9195\n",
      "Epoch 10/10\n",
      "66/66 [==============================] - 1s 10ms/step - loss: 0.3180 - accuracy: 0.8711 - val_loss: 0.2472 - val_accuracy: 0.9172\n",
      "INFO:tensorflow:Assets written to: CNN.model\\assets\n",
      "[[32, 7, 0.0001, 0.1, 6, 0, 512], [32, 5, 0.0005, 0.1, 3, 1, 128], [64, 2, 0.0001, 0.0, 3, 1, 512], [64, 5, 0.0001, 0.3, 5, 0, 128], [64, 5, 0.0001, 0.3, 6, 0, 512], [64, 5, 0.0001, 0.3, 6, 0, 512], [64, 5, 0.0001, 0.3, 2, 0, 512], [64, 5, 0.0001, 0.3, 2, 0, 512], [64, 5, 0.0001, 0.3, 3, 1, 512], [64, 2, 0.0001, 0.0, 6, 0, 512]]\n",
      "[0.155955913753435, 0.16256376927743507, 0.16719725180265937, 0.17165467828915262, 0.1784378816062696, 0.1784378816062696, 0.17851267954733543, 0.17851267954733543, 0.2419970405622623, 0.17503855287192968]\n",
      "Generasi Ke  8\n",
      "Parent 1 dan 2  [64, 2, 0.0001, 0.0, 3, 1, 512] [64, 5, 0.0001, 0.3, 6, 0, 512]\n",
      "Child 1 dan 2 [64, 2, 0.0001, 0.0, 6, 0, 512] [64, 5, 0.0001, 0.3, 3, 1, 512]\n",
      "Mutasi 1 dan 2 [64, 2, 0.0001, 0.0, 6, 0, 512] [64, 5, 0.0001, 0.3, 3, 1, 512]\n",
      "Epoch 1/10\n"
     ]
    },
    {
     "name": "stderr",
     "output_type": "stream",
     "text": [
      "D:\\ProgramData\\Anaconda3\\lib\\site-packages\\tensorflow\\python\\client\\session.py:1761: UserWarning: An interactive session is already active. This can cause out-of-memory errors in some cases. You must explicitly call `InteractiveSession.close()` to release resources held by the other session(s).\n",
      "  warnings.warn('An interactive session is already active. This can '\n"
     ]
    },
    {
     "name": "stdout",
     "output_type": "stream",
     "text": [
      "66/66 [==============================] - 1s 12ms/step - loss: 0.6862 - accuracy: 0.5470 - val_loss: 0.6461 - val_accuracy: 0.5996\n",
      "Epoch 2/10\n",
      "66/66 [==============================] - 1s 10ms/step - loss: 0.6556 - accuracy: 0.6080 - val_loss: 0.5524 - val_accuracy: 0.7248\n",
      "Epoch 3/10\n",
      "66/66 [==============================] - 1s 10ms/step - loss: 0.5685 - accuracy: 0.6950 - val_loss: 0.5184 - val_accuracy: 0.7338\n",
      "Epoch 4/10\n",
      "66/66 [==============================] - 1s 10ms/step - loss: 0.4996 - accuracy: 0.7559 - val_loss: 0.4393 - val_accuracy: 0.8121\n",
      "Epoch 5/10\n",
      "66/66 [==============================] - 1s 10ms/step - loss: 0.4761 - accuracy: 0.7857 - val_loss: 0.4162 - val_accuracy: 0.8479\n",
      "Epoch 6/10\n",
      "66/66 [==============================] - 1s 12ms/step - loss: 0.4170 - accuracy: 0.8234 - val_loss: 0.4266 - val_accuracy: 0.8054\n",
      "Epoch 7/10\n",
      "66/66 [==============================] - 1s 11ms/step - loss: 0.3832 - accuracy: 0.8192 - val_loss: 0.3304 - val_accuracy: 0.8725\n",
      "Epoch 8/10\n",
      "66/66 [==============================] - 1s 10ms/step - loss: 0.3437 - accuracy: 0.8681 - val_loss: 0.3057 - val_accuracy: 0.8792\n",
      "Epoch 9/10\n",
      "66/66 [==============================] - 1s 10ms/step - loss: 0.3000 - accuracy: 0.8858 - val_loss: 0.2736 - val_accuracy: 0.9105\n",
      "Epoch 10/10\n",
      "66/66 [==============================] - 1s 10ms/step - loss: 0.3353 - accuracy: 0.8648 - val_loss: 0.2565 - val_accuracy: 0.9083\n",
      "INFO:tensorflow:Assets written to: CNNmut.model\\assets\n",
      "[[32, 7, 0.0001, 0.1, 6, 0, 512], [32, 5, 0.0005, 0.1, 3, 1, 128], [64, 2, 0.0001, 0.0, 3, 1, 512], [64, 5, 0.0001, 0.3, 5, 0, 128], [64, 2, 0.0001, 0.0, 6, 0, 512], [64, 5, 0.0001, 0.3, 6, 0, 512], [64, 5, 0.0001, 0.3, 6, 0, 512], [64, 5, 0.0001, 0.3, 2, 0, 512], [64, 5, 0.0001, 0.3, 3, 1, 512], [64, 2, 0.0001, 0.0, 6, 0, 512]]\n",
      "[0.155955913753435, 0.16256376927743507, 0.16719725180265937, 0.17165467828915262, 0.17503855287192968, 0.1784378816062696, 0.1784378816062696, 0.17851267954733543, 0.23440490900997324, 0.17503855287192968]\n",
      "Generasi Ke  9\n",
      "Parent 1 dan 2  [64, 2, 0.0001, 0.0, 3, 1, 512] [64, 5, 0.0001, 0.3, 6, 0, 512]\n",
      "Child 1 dan 2 [64, 2, 0.0001, 0.0, 6, 0, 512] [64, 5, 0.0001, 0.3, 3, 1, 512]\n",
      "Mutasi 1 dan 2 [64, 2, 0.0001, 0.0, 6, 0, 512] [64, 5, 0.0001, 0.3, 3, 1, 512]\n",
      "Epoch 1/10\n"
     ]
    },
    {
     "name": "stderr",
     "output_type": "stream",
     "text": [
      "D:\\ProgramData\\Anaconda3\\lib\\site-packages\\tensorflow\\python\\client\\session.py:1761: UserWarning: An interactive session is already active. This can cause out-of-memory errors in some cases. You must explicitly call `InteractiveSession.close()` to release resources held by the other session(s).\n",
      "  warnings.warn('An interactive session is already active. This can '\n"
     ]
    },
    {
     "name": "stdout",
     "output_type": "stream",
     "text": [
      "66/66 [==============================] - 1s 12ms/step - loss: 0.6863 - accuracy: 0.5472 - val_loss: 0.6500 - val_accuracy: 0.5906\n",
      "Epoch 2/10\n",
      "66/66 [==============================] - 1s 11ms/step - loss: 0.6603 - accuracy: 0.6010 - val_loss: 0.5716 - val_accuracy: 0.6823\n",
      "Epoch 3/10\n",
      "66/66 [==============================] - 1s 10ms/step - loss: 0.5783 - accuracy: 0.6780 - val_loss: 0.5373 - val_accuracy: 0.7069\n",
      "Epoch 4/10\n",
      "66/66 [==============================] - 1s 10ms/step - loss: 0.4991 - accuracy: 0.7583 - val_loss: 0.4385 - val_accuracy: 0.8076\n",
      "Epoch 5/10\n",
      "66/66 [==============================] - 1s 10ms/step - loss: 0.4771 - accuracy: 0.7902 - val_loss: 0.4147 - val_accuracy: 0.8389\n",
      "Epoch 6/10\n",
      "66/66 [==============================] - 1s 10ms/step - loss: 0.4246 - accuracy: 0.8182 - val_loss: 0.3834 - val_accuracy: 0.8456\n",
      "Epoch 7/10\n",
      "66/66 [==============================] - 1s 10ms/step - loss: 0.3760 - accuracy: 0.8482 - val_loss: 0.3246 - val_accuracy: 0.8881\n",
      "Epoch 8/10\n",
      "66/66 [==============================] - 1s 10ms/step - loss: 0.3432 - accuracy: 0.8683 - val_loss: 0.3238 - val_accuracy: 0.8613\n",
      "Epoch 9/10\n",
      "66/66 [==============================] - 1s 10ms/step - loss: 0.2867 - accuracy: 0.8763 - val_loss: 0.2703 - val_accuracy: 0.9060\n",
      "Epoch 10/10\n",
      "66/66 [==============================] - 1s 10ms/step - loss: 0.3306 - accuracy: 0.8701 - val_loss: 0.2476 - val_accuracy: 0.9150\n",
      "INFO:tensorflow:Assets written to: CNNmut.model\\assets\n",
      "[[32, 7, 0.0001, 0.1, 6, 0, 512], [32, 5, 0.0005, 0.1, 3, 1, 128], [64, 2, 0.0001, 0.0, 3, 1, 512], [64, 5, 0.0001, 0.3, 5, 0, 128], [64, 2, 0.0001, 0.0, 6, 0, 512], [64, 2, 0.0001, 0.0, 6, 0, 512], [64, 5, 0.0001, 0.3, 6, 0, 512], [64, 5, 0.0001, 0.3, 6, 0, 512], [64, 5, 0.0001, 0.3, 3, 1, 512], [64, 2, 0.0001, 0.0, 6, 0, 512]]\n",
      "[0.155955913753435, 0.16256376927743507, 0.16719725180265937, 0.17165467828915262, 0.17503855287192968, 0.17503855287192968, 0.1784378816062696, 0.1784378816062696, 0.26040690288889673, 0.17503855287192968]\n",
      "Generasi Ke  10\n",
      "Parent 1 dan 2  [64, 2, 0.0001, 0.0, 3, 1, 512] [64, 2, 0.0001, 0.0, 6, 0, 512]\n",
      "Child 1 dan 2 [64, 2, 0.0001, 0.0, 6, 0, 512] [64, 2, 0.0001, 0.0, 3, 1, 512]\n",
      "Mutasi 1 dan 2 [64, 2, 0.0001, 0.0, 6, 0, 512] [64, 2, 0.0001, 0.0, 3, 1, 512]\n",
      "Epoch 1/10\n"
     ]
    },
    {
     "name": "stderr",
     "output_type": "stream",
     "text": [
      "D:\\ProgramData\\Anaconda3\\lib\\site-packages\\tensorflow\\python\\client\\session.py:1761: UserWarning: An interactive session is already active. This can cause out-of-memory errors in some cases. You must explicitly call `InteractiveSession.close()` to release resources held by the other session(s).\n",
      "  warnings.warn('An interactive session is already active. This can '\n"
     ]
    },
    {
     "name": "stdout",
     "output_type": "stream",
     "text": [
      "66/66 [==============================] - 1s 12ms/step - loss: 0.6857 - accuracy: 0.5612 - val_loss: 0.6364 - val_accuracy: 0.7271\n",
      "Epoch 2/10\n",
      "66/66 [==============================] - 1s 9ms/step - loss: 0.6350 - accuracy: 0.6656 - val_loss: 0.5703 - val_accuracy: 0.7338\n",
      "Epoch 3/10\n",
      "66/66 [==============================] - 1s 9ms/step - loss: 0.5787 - accuracy: 0.6639 - val_loss: 0.5619 - val_accuracy: 0.6734\n",
      "Epoch 4/10\n",
      "66/66 [==============================] - 1s 9ms/step - loss: 0.5163 - accuracy: 0.7409 - val_loss: 0.5017 - val_accuracy: 0.7629\n",
      "Epoch 5/10\n",
      "66/66 [==============================] - 1s 9ms/step - loss: 0.4864 - accuracy: 0.7740 - val_loss: 0.4701 - val_accuracy: 0.7875\n",
      "Epoch 6/10\n",
      "66/66 [==============================] - 1s 9ms/step - loss: 0.4843 - accuracy: 0.7751 - val_loss: 0.4317 - val_accuracy: 0.8121\n",
      "Epoch 7/10\n",
      "66/66 [==============================] - 1s 9ms/step - loss: 0.4327 - accuracy: 0.7967 - val_loss: 0.3997 - val_accuracy: 0.8523\n",
      "Epoch 8/10\n",
      "66/66 [==============================] - 1s 9ms/step - loss: 0.4167 - accuracy: 0.8321 - val_loss: 0.3733 - val_accuracy: 0.8523\n",
      "Epoch 9/10\n",
      "66/66 [==============================] - 1s 9ms/step - loss: 0.3272 - accuracy: 0.8836 - val_loss: 0.3203 - val_accuracy: 0.8971\n",
      "Epoch 10/10\n",
      "66/66 [==============================] - 1s 9ms/step - loss: 0.3457 - accuracy: 0.8788 - val_loss: 0.2920 - val_accuracy: 0.8993\n",
      "INFO:tensorflow:Assets written to: CNNmut.model\\assets\n",
      "[[32, 7, 0.0001, 0.1, 6, 0, 512], [32, 5, 0.0005, 0.1, 3, 1, 128], [64, 2, 0.0001, 0.0, 3, 1, 512], [64, 5, 0.0001, 0.3, 5, 0, 128], [64, 2, 0.0001, 0.0, 6, 0, 512], [64, 2, 0.0001, 0.0, 6, 0, 512], [64, 2, 0.0001, 0.0, 6, 0, 512], [64, 5, 0.0001, 0.3, 6, 0, 512], [64, 2, 0.0001, 0.0, 3, 1, 512], [64, 2, 0.0001, 0.0, 6, 0, 512]]\n",
      "[0.155955913753435, 0.16256376927743507, 0.16719725180265937, 0.17165467828915262, 0.17503855287192968, 0.17503855287192968, 0.17503855287192968, 0.1784378816062696, 0.17200609001016287, 0.17503855287192968]\n",
      "Generasi Ke  11\n",
      "Parent 1 dan 2  [64, 2, 0.0001, 0.0, 3, 1, 512] [64, 2, 0.0001, 0.0, 6, 0, 512]\n",
      "Child 1 dan 2 [64, 2, 0.0001, 0.0, 6, 0, 512] [64, 2, 0.0001, 0.0, 3, 1, 512]\n",
      "Mutasi 1 dan 2 [64, 2, 0.0001, 0.0, 6, 0, 512] [64, 2, 0.0001, 0.0, 3, 1, 512]\n",
      "Epoch 1/10\n"
     ]
    },
    {
     "name": "stderr",
     "output_type": "stream",
     "text": [
      "D:\\ProgramData\\Anaconda3\\lib\\site-packages\\tensorflow\\python\\client\\session.py:1761: UserWarning: An interactive session is already active. This can cause out-of-memory errors in some cases. You must explicitly call `InteractiveSession.close()` to release resources held by the other session(s).\n",
      "  warnings.warn('An interactive session is already active. This can '\n"
     ]
    },
    {
     "name": "stdout",
     "output_type": "stream",
     "text": [
      "66/66 [==============================] - 1s 12ms/step - loss: 0.6857 - accuracy: 0.5612 - val_loss: 0.6364 - val_accuracy: 0.7271\n",
      "Epoch 2/10\n",
      "66/66 [==============================] - 1s 10ms/step - loss: 0.6350 - accuracy: 0.6647 - val_loss: 0.5702 - val_accuracy: 0.7338\n",
      "Epoch 3/10\n",
      "66/66 [==============================] - 1s 10ms/step - loss: 0.5789 - accuracy: 0.6623 - val_loss: 0.5617 - val_accuracy: 0.6734\n",
      "Epoch 4/10\n",
      "66/66 [==============================] - 1s 10ms/step - loss: 0.5162 - accuracy: 0.7409 - val_loss: 0.5024 - val_accuracy: 0.7629\n",
      "Epoch 5/10\n",
      "66/66 [==============================] - 1s 10ms/step - loss: 0.4868 - accuracy: 0.7730 - val_loss: 0.4700 - val_accuracy: 0.7897\n",
      "Epoch 6/10\n",
      "66/66 [==============================] - 1s 10ms/step - loss: 0.4818 - accuracy: 0.7804 - val_loss: 0.4351 - val_accuracy: 0.8210\n",
      "Epoch 7/10\n",
      "66/66 [==============================] - 1s 10ms/step - loss: 0.4332 - accuracy: 0.7922 - val_loss: 0.4025 - val_accuracy: 0.8568\n",
      "Epoch 8/10\n",
      "66/66 [==============================] - 1s 10ms/step - loss: 0.4167 - accuracy: 0.8301 - val_loss: 0.3713 - val_accuracy: 0.8523\n",
      "Epoch 9/10\n",
      "66/66 [==============================] - 1s 10ms/step - loss: 0.3296 - accuracy: 0.8767 - val_loss: 0.3188 - val_accuracy: 0.8971\n",
      "Epoch 10/10\n",
      "66/66 [==============================] - 1s 10ms/step - loss: 0.3474 - accuracy: 0.8778 - val_loss: 0.2928 - val_accuracy: 0.8993\n",
      "INFO:tensorflow:Assets written to: CNNmut.model\\assets\n",
      "[[32, 7, 0.0001, 0.1, 6, 0, 512], [32, 5, 0.0005, 0.1, 3, 1, 128], [64, 2, 0.0001, 0.0, 3, 1, 512], [64, 5, 0.0001, 0.3, 5, 0, 128], [64, 2, 0.0001, 0.0, 3, 1, 512], [64, 2, 0.0001, 0.0, 6, 0, 512], [64, 2, 0.0001, 0.0, 6, 0, 512], [64, 2, 0.0001, 0.0, 6, 0, 512], [64, 2, 0.0001, 0.0, 3, 1, 512], [64, 2, 0.0001, 0.0, 6, 0, 512]]\n",
      "[0.155955913753435, 0.16256376927743507, 0.16719725180265937, 0.17165467828915262, 0.17200609001016287, 0.17503855287192968, 0.17503855287192968, 0.17503855287192968, 0.16974424444103883, 0.17503855287192968]\n",
      "Generasi Ke  12\n",
      "Parent 1 dan 2  [64, 2, 0.0001, 0.0, 3, 1, 512] [64, 2, 0.0001, 0.0, 6, 0, 512]\n",
      "Child 1 dan 2 [64, 2, 0.0001, 0.0, 6, 0, 512] [64, 2, 0.0001, 0.0, 3, 1, 512]\n",
      "Mutasi 1 dan 2 [64, 2, 0.0001, 0.0, 6, 0, 512] [64, 2, 0.0001, 0.0, 3, 1, 512]\n",
      "Epoch 1/10\n"
     ]
    },
    {
     "name": "stderr",
     "output_type": "stream",
     "text": [
      "D:\\ProgramData\\Anaconda3\\lib\\site-packages\\tensorflow\\python\\client\\session.py:1761: UserWarning: An interactive session is already active. This can cause out-of-memory errors in some cases. You must explicitly call `InteractiveSession.close()` to release resources held by the other session(s).\n",
      "  warnings.warn('An interactive session is already active. This can '\n"
     ]
    },
    {
     "name": "stdout",
     "output_type": "stream",
     "text": [
      "66/66 [==============================] - 1s 12ms/step - loss: 0.6857 - accuracy: 0.5614 - val_loss: 0.6365 - val_accuracy: 0.7271\n",
      "Epoch 2/10\n",
      "66/66 [==============================] - 1s 10ms/step - loss: 0.6351 - accuracy: 0.6672 - val_loss: 0.5705 - val_accuracy: 0.7315\n",
      "Epoch 3/10\n",
      "66/66 [==============================] - 1s 10ms/step - loss: 0.5786 - accuracy: 0.6694 - val_loss: 0.5630 - val_accuracy: 0.6734\n",
      "Epoch 4/10\n",
      "66/66 [==============================] - 1s 11ms/step - loss: 0.5160 - accuracy: 0.7385 - val_loss: 0.5018 - val_accuracy: 0.7584\n",
      "Epoch 5/10\n",
      "66/66 [==============================] - 1s 10ms/step - loss: 0.4868 - accuracy: 0.7726 - val_loss: 0.4703 - val_accuracy: 0.7875\n",
      "Epoch 6/10\n",
      "66/66 [==============================] - 1s 10ms/step - loss: 0.4840 - accuracy: 0.7805 - val_loss: 0.4311 - val_accuracy: 0.8121\n",
      "Epoch 7/10\n",
      "66/66 [==============================] - 1s 10ms/step - loss: 0.4310 - accuracy: 0.7917 - val_loss: 0.3996 - val_accuracy: 0.8523\n",
      "Epoch 8/10\n",
      "66/66 [==============================] - 1s 10ms/step - loss: 0.4157 - accuracy: 0.8308 - val_loss: 0.3703 - val_accuracy: 0.8591\n",
      "Epoch 9/10\n",
      "66/66 [==============================] - 1s 10ms/step - loss: 0.3271 - accuracy: 0.8842 - val_loss: 0.3192 - val_accuracy: 0.8993\n",
      "Epoch 10/10\n",
      "66/66 [==============================] - 1s 10ms/step - loss: 0.3467 - accuracy: 0.8804 - val_loss: 0.2934 - val_accuracy: 0.8993\n",
      "INFO:tensorflow:Assets written to: CNNmut.model\\assets\n",
      "[[32, 7, 0.0001, 0.1, 6, 0, 512], [32, 5, 0.0005, 0.1, 3, 1, 128], [64, 2, 0.0001, 0.0, 3, 1, 512], [64, 2, 0.0001, 0.0, 3, 1, 512], [64, 5, 0.0001, 0.3, 5, 0, 128], [64, 2, 0.0001, 0.0, 3, 1, 512], [64, 2, 0.0001, 0.0, 6, 0, 512], [64, 2, 0.0001, 0.0, 6, 0, 512], [64, 2, 0.0001, 0.0, 3, 1, 512], [64, 2, 0.0001, 0.0, 6, 0, 512]]\n",
      "[0.155955913753435, 0.16256376927743507, 0.16719725180265937, 0.16974424444103883, 0.17165467828915262, 0.17200609001016287, 0.17503855287192968, 0.17503855287192968, 0.16716826040896599, 0.17503855287192968]\n",
      "Generasi Ke  13\n",
      "Parent 1 dan 2  [64, 2, 0.0001, 0.0, 3, 1, 512] [64, 2, 0.0001, 0.0, 6, 0, 512]\n",
      "Child 1 dan 2 [64, 2, 0.0001, 0.0, 6, 0, 512] [64, 2, 0.0001, 0.0, 3, 1, 512]\n",
      "Mutasi 1 dan 2 [64, 2, 0.0001, 0.0, 6, 0, 512] [64, 2, 0.0001, 0.0, 3, 1, 512]\n",
      "Epoch 1/10\n"
     ]
    },
    {
     "name": "stderr",
     "output_type": "stream",
     "text": [
      "D:\\ProgramData\\Anaconda3\\lib\\site-packages\\tensorflow\\python\\client\\session.py:1761: UserWarning: An interactive session is already active. This can cause out-of-memory errors in some cases. You must explicitly call `InteractiveSession.close()` to release resources held by the other session(s).\n",
      "  warnings.warn('An interactive session is already active. This can '\n"
     ]
    },
    {
     "name": "stdout",
     "output_type": "stream",
     "text": [
      "66/66 [==============================] - 1s 13ms/step - loss: 0.6857 - accuracy: 0.5599 - val_loss: 0.6366 - val_accuracy: 0.7248\n",
      "Epoch 2/10\n",
      "66/66 [==============================] - 1s 11ms/step - loss: 0.6355 - accuracy: 0.6608 - val_loss: 0.5708 - val_accuracy: 0.7315\n",
      "Epoch 3/10\n",
      "66/66 [==============================] - 1s 11ms/step - loss: 0.5783 - accuracy: 0.6641 - val_loss: 0.5629 - val_accuracy: 0.6711\n",
      "Epoch 4/10\n",
      "66/66 [==============================] - 1s 11ms/step - loss: 0.5168 - accuracy: 0.7375 - val_loss: 0.5039 - val_accuracy: 0.7651\n",
      "Epoch 5/10\n",
      "66/66 [==============================] - 1s 11ms/step - loss: 0.4883 - accuracy: 0.7706 - val_loss: 0.4716 - val_accuracy: 0.7897\n",
      "Epoch 6/10\n",
      "66/66 [==============================] - 1s 11ms/step - loss: 0.4820 - accuracy: 0.7820 - val_loss: 0.4358 - val_accuracy: 0.8076\n",
      "Epoch 7/10\n",
      "66/66 [==============================] - 1s 11ms/step - loss: 0.4345 - accuracy: 0.7856 - val_loss: 0.4066 - val_accuracy: 0.8456\n",
      "Epoch 8/10\n",
      "66/66 [==============================] - 1s 11ms/step - loss: 0.4202 - accuracy: 0.8298 - val_loss: 0.3784 - val_accuracy: 0.8501\n",
      "Epoch 9/10\n",
      "66/66 [==============================] - 1s 11ms/step - loss: 0.3333 - accuracy: 0.8818 - val_loss: 0.3272 - val_accuracy: 0.8971\n",
      "Epoch 10/10\n",
      "66/66 [==============================] - 1s 12ms/step - loss: 0.3523 - accuracy: 0.8770 - val_loss: 0.2978 - val_accuracy: 0.8971\n",
      "INFO:tensorflow:Assets written to: CNNmut.model\\assets\n",
      "[[32, 7, 0.0001, 0.1, 6, 0, 512], [32, 5, 0.0005, 0.1, 3, 1, 128], [64, 2, 0.0001, 0.0, 3, 1, 512], [64, 2, 0.0001, 0.0, 3, 1, 512], [64, 2, 0.0001, 0.0, 3, 1, 512], [64, 5, 0.0001, 0.3, 5, 0, 128], [64, 2, 0.0001, 0.0, 3, 1, 512], [64, 2, 0.0001, 0.0, 6, 0, 512], [64, 2, 0.0001, 0.0, 3, 1, 512], [64, 2, 0.0001, 0.0, 6, 0, 512]]\n",
      "[0.155955913753435, 0.16256376927743507, 0.16716826040896599, 0.16719725180265937, 0.16974424444103883, 0.17165467828915262, 0.17200609001016287, 0.17503855287192968, 0.17521730158255663, 0.17503855287192968]\n",
      "Generasi Ke  14\n",
      "Parent 1 dan 2  [64, 2, 0.0001, 0.0, 3, 1, 512] [64, 5, 0.0001, 0.3, 5, 0, 128]\n",
      "Child 1 dan 2 [64, 2, 0.0001, 0.0, 5, 0, 128] [64, 5, 0.0001, 0.3, 3, 1, 512]\n",
      "Mutasi 1 dan 2 [64, 2, 0.0001, 0.0, 5, 0, 128] [64, 5, 0.0001, 0.3, 3, 1, 512]\n",
      "Epoch 1/10\n"
     ]
    },
    {
     "name": "stderr",
     "output_type": "stream",
     "text": [
      "D:\\ProgramData\\Anaconda3\\lib\\site-packages\\tensorflow\\python\\client\\session.py:1761: UserWarning: An interactive session is already active. This can cause out-of-memory errors in some cases. You must explicitly call `InteractiveSession.close()` to release resources held by the other session(s).\n",
      "  warnings.warn('An interactive session is already active. This can '\n"
     ]
    },
    {
     "name": "stdout",
     "output_type": "stream",
     "text": [
      "66/66 [==============================] - 2s 16ms/step - loss: 0.6913 - accuracy: 0.5199 - val_loss: 0.6883 - val_accuracy: 0.5951\n",
      "Epoch 2/10\n",
      "66/66 [==============================] - 1s 13ms/step - loss: 0.6890 - accuracy: 0.5231 - val_loss: 0.6825 - val_accuracy: 0.6555\n",
      "Epoch 3/10\n",
      "66/66 [==============================] - 1s 13ms/step - loss: 0.6806 - accuracy: 0.6269 - val_loss: 0.6888 - val_accuracy: 0.4989\n",
      "Epoch 4/10\n",
      "66/66 [==============================] - 1s 13ms/step - loss: 0.6696 - accuracy: 0.5820 - val_loss: 0.6484 - val_accuracy: 0.6532\n",
      "Epoch 5/10\n",
      "66/66 [==============================] - 1s 14ms/step - loss: 0.6380 - accuracy: 0.6535 - val_loss: 0.6109 - val_accuracy: 0.6734\n",
      "Epoch 6/10\n",
      "66/66 [==============================] - 1s 14ms/step - loss: 0.5953 - accuracy: 0.7057 - val_loss: 0.6174 - val_accuracy: 0.6689\n",
      "Epoch 7/10\n",
      "66/66 [==============================] - 1s 14ms/step - loss: 0.5898 - accuracy: 0.7043 - val_loss: 0.5737 - val_accuracy: 0.7025\n",
      "Epoch 8/10\n",
      "66/66 [==============================] - 1s 14ms/step - loss: 0.5825 - accuracy: 0.6967 - val_loss: 0.5558 - val_accuracy: 0.7226\n",
      "Epoch 9/10\n",
      "66/66 [==============================] - 1s 14ms/step - loss: 0.5215 - accuracy: 0.7577 - val_loss: 0.5353 - val_accuracy: 0.7450\n",
      "Epoch 10/10\n",
      "66/66 [==============================] - 1s 14ms/step - loss: 0.5211 - accuracy: 0.7539 - val_loss: 0.5205 - val_accuracy: 0.7562\n",
      "INFO:tensorflow:Assets written to: CNNmut.model\\assets\n",
      "[[32, 7, 0.0001, 0.1, 6, 0, 512], [32, 5, 0.0005, 0.1, 3, 1, 128], [64, 2, 0.0001, 0.0, 3, 1, 512], [64, 2, 0.0001, 0.0, 3, 1, 512], [64, 2, 0.0001, 0.0, 3, 1, 512], [64, 5, 0.0001, 0.3, 5, 0, 128], [64, 2, 0.0001, 0.0, 3, 1, 512], [64, 2, 0.0001, 0.0, 6, 0, 512], [64, 5, 0.0001, 0.3, 3, 1, 512], [64, 2, 0.0001, 0.0, 5, 0, 128]]\n",
      "[0.155955913753435, 0.16256376927743507, 0.16716826040896599, 0.16719725180265937, 0.16974424444103883, 0.17165467828915262, 0.17200609001016287, 0.17503855287192968, 0.26040690288889673, 0.15516690119379029]\n",
      "Generasi Ke  15\n",
      "Parent 1 dan 2  [64, 2, 0.0001, 0.0, 3, 1, 512] [64, 5, 0.0001, 0.3, 5, 0, 128]\n",
      "Child 1 dan 2 [64, 2, 0.0001, 0.0, 5, 0, 128] [64, 5, 0.0001, 0.3, 3, 1, 512]\n",
      "Mutasi 1 dan 2 [64, 2, 0.0001, 0.0, 5, 0, 128] [64, 5, 0.0001, 0.3, 3, 1, 512]\n"
     ]
    },
    {
     "name": "stderr",
     "output_type": "stream",
     "text": [
      "D:\\ProgramData\\Anaconda3\\lib\\site-packages\\tensorflow\\python\\client\\session.py:1761: UserWarning: An interactive session is already active. This can cause out-of-memory errors in some cases. You must explicitly call `InteractiveSession.close()` to release resources held by the other session(s).\n",
      "  warnings.warn('An interactive session is already active. This can '\n"
     ]
    },
    {
     "name": "stdout",
     "output_type": "stream",
     "text": [
      "Epoch 1/10\n",
      "66/66 [==============================] - 1s 14ms/step - loss: 0.6862 - accuracy: 0.5496 - val_loss: 0.6430 - val_accuracy: 0.6040\n",
      "Epoch 2/10\n",
      "66/66 [==============================] - 1s 12ms/step - loss: 0.6568 - accuracy: 0.6098 - val_loss: 0.5503 - val_accuracy: 0.7293\n",
      "Epoch 3/10\n",
      "66/66 [==============================] - 1s 12ms/step - loss: 0.5732 - accuracy: 0.6694 - val_loss: 0.5347 - val_accuracy: 0.7114\n",
      "Epoch 4/10\n",
      "66/66 [==============================] - 1s 12ms/step - loss: 0.5008 - accuracy: 0.7535 - val_loss: 0.4490 - val_accuracy: 0.8076\n",
      "Epoch 5/10\n",
      "66/66 [==============================] - 1s 12ms/step - loss: 0.4990 - accuracy: 0.7719 - val_loss: 0.4244 - val_accuracy: 0.8501\n",
      "Epoch 6/10\n",
      "66/66 [==============================] - 1s 12ms/step - loss: 0.4189 - accuracy: 0.8262 - val_loss: 0.4161 - val_accuracy: 0.8143\n",
      "Epoch 7/10\n",
      "66/66 [==============================] - 1s 12ms/step - loss: 0.3946 - accuracy: 0.8195 - val_loss: 0.3386 - val_accuracy: 0.8859\n",
      "Epoch 8/10\n",
      "66/66 [==============================] - 1s 12ms/step - loss: 0.3583 - accuracy: 0.8523 - val_loss: 0.3373 - val_accuracy: 0.8523\n",
      "Epoch 9/10\n",
      "66/66 [==============================] - 1s 12ms/step - loss: 0.3046 - accuracy: 0.8835 - val_loss: 0.2837 - val_accuracy: 0.9060\n",
      "Epoch 10/10\n",
      "66/66 [==============================] - 1s 12ms/step - loss: 0.3312 - accuracy: 0.8676 - val_loss: 0.2631 - val_accuracy: 0.9038\n",
      "INFO:tensorflow:Assets written to: CNNmut.model\\assets\n",
      "[[64, 2, 0.0001, 0.0, 5, 0, 128], [32, 7, 0.0001, 0.1, 6, 0, 512], [32, 5, 0.0005, 0.1, 3, 1, 128], [64, 2, 0.0001, 0.0, 3, 1, 512], [64, 2, 0.0001, 0.0, 3, 1, 512], [64, 2, 0.0001, 0.0, 3, 1, 512], [64, 5, 0.0001, 0.3, 5, 0, 128], [64, 2, 0.0001, 0.0, 3, 1, 512], [64, 5, 0.0001, 0.3, 3, 1, 512], [64, 2, 0.0001, 0.0, 5, 0, 128]]\n",
      "[0.15516690119379029, 0.155955913753435, 0.16256376927743507, 0.16716826040896599, 0.16719725180265937, 0.16974424444103883, 0.17165467828915262, 0.17200609001016287, 0.21194155277018248, 0.15516690119379029]\n",
      "Generasi Ke  16\n",
      "Parent 1 dan 2  [32, 5, 0.0005, 0.1, 3, 1, 128] [64, 2, 0.0001, 0.0, 3, 1, 512]\n",
      "Child 1 dan 2 [32, 5, 0.0005, 0.1, 3, 1, 512] [64, 2, 0.0001, 0.0, 3, 1, 128]\n",
      "Mutasi 1 dan 2 [32, 5, 0.0005, 0.1, 3, 1, 512] [64, 2, 0.0001, 0.0, 3, 1, 128]\n",
      "Epoch 1/10\n"
     ]
    },
    {
     "name": "stderr",
     "output_type": "stream",
     "text": [
      "D:\\ProgramData\\Anaconda3\\lib\\site-packages\\tensorflow\\python\\client\\session.py:1761: UserWarning: An interactive session is already active. This can cause out-of-memory errors in some cases. You must explicitly call `InteractiveSession.close()` to release resources held by the other session(s).\n",
      "  warnings.warn('An interactive session is already active. This can '\n"
     ]
    },
    {
     "name": "stdout",
     "output_type": "stream",
     "text": [
      "66/66 [==============================] - 1s 10ms/step - loss: 0.6961 - accuracy: 0.5251 - val_loss: 0.6289 - val_accuracy: 0.6600\n",
      "Epoch 2/10\n",
      "66/66 [==============================] - 1s 8ms/step - loss: 0.6241 - accuracy: 0.6551 - val_loss: 0.5476 - val_accuracy: 0.7002\n",
      "Epoch 3/10\n",
      "66/66 [==============================] - 1s 8ms/step - loss: 0.5565 - accuracy: 0.7195 - val_loss: 0.5258 - val_accuracy: 0.7159\n",
      "Epoch 4/10\n",
      "66/66 [==============================] - 1s 8ms/step - loss: 0.4988 - accuracy: 0.7593 - val_loss: 0.4963 - val_accuracy: 0.7584\n",
      "Epoch 5/10\n",
      "66/66 [==============================] - 1s 8ms/step - loss: 0.5157 - accuracy: 0.7633 - val_loss: 0.4349 - val_accuracy: 0.8009\n",
      "Epoch 6/10\n",
      "66/66 [==============================] - 1s 8ms/step - loss: 0.4361 - accuracy: 0.7857 - val_loss: 0.5670 - val_accuracy: 0.7002\n",
      "Epoch 7/10\n",
      "66/66 [==============================] - 1s 9ms/step - loss: 0.3725 - accuracy: 0.8386 - val_loss: 0.4865 - val_accuracy: 0.7315\n",
      "Epoch 8/10\n",
      "66/66 [==============================] - 1s 8ms/step - loss: 0.3748 - accuracy: 0.8322 - val_loss: 0.2536 - val_accuracy: 0.9105\n",
      "Epoch 9/10\n",
      "66/66 [==============================] - 1s 8ms/step - loss: 0.2443 - accuracy: 0.9006 - val_loss: 0.2447 - val_accuracy: 0.9060\n",
      "Epoch 10/10\n",
      "66/66 [==============================] - 1s 8ms/step - loss: 0.2675 - accuracy: 0.8889 - val_loss: 0.1912 - val_accuracy: 0.9329\n",
      "INFO:tensorflow:Assets written to: CNN.model\\assets\n"
     ]
    },
    {
     "name": "stderr",
     "output_type": "stream",
     "text": [
      "D:\\ProgramData\\Anaconda3\\lib\\site-packages\\tensorflow\\python\\client\\session.py:1761: UserWarning: An interactive session is already active. This can cause out-of-memory errors in some cases. You must explicitly call `InteractiveSession.close()` to release resources held by the other session(s).\n",
      "  warnings.warn('An interactive session is already active. This can '\n"
     ]
    },
    {
     "name": "stdout",
     "output_type": "stream",
     "text": [
      "Epoch 1/10\n",
      "66/66 [==============================] - 1s 15ms/step - loss: 0.6878 - accuracy: 0.5660 - val_loss: 0.6636 - val_accuracy: 0.6174\n",
      "Epoch 2/10\n",
      "66/66 [==============================] - 1s 12ms/step - loss: 0.6611 - accuracy: 0.6069 - val_loss: 0.6058 - val_accuracy: 0.6577\n",
      "Epoch 3/10\n",
      "66/66 [==============================] - 1s 11ms/step - loss: 0.6005 - accuracy: 0.6601 - val_loss: 0.5760 - val_accuracy: 0.6577\n",
      "Epoch 4/10\n",
      "66/66 [==============================] - 1s 12ms/step - loss: 0.5426 - accuracy: 0.7187 - val_loss: 0.5350 - val_accuracy: 0.7405\n",
      "Epoch 5/10\n",
      "66/66 [==============================] - 1s 12ms/step - loss: 0.5270 - accuracy: 0.7433 - val_loss: 0.5194 - val_accuracy: 0.7517\n",
      "Epoch 6/10\n",
      "66/66 [==============================] - 1s 12ms/step - loss: 0.5058 - accuracy: 0.7581 - val_loss: 0.5070 - val_accuracy: 0.7718\n",
      "Epoch 7/10\n",
      "66/66 [==============================] - 1s 12ms/step - loss: 0.5011 - accuracy: 0.7462 - val_loss: 0.4856 - val_accuracy: 0.7539\n",
      "Epoch 8/10\n",
      "66/66 [==============================] - 1s 12ms/step - loss: 0.5008 - accuracy: 0.7679 - val_loss: 0.4595 - val_accuracy: 0.7852\n",
      "Epoch 9/10\n",
      "66/66 [==============================] - 1s 12ms/step - loss: 0.4174 - accuracy: 0.8200 - val_loss: 0.4196 - val_accuracy: 0.8322\n",
      "Epoch 10/10\n",
      "66/66 [==============================] - 1s 12ms/step - loss: 0.4250 - accuracy: 0.8298 - val_loss: 0.3782 - val_accuracy: 0.8367\n",
      "INFO:tensorflow:Assets written to: CNN.model\\assets\n",
      "[[64, 2, 0.0001, 0.0, 5, 0, 128], [64, 2, 0.0001, 0.0, 5, 0, 128], [32, 7, 0.0001, 0.1, 6, 0, 512], [32, 5, 0.0005, 0.1, 3, 1, 128], [64, 2, 0.0001, 0.0, 3, 1, 512], [64, 2, 0.0001, 0.0, 3, 1, 512], [64, 2, 0.0001, 0.0, 3, 1, 512], [64, 5, 0.0001, 0.3, 5, 0, 128], [64, 2, 0.0001, 0.0, 3, 1, 128], [32, 5, 0.0005, 0.1, 3, 1, 512]]\n",
      "[0.15516690119379029, 0.15516690119379029, 0.155955913753435, 0.16256376927743507, 0.16716826040896599, 0.16719725180265937, 0.16974424444103883, 0.17165467828915262, 0.1832739361108524, 0.1527328153987194]\n",
      "Generasi Ke  17\n",
      "Parent 1 dan 2  [32, 7, 0.0001, 0.1, 6, 0, 512] [64, 2, 0.0001, 0.0, 3, 1, 512]\n",
      "Child 1 dan 2 [32, 7, 0.0001, 0.1, 3, 1, 512] [64, 2, 0.0001, 0.0, 6, 0, 512]\n",
      "Mutasi 1 dan 2 [32, 7, 0.0001, 0.1, 3, 1, 512] [64, 2, 0.0001, 0.0, 6, 0, 512]\n",
      "Epoch 1/10\n"
     ]
    },
    {
     "name": "stderr",
     "output_type": "stream",
     "text": [
      "D:\\ProgramData\\Anaconda3\\lib\\site-packages\\tensorflow\\python\\client\\session.py:1761: UserWarning: An interactive session is already active. This can cause out-of-memory errors in some cases. You must explicitly call `InteractiveSession.close()` to release resources held by the other session(s).\n",
      "  warnings.warn('An interactive session is already active. This can '\n"
     ]
    },
    {
     "name": "stdout",
     "output_type": "stream",
     "text": [
      "66/66 [==============================] - 1s 11ms/step - loss: 0.6873 - accuracy: 0.5658 - val_loss: 0.6345 - val_accuracy: 0.6957\n",
      "Epoch 2/10\n",
      "66/66 [==============================] - 1s 9ms/step - loss: 0.6482 - accuracy: 0.6340 - val_loss: 0.5833 - val_accuracy: 0.6577\n",
      "Epoch 3/10\n",
      "66/66 [==============================] - 1s 8ms/step - loss: 0.5808 - accuracy: 0.6853 - val_loss: 0.5720 - val_accuracy: 0.6801\n",
      "Epoch 4/10\n",
      "66/66 [==============================] - 1s 9ms/step - loss: 0.5190 - accuracy: 0.7440 - val_loss: 0.4896 - val_accuracy: 0.7696\n",
      "Epoch 5/10\n",
      "66/66 [==============================] - 1s 9ms/step - loss: 0.4871 - accuracy: 0.7837 - val_loss: 0.4583 - val_accuracy: 0.8009\n",
      "Epoch 6/10\n",
      "66/66 [==============================] - 1s 9ms/step - loss: 0.4765 - accuracy: 0.7963 - val_loss: 0.4323 - val_accuracy: 0.8076\n",
      "Epoch 7/10\n",
      "66/66 [==============================] - 1s 8ms/step - loss: 0.4227 - accuracy: 0.8079 - val_loss: 0.3963 - val_accuracy: 0.8747\n",
      "Epoch 8/10\n",
      "66/66 [==============================] - 1s 9ms/step - loss: 0.4085 - accuracy: 0.8143 - val_loss: 0.3451 - val_accuracy: 0.8814\n",
      "Epoch 9/10\n",
      "66/66 [==============================] - 1s 9ms/step - loss: 0.3287 - accuracy: 0.8733 - val_loss: 0.3200 - val_accuracy: 0.8725\n",
      "Epoch 10/10\n",
      "66/66 [==============================] - 1s 9ms/step - loss: 0.3847 - accuracy: 0.8553 - val_loss: 0.2993 - val_accuracy: 0.8725\n",
      "INFO:tensorflow:Assets written to: CNNmut.model\\assets\n",
      "[[32, 5, 0.0005, 0.1, 3, 1, 512], [64, 2, 0.0001, 0.0, 5, 0, 128], [64, 2, 0.0001, 0.0, 5, 0, 128], [32, 7, 0.0001, 0.1, 6, 0, 512], [32, 5, 0.0005, 0.1, 3, 1, 128], [64, 2, 0.0001, 0.0, 3, 1, 512], [64, 2, 0.0001, 0.0, 3, 1, 512], [64, 2, 0.0001, 0.0, 3, 1, 512], [64, 2, 0.0001, 0.0, 6, 0, 512], [32, 7, 0.0001, 0.1, 3, 1, 512]]\n",
      "[0.1527328153987194, 0.15516690119379029, 0.15516690119379029, 0.155955913753435, 0.16256376927743507, 0.16716826040896599, 0.16719725180265937, 0.16974424444103883, 0.17503855287192968, 0.16084390029286694]\n",
      "Generasi Ke  18\n",
      "Parent 1 dan 2  [64, 2, 0.0001, 0.0, 5, 0, 128] [64, 2, 0.0001, 0.0, 3, 1, 512]\n",
      "Child 1 dan 2 [64, 2, 0.0001, 0.0, 3, 1, 512] [64, 2, 0.0001, 0.0, 5, 0, 128]\n",
      "Mutasi 1 dan 2 [64, 2, 0.0001, 0.0, 3, 1, 512] [64, 2, 0.0001, 0.0, 5, 0, 128]\n",
      "Epoch 1/10\n"
     ]
    },
    {
     "name": "stderr",
     "output_type": "stream",
     "text": [
      "D:\\ProgramData\\Anaconda3\\lib\\site-packages\\tensorflow\\python\\client\\session.py:1761: UserWarning: An interactive session is already active. This can cause out-of-memory errors in some cases. You must explicitly call `InteractiveSession.close()` to release resources held by the other session(s).\n",
      "  warnings.warn('An interactive session is already active. This can '\n"
     ]
    },
    {
     "name": "stdout",
     "output_type": "stream",
     "text": [
      "66/66 [==============================] - 2s 20ms/step - loss: 0.6913 - accuracy: 0.5192 - val_loss: 0.6884 - val_accuracy: 0.6174\n",
      "Epoch 2/10\n",
      "66/66 [==============================] - 1s 16ms/step - loss: 0.6892 - accuracy: 0.5173 - val_loss: 0.6823 - val_accuracy: 0.6421\n",
      "Epoch 3/10\n",
      "66/66 [==============================] - 1s 15ms/step - loss: 0.6810 - accuracy: 0.6252 - val_loss: 0.6886 - val_accuracy: 0.4989\n",
      "Epoch 4/10\n",
      "66/66 [==============================] - 1s 15ms/step - loss: 0.6714 - accuracy: 0.5800 - val_loss: 0.6503 - val_accuracy: 0.6600\n",
      "Epoch 5/10\n",
      "66/66 [==============================] - 1s 16ms/step - loss: 0.6399 - accuracy: 0.6647 - val_loss: 0.6146 - val_accuracy: 0.6644\n",
      "Epoch 6/10\n",
      "66/66 [==============================] - 1s 15ms/step - loss: 0.5998 - accuracy: 0.7043 - val_loss: 0.6189 - val_accuracy: 0.6689\n",
      "Epoch 7/10\n",
      "66/66 [==============================] - 1s 15ms/step - loss: 0.5944 - accuracy: 0.6941 - val_loss: 0.5769 - val_accuracy: 0.6980\n",
      "Epoch 8/10\n",
      "66/66 [==============================] - 1s 18ms/step - loss: 0.5870 - accuracy: 0.6924 - val_loss: 0.5592 - val_accuracy: 0.7181\n",
      "Epoch 9/10\n",
      "66/66 [==============================] - 1s 18ms/step - loss: 0.5256 - accuracy: 0.7554 - val_loss: 0.5384 - val_accuracy: 0.7338\n",
      "Epoch 10/10\n",
      "66/66 [==============================] - 1s 16ms/step - loss: 0.5250 - accuracy: 0.7539 - val_loss: 0.5273 - val_accuracy: 0.7450- loss: 0.5283 - accuracy\n",
      "INFO:tensorflow:Assets written to: CNNmut.model\\assets\n",
      "[[32, 5, 0.0005, 0.1, 3, 1, 512], [64, 2, 0.0001, 0.0, 5, 0, 128], [64, 2, 0.0001, 0.0, 5, 0, 128], [32, 7, 0.0001, 0.1, 6, 0, 512], [32, 7, 0.0001, 0.1, 3, 1, 512], [32, 5, 0.0005, 0.1, 3, 1, 128], [64, 2, 0.0001, 0.0, 3, 1, 512], [64, 2, 0.0001, 0.0, 3, 1, 512], [64, 2, 0.0001, 0.0, 5, 0, 128], [64, 2, 0.0001, 0.0, 3, 1, 512]]\n",
      "[0.1527328153987194, 0.15516690119379029, 0.15516690119379029, 0.155955913753435, 0.16084390029286694, 0.16256376927743507, 0.16716826040896599, 0.16719725180265937, 0.15314040025069792, 0.17521730158255663]\n",
      "Generasi Ke  19\n",
      "Parent 1 dan 2  [64, 2, 0.0001, 0.0, 5, 0, 128] [32, 5, 0.0005, 0.1, 3, 1, 128]\n",
      "Child 1 dan 2 [64, 2, 0.0001, 0.0, 3, 1, 128] [32, 5, 0.0005, 0.1, 5, 0, 128]\n",
      "Mutasi 1 dan 2 [64, 2, 0.0001, 0.0, 3, 1, 128] [32, 5, 0.0005, 0.1, 5, 0, 128]\n",
      "Epoch 1/10\n"
     ]
    },
    {
     "name": "stderr",
     "output_type": "stream",
     "text": [
      "D:\\ProgramData\\Anaconda3\\lib\\site-packages\\tensorflow\\python\\client\\session.py:1761: UserWarning: An interactive session is already active. This can cause out-of-memory errors in some cases. You must explicitly call `InteractiveSession.close()` to release resources held by the other session(s).\n",
      "  warnings.warn('An interactive session is already active. This can '\n"
     ]
    },
    {
     "name": "stdout",
     "output_type": "stream",
     "text": [
      "66/66 [==============================] - 4s 33ms/step - loss: 0.6896 - accuracy: 0.5229 - val_loss: 0.6618 - val_accuracy: 0.6085\n",
      "Epoch 2/10\n",
      "66/66 [==============================] - 1s 10ms/step - loss: 0.6666 - accuracy: 0.5996 - val_loss: 0.6161 - val_accuracy: 0.6913\n",
      "Epoch 3/10\n",
      "66/66 [==============================] - 1s 10ms/step - loss: 0.5708 - accuracy: 0.7170 - val_loss: 0.4988 - val_accuracy: 0.7629\n",
      "Epoch 4/10\n",
      "66/66 [==============================] - 1s 10ms/step - loss: 0.5001 - accuracy: 0.7663 - val_loss: 0.4490 - val_accuracy: 0.8054\n",
      "Epoch 5/10\n",
      "66/66 [==============================] - 1s 12ms/step - loss: 0.4269 - accuracy: 0.8172 - val_loss: 0.4112 - val_accuracy: 0.8523\n",
      "Epoch 6/10\n",
      "66/66 [==============================] - 1s 10ms/step - loss: 0.3914 - accuracy: 0.8480 - val_loss: 0.6159 - val_accuracy: 0.6890\n",
      "Epoch 7/10\n",
      "66/66 [==============================] - 1s 10ms/step - loss: 0.3859 - accuracy: 0.8428 - val_loss: 0.3155 - val_accuracy: 0.8837\n",
      "Epoch 8/10\n",
      "66/66 [==============================] - 1s 10ms/step - loss: 0.2783 - accuracy: 0.8940 - val_loss: 0.2772 - val_accuracy: 0.9016\n",
      "Epoch 9/10\n",
      "66/66 [==============================] - 1s 10ms/step - loss: 0.1947 - accuracy: 0.9268 - val_loss: 0.2283 - val_accuracy: 0.9105\n",
      "Epoch 10/10\n",
      "66/66 [==============================] - 1s 10ms/step - loss: 0.1711 - accuracy: 0.9407 - val_loss: 0.2465 - val_accuracy: 0.8949\n",
      "INFO:tensorflow:Assets written to: CNNmut.model\\assets\n",
      "[[32, 5, 0.0005, 0.1, 3, 1, 512], [64, 2, 0.0001, 0.0, 5, 0, 128], [64, 2, 0.0001, 0.0, 5, 0, 128], [64, 2, 0.0001, 0.0, 5, 0, 128], [32, 7, 0.0001, 0.1, 6, 0, 512], [32, 7, 0.0001, 0.1, 3, 1, 512], [32, 5, 0.0005, 0.1, 3, 1, 128], [64, 2, 0.0001, 0.0, 3, 1, 512], [32, 5, 0.0005, 0.1, 5, 0, 128], [64, 2, 0.0001, 0.0, 3, 1, 128]]\n",
      "[0.1527328153987194, 0.15314040025069792, 0.15516690119379029, 0.15516690119379029, 0.155955913753435, 0.16084390029286694, 0.16256376927743507, 0.16716826040896599, 0.23015366087176395, 0.1832739361108524]\n",
      "Generasi Ke  20\n",
      "Parent 1 dan 2  [64, 2, 0.0001, 0.0, 5, 0, 128] [32, 7, 0.0001, 0.1, 3, 1, 512]\n",
      "Child 1 dan 2 [64, 2, 0.0001, 0.0, 3, 1, 512] [32, 7, 0.0001, 0.1, 5, 0, 128]\n",
      "Mutasi 1 dan 2 [64, 2, 0.0001, 0.0, 3, 1, 512] [32, 7, 0.0001, 0.1, 5, 0, 128]\n",
      "Epoch 1/10\n"
     ]
    },
    {
     "name": "stderr",
     "output_type": "stream",
     "text": [
      "D:\\ProgramData\\Anaconda3\\lib\\site-packages\\tensorflow\\python\\client\\session.py:1761: UserWarning: An interactive session is already active. This can cause out-of-memory errors in some cases. You must explicitly call `InteractiveSession.close()` to release resources held by the other session(s).\n",
      "  warnings.warn('An interactive session is already active. This can '\n"
     ]
    },
    {
     "name": "stdout",
     "output_type": "stream",
     "text": [
      "66/66 [==============================] - 2s 13ms/step - loss: 0.6886 - accuracy: 0.5561 - val_loss: 0.6519 - val_accuracy: 0.6622\n",
      "Epoch 2/10\n",
      "66/66 [==============================] - 1s 10ms/step - loss: 0.6554 - accuracy: 0.6347 - val_loss: 0.5711 - val_accuracy: 0.7204\n",
      "Epoch 3/10\n",
      "66/66 [==============================] - 1s 10ms/step - loss: 0.5722 - accuracy: 0.7202 - val_loss: 0.5196 - val_accuracy: 0.7517\n",
      "Epoch 4/10\n",
      "66/66 [==============================] - 1s 11ms/step - loss: 0.5057 - accuracy: 0.7624 - val_loss: 0.4826 - val_accuracy: 0.7763\n",
      "Epoch 5/10\n",
      "66/66 [==============================] - 1s 10ms/step - loss: 0.4687 - accuracy: 0.7862 - val_loss: 0.4507 - val_accuracy: 0.8166\n",
      "Epoch 6/10\n",
      "66/66 [==============================] - 1s 10ms/step - loss: 0.4256 - accuracy: 0.8235 - val_loss: 0.4269 - val_accuracy: 0.8166\n",
      "Epoch 7/10\n",
      "66/66 [==============================] - 1s 11ms/step - loss: 0.3988 - accuracy: 0.8095 - val_loss: 0.4081 - val_accuracy: 0.8591\n",
      "Epoch 8/10\n",
      "66/66 [==============================] - 1s 10ms/step - loss: 0.3891 - accuracy: 0.8324 - val_loss: 0.3584 - val_accuracy: 0.8680\n",
      "Epoch 9/10\n",
      "66/66 [==============================] - 1s 10ms/step - loss: 0.3323 - accuracy: 0.8667 - val_loss: 0.3358 - val_accuracy: 0.8680\n",
      "Epoch 10/10\n",
      "66/66 [==============================] - 1s 12ms/step - loss: 0.3946 - accuracy: 0.8434 - val_loss: 0.3194 - val_accuracy: 0.8658\n",
      "INFO:tensorflow:Assets written to: CNNmut.model\\assets\n",
      "[[32, 5, 0.0005, 0.1, 3, 1, 512], [64, 2, 0.0001, 0.0, 5, 0, 128], [64, 2, 0.0001, 0.0, 5, 0, 128], [64, 2, 0.0001, 0.0, 5, 0, 128], [32, 7, 0.0001, 0.1, 6, 0, 512], [32, 7, 0.0001, 0.1, 3, 1, 512], [32, 5, 0.0005, 0.1, 3, 1, 128], [64, 2, 0.0001, 0.0, 3, 1, 512], [32, 7, 0.0001, 0.1, 5, 0, 128], [64, 2, 0.0001, 0.0, 3, 1, 512]]\n",
      "[0.1527328153987194, 0.15314040025069792, 0.15516690119379029, 0.15516690119379029, 0.155955913753435, 0.16084390029286694, 0.16256376927743507, 0.16716826040896599, 0.16881174109172972, 0.17521730158255663]\n"
     ]
    }
   ],
   "source": [
    "feat,besteverygen = featSelection.fit(Xtrain,ytrain)"
   ]
  },
  {
   "cell_type": "code",
   "execution_count": 6,
   "metadata": {},
   "outputs": [
    {
     "data": {
      "text/plain": [
       "[32, 5, 0.0005, 0.1, 3, 1, 512]"
      ]
     },
     "execution_count": 6,
     "metadata": {},
     "output_type": "execute_result"
    }
   ],
   "source": [
    "feat"
   ]
  },
  {
   "cell_type": "code",
   "execution_count": 7,
   "metadata": {},
   "outputs": [
    {
     "data": {
      "text/plain": [
       "['Generasi 0',\n",
       " [32, 5, 0.0005, 0.1, 3, 1, 128],\n",
       " 0.16256376927743507,\n",
       " [32, 5, 0.0005, 0.1, 3, 1, 128],\n",
       " 0.16256376927743507,\n",
       " [32, 5, 0.0005, 0.1, 3, 1, 128],\n",
       " 0.16256376927743507,\n",
       " [32, 5, 0.0005, 0.1, 3, 1, 128],\n",
       " 0.16256376927743507,\n",
       " [32, 5, 0.0005, 0.1, 3, 1, 128],\n",
       " 0.16256376927743507,\n",
       " [32, 7, 0.0001, 0.1, 6, 0, 512],\n",
       " 0.155955913753435,\n",
       " [32, 7, 0.0001, 0.1, 6, 0, 512],\n",
       " 0.155955913753435,\n",
       " [32, 7, 0.0001, 0.1, 6, 0, 512],\n",
       " 0.155955913753435,\n",
       " [32, 7, 0.0001, 0.1, 6, 0, 512],\n",
       " 0.155955913753435,\n",
       " [32, 7, 0.0001, 0.1, 6, 0, 512],\n",
       " 0.155955913753435,\n",
       " [32, 7, 0.0001, 0.1, 6, 0, 512],\n",
       " 0.155955913753435,\n",
       " [32, 7, 0.0001, 0.1, 6, 0, 512],\n",
       " 0.155955913753435,\n",
       " [32, 7, 0.0001, 0.1, 6, 0, 512],\n",
       " 0.155955913753435,\n",
       " [32, 7, 0.0001, 0.1, 6, 0, 512],\n",
       " 0.155955913753435,\n",
       " [64, 2, 0.0001, 0.0, 5, 0, 128],\n",
       " 0.15516690119379029,\n",
       " [64, 2, 0.0001, 0.0, 5, 0, 128],\n",
       " 0.15516690119379029,\n",
       " [32, 5, 0.0005, 0.1, 3, 1, 512],\n",
       " 0.1527328153987194,\n",
       " [32, 5, 0.0005, 0.1, 3, 1, 512],\n",
       " 0.1527328153987194,\n",
       " [32, 5, 0.0005, 0.1, 3, 1, 512],\n",
       " 0.1527328153987194,\n",
       " [32, 5, 0.0005, 0.1, 3, 1, 512],\n",
       " 0.1527328153987194,\n",
       " [32, 5, 0.0005, 0.1, 3, 1, 512],\n",
       " 0.1527328153987194]"
      ]
     },
     "execution_count": 7,
     "metadata": {},
     "output_type": "execute_result"
    }
   ],
   "source": [
    "besteverygen"
   ]
  },
  {
   "cell_type": "markdown",
   "metadata": {},
   "source": [
    "# CNN"
   ]
  },
  {
   "cell_type": "code",
   "execution_count": 8,
   "metadata": {},
   "outputs": [
    {
     "name": "stdout",
     "output_type": "stream",
     "text": [
      "Epoch 1/10\n",
      "66/66 [==============================] - 283s 41ms/step - loss: 0.6940 - accuracy: 0.5251 - val_loss: 0.6822 - val_accuracy: 0.5257\n",
      "Epoch 2/10\n",
      "66/66 [==============================] - 0s 5ms/step - loss: 0.6570 - accuracy: 0.5944 - val_loss: 0.6571 - val_accuracy: 0.6353\n",
      "Epoch 3/10\n",
      "66/66 [==============================] - 0s 5ms/step - loss: 0.5577 - accuracy: 0.7020 - val_loss: 0.5689 - val_accuracy: 0.6734\n",
      "Epoch 4/10\n",
      "66/66 [==============================] - 0s 5ms/step - loss: 0.4860 - accuracy: 0.7511 - val_loss: 0.4801 - val_accuracy: 0.7763\n",
      "Epoch 5/10\n",
      "66/66 [==============================] - 0s 5ms/step - loss: 0.5033 - accuracy: 0.7711 - val_loss: 0.4281 - val_accuracy: 0.8345\n",
      "Epoch 6/10\n",
      "66/66 [==============================] - 0s 5ms/step - loss: 0.4055 - accuracy: 0.8445 - val_loss: 0.6055 - val_accuracy: 0.7002\n",
      "Epoch 7/10\n",
      "66/66 [==============================] - 0s 5ms/step - loss: 0.3909 - accuracy: 0.8283 - val_loss: 0.2645 - val_accuracy: 0.9306\n",
      "Epoch 8/10\n",
      "66/66 [==============================] - 0s 5ms/step - loss: 0.3011 - accuracy: 0.8799 - val_loss: 0.5121 - val_accuracy: 0.7159\n",
      "Epoch 9/10\n",
      "66/66 [==============================] - 0s 5ms/step - loss: 0.3629 - accuracy: 0.8544 - val_loss: 0.2617 - val_accuracy: 0.8993\n",
      "Epoch 10/10\n",
      "66/66 [==============================] - 0s 5ms/step - loss: 0.2636 - accuracy: 0.8966 - val_loss: 0.3063 - val_accuracy: 0.8702\n",
      "INFO:tensorflow:Assets written to: CNNP3V2.model\\assets\n"
     ]
    }
   ],
   "source": [
    "            pop = feat\n",
    "            f = pop[0]\n",
    "            k = pop[1]\n",
    "            learning = pop[2]\n",
    "            dropout = pop[3]\n",
    "            layer = pop[4]\n",
    "            pool = pop[5]\n",
    "            node = pop[6]\n",
    "            \n",
    "            model = Sequential()\n",
    "            gpu_options = tf.compat.v1.GPUOptions(per_process_gpu_memory_fraction=0.050)\n",
    "\n",
    "            config = ConfigProto()\n",
    "            config.gpu_options.per_process_gpu_memory_fraction = 0.050\n",
    "            session = InteractiveSession(config=config)\n",
    "\n",
    "            seed(99)\n",
    "            tf.random.set_seed(99)\n",
    "            if (pool == 0) :\n",
    "                model.add(Conv2D(f, (k, k), input_shape=Xtrain.shape[1:]))\n",
    "                model.add(Activation('relu'))\n",
    "                model.add(MaxPooling2D(pool_size=(2, 2)))\n",
    "\n",
    "                for i in range(layer-1):\n",
    "                    model.add(Conv2D(f, (k,k),padding='same'))\n",
    "                    model.add(Activation('relu'))\n",
    "                    model.add(MaxPooling2D(pool_size=(2, 2)))\n",
    "\n",
    "                model.add(Flatten())\n",
    "                \n",
    "                model.add(Dense(node))\n",
    "                model.add(Activation('relu'))\n",
    "                model.add(Dropout(dropout))\n",
    "\n",
    "                model.add(Dense(1))\n",
    "                model.add(Activation('sigmoid'))\n",
    "\n",
    "                model.compile(loss='binary_crossentropy',optimizer=keras.optimizers.Adam(learning_rate=learning),metrics=['accuracy'])\n",
    "            \n",
    "                model1 = model.fit(Xtrain, ytrain ,batch_size=16,epochs=10,validation_split=0.3)\n",
    "                model.save('CNNP3V2.model')\n",
    "\n",
    "            else :\n",
    "                model.add(Conv2D(f,(k,k), input_shape=Xtrain.shape[1:]))\n",
    "                model.add(Activation('relu'))\n",
    "                model.add(AveragePooling2D(pool_size=(2, 2)))\n",
    "\n",
    "                for i in range(layer-1):\n",
    "                    model.add(Conv2D(f, (k,k),padding='same'))\n",
    "                    model.add(Activation('relu'))\n",
    "                    model.add(AveragePooling2D(pool_size=(2, 2)))\n",
    "\n",
    "                model.add(Flatten())\n",
    "                \n",
    "                model.add(Dense(node))\n",
    "                model.add(Activation('relu'))\n",
    "                model.add(Dropout(dropout))\n",
    "\n",
    "                model.add(Dense(1))\n",
    "                model.add(Activation('sigmoid'))\n",
    "\n",
    "                model.compile(loss='binary_crossentropy',optimizer=keras.optimizers.Adam(learning_rate=learning),metrics=['accuracy'])\n",
    "            \n",
    "                model1 = model.fit(Xtrain, ytrain,batch_size=16,epochs=10,validation_split=0.3)\n",
    "                model.save('CNNP3V2.model')"
   ]
  },
  {
   "cell_type": "code",
   "execution_count": 9,
   "metadata": {},
   "outputs": [
    {
     "data": {
      "image/png": "[encoded data removed]",
      "text/plain": [
       "<Figure size 1080x720 with 1 Axes>"
      ]
     },
     "metadata": {
      "needs_background": "light"
     },
     "output_type": "display_data"
    }
   ],
   "source": [
    "import matplotlib.pyplot as plt\n",
    "#Loss Visualization for data training and validation\n",
    "\n",
    "plt.figure(figsize=(15,10))\n",
    "plt.plot(model1.history['loss'])\n",
    "plt.plot(model1.history['val_loss'])\n",
    "plt.title('Model Performance')\n",
    "plt.xlabel('Epoch')\n",
    "plt.ylabel('Loss')\n",
    "plt.legend(['Train','Validation'], loc='upper right')\n",
    "plt.show()"
   ]
  },
  {
   "cell_type": "code",
   "execution_count": 10,
   "metadata": {},
   "outputs": [],
   "source": [
    "model = tf.keras.models.load_model(\"CNNP3V2.model\")"
   ]
  },
  {
   "cell_type": "markdown",
   "metadata": {},
   "source": [
    "# Data Latih"
   ]
  },
  {
   "cell_type": "code",
   "execution_count": 11,
   "metadata": {},
   "outputs": [
    {
     "data": {
      "text/plain": [
       "0.7466398"
      ]
     },
     "execution_count": 11,
     "metadata": {},
     "output_type": "execute_result"
    }
   ],
   "source": [
    "prediction = model.predict(Xtrain2)\n",
    "m = tf.keras.metrics.BinaryAccuracy()\n",
    "m.update_state(ytrain2,prediction, sample_weight=None)\n",
    "m.result().numpy()"
   ]
  },
  {
   "cell_type": "code",
   "execution_count": 12,
   "metadata": {},
   "outputs": [
    {
     "data": {
      "text/plain": [
       "0.6807229"
      ]
     },
     "execution_count": 12,
     "metadata": {},
     "output_type": "execute_result"
    }
   ],
   "source": [
    "m = tf.keras.metrics.Precision()\n",
    "m.update_state(ytrain2,prediction, sample_weight=None)\n",
    "m.result().numpy()"
   ]
  },
  {
   "cell_type": "code",
   "execution_count": 13,
   "metadata": {},
   "outputs": [
    {
     "data": {
      "text/plain": [
       "0.9199457"
      ]
     },
     "execution_count": 13,
     "metadata": {},
     "output_type": "execute_result"
    }
   ],
   "source": [
    "m = tf.keras.metrics.Recall()\n",
    "m.update_state(ytrain2,prediction, sample_weight=None)\n",
    "m.result().numpy()"
   ]
  },
  {
   "cell_type": "code",
   "execution_count": 14,
   "metadata": {},
   "outputs": [
    {
     "data": {
      "text/plain": [
       "59.0"
      ]
     },
     "execution_count": 14,
     "metadata": {},
     "output_type": "execute_result"
    }
   ],
   "source": [
    "m = tf.keras.metrics.FalseNegatives()\n",
    "m.update_state(ytrain2,prediction, sample_weight=None)\n",
    "m.result().numpy()"
   ]
  },
  {
   "cell_type": "code",
   "execution_count": 15,
   "metadata": {},
   "outputs": [
    {
     "data": {
      "text/plain": [
       "318.0"
      ]
     },
     "execution_count": 15,
     "metadata": {},
     "output_type": "execute_result"
    }
   ],
   "source": [
    "m = tf.keras.metrics.FalsePositives()\n",
    "m.update_state(ytrain2,prediction, sample_weight=None)\n",
    "m.result().numpy()"
   ]
  },
  {
   "cell_type": "code",
   "execution_count": 16,
   "metadata": {},
   "outputs": [
    {
     "data": {
      "text/plain": [
       "433.0"
      ]
     },
     "execution_count": 16,
     "metadata": {},
     "output_type": "execute_result"
    }
   ],
   "source": [
    "m = tf.keras.metrics.TrueNegatives()\n",
    "m.update_state(ytrain2,prediction, sample_weight=None)\n",
    "m.result().numpy()"
   ]
  },
  {
   "cell_type": "code",
   "execution_count": 17,
   "metadata": {},
   "outputs": [
    {
     "data": {
      "text/plain": [
       "678.0"
      ]
     },
     "execution_count": 17,
     "metadata": {},
     "output_type": "execute_result"
    }
   ],
   "source": [
    "m = tf.keras.metrics.TruePositives()\n",
    "m.update_state(ytrain2,prediction, sample_weight=None)\n",
    "m.result().numpy()"
   ]
  },
  {
   "cell_type": "markdown",
   "metadata": {},
   "source": [
    "# Data Validasi"
   ]
  },
  {
   "cell_type": "code",
   "execution_count": 18,
   "metadata": {},
   "outputs": [
    {
     "data": {
      "text/plain": [
       "0.80546623"
      ]
     },
     "execution_count": 18,
     "metadata": {},
     "output_type": "execute_result"
    }
   ],
   "source": [
    "prediction = model.predict(Xval)\n",
    "m = tf.keras.metrics.BinaryAccuracy()\n",
    "m.update_state(yval,prediction, sample_weight=None)\n",
    "m.result().numpy()"
   ]
  },
  {
   "cell_type": "code",
   "execution_count": 19,
   "metadata": {},
   "outputs": [
    {
     "data": {
      "text/plain": [
       "0.74670184"
      ]
     },
     "execution_count": 19,
     "metadata": {},
     "output_type": "execute_result"
    }
   ],
   "source": [
    "m = tf.keras.metrics.Precision()\n",
    "m.update_state(yval,prediction, sample_weight=None)\n",
    "m.result().numpy()"
   ]
  },
  {
   "cell_type": "code",
   "execution_count": 20,
   "metadata": {},
   "outputs": [
    {
     "data": {
      "text/plain": [
       "0.91883117"
      ]
     },
     "execution_count": 20,
     "metadata": {},
     "output_type": "execute_result"
    }
   ],
   "source": [
    "m = tf.keras.metrics.Recall()\n",
    "m.update_state(yval,prediction, sample_weight=None)\n",
    "m.result().numpy()"
   ]
  },
  {
   "cell_type": "code",
   "execution_count": 21,
   "metadata": {},
   "outputs": [
    {
     "data": {
      "text/plain": [
       "25.0"
      ]
     },
     "execution_count": 21,
     "metadata": {},
     "output_type": "execute_result"
    }
   ],
   "source": [
    "m = tf.keras.metrics.FalseNegatives()\n",
    "m.update_state(yval,prediction, sample_weight=None)\n",
    "m.result().numpy()"
   ]
  },
  {
   "cell_type": "code",
   "execution_count": 22,
   "metadata": {},
   "outputs": [
    {
     "data": {
      "text/plain": [
       "96.0"
      ]
     },
     "execution_count": 22,
     "metadata": {},
     "output_type": "execute_result"
    }
   ],
   "source": [
    "m = tf.keras.metrics.FalsePositives()\n",
    "m.update_state(yval,prediction, sample_weight=None)\n",
    "m.result().numpy()"
   ]
  },
  {
   "cell_type": "code",
   "execution_count": 23,
   "metadata": {},
   "outputs": [
    {
     "data": {
      "text/plain": [
       "218.0"
      ]
     },
     "execution_count": 23,
     "metadata": {},
     "output_type": "execute_result"
    }
   ],
   "source": [
    "m = tf.keras.metrics.TrueNegatives()\n",
    "m.update_state(yval,prediction, sample_weight=None)\n",
    "m.result().numpy()"
   ]
  },
  {
   "cell_type": "code",
   "execution_count": 24,
   "metadata": {},
   "outputs": [
    {
     "data": {
      "text/plain": [
       "283.0"
      ]
     },
     "execution_count": 24,
     "metadata": {},
     "output_type": "execute_result"
    }
   ],
   "source": [
    "m = tf.keras.metrics.TruePositives()\n",
    "m.update_state(yval,prediction, sample_weight=None)\n",
    "m.result().numpy()"
   ]
  },
  {
   "cell_type": "markdown",
   "metadata": {},
   "source": [
    "# Data Uji"
   ]
  },
  {
   "cell_type": "code",
   "execution_count": 25,
   "metadata": {},
   "outputs": [
    {
     "data": {
      "text/plain": [
       "0.6846361"
      ]
     },
     "execution_count": 25,
     "metadata": {},
     "output_type": "execute_result"
    }
   ],
   "source": [
    "prediction = model.predict(Xtest)\n",
    "m = tf.keras.metrics.BinaryAccuracy()\n",
    "m.update_state(ytest,prediction, sample_weight=None)\n",
    "m.result().numpy()"
   ]
  },
  {
   "cell_type": "code",
   "execution_count": 26,
   "metadata": {},
   "outputs": [
    {
     "data": {
      "text/plain": [
       "0.6245353"
      ]
     },
     "execution_count": 26,
     "metadata": {},
     "output_type": "execute_result"
    }
   ],
   "source": [
    "m = tf.keras.metrics.Precision()\n",
    "m.update_state(ytest,prediction, sample_weight=None)\n",
    "m.result().numpy()"
   ]
  },
  {
   "cell_type": "code",
   "execution_count": 27,
   "metadata": {},
   "outputs": [
    {
     "data": {
      "text/plain": [
       "0.9130435"
      ]
     },
     "execution_count": 27,
     "metadata": {},
     "output_type": "execute_result"
    }
   ],
   "source": [
    "m = tf.keras.metrics.Recall()\n",
    "m.update_state(ytest,prediction, sample_weight=None)\n",
    "m.result().numpy()"
   ]
  },
  {
   "cell_type": "code",
   "execution_count": 28,
   "metadata": {},
   "outputs": [
    {
     "data": {
      "text/plain": [
       "16.0"
      ]
     },
     "execution_count": 28,
     "metadata": {},
     "output_type": "execute_result"
    }
   ],
   "source": [
    "m = tf.keras.metrics.FalseNegatives()\n",
    "m.update_state(ytest,prediction, sample_weight=None)\n",
    "m.result().numpy()"
   ]
  },
  {
   "cell_type": "code",
   "execution_count": 29,
   "metadata": {},
   "outputs": [
    {
     "data": {
      "text/plain": [
       "101.0"
      ]
     },
     "execution_count": 29,
     "metadata": {},
     "output_type": "execute_result"
    }
   ],
   "source": [
    "m = tf.keras.metrics.FalsePositives()\n",
    "m.update_state(ytest,prediction, sample_weight=None)\n",
    "m.result().numpy()"
   ]
  },
  {
   "cell_type": "code",
   "execution_count": 30,
   "metadata": {},
   "outputs": [
    {
     "data": {
      "text/plain": [
       "86.0"
      ]
     },
     "execution_count": 30,
     "metadata": {},
     "output_type": "execute_result"
    }
   ],
   "source": [
    "m = tf.keras.metrics.TrueNegatives()\n",
    "m.update_state(ytest,prediction, sample_weight=None)\n",
    "m.result().numpy()"
   ]
  },
  {
   "cell_type": "code",
   "execution_count": 31,
   "metadata": {},
   "outputs": [
    {
     "data": {
      "text/plain": [
       "168.0"
      ]
     },
     "execution_count": 31,
     "metadata": {},
     "output_type": "execute_result"
    }
   ],
   "source": [
    "m = tf.keras.metrics.TruePositives()\n",
    "m.update_state(ytest,prediction, sample_weight=None)\n",
    "m.result().numpy()"
   ]
  },
  {
   "cell_type": "code",
   "execution_count": null,
   "metadata": {},
   "outputs": [],
   "source": []
  }
 ],
 "metadata": {
  "kernelspec": {
   "display_name": "Python 3",
   "language": "python",
   "name": "python3"
  },
  "language_info": {
   "codemirror_mode": {
    "name": "ipython",
    "version": 3
   },
   "file_extension": ".py",
   "mimetype": "text/x-python",
   "name": "python",
   "nbconvert_exporter": "python",
   "pygments_lexer": "ipython3",
   "version": "3.8.5"
  }
 },
 "nbformat": 4,
 "nbformat_minor": 4
}
