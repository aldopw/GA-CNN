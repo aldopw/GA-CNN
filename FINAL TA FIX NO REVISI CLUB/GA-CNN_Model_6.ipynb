{
 "cells": [
  {
   "cell_type": "code",
   "execution_count": 1,
   "metadata": {},
   "outputs": [],
   "source": [
    "from sklearn.metrics import mean_squared_error\n",
    "import tensorflow as tf\n",
    "from tensorflow.keras.preprocessing.image import ImageDataGenerator\n",
    "from tensorflow.keras.models import Sequential\n",
    "from tensorflow.keras.layers import Dense, Dropout, Activation, Flatten\n",
    "from tensorflow.keras.layers import Conv2D, MaxPooling2D,AveragePooling2D\n",
    "import numpy as np\n",
    "import pickle\n",
    "import random\n",
    "from numpy.random import seed\n",
    "import time\n",
    "from tensorflow.keras.callbacks import TensorBoard\n",
    "from tensorflow.keras.callbacks import EarlyStopping\n",
    "from tensorflow import keras\n",
    "from tensorflow.compat.v1 import ConfigProto\n",
    "from tensorflow.compat.v1 import InteractiveSession\n",
    "import pandas as pd\n",
    "from secrets import randbelow"
   ]
  },
  {
   "cell_type": "code",
   "execution_count": 2,
   "metadata": {},
   "outputs": [],
   "source": [
    "pickle_in = open(\"Xtrain96.pickle\",\"rb\")\n",
    "Xtrain = pickle.load(pickle_in)\n",
    "\n",
    "pickle_in = open(\"ytrain96.pickle\",\"rb\")\n",
    "ytrain = pickle.load(pickle_in)\n",
    "\n",
    "Xtrain=np.array(Xtrain/255.0)\n",
    "ytrain=np.array(ytrain)\n",
    "\n",
    "pickle_in = open(\"Xval96.pickle\",\"rb\")\n",
    "Xval = pickle.load(pickle_in)\n",
    "\n",
    "pickle_in = open(\"yval96.pickle\",\"rb\")\n",
    "yval = pickle.load(pickle_in)\n",
    "\n",
    "pickle_in = open(\"XTest96.pickle\",\"rb\")\n",
    "Xtest = pickle.load(pickle_in)\n",
    "\n",
    "pickle_in = open(\"ytest96.pickle\",\"rb\")\n",
    "ytest = pickle.load(pickle_in)\n",
    "\n",
    "pickle_in = open(\"Xtrain96.pickle\",\"rb\")\n",
    "Xtrain2 = pickle.load(pickle_in)\n",
    "\n",
    "pickle_in = open(\"ytrain96.pickle\",\"rb\")\n",
    "ytrain2 = pickle.load(pickle_in)"
   ]
  },
  {
   "cell_type": "markdown",
   "metadata": {},
   "source": [
    "# Genetic Algorithm"
   ]
  },
  {
   "cell_type": "code",
   "execution_count": 3,
   "metadata": {},
   "outputs": [],
   "source": [
    "class GA():\n",
    "    def __init__(self,popsize, iter_):\n",
    "        self.popsize = popsize\n",
    "        self.iter_ = iter_\n",
    "        \n",
    "    def popinit(self):\n",
    "        population = [] \n",
    "        random.seed(99)\n",
    "        fmap = [32,64,128,256] \n",
    "        kernel = [2,3,5,7]\n",
    "        learningRate = [0.0001,0.0005, 0.001, 0.005] \n",
    "        dropout = [0.0,0.1,0.2,0.3,0.4,0.5]\n",
    "        layer = [2,3,4,5,6]\n",
    "        pool =[0,1]\n",
    "        node = [64,128,256,512]\n",
    "        for i in range(self.popsize):\n",
    "            inPop = [random.choice(fmap),random.choice(kernel),random.choice(learningRate),random.choice(dropout),random.choice(layer),random.choice(pool),random.choice(node)]\n",
    "            population.append(inPop)\n",
    "        return population\n",
    "\n",
    "        \n",
    "    def fitness(self,population,X,y):\n",
    "        savefit=[]\n",
    "        for i in range(len(population)):\n",
    "            pop = population[i]\n",
    "            f = pop[0]\n",
    "            k = pop[1]\n",
    "            learning = pop[2]\n",
    "            dropout = pop[3]\n",
    "            layer = pop[4]\n",
    "            pool = pop[5]\n",
    "            node = pop[6]\n",
    "            \n",
    "            model = Sequential()\n",
    "            gpu_options = tf.compat.v1.GPUOptions(per_process_gpu_memory_fraction=0.050)\n",
    "\n",
    "            config = ConfigProto()\n",
    "            config.gpu_options.per_process_gpu_memory_fraction = 0.050\n",
    "            session = InteractiveSession(config=config)\n",
    "\n",
    "            seed(99)\n",
    "            tf.random.set_seed(99)\n",
    "            if (pool == 0) :\n",
    "                model.add(Conv2D(f, (k, k), input_shape=X.shape[1:]))\n",
    "                model.add(Activation('relu'))\n",
    "                model.add(MaxPooling2D(pool_size=(2, 2)))\n",
    "\n",
    "                for i in range(layer-1):\n",
    "                    model.add(Conv2D(f, (k,k),padding='same'))\n",
    "                    model.add(Activation('relu'))\n",
    "                    model.add(MaxPooling2D(pool_size=(2, 2)))\n",
    "\n",
    "                model.add(Flatten())\n",
    "                \n",
    "                model.add(Dense(node))\n",
    "                model.add(Activation('relu'))\n",
    "                model.add(Dropout(dropout))\n",
    "\n",
    "                model.add(Dense(1))\n",
    "                model.add(Activation('sigmoid'))\n",
    "\n",
    "                model.compile(loss='binary_crossentropy',optimizer=keras.optimizers.Adam(learning_rate=learning),metrics=['accuracy'])\n",
    "            \n",
    "                model.fit(X, y,batch_size=16,epochs=10,validation_split=0.3)\n",
    "                model.save('CNN.model')\n",
    "                modelcnn = tf.keras.models.load_model(\"CNN.model\")\n",
    "\n",
    "                prediction = modelcnn.predict(Xval)\n",
    "                mse = mean_squared_error(yval,prediction)\n",
    "                savefit.append(mse)\n",
    "\n",
    "            else :\n",
    "                model.add(Conv2D(f,(k,k), input_shape=X.shape[1:]))\n",
    "                model.add(Activation('relu'))\n",
    "                model.add(AveragePooling2D(pool_size=(2, 2)))\n",
    "\n",
    "                for i in range(layer-1):\n",
    "                    model.add(Conv2D(f, (k,k),padding='same'))\n",
    "                    model.add(Activation('relu'))\n",
    "                    model.add(AveragePooling2D(pool_size=(2, 2)))\n",
    "\n",
    "                model.add(Flatten())\n",
    "                \n",
    "                model.add(Dense(node))\n",
    "                model.add(Activation('relu'))\n",
    "                model.add(Dropout(dropout))\n",
    "\n",
    "                model.add(Dense(1))\n",
    "                model.add(Activation('sigmoid'))\n",
    "\n",
    "                model.compile(loss='binary_crossentropy',optimizer=keras.optimizers.Adam(learning_rate=learning),metrics=['accuracy'])\n",
    "            \n",
    "                model.fit(X, y,batch_size=16,epochs=10,validation_split=0.3)\n",
    "                model.save('CNN.model')\n",
    "                modelcnn = tf.keras.models.load_model(\"CNN.model\")\n",
    "        \n",
    "                prediction = modelcnn.predict(Xval)\n",
    "                mse = mean_squared_error(yval,prediction)\n",
    "                savefit.append(mse)\n",
    "\n",
    "        return savefit\n",
    "    \n",
    "    def fitmutation(self,mut,X,y):\n",
    "            pop = mut\n",
    "            f = pop[0]\n",
    "            k = pop[1]\n",
    "            learning = pop[2]\n",
    "            dropout = pop[3]\n",
    "            layer = pop[4]\n",
    "            pool = pop[5]\n",
    "            node = pop[6]\n",
    "            \n",
    "            model = Sequential()\n",
    "            gpu_options = tf.compat.v1.GPUOptions(per_process_gpu_memory_fraction=0.050)\n",
    "\n",
    "            config = ConfigProto()\n",
    "            config.gpu_options.per_process_gpu_memory_fraction = 0.050\n",
    "            session = InteractiveSession(config=config)\n",
    "\n",
    "            seed(99)\n",
    "            tf.random.set_seed(99)\n",
    "            if (pool == 0) :\n",
    "                model.add(Conv2D(f, (k, k), input_shape=X.shape[1:]))\n",
    "                model.add(Activation('relu'))\n",
    "                model.add(MaxPooling2D(pool_size=(2, 2)))\n",
    "\n",
    "                for i in range(layer-1):\n",
    "                    model.add(Conv2D(f, (k,k),padding='same'))\n",
    "                    model.add(Activation('relu'))\n",
    "                    model.add(MaxPooling2D(pool_size=(2, 2)))\n",
    "\n",
    "                model.add(Flatten())\n",
    "                \n",
    "                model.add(Dense(node))\n",
    "                model.add(Activation('relu'))\n",
    "                model.add(Dropout(dropout))\n",
    "\n",
    "                model.add(Dense(1))\n",
    "                model.add(Activation('sigmoid'))\n",
    "\n",
    "                model.compile(loss='binary_crossentropy',optimizer=keras.optimizers.Adam(learning_rate=learning),metrics=['accuracy'])\n",
    "            \n",
    "                model.fit(X, y,batch_size=16,epochs=10,validation_split=0.3)\n",
    "                model.save('CNNmut.model')\n",
    "                modelcnn = tf.keras.models.load_model(\"CNNmut.model\")\n",
    "\n",
    "                prediction = modelcnn.predict(Xval)\n",
    "                mse = mean_squared_error(yval,prediction)\n",
    "                fitmut = mse\n",
    "\n",
    "            else :\n",
    "                model.add(Conv2D(f,(k,k), input_shape=X.shape[1:]))\n",
    "                model.add(Activation('relu'))\n",
    "                model.add(AveragePooling2D(pool_size=(2, 2)))\n",
    "\n",
    "                for i in range(layer-1):\n",
    "                    model.add(Conv2D(f, (k,k),padding='same'))\n",
    "                    model.add(Activation('relu'))\n",
    "                    model.add(AveragePooling2D(pool_size=(2, 2)))\n",
    "\n",
    "                model.add(Flatten())\n",
    "                \n",
    "                model.add(Dense(node))\n",
    "                model.add(Activation('relu'))\n",
    "                model.add(Dropout(dropout))\n",
    "\n",
    "                model.add(Dense(1))\n",
    "                model.add(Activation('sigmoid'))\n",
    "\n",
    "                model.compile(loss='binary_crossentropy',optimizer=keras.optimizers.Adam(learning_rate=learning),metrics=['accuracy'])\n",
    "            \n",
    "                model.fit(X, y,batch_size=16,epochs=10,validation_split=0.3)\n",
    "                model.save('CNNmut.model')\n",
    "                modelcnn = tf.keras.models.load_model(\"CNNmut.model\")\n",
    "        \n",
    "                prediction = modelcnn.predict(Xval)\n",
    "                mse = mean_squared_error(yval,prediction)\n",
    "                fitmut = mse\n",
    "            return fitmut\n",
    "        \n",
    "    \n",
    "    def parent_select(self,population, fitness):\n",
    "        sumfit = np.sum(fitness)\n",
    "        prob=[]\n",
    "        parent_1=[]\n",
    "        random.seed(99)\n",
    "        for i in range(len(fitness)):\n",
    "            tmp = fitness[i]/sumfit\n",
    "            prob.append(tmp)\n",
    "        prob_range = []\n",
    "        sum_ = 0\n",
    "        for i in range(len(prob)):\n",
    "                sum_ += prob[i]\n",
    "                prob_range.append(sum_)\n",
    "        for i in range(len(prob)):\n",
    "                rand = random.random()\n",
    "                if rand <= prob_range[i]:\n",
    "                    parent_1 = population[i]\n",
    "                    break\n",
    "        # select second parent\n",
    "        parent_2 = parent_1\n",
    "        while (parent_2 == parent_1):\n",
    "                for i in range(len(prob)):\n",
    "                    rand = random.random()\n",
    "                    if rand <= prob_range[i]:\n",
    "                        parent_2 = population[i]\n",
    "                        break\n",
    "        return parent_1, parent_2\n",
    "    \n",
    "    def cross_over(self,parent1, parent2):\n",
    "        random.seed(99)\n",
    "        crosspoint = random.randrange(0,6)\n",
    "        child1 = parent1[:crosspoint+1] + parent2[crosspoint+1:]\n",
    "        child2 = parent2[:crosspoint+1] + parent1[crosspoint+1:] \n",
    "        return child1, child2\n",
    "    \n",
    "    def mutation(self,child1, child2):\n",
    "        import copy\n",
    "        random.seed(99)\n",
    "        tmp1 = copy.deepcopy(child1)\n",
    "        tmp2 = copy.deepcopy(child2)\n",
    "        fmap = [32,64,128,256] \n",
    "        kernel = [2,3,5,7]\n",
    "        learningRate = [0.0001,0.0005, 0.001, 0.005] \n",
    "        dropout = [0.0,0.1,0.2,0.3,0.4,0.5]\n",
    "        layer = [2,3,4,5,6]\n",
    "        pool =[0,1]\n",
    "        node = [64,128,256,512]\n",
    "        for i in range(len(tmp1)):    \n",
    "            if (i == 0) :\n",
    "                prob = random.random()\n",
    "                if (prob<=0.01) :\n",
    "                    tmp1[point] = random.choice(fmap)\n",
    "                    tmp2[point] = random.choice(fmap)\n",
    "            elif (i ==1):\n",
    "                prob = random.random()\n",
    "                if (prob<=0.01) :\n",
    "                    tmp1[point] = random.choice(kernel)\n",
    "                    tmp2[point] = random.choice(kernel)\n",
    "            elif (i == 2) :\n",
    "                prob = random.random()\n",
    "                if (prob<=0.01) :\n",
    "                    tmp1[point] = random.choice(learningRate)\n",
    "                    tmp2[point] = random.choice(learningRate)\n",
    "            elif (i == 3) :\n",
    "                prob = random.random()\n",
    "                if (prob<=0.01) :\n",
    "                    tmp1[point] = random.choice(dropout)\n",
    "                    tmp2[point] = random.choice(dropout)\n",
    "            elif (i == 4) :\n",
    "                prob = random.random()\n",
    "                if (prob<=0.01) :\n",
    "                    tmp1[point] = random.choice(layer)\n",
    "                    tmp2[point] = random.choice(layer)\n",
    "            elif (i == 5) :\n",
    "                prob = random.random()\n",
    "                if (prob<=0.01) :\n",
    "                    tmp1[point] = random.choice(pool)\n",
    "                    tmp2[point] = random.choice(pool)\n",
    "            else :\n",
    "                prob = random.random()\n",
    "                if (prob<=0.01) :\n",
    "                    tmp1[point] = random.choice(node)\n",
    "                    tmp2[point] = random.choice(node)\n",
    "        return tmp1, tmp2\n",
    "       \n",
    "    def sort(self, population, fitness):\n",
    "        tmp_dict = {'population' : population,'fitness': fitness }\n",
    "        df = pd.DataFrame(tmp_dict)\n",
    "        df.sort_values('fitness', ascending=True, inplace=True)\n",
    "        new_pop = df['population'].values.tolist()\n",
    "        fit = df['fitness'].values.tolist()\n",
    "        return new_pop, fit\n",
    "    \n",
    "    def newfit(self,mut1,mut2,listindividu,X,y) :\n",
    "        tmpmut=[]\n",
    "        tmpfit1=0.0\n",
    "        tmpfit2=0.0\n",
    "        tmpmut.append(mut1)\n",
    "        tmpmut.append(mut2)\n",
    "        for i in listindividu:\n",
    "            if i[0] == mut1 :\n",
    "                tmpfit1  = (i[1])\n",
    "            if i[0] == mut2 :\n",
    "                tmpfit2 = (i[1])\n",
    "        if (tmpfit1)==0.0 and (tmpfit2)==0.0 :\n",
    "            fitness = self.fitness(tmpmut,X,y)\n",
    "            fit1 = fitness[0]\n",
    "            fit2 = fitness[1]\n",
    "        elif (tmpfit1)==0.0 :\n",
    "            fit1 = self.fitmutation(mut1,X,y)\n",
    "            fit2 = tmpfit2\n",
    "        else :\n",
    "            fit1= tmpfit1\n",
    "            fit2 = self.fitmutation(mut2,X,y)\n",
    "        return fit1,fit2\n",
    "                        \n",
    "    \n",
    "    def fit(self,X,y):\n",
    "        pop = self.popinit()\n",
    "        fitness = self.fitness(pop,X,y)\n",
    "        listindividu =[]\n",
    "        for i in range(len(pop)):\n",
    "            a = pop[i]\n",
    "            b = fitness[i]\n",
    "            temp=[a,b]\n",
    "            listindividu.append(temp)\n",
    "        print(pop)\n",
    "        print(fitness)\n",
    "        bestingen =[]\n",
    "        index = np.argmin(fitness)\n",
    "        popgen = pop[index]\n",
    "        fitgen = fitness[index]\n",
    "        bestingen.append('Generasi 0')\n",
    "        bestingen.append(popgen)\n",
    "        bestingen.append(fitgen)\n",
    "        for i in range(self.iter_):\n",
    "            print( 'Generasi Ke ' , i+1 )\n",
    "            parent_1, parent_2 = self.parent_select(pop, fitness)\n",
    "            print('Parent 1 dan 2 ', parent_1, parent_2)\n",
    "            child_1, child_2 = self.cross_over(parent_1, parent_2)\n",
    "            print('Child 1 dan 2', child_1, child_2 )\n",
    "            mut1, mut2 = self.mutation(child_1, child_2)\n",
    "            print('Mutasi 1 dan 2', mut1, mut2)\n",
    "            pop, fitness = self.sort(pop,fitness)\n",
    "            fitmut1,fitmut2 = self.newfit(mut1,mut2,listindividu,X,y)\n",
    "            pop[-1] = mut1; pop[-2] = mut2\n",
    "            fitness[-1] = fitmut1 ; fitness[-2] = fitmut2\n",
    "            mutt=[]\n",
    "            mutt.append(mut1)\n",
    "            mutt.append(mut2)\n",
    "            fitmut=[]\n",
    "            fitmut.append(fitmut1)\n",
    "            fitmut.append(fitmut2)\n",
    "            update=[]\n",
    "            for i in range(len(mutt)) :\n",
    "                a = mutt[i]\n",
    "                b = fitmut[i]\n",
    "                temp=[a,b]\n",
    "                update.append(temp)\n",
    "            listindividu.extend(update)\n",
    "            print(pop)\n",
    "            print(fitness)\n",
    "            index = np.argmin(fitness)\n",
    "            popgen = pop[index]\n",
    "            fitgen = fitness[index]\n",
    "            bestingen.append(popgen)\n",
    "            bestingen.append(fitgen)\n",
    "        idx_ = np.argmin(fitness)\n",
    "        best_pop = pop[idx_]\n",
    "        return  best_pop,bestingen"
   ]
  },
  {
   "cell_type": "code",
   "execution_count": 4,
   "metadata": {},
   "outputs": [],
   "source": [
    "featSelection = GA( popsize=10, iter_=20)"
   ]
  },
  {
   "cell_type": "code",
   "execution_count": 5,
   "metadata": {},
   "outputs": [
    {
     "name": "stdout",
     "output_type": "stream",
     "text": [
      "Epoch 1/10\n",
      "66/66 [==============================] - 279s 90ms/step - loss: 0.8434 - accuracy: 0.5207 - val_loss: 0.6919 - val_accuracy: 0.5011\n",
      "Epoch 2/10\n",
      "66/66 [==============================] - 3s 47ms/step - loss: 0.6909 - accuracy: 0.5119 - val_loss: 0.5989 - val_accuracy: 0.6846\n",
      "Epoch 3/10\n",
      "66/66 [==============================] - 3s 47ms/step - loss: 0.6221 - accuracy: 0.6869 - val_loss: 0.6127 - val_accuracy: 0.7025\n",
      "Epoch 4/10\n",
      "66/66 [==============================] - 3s 47ms/step - loss: 0.5860 - accuracy: 0.6940 - val_loss: 0.5228 - val_accuracy: 0.7472\n",
      "Epoch 5/10\n",
      "66/66 [==============================] - 3s 47ms/step - loss: 0.5313 - accuracy: 0.7345 - val_loss: 0.4815 - val_accuracy: 0.7987\n",
      "Epoch 6/10\n",
      "66/66 [==============================] - 3s 47ms/step - loss: 0.4583 - accuracy: 0.7782 - val_loss: 0.4470 - val_accuracy: 0.8098\n",
      "Epoch 7/10\n",
      "66/66 [==============================] - 3s 47ms/step - loss: 0.4272 - accuracy: 0.8093 - val_loss: 0.4549 - val_accuracy: 0.8054\n",
      "Epoch 8/10\n",
      "66/66 [==============================] - 3s 47ms/step - loss: 0.4305 - accuracy: 0.8204 - val_loss: 0.3615 - val_accuracy: 0.8479\n",
      "Epoch 9/10\n",
      "66/66 [==============================] - 3s 47ms/step - loss: 0.3556 - accuracy: 0.8477 - val_loss: 0.3913 - val_accuracy: 0.8412\n",
      "Epoch 10/10\n",
      "66/66 [==============================] - 3s 47ms/step - loss: 0.4266 - accuracy: 0.7992 - val_loss: 0.4350 - val_accuracy: 0.7875\n",
      "INFO:tensorflow:Assets written to: CNN.model\\assets\n"
     ]
    },
    {
     "name": "stderr",
     "output_type": "stream",
     "text": [
      "D:\\ProgramData\\Anaconda3\\lib\\site-packages\\tensorflow\\python\\client\\session.py:1761: UserWarning: An interactive session is already active. This can cause out-of-memory errors in some cases. You must explicitly call `InteractiveSession.close()` to release resources held by the other session(s).\n",
      "  warnings.warn('An interactive session is already active. This can '\n"
     ]
    },
    {
     "name": "stdout",
     "output_type": "stream",
     "text": [
      "Epoch 1/10\n",
      "66/66 [==============================] - 5s 44ms/step - loss: 0.6937 - accuracy: 0.5310 - val_loss: 0.6916 - val_accuracy: 0.5011\n",
      "Epoch 2/10\n",
      "66/66 [==============================] - 0s 7ms/step - loss: 0.6950 - accuracy: 0.4791 - val_loss: 0.6917 - val_accuracy: 0.6644\n",
      "Epoch 3/10\n",
      "66/66 [==============================] - 0s 7ms/step - loss: 0.6896 - accuracy: 0.5521 - val_loss: 0.6645 - val_accuracy: 0.6756\n",
      "Epoch 4/10\n",
      "66/66 [==============================] - 0s 7ms/step - loss: 0.6444 - accuracy: 0.6519 - val_loss: 0.5726 - val_accuracy: 0.7204\n",
      "Epoch 5/10\n",
      "66/66 [==============================] - 0s 7ms/step - loss: 0.5788 - accuracy: 0.7223 - val_loss: 0.4683 - val_accuracy: 0.7987\n",
      "Epoch 6/10\n",
      "66/66 [==============================] - 0s 7ms/step - loss: 0.4895 - accuracy: 0.7766 - val_loss: 0.3904 - val_accuracy: 0.8412\n",
      "Epoch 7/10\n",
      "66/66 [==============================] - 0s 7ms/step - loss: 0.3330 - accuracy: 0.8457 - val_loss: 0.2301 - val_accuracy: 0.9083\n",
      "Epoch 8/10\n",
      "66/66 [==============================] - 0s 7ms/step - loss: 0.2157 - accuracy: 0.9114 - val_loss: 0.2433 - val_accuracy: 0.8971\n",
      "Epoch 9/10\n",
      "66/66 [==============================] - 0s 7ms/step - loss: 0.2277 - accuracy: 0.9099 - val_loss: 0.1613 - val_accuracy: 0.9217\n",
      "Epoch 10/10\n",
      "66/66 [==============================] - 0s 7ms/step - loss: 0.1225 - accuracy: 0.9545 - val_loss: 0.1603 - val_accuracy: 0.9306\n",
      "INFO:tensorflow:Assets written to: CNN.model\\assets\n"
     ]
    },
    {
     "name": "stderr",
     "output_type": "stream",
     "text": [
      "D:\\ProgramData\\Anaconda3\\lib\\site-packages\\tensorflow\\python\\client\\session.py:1761: UserWarning: An interactive session is already active. This can cause out-of-memory errors in some cases. You must explicitly call `InteractiveSession.close()` to release resources held by the other session(s).\n",
      "  warnings.warn('An interactive session is already active. This can '\n"
     ]
    },
    {
     "name": "stdout",
     "output_type": "stream",
     "text": [
      "Epoch 1/10\n",
      "66/66 [==============================] - 5s 48ms/step - loss: 0.7000 - accuracy: 0.4791 - val_loss: 0.6931 - val_accuracy: 0.5011\n",
      "Epoch 2/10\n",
      "66/66 [==============================] - 1s 10ms/step - loss: 0.6935 - accuracy: 0.4751 - val_loss: 0.6931 - val_accuracy: 0.5749\n",
      "Epoch 3/10\n",
      "66/66 [==============================] - 1s 9ms/step - loss: 0.6939 - accuracy: 0.4981 - val_loss: 0.6924 - val_accuracy: 0.6465\n",
      "Epoch 4/10\n",
      "66/66 [==============================] - 1s 9ms/step - loss: 0.6930 - accuracy: 0.5649 - val_loss: 0.6735 - val_accuracy: 0.6197\n",
      "Epoch 5/10\n",
      "66/66 [==============================] - 1s 9ms/step - loss: 0.6686 - accuracy: 0.6279 - val_loss: 0.6553 - val_accuracy: 0.6756\n",
      "Epoch 6/10\n",
      "66/66 [==============================] - 1s 9ms/step - loss: 0.6032 - accuracy: 0.7517 - val_loss: 0.6349 - val_accuracy: 0.6219\n",
      "Epoch 7/10\n",
      "66/66 [==============================] - 1s 9ms/step - loss: 0.5480 - accuracy: 0.7086 - val_loss: 0.5128 - val_accuracy: 0.7383\n",
      "Epoch 8/10\n",
      "66/66 [==============================] - 1s 9ms/step - loss: 0.5154 - accuracy: 0.7638 - val_loss: 0.5530 - val_accuracy: 0.7718\n",
      "Epoch 9/10\n",
      "66/66 [==============================] - 1s 9ms/step - loss: 0.4580 - accuracy: 0.7862 - val_loss: 0.4692 - val_accuracy: 0.7718\n",
      "Epoch 10/10\n",
      "66/66 [==============================] - 1s 9ms/step - loss: 0.5017 - accuracy: 0.7718 - val_loss: 0.5436 - val_accuracy: 0.7651\n",
      "INFO:tensorflow:Assets written to: CNN.model\\assets\n"
     ]
    },
    {
     "name": "stderr",
     "output_type": "stream",
     "text": [
      "D:\\ProgramData\\Anaconda3\\lib\\site-packages\\tensorflow\\python\\client\\session.py:1761: UserWarning: An interactive session is already active. This can cause out-of-memory errors in some cases. You must explicitly call `InteractiveSession.close()` to release resources held by the other session(s).\n",
      "  warnings.warn('An interactive session is already active. This can '\n"
     ]
    },
    {
     "name": "stdout",
     "output_type": "stream",
     "text": [
      "Epoch 1/10\n",
      "66/66 [==============================] - 9s 93ms/step - loss: 0.6968 - accuracy: 0.4664 - val_loss: 0.6933 - val_accuracy: 0.4989\n",
      "Epoch 2/10\n",
      "66/66 [==============================] - 2s 31ms/step - loss: 0.6934 - accuracy: 0.4898 - val_loss: 0.6931 - val_accuracy: 0.5011\n",
      "Epoch 3/10\n",
      "66/66 [==============================] - 2s 31ms/step - loss: 0.6936 - accuracy: 0.4685 - val_loss: 0.6932 - val_accuracy: 0.4989\n",
      "Epoch 4/10\n",
      "66/66 [==============================] - 2s 30ms/step - loss: 0.6934 - accuracy: 0.5114 - val_loss: 0.6933 - val_accuracy: 0.4989\n",
      "Epoch 5/10\n",
      "66/66 [==============================] - 2s 31ms/step - loss: 0.6931 - accuracy: 0.5091 - val_loss: 0.6932 - val_accuracy: 0.4989\n",
      "Epoch 6/10\n",
      "66/66 [==============================] - 2s 31ms/step - loss: 0.6932 - accuracy: 0.4868 - val_loss: 0.6932 - val_accuracy: 0.4989\n",
      "Epoch 7/10\n",
      "66/66 [==============================] - 2s 31ms/step - loss: 0.6929 - accuracy: 0.5287 - val_loss: 0.6932 - val_accuracy: 0.4989\n",
      "Epoch 8/10\n",
      "66/66 [==============================] - 2s 30ms/step - loss: 0.6932 - accuracy: 0.5107 - val_loss: 0.6933 - val_accuracy: 0.4989\n",
      "Epoch 9/10\n",
      "66/66 [==============================] - 2s 31ms/step - loss: 0.6919 - accuracy: 0.5482 - val_loss: 0.6932 - val_accuracy: 0.4989\n",
      "Epoch 10/10\n",
      "66/66 [==============================] - 2s 31ms/step - loss: 0.6928 - accuracy: 0.5246 - val_loss: 0.6932 - val_accuracy: 0.4989\n",
      "INFO:tensorflow:Assets written to: CNN.model\\assets\n"
     ]
    },
    {
     "name": "stderr",
     "output_type": "stream",
     "text": [
      "D:\\ProgramData\\Anaconda3\\lib\\site-packages\\tensorflow\\python\\client\\session.py:1761: UserWarning: An interactive session is already active. This can cause out-of-memory errors in some cases. You must explicitly call `InteractiveSession.close()` to release resources held by the other session(s).\n",
      "  warnings.warn('An interactive session is already active. This can '\n"
     ]
    },
    {
     "name": "stdout",
     "output_type": "stream",
     "text": [
      "Epoch 1/10\n",
      "66/66 [==============================] - 7s 72ms/step - loss: 0.6935 - accuracy: 0.4974 - val_loss: 0.6927 - val_accuracy: 0.5168\n",
      "Epoch 2/10\n",
      "66/66 [==============================] - 1s 20ms/step - loss: 0.6929 - accuracy: 0.4860 - val_loss: 0.6672 - val_accuracy: 0.6779\n",
      "Epoch 3/10\n",
      "66/66 [==============================] - 1s 21ms/step - loss: 0.6562 - accuracy: 0.6121 - val_loss: 0.5632 - val_accuracy: 0.7226\n",
      "Epoch 4/10\n",
      "66/66 [==============================] - 1s 22ms/step - loss: 0.5764 - accuracy: 0.7197 - val_loss: 0.5280 - val_accuracy: 0.7450\n",
      "Epoch 5/10\n",
      "66/66 [==============================] - 1s 22ms/step - loss: 0.5227 - accuracy: 0.7503 - val_loss: 0.5451 - val_accuracy: 0.7293\n",
      "Epoch 6/10\n",
      "66/66 [==============================] - 1s 20ms/step - loss: 0.4936 - accuracy: 0.7798 - val_loss: 0.4791 - val_accuracy: 0.7606\n",
      "Epoch 7/10\n",
      "66/66 [==============================] - 1s 19ms/step - loss: 0.4489 - accuracy: 0.7997 - val_loss: 0.4463 - val_accuracy: 0.8031\n",
      "Epoch 8/10\n",
      "66/66 [==============================] - 1s 21ms/step - loss: 0.4543 - accuracy: 0.7995 - val_loss: 0.4031 - val_accuracy: 0.8166\n",
      "Epoch 9/10\n",
      "66/66 [==============================] - 1s 21ms/step - loss: 0.3595 - accuracy: 0.8408 - val_loss: 0.3474 - val_accuracy: 0.8367\n",
      "Epoch 10/10\n",
      "66/66 [==============================] - 1s 20ms/step - loss: 0.3697 - accuracy: 0.8444 - val_loss: 0.3217 - val_accuracy: 0.8546\n",
      "INFO:tensorflow:Assets written to: CNN.model\\assets\n"
     ]
    },
    {
     "name": "stderr",
     "output_type": "stream",
     "text": [
      "D:\\ProgramData\\Anaconda3\\lib\\site-packages\\tensorflow\\python\\client\\session.py:1761: UserWarning: An interactive session is already active. This can cause out-of-memory errors in some cases. You must explicitly call `InteractiveSession.close()` to release resources held by the other session(s).\n",
      "  warnings.warn('An interactive session is already active. This can '\n"
     ]
    },
    {
     "name": "stdout",
     "output_type": "stream",
     "text": [
      "Epoch 1/10\n",
      "66/66 [==============================] - 7s 67ms/step - loss: 0.6932 - accuracy: 0.4945 - val_loss: 0.6914 - val_accuracy: 0.6152\n",
      "Epoch 2/10\n",
      "66/66 [==============================] - 1s 10ms/step - loss: 0.6924 - accuracy: 0.5220 - val_loss: 0.6869 - val_accuracy: 0.7025\n",
      "Epoch 3/10\n",
      "66/66 [==============================] - 1s 10ms/step - loss: 0.6833 - accuracy: 0.5746 - val_loss: 0.6243 - val_accuracy: 0.6532\n",
      "Epoch 4/10\n",
      "66/66 [==============================] - 1s 10ms/step - loss: 0.5928 - accuracy: 0.6991 - val_loss: 0.5300 - val_accuracy: 0.7293\n",
      "Epoch 5/10\n",
      "66/66 [==============================] - 1s 10ms/step - loss: 0.5605 - accuracy: 0.7246 - val_loss: 0.5170 - val_accuracy: 0.7472\n",
      "Epoch 6/10\n",
      "66/66 [==============================] - 1s 10ms/step - loss: 0.4795 - accuracy: 0.8018 - val_loss: 0.4696 - val_accuracy: 0.8009\n",
      "Epoch 7/10\n",
      "66/66 [==============================] - 1s 10ms/step - loss: 0.4605 - accuracy: 0.7853 - val_loss: 0.4717 - val_accuracy: 0.7875\n",
      "Epoch 8/10\n",
      "66/66 [==============================] - 1s 10ms/step - loss: 0.4563 - accuracy: 0.7954 - val_loss: 0.4211 - val_accuracy: 0.8098\n",
      "Epoch 9/10\n",
      "66/66 [==============================] - 1s 10ms/step - loss: 0.3632 - accuracy: 0.8679 - val_loss: 0.3640 - val_accuracy: 0.8479\n",
      "Epoch 10/10\n",
      "66/66 [==============================] - 1s 10ms/step - loss: 0.3942 - accuracy: 0.8288 - val_loss: 0.3434 - val_accuracy: 0.8568\n",
      "INFO:tensorflow:Assets written to: CNN.model\\assets\n"
     ]
    },
    {
     "name": "stderr",
     "output_type": "stream",
     "text": [
      "D:\\ProgramData\\Anaconda3\\lib\\site-packages\\tensorflow\\python\\client\\session.py:1761: UserWarning: An interactive session is already active. This can cause out-of-memory errors in some cases. You must explicitly call `InteractiveSession.close()` to release resources held by the other session(s).\n",
      "  warnings.warn('An interactive session is already active. This can '\n"
     ]
    },
    {
     "name": "stdout",
     "output_type": "stream",
     "text": [
      "Epoch 1/10\n",
      "66/66 [==============================] - 4s 33ms/step - loss: 0.6884 - accuracy: 0.5471 - val_loss: 0.6536 - val_accuracy: 0.5839\n",
      "Epoch 2/10\n",
      "66/66 [==============================] - 0s 6ms/step - loss: 0.6665 - accuracy: 0.5908 - val_loss: 0.7415 - val_accuracy: 0.5928\n",
      "Epoch 3/10\n",
      "66/66 [==============================] - 0s 6ms/step - loss: 0.5844 - accuracy: 0.6922 - val_loss: 0.5396 - val_accuracy: 0.6913\n",
      "Epoch 4/10\n",
      "66/66 [==============================] - 0s 5ms/step - loss: 0.5108 - accuracy: 0.7589 - val_loss: 0.4777 - val_accuracy: 0.7830\n",
      "Epoch 5/10\n",
      "66/66 [==============================] - 0s 5ms/step - loss: 0.5127 - accuracy: 0.7661 - val_loss: 0.4902 - val_accuracy: 0.7785\n",
      "Epoch 6/10\n",
      "66/66 [==============================] - 0s 5ms/step - loss: 0.4805 - accuracy: 0.7892 - val_loss: 0.4306 - val_accuracy: 0.8188\n",
      "Epoch 7/10\n",
      "66/66 [==============================] - 0s 5ms/step - loss: 0.4146 - accuracy: 0.7984 - val_loss: 0.4192 - val_accuracy: 0.8501\n",
      "Epoch 8/10\n",
      "66/66 [==============================] - 0s 5ms/step - loss: 0.4220 - accuracy: 0.8166 - val_loss: 0.3755 - val_accuracy: 0.8456\n",
      "Epoch 9/10\n",
      "66/66 [==============================] - 0s 5ms/step - loss: 0.3140 - accuracy: 0.8685 - val_loss: 0.3763 - val_accuracy: 0.8300\n",
      "Epoch 10/10\n",
      "66/66 [==============================] - 0s 5ms/step - loss: 0.3884 - accuracy: 0.8277 - val_loss: 0.2587 - val_accuracy: 0.9060\n",
      "INFO:tensorflow:Assets written to: CNN.model\\assets\n"
     ]
    },
    {
     "name": "stderr",
     "output_type": "stream",
     "text": [
      "D:\\ProgramData\\Anaconda3\\lib\\site-packages\\tensorflow\\python\\client\\session.py:1761: UserWarning: An interactive session is already active. This can cause out-of-memory errors in some cases. You must explicitly call `InteractiveSession.close()` to release resources held by the other session(s).\n",
      "  warnings.warn('An interactive session is already active. This can '\n"
     ]
    },
    {
     "name": "stdout",
     "output_type": "stream",
     "text": [
      "Epoch 1/10\n",
      "66/66 [==============================] - 1s 9ms/step - loss: 0.6857 - accuracy: 0.5612 - val_loss: 0.6364 - val_accuracy: 0.7271\n",
      "Epoch 2/10\n",
      "66/66 [==============================] - 0s 7ms/step - loss: 0.6350 - accuracy: 0.6647 - val_loss: 0.5703 - val_accuracy: 0.7360\n",
      "Epoch 3/10\n",
      "66/66 [==============================] - 0s 7ms/step - loss: 0.5791 - accuracy: 0.6639 - val_loss: 0.5616 - val_accuracy: 0.6756\n",
      "Epoch 4/10\n",
      "66/66 [==============================] - 0s 7ms/step - loss: 0.5163 - accuracy: 0.7386 - val_loss: 0.5024 - val_accuracy: 0.7606\n",
      "Epoch 5/10\n",
      "66/66 [==============================] - 0s 7ms/step - loss: 0.4876 - accuracy: 0.7718 - val_loss: 0.4710 - val_accuracy: 0.7875\n",
      "Epoch 6/10\n",
      "66/66 [==============================] - 0s 7ms/step - loss: 0.4832 - accuracy: 0.7812 - val_loss: 0.4328 - val_accuracy: 0.8098\n",
      "Epoch 7/10\n",
      "66/66 [==============================] - 0s 7ms/step - loss: 0.4322 - accuracy: 0.7925 - val_loss: 0.4051 - val_accuracy: 0.8546\n",
      "Epoch 8/10\n",
      "66/66 [==============================] - 0s 7ms/step - loss: 0.4177 - accuracy: 0.8297 - val_loss: 0.3744 - val_accuracy: 0.8501\n",
      "Epoch 9/10\n",
      "66/66 [==============================] - 0s 7ms/step - loss: 0.3296 - accuracy: 0.8831 - val_loss: 0.3225 - val_accuracy: 0.8993\n",
      "Epoch 10/10\n",
      "66/66 [==============================] - 0s 7ms/step - loss: 0.3498 - accuracy: 0.8768 - val_loss: 0.2963 - val_accuracy: 0.8971\n",
      "INFO:tensorflow:Assets written to: CNN.model\\assets\n"
     ]
    },
    {
     "name": "stderr",
     "output_type": "stream",
     "text": [
      "D:\\ProgramData\\Anaconda3\\lib\\site-packages\\tensorflow\\python\\client\\session.py:1761: UserWarning: An interactive session is already active. This can cause out-of-memory errors in some cases. You must explicitly call `InteractiveSession.close()` to release resources held by the other session(s).\n",
      "  warnings.warn('An interactive session is already active. This can '\n"
     ]
    },
    {
     "name": "stdout",
     "output_type": "stream",
     "text": [
      "Epoch 1/10\n",
      "66/66 [==============================] - 4s 38ms/step - loss: 0.6889 - accuracy: 0.5406 - val_loss: 0.6476 - val_accuracy: 0.7271\n",
      "Epoch 2/10\n",
      "66/66 [==============================] - 0s 7ms/step - loss: 0.6366 - accuracy: 0.6505 - val_loss: 0.5643 - val_accuracy: 0.7181\n",
      "Epoch 3/10\n",
      "66/66 [==============================] - 0s 7ms/step - loss: 0.5486 - accuracy: 0.7372 - val_loss: 0.4994 - val_accuracy: 0.7517\n",
      "Epoch 4/10\n",
      "66/66 [==============================] - 0s 6ms/step - loss: 0.4736 - accuracy: 0.7867 - val_loss: 0.4466 - val_accuracy: 0.8009\n",
      "Epoch 5/10\n",
      "66/66 [==============================] - 0s 6ms/step - loss: 0.4291 - accuracy: 0.8070 - val_loss: 0.3984 - val_accuracy: 0.8300\n",
      "Epoch 6/10\n",
      "66/66 [==============================] - 0s 6ms/step - loss: 0.4037 - accuracy: 0.8381 - val_loss: 0.3867 - val_accuracy: 0.8412\n",
      "Epoch 7/10\n",
      "66/66 [==============================] - 0s 7ms/step - loss: 0.3573 - accuracy: 0.8471 - val_loss: 0.3393 - val_accuracy: 0.8859\n",
      "Epoch 8/10\n",
      "66/66 [==============================] - 0s 7ms/step - loss: 0.3366 - accuracy: 0.8596 - val_loss: 0.3189 - val_accuracy: 0.8814\n",
      "Epoch 9/10\n",
      "66/66 [==============================] - 0s 6ms/step - loss: 0.2673 - accuracy: 0.9032 - val_loss: 0.2711 - val_accuracy: 0.9083\n",
      "Epoch 10/10\n",
      "66/66 [==============================] - 0s 7ms/step - loss: 0.3223 - accuracy: 0.8769 - val_loss: 0.2488 - val_accuracy: 0.9128\n",
      "INFO:tensorflow:Assets written to: CNN.model\\assets\n"
     ]
    },
    {
     "name": "stderr",
     "output_type": "stream",
     "text": [
      "D:\\ProgramData\\Anaconda3\\lib\\site-packages\\tensorflow\\python\\client\\session.py:1761: UserWarning: An interactive session is already active. This can cause out-of-memory errors in some cases. You must explicitly call `InteractiveSession.close()` to release resources held by the other session(s).\n",
      "  warnings.warn('An interactive session is already active. This can '\n"
     ]
    },
    {
     "name": "stdout",
     "output_type": "stream",
     "text": [
      "Epoch 1/10\n",
      "66/66 [==============================] - 4s 36ms/step - loss: 12.5955 - accuracy: 0.5113 - val_loss: 0.6932 - val_accuracy: 0.5011\n",
      "Epoch 2/10\n",
      "66/66 [==============================] - 1s 16ms/step - loss: 0.6948 - accuracy: 0.4724 - val_loss: 0.6931 - val_accuracy: 0.5011\n",
      "Epoch 3/10\n",
      "66/66 [==============================] - 1s 17ms/step - loss: 0.6936 - accuracy: 0.4510 - val_loss: 0.6932 - val_accuracy: 0.4989\n",
      "Epoch 4/10\n",
      "66/66 [==============================] - 1s 16ms/step - loss: 0.6936 - accuracy: 0.5114 - val_loss: 0.6934 - val_accuracy: 0.4989\n",
      "Epoch 5/10\n",
      "66/66 [==============================] - 1s 16ms/step - loss: 0.6932 - accuracy: 0.5091 - val_loss: 0.6933 - val_accuracy: 0.4989\n",
      "Epoch 6/10\n",
      "66/66 [==============================] - 1s 16ms/step - loss: 0.6932 - accuracy: 0.4813 - val_loss: 0.6932 - val_accuracy: 0.4989\n",
      "Epoch 7/10\n",
      "66/66 [==============================] - 1s 16ms/step - loss: 0.6928 - accuracy: 0.5287 - val_loss: 0.6933 - val_accuracy: 0.4989\n",
      "Epoch 8/10\n",
      "66/66 [==============================] - 1s 17ms/step - loss: 0.6933 - accuracy: 0.5107 - val_loss: 0.6933 - val_accuracy: 0.4989\n",
      "Epoch 9/10\n",
      "66/66 [==============================] - 1s 17ms/step - loss: 0.6918 - accuracy: 0.5482 - val_loss: 0.6932 - val_accuracy: 0.4989\n",
      "Epoch 10/10\n",
      "66/66 [==============================] - 1s 16ms/step - loss: 0.6929 - accuracy: 0.5246 - val_loss: 0.6932 - val_accuracy: 0.4989\n",
      "INFO:tensorflow:Assets written to: CNN.model\\assets\n",
      "[[256, 7, 0.0005, 0.4, 3, 0, 128], [64, 2, 0.001, 0.5, 5, 0, 512], [64, 7, 0.0005, 0.2, 5, 0, 128], [256, 3, 0.001, 0.0, 6, 0, 512], [128, 7, 0.0001, 0.2, 6, 0, 512], [64, 5, 0.0001, 0.3, 6, 0, 512], [32, 5, 0.0005, 0.1, 3, 1, 128], [64, 2, 0.0001, 0.0, 3, 1, 512], [32, 7, 0.0001, 0.1, 4, 0, 512], [128, 3, 0.005, 0.1, 2, 0, 512]]\n",
      "[0.3199356905517091, 0.24713649045363145, 0.21704454985173138, 0.24990754870446752, 0.2090292086216894, 0.17579619512700453, 0.1507125533014456, 0.1691882870741313, 0.1880957608839975, 0.25032746773001224]\n",
      "Generasi Ke  1\n",
      "Parent 1 dan 2  [64, 2, 0.001, 0.5, 5, 0, 512] [128, 7, 0.0001, 0.2, 6, 0, 512]\n",
      "Child 1 dan 2 [64, 2, 0.001, 0.5, 6, 0, 512] [128, 7, 0.0001, 0.2, 5, 0, 512]\n",
      "Mutasi 1 dan 2 [64, 2, 0.001, 0.5, 6, 0, 512] [128, 7, 0.0001, 0.2, 5, 0, 512]\n",
      "Epoch 1/10\n"
     ]
    },
    {
     "name": "stderr",
     "output_type": "stream",
     "text": [
      "D:\\ProgramData\\Anaconda3\\lib\\site-packages\\tensorflow\\python\\client\\session.py:1761: UserWarning: An interactive session is already active. This can cause out-of-memory errors in some cases. You must explicitly call `InteractiveSession.close()` to release resources held by the other session(s).\n",
      "  warnings.warn('An interactive session is already active. This can '\n"
     ]
    },
    {
     "name": "stdout",
     "output_type": "stream",
     "text": [
      "66/66 [==============================] - 2s 18ms/step - loss: 0.6934 - accuracy: 0.5144 - val_loss: 0.6932 - val_accuracy: 0.4989\n",
      "Epoch 2/10\n",
      "66/66 [==============================] - 1s 8ms/step - loss: 0.6934 - accuracy: 0.4926 - val_loss: 0.6931 - val_accuracy: 0.4989\n",
      "Epoch 3/10\n",
      "66/66 [==============================] - 1s 8ms/step - loss: 0.6936 - accuracy: 0.4895 - val_loss: 0.6932 - val_accuracy: 0.4989\n",
      "Epoch 4/10\n",
      "66/66 [==============================] - 1s 8ms/step - loss: 0.6934 - accuracy: 0.5166 - val_loss: 0.6933 - val_accuracy: 0.4989\n",
      "Epoch 5/10\n",
      "66/66 [==============================] - 1s 9ms/step - loss: 0.6934 - accuracy: 0.5008 - val_loss: 0.6931 - val_accuracy: 0.4989\n",
      "Epoch 6/10\n",
      "66/66 [==============================] - 1s 9ms/step - loss: 0.6932 - accuracy: 0.5179 - val_loss: 0.6933 - val_accuracy: 0.4989\n",
      "Epoch 7/10\n",
      "66/66 [==============================] - 1s 9ms/step - loss: 0.6921 - accuracy: 0.5329 - val_loss: 0.6932 - val_accuracy: 0.4989\n",
      "Epoch 8/10\n",
      "66/66 [==============================] - 1s 9ms/step - loss: 0.6934 - accuracy: 0.5081 - val_loss: 0.6933 - val_accuracy: 0.4989\n",
      "Epoch 9/10\n",
      "66/66 [==============================] - 1s 9ms/step - loss: 0.6923 - accuracy: 0.5445 - val_loss: 0.6923 - val_accuracy: 0.5034\n",
      "Epoch 10/10\n",
      "66/66 [==============================] - 1s 9ms/step - loss: 0.6916 - accuracy: 0.5227 - val_loss: 0.6905 - val_accuracy: 0.5101\n",
      "INFO:tensorflow:Assets written to: CNN.model\\assets\n"
     ]
    },
    {
     "name": "stderr",
     "output_type": "stream",
     "text": [
      "D:\\ProgramData\\Anaconda3\\lib\\site-packages\\tensorflow\\python\\client\\session.py:1761: UserWarning: An interactive session is already active. This can cause out-of-memory errors in some cases. You must explicitly call `InteractiveSession.close()` to release resources held by the other session(s).\n",
      "  warnings.warn('An interactive session is already active. This can '\n"
     ]
    },
    {
     "name": "stdout",
     "output_type": "stream",
     "text": [
      "Epoch 1/10\n",
      "66/66 [==============================] - 2s 22ms/step - loss: 0.6906 - accuracy: 0.5166 - val_loss: 0.6623 - val_accuracy: 0.6868\n",
      "Epoch 2/10\n",
      "66/66 [==============================] - 1s 20ms/step - loss: 0.6428 - accuracy: 0.6410 - val_loss: 0.5816 - val_accuracy: 0.7181\n",
      "Epoch 3/10\n",
      "66/66 [==============================] - 1s 20ms/step - loss: 0.5459 - accuracy: 0.7390 - val_loss: 0.4758 - val_accuracy: 0.7830\n",
      "Epoch 4/10\n",
      "66/66 [==============================] - 1s 20ms/step - loss: 0.4723 - accuracy: 0.7790 - val_loss: 0.4807 - val_accuracy: 0.7987\n",
      "Epoch 5/10\n",
      "66/66 [==============================] - 1s 20ms/step - loss: 0.4736 - accuracy: 0.7923 - val_loss: 0.4987 - val_accuracy: 0.7517\n",
      "Epoch 6/10\n",
      "66/66 [==============================] - 1s 20ms/step - loss: 0.4047 - accuracy: 0.8500 - val_loss: 0.3580 - val_accuracy: 0.8546\n",
      "Epoch 7/10\n",
      "66/66 [==============================] - 1s 20ms/step - loss: 0.3489 - accuracy: 0.8420 - val_loss: 0.2861 - val_accuracy: 0.8949\n",
      "Epoch 8/10\n",
      "66/66 [==============================] - 1s 20ms/step - loss: 0.2890 - accuracy: 0.8873 - val_loss: 0.3033 - val_accuracy: 0.8837\n",
      "Epoch 9/10\n",
      "66/66 [==============================] - 1s 20ms/step - loss: 0.2126 - accuracy: 0.9202 - val_loss: 0.2964 - val_accuracy: 0.8591\n",
      "Epoch 10/10\n",
      "66/66 [==============================] - 1s 21ms/step - loss: 0.2524 - accuracy: 0.9029 - val_loss: 0.1960 - val_accuracy: 0.9150\n",
      "INFO:tensorflow:Assets written to: CNN.model\\assets\n",
      "[[32, 5, 0.0005, 0.1, 3, 1, 128], [64, 2, 0.0001, 0.0, 3, 1, 512], [64, 5, 0.0001, 0.3, 6, 0, 512], [32, 7, 0.0001, 0.1, 4, 0, 512], [128, 7, 0.0001, 0.2, 6, 0, 512], [64, 7, 0.0005, 0.2, 5, 0, 128], [64, 2, 0.001, 0.5, 5, 0, 512], [256, 3, 0.001, 0.0, 6, 0, 512], [128, 7, 0.0001, 0.2, 5, 0, 512], [64, 2, 0.001, 0.5, 6, 0, 512]]\n",
      "[0.1507125533014456, 0.1691882870741313, 0.17579619512700453, 0.1880957608839975, 0.2090292086216894, 0.21704454985173138, 0.24713649045363145, 0.24990754870446752, 0.2411584613738185, 0.4951768488745978]\n",
      "Generasi Ke  2\n",
      "Parent 1 dan 2  [64, 5, 0.0001, 0.3, 6, 0, 512] [256, 3, 0.001, 0.0, 6, 0, 512]\n",
      "Child 1 dan 2 [64, 5, 0.0001, 0.3, 6, 0, 512] [256, 3, 0.001, 0.0, 6, 0, 512]\n",
      "Mutasi 1 dan 2 [64, 5, 0.0001, 0.3, 6, 0, 512] [256, 3, 0.001, 0.0, 6, 0, 512]\n",
      "Epoch 1/10\n"
     ]
    },
    {
     "name": "stderr",
     "output_type": "stream",
     "text": [
      "D:\\ProgramData\\Anaconda3\\lib\\site-packages\\tensorflow\\python\\client\\session.py:1761: UserWarning: An interactive session is already active. This can cause out-of-memory errors in some cases. You must explicitly call `InteractiveSession.close()` to release resources held by the other session(s).\n",
      "  warnings.warn('An interactive session is already active. This can '\n"
     ]
    },
    {
     "name": "stdout",
     "output_type": "stream",
     "text": [
      "66/66 [==============================] - 3s 34ms/step - loss: 0.6968 - accuracy: 0.4650 - val_loss: 0.6933 - val_accuracy: 0.4989\n",
      "Epoch 2/10\n",
      "66/66 [==============================] - 2s 31ms/step - loss: 0.6933 - accuracy: 0.4910 - val_loss: 0.6932 - val_accuracy: 0.4989\n",
      "Epoch 3/10\n",
      "66/66 [==============================] - 2s 31ms/step - loss: 0.6935 - accuracy: 0.4930 - val_loss: 0.6932 - val_accuracy: 0.4989\n",
      "Epoch 4/10\n",
      "66/66 [==============================] - 2s 31ms/step - loss: 0.6934 - accuracy: 0.5114 - val_loss: 0.6933 - val_accuracy: 0.4989\n",
      "Epoch 5/10\n",
      "66/66 [==============================] - 2s 32ms/step - loss: 0.6931 - accuracy: 0.5091 - val_loss: 0.6932 - val_accuracy: 0.4989\n",
      "Epoch 6/10\n",
      "66/66 [==============================] - 2s 32ms/step - loss: 0.6932 - accuracy: 0.5034 - val_loss: 0.6932 - val_accuracy: 0.4989\n",
      "Epoch 7/10\n",
      "66/66 [==============================] - 2s 32ms/step - loss: 0.6928 - accuracy: 0.5287 - val_loss: 0.6932 - val_accuracy: 0.4989\n",
      "Epoch 8/10\n",
      "66/66 [==============================] - 2s 31ms/step - loss: 0.6932 - accuracy: 0.5107 - val_loss: 0.6933 - val_accuracy: 0.4989\n",
      "Epoch 9/10\n",
      "66/66 [==============================] - 2s 31ms/step - loss: 0.6920 - accuracy: 0.5482 - val_loss: 0.6932 - val_accuracy: 0.4989\n",
      "Epoch 10/10\n",
      "66/66 [==============================] - 2s 31ms/step - loss: 0.6927 - accuracy: 0.5246 - val_loss: 0.6932 - val_accuracy: 0.4989\n",
      "INFO:tensorflow:Assets written to: CNNmut.model\\assets\n",
      "[[32, 5, 0.0005, 0.1, 3, 1, 128], [64, 2, 0.0001, 0.0, 3, 1, 512], [64, 5, 0.0001, 0.3, 6, 0, 512], [32, 7, 0.0001, 0.1, 4, 0, 512], [128, 7, 0.0001, 0.2, 6, 0, 512], [64, 7, 0.0005, 0.2, 5, 0, 128], [128, 7, 0.0001, 0.2, 5, 0, 512], [64, 2, 0.001, 0.5, 5, 0, 512], [256, 3, 0.001, 0.0, 6, 0, 512], [64, 5, 0.0001, 0.3, 6, 0, 512]]\n",
      "[0.1507125533014456, 0.1691882870741313, 0.17579619512700453, 0.1880957608839975, 0.2090292086216894, 0.21704454985173138, 0.2411584613738185, 0.24713649045363145, 0.25087751275358894, 0.17579619512700453]\n",
      "Generasi Ke  3\n",
      "Parent 1 dan 2  [64, 5, 0.0001, 0.3, 6, 0, 512] [64, 7, 0.0005, 0.2, 5, 0, 128]\n",
      "Child 1 dan 2 [64, 5, 0.0001, 0.3, 5, 0, 128] [64, 7, 0.0005, 0.2, 6, 0, 512]\n",
      "Mutasi 1 dan 2 [64, 5, 0.0001, 0.3, 5, 0, 128] [64, 7, 0.0005, 0.2, 6, 0, 512]\n",
      "Epoch 1/10\n"
     ]
    },
    {
     "name": "stderr",
     "output_type": "stream",
     "text": [
      "D:\\ProgramData\\Anaconda3\\lib\\site-packages\\tensorflow\\python\\client\\session.py:1761: UserWarning: An interactive session is already active. This can cause out-of-memory errors in some cases. You must explicitly call `InteractiveSession.close()` to release resources held by the other session(s).\n",
      "  warnings.warn('An interactive session is already active. This can '\n"
     ]
    },
    {
     "name": "stdout",
     "output_type": "stream",
     "text": [
      "66/66 [==============================] - 1s 13ms/step - loss: 0.6915 - accuracy: 0.5325 - val_loss: 0.6756 - val_accuracy: 0.7181\n",
      "Epoch 2/10\n",
      "66/66 [==============================] - 1s 11ms/step - loss: 0.6742 - accuracy: 0.5616 - val_loss: 0.6107 - val_accuracy: 0.7293\n",
      "Epoch 3/10\n",
      "66/66 [==============================] - 1s 10ms/step - loss: 0.6126 - accuracy: 0.6772 - val_loss: 0.5311 - val_accuracy: 0.7383\n",
      "Epoch 4/10\n",
      "66/66 [==============================] - 1s 10ms/step - loss: 0.5335 - accuracy: 0.7482 - val_loss: 0.4945 - val_accuracy: 0.7919\n",
      "Epoch 5/10\n",
      "66/66 [==============================] - 1s 10ms/step - loss: 0.5238 - accuracy: 0.7551 - val_loss: 0.4579 - val_accuracy: 0.8009\n",
      "Epoch 6/10\n",
      "66/66 [==============================] - 1s 11ms/step - loss: 0.4310 - accuracy: 0.8323 - val_loss: 0.4151 - val_accuracy: 0.8389\n",
      "Epoch 7/10\n",
      "66/66 [==============================] - 1s 11ms/step - loss: 0.4272 - accuracy: 0.8023 - val_loss: 0.3970 - val_accuracy: 0.8367\n",
      "Epoch 8/10\n",
      "66/66 [==============================] - 1s 10ms/step - loss: 0.3770 - accuracy: 0.8458 - val_loss: 0.3329 - val_accuracy: 0.8702\n",
      "Epoch 9/10\n",
      "66/66 [==============================] - 1s 10ms/step - loss: 0.3067 - accuracy: 0.8844 - val_loss: 0.3014 - val_accuracy: 0.8949\n",
      "Epoch 10/10\n",
      "66/66 [==============================] - 1s 10ms/step - loss: 0.3428 - accuracy: 0.8559 - val_loss: 0.2670 - val_accuracy: 0.9038\n",
      "INFO:tensorflow:Assets written to: CNN.model\\assets\n"
     ]
    },
    {
     "name": "stderr",
     "output_type": "stream",
     "text": [
      "D:\\ProgramData\\Anaconda3\\lib\\site-packages\\tensorflow\\python\\client\\session.py:1761: UserWarning: An interactive session is already active. This can cause out-of-memory errors in some cases. You must explicitly call `InteractiveSession.close()` to release resources held by the other session(s).\n",
      "  warnings.warn('An interactive session is already active. This can '\n"
     ]
    },
    {
     "name": "stdout",
     "output_type": "stream",
     "text": [
      "Epoch 1/10\n",
      "66/66 [==============================] - 2s 21ms/step - loss: 0.6937 - accuracy: 0.5037 - val_loss: 0.6932 - val_accuracy: 0.4989\n",
      "Epoch 2/10\n",
      "66/66 [==============================] - 1s 12ms/step - loss: 0.6930 - accuracy: 0.5216 - val_loss: 0.6932 - val_accuracy: 0.4989\n",
      "Epoch 3/10\n",
      "66/66 [==============================] - 1s 11ms/step - loss: 0.6963 - accuracy: 0.4940 - val_loss: 0.6932 - val_accuracy: 0.4989\n",
      "Epoch 4/10\n",
      "66/66 [==============================] - 1s 11ms/step - loss: 0.6934 - accuracy: 0.5114 - val_loss: 0.6932 - val_accuracy: 0.4989\n",
      "Epoch 5/10\n",
      "66/66 [==============================] - 1s 11ms/step - loss: 0.6933 - accuracy: 0.5070 - val_loss: 0.6932 - val_accuracy: 0.4989\n",
      "Epoch 6/10\n",
      "66/66 [==============================] - 1s 11ms/step - loss: 0.6933 - accuracy: 0.4841 - val_loss: 0.6932 - val_accuracy: 0.4989\n",
      "Epoch 7/10\n",
      "66/66 [==============================] - 1s 11ms/step - loss: 0.6932 - accuracy: 0.5231 - val_loss: 0.6931 - val_accuracy: 0.4989\n",
      "Epoch 8/10\n",
      "66/66 [==============================] - 1s 11ms/step - loss: 0.6947 - accuracy: 0.5040 - val_loss: 0.6932 - val_accuracy: 0.4989\n",
      "Epoch 9/10\n",
      "66/66 [==============================] - 1s 11ms/step - loss: 0.6922 - accuracy: 0.5482 - val_loss: 0.6932 - val_accuracy: 0.4989\n",
      "Epoch 10/10\n",
      "66/66 [==============================] - 1s 11ms/step - loss: 0.6928 - accuracy: 0.5246 - val_loss: 0.6932 - val_accuracy: 0.4989\n",
      "INFO:tensorflow:Assets written to: CNN.model\\assets\n",
      "[[32, 5, 0.0005, 0.1, 3, 1, 128], [64, 2, 0.0001, 0.0, 3, 1, 512], [64, 5, 0.0001, 0.3, 6, 0, 512], [64, 5, 0.0001, 0.3, 6, 0, 512], [32, 7, 0.0001, 0.1, 4, 0, 512], [128, 7, 0.0001, 0.2, 6, 0, 512], [64, 7, 0.0005, 0.2, 5, 0, 128], [128, 7, 0.0001, 0.2, 5, 0, 512], [64, 7, 0.0005, 0.2, 6, 0, 512], [64, 5, 0.0001, 0.3, 5, 0, 128]]\n",
      "[0.1507125533014456, 0.1691882870741313, 0.17579619512700453, 0.17579619512700453, 0.1880957608839975, 0.2090292086216894, 0.21704454985173138, 0.2411584613738185, 0.24908647364596426, 0.1799887207926168]\n",
      "Generasi Ke  4\n",
      "Parent 1 dan 2  [64, 5, 0.0001, 0.3, 6, 0, 512] [128, 7, 0.0001, 0.2, 6, 0, 512]\n",
      "Child 1 dan 2 [64, 5, 0.0001, 0.3, 6, 0, 512] [128, 7, 0.0001, 0.2, 6, 0, 512]\n",
      "Mutasi 1 dan 2 [64, 5, 0.0001, 0.3, 6, 0, 512] [128, 7, 0.0001, 0.2, 6, 0, 512]\n",
      "Epoch 1/10\n"
     ]
    },
    {
     "name": "stderr",
     "output_type": "stream",
     "text": [
      "D:\\ProgramData\\Anaconda3\\lib\\site-packages\\tensorflow\\python\\client\\session.py:1761: UserWarning: An interactive session is already active. This can cause out-of-memory errors in some cases. You must explicitly call `InteractiveSession.close()` to release resources held by the other session(s).\n",
      "  warnings.warn('An interactive session is already active. This can '\n"
     ]
    },
    {
     "name": "stdout",
     "output_type": "stream",
     "text": [
      "66/66 [==============================] - 2s 24ms/step - loss: 0.6935 - accuracy: 0.4995 - val_loss: 0.6925 - val_accuracy: 0.5481\n",
      "Epoch 2/10\n",
      "66/66 [==============================] - 1s 21ms/step - loss: 0.6928 - accuracy: 0.4999 - val_loss: 0.6647 - val_accuracy: 0.7092\n",
      "Epoch 3/10\n",
      "66/66 [==============================] - 1s 21ms/step - loss: 0.6561 - accuracy: 0.6134 - val_loss: 0.5510 - val_accuracy: 0.7204\n",
      "Epoch 4/10\n",
      "66/66 [==============================] - 1s 21ms/step - loss: 0.5996 - accuracy: 0.7037 - val_loss: 0.5220 - val_accuracy: 0.7427\n",
      "Epoch 5/10\n",
      "66/66 [==============================] - 1s 21ms/step - loss: 0.5204 - accuracy: 0.7586 - val_loss: 0.5469 - val_accuracy: 0.7293\n",
      "Epoch 6/10\n",
      "66/66 [==============================] - 1s 21ms/step - loss: 0.4818 - accuracy: 0.7886 - val_loss: 0.4535 - val_accuracy: 0.7964\n",
      "Epoch 7/10\n",
      "66/66 [==============================] - 1s 21ms/step - loss: 0.4177 - accuracy: 0.8165 - val_loss: 0.4466 - val_accuracy: 0.7875\n",
      "Epoch 8/10\n",
      "66/66 [==============================] - 1s 21ms/step - loss: 0.4015 - accuracy: 0.8289 - val_loss: 0.3521 - val_accuracy: 0.8345\n",
      "Epoch 9/10\n",
      "66/66 [==============================] - 1s 21ms/step - loss: 0.3101 - accuracy: 0.8684 - val_loss: 0.3316 - val_accuracy: 0.8501\n",
      "Epoch 10/10\n",
      "66/66 [==============================] - 1s 21ms/step - loss: 0.3171 - accuracy: 0.8679 - val_loss: 0.2429 - val_accuracy: 0.9016\n",
      "INFO:tensorflow:Assets written to: CNNmut.model\\assets\n",
      "[[32, 5, 0.0005, 0.1, 3, 1, 128], [64, 2, 0.0001, 0.0, 3, 1, 512], [64, 5, 0.0001, 0.3, 6, 0, 512], [64, 5, 0.0001, 0.3, 6, 0, 512], [64, 5, 0.0001, 0.3, 5, 0, 128], [32, 7, 0.0001, 0.1, 4, 0, 512], [128, 7, 0.0001, 0.2, 6, 0, 512], [64, 7, 0.0005, 0.2, 5, 0, 128], [128, 7, 0.0001, 0.2, 6, 0, 512], [64, 5, 0.0001, 0.3, 6, 0, 512]]\n",
      "[0.1507125533014456, 0.1691882870741313, 0.17579619512700453, 0.17579619512700453, 0.1799887207926168, 0.1880957608839975, 0.2090292086216894, 0.21704454985173138, 0.1987295975657611, 0.17579619512700453]\n",
      "Generasi Ke  5\n",
      "Parent 1 dan 2  [64, 5, 0.0001, 0.3, 6, 0, 512] [32, 7, 0.0001, 0.1, 4, 0, 512]\n",
      "Child 1 dan 2 [64, 5, 0.0001, 0.3, 4, 0, 512] [32, 7, 0.0001, 0.1, 6, 0, 512]\n",
      "Mutasi 1 dan 2 [64, 5, 0.0001, 0.3, 4, 0, 512] [32, 7, 0.0001, 0.1, 6, 0, 512]\n",
      "Epoch 1/10\n"
     ]
    },
    {
     "name": "stderr",
     "output_type": "stream",
     "text": [
      "D:\\ProgramData\\Anaconda3\\lib\\site-packages\\tensorflow\\python\\client\\session.py:1761: UserWarning: An interactive session is already active. This can cause out-of-memory errors in some cases. You must explicitly call `InteractiveSession.close()` to release resources held by the other session(s).\n",
      "  warnings.warn('An interactive session is already active. This can '\n"
     ]
    },
    {
     "name": "stdout",
     "output_type": "stream",
     "text": [
      "66/66 [==============================] - 1s 12ms/step - loss: 0.6918 - accuracy: 0.5459 - val_loss: 0.6747 - val_accuracy: 0.5660\n",
      "Epoch 2/10\n",
      "66/66 [==============================] - 1s 10ms/step - loss: 0.6654 - accuracy: 0.5995 - val_loss: 0.5859 - val_accuracy: 0.7069\n",
      "Epoch 3/10\n",
      "66/66 [==============================] - 1s 10ms/step - loss: 0.5892 - accuracy: 0.7030 - val_loss: 0.5122 - val_accuracy: 0.7785\n",
      "Epoch 4/10\n",
      "66/66 [==============================] - 1s 10ms/step - loss: 0.5070 - accuracy: 0.7564 - val_loss: 0.4715 - val_accuracy: 0.8031\n",
      "Epoch 5/10\n",
      "66/66 [==============================] - 1s 10ms/step - loss: 0.4458 - accuracy: 0.8225 - val_loss: 0.4178 - val_accuracy: 0.8479\n",
      "Epoch 6/10\n",
      "66/66 [==============================] - 1s 10ms/step - loss: 0.4259 - accuracy: 0.8224 - val_loss: 0.3668 - val_accuracy: 0.8702\n",
      "Epoch 7/10\n",
      "66/66 [==============================] - 1s 10ms/step - loss: 0.3555 - accuracy: 0.8538 - val_loss: 0.3134 - val_accuracy: 0.8904\n",
      "Epoch 8/10\n",
      "66/66 [==============================] - 1s 10ms/step - loss: 0.3234 - accuracy: 0.8652 - val_loss: 0.3029 - val_accuracy: 0.8725\n",
      "Epoch 9/10\n",
      "66/66 [==============================] - 1s 10ms/step - loss: 0.2467 - accuracy: 0.9034 - val_loss: 0.2405 - val_accuracy: 0.9239\n",
      "Epoch 10/10\n",
      "66/66 [==============================] - 1s 10ms/step - loss: 0.2617 - accuracy: 0.9043 - val_loss: 0.2235 - val_accuracy: 0.9172\n",
      "INFO:tensorflow:Assets written to: CNN.model\\assets\n"
     ]
    },
    {
     "name": "stderr",
     "output_type": "stream",
     "text": [
      "D:\\ProgramData\\Anaconda3\\lib\\site-packages\\tensorflow\\python\\client\\session.py:1761: UserWarning: An interactive session is already active. This can cause out-of-memory errors in some cases. You must explicitly call `InteractiveSession.close()` to release resources held by the other session(s).\n",
      "  warnings.warn('An interactive session is already active. This can '\n"
     ]
    },
    {
     "name": "stdout",
     "output_type": "stream",
     "text": [
      "Epoch 1/10\n",
      "66/66 [==============================] - 3s 27ms/step - loss: 0.6930 - accuracy: 0.4989 - val_loss: 0.6901 - val_accuracy: 0.5548\n",
      "Epoch 2/10\n",
      "66/66 [==============================] - 1s 8ms/step - loss: 0.6910 - accuracy: 0.5273 - val_loss: 0.6729 - val_accuracy: 0.6667\n",
      "Epoch 3/10\n",
      "66/66 [==============================] - 1s 8ms/step - loss: 0.6556 - accuracy: 0.6152 - val_loss: 0.6006 - val_accuracy: 0.6577\n",
      "Epoch 4/10\n",
      "66/66 [==============================] - 1s 8ms/step - loss: 0.5602 - accuracy: 0.6890 - val_loss: 0.5240 - val_accuracy: 0.7472\n",
      "Epoch 5/10\n",
      "66/66 [==============================] - 1s 8ms/step - loss: 0.5258 - accuracy: 0.7455 - val_loss: 0.5133 - val_accuracy: 0.7584\n",
      "Epoch 6/10\n",
      "66/66 [==============================] - 1s 8ms/step - loss: 0.4773 - accuracy: 0.7873 - val_loss: 0.4789 - val_accuracy: 0.7830\n",
      "Epoch 7/10\n",
      "66/66 [==============================] - 1s 8ms/step - loss: 0.4657 - accuracy: 0.7645 - val_loss: 0.4782 - val_accuracy: 0.7696\n",
      "Epoch 8/10\n",
      "66/66 [==============================] - 1s 8ms/step - loss: 0.4643 - accuracy: 0.7839 - val_loss: 0.4403 - val_accuracy: 0.8031\n",
      "Epoch 9/10\n",
      "66/66 [==============================] - 1s 8ms/step - loss: 0.3847 - accuracy: 0.8339 - val_loss: 0.3902 - val_accuracy: 0.8456\n",
      "Epoch 10/10\n",
      "66/66 [==============================] - 1s 8ms/step - loss: 0.4478 - accuracy: 0.8129 - val_loss: 0.3804 - val_accuracy: 0.8345\n",
      "INFO:tensorflow:Assets written to: CNN.model\\assets\n",
      "[[32, 5, 0.0005, 0.1, 3, 1, 128], [64, 2, 0.0001, 0.0, 3, 1, 512], [64, 5, 0.0001, 0.3, 6, 0, 512], [64, 5, 0.0001, 0.3, 6, 0, 512], [64, 5, 0.0001, 0.3, 6, 0, 512], [64, 5, 0.0001, 0.3, 5, 0, 128], [32, 7, 0.0001, 0.1, 4, 0, 512], [128, 7, 0.0001, 0.2, 6, 0, 512], [32, 7, 0.0001, 0.1, 6, 0, 512], [64, 5, 0.0001, 0.3, 4, 0, 512]]\n",
      "[0.1507125533014456, 0.1691882870741313, 0.17579619512700453, 0.17579619512700453, 0.17579619512700453, 0.1799887207926168, 0.1880957608839975, 0.1987295975657611, 0.16196332349259593, 0.21061066071485077]\n",
      "Generasi Ke  6\n",
      "Parent 1 dan 2  [64, 5, 0.0001, 0.3, 6, 0, 512] [64, 5, 0.0001, 0.3, 5, 0, 128]\n",
      "Child 1 dan 2 [64, 5, 0.0001, 0.3, 5, 0, 128] [64, 5, 0.0001, 0.3, 6, 0, 512]\n",
      "Mutasi 1 dan 2 [64, 5, 0.0001, 0.3, 5, 0, 128] [64, 5, 0.0001, 0.3, 6, 0, 512]\n",
      "Epoch 1/10\n"
     ]
    },
    {
     "name": "stderr",
     "output_type": "stream",
     "text": [
      "D:\\ProgramData\\Anaconda3\\lib\\site-packages\\tensorflow\\python\\client\\session.py:1761: UserWarning: An interactive session is already active. This can cause out-of-memory errors in some cases. You must explicitly call `InteractiveSession.close()` to release resources held by the other session(s).\n",
      "  warnings.warn('An interactive session is already active. This can '\n"
     ]
    },
    {
     "name": "stdout",
     "output_type": "stream",
     "text": [
      "66/66 [==============================] - 1s 13ms/step - loss: 0.6932 - accuracy: 0.4926 - val_loss: 0.6917 - val_accuracy: 0.5056\n",
      "Epoch 2/10\n",
      "66/66 [==============================] - ETA: 0s - loss: 0.6927 - accuracy: 0.51 - 1s 11ms/step - loss: 0.6927 - accuracy: 0.5180 - val_loss: 0.6889 - val_accuracy: 0.6309\n",
      "Epoch 3/10\n",
      "66/66 [==============================] - 1s 11ms/step - loss: 0.6857 - accuracy: 0.5811 - val_loss: 0.6105 - val_accuracy: 0.6935\n",
      "Epoch 4/10\n",
      "66/66 [==============================] - 1s 11ms/step - loss: 0.5902 - accuracy: 0.6983 - val_loss: 0.5288 - val_accuracy: 0.7405\n",
      "Epoch 5/10\n",
      "66/66 [==============================] - 1s 11ms/step - loss: 0.5474 - accuracy: 0.7314 - val_loss: 0.5308 - val_accuracy: 0.7293\n",
      "Epoch 6/10\n",
      "66/66 [==============================] - 1s 11ms/step - loss: 0.4745 - accuracy: 0.8187 - val_loss: 0.4643 - val_accuracy: 0.7897\n",
      "Epoch 7/10\n",
      "66/66 [==============================] - 1s 11ms/step - loss: 0.4460 - accuracy: 0.7908 - val_loss: 0.4432 - val_accuracy: 0.7987\n",
      "Epoch 8/10\n",
      "66/66 [==============================] - 1s 11ms/step - loss: 0.4279 - accuracy: 0.8211 - val_loss: 0.3864 - val_accuracy: 0.8277\n",
      "Epoch 9/10\n",
      "66/66 [==============================] - 1s 11ms/step - loss: 0.3378 - accuracy: 0.8772 - val_loss: 0.3400 - val_accuracy: 0.8680\n",
      "Epoch 10/10\n",
      "66/66 [==============================] - 1s 11ms/step - loss: 0.3629 - accuracy: 0.8493 - val_loss: 0.3079 - val_accuracy: 0.8792\n",
      "INFO:tensorflow:Assets written to: CNNmut.model\\assets\n",
      "[[32, 5, 0.0005, 0.1, 3, 1, 128], [32, 7, 0.0001, 0.1, 6, 0, 512], [64, 2, 0.0001, 0.0, 3, 1, 512], [64, 5, 0.0001, 0.3, 6, 0, 512], [64, 5, 0.0001, 0.3, 6, 0, 512], [64, 5, 0.0001, 0.3, 6, 0, 512], [64, 5, 0.0001, 0.3, 5, 0, 128], [32, 7, 0.0001, 0.1, 4, 0, 512], [64, 5, 0.0001, 0.3, 6, 0, 512], [64, 5, 0.0001, 0.3, 5, 0, 128]]\n",
      "[0.1507125533014456, 0.16196332349259593, 0.1691882870741313, 0.17579619512700453, 0.17579619512700453, 0.17579619512700453, 0.1799887207926168, 0.1880957608839975, 0.2071989487948791, 0.1799887207926168]\n",
      "Generasi Ke  7\n",
      "Parent 1 dan 2  [64, 2, 0.0001, 0.0, 3, 1, 512] [64, 5, 0.0001, 0.3, 6, 0, 512]\n",
      "Child 1 dan 2 [64, 2, 0.0001, 0.0, 6, 0, 512] [64, 5, 0.0001, 0.3, 3, 1, 512]\n",
      "Mutasi 1 dan 2 [64, 2, 0.0001, 0.0, 6, 0, 512] [64, 5, 0.0001, 0.3, 3, 1, 512]\n",
      "Epoch 1/10\n"
     ]
    },
    {
     "name": "stderr",
     "output_type": "stream",
     "text": [
      "D:\\ProgramData\\Anaconda3\\lib\\site-packages\\tensorflow\\python\\client\\session.py:1761: UserWarning: An interactive session is already active. This can cause out-of-memory errors in some cases. You must explicitly call `InteractiveSession.close()` to release resources held by the other session(s).\n",
      "  warnings.warn('An interactive session is already active. This can '\n"
     ]
    },
    {
     "name": "stdout",
     "output_type": "stream",
     "text": [
      "66/66 [==============================] - 1s 12ms/step - loss: 0.6929 - accuracy: 0.4877 - val_loss: 0.6918 - val_accuracy: 0.5101\n",
      "Epoch 2/10\n",
      "66/66 [==============================] - 1s 9ms/step - loss: 0.6918 - accuracy: 0.5431 - val_loss: 0.6887 - val_accuracy: 0.6398\n",
      "Epoch 3/10\n",
      "66/66 [==============================] - 1s 9ms/step - loss: 0.6858 - accuracy: 0.6239 - val_loss: 0.6928 - val_accuracy: 0.4989\n",
      "Epoch 4/10\n",
      "66/66 [==============================] - 1s 9ms/step - loss: 0.6733 - accuracy: 0.5809 - val_loss: 0.6409 - val_accuracy: 0.6443\n",
      "Epoch 5/10\n",
      "66/66 [==============================] - 1s 9ms/step - loss: 0.6229 - accuracy: 0.6885 - val_loss: 0.5928 - val_accuracy: 0.6801\n",
      "Epoch 6/10\n",
      "66/66 [==============================] - 1s 9ms/step - loss: 0.5629 - accuracy: 0.7517 - val_loss: 0.6007 - val_accuracy: 0.6868\n",
      "Epoch 7/10\n",
      "66/66 [==============================] - 1s 9ms/step - loss: 0.5588 - accuracy: 0.7210 - val_loss: 0.5611 - val_accuracy: 0.7204\n",
      "Epoch 8/10\n",
      "66/66 [==============================] - 1s 9ms/step - loss: 0.5662 - accuracy: 0.7036 - val_loss: 0.5441 - val_accuracy: 0.7204\n",
      "Epoch 9/10\n",
      "66/66 [==============================] - 1s 9ms/step - loss: 0.4962 - accuracy: 0.7691 - val_loss: 0.5272 - val_accuracy: 0.7517\n",
      "Epoch 10/10\n",
      "66/66 [==============================] - 1s 9ms/step - loss: 0.5002 - accuracy: 0.7657 - val_loss: 0.5194 - val_accuracy: 0.7427\n",
      "INFO:tensorflow:Assets written to: CNN.model\\assets\n"
     ]
    },
    {
     "name": "stderr",
     "output_type": "stream",
     "text": [
      "D:\\ProgramData\\Anaconda3\\lib\\site-packages\\tensorflow\\python\\client\\session.py:1761: UserWarning: An interactive session is already active. This can cause out-of-memory errors in some cases. You must explicitly call `InteractiveSession.close()` to release resources held by the other session(s).\n",
      "  warnings.warn('An interactive session is already active. This can '\n"
     ]
    },
    {
     "name": "stdout",
     "output_type": "stream",
     "text": [
      "Epoch 1/10\n",
      "66/66 [==============================] - 1s 12ms/step - loss: 0.6863 - accuracy: 0.5492 - val_loss: 0.6462 - val_accuracy: 0.5996\n",
      "Epoch 2/10\n",
      "66/66 [==============================] - 1s 10ms/step - loss: 0.6561 - accuracy: 0.6001 - val_loss: 0.5545 - val_accuracy: 0.7159\n",
      "Epoch 3/10\n",
      "66/66 [==============================] - 1s 10ms/step - loss: 0.5763 - accuracy: 0.6689 - val_loss: 0.5136 - val_accuracy: 0.7539\n",
      "Epoch 4/10\n",
      "66/66 [==============================] - 1s 10ms/step - loss: 0.5015 - accuracy: 0.7530 - val_loss: 0.4460 - val_accuracy: 0.7987\n",
      "Epoch 5/10\n",
      "66/66 [==============================] - 1s 10ms/step - loss: 0.4793 - accuracy: 0.7859 - val_loss: 0.4219 - val_accuracy: 0.8523\n",
      "Epoch 6/10\n",
      "66/66 [==============================] - 1s 11ms/step - loss: 0.4209 - accuracy: 0.8221 - val_loss: 0.4291 - val_accuracy: 0.8009\n",
      "Epoch 7/10\n",
      "66/66 [==============================] - 1s 10ms/step - loss: 0.3892 - accuracy: 0.8142 - val_loss: 0.3369 - val_accuracy: 0.8658\n",
      "Epoch 8/10\n",
      "66/66 [==============================] - 1s 10ms/step - loss: 0.3505 - accuracy: 0.8607 - val_loss: 0.3057 - val_accuracy: 0.8837\n",
      "Epoch 9/10\n",
      "66/66 [==============================] - 1s 10ms/step - loss: 0.3012 - accuracy: 0.8816 - val_loss: 0.2749 - val_accuracy: 0.9150\n",
      "Epoch 10/10\n",
      "66/66 [==============================] - 1s 10ms/step - loss: 0.3274 - accuracy: 0.8695 - val_loss: 0.2550 - val_accuracy: 0.9105\n",
      "INFO:tensorflow:Assets written to: CNN.model\\assets\n",
      "[[32, 5, 0.0005, 0.1, 3, 1, 128], [32, 7, 0.0001, 0.1, 6, 0, 512], [64, 2, 0.0001, 0.0, 3, 1, 512], [64, 5, 0.0001, 0.3, 6, 0, 512], [64, 5, 0.0001, 0.3, 6, 0, 512], [64, 5, 0.0001, 0.3, 6, 0, 512], [64, 5, 0.0001, 0.3, 5, 0, 128], [64, 5, 0.0001, 0.3, 5, 0, 128], [64, 5, 0.0001, 0.3, 3, 1, 512], [64, 2, 0.0001, 0.0, 6, 0, 512]]\n",
      "[0.1507125533014456, 0.16196332349259593, 0.1691882870741313, 0.17579619512700453, 0.17579619512700453, 0.17579619512700453, 0.1799887207926168, 0.1799887207926168, 0.23880863176083558, 0.1777535965391175]\n",
      "Generasi Ke  8\n",
      "Parent 1 dan 2  [64, 2, 0.0001, 0.0, 3, 1, 512] [64, 5, 0.0001, 0.3, 6, 0, 512]\n",
      "Child 1 dan 2 [64, 2, 0.0001, 0.0, 6, 0, 512] [64, 5, 0.0001, 0.3, 3, 1, 512]\n",
      "Mutasi 1 dan 2 [64, 2, 0.0001, 0.0, 6, 0, 512] [64, 5, 0.0001, 0.3, 3, 1, 512]\n",
      "Epoch 1/10\n"
     ]
    },
    {
     "name": "stderr",
     "output_type": "stream",
     "text": [
      "D:\\ProgramData\\Anaconda3\\lib\\site-packages\\tensorflow\\python\\client\\session.py:1761: UserWarning: An interactive session is already active. This can cause out-of-memory errors in some cases. You must explicitly call `InteractiveSession.close()` to release resources held by the other session(s).\n",
      "  warnings.warn('An interactive session is already active. This can '\n"
     ]
    },
    {
     "name": "stdout",
     "output_type": "stream",
     "text": [
      "66/66 [==============================] - 1s 12ms/step - loss: 0.6862 - accuracy: 0.5488 - val_loss: 0.6544 - val_accuracy: 0.5749\n",
      "Epoch 2/10\n",
      "66/66 [==============================] - 1s 10ms/step - loss: 0.6620 - accuracy: 0.6013 - val_loss: 0.5546 - val_accuracy: 0.7248\n",
      "Epoch 3/10\n",
      "66/66 [==============================] - 1s 10ms/step - loss: 0.5784 - accuracy: 0.6683 - val_loss: 0.5402 - val_accuracy: 0.7025\n",
      "Epoch 4/10\n",
      "66/66 [==============================] - 1s 10ms/step - loss: 0.5015 - accuracy: 0.7475 - val_loss: 0.4398 - val_accuracy: 0.8121\n",
      "Epoch 5/10\n",
      "66/66 [==============================] - 1s 10ms/step - loss: 0.4817 - accuracy: 0.7879 - val_loss: 0.4181 - val_accuracy: 0.8434\n",
      "Epoch 6/10\n",
      "66/66 [==============================] - ETA: 0s - loss: 0.4286 - accuracy: 0.82 - 1s 10ms/step - loss: 0.4277 - accuracy: 0.8236 - val_loss: 0.3763 - val_accuracy: 0.8501\n",
      "Epoch 7/10\n",
      "66/66 [==============================] - 1s 10ms/step - loss: 0.3750 - accuracy: 0.8379 - val_loss: 0.3363 - val_accuracy: 0.8658\n",
      "Epoch 8/10\n",
      "66/66 [==============================] - 1s 10ms/step - loss: 0.3482 - accuracy: 0.8612 - val_loss: 0.3271 - val_accuracy: 0.8702\n",
      "Epoch 9/10\n",
      "66/66 [==============================] - 1s 10ms/step - loss: 0.2894 - accuracy: 0.8834 - val_loss: 0.2738 - val_accuracy: 0.9172\n",
      "Epoch 10/10\n",
      "66/66 [==============================] - 1s 10ms/step - loss: 0.3216 - accuracy: 0.8784 - val_loss: 0.2547 - val_accuracy: 0.9083\n",
      "INFO:tensorflow:Assets written to: CNNmut.model\\assets\n",
      "[[32, 5, 0.0005, 0.1, 3, 1, 128], [32, 7, 0.0001, 0.1, 6, 0, 512], [64, 2, 0.0001, 0.0, 3, 1, 512], [64, 5, 0.0001, 0.3, 6, 0, 512], [64, 5, 0.0001, 0.3, 6, 0, 512], [64, 5, 0.0001, 0.3, 6, 0, 512], [64, 2, 0.0001, 0.0, 6, 0, 512], [64, 5, 0.0001, 0.3, 5, 0, 128], [64, 5, 0.0001, 0.3, 3, 1, 512], [64, 2, 0.0001, 0.0, 6, 0, 512]]\n",
      "[0.1507125533014456, 0.16196332349259593, 0.1691882870741313, 0.17579619512700453, 0.17579619512700453, 0.17579619512700453, 0.1777535965391175, 0.1799887207926168, 0.2347458405208769, 0.1777535965391175]\n",
      "Generasi Ke  9\n",
      "Parent 1 dan 2  [64, 2, 0.0001, 0.0, 3, 1, 512] [64, 5, 0.0001, 0.3, 6, 0, 512]\n",
      "Child 1 dan 2 [64, 2, 0.0001, 0.0, 6, 0, 512] [64, 5, 0.0001, 0.3, 3, 1, 512]\n",
      "Mutasi 1 dan 2 [64, 2, 0.0001, 0.0, 6, 0, 512] [64, 5, 0.0001, 0.3, 3, 1, 512]\n",
      "Epoch 1/10\n"
     ]
    },
    {
     "name": "stderr",
     "output_type": "stream",
     "text": [
      "D:\\ProgramData\\Anaconda3\\lib\\site-packages\\tensorflow\\python\\client\\session.py:1761: UserWarning: An interactive session is already active. This can cause out-of-memory errors in some cases. You must explicitly call `InteractiveSession.close()` to release resources held by the other session(s).\n",
      "  warnings.warn('An interactive session is already active. This can '\n"
     ]
    },
    {
     "name": "stdout",
     "output_type": "stream",
     "text": [
      "66/66 [==============================] - 1s 12ms/step - loss: 0.6862 - accuracy: 0.5492 - val_loss: 0.6459 - val_accuracy: 0.6063\n",
      "Epoch 2/10\n",
      "66/66 [==============================] - 1s 10ms/step - loss: 0.6579 - accuracy: 0.6093 - val_loss: 0.5527 - val_accuracy: 0.7226\n",
      "Epoch 3/10\n",
      "66/66 [==============================] - 1s 10ms/step - loss: 0.5742 - accuracy: 0.6852 - val_loss: 0.5373 - val_accuracy: 0.7114\n",
      "Epoch 4/10\n",
      "66/66 [==============================] - 1s 10ms/step - loss: 0.5075 - accuracy: 0.7607 - val_loss: 0.4470 - val_accuracy: 0.8076\n",
      "Epoch 5/10\n",
      "66/66 [==============================] - 1s 10ms/step - loss: 0.4804 - accuracy: 0.7795 - val_loss: 0.4270 - val_accuracy: 0.8456\n",
      "Epoch 6/10\n",
      "66/66 [==============================] - 1s 10ms/step - loss: 0.4296 - accuracy: 0.8256 - val_loss: 0.4151 - val_accuracy: 0.8166\n",
      "Epoch 7/10\n",
      "66/66 [==============================] - 1s 10ms/step - loss: 0.3857 - accuracy: 0.8347 - val_loss: 0.3295 - val_accuracy: 0.8859\n",
      "Epoch 8/10\n",
      "66/66 [==============================] - 1s 10ms/step - loss: 0.3515 - accuracy: 0.8529 - val_loss: 0.3257 - val_accuracy: 0.8702\n",
      "Epoch 9/10\n",
      "66/66 [==============================] - 1s 10ms/step - loss: 0.3040 - accuracy: 0.8810 - val_loss: 0.2767 - val_accuracy: 0.9105\n",
      "Epoch 10/10\n",
      "66/66 [==============================] - 1s 10ms/step - loss: 0.3223 - accuracy: 0.8713 - val_loss: 0.2603 - val_accuracy: 0.9083\n",
      "INFO:tensorflow:Assets written to: CNNmut.model\\assets\n",
      "[[32, 5, 0.0005, 0.1, 3, 1, 128], [32, 7, 0.0001, 0.1, 6, 0, 512], [64, 2, 0.0001, 0.0, 3, 1, 512], [64, 5, 0.0001, 0.3, 6, 0, 512], [64, 5, 0.0001, 0.3, 6, 0, 512], [64, 5, 0.0001, 0.3, 6, 0, 512], [64, 2, 0.0001, 0.0, 6, 0, 512], [64, 2, 0.0001, 0.0, 6, 0, 512], [64, 5, 0.0001, 0.3, 3, 1, 512], [64, 2, 0.0001, 0.0, 6, 0, 512]]\n",
      "[0.1507125533014456, 0.16196332349259593, 0.1691882870741313, 0.17579619512700453, 0.17579619512700453, 0.17579619512700453, 0.1777535965391175, 0.1777535965391175, 0.24394431862207552, 0.1777535965391175]\n",
      "Generasi Ke  10\n",
      "Parent 1 dan 2  [64, 2, 0.0001, 0.0, 3, 1, 512] [64, 5, 0.0001, 0.3, 6, 0, 512]\n",
      "Child 1 dan 2 [64, 2, 0.0001, 0.0, 6, 0, 512] [64, 5, 0.0001, 0.3, 3, 1, 512]\n",
      "Mutasi 1 dan 2 [64, 2, 0.0001, 0.0, 6, 0, 512] [64, 5, 0.0001, 0.3, 3, 1, 512]\n",
      "Epoch 1/10\n"
     ]
    },
    {
     "name": "stderr",
     "output_type": "stream",
     "text": [
      "D:\\ProgramData\\Anaconda3\\lib\\site-packages\\tensorflow\\python\\client\\session.py:1761: UserWarning: An interactive session is already active. This can cause out-of-memory errors in some cases. You must explicitly call `InteractiveSession.close()` to release resources held by the other session(s).\n",
      "  warnings.warn('An interactive session is already active. This can '\n"
     ]
    },
    {
     "name": "stdout",
     "output_type": "stream",
     "text": [
      "66/66 [==============================] - 1s 12ms/step - loss: 0.6861 - accuracy: 0.5521 - val_loss: 0.6544 - val_accuracy: 0.5772\n",
      "Epoch 2/10\n",
      "66/66 [==============================] - 1s 10ms/step - loss: 0.6609 - accuracy: 0.6007 - val_loss: 0.5566 - val_accuracy: 0.7204\n",
      "Epoch 3/10\n",
      "66/66 [==============================] - 1s 10ms/step - loss: 0.5813 - accuracy: 0.6649 - val_loss: 0.5238 - val_accuracy: 0.7204\n",
      "Epoch 4/10\n",
      "66/66 [==============================] - 1s 10ms/step - loss: 0.5088 - accuracy: 0.7479 - val_loss: 0.4521 - val_accuracy: 0.8009\n",
      "Epoch 5/10\n",
      "66/66 [==============================] - 1s 10ms/step - loss: 0.4881 - accuracy: 0.7766 - val_loss: 0.4269 - val_accuracy: 0.8434\n",
      "Epoch 6/10\n",
      "66/66 [==============================] - 1s 10ms/step - loss: 0.4249 - accuracy: 0.8230 - val_loss: 0.4183 - val_accuracy: 0.8098\n",
      "Epoch 7/10\n",
      "66/66 [==============================] - 1s 11ms/step - loss: 0.3909 - accuracy: 0.8214 - val_loss: 0.3315 - val_accuracy: 0.8814\n",
      "Epoch 8/10\n",
      "66/66 [==============================] - 1s 11ms/step - loss: 0.3483 - accuracy: 0.8603 - val_loss: 0.3234 - val_accuracy: 0.8658\n",
      "Epoch 9/10\n",
      "66/66 [==============================] - 1s 10ms/step - loss: 0.3029 - accuracy: 0.8817 - val_loss: 0.2719 - val_accuracy: 0.9217\n",
      "Epoch 10/10\n",
      "66/66 [==============================] - 1s 10ms/step - loss: 0.3162 - accuracy: 0.8761 - val_loss: 0.2555 - val_accuracy: 0.9083\n",
      "INFO:tensorflow:Assets written to: CNNmut.model\\assets\n",
      "[[32, 5, 0.0005, 0.1, 3, 1, 128], [32, 7, 0.0001, 0.1, 6, 0, 512], [64, 2, 0.0001, 0.0, 3, 1, 512], [64, 5, 0.0001, 0.3, 6, 0, 512], [64, 5, 0.0001, 0.3, 6, 0, 512], [64, 5, 0.0001, 0.3, 6, 0, 512], [64, 2, 0.0001, 0.0, 6, 0, 512], [64, 2, 0.0001, 0.0, 6, 0, 512], [64, 5, 0.0001, 0.3, 3, 1, 512], [64, 2, 0.0001, 0.0, 6, 0, 512]]\n",
      "[0.1507125533014456, 0.16196332349259593, 0.1691882870741313, 0.17579619512700453, 0.17579619512700453, 0.17579619512700453, 0.1777535965391175, 0.1777535965391175, 0.20840236344940502, 0.1777535965391175]\n",
      "Generasi Ke  11\n",
      "Parent 1 dan 2  [64, 2, 0.0001, 0.0, 3, 1, 512] [64, 5, 0.0001, 0.3, 6, 0, 512]\n",
      "Child 1 dan 2 [64, 2, 0.0001, 0.0, 6, 0, 512] [64, 5, 0.0001, 0.3, 3, 1, 512]\n",
      "Mutasi 1 dan 2 [64, 2, 0.0001, 0.0, 6, 0, 512] [64, 5, 0.0001, 0.3, 3, 1, 512]\n",
      "Epoch 1/10\n"
     ]
    },
    {
     "name": "stderr",
     "output_type": "stream",
     "text": [
      "D:\\ProgramData\\Anaconda3\\lib\\site-packages\\tensorflow\\python\\client\\session.py:1761: UserWarning: An interactive session is already active. This can cause out-of-memory errors in some cases. You must explicitly call `InteractiveSession.close()` to release resources held by the other session(s).\n",
      "  warnings.warn('An interactive session is already active. This can '\n"
     ]
    },
    {
     "name": "stdout",
     "output_type": "stream",
     "text": [
      "66/66 [==============================] - 1s 12ms/step - loss: 0.6862 - accuracy: 0.5504 - val_loss: 0.6484 - val_accuracy: 0.5996\n",
      "Epoch 2/10\n",
      "66/66 [==============================] - 1s 10ms/step - loss: 0.6584 - accuracy: 0.6040 - val_loss: 0.5549 - val_accuracy: 0.7226\n",
      "Epoch 3/10\n",
      "66/66 [==============================] - 1s 10ms/step - loss: 0.5757 - accuracy: 0.6745 - val_loss: 0.5303 - val_accuracy: 0.7226\n",
      "Epoch 4/10\n",
      "66/66 [==============================] - 1s 10ms/step - loss: 0.5036 - accuracy: 0.7553 - val_loss: 0.4472 - val_accuracy: 0.8076\n",
      "Epoch 5/10\n",
      "66/66 [==============================] - 1s 10ms/step - loss: 0.4833 - accuracy: 0.7944 - val_loss: 0.4195 - val_accuracy: 0.8434\n",
      "Epoch 6/10\n",
      "66/66 [==============================] - 1s 9ms/step - loss: 0.4230 - accuracy: 0.8215 - val_loss: 0.3991 - val_accuracy: 0.8389\n",
      "Epoch 7/10\n",
      "66/66 [==============================] - 1s 10ms/step - loss: 0.3869 - accuracy: 0.8305 - val_loss: 0.3336 - val_accuracy: 0.8814\n",
      "Epoch 8/10\n",
      "66/66 [==============================] - 1s 10ms/step - loss: 0.3489 - accuracy: 0.8553 - val_loss: 0.3446 - val_accuracy: 0.8546\n",
      "Epoch 9/10\n",
      "66/66 [==============================] - 1s 10ms/step - loss: 0.3075 - accuracy: 0.8699 - val_loss: 0.2755 - val_accuracy: 0.9172\n",
      "Epoch 10/10\n",
      "66/66 [==============================] - 1s 10ms/step - loss: 0.3122 - accuracy: 0.8824 - val_loss: 0.2609 - val_accuracy: 0.9060\n",
      "INFO:tensorflow:Assets written to: CNNmut.model\\assets\n",
      "[[32, 5, 0.0005, 0.1, 3, 1, 128], [32, 7, 0.0001, 0.1, 6, 0, 512], [64, 2, 0.0001, 0.0, 3, 1, 512], [64, 5, 0.0001, 0.3, 6, 0, 512], [64, 5, 0.0001, 0.3, 6, 0, 512], [64, 5, 0.0001, 0.3, 6, 0, 512], [64, 2, 0.0001, 0.0, 6, 0, 512], [64, 2, 0.0001, 0.0, 6, 0, 512], [64, 5, 0.0001, 0.3, 3, 1, 512], [64, 2, 0.0001, 0.0, 6, 0, 512]]\n",
      "[0.1507125533014456, 0.16196332349259593, 0.1691882870741313, 0.17579619512700453, 0.17579619512700453, 0.17579619512700453, 0.1777535965391175, 0.1777535965391175, 0.226551080411279, 0.1777535965391175]\n",
      "Generasi Ke  12\n",
      "Parent 1 dan 2  [64, 2, 0.0001, 0.0, 3, 1, 512] [64, 5, 0.0001, 0.3, 6, 0, 512]\n",
      "Child 1 dan 2 [64, 2, 0.0001, 0.0, 6, 0, 512] [64, 5, 0.0001, 0.3, 3, 1, 512]\n",
      "Mutasi 1 dan 2 [64, 2, 0.0001, 0.0, 6, 0, 512] [64, 5, 0.0001, 0.3, 3, 1, 512]\n",
      "Epoch 1/10\n"
     ]
    },
    {
     "name": "stderr",
     "output_type": "stream",
     "text": [
      "D:\\ProgramData\\Anaconda3\\lib\\site-packages\\tensorflow\\python\\client\\session.py:1761: UserWarning: An interactive session is already active. This can cause out-of-memory errors in some cases. You must explicitly call `InteractiveSession.close()` to release resources held by the other session(s).\n",
      "  warnings.warn('An interactive session is already active. This can '\n"
     ]
    },
    {
     "name": "stdout",
     "output_type": "stream",
     "text": [
      "66/66 [==============================] - 1s 12ms/step - loss: 0.6862 - accuracy: 0.5500 - val_loss: 0.6472 - val_accuracy: 0.5996\n",
      "Epoch 2/10\n",
      "66/66 [==============================] - 1s 10ms/step - loss: 0.6582 - accuracy: 0.6111 - val_loss: 0.5532 - val_accuracy: 0.7181\n",
      "Epoch 3/10\n",
      "66/66 [==============================] - 1s 10ms/step - loss: 0.5766 - accuracy: 0.6793 - val_loss: 0.5435 - val_accuracy: 0.7025\n",
      "Epoch 4/10\n",
      "66/66 [==============================] - 1s 10ms/step - loss: 0.5110 - accuracy: 0.7443 - val_loss: 0.4631 - val_accuracy: 0.7852\n",
      "Epoch 5/10\n",
      "66/66 [==============================] - 1s 10ms/step - loss: 0.4710 - accuracy: 0.7886 - val_loss: 0.4299 - val_accuracy: 0.8322\n",
      "Epoch 6/10\n",
      "66/66 [==============================] - 1s 10ms/step - loss: 0.4332 - accuracy: 0.8190 - val_loss: 0.4505 - val_accuracy: 0.7875\n",
      "Epoch 7/10\n",
      "66/66 [==============================] - 1s 10ms/step - loss: 0.3940 - accuracy: 0.8191 - val_loss: 0.3655 - val_accuracy: 0.8434\n",
      "Epoch 8/10\n",
      "66/66 [==============================] - 1s 10ms/step - loss: 0.3589 - accuracy: 0.8643 - val_loss: 0.3209 - val_accuracy: 0.8680\n",
      "Epoch 9/10\n",
      "66/66 [==============================] - 1s 10ms/step - loss: 0.3026 - accuracy: 0.8821 - val_loss: 0.2674 - val_accuracy: 0.9217\n",
      "Epoch 10/10\n",
      "66/66 [==============================] - 1s 10ms/step - loss: 0.3139 - accuracy: 0.8855 - val_loss: 0.2551 - val_accuracy: 0.9150\n",
      "INFO:tensorflow:Assets written to: CNNmut.model\\assets\n",
      "[[32, 5, 0.0005, 0.1, 3, 1, 128], [32, 7, 0.0001, 0.1, 6, 0, 512], [64, 2, 0.0001, 0.0, 3, 1, 512], [64, 5, 0.0001, 0.3, 6, 0, 512], [64, 5, 0.0001, 0.3, 6, 0, 512], [64, 5, 0.0001, 0.3, 6, 0, 512], [64, 2, 0.0001, 0.0, 6, 0, 512], [64, 2, 0.0001, 0.0, 6, 0, 512], [64, 5, 0.0001, 0.3, 3, 1, 512], [64, 2, 0.0001, 0.0, 6, 0, 512]]\n",
      "[0.1507125533014456, 0.16196332349259593, 0.1691882870741313, 0.17579619512700453, 0.17579619512700453, 0.17579619512700453, 0.1777535965391175, 0.1777535965391175, 0.22154201394465134, 0.1777535965391175]\n",
      "Generasi Ke  13\n",
      "Parent 1 dan 2  [64, 2, 0.0001, 0.0, 3, 1, 512] [64, 5, 0.0001, 0.3, 6, 0, 512]\n",
      "Child 1 dan 2 [64, 2, 0.0001, 0.0, 6, 0, 512] [64, 5, 0.0001, 0.3, 3, 1, 512]\n",
      "Mutasi 1 dan 2 [64, 2, 0.0001, 0.0, 6, 0, 512] [64, 5, 0.0001, 0.3, 3, 1, 512]\n",
      "Epoch 1/10\n"
     ]
    },
    {
     "name": "stderr",
     "output_type": "stream",
     "text": [
      "D:\\ProgramData\\Anaconda3\\lib\\site-packages\\tensorflow\\python\\client\\session.py:1761: UserWarning: An interactive session is already active. This can cause out-of-memory errors in some cases. You must explicitly call `InteractiveSession.close()` to release resources held by the other session(s).\n",
      "  warnings.warn('An interactive session is already active. This can '\n"
     ]
    },
    {
     "name": "stdout",
     "output_type": "stream",
     "text": [
      "66/66 [==============================] - 1s 12ms/step - loss: 0.6863 - accuracy: 0.5492 - val_loss: 0.6451 - val_accuracy: 0.6085\n",
      "Epoch 2/10\n",
      "66/66 [==============================] - 1s 10ms/step - loss: 0.6572 - accuracy: 0.6120 - val_loss: 0.5515 - val_accuracy: 0.7315\n",
      "Epoch 3/10\n",
      "66/66 [==============================] - 1s 10ms/step - loss: 0.5800 - accuracy: 0.6724 - val_loss: 0.5181 - val_accuracy: 0.7338\n",
      "Epoch 4/10\n",
      "66/66 [==============================] - 1s 10ms/step - loss: 0.5016 - accuracy: 0.7558 - val_loss: 0.4486 - val_accuracy: 0.7987\n",
      "Epoch 5/10\n",
      "66/66 [==============================] - 1s 10ms/step - loss: 0.4956 - accuracy: 0.7690 - val_loss: 0.4358 - val_accuracy: 0.8389\n",
      "Epoch 6/10\n",
      "66/66 [==============================] - 1s 10ms/step - loss: 0.4150 - accuracy: 0.8296 - val_loss: 0.4257 - val_accuracy: 0.8031\n",
      "Epoch 7/10\n",
      "66/66 [==============================] - 1s 10ms/step - loss: 0.3897 - accuracy: 0.8248 - val_loss: 0.3280 - val_accuracy: 0.8859\n",
      "Epoch 8/10\n",
      "66/66 [==============================] - 1s 11ms/step - loss: 0.3495 - accuracy: 0.8563 - val_loss: 0.3144 - val_accuracy: 0.8702\n",
      "Epoch 9/10\n",
      "66/66 [==============================] - 1s 10ms/step - loss: 0.3047 - accuracy: 0.8797 - val_loss: 0.2770 - val_accuracy: 0.9105\n",
      "Epoch 10/10\n",
      "66/66 [==============================] - 1s 10ms/step - loss: 0.3192 - accuracy: 0.8699 - val_loss: 0.2620 - val_accuracy: 0.9060\n",
      "INFO:tensorflow:Assets written to: CNNmut.model\\assets\n",
      "[[32, 5, 0.0005, 0.1, 3, 1, 128], [32, 7, 0.0001, 0.1, 6, 0, 512], [64, 2, 0.0001, 0.0, 3, 1, 512], [64, 5, 0.0001, 0.3, 6, 0, 512], [64, 5, 0.0001, 0.3, 6, 0, 512], [64, 5, 0.0001, 0.3, 6, 0, 512], [64, 2, 0.0001, 0.0, 6, 0, 512], [64, 2, 0.0001, 0.0, 6, 0, 512], [64, 5, 0.0001, 0.3, 3, 1, 512], [64, 2, 0.0001, 0.0, 6, 0, 512]]\n",
      "[0.1507125533014456, 0.16196332349259593, 0.1691882870741313, 0.17579619512700453, 0.17579619512700453, 0.17579619512700453, 0.1777535965391175, 0.1777535965391175, 0.22472395578226223, 0.1777535965391175]\n",
      "Generasi Ke  14\n",
      "Parent 1 dan 2  [64, 2, 0.0001, 0.0, 3, 1, 512] [64, 5, 0.0001, 0.3, 6, 0, 512]\n",
      "Child 1 dan 2 [64, 2, 0.0001, 0.0, 6, 0, 512] [64, 5, 0.0001, 0.3, 3, 1, 512]\n",
      "Mutasi 1 dan 2 [64, 2, 0.0001, 0.0, 6, 0, 512] [64, 5, 0.0001, 0.3, 3, 1, 512]\n",
      "Epoch 1/10\n"
     ]
    },
    {
     "name": "stderr",
     "output_type": "stream",
     "text": [
      "D:\\ProgramData\\Anaconda3\\lib\\site-packages\\tensorflow\\python\\client\\session.py:1761: UserWarning: An interactive session is already active. This can cause out-of-memory errors in some cases. You must explicitly call `InteractiveSession.close()` to release resources held by the other session(s).\n",
      "  warnings.warn('An interactive session is already active. This can '\n"
     ]
    },
    {
     "name": "stdout",
     "output_type": "stream",
     "text": [
      "66/66 [==============================] - 1s 12ms/step - loss: 0.6860 - accuracy: 0.5484 - val_loss: 0.6558 - val_accuracy: 0.5682\n",
      "Epoch 2/10\n",
      "66/66 [==============================] - 1s 10ms/step - loss: 0.6655 - accuracy: 0.6064 - val_loss: 0.5625 - val_accuracy: 0.6913\n",
      "Epoch 3/10\n",
      "66/66 [==============================] - 1s 10ms/step - loss: 0.5789 - accuracy: 0.6696 - val_loss: 0.5432 - val_accuracy: 0.6980\n",
      "Epoch 4/10\n",
      "66/66 [==============================] - 1s 10ms/step - loss: 0.5092 - accuracy: 0.7632 - val_loss: 0.4490 - val_accuracy: 0.8054\n",
      "Epoch 5/10\n",
      "66/66 [==============================] - 1s 10ms/step - loss: 0.4740 - accuracy: 0.7946 - val_loss: 0.4262 - val_accuracy: 0.8456\n",
      "Epoch 6/10\n",
      "66/66 [==============================] - 1s 10ms/step - loss: 0.4278 - accuracy: 0.8182 - val_loss: 0.4229 - val_accuracy: 0.8076\n",
      "Epoch 7/10\n",
      "66/66 [==============================] - 1s 10ms/step - loss: 0.3885 - accuracy: 0.8353 - val_loss: 0.3286 - val_accuracy: 0.8881\n",
      "Epoch 8/10\n",
      "66/66 [==============================] - 1s 10ms/step - loss: 0.3405 - accuracy: 0.8675 - val_loss: 0.3066 - val_accuracy: 0.8792\n",
      "Epoch 9/10\n",
      "66/66 [==============================] - 1s 10ms/step - loss: 0.3043 - accuracy: 0.8748 - val_loss: 0.2731 - val_accuracy: 0.9150\n",
      "Epoch 10/10\n",
      "66/66 [==============================] - 1s 10ms/step - loss: 0.3146 - accuracy: 0.8775 - val_loss: 0.2617 - val_accuracy: 0.9060\n",
      "INFO:tensorflow:Assets written to: CNNmut.model\\assets\n",
      "[[32, 5, 0.0005, 0.1, 3, 1, 128], [32, 7, 0.0001, 0.1, 6, 0, 512], [64, 2, 0.0001, 0.0, 3, 1, 512], [64, 5, 0.0001, 0.3, 6, 0, 512], [64, 5, 0.0001, 0.3, 6, 0, 512], [64, 5, 0.0001, 0.3, 6, 0, 512], [64, 2, 0.0001, 0.0, 6, 0, 512], [64, 2, 0.0001, 0.0, 6, 0, 512], [64, 5, 0.0001, 0.3, 3, 1, 512], [64, 2, 0.0001, 0.0, 6, 0, 512]]\n",
      "[0.1507125533014456, 0.16196332349259593, 0.1691882870741313, 0.17579619512700453, 0.17579619512700453, 0.17579619512700453, 0.1777535965391175, 0.1777535965391175, 0.2395498663749645, 0.1777535965391175]\n",
      "Generasi Ke  15\n",
      "Parent 1 dan 2  [64, 2, 0.0001, 0.0, 3, 1, 512] [64, 5, 0.0001, 0.3, 6, 0, 512]\n",
      "Child 1 dan 2 [64, 2, 0.0001, 0.0, 6, 0, 512] [64, 5, 0.0001, 0.3, 3, 1, 512]\n",
      "Mutasi 1 dan 2 [64, 2, 0.0001, 0.0, 6, 0, 512] [64, 5, 0.0001, 0.3, 3, 1, 512]\n",
      "Epoch 1/10\n"
     ]
    },
    {
     "name": "stderr",
     "output_type": "stream",
     "text": [
      "D:\\ProgramData\\Anaconda3\\lib\\site-packages\\tensorflow\\python\\client\\session.py:1761: UserWarning: An interactive session is already active. This can cause out-of-memory errors in some cases. You must explicitly call `InteractiveSession.close()` to release resources held by the other session(s).\n",
      "  warnings.warn('An interactive session is already active. This can '\n"
     ]
    },
    {
     "name": "stdout",
     "output_type": "stream",
     "text": [
      "66/66 [==============================] - 1s 13ms/step - loss: 0.6862 - accuracy: 0.5506 - val_loss: 0.6459 - val_accuracy: 0.6063\n",
      "Epoch 2/10\n",
      "66/66 [==============================] - 1s 10ms/step - loss: 0.6578 - accuracy: 0.6054 - val_loss: 0.5509 - val_accuracy: 0.7315\n",
      "Epoch 3/10\n",
      "66/66 [==============================] - 1s 10ms/step - loss: 0.5729 - accuracy: 0.6743 - val_loss: 0.5149 - val_accuracy: 0.7360\n",
      "Epoch 4/10\n",
      "66/66 [==============================] - 1s 10ms/step - loss: 0.5000 - accuracy: 0.7601 - val_loss: 0.4447 - val_accuracy: 0.8076\n",
      "Epoch 5/10\n",
      "66/66 [==============================] - 1s 10ms/step - loss: 0.4752 - accuracy: 0.7945 - val_loss: 0.4210 - val_accuracy: 0.8456\n",
      "Epoch 6/10\n",
      "66/66 [==============================] - 1s 10ms/step - loss: 0.4203 - accuracy: 0.8236 - val_loss: 0.4356 - val_accuracy: 0.8054\n",
      "Epoch 7/10\n",
      "66/66 [==============================] - 1s 10ms/step - loss: 0.3846 - accuracy: 0.8229 - val_loss: 0.3332 - val_accuracy: 0.8770\n",
      "Epoch 8/10\n",
      "66/66 [==============================] - 1s 10ms/step - loss: 0.3437 - accuracy: 0.8714 - val_loss: 0.3216 - val_accuracy: 0.8658\n",
      "Epoch 9/10\n",
      "66/66 [==============================] - 1s 10ms/step - loss: 0.2989 - accuracy: 0.8772 - val_loss: 0.2717 - val_accuracy: 0.9172\n",
      "Epoch 10/10\n",
      "66/66 [==============================] - 1s 10ms/step - loss: 0.3277 - accuracy: 0.8653 - val_loss: 0.2585 - val_accuracy: 0.9060\n",
      "INFO:tensorflow:Assets written to: CNNmut.model\\assets\n",
      "[[32, 5, 0.0005, 0.1, 3, 1, 128], [32, 7, 0.0001, 0.1, 6, 0, 512], [64, 2, 0.0001, 0.0, 3, 1, 512], [64, 5, 0.0001, 0.3, 6, 0, 512], [64, 5, 0.0001, 0.3, 6, 0, 512], [64, 5, 0.0001, 0.3, 6, 0, 512], [64, 2, 0.0001, 0.0, 6, 0, 512], [64, 2, 0.0001, 0.0, 6, 0, 512], [64, 5, 0.0001, 0.3, 3, 1, 512], [64, 2, 0.0001, 0.0, 6, 0, 512]]\n",
      "[0.1507125533014456, 0.16196332349259593, 0.1691882870741313, 0.17579619512700453, 0.17579619512700453, 0.17579619512700453, 0.1777535965391175, 0.1777535965391175, 0.21829265381439814, 0.1777535965391175]\n",
      "Generasi Ke  16\n",
      "Parent 1 dan 2  [64, 2, 0.0001, 0.0, 3, 1, 512] [64, 5, 0.0001, 0.3, 6, 0, 512]\n",
      "Child 1 dan 2 [64, 2, 0.0001, 0.0, 6, 0, 512] [64, 5, 0.0001, 0.3, 3, 1, 512]\n",
      "Mutasi 1 dan 2 [64, 2, 0.0001, 0.0, 6, 0, 512] [64, 5, 0.0001, 0.3, 3, 1, 512]\n",
      "Epoch 1/10\n"
     ]
    },
    {
     "name": "stderr",
     "output_type": "stream",
     "text": [
      "D:\\ProgramData\\Anaconda3\\lib\\site-packages\\tensorflow\\python\\client\\session.py:1761: UserWarning: An interactive session is already active. This can cause out-of-memory errors in some cases. You must explicitly call `InteractiveSession.close()` to release resources held by the other session(s).\n",
      "  warnings.warn('An interactive session is already active. This can '\n"
     ]
    },
    {
     "name": "stdout",
     "output_type": "stream",
     "text": [
      "66/66 [==============================] - 1s 12ms/step - loss: 0.6861 - accuracy: 0.5500 - val_loss: 0.6509 - val_accuracy: 0.5884\n",
      "Epoch 2/10\n",
      "66/66 [==============================] - 1s 10ms/step - loss: 0.6626 - accuracy: 0.6039 - val_loss: 0.5646 - val_accuracy: 0.6890\n",
      "Epoch 3/10\n",
      "66/66 [==============================] - 1s 10ms/step - loss: 0.5803 - accuracy: 0.6635 - val_loss: 0.5454 - val_accuracy: 0.6980\n",
      "Epoch 4/10\n",
      "66/66 [==============================] - 1s 10ms/step - loss: 0.5096 - accuracy: 0.7613 - val_loss: 0.4522 - val_accuracy: 0.8009\n",
      "Epoch 5/10\n",
      "66/66 [==============================] - 1s 10ms/step - loss: 0.4680 - accuracy: 0.7869 - val_loss: 0.4361 - val_accuracy: 0.8233\n",
      "Epoch 6/10\n",
      "66/66 [==============================] - 1s 10ms/step - loss: 0.4199 - accuracy: 0.8185 - val_loss: 0.4159 - val_accuracy: 0.8166\n",
      "Epoch 7/10\n",
      "66/66 [==============================] - 1s 10ms/step - loss: 0.3812 - accuracy: 0.8278 - val_loss: 0.3196 - val_accuracy: 0.8859\n",
      "Epoch 8/10\n",
      "66/66 [==============================] - 1s 10ms/step - loss: 0.3384 - accuracy: 0.8630 - val_loss: 0.3034 - val_accuracy: 0.8702\n",
      "Epoch 9/10\n",
      "66/66 [==============================] - 1s 10ms/step - loss: 0.2933 - accuracy: 0.8785 - val_loss: 0.2550 - val_accuracy: 0.9306\n",
      "Epoch 10/10\n",
      "66/66 [==============================] - 1s 10ms/step - loss: 0.3029 - accuracy: 0.8873 - val_loss: 0.2503 - val_accuracy: 0.9060\n",
      "INFO:tensorflow:Assets written to: CNNmut.model\\assets\n",
      "[[32, 5, 0.0005, 0.1, 3, 1, 128], [32, 7, 0.0001, 0.1, 6, 0, 512], [64, 2, 0.0001, 0.0, 3, 1, 512], [64, 5, 0.0001, 0.3, 6, 0, 512], [64, 5, 0.0001, 0.3, 6, 0, 512], [64, 5, 0.0001, 0.3, 6, 0, 512], [64, 2, 0.0001, 0.0, 6, 0, 512], [64, 2, 0.0001, 0.0, 6, 0, 512], [64, 5, 0.0001, 0.3, 3, 1, 512], [64, 2, 0.0001, 0.0, 6, 0, 512]]\n",
      "[0.1507125533014456, 0.16196332349259593, 0.1691882870741313, 0.17579619512700453, 0.17579619512700453, 0.17579619512700453, 0.1777535965391175, 0.1777535965391175, 0.22849632192175873, 0.1777535965391175]\n",
      "Generasi Ke  17\n",
      "Parent 1 dan 2  [64, 2, 0.0001, 0.0, 3, 1, 512] [64, 5, 0.0001, 0.3, 6, 0, 512]\n",
      "Child 1 dan 2 [64, 2, 0.0001, 0.0, 6, 0, 512] [64, 5, 0.0001, 0.3, 3, 1, 512]\n",
      "Mutasi 1 dan 2 [64, 2, 0.0001, 0.0, 6, 0, 512] [64, 5, 0.0001, 0.3, 3, 1, 512]\n",
      "Epoch 1/10\n"
     ]
    },
    {
     "name": "stderr",
     "output_type": "stream",
     "text": [
      "D:\\ProgramData\\Anaconda3\\lib\\site-packages\\tensorflow\\python\\client\\session.py:1761: UserWarning: An interactive session is already active. This can cause out-of-memory errors in some cases. You must explicitly call `InteractiveSession.close()` to release resources held by the other session(s).\n",
      "  warnings.warn('An interactive session is already active. This can '\n"
     ]
    },
    {
     "name": "stdout",
     "output_type": "stream",
     "text": [
      "66/66 [==============================] - 1s 13ms/step - loss: 0.6862 - accuracy: 0.5470 - val_loss: 0.6502 - val_accuracy: 0.5906\n",
      "Epoch 2/10\n",
      "66/66 [==============================] - 1s 10ms/step - loss: 0.6590 - accuracy: 0.6045 - val_loss: 0.5559 - val_accuracy: 0.7248\n",
      "Epoch 3/10\n",
      "66/66 [==============================] - 1s 10ms/step - loss: 0.5720 - accuracy: 0.6920 - val_loss: 0.5434 - val_accuracy: 0.7025\n",
      "Epoch 4/10\n",
      "66/66 [==============================] - 1s 10ms/step - loss: 0.5072 - accuracy: 0.7515 - val_loss: 0.4451 - val_accuracy: 0.8143\n",
      "Epoch 5/10\n",
      "66/66 [==============================] - 1s 10ms/step - loss: 0.4881 - accuracy: 0.7753 - val_loss: 0.4268 - val_accuracy: 0.8479\n",
      "Epoch 6/10\n",
      "66/66 [==============================] - 1s 10ms/step - loss: 0.4191 - accuracy: 0.8239 - val_loss: 0.4121 - val_accuracy: 0.8188\n",
      "Epoch 7/10\n",
      "66/66 [==============================] - 1s 10ms/step - loss: 0.3811 - accuracy: 0.8303 - val_loss: 0.3311 - val_accuracy: 0.8770\n",
      "Epoch 8/10\n",
      "66/66 [==============================] - 1s 10ms/step - loss: 0.3447 - accuracy: 0.8706 - val_loss: 0.3217 - val_accuracy: 0.8591\n",
      "Epoch 9/10\n",
      "66/66 [==============================] - 1s 10ms/step - loss: 0.3031 - accuracy: 0.8787 - val_loss: 0.2715 - val_accuracy: 0.9172\n",
      "Epoch 10/10\n",
      "66/66 [==============================] - 1s 10ms/step - loss: 0.3135 - accuracy: 0.8741 - val_loss: 0.2506 - val_accuracy: 0.9083\n",
      "INFO:tensorflow:Assets written to: CNNmut.model\\assets\n",
      "[[32, 5, 0.0005, 0.1, 3, 1, 128], [32, 7, 0.0001, 0.1, 6, 0, 512], [64, 2, 0.0001, 0.0, 3, 1, 512], [64, 5, 0.0001, 0.3, 6, 0, 512], [64, 5, 0.0001, 0.3, 6, 0, 512], [64, 5, 0.0001, 0.3, 6, 0, 512], [64, 2, 0.0001, 0.0, 6, 0, 512], [64, 2, 0.0001, 0.0, 6, 0, 512], [64, 5, 0.0001, 0.3, 3, 1, 512], [64, 2, 0.0001, 0.0, 6, 0, 512]]\n",
      "[0.1507125533014456, 0.16196332349259593, 0.1691882870741313, 0.17579619512700453, 0.17579619512700453, 0.17579619512700453, 0.1777535965391175, 0.1777535965391175, 0.22668801553981016, 0.1777535965391175]\n",
      "Generasi Ke  18\n",
      "Parent 1 dan 2  [64, 2, 0.0001, 0.0, 3, 1, 512] [64, 5, 0.0001, 0.3, 6, 0, 512]\n",
      "Child 1 dan 2 [64, 2, 0.0001, 0.0, 6, 0, 512] [64, 5, 0.0001, 0.3, 3, 1, 512]\n",
      "Mutasi 1 dan 2 [64, 2, 0.0001, 0.0, 6, 0, 512] [64, 5, 0.0001, 0.3, 3, 1, 512]\n",
      "Epoch 1/10\n"
     ]
    },
    {
     "name": "stderr",
     "output_type": "stream",
     "text": [
      "D:\\ProgramData\\Anaconda3\\lib\\site-packages\\tensorflow\\python\\client\\session.py:1761: UserWarning: An interactive session is already active. This can cause out-of-memory errors in some cases. You must explicitly call `InteractiveSession.close()` to release resources held by the other session(s).\n",
      "  warnings.warn('An interactive session is already active. This can '\n"
     ]
    },
    {
     "name": "stdout",
     "output_type": "stream",
     "text": [
      "66/66 [==============================] - 1s 13ms/step - loss: 0.6862 - accuracy: 0.5507 - val_loss: 0.6423 - val_accuracy: 0.6063\n",
      "Epoch 2/10\n",
      "66/66 [==============================] - 1s 10ms/step - loss: 0.6563 - accuracy: 0.6061 - val_loss: 0.5516 - val_accuracy: 0.7315\n",
      "Epoch 3/10\n",
      "66/66 [==============================] - 1s 10ms/step - loss: 0.5774 - accuracy: 0.6775 - val_loss: 0.5227 - val_accuracy: 0.7293\n",
      "Epoch 4/10\n",
      "66/66 [==============================] - 1s 10ms/step - loss: 0.5072 - accuracy: 0.7561 - val_loss: 0.4492 - val_accuracy: 0.7964\n",
      "Epoch 5/10\n",
      "66/66 [==============================] - 1s 11ms/step - loss: 0.4890 - accuracy: 0.7739 - val_loss: 0.4235 - val_accuracy: 0.8412\n",
      "Epoch 6/10\n",
      "66/66 [==============================] - 1s 10ms/step - loss: 0.4206 - accuracy: 0.8212 - val_loss: 0.4629 - val_accuracy: 0.7808\n",
      "Epoch 7/10\n",
      "66/66 [==============================] - 1s 10ms/step - loss: 0.3980 - accuracy: 0.8109 - val_loss: 0.3367 - val_accuracy: 0.8814\n",
      "Epoch 8/10\n",
      "66/66 [==============================] - 1s 10ms/step - loss: 0.3560 - accuracy: 0.8546 - val_loss: 0.3461 - val_accuracy: 0.8479\n",
      "Epoch 9/10\n",
      "66/66 [==============================] - 1s 10ms/step - loss: 0.3039 - accuracy: 0.8726 - val_loss: 0.2868 - val_accuracy: 0.9060\n",
      "Epoch 10/10\n",
      "66/66 [==============================] - 1s 10ms/step - loss: 0.3334 - accuracy: 0.8626 - val_loss: 0.2593 - val_accuracy: 0.9060\n",
      "INFO:tensorflow:Assets written to: CNNmut.model\\assets\n",
      "[[32, 5, 0.0005, 0.1, 3, 1, 128], [32, 7, 0.0001, 0.1, 6, 0, 512], [64, 2, 0.0001, 0.0, 3, 1, 512], [64, 5, 0.0001, 0.3, 6, 0, 512], [64, 5, 0.0001, 0.3, 6, 0, 512], [64, 5, 0.0001, 0.3, 6, 0, 512], [64, 2, 0.0001, 0.0, 6, 0, 512], [64, 2, 0.0001, 0.0, 6, 0, 512], [64, 5, 0.0001, 0.3, 3, 1, 512], [64, 2, 0.0001, 0.0, 6, 0, 512]]\n",
      "[0.1507125533014456, 0.16196332349259593, 0.1691882870741313, 0.17579619512700453, 0.17579619512700453, 0.17579619512700453, 0.1777535965391175, 0.1777535965391175, 0.217741427069687, 0.1777535965391175]\n",
      "Generasi Ke  19\n",
      "Parent 1 dan 2  [64, 2, 0.0001, 0.0, 3, 1, 512] [64, 5, 0.0001, 0.3, 6, 0, 512]\n",
      "Child 1 dan 2 [64, 2, 0.0001, 0.0, 6, 0, 512] [64, 5, 0.0001, 0.3, 3, 1, 512]\n",
      "Mutasi 1 dan 2 [64, 2, 0.0001, 0.0, 6, 0, 512] [64, 5, 0.0001, 0.3, 3, 1, 512]\n",
      "Epoch 1/10\n"
     ]
    },
    {
     "name": "stderr",
     "output_type": "stream",
     "text": [
      "D:\\ProgramData\\Anaconda3\\lib\\site-packages\\tensorflow\\python\\client\\session.py:1761: UserWarning: An interactive session is already active. This can cause out-of-memory errors in some cases. You must explicitly call `InteractiveSession.close()` to release resources held by the other session(s).\n",
      "  warnings.warn('An interactive session is already active. This can '\n"
     ]
    },
    {
     "name": "stdout",
     "output_type": "stream",
     "text": [
      "66/66 [==============================] - 1s 12ms/step - loss: 0.6862 - accuracy: 0.5496 - val_loss: 0.6452 - val_accuracy: 0.6085\n",
      "Epoch 2/10\n",
      "66/66 [==============================] - 1s 10ms/step - loss: 0.6574 - accuracy: 0.6105 - val_loss: 0.5508 - val_accuracy: 0.7315\n",
      "Epoch 3/10\n",
      "66/66 [==============================] - 1s 10ms/step - loss: 0.5797 - accuracy: 0.6697 - val_loss: 0.5303 - val_accuracy: 0.7181\n",
      "Epoch 4/10\n",
      "66/66 [==============================] - 1s 10ms/step - loss: 0.5036 - accuracy: 0.7582 - val_loss: 0.4529 - val_accuracy: 0.7964\n",
      "Epoch 5/10\n",
      "66/66 [==============================] - 1s 10ms/step - loss: 0.4750 - accuracy: 0.7940 - val_loss: 0.4225 - val_accuracy: 0.8367\n",
      "Epoch 6/10\n",
      "66/66 [==============================] - 1s 10ms/step - loss: 0.4221 - accuracy: 0.8259 - val_loss: 0.4191 - val_accuracy: 0.8121\n",
      "Epoch 7/10\n",
      "66/66 [==============================] - 1s 10ms/step - loss: 0.3864 - accuracy: 0.8136 - val_loss: 0.3293 - val_accuracy: 0.8859\n",
      "Epoch 8/10\n",
      "66/66 [==============================] - 1s 10ms/step - loss: 0.3443 - accuracy: 0.8562 - val_loss: 0.3377 - val_accuracy: 0.8591\n",
      "Epoch 9/10\n",
      "66/66 [==============================] - 1s 11ms/step - loss: 0.2948 - accuracy: 0.8669 - val_loss: 0.2656 - val_accuracy: 0.9217\n",
      "Epoch 10/10\n",
      "66/66 [==============================] - 1s 10ms/step - loss: 0.3095 - accuracy: 0.8788 - val_loss: 0.2560 - val_accuracy: 0.9060\n",
      "INFO:tensorflow:Assets written to: CNNmut.model\\assets\n",
      "[[32, 5, 0.0005, 0.1, 3, 1, 128], [32, 7, 0.0001, 0.1, 6, 0, 512], [64, 2, 0.0001, 0.0, 3, 1, 512], [64, 5, 0.0001, 0.3, 6, 0, 512], [64, 5, 0.0001, 0.3, 6, 0, 512], [64, 5, 0.0001, 0.3, 6, 0, 512], [64, 2, 0.0001, 0.0, 6, 0, 512], [64, 2, 0.0001, 0.0, 6, 0, 512], [64, 5, 0.0001, 0.3, 3, 1, 512], [64, 2, 0.0001, 0.0, 6, 0, 512]]\n",
      "[0.1507125533014456, 0.16196332349259593, 0.1691882870741313, 0.17579619512700453, 0.17579619512700453, 0.17579619512700453, 0.1777535965391175, 0.1777535965391175, 0.2266868282071408, 0.1777535965391175]\n",
      "Generasi Ke  20\n",
      "Parent 1 dan 2  [64, 2, 0.0001, 0.0, 3, 1, 512] [64, 5, 0.0001, 0.3, 6, 0, 512]\n",
      "Child 1 dan 2 [64, 2, 0.0001, 0.0, 6, 0, 512] [64, 5, 0.0001, 0.3, 3, 1, 512]\n",
      "Mutasi 1 dan 2 [64, 2, 0.0001, 0.0, 6, 0, 512] [64, 5, 0.0001, 0.3, 3, 1, 512]\n",
      "Epoch 1/10\n"
     ]
    },
    {
     "name": "stderr",
     "output_type": "stream",
     "text": [
      "D:\\ProgramData\\Anaconda3\\lib\\site-packages\\tensorflow\\python\\client\\session.py:1761: UserWarning: An interactive session is already active. This can cause out-of-memory errors in some cases. You must explicitly call `InteractiveSession.close()` to release resources held by the other session(s).\n",
      "  warnings.warn('An interactive session is already active. This can '\n"
     ]
    },
    {
     "name": "stdout",
     "output_type": "stream",
     "text": [
      "66/66 [==============================] - 1s 12ms/step - loss: 0.6863 - accuracy: 0.5509 - val_loss: 0.6423 - val_accuracy: 0.6085\n",
      "Epoch 2/10\n",
      "66/66 [==============================] - 1s 10ms/step - loss: 0.6567 - accuracy: 0.6001 - val_loss: 0.5526 - val_accuracy: 0.7271\n",
      "Epoch 3/10\n",
      "66/66 [==============================] - 1s 10ms/step - loss: 0.5759 - accuracy: 0.6712 - val_loss: 0.5346 - val_accuracy: 0.7114\n",
      "Epoch 4/10\n",
      "66/66 [==============================] - 1s 10ms/step - loss: 0.5064 - accuracy: 0.7594 - val_loss: 0.4492 - val_accuracy: 0.8076\n",
      "Epoch 5/10\n",
      "66/66 [==============================] - 1s 10ms/step - loss: 0.4874 - accuracy: 0.7835 - val_loss: 0.4273 - val_accuracy: 0.8412\n",
      "Epoch 6/10\n",
      "66/66 [==============================] - 1s 10ms/step - loss: 0.4213 - accuracy: 0.8218 - val_loss: 0.4367 - val_accuracy: 0.8031\n",
      "Epoch 7/10\n",
      "66/66 [==============================] - 1s 9ms/step - loss: 0.3922 - accuracy: 0.8155 - val_loss: 0.3349 - val_accuracy: 0.8747\n",
      "Epoch 8/10\n",
      "66/66 [==============================] - 1s 10ms/step - loss: 0.3543 - accuracy: 0.8637 - val_loss: 0.3133 - val_accuracy: 0.8747\n",
      "Epoch 9/10\n",
      "66/66 [==============================] - 1s 10ms/step - loss: 0.3099 - accuracy: 0.8732 - val_loss: 0.2824 - val_accuracy: 0.9128\n",
      "Epoch 10/10\n",
      "66/66 [==============================] - 1s 10ms/step - loss: 0.3239 - accuracy: 0.8775 - val_loss: 0.2639 - val_accuracy: 0.9038\n",
      "INFO:tensorflow:Assets written to: CNNmut.model\\assets\n",
      "[[32, 5, 0.0005, 0.1, 3, 1, 128], [32, 7, 0.0001, 0.1, 6, 0, 512], [64, 2, 0.0001, 0.0, 3, 1, 512], [64, 5, 0.0001, 0.3, 6, 0, 512], [64, 5, 0.0001, 0.3, 6, 0, 512], [64, 5, 0.0001, 0.3, 6, 0, 512], [64, 2, 0.0001, 0.0, 6, 0, 512], [64, 2, 0.0001, 0.0, 6, 0, 512], [64, 5, 0.0001, 0.3, 3, 1, 512], [64, 2, 0.0001, 0.0, 6, 0, 512]]\n",
      "[0.1507125533014456, 0.16196332349259593, 0.1691882870741313, 0.17579619512700453, 0.17579619512700453, 0.17579619512700453, 0.1777535965391175, 0.1777535965391175, 0.2186493371486115, 0.1777535965391175]\n"
     ]
    }
   ],
   "source": [
    "feat,besteverygen = featSelection.fit(Xtrain,ytrain)"
   ]
  },
  {
   "cell_type": "code",
   "execution_count": 6,
   "metadata": {},
   "outputs": [
    {
     "data": {
      "text/plain": [
       "[32, 5, 0.0005, 0.1, 3, 1, 128]"
      ]
     },
     "execution_count": 6,
     "metadata": {},
     "output_type": "execute_result"
    }
   ],
   "source": [
    "feat"
   ]
  },
  {
   "cell_type": "code",
   "execution_count": 7,
   "metadata": {},
   "outputs": [
    {
     "data": {
      "text/plain": [
       "['Generasi 0',\n",
       " [32, 5, 0.0005, 0.1, 3, 1, 128],\n",
       " 0.1507125533014456,\n",
       " [32, 5, 0.0005, 0.1, 3, 1, 128],\n",
       " 0.1507125533014456,\n",
       " [32, 5, 0.0005, 0.1, 3, 1, 128],\n",
       " 0.1507125533014456,\n",
       " [32, 5, 0.0005, 0.1, 3, 1, 128],\n",
       " 0.1507125533014456,\n",
       " [32, 5, 0.0005, 0.1, 3, 1, 128],\n",
       " 0.1507125533014456,\n",
       " [32, 5, 0.0005, 0.1, 3, 1, 128],\n",
       " 0.1507125533014456,\n",
       " [32, 5, 0.0005, 0.1, 3, 1, 128],\n",
       " 0.1507125533014456,\n",
       " [32, 5, 0.0005, 0.1, 3, 1, 128],\n",
       " 0.1507125533014456,\n",
       " [32, 5, 0.0005, 0.1, 3, 1, 128],\n",
       " 0.1507125533014456,\n",
       " [32, 5, 0.0005, 0.1, 3, 1, 128],\n",
       " 0.1507125533014456,\n",
       " [32, 5, 0.0005, 0.1, 3, 1, 128],\n",
       " 0.1507125533014456,\n",
       " [32, 5, 0.0005, 0.1, 3, 1, 128],\n",
       " 0.1507125533014456,\n",
       " [32, 5, 0.0005, 0.1, 3, 1, 128],\n",
       " 0.1507125533014456,\n",
       " [32, 5, 0.0005, 0.1, 3, 1, 128],\n",
       " 0.1507125533014456,\n",
       " [32, 5, 0.0005, 0.1, 3, 1, 128],\n",
       " 0.1507125533014456,\n",
       " [32, 5, 0.0005, 0.1, 3, 1, 128],\n",
       " 0.1507125533014456,\n",
       " [32, 5, 0.0005, 0.1, 3, 1, 128],\n",
       " 0.1507125533014456,\n",
       " [32, 5, 0.0005, 0.1, 3, 1, 128],\n",
       " 0.1507125533014456,\n",
       " [32, 5, 0.0005, 0.1, 3, 1, 128],\n",
       " 0.1507125533014456,\n",
       " [32, 5, 0.0005, 0.1, 3, 1, 128],\n",
       " 0.1507125533014456,\n",
       " [32, 5, 0.0005, 0.1, 3, 1, 128],\n",
       " 0.1507125533014456]"
      ]
     },
     "execution_count": 7,
     "metadata": {},
     "output_type": "execute_result"
    }
   ],
   "source": [
    "besteverygen"
   ]
  },
  {
   "cell_type": "markdown",
   "metadata": {},
   "source": [
    "# CNN"
   ]
  },
  {
   "cell_type": "code",
   "execution_count": 8,
   "metadata": {},
   "outputs": [
    {
     "name": "stdout",
     "output_type": "stream",
     "text": [
      "Epoch 1/10\n",
      "66/66 [==============================] - 262s 49ms/step - loss: 0.6867 - accuracy: 0.5463 - val_loss: 0.8442 - val_accuracy: 0.5034\n",
      "Epoch 2/10\n",
      "66/66 [==============================] - 0s 5ms/step - loss: 0.6891 - accuracy: 0.6051 - val_loss: 0.5794 - val_accuracy: 0.6711\n",
      "Epoch 3/10\n",
      "66/66 [==============================] - 0s 5ms/step - loss: 0.5714 - accuracy: 0.6983 - val_loss: 0.5652 - val_accuracy: 0.6756\n",
      "Epoch 4/10\n",
      "66/66 [==============================] - 0s 5ms/step - loss: 0.5091 - accuracy: 0.7616 - val_loss: 0.4794 - val_accuracy: 0.7830\n",
      "Epoch 5/10\n",
      "66/66 [==============================] - 0s 5ms/step - loss: 0.5057 - accuracy: 0.7489 - val_loss: 0.4791 - val_accuracy: 0.8054\n",
      "Epoch 6/10\n",
      "66/66 [==============================] - 0s 5ms/step - loss: 0.4875 - accuracy: 0.7784 - val_loss: 0.6566 - val_accuracy: 0.6779\n",
      "Epoch 7/10\n",
      "66/66 [==============================] - 0s 6ms/step - loss: 0.4605 - accuracy: 0.7858 - val_loss: 0.3707 - val_accuracy: 0.8568\n",
      "Epoch 8/10\n",
      "66/66 [==============================] - 0s 6ms/step - loss: 0.3894 - accuracy: 0.8439 - val_loss: 0.3707 - val_accuracy: 0.8345\n",
      "Epoch 9/10\n",
      "66/66 [==============================] - 0s 5ms/step - loss: 0.3089 - accuracy: 0.8744 - val_loss: 0.3263 - val_accuracy: 0.8568\n",
      "Epoch 10/10\n",
      "66/66 [==============================] - 0s 5ms/step - loss: 0.4193 - accuracy: 0.8204 - val_loss: 0.2949 - val_accuracy: 0.8792\n",
      "INFO:tensorflow:Assets written to: CNNP1V2.model\\assets\n"
     ]
    }
   ],
   "source": [
    "            pop = feat\n",
    "            f = pop[0]\n",
    "            k = pop[1]\n",
    "            learning = pop[2]\n",
    "            dropout = pop[3]\n",
    "            layer = pop[4]\n",
    "            pool = pop[5]\n",
    "            node = pop[6]\n",
    "            \n",
    "            model = Sequential()\n",
    "            gpu_options = tf.compat.v1.GPUOptions(per_process_gpu_memory_fraction=0.050)\n",
    "\n",
    "            config = ConfigProto()\n",
    "            config.gpu_options.per_process_gpu_memory_fraction = 0.050\n",
    "            session = InteractiveSession(config=config)\n",
    "\n",
    "            seed(99)\n",
    "            tf.random.set_seed(99)\n",
    "            if (pool == 0) :\n",
    "                model.add(Conv2D(f, (k, k), input_shape=Xtrain.shape[1:]))\n",
    "                model.add(Activation('relu'))\n",
    "                model.add(MaxPooling2D(pool_size=(2, 2)))\n",
    "\n",
    "                for i in range(layer-1):\n",
    "                    model.add(Conv2D(f, (k,k),padding='same'))\n",
    "                    model.add(Activation('relu'))\n",
    "                    model.add(MaxPooling2D(pool_size=(2, 2)))\n",
    "\n",
    "                model.add(Flatten())\n",
    "                \n",
    "                model.add(Dense(node))\n",
    "                model.add(Activation('relu'))\n",
    "                model.add(Dropout(dropout))\n",
    "\n",
    "                model.add(Dense(1))\n",
    "                model.add(Activation('sigmoid'))\n",
    "\n",
    "                model.compile(loss='binary_crossentropy',optimizer=keras.optimizers.Adam(learning_rate=learning),metrics=['accuracy'])\n",
    "            \n",
    "                model1 =model.fit(Xtrain, ytrain ,batch_size=16,epochs=10,validation_split=0.3)\n",
    "                model.save('CNNP1V2.model')\n",
    "\n",
    "            else :\n",
    "                model.add(Conv2D(f,(k,k), input_shape=Xtrain.shape[1:]))\n",
    "                model.add(Activation('relu'))\n",
    "                model.add(AveragePooling2D(pool_size=(2, 2)))\n",
    "\n",
    "                for i in range(layer-1):\n",
    "                    model.add(Conv2D(f, (k,k),padding='same'))\n",
    "                    model.add(Activation('relu'))\n",
    "                    model.add(AveragePooling2D(pool_size=(2, 2)))\n",
    "\n",
    "                model.add(Flatten())\n",
    "                \n",
    "                model.add(Dense(node))\n",
    "                model.add(Activation('relu'))\n",
    "                model.add(Dropout(dropout))\n",
    "\n",
    "                model.add(Dense(1))\n",
    "                model.add(Activation('sigmoid'))\n",
    "\n",
    "                model.compile(loss='binary_crossentropy',optimizer=keras.optimizers.Adam(learning_rate=learning),metrics=['accuracy'])\n",
    "            \n",
    "                model1 = model.fit(Xtrain, ytrain,batch_size=16,epochs=10,validation_split=0.3)\n",
    "                model.save('CNNP1V2.model')"
   ]
  },
  {
   "cell_type": "code",
   "execution_count": 9,
   "metadata": {},
   "outputs": [
    {
     "data": {
      "image/png": "[encoded data removed]",
      "text/plain": [
       "<Figure size 1080x720 with 1 Axes>"
      ]
     },
     "metadata": {
      "needs_background": "light"
     },
     "output_type": "display_data"
    }
   ],
   "source": [
    "import matplotlib.pyplot as plt\n",
    "#Loss Visualization for data training and validation\n",
    "\n",
    "plt.figure(figsize=(15,10))\n",
    "plt.plot(model1.history['loss'])\n",
    "plt.plot(model1.history['val_loss'])\n",
    "plt.title('Model Performance')\n",
    "plt.xlabel('Epoch')\n",
    "plt.ylabel('Loss')\n",
    "plt.legend(['Train','Validation'], loc='upper right')\n",
    "plt.show()"
   ]
  },
  {
   "cell_type": "code",
   "execution_count": 10,
   "metadata": {},
   "outputs": [],
   "source": [
    "model = tf.keras.models.load_model(\"CNNP1V2.model\")"
   ]
  },
  {
   "cell_type": "markdown",
   "metadata": {},
   "source": [
    "# Data Latih"
   ]
  },
  {
   "cell_type": "code",
   "execution_count": 11,
   "metadata": {},
   "outputs": [
    {
     "data": {
      "text/plain": [
       "0.78293014"
      ]
     },
     "execution_count": 11,
     "metadata": {},
     "output_type": "execute_result"
    }
   ],
   "source": [
    "prediction = model.predict(Xtrain2)\n",
    "m = tf.keras.metrics.BinaryAccuracy()\n",
    "m.update_state(ytrain2,prediction, sample_weight=None)\n",
    "m.result().numpy()"
   ]
  },
  {
   "cell_type": "code",
   "execution_count": 12,
   "metadata": {},
   "outputs": [
    {
     "data": {
      "text/plain": [
       "0.7279736"
      ]
     },
     "execution_count": 12,
     "metadata": {},
     "output_type": "execute_result"
    }
   ],
   "source": [
    "m = tf.keras.metrics.Precision()\n",
    "m.update_state(ytrain2,prediction, sample_weight=None)\n",
    "m.result().numpy()"
   ]
  },
  {
   "cell_type": "code",
   "execution_count": 13,
   "metadata": {},
   "outputs": [
    {
     "data": {
      "text/plain": [
       "0.89687926"
      ]
     },
     "execution_count": 13,
     "metadata": {},
     "output_type": "execute_result"
    }
   ],
   "source": [
    "m = tf.keras.metrics.Recall()\n",
    "m.update_state(ytrain2,prediction, sample_weight=None)\n",
    "m.result().numpy()"
   ]
  },
  {
   "cell_type": "code",
   "execution_count": 14,
   "metadata": {},
   "outputs": [
    {
     "data": {
      "text/plain": [
       "76.0"
      ]
     },
     "execution_count": 14,
     "metadata": {},
     "output_type": "execute_result"
    }
   ],
   "source": [
    "m = tf.keras.metrics.FalseNegatives()\n",
    "m.update_state(ytrain2,prediction, sample_weight=None)\n",
    "m.result().numpy()"
   ]
  },
  {
   "cell_type": "code",
   "execution_count": 15,
   "metadata": {},
   "outputs": [
    {
     "data": {
      "text/plain": [
       "247.0"
      ]
     },
     "execution_count": 15,
     "metadata": {},
     "output_type": "execute_result"
    }
   ],
   "source": [
    "m = tf.keras.metrics.FalsePositives()\n",
    "m.update_state(ytrain2,prediction, sample_weight=None)\n",
    "m.result().numpy()"
   ]
  },
  {
   "cell_type": "code",
   "execution_count": 16,
   "metadata": {},
   "outputs": [
    {
     "data": {
      "text/plain": [
       "504.0"
      ]
     },
     "execution_count": 16,
     "metadata": {},
     "output_type": "execute_result"
    }
   ],
   "source": [
    "m = tf.keras.metrics.TrueNegatives()\n",
    "m.update_state(ytrain2,prediction, sample_weight=None)\n",
    "m.result().numpy()"
   ]
  },
  {
   "cell_type": "code",
   "execution_count": 17,
   "metadata": {},
   "outputs": [
    {
     "data": {
      "text/plain": [
       "661.0"
      ]
     },
     "execution_count": 17,
     "metadata": {},
     "output_type": "execute_result"
    }
   ],
   "source": [
    "m = tf.keras.metrics.TruePositives()\n",
    "m.update_state(ytrain2,prediction, sample_weight=None)\n",
    "m.result().numpy()"
   ]
  },
  {
   "cell_type": "markdown",
   "metadata": {},
   "source": [
    "# Data Validasi"
   ]
  },
  {
   "cell_type": "code",
   "execution_count": 18,
   "metadata": {},
   "outputs": [
    {
     "data": {
      "text/plain": [
       "0.84565914"
      ]
     },
     "execution_count": 18,
     "metadata": {},
     "output_type": "execute_result"
    }
   ],
   "source": [
    "prediction = model.predict(Xval)\n",
    "m = tf.keras.metrics.BinaryAccuracy()\n",
    "m.update_state(yval,prediction, sample_weight=None)\n",
    "m.result().numpy()"
   ]
  },
  {
   "cell_type": "code",
   "execution_count": 19,
   "metadata": {},
   "outputs": [
    {
     "data": {
      "text/plain": [
       "0.8154762"
      ]
     },
     "execution_count": 19,
     "metadata": {},
     "output_type": "execute_result"
    }
   ],
   "source": [
    "m = tf.keras.metrics.Precision()\n",
    "m.update_state(yval,prediction, sample_weight=None)\n",
    "m.result().numpy()"
   ]
  },
  {
   "cell_type": "code",
   "execution_count": 20,
   "metadata": {},
   "outputs": [
    {
     "data": {
      "text/plain": [
       "0.8896104"
      ]
     },
     "execution_count": 20,
     "metadata": {},
     "output_type": "execute_result"
    }
   ],
   "source": [
    "m = tf.keras.metrics.Recall()\n",
    "m.update_state(yval,prediction, sample_weight=None)\n",
    "m.result().numpy()"
   ]
  },
  {
   "cell_type": "code",
   "execution_count": 21,
   "metadata": {},
   "outputs": [
    {
     "data": {
      "text/plain": [
       "34.0"
      ]
     },
     "execution_count": 21,
     "metadata": {},
     "output_type": "execute_result"
    }
   ],
   "source": [
    "m = tf.keras.metrics.FalseNegatives()\n",
    "m.update_state(yval,prediction, sample_weight=None)\n",
    "m.result().numpy()"
   ]
  },
  {
   "cell_type": "code",
   "execution_count": 22,
   "metadata": {},
   "outputs": [
    {
     "data": {
      "text/plain": [
       "62.0"
      ]
     },
     "execution_count": 22,
     "metadata": {},
     "output_type": "execute_result"
    }
   ],
   "source": [
    "m = tf.keras.metrics.FalsePositives()\n",
    "m.update_state(yval,prediction, sample_weight=None)\n",
    "m.result().numpy()"
   ]
  },
  {
   "cell_type": "code",
   "execution_count": 23,
   "metadata": {},
   "outputs": [
    {
     "data": {
      "text/plain": [
       "252.0"
      ]
     },
     "execution_count": 23,
     "metadata": {},
     "output_type": "execute_result"
    }
   ],
   "source": [
    "m = tf.keras.metrics.TrueNegatives()\n",
    "m.update_state(yval,prediction, sample_weight=None)\n",
    "m.result().numpy()"
   ]
  },
  {
   "cell_type": "code",
   "execution_count": 24,
   "metadata": {},
   "outputs": [
    {
     "data": {
      "text/plain": [
       "274.0"
      ]
     },
     "execution_count": 24,
     "metadata": {},
     "output_type": "execute_result"
    }
   ],
   "source": [
    "m = tf.keras.metrics.TruePositives()\n",
    "m.update_state(yval,prediction, sample_weight=None)\n",
    "m.result().numpy()"
   ]
  },
  {
   "cell_type": "markdown",
   "metadata": {},
   "source": [
    "# Data Uji"
   ]
  },
  {
   "cell_type": "code",
   "execution_count": 25,
   "metadata": {},
   "outputs": [
    {
     "data": {
      "text/plain": [
       "0.69541776"
      ]
     },
     "execution_count": 25,
     "metadata": {},
     "output_type": "execute_result"
    }
   ],
   "source": [
    "prediction = model.predict(Xtest)\n",
    "m = tf.keras.metrics.BinaryAccuracy()\n",
    "m.update_state(ytest,prediction, sample_weight=None)\n",
    "m.result().numpy()"
   ]
  },
  {
   "cell_type": "code",
   "execution_count": 26,
   "metadata": {},
   "outputs": [
    {
     "data": {
      "text/plain": [
       "0.6437247"
      ]
     },
     "execution_count": 26,
     "metadata": {},
     "output_type": "execute_result"
    }
   ],
   "source": [
    "m = tf.keras.metrics.Precision()\n",
    "m.update_state(ytest,prediction, sample_weight=None)\n",
    "m.result().numpy()"
   ]
  },
  {
   "cell_type": "code",
   "execution_count": 27,
   "metadata": {},
   "outputs": [
    {
     "data": {
      "text/plain": [
       "0.86413044"
      ]
     },
     "execution_count": 27,
     "metadata": {},
     "output_type": "execute_result"
    }
   ],
   "source": [
    "m = tf.keras.metrics.Recall()\n",
    "m.update_state(ytest,prediction, sample_weight=None)\n",
    "m.result().numpy()"
   ]
  },
  {
   "cell_type": "code",
   "execution_count": 28,
   "metadata": {},
   "outputs": [
    {
     "data": {
      "text/plain": [
       "25.0"
      ]
     },
     "execution_count": 28,
     "metadata": {},
     "output_type": "execute_result"
    }
   ],
   "source": [
    "m = tf.keras.metrics.FalseNegatives()\n",
    "m.update_state(ytest,prediction, sample_weight=None)\n",
    "m.result().numpy()"
   ]
  },
  {
   "cell_type": "code",
   "execution_count": 29,
   "metadata": {},
   "outputs": [
    {
     "data": {
      "text/plain": [
       "88.0"
      ]
     },
     "execution_count": 29,
     "metadata": {},
     "output_type": "execute_result"
    }
   ],
   "source": [
    "m = tf.keras.metrics.FalsePositives()\n",
    "m.update_state(ytest,prediction, sample_weight=None)\n",
    "m.result().numpy()"
   ]
  },
  {
   "cell_type": "code",
   "execution_count": 30,
   "metadata": {},
   "outputs": [
    {
     "data": {
      "text/plain": [
       "99.0"
      ]
     },
     "execution_count": 30,
     "metadata": {},
     "output_type": "execute_result"
    }
   ],
   "source": [
    "m = tf.keras.metrics.TrueNegatives()\n",
    "m.update_state(ytest,prediction, sample_weight=None)\n",
    "m.result().numpy()"
   ]
  },
  {
   "cell_type": "code",
   "execution_count": 31,
   "metadata": {},
   "outputs": [
    {
     "data": {
      "text/plain": [
       "159.0"
      ]
     },
     "execution_count": 31,
     "metadata": {},
     "output_type": "execute_result"
    }
   ],
   "source": [
    "m = tf.keras.metrics.TruePositives()\n",
    "m.update_state(ytest,prediction, sample_weight=None)\n",
    "m.result().numpy()"
   ]
  },
  {
   "cell_type": "code",
   "execution_count": null,
   "metadata": {},
   "outputs": [],
   "source": []
  }
 ],
 "metadata": {
  "kernelspec": {
   "display_name": "Python 3",
   "language": "python",
   "name": "python3"
  },
  "language_info": {
   "codemirror_mode": {
    "name": "ipython",
    "version": 3
   },
   "file_extension": ".py",
   "mimetype": "text/x-python",
   "name": "python",
   "nbconvert_exporter": "python",
   "pygments_lexer": "ipython3",
   "version": "3.8.5"
  }
 },
 "nbformat": 4,
 "nbformat_minor": 4
}
