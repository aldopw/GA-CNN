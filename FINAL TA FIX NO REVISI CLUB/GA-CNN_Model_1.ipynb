{
 "cells": [
  {
   "cell_type": "code",
   "execution_count": 1,
   "metadata": {},
   "outputs": [],
   "source": [
    "from sklearn.metrics import mean_squared_error\n",
    "import tensorflow as tf\n",
    "from tensorflow.keras.preprocessing.image import ImageDataGenerator\n",
    "from tensorflow.keras.models import Sequential\n",
    "from tensorflow.keras.layers import Dense, Dropout, Activation, Flatten\n",
    "from tensorflow.keras.layers import Conv2D, MaxPooling2D,AveragePooling2D\n",
    "import numpy as np\n",
    "import pickle\n",
    "import random\n",
    "from numpy.random import seed\n",
    "import time\n",
    "from tensorflow.keras.callbacks import TensorBoard\n",
    "from tensorflow.keras.callbacks import EarlyStopping\n",
    "from tensorflow import keras\n",
    "from tensorflow.compat.v1 import ConfigProto\n",
    "from tensorflow.compat.v1 import InteractiveSession\n",
    "import pandas as pd\n",
    "from secrets import randbelow"
   ]
  },
  {
   "cell_type": "code",
   "execution_count": 2,
   "metadata": {},
   "outputs": [],
   "source": [
    "pickle_in = open(\"Xtrain96.pickle\",\"rb\")\n",
    "Xtrain = pickle.load(pickle_in)\n",
    "\n",
    "pickle_in = open(\"ytrain96.pickle\",\"rb\")\n",
    "ytrain = pickle.load(pickle_in)\n",
    "\n",
    "Xtrain=np.array(Xtrain/255.0)\n",
    "ytrain=np.array(ytrain)\n",
    "\n",
    "pickle_in = open(\"Xval96.pickle\",\"rb\")\n",
    "Xval = pickle.load(pickle_in)\n",
    "\n",
    "pickle_in = open(\"yval96.pickle\",\"rb\")\n",
    "yval = pickle.load(pickle_in)\n",
    "\n",
    "pickle_in = open(\"XTest96.pickle\",\"rb\")\n",
    "Xtest = pickle.load(pickle_in)\n",
    "\n",
    "pickle_in = open(\"ytest96.pickle\",\"rb\")\n",
    "ytest = pickle.load(pickle_in)\n",
    "\n",
    "pickle_in = open(\"Xtrain96.pickle\",\"rb\")\n",
    "Xtrain2 = pickle.load(pickle_in)\n",
    "\n",
    "pickle_in = open(\"ytrain96.pickle\",\"rb\")\n",
    "ytrain2 = pickle.load(pickle_in)"
   ]
  },
  {
   "cell_type": "markdown",
   "metadata": {},
   "source": [
    "# Genetic Algorithm"
   ]
  },
  {
   "cell_type": "code",
   "execution_count": 3,
   "metadata": {},
   "outputs": [],
   "source": [
    "class GA():\n",
    "    def __init__(self,popsize, iter_):\n",
    "        self.popsize = popsize\n",
    "        self.iter_ = iter_\n",
    "        \n",
    "    def popinit(self):\n",
    "        population = [] \n",
    "        random.seed(0)\n",
    "        fmap = [32,64,128,256] \n",
    "        kernel = [2,3,5,7]\n",
    "        learningRate = [0.0001,0.0005, 0.001, 0.005] \n",
    "        dropout = [0.0,0.1,0.2,0.3,0.4,0.5]\n",
    "        layer = [2,3,4,5,6]\n",
    "        pool =[0,1]\n",
    "        node = [64,128,256,512]\n",
    "        for i in range(self.popsize):\n",
    "            inPop = [random.choice(fmap),random.choice(kernel),random.choice(learningRate),random.choice(dropout),random.choice(layer),random.choice(pool),random.choice(node)]\n",
    "            population.append(inPop)\n",
    "        return population\n",
    "\n",
    "        \n",
    "    def fitness(self,population,X,y):\n",
    "        savefit=[]\n",
    "        for i in range(len(population)):\n",
    "            pop = population[i]\n",
    "            f = pop[0]\n",
    "            k = pop[1]\n",
    "            learning = pop[2]\n",
    "            dropout = pop[3]\n",
    "            layer = pop[4]\n",
    "            pool = pop[5]\n",
    "            node = pop[6]\n",
    "            \n",
    "            model = Sequential()\n",
    "            gpu_options = tf.compat.v1.GPUOptions(per_process_gpu_memory_fraction=0.050)\n",
    "\n",
    "            config = ConfigProto()\n",
    "            config.gpu_options.per_process_gpu_memory_fraction = 0.050\n",
    "            session = InteractiveSession(config=config)\n",
    "\n",
    "            seed(0)\n",
    "            tf.random.set_seed(0)\n",
    "            if (pool == 0) :\n",
    "                model.add(Conv2D(f, (k, k), input_shape=X.shape[1:]))\n",
    "                model.add(Activation('relu'))\n",
    "                model.add(MaxPooling2D(pool_size=(2, 2)))\n",
    "\n",
    "                for i in range(layer-1):\n",
    "                    model.add(Conv2D(f, (k,k),padding='same'))\n",
    "                    model.add(Activation('relu'))\n",
    "                    model.add(MaxPooling2D(pool_size=(2, 2)))\n",
    "\n",
    "                model.add(Flatten())\n",
    "                \n",
    "                model.add(Dense(node))\n",
    "                model.add(Activation('relu'))\n",
    "                model.add(Dropout(dropout))\n",
    "\n",
    "                model.add(Dense(1))\n",
    "                model.add(Activation('sigmoid'))\n",
    "\n",
    "                model.compile(loss='binary_crossentropy',optimizer=keras.optimizers.Adam(learning_rate=learning),metrics=['accuracy'])\n",
    "            \n",
    "                model.fit(X, y,batch_size=16,epochs=10,validation_split=0.3)\n",
    "                model.save('CNN.model')\n",
    "                modelcnn = tf.keras.models.load_model(\"CNN.model\")\n",
    "\n",
    "                prediction = modelcnn.predict(Xval)\n",
    "                mse = mean_squared_error(yval,prediction)\n",
    "                savefit.append(mse)\n",
    "\n",
    "            else :\n",
    "                model.add(Conv2D(f,(k,k), input_shape=X.shape[1:]))\n",
    "                model.add(Activation('relu'))\n",
    "                model.add(AveragePooling2D(pool_size=(2, 2)))\n",
    "\n",
    "                for i in range(layer-1):\n",
    "                    model.add(Conv2D(f, (k,k),padding='same'))\n",
    "                    model.add(Activation('relu'))\n",
    "                    model.add(AveragePooling2D(pool_size=(2, 2)))\n",
    "\n",
    "                model.add(Flatten())\n",
    "                \n",
    "                model.add(Dense(node))\n",
    "                model.add(Activation('relu'))\n",
    "                model.add(Dropout(dropout))\n",
    "\n",
    "                model.add(Dense(1))\n",
    "                model.add(Activation('sigmoid'))\n",
    "\n",
    "                model.compile(loss='binary_crossentropy',optimizer=keras.optimizers.Adam(learning_rate=learning),metrics=['accuracy'])\n",
    "            \n",
    "                model.fit(X, y,batch_size=16,epochs=10,validation_split=0.3)\n",
    "                model.save('CNN.model')\n",
    "                modelcnn = tf.keras.models.load_model(\"CNN.model\")\n",
    "        \n",
    "                prediction = modelcnn.predict(Xval)\n",
    "                mse = mean_squared_error(yval,prediction)\n",
    "                savefit.append(mse)\n",
    "\n",
    "        return savefit\n",
    "    \n",
    "    def fitmutation(self,mut,X,y):\n",
    "            pop = mut\n",
    "            f = pop[0]\n",
    "            k = pop[1]\n",
    "            learning = pop[2]\n",
    "            dropout = pop[3]\n",
    "            layer = pop[4]\n",
    "            pool = pop[5]\n",
    "            node = pop[6]\n",
    "            \n",
    "            model = Sequential()\n",
    "            gpu_options = tf.compat.v1.GPUOptions(per_process_gpu_memory_fraction=0.050)\n",
    "\n",
    "            config = ConfigProto()\n",
    "            config.gpu_options.per_process_gpu_memory_fraction = 0.050\n",
    "            session = InteractiveSession(config=config)\n",
    "\n",
    "            seed(0)\n",
    "            tf.random.set_seed(0)\n",
    "            if (pool == 0) :\n",
    "                model.add(Conv2D(f, (k, k), input_shape=X.shape[1:]))\n",
    "                model.add(Activation('relu'))\n",
    "                model.add(MaxPooling2D(pool_size=(2, 2)))\n",
    "\n",
    "                for i in range(layer-1):\n",
    "                    model.add(Conv2D(f, (k,k),padding='same'))\n",
    "                    model.add(Activation('relu'))\n",
    "                    model.add(MaxPooling2D(pool_size=(2, 2)))\n",
    "\n",
    "                model.add(Flatten())\n",
    "                \n",
    "                model.add(Dense(node))\n",
    "                model.add(Activation('relu'))\n",
    "                model.add(Dropout(dropout))\n",
    "\n",
    "                model.add(Dense(1))\n",
    "                model.add(Activation('sigmoid'))\n",
    "\n",
    "                model.compile(loss='binary_crossentropy',optimizer=keras.optimizers.Adam(learning_rate=learning),metrics=['accuracy'])\n",
    "            \n",
    "                model.fit(X, y,batch_size=16,epochs=10,validation_split=0.3)\n",
    "                model.save('CNNmut.model')\n",
    "                modelcnn = tf.keras.models.load_model(\"CNNmut.model\")\n",
    "\n",
    "                prediction = modelcnn.predict(Xval)\n",
    "                mse = mean_squared_error(yval,prediction)\n",
    "                fitmut = mse\n",
    "\n",
    "            else :\n",
    "                model.add(Conv2D(f,(k,k), input_shape=X.shape[1:]))\n",
    "                model.add(Activation('relu'))\n",
    "                model.add(AveragePooling2D(pool_size=(2, 2)))\n",
    "\n",
    "                for i in range(layer-1):\n",
    "                    model.add(Conv2D(f, (k,k),padding='same'))\n",
    "                    model.add(Activation('relu'))\n",
    "                    model.add(AveragePooling2D(pool_size=(2, 2)))\n",
    "\n",
    "                model.add(Flatten())\n",
    "                \n",
    "                model.add(Dense(node))\n",
    "                model.add(Activation('relu'))\n",
    "                model.add(Dropout(dropout))\n",
    "\n",
    "                model.add(Dense(1))\n",
    "                model.add(Activation('sigmoid'))\n",
    "\n",
    "                model.compile(loss='binary_crossentropy',optimizer=keras.optimizers.Adam(learning_rate=learning),metrics=['accuracy'])\n",
    "            \n",
    "                model.fit(X, y,batch_size=16,epochs=10,validation_split=0.3)\n",
    "                model.save('CNNmut.model')\n",
    "                modelcnn = tf.keras.models.load_model(\"CNNmut.model\")\n",
    "        \n",
    "                prediction = modelcnn.predict(Xval)\n",
    "                mse = mean_squared_error(yval,prediction)\n",
    "                fitmut = mse\n",
    "            return fitmut\n",
    "        \n",
    "    \n",
    "    def parent_select(self,population, fitness):\n",
    "        sumfit = np.sum(fitness)\n",
    "        prob=[]\n",
    "        parent_1=[]\n",
    "        random.seed(0)\n",
    "        for i in range(len(fitness)):\n",
    "            tmp = fitness[i]/sumfit\n",
    "            prob.append(tmp)\n",
    "        prob_range = []\n",
    "        sum_ = 0\n",
    "        for i in range(len(prob)):\n",
    "                sum_ += prob[i]\n",
    "                prob_range.append(sum_)\n",
    "        for i in range(len(prob)):\n",
    "                rand = random.random()\n",
    "                if rand <= prob_range[i]:\n",
    "                    parent_1 = population[i]\n",
    "                    break\n",
    "        # select second parent\n",
    "        parent_2 = parent_1\n",
    "        while (parent_2 == parent_1):\n",
    "                for i in range(len(prob)):\n",
    "                    rand = random.random()\n",
    "                    if rand <= prob_range[i]:\n",
    "                        parent_2 = population[i]\n",
    "                        break\n",
    "        return parent_1, parent_2\n",
    "    \n",
    "    def cross_over(self,parent1, parent2):\n",
    "        random.seed(0)\n",
    "        crosspoint = random.randrange(0,6)\n",
    "        child1 = parent1[:crosspoint+1] + parent2[crosspoint+1:]\n",
    "        child2 = parent2[:crosspoint+1] + parent1[crosspoint+1:] \n",
    "        return child1, child2\n",
    "    \n",
    "    def mutation(self,child1, child2):\n",
    "        import copy\n",
    "        random.seed(0)\n",
    "        tmp1 = copy.deepcopy(child1)\n",
    "        tmp2 = copy.deepcopy(child2)\n",
    "        fmap = [32,64,128,256] \n",
    "        kernel = [2,3,5,7]\n",
    "        learningRate = [0.0001,0.0005, 0.001, 0.005] \n",
    "        dropout = [0.0,0.1,0.2,0.3,0.4,0.5]\n",
    "        layer = [2,3,4,5,6]\n",
    "        pool =[0,1]\n",
    "        node = [64,128,256,512]\n",
    "        for i in range(len(tmp1)):    \n",
    "            if (i == 0) :\n",
    "                prob = random.random()\n",
    "                if (prob<=0.10) :\n",
    "                    tmp1[point] = random.choice(fmap)\n",
    "                    tmp2[point] = random.choice(fmap)\n",
    "            elif (i ==1):\n",
    "                prob = random.random()\n",
    "                if (prob<=0.10) :\n",
    "                    tmp1[point] = random.choice(kernel)\n",
    "                    tmp2[point] = random.choice(kernel)\n",
    "            elif (i == 2) :\n",
    "                prob = random.random()\n",
    "                if (prob<=0.10) :\n",
    "                    tmp1[point] = random.choice(learningRate)\n",
    "                    tmp2[point] = random.choice(learningRate)\n",
    "            elif (i == 3) :\n",
    "                prob = random.random()\n",
    "                if (prob<=0.10) :\n",
    "                    tmp1[point] = random.choice(dropout)\n",
    "                    tmp2[point] = random.choice(dropout)\n",
    "            elif (i == 4) :\n",
    "                prob = random.random()\n",
    "                if (prob<=0.10) :\n",
    "                    tmp1[point] = random.choice(layer)\n",
    "                    tmp2[point] = random.choice(layer)\n",
    "            elif (i == 5) :\n",
    "                prob = random.random()\n",
    "                if (prob<=0.10) :\n",
    "                    tmp1[point] = random.choice(pool)\n",
    "                    tmp2[point] = random.choice(pool)\n",
    "            else :\n",
    "                prob = random.random()\n",
    "                if (prob<=0.10) :\n",
    "                    tmp1[point] = random.choice(node)\n",
    "                    tmp2[point] = random.choice(node)\n",
    "        return tmp1, tmp2\n",
    "       \n",
    "    def sort(self, population, fitness):\n",
    "        tmp_dict = {'population' : population,'fitness': fitness }\n",
    "        df = pd.DataFrame(tmp_dict)\n",
    "        df.sort_values('fitness', ascending=True, inplace=True)\n",
    "        new_pop = df['population'].values.tolist()\n",
    "        fit = df['fitness'].values.tolist()\n",
    "        return new_pop, fit\n",
    "    \n",
    "    def newfit(self,mut1,mut2,listindividu,X,y) :\n",
    "        tmpmut=[]\n",
    "        tmpfit1=0.0\n",
    "        tmpfit2=0.0\n",
    "        tmpmut.append(mut1)\n",
    "        tmpmut.append(mut2)\n",
    "        for i in listindividu:\n",
    "            if i[0] == mut1 :\n",
    "                tmpfit1  = (i[1])\n",
    "            if i[0] == mut2 :\n",
    "                tmpfit2 = (i[1])\n",
    "        if (tmpfit1)==0.0 and (tmpfit2)==0.0 :\n",
    "            fitness = self.fitness(tmpmut,X,y)\n",
    "            fit1 = fitness[0]\n",
    "            fit2 = fitness[1]\n",
    "        elif (tmpfit1)==0.0 :\n",
    "            fit1 = self.fitmutation(mut1,X,y)\n",
    "            fit2 = tmpfit2\n",
    "        else :\n",
    "            fit1= tmpfit1\n",
    "            fit2 = self.fitmutation(mut2,X,y)\n",
    "        return fit1,fit2\n",
    "                        \n",
    "    \n",
    "    def fit(self,X,y):\n",
    "        pop = self.popinit()\n",
    "        fitness = self.fitness(pop,X,y)\n",
    "        listindividu =[]\n",
    "        for i in range(len(pop)):\n",
    "            a = pop[i]\n",
    "            b = fitness[i]\n",
    "            temp=[a,b]\n",
    "            listindividu.append(temp)\n",
    "        print(pop)\n",
    "        print(fitness)\n",
    "        bestingen =[]\n",
    "        index = np.argmin(fitness)\n",
    "        popgen = pop[index]\n",
    "        fitgen = fitness[index]\n",
    "        bestingen.append('Generasi 0')\n",
    "        bestingen.append(popgen)\n",
    "        bestingen.append(fitgen)\n",
    "        for i in range(self.iter_):\n",
    "            print( 'Generasi Ke ' , i+1 )\n",
    "            parent_1, parent_2 = self.parent_select(pop, fitness)\n",
    "            print('Parent 1 dan 2 ', parent_1, parent_2)\n",
    "            child_1, child_2 = self.cross_over(parent_1, parent_2)\n",
    "            print('Child 1 dan 2', child_1, child_2 )\n",
    "            mut1, mut2 = self.mutation(child_1, child_2)\n",
    "            print('Mutasi 1 dan 2', mut1, mut2)\n",
    "            pop, fitness = self.sort(pop,fitness)\n",
    "            fitmut1,fitmut2 = self.newfit(mut1,mut2,listindividu,X,y)\n",
    "            pop[-1] = mut1; pop[-2] = mut2\n",
    "            fitness[-1] = fitmut1 ; fitness[-2] = fitmut2\n",
    "            mutt=[]\n",
    "            mutt.append(mut1)\n",
    "            mutt.append(mut2)\n",
    "            fitmut=[]\n",
    "            fitmut.append(fitmut1)\n",
    "            fitmut.append(fitmut2)\n",
    "            update=[]\n",
    "            for i in range(len(mutt)) :\n",
    "                a = mutt[i]\n",
    "                b = fitmut[i]\n",
    "                temp=[a,b]\n",
    "                update.append(temp)\n",
    "            listindividu.extend(update)\n",
    "            print(pop)\n",
    "            print(fitness)\n",
    "            index = np.argmin(fitness)\n",
    "            popgen = pop[index]\n",
    "            fitgen = fitness[index]\n",
    "            bestingen.append(popgen)\n",
    "            bestingen.append(fitgen)\n",
    "        idx_ = np.argmin(fitness)\n",
    "        best_pop = pop[idx_]\n",
    "        return  best_pop,bestingen"
   ]
  },
  {
   "cell_type": "code",
   "execution_count": 4,
   "metadata": {},
   "outputs": [],
   "source": [
    "featSelection = GA( popsize=10, iter_=20)"
   ]
  },
  {
   "cell_type": "code",
   "execution_count": 5,
   "metadata": {},
   "outputs": [
    {
     "name": "stdout",
     "output_type": "stream",
     "text": [
      "Epoch 1/10\n",
      "66/66 [==============================] - 280s 121ms/step - loss: 0.6934 - accuracy: 0.4899 - val_loss: 0.6929 - val_accuracy: 0.4989\n",
      "Epoch 2/10\n",
      "66/66 [==============================] - 4s 57ms/step - loss: 0.6919 - accuracy: 0.5329 - val_loss: 0.6931 - val_accuracy: 0.4989\n",
      "Epoch 3/10\n",
      "66/66 [==============================] - 4s 57ms/step - loss: 0.6932 - accuracy: 0.4849 - val_loss: 0.6929 - val_accuracy: 0.4989\n",
      "Epoch 4/10\n",
      "66/66 [==============================] - 4s 57ms/step - loss: 0.6937 - accuracy: 0.4728 - val_loss: 0.6920 - val_accuracy: 0.4989\n",
      "Epoch 5/10\n",
      "66/66 [==============================] - 4s 57ms/step - loss: 0.6921 - accuracy: 0.5162 - val_loss: 0.6889 - val_accuracy: 0.5257\n",
      "Epoch 6/10\n",
      "66/66 [==============================] - 4s 57ms/step - loss: 0.6895 - accuracy: 0.5672 - val_loss: 0.6627 - val_accuracy: 0.5772\n",
      "Epoch 7/10\n",
      "66/66 [==============================] - 4s 57ms/step - loss: 0.6919 - accuracy: 0.4924 - val_loss: 0.6925 - val_accuracy: 0.5727\n",
      "Epoch 8/10\n",
      "66/66 [==============================] - 4s 58ms/step - loss: 0.6884 - accuracy: 0.5622 - val_loss: 0.6811 - val_accuracy: 0.6197\n",
      "Epoch 9/10\n",
      "66/66 [==============================] - 4s 58ms/step - loss: 0.6682 - accuracy: 0.5702 - val_loss: 0.6453 - val_accuracy: 0.6018\n",
      "Epoch 10/10\n",
      "66/66 [==============================] - 4s 57ms/step - loss: 0.6326 - accuracy: 0.6461 - val_loss: 0.5735 - val_accuracy: 0.7383\n",
      "INFO:tensorflow:Assets written to: CNN.model\\assets\n"
     ]
    },
    {
     "name": "stderr",
     "output_type": "stream",
     "text": [
      "D:\\ProgramData\\Anaconda3\\lib\\site-packages\\tensorflow\\python\\client\\session.py:1761: UserWarning: An interactive session is already active. This can cause out-of-memory errors in some cases. You must explicitly call `InteractiveSession.close()` to release resources held by the other session(s).\n",
      "  warnings.warn('An interactive session is already active. This can '\n"
     ]
    },
    {
     "name": "stdout",
     "output_type": "stream",
     "text": [
      "Epoch 1/10\n",
      "66/66 [==============================] - 4s 44ms/step - loss: 0.7705 - accuracy: 0.5304 - val_loss: 0.6923 - val_accuracy: 0.4989\n",
      "Epoch 2/10\n",
      "66/66 [==============================] - 1s 18ms/step - loss: 0.6883 - accuracy: 0.5526 - val_loss: 0.6738 - val_accuracy: 0.6510\n",
      "Epoch 3/10\n",
      "66/66 [==============================] - 1s 17ms/step - loss: 0.6773 - accuracy: 0.6054 - val_loss: 0.6441 - val_accuracy: 0.5772\n",
      "Epoch 4/10\n",
      "66/66 [==============================] - 1s 17ms/step - loss: 0.6445 - accuracy: 0.6201 - val_loss: 0.5839 - val_accuracy: 0.6980\n",
      "Epoch 5/10\n",
      "66/66 [==============================] - 1s 18ms/step - loss: 0.5923 - accuracy: 0.6646 - val_loss: 0.5778 - val_accuracy: 0.7204\n",
      "Epoch 6/10\n",
      "66/66 [==============================] - 1s 17ms/step - loss: 0.5768 - accuracy: 0.6574 - val_loss: 0.5382 - val_accuracy: 0.7450\n",
      "Epoch 7/10\n",
      "66/66 [==============================] - 1s 17ms/step - loss: 0.5543 - accuracy: 0.7138 - val_loss: 0.5005 - val_accuracy: 0.7785\n",
      "Epoch 8/10\n",
      "66/66 [==============================] - 1s 18ms/step - loss: 0.4854 - accuracy: 0.7553 - val_loss: 0.4372 - val_accuracy: 0.7919- loss: 0.4851 \n",
      "Epoch 9/10\n",
      "66/66 [==============================] - 1s 17ms/step - loss: 0.4230 - accuracy: 0.8051 - val_loss: 0.4061 - val_accuracy: 0.8255\n",
      "Epoch 10/10\n",
      "66/66 [==============================] - 1s 17ms/step - loss: 0.3874 - accuracy: 0.8206 - val_loss: 0.4520 - val_accuracy: 0.7785\n",
      "INFO:tensorflow:Assets written to: CNN.model\\assets\n"
     ]
    },
    {
     "name": "stderr",
     "output_type": "stream",
     "text": [
      "D:\\ProgramData\\Anaconda3\\lib\\site-packages\\tensorflow\\python\\client\\session.py:1761: UserWarning: An interactive session is already active. This can cause out-of-memory errors in some cases. You must explicitly call `InteractiveSession.close()` to release resources held by the other session(s).\n",
      "  warnings.warn('An interactive session is already active. This can '\n"
     ]
    },
    {
     "name": "stdout",
     "output_type": "stream",
     "text": [
      "Epoch 1/10\n",
      "66/66 [==============================] - 6s 52ms/step - loss: 0.6944 - accuracy: 0.5027 - val_loss: 0.6935 - val_accuracy: 0.4989\n",
      "Epoch 2/10\n",
      "66/66 [==============================] - 1s 8ms/step - loss: 0.6919 - accuracy: 0.5330 - val_loss: 0.6923 - val_accuracy: 0.5011\n",
      "Epoch 3/10\n",
      "66/66 [==============================] - 0s 8ms/step - loss: 0.6917 - accuracy: 0.5179 - val_loss: 0.6935 - val_accuracy: 0.4989\n",
      "Epoch 4/10\n",
      "66/66 [==============================] - 1s 8ms/step - loss: 0.6513 - accuracy: 0.6147 - val_loss: 0.6108 - val_accuracy: 0.7136\n",
      "Epoch 5/10\n",
      "66/66 [==============================] - 0s 8ms/step - loss: 0.5291 - accuracy: 0.7434 - val_loss: 0.2750 - val_accuracy: 0.8926\n",
      "Epoch 6/10\n",
      "66/66 [==============================] - 0s 8ms/step - loss: 0.3949 - accuracy: 0.8331 - val_loss: 0.3692 - val_accuracy: 0.8322\n",
      "Epoch 7/10\n",
      "66/66 [==============================] - 1s 8ms/step - loss: 0.3050 - accuracy: 0.8844 - val_loss: 0.2484 - val_accuracy: 0.8993\n",
      "Epoch 8/10\n",
      "66/66 [==============================] - 1s 8ms/step - loss: 0.2648 - accuracy: 0.9080 - val_loss: 0.2098 - val_accuracy: 0.9284\n",
      "Epoch 9/10\n",
      "66/66 [==============================] - 0s 7ms/step - loss: 0.2196 - accuracy: 0.9272 - val_loss: 0.1622 - val_accuracy: 0.9396\n",
      "Epoch 10/10\n",
      "66/66 [==============================] - ETA: 0s - loss: 0.1595 - accuracy: 0.94 - 1s 8ms/step - loss: 0.1619 - accuracy: 0.9463 - val_loss: 0.3759 - val_accuracy: 0.8591\n",
      "INFO:tensorflow:Assets written to: CNN.model\\assets\n"
     ]
    },
    {
     "name": "stderr",
     "output_type": "stream",
     "text": [
      "D:\\ProgramData\\Anaconda3\\lib\\site-packages\\tensorflow\\python\\client\\session.py:1761: UserWarning: An interactive session is already active. This can cause out-of-memory errors in some cases. You must explicitly call `InteractiveSession.close()` to release resources held by the other session(s).\n",
      "  warnings.warn('An interactive session is already active. This can '\n"
     ]
    },
    {
     "name": "stdout",
     "output_type": "stream",
     "text": [
      "Epoch 1/10\n",
      "66/66 [==============================] - 6s 51ms/step - loss: 0.6938 - accuracy: 0.5088 - val_loss: 0.6931 - val_accuracy: 0.4989\n",
      "Epoch 2/10\n",
      "66/66 [==============================] - 0s 6ms/step - loss: 0.6922 - accuracy: 0.5328 - val_loss: 0.6923 - val_accuracy: 0.4989\n",
      "Epoch 3/10\n",
      "66/66 [==============================] - 0s 6ms/step - loss: 0.6905 - accuracy: 0.5507 - val_loss: 0.6722 - val_accuracy: 0.5145\n",
      "Epoch 4/10\n",
      "66/66 [==============================] - 0s 6ms/step - loss: 0.6424 - accuracy: 0.6287 - val_loss: 0.5783 - val_accuracy: 0.7047\n",
      "Epoch 5/10\n",
      "66/66 [==============================] - 0s 6ms/step - loss: 0.5533 - accuracy: 0.7346 - val_loss: 0.4217 - val_accuracy: 0.8166\n",
      "Epoch 6/10\n",
      "66/66 [==============================] - 0s 6ms/step - loss: 0.3655 - accuracy: 0.8577 - val_loss: 0.2662 - val_accuracy: 0.9038\n",
      "Epoch 7/10\n",
      "66/66 [==============================] - 0s 6ms/step - loss: 0.2818 - accuracy: 0.8962 - val_loss: 0.2226 - val_accuracy: 0.9128\n",
      "Epoch 8/10\n",
      "66/66 [==============================] - 0s 6ms/step - loss: 0.2538 - accuracy: 0.9101 - val_loss: 0.2567 - val_accuracy: 0.8837\n",
      "Epoch 9/10\n",
      "66/66 [==============================] - 0s 6ms/step - loss: 0.2596 - accuracy: 0.9090 - val_loss: 0.2062 - val_accuracy: 0.9217\n",
      "Epoch 10/10\n",
      "66/66 [==============================] - 0s 6ms/step - loss: 0.1761 - accuracy: 0.9428 - val_loss: 0.3898 - val_accuracy: 0.8345\n",
      "INFO:tensorflow:Assets written to: CNN.model\\assets\n"
     ]
    },
    {
     "name": "stderr",
     "output_type": "stream",
     "text": [
      "D:\\ProgramData\\Anaconda3\\lib\\site-packages\\tensorflow\\python\\client\\session.py:1761: UserWarning: An interactive session is already active. This can cause out-of-memory errors in some cases. You must explicitly call `InteractiveSession.close()` to release resources held by the other session(s).\n",
      "  warnings.warn('An interactive session is already active. This can '\n"
     ]
    },
    {
     "name": "stdout",
     "output_type": "stream",
     "text": [
      "Epoch 1/10\n",
      "66/66 [==============================] - 10s 100ms/step - loss: 0.7024 - accuracy: 0.5244 - val_loss: 0.6915 - val_accuracy: 0.4989\n",
      "Epoch 2/10\n",
      "66/66 [==============================] - 3s 43ms/step - loss: 0.6884 - accuracy: 0.5297 - val_loss: 0.6881 - val_accuracy: 0.5839\n",
      "Epoch 3/10\n",
      "66/66 [==============================] - 3s 43ms/step - loss: 0.6857 - accuracy: 0.5622 - val_loss: 0.6933 - val_accuracy: 0.4989\n",
      "Epoch 4/10\n",
      "66/66 [==============================] - 3s 43ms/step - loss: 0.6951 - accuracy: 0.4956 - val_loss: 0.6927 - val_accuracy: 0.5011\n",
      "Epoch 5/10\n",
      "66/66 [==============================] - 3s 43ms/step - loss: 0.6922 - accuracy: 0.5603 - val_loss: 0.6622 - val_accuracy: 0.5660\n",
      "Epoch 6/10\n",
      "66/66 [==============================] - 3s 43ms/step - loss: 0.6915 - accuracy: 0.5103 - val_loss: 0.6867 - val_accuracy: 0.6309\n",
      "Epoch 7/10\n",
      "66/66 [==============================] - 3s 43ms/step - loss: 0.6821 - accuracy: 0.5839 - val_loss: 0.6795 - val_accuracy: 0.5951\n",
      "Epoch 8/10\n",
      "66/66 [==============================] - 3s 43ms/step - loss: 0.6901 - accuracy: 0.5658 - val_loss: 0.6853 - val_accuracy: 0.5101\n",
      "Epoch 9/10\n",
      "66/66 [==============================] - 3s 43ms/step - loss: 0.6802 - accuracy: 0.5472 - val_loss: 0.6807 - val_accuracy: 0.5526\n",
      "Epoch 10/10\n",
      "66/66 [==============================] - 3s 43ms/step - loss: 0.6786 - accuracy: 0.5443 - val_loss: 0.6407 - val_accuracy: 0.6309\n",
      "INFO:tensorflow:Assets written to: CNN.model\\assets\n"
     ]
    },
    {
     "name": "stderr",
     "output_type": "stream",
     "text": [
      "D:\\ProgramData\\Anaconda3\\lib\\site-packages\\tensorflow\\python\\client\\session.py:1761: UserWarning: An interactive session is already active. This can cause out-of-memory errors in some cases. You must explicitly call `InteractiveSession.close()` to release resources held by the other session(s).\n",
      "  warnings.warn('An interactive session is already active. This can '\n"
     ]
    },
    {
     "name": "stdout",
     "output_type": "stream",
     "text": [
      "Epoch 1/10\n",
      "66/66 [==============================] - 1s 8ms/step - loss: 0.6932 - accuracy: 0.5081 - val_loss: 0.6925 - val_accuracy: 0.5302\n",
      "Epoch 2/10\n",
      "66/66 [==============================] - 0s 6ms/step - loss: 0.6919 - accuracy: 0.5319 - val_loss: 0.6910 - val_accuracy: 0.6801\n",
      "Epoch 3/10\n",
      "66/66 [==============================] - 0s 6ms/step - loss: 0.6904 - accuracy: 0.6264 - val_loss: 0.6893 - val_accuracy: 0.5347\n",
      "Epoch 4/10\n",
      "66/66 [==============================] - 0s 6ms/step - loss: 0.6897 - accuracy: 0.5353 - val_loss: 0.6839 - val_accuracy: 0.6421\n",
      "Epoch 5/10\n",
      "66/66 [==============================] - 0s 6ms/step - loss: 0.6827 - accuracy: 0.6336 - val_loss: 0.6745 - val_accuracy: 0.6689\n",
      "Epoch 6/10\n",
      "66/66 [==============================] - 0s 6ms/step - loss: 0.6705 - accuracy: 0.6372 - val_loss: 0.6613 - val_accuracy: 0.6801\n",
      "Epoch 7/10\n",
      "66/66 [==============================] - 0s 6ms/step - loss: 0.6587 - accuracy: 0.6535 - val_loss: 0.6388 - val_accuracy: 0.6890\n",
      "Epoch 8/10\n",
      "66/66 [==============================] - 0s 5ms/step - loss: 0.6265 - accuracy: 0.6813 - val_loss: 0.6162 - val_accuracy: 0.6935\n",
      "Epoch 9/10\n",
      "66/66 [==============================] - 0s 6ms/step - loss: 0.6081 - accuracy: 0.6728 - val_loss: 0.5932 - val_accuracy: 0.7025\n",
      "Epoch 10/10\n",
      "66/66 [==============================] - 0s 6ms/step - loss: 0.5706 - accuracy: 0.7035 - val_loss: 0.5579 - val_accuracy: 0.7360\n",
      "INFO:tensorflow:Assets written to: CNN.model\\assets\n"
     ]
    },
    {
     "name": "stderr",
     "output_type": "stream",
     "text": [
      "D:\\ProgramData\\Anaconda3\\lib\\site-packages\\tensorflow\\python\\client\\session.py:1761: UserWarning: An interactive session is already active. This can cause out-of-memory errors in some cases. You must explicitly call `InteractiveSession.close()` to release resources held by the other session(s).\n",
      "  warnings.warn('An interactive session is already active. This can '\n"
     ]
    },
    {
     "name": "stdout",
     "output_type": "stream",
     "text": [
      "Epoch 1/10\n",
      "66/66 [==============================] - 3s 33ms/step - loss: 0.7987 - accuracy: 0.4948 - val_loss: 0.6929 - val_accuracy: 0.5638\n",
      "Epoch 2/10\n",
      "66/66 [==============================] - 1s 14ms/step - loss: 0.6920 - accuracy: 0.5467 - val_loss: 0.6905 - val_accuracy: 0.5011\n",
      "Epoch 3/10\n",
      "66/66 [==============================] - 1s 14ms/step - loss: 0.6936 - accuracy: 0.4810 - val_loss: 0.6922 - val_accuracy: 0.4989\n",
      "Epoch 4/10\n",
      "66/66 [==============================] - 1s 14ms/step - loss: 0.6938 - accuracy: 0.4669 - val_loss: 0.6671 - val_accuracy: 0.5817\n",
      "Epoch 5/10\n",
      "66/66 [==============================] - 1s 14ms/step - loss: 0.6707 - accuracy: 0.6052 - val_loss: 0.5471 - val_accuracy: 0.7763\n",
      "Epoch 6/10\n",
      "66/66 [==============================] - 1s 14ms/step - loss: 0.5987 - accuracy: 0.6969 - val_loss: 0.3363 - val_accuracy: 0.8680\n",
      "Epoch 7/10\n",
      "66/66 [==============================] - 1s 14ms/step - loss: 0.3880 - accuracy: 0.8379 - val_loss: 0.3408 - val_accuracy: 0.8702\n",
      "Epoch 8/10\n",
      "66/66 [==============================] - 1s 14ms/step - loss: 0.3475 - accuracy: 0.8646 - val_loss: 0.3878 - val_accuracy: 0.8277\n",
      "Epoch 9/10\n",
      "66/66 [==============================] - 1s 14ms/step - loss: 0.2814 - accuracy: 0.8943 - val_loss: 0.2422 - val_accuracy: 0.9060\n",
      "Epoch 10/10\n",
      "66/66 [==============================] - 1s 14ms/step - loss: 0.2155 - accuracy: 0.9119 - val_loss: 0.1933 - val_accuracy: 0.9038\n",
      "INFO:tensorflow:Assets written to: CNN.model\\assets\n"
     ]
    },
    {
     "name": "stderr",
     "output_type": "stream",
     "text": [
      "D:\\ProgramData\\Anaconda3\\lib\\site-packages\\tensorflow\\python\\client\\session.py:1761: UserWarning: An interactive session is already active. This can cause out-of-memory errors in some cases. You must explicitly call `InteractiveSession.close()` to release resources held by the other session(s).\n",
      "  warnings.warn('An interactive session is already active. This can '\n"
     ]
    },
    {
     "name": "stdout",
     "output_type": "stream",
     "text": [
      "Epoch 1/10\n",
      "66/66 [==============================] - 3s 28ms/step - loss: 1.6344 - accuracy: 0.5253 - val_loss: 0.6933 - val_accuracy: 0.4989\n",
      "Epoch 2/10\n",
      "66/66 [==============================] - 1s 10ms/step - loss: 0.6923 - accuracy: 0.5329 - val_loss: 0.6934 - val_accuracy: 0.4989\n",
      "Epoch 3/10\n",
      "66/66 [==============================] - 1s 10ms/step - loss: 0.6939 - accuracy: 0.4849 - val_loss: 0.6933 - val_accuracy: 0.4989\n",
      "Epoch 4/10\n",
      "66/66 [==============================] - 1s 10ms/step - loss: 0.6946 - accuracy: 0.4760 - val_loss: 0.6936 - val_accuracy: 0.4989\n",
      "Epoch 5/10\n",
      "66/66 [==============================] - 1s 10ms/step - loss: 0.6936 - accuracy: 0.4989 - val_loss: 0.6933 - val_accuracy: 0.4989\n",
      "Epoch 6/10\n",
      "66/66 [==============================] - 1s 10ms/step - loss: 0.6934 - accuracy: 0.5032 - val_loss: 0.6932 - val_accuracy: 0.4989\n",
      "Epoch 7/10\n",
      "66/66 [==============================] - 1s 9ms/step - loss: 0.6933 - accuracy: 0.4876 - val_loss: 0.6932 - val_accuracy: 0.4989\n",
      "Epoch 8/10\n",
      "66/66 [==============================] - 1s 10ms/step - loss: 0.6933 - accuracy: 0.4990 - val_loss: 0.6932 - val_accuracy: 0.4989\n",
      "Epoch 9/10\n",
      "66/66 [==============================] - 1s 9ms/step - loss: 0.6932 - accuracy: 0.4836 - val_loss: 0.6932 - val_accuracy: 0.4989\n",
      "Epoch 10/10\n",
      "66/66 [==============================] - 1s 9ms/step - loss: 0.6935 - accuracy: 0.4732 - val_loss: 0.6932 - val_accuracy: 0.4989\n",
      "INFO:tensorflow:Assets written to: CNN.model\\assets\n"
     ]
    },
    {
     "name": "stderr",
     "output_type": "stream",
     "text": [
      "D:\\ProgramData\\Anaconda3\\lib\\site-packages\\tensorflow\\python\\client\\session.py:1761: UserWarning: An interactive session is already active. This can cause out-of-memory errors in some cases. You must explicitly call `InteractiveSession.close()` to release resources held by the other session(s).\n",
      "  warnings.warn('An interactive session is already active. This can '\n"
     ]
    },
    {
     "name": "stdout",
     "output_type": "stream",
     "text": [
      "Epoch 1/10\n",
      "66/66 [==============================] - 3s 24ms/step - loss: 0.7014 - accuracy: 0.5518 - val_loss: 0.6962 - val_accuracy: 0.4989\n",
      "Epoch 2/10\n",
      "66/66 [==============================] - 0s 6ms/step - loss: 0.6811 - accuracy: 0.5758 - val_loss: 0.6488 - val_accuracy: 0.6242\n",
      "Epoch 3/10\n",
      "66/66 [==============================] - 0s 6ms/step - loss: 0.6225 - accuracy: 0.6899 - val_loss: 0.5807 - val_accuracy: 0.6801\n",
      "Epoch 4/10\n",
      "66/66 [==============================] - 0s 6ms/step - loss: 0.5419 - accuracy: 0.7251 - val_loss: 0.5504 - val_accuracy: 0.7360\n",
      "Epoch 5/10\n",
      "66/66 [==============================] - 0s 6ms/step - loss: 0.5457 - accuracy: 0.7226 - val_loss: 0.4813 - val_accuracy: 0.7718\n",
      "Epoch 6/10\n",
      "66/66 [==============================] - 0s 6ms/step - loss: 0.4526 - accuracy: 0.7979 - val_loss: 0.4647 - val_accuracy: 0.7629\n",
      "Epoch 7/10\n",
      "66/66 [==============================] - 0s 6ms/step - loss: 0.4452 - accuracy: 0.7933 - val_loss: 0.4017 - val_accuracy: 0.8188\n",
      "Epoch 8/10\n",
      "66/66 [==============================] - 0s 6ms/step - loss: 0.3792 - accuracy: 0.8238 - val_loss: 0.5100 - val_accuracy: 0.7562\n",
      "Epoch 9/10\n",
      "66/66 [==============================] - 0s 6ms/step - loss: 0.3634 - accuracy: 0.8433 - val_loss: 0.3546 - val_accuracy: 0.8591\n",
      "Epoch 10/10\n",
      "66/66 [==============================] - 0s 6ms/step - loss: 0.2902 - accuracy: 0.8695 - val_loss: 0.3746 - val_accuracy: 0.8322\n",
      "INFO:tensorflow:Assets written to: CNN.model\\assets\n"
     ]
    },
    {
     "name": "stderr",
     "output_type": "stream",
     "text": [
      "D:\\ProgramData\\Anaconda3\\lib\\site-packages\\tensorflow\\python\\client\\session.py:1761: UserWarning: An interactive session is already active. This can cause out-of-memory errors in some cases. You must explicitly call `InteractiveSession.close()` to release resources held by the other session(s).\n",
      "  warnings.warn('An interactive session is already active. This can '\n"
     ]
    },
    {
     "name": "stdout",
     "output_type": "stream",
     "text": [
      "Epoch 1/10\n",
      "66/66 [==============================] - 4s 38ms/step - loss: 0.6950 - accuracy: 0.4849 - val_loss: 0.6921 - val_accuracy: 0.4989\n",
      "Epoch 2/10\n",
      "66/66 [==============================] - 1s 20ms/step - loss: 0.6904 - accuracy: 0.5427 - val_loss: 0.6901 - val_accuracy: 0.5839\n",
      "Epoch 3/10\n",
      "66/66 [==============================] - 1s 20ms/step - loss: 0.6852 - accuracy: 0.5799 - val_loss: 0.6899 - val_accuracy: 0.4989\n",
      "Epoch 4/10\n",
      "66/66 [==============================] - 1s 20ms/step - loss: 0.6967 - accuracy: 0.5421 - val_loss: 0.6707 - val_accuracy: 0.6465\n",
      "Epoch 5/10\n",
      "66/66 [==============================] - 1s 20ms/step - loss: 0.6621 - accuracy: 0.6024 - val_loss: 0.6529 - val_accuracy: 0.5906\n",
      "Epoch 6/10\n",
      "66/66 [==============================] - 1s 20ms/step - loss: 0.6716 - accuracy: 0.6269 - val_loss: 0.6196 - val_accuracy: 0.7204\n",
      "Epoch 7/10\n",
      "66/66 [==============================] - 1s 22ms/step - loss: 0.6050 - accuracy: 0.6963 - val_loss: 0.5642 - val_accuracy: 0.7069\n",
      "Epoch 8/10\n",
      "66/66 [==============================] - 1s 22ms/step - loss: 0.5519 - accuracy: 0.7387 - val_loss: 0.5446 - val_accuracy: 0.7360\n",
      "Epoch 9/10\n",
      "66/66 [==============================] - 1s 20ms/step - loss: 0.5257 - accuracy: 0.7497 - val_loss: 0.4902 - val_accuracy: 0.7808\n",
      "Epoch 10/10\n",
      "66/66 [==============================] - 1s 19ms/step - loss: 0.4643 - accuracy: 0.7919 - val_loss: 0.4369 - val_accuracy: 0.8210\n",
      "INFO:tensorflow:Assets written to: CNN.model\\assets\n",
      "[[256, 7, 0.0001, 0.2, 6, 1, 512], [128, 7, 0.001, 0.4, 3, 0, 256], [64, 2, 0.001, 0.4, 6, 0, 256], [32, 2, 0.001, 0.3, 6, 0, 256], [256, 5, 0.0005, 0.4, 5, 1, 256], [32, 2, 0.0001, 0.5, 5, 0, 512], [128, 3, 0.001, 0.5, 2, 0, 128], [64, 3, 0.005, 0.0, 2, 1, 512], [32, 5, 0.001, 0.5, 2, 1, 128], [128, 7, 0.0001, 0.4, 5, 1, 128]]\n",
      "[0.41257608870695445, 0.4218281570656277, 0.49517684887459806, 0.45819935691324504, 0.3605219375273906, 0.17194522543995405, 0.3183255589225108, 0.24998760927129096, 0.3177479653571905, 0.3128736382682039]\n",
      "Generasi Ke  1\n",
      "Parent 1 dan 2  [32, 2, 0.001, 0.3, 6, 0, 256] [256, 5, 0.0005, 0.4, 5, 1, 256]\n",
      "Child 1 dan 2 [32, 2, 0.001, 0.3, 5, 1, 256] [256, 5, 0.0005, 0.4, 6, 0, 256]\n",
      "Mutasi 1 dan 2 [32, 2, 0.001, 0.3, 5, 1, 256] [256, 5, 0.0005, 0.4, 6, 0, 256]\n",
      "Epoch 1/10\n"
     ]
    },
    {
     "name": "stderr",
     "output_type": "stream",
     "text": [
      "D:\\ProgramData\\Anaconda3\\lib\\site-packages\\tensorflow\\python\\client\\session.py:1761: UserWarning: An interactive session is already active. This can cause out-of-memory errors in some cases. You must explicitly call `InteractiveSession.close()` to release resources held by the other session(s).\n",
      "  warnings.warn('An interactive session is already active. This can '\n"
     ]
    },
    {
     "name": "stdout",
     "output_type": "stream",
     "text": [
      "66/66 [==============================] - 1s 8ms/step - loss: 0.6936 - accuracy: 0.4957 - val_loss: 0.6925 - val_accuracy: 0.4989\n",
      "Epoch 2/10\n",
      "66/66 [==============================] - 0s 6ms/step - loss: 0.6882 - accuracy: 0.5428 - val_loss: 0.6845 - val_accuracy: 0.5839\n",
      "Epoch 3/10\n",
      "66/66 [==============================] - 0s 6ms/step - loss: 0.6729 - accuracy: 0.5924 - val_loss: 0.6695 - val_accuracy: 0.5414\n",
      "Epoch 4/10\n",
      "66/66 [==============================] - 0s 6ms/step - loss: 0.6736 - accuracy: 0.5825 - val_loss: 0.6140 - val_accuracy: 0.6846\n",
      "Epoch 5/10\n",
      "66/66 [==============================] - 0s 6ms/step - loss: 0.5999 - accuracy: 0.6849 - val_loss: 0.5480 - val_accuracy: 0.7472\n",
      "Epoch 6/10\n",
      "66/66 [==============================] - 0s 6ms/step - loss: 0.5170 - accuracy: 0.7279 - val_loss: 0.4372 - val_accuracy: 0.8076\n",
      "Epoch 7/10\n",
      "66/66 [==============================] - 0s 6ms/step - loss: 0.6614 - accuracy: 0.6397 - val_loss: 0.5901 - val_accuracy: 0.6801\n",
      "Epoch 8/10\n",
      "66/66 [==============================] - 0s 6ms/step - loss: 0.5722 - accuracy: 0.6935 - val_loss: 0.5621 - val_accuracy: 0.7114\n",
      "Epoch 9/10\n",
      "66/66 [==============================] - 0s 6ms/step - loss: 0.5161 - accuracy: 0.7477 - val_loss: 0.3240 - val_accuracy: 0.8770\n",
      "Epoch 10/10\n",
      "66/66 [==============================] - 0s 6ms/step - loss: 0.3453 - accuracy: 0.8754 - val_loss: 0.3381 - val_accuracy: 0.8546\n",
      "INFO:tensorflow:Assets written to: CNN.model\\assets\n"
     ]
    },
    {
     "name": "stderr",
     "output_type": "stream",
     "text": [
      "D:\\ProgramData\\Anaconda3\\lib\\site-packages\\tensorflow\\python\\client\\session.py:1761: UserWarning: An interactive session is already active. This can cause out-of-memory errors in some cases. You must explicitly call `InteractiveSession.close()` to release resources held by the other session(s).\n",
      "  warnings.warn('An interactive session is already active. This can '\n"
     ]
    },
    {
     "name": "stdout",
     "output_type": "stream",
     "text": [
      "Epoch 1/10\n",
      "66/66 [==============================] - 5s 57ms/step - loss: 0.6944 - accuracy: 0.4971 - val_loss: 0.6933 - val_accuracy: 0.4989\n",
      "Epoch 2/10\n",
      "66/66 [==============================] - 3s 46ms/step - loss: 0.6914 - accuracy: 0.5332 - val_loss: 0.6932 - val_accuracy: 0.4989\n",
      "Epoch 3/10\n",
      "66/66 [==============================] - 3s 46ms/step - loss: 0.6934 - accuracy: 0.4881 - val_loss: 0.6932 - val_accuracy: 0.4989\n",
      "Epoch 4/10\n",
      "66/66 [==============================] - 3s 46ms/step - loss: 0.6939 - accuracy: 0.4738 - val_loss: 0.6933 - val_accuracy: 0.4989\n",
      "Epoch 5/10\n",
      "66/66 [==============================] - 3s 46ms/step - loss: 0.6935 - accuracy: 0.4980 - val_loss: 0.6932 - val_accuracy: 0.4989\n",
      "Epoch 6/10\n",
      "66/66 [==============================] - 3s 46ms/step - loss: 0.6933 - accuracy: 0.5049 - val_loss: 0.6932 - val_accuracy: 0.4989\n",
      "Epoch 7/10\n",
      "66/66 [==============================] - 3s 46ms/step - loss: 0.6932 - accuracy: 0.5026 - val_loss: 0.6932 - val_accuracy: 0.4989\n",
      "Epoch 8/10\n",
      "66/66 [==============================] - 3s 46ms/step - loss: 0.6932 - accuracy: 0.5006 - val_loss: 0.6931 - val_accuracy: 0.4989\n",
      "Epoch 9/10\n",
      "66/66 [==============================] - 3s 45ms/step - loss: 0.6930 - accuracy: 0.5301 - val_loss: 0.6931 - val_accuracy: 0.4989\n",
      "Epoch 10/10\n",
      "66/66 [==============================] - 3s 46ms/step - loss: 0.6938 - accuracy: 0.4811 - val_loss: 0.6931 - val_accuracy: 0.4989\n",
      "INFO:tensorflow:Assets written to: CNN.model\\assets\n",
      "[[32, 2, 0.0001, 0.5, 5, 0, 512], [64, 3, 0.005, 0.0, 2, 1, 512], [128, 7, 0.0001, 0.4, 5, 1, 128], [32, 5, 0.001, 0.5, 2, 1, 128], [128, 3, 0.001, 0.5, 2, 0, 128], [256, 5, 0.0005, 0.4, 5, 1, 256], [256, 7, 0.0001, 0.2, 6, 1, 512], [128, 7, 0.001, 0.4, 3, 0, 256], [256, 5, 0.0005, 0.4, 6, 0, 256], [32, 2, 0.001, 0.3, 5, 1, 256]]\n",
      "[0.17194522543995405, 0.24998760927129096, 0.3128736382682039, 0.3177479653571905, 0.3183255589225108, 0.3605219375273906, 0.41257608870695445, 0.4218281570656277, 0.24946847719828558, 0.49517684887459806]\n",
      "Generasi Ke  2\n",
      "Parent 1 dan 2  [32, 5, 0.001, 0.5, 2, 1, 128] [128, 3, 0.001, 0.5, 2, 0, 128]\n",
      "Child 1 dan 2 [32, 5, 0.001, 0.5, 2, 0, 128] [128, 3, 0.001, 0.5, 2, 1, 128]\n",
      "Mutasi 1 dan 2 [32, 5, 0.001, 0.5, 2, 0, 128] [128, 3, 0.001, 0.5, 2, 1, 128]\n",
      "Epoch 1/10\n"
     ]
    },
    {
     "name": "stderr",
     "output_type": "stream",
     "text": [
      "D:\\ProgramData\\Anaconda3\\lib\\site-packages\\tensorflow\\python\\client\\session.py:1761: UserWarning: An interactive session is already active. This can cause out-of-memory errors in some cases. You must explicitly call `InteractiveSession.close()` to release resources held by the other session(s).\n",
      "  warnings.warn('An interactive session is already active. This can '\n"
     ]
    },
    {
     "name": "stdout",
     "output_type": "stream",
     "text": [
      "66/66 [==============================] - 1s 8ms/step - loss: 0.6984 - accuracy: 0.5497 - val_loss: 0.6926 - val_accuracy: 0.4989\n",
      "Epoch 2/10\n",
      "66/66 [==============================] - 0s 7ms/step - loss: 0.6913 - accuracy: 0.5383 - val_loss: 0.6930 - val_accuracy: 0.4989\n",
      "Epoch 3/10\n",
      "66/66 [==============================] - 1s 8ms/step - loss: 0.6935 - accuracy: 0.4678 - val_loss: 0.6934 - val_accuracy: 0.4989\n",
      "Epoch 4/10\n",
      "66/66 [==============================] - 0s 7ms/step - loss: 0.6949 - accuracy: 0.4839 - val_loss: 0.6671 - val_accuracy: 0.5817\n",
      "Epoch 5/10\n",
      "66/66 [==============================] - 0s 6ms/step - loss: 0.6849 - accuracy: 0.5790 - val_loss: 0.5545 - val_accuracy: 0.7315\n",
      "Epoch 6/10\n",
      "66/66 [==============================] - 0s 6ms/step - loss: 0.5544 - accuracy: 0.7265 - val_loss: 0.6071 - val_accuracy: 0.7047\n",
      "Epoch 7/10\n",
      "66/66 [==============================] - 0s 6ms/step - loss: 0.5431 - accuracy: 0.7539 - val_loss: 0.4385 - val_accuracy: 0.7830\n",
      "Epoch 8/10\n",
      "66/66 [==============================] - 0s 7ms/step - loss: 0.4383 - accuracy: 0.8061 - val_loss: 0.4274 - val_accuracy: 0.8434\n",
      "Epoch 9/10\n",
      "66/66 [==============================] - 0s 6ms/step - loss: 0.3506 - accuracy: 0.8531 - val_loss: 0.3935 - val_accuracy: 0.8389\n",
      "Epoch 10/10\n",
      "66/66 [==============================] - 0s 6ms/step - loss: 0.3091 - accuracy: 0.8661 - val_loss: 0.3378 - val_accuracy: 0.8635\n",
      "INFO:tensorflow:Assets written to: CNN.model\\assets\n"
     ]
    },
    {
     "name": "stderr",
     "output_type": "stream",
     "text": [
      "D:\\ProgramData\\Anaconda3\\lib\\site-packages\\tensorflow\\python\\client\\session.py:1761: UserWarning: An interactive session is already active. This can cause out-of-memory errors in some cases. You must explicitly call `InteractiveSession.close()` to release resources held by the other session(s).\n",
      "  warnings.warn('An interactive session is already active. This can '\n"
     ]
    },
    {
     "name": "stdout",
     "output_type": "stream",
     "text": [
      "Epoch 1/10\n",
      "66/66 [==============================] - 2s 17ms/step - loss: 0.7152 - accuracy: 0.5152 - val_loss: 0.6931 - val_accuracy: 0.4989\n",
      "Epoch 2/10\n",
      "66/66 [==============================] - 1s 14ms/step - loss: 0.6933 - accuracy: 0.5208 - val_loss: 0.6908 - val_accuracy: 0.4989\n",
      "Epoch 3/10\n",
      "66/66 [==============================] - 1s 14ms/step - loss: 0.6925 - accuracy: 0.5140 - val_loss: 0.6928 - val_accuracy: 0.4989\n",
      "Epoch 4/10\n",
      "66/66 [==============================] - 1s 14ms/step - loss: 0.6976 - accuracy: 0.4803 - val_loss: 0.6502 - val_accuracy: 0.6756: 0.6985 - accuracy\n",
      "Epoch 5/10\n",
      "66/66 [==============================] - 1s 14ms/step - loss: 0.6794 - accuracy: 0.5946 - val_loss: 0.5685 - val_accuracy: 0.7360\n",
      "Epoch 6/10\n",
      "66/66 [==============================] - 1s 14ms/step - loss: 0.5988 - accuracy: 0.7097 - val_loss: 0.4593 - val_accuracy: 0.8031\n",
      "Epoch 7/10\n",
      "66/66 [==============================] - 1s 14ms/step - loss: 0.4809 - accuracy: 0.7843 - val_loss: 0.4204 - val_accuracy: 0.8367\n",
      "Epoch 8/10\n",
      "66/66 [==============================] - 1s 14ms/step - loss: 0.4757 - accuracy: 0.7850 - val_loss: 0.3710 - val_accuracy: 0.8345\n",
      "Epoch 9/10\n",
      "66/66 [==============================] - 1s 15ms/step - loss: 0.3531 - accuracy: 0.8422 - val_loss: 0.3654 - val_accuracy: 0.8523\n",
      "Epoch 10/10\n",
      "66/66 [==============================] - 1s 14ms/step - loss: 0.4687 - accuracy: 0.8264 - val_loss: 0.3973 - val_accuracy: 0.8166\n",
      "INFO:tensorflow:Assets written to: CNN.model\\assets\n",
      "[[32, 2, 0.0001, 0.5, 5, 0, 512], [256, 5, 0.0005, 0.4, 6, 0, 256], [64, 3, 0.005, 0.0, 2, 1, 512], [128, 7, 0.0001, 0.4, 5, 1, 128], [32, 5, 0.001, 0.5, 2, 1, 128], [128, 3, 0.001, 0.5, 2, 0, 128], [256, 5, 0.0005, 0.4, 5, 1, 256], [256, 7, 0.0001, 0.2, 6, 1, 512], [128, 3, 0.001, 0.5, 2, 1, 128], [32, 5, 0.001, 0.5, 2, 0, 128]]\n",
      "[0.17194522543995405, 0.24946847719828558, 0.24998760927129096, 0.3128736382682039, 0.3177479653571905, 0.3183255589225108, 0.3605219375273906, 0.41257608870695445, 0.3940256322191512, 0.33519606044532185]\n",
      "Generasi Ke  3\n",
      "Parent 1 dan 2  [128, 7, 0.0001, 0.4, 5, 1, 128] [32, 5, 0.001, 0.5, 2, 1, 128]\n",
      "Child 1 dan 2 [128, 7, 0.0001, 0.4, 2, 1, 128] [32, 5, 0.001, 0.5, 5, 1, 128]\n",
      "Mutasi 1 dan 2 [128, 7, 0.0001, 0.4, 2, 1, 128] [32, 5, 0.001, 0.5, 5, 1, 128]\n",
      "Epoch 1/10\n"
     ]
    },
    {
     "name": "stderr",
     "output_type": "stream",
     "text": [
      "D:\\ProgramData\\Anaconda3\\lib\\site-packages\\tensorflow\\python\\client\\session.py:1761: UserWarning: An interactive session is already active. This can cause out-of-memory errors in some cases. You must explicitly call `InteractiveSession.close()` to release resources held by the other session(s).\n",
      "  warnings.warn('An interactive session is already active. This can '\n"
     ]
    },
    {
     "name": "stdout",
     "output_type": "stream",
     "text": [
      "66/66 [==============================] - 2s 20ms/step - loss: 0.7002 - accuracy: 0.5130 - val_loss: 0.6879 - val_accuracy: 0.4989\n",
      "Epoch 2/10\n",
      "66/66 [==============================] - 1s 18ms/step - loss: 0.6834 - accuracy: 0.5645 - val_loss: 0.6499 - val_accuracy: 0.6309\n",
      "Epoch 3/10\n",
      "66/66 [==============================] - 1s 18ms/step - loss: 0.6450 - accuracy: 0.6235 - val_loss: 0.6224 - val_accuracy: 0.6264\n",
      "Epoch 4/10\n",
      "66/66 [==============================] - 1s 18ms/step - loss: 0.6319 - accuracy: 0.6293 - val_loss: 0.5733 - val_accuracy: 0.7338\n",
      "Epoch 5/10\n",
      "66/66 [==============================] - 1s 18ms/step - loss: 0.5949 - accuracy: 0.7006 - val_loss: 0.5431 - val_accuracy: 0.7159\n",
      "Epoch 6/10\n",
      "66/66 [==============================] - 1s 18ms/step - loss: 0.5494 - accuracy: 0.7131 - val_loss: 0.5452 - val_accuracy: 0.7584\n",
      "Epoch 7/10\n",
      "66/66 [==============================] - 1s 18ms/step - loss: 0.5474 - accuracy: 0.7195 - val_loss: 0.4909 - val_accuracy: 0.7696\n",
      "Epoch 8/10\n",
      "66/66 [==============================] - 1s 18ms/step - loss: 0.5205 - accuracy: 0.7462 - val_loss: 0.4730 - val_accuracy: 0.7964\n",
      "Epoch 9/10\n",
      "66/66 [==============================] - 1s 18ms/step - loss: 0.4756 - accuracy: 0.7821 - val_loss: 0.4393 - val_accuracy: 0.8210\n",
      "Epoch 10/10\n",
      "66/66 [==============================] - 1s 18ms/step - loss: 0.4354 - accuracy: 0.8167 - val_loss: 0.4154 - val_accuracy: 0.8277\n",
      "INFO:tensorflow:Assets written to: CNN.model\\assets\n"
     ]
    },
    {
     "name": "stderr",
     "output_type": "stream",
     "text": [
      "D:\\ProgramData\\Anaconda3\\lib\\site-packages\\tensorflow\\python\\client\\session.py:1761: UserWarning: An interactive session is already active. This can cause out-of-memory errors in some cases. You must explicitly call `InteractiveSession.close()` to release resources held by the other session(s).\n",
      "  warnings.warn('An interactive session is already active. This can '\n"
     ]
    },
    {
     "name": "stdout",
     "output_type": "stream",
     "text": [
      "Epoch 1/10\n",
      "66/66 [==============================] - 4s 38ms/step - loss: 0.6954 - accuracy: 0.5004 - val_loss: 0.6932 - val_accuracy: 0.4989\n",
      "Epoch 2/10\n",
      "66/66 [==============================] - 0s 7ms/step - loss: 0.6927 - accuracy: 0.5329 - val_loss: 0.6933 - val_accuracy: 0.4989\n",
      "Epoch 3/10\n",
      "66/66 [==============================] - 0s 7ms/step - loss: 0.6935 - accuracy: 0.4840 - val_loss: 0.6933 - val_accuracy: 0.4989\n",
      "Epoch 4/10\n",
      "66/66 [==============================] - 0s 7ms/step - loss: 0.6942 - accuracy: 0.4760 - val_loss: 0.6935 - val_accuracy: 0.4989\n",
      "Epoch 5/10\n",
      "66/66 [==============================] - 0s 7ms/step - loss: 0.6934 - accuracy: 0.4972 - val_loss: 0.6933 - val_accuracy: 0.4989\n",
      "Epoch 6/10\n",
      "66/66 [==============================] - 0s 7ms/step - loss: 0.6937 - accuracy: 0.5008 - val_loss: 0.6932 - val_accuracy: 0.4989\n",
      "Epoch 7/10\n",
      "66/66 [==============================] - 0s 7ms/step - loss: 0.6932 - accuracy: 0.4938 - val_loss: 0.6932 - val_accuracy: 0.4989\n",
      "Epoch 8/10\n",
      "66/66 [==============================] - 0s 7ms/step - loss: 0.6931 - accuracy: 0.5087 - val_loss: 0.6932 - val_accuracy: 0.4989\n",
      "Epoch 9/10\n",
      "66/66 [==============================] - 0s 7ms/step - loss: 0.6929 - accuracy: 0.5092 - val_loss: 0.6932 - val_accuracy: 0.4989\n",
      "Epoch 10/10\n",
      "66/66 [==============================] - 0s 7ms/step - loss: 0.6933 - accuracy: 0.4872 - val_loss: 0.6932 - val_accuracy: 0.4989\n",
      "INFO:tensorflow:Assets written to: CNN.model\\assets\n",
      "[[32, 2, 0.0001, 0.5, 5, 0, 512], [256, 5, 0.0005, 0.4, 6, 0, 256], [64, 3, 0.005, 0.0, 2, 1, 512], [128, 7, 0.0001, 0.4, 5, 1, 128], [32, 5, 0.001, 0.5, 2, 1, 128], [128, 3, 0.001, 0.5, 2, 0, 128], [32, 5, 0.001, 0.5, 2, 0, 128], [256, 5, 0.0005, 0.4, 5, 1, 256], [32, 5, 0.001, 0.5, 5, 1, 128], [128, 7, 0.0001, 0.4, 2, 1, 128]]\n",
      "[0.17194522543995405, 0.24946847719828558, 0.24998760927129096, 0.3128736382682039, 0.3177479653571905, 0.3183255589225108, 0.33519606044532185, 0.3605219375273906, 0.25154508937072434, 0.1992125151458352]\n",
      "Generasi Ke  4\n",
      "Parent 1 dan 2  [128, 7, 0.0001, 0.4, 5, 1, 128] [32, 5, 0.001, 0.5, 2, 1, 128]\n",
      "Child 1 dan 2 [128, 7, 0.0001, 0.4, 2, 1, 128] [32, 5, 0.001, 0.5, 5, 1, 128]\n",
      "Mutasi 1 dan 2 [128, 7, 0.0001, 0.4, 2, 1, 128] [32, 5, 0.001, 0.5, 5, 1, 128]\n",
      "Epoch 1/10\n"
     ]
    },
    {
     "name": "stderr",
     "output_type": "stream",
     "text": [
      "D:\\ProgramData\\Anaconda3\\lib\\site-packages\\tensorflow\\python\\client\\session.py:1761: UserWarning: An interactive session is already active. This can cause out-of-memory errors in some cases. You must explicitly call `InteractiveSession.close()` to release resources held by the other session(s).\n",
      "  warnings.warn('An interactive session is already active. This can '\n"
     ]
    },
    {
     "name": "stdout",
     "output_type": "stream",
     "text": [
      "66/66 [==============================] - 1s 10ms/step - loss: 0.6954 - accuracy: 0.4979 - val_loss: 0.6932 - val_accuracy: 0.4989\n",
      "Epoch 2/10\n",
      "66/66 [==============================] - 0s 7ms/step - loss: 0.6928 - accuracy: 0.5327 - val_loss: 0.6932 - val_accuracy: 0.4989\n",
      "Epoch 3/10\n",
      "66/66 [==============================] - 0s 7ms/step - loss: 0.6932 - accuracy: 0.4919 - val_loss: 0.6932 - val_accuracy: 0.4989\n",
      "Epoch 4/10\n",
      "66/66 [==============================] - 0s 7ms/step - loss: 0.6945 - accuracy: 0.4807 - val_loss: 0.6933 - val_accuracy: 0.4989\n",
      "Epoch 5/10\n",
      "66/66 [==============================] - 0s 7ms/step - loss: 0.6933 - accuracy: 0.4943 - val_loss: 0.6932 - val_accuracy: 0.4989\n",
      "Epoch 6/10\n",
      "66/66 [==============================] - 0s 7ms/step - loss: 0.6939 - accuracy: 0.4775 - val_loss: 0.6932 - val_accuracy: 0.4989\n",
      "Epoch 7/10\n",
      "66/66 [==============================] - 0s 7ms/step - loss: 0.6929 - accuracy: 0.5067 - val_loss: 0.6930 - val_accuracy: 0.4989\n",
      "Epoch 8/10\n",
      "66/66 [==============================] - 0s 7ms/step - loss: 0.6944 - accuracy: 0.4875 - val_loss: 0.6931 - val_accuracy: 0.5011\n",
      "Epoch 9/10\n",
      "66/66 [==============================] - 0s 7ms/step - loss: 0.6941 - accuracy: 0.4982 - val_loss: 0.6932 - val_accuracy: 0.4989\n",
      "Epoch 10/10\n",
      "66/66 [==============================] - 0s 7ms/step - loss: 0.6934 - accuracy: 0.4978 - val_loss: 0.6932 - val_accuracy: 0.4989\n",
      "INFO:tensorflow:Assets written to: CNNmut.model\\assets\n",
      "[[32, 2, 0.0001, 0.5, 5, 0, 512], [128, 7, 0.0001, 0.4, 2, 1, 128], [256, 5, 0.0005, 0.4, 6, 0, 256], [64, 3, 0.005, 0.0, 2, 1, 512], [32, 5, 0.001, 0.5, 5, 1, 128], [128, 7, 0.0001, 0.4, 5, 1, 128], [32, 5, 0.001, 0.5, 2, 1, 128], [128, 3, 0.001, 0.5, 2, 0, 128], [32, 5, 0.001, 0.5, 5, 1, 128], [128, 7, 0.0001, 0.4, 2, 1, 128]]\n",
      "[0.17194522543995405, 0.1992125151458352, 0.24946847719828558, 0.24998760927129096, 0.25154508937072434, 0.3128736382682039, 0.3177479653571905, 0.3183255589225108, 0.2520800030062051, 0.1992125151458352]\n",
      "Generasi Ke  5\n",
      "Parent 1 dan 2  [64, 3, 0.005, 0.0, 2, 1, 512] [32, 5, 0.001, 0.5, 5, 1, 128]\n",
      "Child 1 dan 2 [64, 3, 0.005, 0.0, 5, 1, 128] [32, 5, 0.001, 0.5, 2, 1, 512]\n",
      "Mutasi 1 dan 2 [64, 3, 0.005, 0.0, 5, 1, 128] [32, 5, 0.001, 0.5, 2, 1, 512]\n",
      "Epoch 1/10\n"
     ]
    },
    {
     "name": "stderr",
     "output_type": "stream",
     "text": [
      "D:\\ProgramData\\Anaconda3\\lib\\site-packages\\tensorflow\\python\\client\\session.py:1761: UserWarning: An interactive session is already active. This can cause out-of-memory errors in some cases. You must explicitly call `InteractiveSession.close()` to release resources held by the other session(s).\n",
      "  warnings.warn('An interactive session is already active. This can '\n"
     ]
    },
    {
     "name": "stdout",
     "output_type": "stream",
     "text": [
      "66/66 [==============================] - 5s 45ms/step - loss: 0.6840 - accuracy: 0.5261 - val_loss: 0.6935 - val_accuracy: 0.4989\n",
      "Epoch 2/10\n",
      "66/66 [==============================] - 1s 9ms/step - loss: 0.6921 - accuracy: 0.5329 - val_loss: 0.6933 - val_accuracy: 0.4989\n",
      "Epoch 3/10\n",
      "66/66 [==============================] - 1s 9ms/step - loss: 0.6937 - accuracy: 0.4704 - val_loss: 0.6933 - val_accuracy: 0.4989\n",
      "Epoch 4/10\n",
      "66/66 [==============================] - 1s 9ms/step - loss: 0.6946 - accuracy: 0.4760 - val_loss: 0.6936 - val_accuracy: 0.4989\n",
      "Epoch 5/10\n",
      "66/66 [==============================] - 1s 9ms/step - loss: 0.6936 - accuracy: 0.4989 - val_loss: 0.6933 - val_accuracy: 0.4989\n",
      "Epoch 6/10\n",
      "66/66 [==============================] - 1s 9ms/step - loss: 0.6934 - accuracy: 0.5032 - val_loss: 0.6932 - val_accuracy: 0.4989\n",
      "Epoch 7/10\n",
      "66/66 [==============================] - 1s 9ms/step - loss: 0.6933 - accuracy: 0.4849 - val_loss: 0.6932 - val_accuracy: 0.4989\n",
      "Epoch 8/10\n",
      "66/66 [==============================] - 1s 9ms/step - loss: 0.6933 - accuracy: 0.4808 - val_loss: 0.6932 - val_accuracy: 0.4989\n",
      "Epoch 9/10\n",
      "66/66 [==============================] - 1s 9ms/step - loss: 0.6932 - accuracy: 0.4764 - val_loss: 0.6932 - val_accuracy: 0.4989\n",
      "Epoch 10/10\n",
      "66/66 [==============================] - 1s 9ms/step - loss: 0.6935 - accuracy: 0.4732 - val_loss: 0.6932 - val_accuracy: 0.4989\n",
      "INFO:tensorflow:Assets written to: CNN.model\\assets\n"
     ]
    },
    {
     "name": "stderr",
     "output_type": "stream",
     "text": [
      "D:\\ProgramData\\Anaconda3\\lib\\site-packages\\tensorflow\\python\\client\\session.py:1761: UserWarning: An interactive session is already active. This can cause out-of-memory errors in some cases. You must explicitly call `InteractiveSession.close()` to release resources held by the other session(s).\n",
      "  warnings.warn('An interactive session is already active. This can '\n"
     ]
    },
    {
     "name": "stdout",
     "output_type": "stream",
     "text": [
      "Epoch 1/10\n",
      "66/66 [==============================] - 1s 9ms/step - loss: 0.6972 - accuracy: 0.5609 - val_loss: 0.6754 - val_accuracy: 0.6331\n",
      "Epoch 2/10\n",
      "66/66 [==============================] - 0s 7ms/step - loss: 0.6572 - accuracy: 0.6148 - val_loss: 0.5648 - val_accuracy: 0.7226\n",
      "Epoch 3/10\n",
      "66/66 [==============================] - 0s 7ms/step - loss: 0.5476 - accuracy: 0.7599 - val_loss: 0.4860 - val_accuracy: 0.7606\n",
      "Epoch 4/10\n",
      "66/66 [==============================] - 0s 7ms/step - loss: 0.4396 - accuracy: 0.8022 - val_loss: 0.3858 - val_accuracy: 0.8568\n",
      "Epoch 5/10\n",
      "66/66 [==============================] - 0s 7ms/step - loss: 0.4151 - accuracy: 0.8104 - val_loss: 0.4212 - val_accuracy: 0.8300\n",
      "Epoch 6/10\n",
      "66/66 [==============================] - 0s 7ms/step - loss: 0.4387 - accuracy: 0.7983 - val_loss: 0.4384 - val_accuracy: 0.7651\n",
      "Epoch 7/10\n",
      "66/66 [==============================] - 0s 7ms/step - loss: 0.3663 - accuracy: 0.8631 - val_loss: 0.3496 - val_accuracy: 0.8814\n",
      "Epoch 8/10\n",
      "66/66 [==============================] - 0s 7ms/step - loss: 0.3238 - accuracy: 0.8749 - val_loss: 0.3352 - val_accuracy: 0.8792\n",
      "Epoch 9/10\n",
      "66/66 [==============================] - 0s 7ms/step - loss: 0.2341 - accuracy: 0.9098 - val_loss: 0.3128 - val_accuracy: 0.8702\n",
      "Epoch 10/10\n",
      "66/66 [==============================] - 0s 7ms/step - loss: 0.2025 - accuracy: 0.9285 - val_loss: 0.2461 - val_accuracy: 0.9016\n",
      "INFO:tensorflow:Assets written to: CNN.model\\assets\n",
      "[[32, 2, 0.0001, 0.5, 5, 0, 512], [128, 7, 0.0001, 0.4, 2, 1, 128], [128, 7, 0.0001, 0.4, 2, 1, 128], [256, 5, 0.0005, 0.4, 6, 0, 256], [64, 3, 0.005, 0.0, 2, 1, 512], [32, 5, 0.001, 0.5, 5, 1, 128], [32, 5, 0.001, 0.5, 5, 1, 128], [128, 7, 0.0001, 0.4, 5, 1, 128], [32, 5, 0.001, 0.5, 2, 1, 512], [64, 3, 0.005, 0.0, 5, 1, 128]]\n",
      "[0.17194522543995405, 0.1992125151458352, 0.1992125151458352, 0.24946847719828558, 0.24998760927129096, 0.25154508937072434, 0.2520800030062051, 0.3128736382682039, 0.27578028703683444, 0.24998865119140445]\n",
      "Generasi Ke  6\n",
      "Parent 1 dan 2  [256, 5, 0.0005, 0.4, 6, 0, 256] [64, 3, 0.005, 0.0, 2, 1, 512]\n",
      "Child 1 dan 2 [256, 5, 0.0005, 0.4, 2, 1, 512] [64, 3, 0.005, 0.0, 6, 0, 256]\n",
      "Mutasi 1 dan 2 [256, 5, 0.0005, 0.4, 2, 1, 512] [64, 3, 0.005, 0.0, 6, 0, 256]\n",
      "Epoch 1/10\n"
     ]
    },
    {
     "name": "stderr",
     "output_type": "stream",
     "text": [
      "D:\\ProgramData\\Anaconda3\\lib\\site-packages\\tensorflow\\python\\client\\session.py:1761: UserWarning: An interactive session is already active. This can cause out-of-memory errors in some cases. You must explicitly call `InteractiveSession.close()` to release resources held by the other session(s).\n",
      "  warnings.warn('An interactive session is already active. This can '\n"
     ]
    },
    {
     "name": "stdout",
     "output_type": "stream",
     "text": [
      "66/66 [==============================] - 3s 47ms/step - loss: 0.8101 - accuracy: 0.5348 - val_loss: 0.6727 - val_accuracy: 0.5101\n",
      "Epoch 2/10\n",
      "66/66 [==============================] - 3s 44ms/step - loss: 0.6469 - accuracy: 0.6155 - val_loss: 0.5471 - val_accuracy: 0.7830\n",
      "Epoch 3/10\n",
      "66/66 [==============================] - 3s 44ms/step - loss: 0.5593 - accuracy: 0.7598 - val_loss: 0.5064 - val_accuracy: 0.7584\n",
      "Epoch 4/10\n",
      "66/66 [==============================] - 3s 44ms/step - loss: 0.5276 - accuracy: 0.7557 - val_loss: 0.4159 - val_accuracy: 0.8098\n",
      "Epoch 5/10\n",
      "66/66 [==============================] - 3s 44ms/step - loss: 0.4387 - accuracy: 0.8066 - val_loss: 0.5270 - val_accuracy: 0.7405\n",
      "Epoch 6/10\n",
      "66/66 [==============================] - 3s 44ms/step - loss: 0.4715 - accuracy: 0.7647 - val_loss: 0.3913 - val_accuracy: 0.8009\n",
      "Epoch 7/10\n",
      "66/66 [==============================] - 3s 44ms/step - loss: 0.4049 - accuracy: 0.8434 - val_loss: 0.3825 - val_accuracy: 0.8613\n",
      "Epoch 8/10\n",
      "66/66 [==============================] - 3s 44ms/step - loss: 0.3841 - accuracy: 0.8391 - val_loss: 0.3762 - val_accuracy: 0.8680\n",
      "Epoch 9/10\n",
      "66/66 [==============================] - 3s 44ms/step - loss: 0.2794 - accuracy: 0.8820 - val_loss: 0.3191 - val_accuracy: 0.8814\n",
      "Epoch 10/10\n",
      "66/66 [==============================] - 3s 44ms/step - loss: 0.2633 - accuracy: 0.8950 - val_loss: 0.2784 - val_accuracy: 0.9016\n",
      "INFO:tensorflow:Assets written to: CNN.model\\assets\n"
     ]
    },
    {
     "name": "stderr",
     "output_type": "stream",
     "text": [
      "D:\\ProgramData\\Anaconda3\\lib\\site-packages\\tensorflow\\python\\client\\session.py:1761: UserWarning: An interactive session is already active. This can cause out-of-memory errors in some cases. You must explicitly call `InteractiveSession.close()` to release resources held by the other session(s).\n",
      "  warnings.warn('An interactive session is already active. This can '\n"
     ]
    },
    {
     "name": "stdout",
     "output_type": "stream",
     "text": [
      "Epoch 1/10\n",
      "66/66 [==============================] - 2s 21ms/step - loss: 0.7452 - accuracy: 0.4925 - val_loss: 0.6935 - val_accuracy: 0.4989\n",
      "Epoch 2/10\n",
      "66/66 [==============================] - 1s 9ms/step - loss: 0.6921 - accuracy: 0.5329 - val_loss: 0.6933 - val_accuracy: 0.4989\n",
      "Epoch 3/10\n",
      "66/66 [==============================] - 1s 9ms/step - loss: 0.6938 - accuracy: 0.4849 - val_loss: 0.6933 - val_accuracy: 0.4989\n",
      "Epoch 4/10\n",
      "66/66 [==============================] - 1s 9ms/step - loss: 0.6945 - accuracy: 0.4760 - val_loss: 0.6936 - val_accuracy: 0.4989\n",
      "Epoch 5/10\n",
      "66/66 [==============================] - 1s 9ms/step - loss: 0.6936 - accuracy: 0.4989 - val_loss: 0.6933 - val_accuracy: 0.4989\n",
      "Epoch 6/10\n",
      "66/66 [==============================] - 1s 9ms/step - loss: 0.6934 - accuracy: 0.5032 - val_loss: 0.6932 - val_accuracy: 0.4989\n",
      "Epoch 7/10\n",
      "66/66 [==============================] - 1s 9ms/step - loss: 0.6933 - accuracy: 0.4831 - val_loss: 0.6932 - val_accuracy: 0.4989\n",
      "Epoch 8/10\n",
      "66/66 [==============================] - 1s 9ms/step - loss: 0.6933 - accuracy: 0.4863 - val_loss: 0.6932 - val_accuracy: 0.4989\n",
      "Epoch 9/10\n",
      "66/66 [==============================] - 1s 9ms/step - loss: 0.6932 - accuracy: 0.4905 - val_loss: 0.6932 - val_accuracy: 0.4989\n",
      "Epoch 10/10\n",
      "66/66 [==============================] - 1s 9ms/step - loss: 0.6935 - accuracy: 0.4734 - val_loss: 0.6932 - val_accuracy: 0.4989\n",
      "INFO:tensorflow:Assets written to: CNN.model\\assets\n",
      "[[32, 2, 0.0001, 0.5, 5, 0, 512], [128, 7, 0.0001, 0.4, 2, 1, 128], [128, 7, 0.0001, 0.4, 2, 1, 128], [256, 5, 0.0005, 0.4, 6, 0, 256], [64, 3, 0.005, 0.0, 2, 1, 512], [64, 3, 0.005, 0.0, 5, 1, 128], [32, 5, 0.001, 0.5, 5, 1, 128], [32, 5, 0.001, 0.5, 5, 1, 128], [64, 3, 0.005, 0.0, 6, 0, 256], [256, 5, 0.0005, 0.4, 2, 1, 512]]\n",
      "[0.17194522543995405, 0.1992125151458352, 0.1992125151458352, 0.24946847719828558, 0.24998760927129096, 0.24998865119140445, 0.25154508937072434, 0.2520800030062051, 0.24936567719635602, 0.26846133884475326]\n",
      "Generasi Ke  7\n",
      "Parent 1 dan 2  [256, 5, 0.0005, 0.4, 6, 0, 256] [64, 3, 0.005, 0.0, 2, 1, 512]\n",
      "Child 1 dan 2 [256, 5, 0.0005, 0.4, 2, 1, 512] [64, 3, 0.005, 0.0, 6, 0, 256]\n",
      "Mutasi 1 dan 2 [256, 5, 0.0005, 0.4, 2, 1, 512] [64, 3, 0.005, 0.0, 6, 0, 256]\n",
      "Epoch 1/10\n"
     ]
    },
    {
     "name": "stderr",
     "output_type": "stream",
     "text": [
      "D:\\ProgramData\\Anaconda3\\lib\\site-packages\\tensorflow\\python\\client\\session.py:1761: UserWarning: An interactive session is already active. This can cause out-of-memory errors in some cases. You must explicitly call `InteractiveSession.close()` to release resources held by the other session(s).\n",
      "  warnings.warn('An interactive session is already active. This can '\n"
     ]
    },
    {
     "name": "stdout",
     "output_type": "stream",
     "text": [
      "66/66 [==============================] - 1s 12ms/step - loss: 0.7452 - accuracy: 0.4932 - val_loss: 0.6934 - val_accuracy: 0.4989\n",
      "Epoch 2/10\n",
      "66/66 [==============================] - 1s 9ms/step - loss: 0.6922 - accuracy: 0.5329 - val_loss: 0.6933 - val_accuracy: 0.4989\n",
      "Epoch 3/10\n",
      "66/66 [==============================] - 1s 9ms/step - loss: 0.6938 - accuracy: 0.4849 - val_loss: 0.6933 - val_accuracy: 0.4989\n",
      "Epoch 4/10\n",
      "66/66 [==============================] - 1s 9ms/step - loss: 0.6945 - accuracy: 0.4760 - val_loss: 0.6936 - val_accuracy: 0.4989\n",
      "Epoch 5/10\n",
      "66/66 [==============================] - 1s 9ms/step - loss: 0.6936 - accuracy: 0.4989 - val_loss: 0.6933 - val_accuracy: 0.4989\n",
      "Epoch 6/10\n",
      "66/66 [==============================] - 1s 9ms/step - loss: 0.6934 - accuracy: 0.5032 - val_loss: 0.6932 - val_accuracy: 0.4989\n",
      "Epoch 7/10\n",
      "66/66 [==============================] - 1s 9ms/step - loss: 0.6933 - accuracy: 0.4826 - val_loss: 0.6932 - val_accuracy: 0.4989\n",
      "Epoch 8/10\n",
      "66/66 [==============================] - 1s 9ms/step - loss: 0.6933 - accuracy: 0.4863 - val_loss: 0.6932 - val_accuracy: 0.4989\n",
      "Epoch 9/10\n",
      "66/66 [==============================] - ETA: 0s - loss: 0.6932 - accuracy: 0.48 - 1s 9ms/step - loss: 0.6932 - accuracy: 0.4824 - val_loss: 0.6932 - val_accuracy: 0.4989\n",
      "Epoch 10/10\n",
      "66/66 [==============================] - 1s 9ms/step - loss: 0.6935 - accuracy: 0.4734 - val_loss: 0.6932 - val_accuracy: 0.4989\n",
      "INFO:tensorflow:Assets written to: CNNmut.model\\assets\n",
      "[[32, 2, 0.0001, 0.5, 5, 0, 512], [128, 7, 0.0001, 0.4, 2, 1, 128], [128, 7, 0.0001, 0.4, 2, 1, 128], [64, 3, 0.005, 0.0, 6, 0, 256], [256, 5, 0.0005, 0.4, 6, 0, 256], [64, 3, 0.005, 0.0, 2, 1, 512], [64, 3, 0.005, 0.0, 5, 1, 128], [32, 5, 0.001, 0.5, 5, 1, 128], [64, 3, 0.005, 0.0, 6, 0, 256], [256, 5, 0.0005, 0.4, 2, 1, 512]]\n",
      "[0.17194522543995405, 0.1992125151458352, 0.1992125151458352, 0.24936567719635602, 0.24946847719828558, 0.24998760927129096, 0.24998865119140445, 0.25154508937072434, 0.29992338519209405, 0.26846133884475326]\n",
      "Generasi Ke  8\n",
      "Parent 1 dan 2  [64, 3, 0.005, 0.0, 6, 0, 256] [256, 5, 0.0005, 0.4, 6, 0, 256]\n",
      "Child 1 dan 2 [64, 3, 0.005, 0.0, 6, 0, 256] [256, 5, 0.0005, 0.4, 6, 0, 256]\n",
      "Mutasi 1 dan 2 [64, 3, 0.005, 0.0, 6, 0, 256] [256, 5, 0.0005, 0.4, 6, 0, 256]\n",
      "Epoch 1/10\n"
     ]
    },
    {
     "name": "stderr",
     "output_type": "stream",
     "text": [
      "D:\\ProgramData\\Anaconda3\\lib\\site-packages\\tensorflow\\python\\client\\session.py:1761: UserWarning: An interactive session is already active. This can cause out-of-memory errors in some cases. You must explicitly call `InteractiveSession.close()` to release resources held by the other session(s).\n",
      "  warnings.warn('An interactive session is already active. This can '\n"
     ]
    },
    {
     "name": "stdout",
     "output_type": "stream",
     "text": [
      "66/66 [==============================] - 4s 48ms/step - loss: 0.6944 - accuracy: 0.4977 - val_loss: 0.6933 - val_accuracy: 0.4989\n",
      "Epoch 2/10\n",
      "66/66 [==============================] - 3s 46ms/step - loss: 0.6923 - accuracy: 0.5330 - val_loss: 0.6932 - val_accuracy: 0.4989\n",
      "Epoch 3/10\n",
      "66/66 [==============================] - 3s 46ms/step - loss: 0.6934 - accuracy: 0.4830 - val_loss: 0.6932 - val_accuracy: 0.4989\n",
      "Epoch 4/10\n",
      "66/66 [==============================] - 3s 46ms/step - loss: 0.6938 - accuracy: 0.4762 - val_loss: 0.6933 - val_accuracy: 0.4989\n",
      "Epoch 5/10\n",
      "66/66 [==============================] - 3s 46ms/step - loss: 0.6934 - accuracy: 0.4972 - val_loss: 0.6933 - val_accuracy: 0.4989\n",
      "Epoch 6/10\n",
      "66/66 [==============================] - 3s 46ms/step - loss: 0.6933 - accuracy: 0.5032 - val_loss: 0.6932 - val_accuracy: 0.4989\n",
      "Epoch 7/10\n",
      "66/66 [==============================] - 3s 47ms/step - loss: 0.6931 - accuracy: 0.5070 - val_loss: 0.6932 - val_accuracy: 0.4989\n",
      "Epoch 8/10\n",
      "66/66 [==============================] - 3s 46ms/step - loss: 0.6933 - accuracy: 0.4963 - val_loss: 0.6932 - val_accuracy: 0.4989\n",
      "Epoch 9/10\n",
      "66/66 [==============================] - 3s 46ms/step - loss: 0.6927 - accuracy: 0.5086 - val_loss: 0.6932 - val_accuracy: 0.4989\n",
      "Epoch 10/10\n",
      "66/66 [==============================] - 3s 46ms/step - loss: 0.6935 - accuracy: 0.4684 - val_loss: 0.6932 - val_accuracy: 0.4989\n",
      "INFO:tensorflow:Assets written to: CNNmut.model\\assets\n",
      "[[32, 2, 0.0001, 0.5, 5, 0, 512], [128, 7, 0.0001, 0.4, 2, 1, 128], [128, 7, 0.0001, 0.4, 2, 1, 128], [64, 3, 0.005, 0.0, 6, 0, 256], [256, 5, 0.0005, 0.4, 6, 0, 256], [64, 3, 0.005, 0.0, 2, 1, 512], [64, 3, 0.005, 0.0, 5, 1, 128], [32, 5, 0.001, 0.5, 5, 1, 128], [256, 5, 0.0005, 0.4, 6, 0, 256], [64, 3, 0.005, 0.0, 6, 0, 256]]\n",
      "[0.17194522543995405, 0.1992125151458352, 0.1992125151458352, 0.24936567719635602, 0.24946847719828558, 0.24998760927129096, 0.24998865119140445, 0.25154508937072434, 0.24997077189185454, 0.29992338519209405]\n",
      "Generasi Ke  9\n",
      "Parent 1 dan 2  [64, 3, 0.005, 0.0, 6, 0, 256] [256, 5, 0.0005, 0.4, 6, 0, 256]\n",
      "Child 1 dan 2 [64, 3, 0.005, 0.0, 6, 0, 256] [256, 5, 0.0005, 0.4, 6, 0, 256]\n",
      "Mutasi 1 dan 2 [64, 3, 0.005, 0.0, 6, 0, 256] [256, 5, 0.0005, 0.4, 6, 0, 256]\n",
      "Epoch 1/10\n"
     ]
    },
    {
     "name": "stderr",
     "output_type": "stream",
     "text": [
      "D:\\ProgramData\\Anaconda3\\lib\\site-packages\\tensorflow\\python\\client\\session.py:1761: UserWarning: An interactive session is already active. This can cause out-of-memory errors in some cases. You must explicitly call `InteractiveSession.close()` to release resources held by the other session(s).\n",
      "  warnings.warn('An interactive session is already active. This can '\n"
     ]
    },
    {
     "name": "stdout",
     "output_type": "stream",
     "text": [
      "66/66 [==============================] - 4s 51ms/step - loss: 0.6945 - accuracy: 0.5031 - val_loss: 0.6933 - val_accuracy: 0.4989\n",
      "Epoch 2/10\n",
      "66/66 [==============================] - 3s 47ms/step - loss: 0.6926 - accuracy: 0.5331 - val_loss: 0.6932 - val_accuracy: 0.4989\n",
      "Epoch 3/10\n",
      "66/66 [==============================] - 3s 48ms/step - loss: 0.6934 - accuracy: 0.4878 - val_loss: 0.6932 - val_accuracy: 0.4989\n",
      "Epoch 4/10\n",
      "66/66 [==============================] - 3s 47ms/step - loss: 0.6937 - accuracy: 0.4750 - val_loss: 0.6933 - val_accuracy: 0.4989\n",
      "Epoch 5/10\n",
      "66/66 [==============================] - 3s 46ms/step - loss: 0.6935 - accuracy: 0.5008 - val_loss: 0.6932 - val_accuracy: 0.4989\n",
      "Epoch 6/10\n",
      "66/66 [==============================] - 3s 46ms/step - loss: 0.6932 - accuracy: 0.5133 - val_loss: 0.6932 - val_accuracy: 0.4989\n",
      "Epoch 7/10\n",
      "66/66 [==============================] - 3s 46ms/step - loss: 0.6933 - accuracy: 0.4979 - val_loss: 0.6932 - val_accuracy: 0.4989\n",
      "Epoch 8/10\n",
      "66/66 [==============================] - 3s 46ms/step - loss: 0.6934 - accuracy: 0.4967 - val_loss: 0.6932 - val_accuracy: 0.4989\n",
      "Epoch 9/10\n",
      "66/66 [==============================] - 3s 46ms/step - loss: 0.6928 - accuracy: 0.5223 - val_loss: 0.6932 - val_accuracy: 0.4989\n",
      "Epoch 10/10\n",
      "66/66 [==============================] - 3s 46ms/step - loss: 0.6935 - accuracy: 0.4757 - val_loss: 0.6932 - val_accuracy: 0.4989\n",
      "INFO:tensorflow:Assets written to: CNNmut.model\\assets\n",
      "[[32, 2, 0.0001, 0.5, 5, 0, 512], [128, 7, 0.0001, 0.4, 2, 1, 128], [128, 7, 0.0001, 0.4, 2, 1, 128], [64, 3, 0.005, 0.0, 6, 0, 256], [256, 5, 0.0005, 0.4, 6, 0, 256], [256, 5, 0.0005, 0.4, 6, 0, 256], [64, 3, 0.005, 0.0, 2, 1, 512], [64, 3, 0.005, 0.0, 5, 1, 128], [256, 5, 0.0005, 0.4, 6, 0, 256], [64, 3, 0.005, 0.0, 6, 0, 256]]\n",
      "[0.17194522543995405, 0.1992125151458352, 0.1992125151458352, 0.24936567719635602, 0.24946847719828558, 0.24997077189185454, 0.24998760927129096, 0.24998865119140445, 0.2499705819069157, 0.29992338519209405]\n",
      "Generasi Ke  10\n",
      "Parent 1 dan 2  [64, 3, 0.005, 0.0, 6, 0, 256] [256, 5, 0.0005, 0.4, 6, 0, 256]\n",
      "Child 1 dan 2 [64, 3, 0.005, 0.0, 6, 0, 256] [256, 5, 0.0005, 0.4, 6, 0, 256]\n",
      "Mutasi 1 dan 2 [64, 3, 0.005, 0.0, 6, 0, 256] [256, 5, 0.0005, 0.4, 6, 0, 256]\n",
      "Epoch 1/10\n"
     ]
    },
    {
     "name": "stderr",
     "output_type": "stream",
     "text": [
      "D:\\ProgramData\\Anaconda3\\lib\\site-packages\\tensorflow\\python\\client\\session.py:1761: UserWarning: An interactive session is already active. This can cause out-of-memory errors in some cases. You must explicitly call `InteractiveSession.close()` to release resources held by the other session(s).\n",
      "  warnings.warn('An interactive session is already active. This can '\n"
     ]
    },
    {
     "name": "stdout",
     "output_type": "stream",
     "text": [
      "66/66 [==============================] - 4s 49ms/step - loss: 0.6945 - accuracy: 0.5005 - val_loss: 0.6932 - val_accuracy: 0.4989\n",
      "Epoch 2/10\n",
      "66/66 [==============================] - 3s 46ms/step - loss: 0.6939 - accuracy: 0.5369 - val_loss: 0.6932 - val_accuracy: 0.4989\n",
      "Epoch 3/10\n",
      "66/66 [==============================] - 3s 46ms/step - loss: 0.6933 - accuracy: 0.5039 - val_loss: 0.6932 - val_accuracy: 0.4989\n",
      "Epoch 4/10\n",
      "66/66 [==============================] - 3s 47ms/step - loss: 0.6938 - accuracy: 0.4700 - val_loss: 0.6933 - val_accuracy: 0.4989\n",
      "Epoch 5/10\n",
      "66/66 [==============================] - 3s 46ms/step - loss: 0.6934 - accuracy: 0.4980 - val_loss: 0.6933 - val_accuracy: 0.4989\n",
      "Epoch 6/10\n",
      "66/66 [==============================] - 3s 46ms/step - loss: 0.6933 - accuracy: 0.5052 - val_loss: 0.6932 - val_accuracy: 0.4989\n",
      "Epoch 7/10\n",
      "66/66 [==============================] - 3s 47ms/step - loss: 0.6932 - accuracy: 0.5060 - val_loss: 0.6932 - val_accuracy: 0.4989\n",
      "Epoch 8/10\n",
      "66/66 [==============================] - 3s 46ms/step - loss: 0.6933 - accuracy: 0.5084 - val_loss: 0.6932 - val_accuracy: 0.4989\n",
      "Epoch 9/10\n",
      "66/66 [==============================] - 3s 47ms/step - loss: 0.6928 - accuracy: 0.4974 - val_loss: 0.6932 - val_accuracy: 0.4989\n",
      "Epoch 10/10\n",
      "66/66 [==============================] - 3s 47ms/step - loss: 0.6936 - accuracy: 0.4688 - val_loss: 0.6932 - val_accuracy: 0.4989\n",
      "INFO:tensorflow:Assets written to: CNNmut.model\\assets\n",
      "[[32, 2, 0.0001, 0.5, 5, 0, 512], [128, 7, 0.0001, 0.4, 2, 1, 128], [128, 7, 0.0001, 0.4, 2, 1, 128], [64, 3, 0.005, 0.0, 6, 0, 256], [256, 5, 0.0005, 0.4, 6, 0, 256], [256, 5, 0.0005, 0.4, 6, 0, 256], [256, 5, 0.0005, 0.4, 6, 0, 256], [64, 3, 0.005, 0.0, 2, 1, 512], [256, 5, 0.0005, 0.4, 6, 0, 256], [64, 3, 0.005, 0.0, 6, 0, 256]]\n",
      "[0.17194522543995405, 0.1992125151458352, 0.1992125151458352, 0.24936567719635602, 0.24946847719828558, 0.2499705819069157, 0.24997077189185454, 0.24998760927129096, 0.24901038349936996, 0.29992338519209405]\n",
      "Generasi Ke  11\n",
      "Parent 1 dan 2  [64, 3, 0.005, 0.0, 6, 0, 256] [256, 5, 0.0005, 0.4, 6, 0, 256]\n",
      "Child 1 dan 2 [64, 3, 0.005, 0.0, 6, 0, 256] [256, 5, 0.0005, 0.4, 6, 0, 256]\n",
      "Mutasi 1 dan 2 [64, 3, 0.005, 0.0, 6, 0, 256] [256, 5, 0.0005, 0.4, 6, 0, 256]\n",
      "Epoch 1/10\n"
     ]
    },
    {
     "name": "stderr",
     "output_type": "stream",
     "text": [
      "D:\\ProgramData\\Anaconda3\\lib\\site-packages\\tensorflow\\python\\client\\session.py:1761: UserWarning: An interactive session is already active. This can cause out-of-memory errors in some cases. You must explicitly call `InteractiveSession.close()` to release resources held by the other session(s).\n",
      "  warnings.warn('An interactive session is already active. This can '\n"
     ]
    },
    {
     "name": "stdout",
     "output_type": "stream",
     "text": [
      "66/66 [==============================] - 4s 49ms/step - loss: 0.6944 - accuracy: 0.4969 - val_loss: 0.6933 - val_accuracy: 0.4989\n",
      "Epoch 2/10\n",
      "66/66 [==============================] - 3s 47ms/step - loss: 0.6917 - accuracy: 0.5324 - val_loss: 0.6932 - val_accuracy: 0.4989\n",
      "Epoch 3/10\n",
      "66/66 [==============================] - 3s 47ms/step - loss: 0.6933 - accuracy: 0.5036 - val_loss: 0.6932 - val_accuracy: 0.4989\n",
      "Epoch 4/10\n",
      "66/66 [==============================] - 3s 47ms/step - loss: 0.6938 - accuracy: 0.4745 - val_loss: 0.6933 - val_accuracy: 0.4989\n",
      "Epoch 5/10\n",
      "66/66 [==============================] - 3s 47ms/step - loss: 0.6935 - accuracy: 0.4980 - val_loss: 0.6932 - val_accuracy: 0.4989\n",
      "Epoch 6/10\n",
      "66/66 [==============================] - 3s 47ms/step - loss: 0.6932 - accuracy: 0.5060 - val_loss: 0.6932 - val_accuracy: 0.4989\n",
      "Epoch 7/10\n",
      "66/66 [==============================] - 3s 47ms/step - loss: 0.6934 - accuracy: 0.4909 - val_loss: 0.6932 - val_accuracy: 0.4989\n",
      "Epoch 8/10\n",
      "66/66 [==============================] - 3s 49ms/step - loss: 0.6933 - accuracy: 0.4959 - val_loss: 0.6932 - val_accuracy: 0.4989\n",
      "Epoch 9/10\n",
      "66/66 [==============================] - 3s 48ms/step - loss: 0.6929 - accuracy: 0.5212 - val_loss: 0.6932 - val_accuracy: 0.4989\n",
      "Epoch 10/10\n",
      "66/66 [==============================] - 3s 46ms/step - loss: 0.6934 - accuracy: 0.4818 - val_loss: 0.6932 - val_accuracy: 0.4989\n",
      "INFO:tensorflow:Assets written to: CNNmut.model\\assets\n",
      "[[32, 2, 0.0001, 0.5, 5, 0, 512], [128, 7, 0.0001, 0.4, 2, 1, 128], [128, 7, 0.0001, 0.4, 2, 1, 128], [256, 5, 0.0005, 0.4, 6, 0, 256], [64, 3, 0.005, 0.0, 6, 0, 256], [256, 5, 0.0005, 0.4, 6, 0, 256], [256, 5, 0.0005, 0.4, 6, 0, 256], [256, 5, 0.0005, 0.4, 6, 0, 256], [256, 5, 0.0005, 0.4, 6, 0, 256], [64, 3, 0.005, 0.0, 6, 0, 256]]\n",
      "[0.17194522543995405, 0.1992125151458352, 0.1992125151458352, 0.24901038349936996, 0.24936567719635602, 0.24946847719828558, 0.2499705819069157, 0.24997077189185454, 0.24998907743741372, 0.29992338519209405]\n",
      "Generasi Ke  12\n",
      "Parent 1 dan 2  [256, 5, 0.0005, 0.4, 6, 0, 256] [64, 3, 0.005, 0.0, 6, 0, 256]\n",
      "Child 1 dan 2 [256, 5, 0.0005, 0.4, 6, 0, 256] [64, 3, 0.005, 0.0, 6, 0, 256]\n",
      "Mutasi 1 dan 2 [256, 5, 0.0005, 0.4, 6, 0, 256] [64, 3, 0.005, 0.0, 6, 0, 256]\n",
      "Epoch 1/10\n"
     ]
    },
    {
     "name": "stderr",
     "output_type": "stream",
     "text": [
      "D:\\ProgramData\\Anaconda3\\lib\\site-packages\\tensorflow\\python\\client\\session.py:1761: UserWarning: An interactive session is already active. This can cause out-of-memory errors in some cases. You must explicitly call `InteractiveSession.close()` to release resources held by the other session(s).\n",
      "  warnings.warn('An interactive session is already active. This can '\n"
     ]
    },
    {
     "name": "stdout",
     "output_type": "stream",
     "text": [
      "66/66 [==============================] - 1s 12ms/step - loss: 0.7452 - accuracy: 0.4990 - val_loss: 0.6934 - val_accuracy: 0.4989\n",
      "Epoch 2/10\n",
      "66/66 [==============================] - 1s 10ms/step - loss: 0.6922 - accuracy: 0.5329 - val_loss: 0.6933 - val_accuracy: 0.4989\n",
      "Epoch 3/10\n",
      "66/66 [==============================] - 1s 11ms/step - loss: 0.6938 - accuracy: 0.4849 - val_loss: 0.6933 - val_accuracy: 0.4989\n",
      "Epoch 4/10\n",
      "66/66 [==============================] - 1s 11ms/step - loss: 0.6945 - accuracy: 0.4760 - val_loss: 0.6936 - val_accuracy: 0.4989\n",
      "Epoch 5/10\n",
      "66/66 [==============================] - 1s 11ms/step - loss: 0.6936 - accuracy: 0.4989 - val_loss: 0.6933 - val_accuracy: 0.4989\n",
      "Epoch 6/10\n",
      "66/66 [==============================] - 1s 10ms/step - loss: 0.6934 - accuracy: 0.5032 - val_loss: 0.6932 - val_accuracy: 0.4989\n",
      "Epoch 7/10\n",
      "66/66 [==============================] - 1s 10ms/step - loss: 0.6933 - accuracy: 0.4826 - val_loss: 0.6932 - val_accuracy: 0.4989\n",
      "Epoch 8/10\n",
      "66/66 [==============================] - 1s 10ms/step - loss: 0.6933 - accuracy: 0.4863 - val_loss: 0.6932 - val_accuracy: 0.4989\n",
      "Epoch 9/10\n",
      "66/66 [==============================] - 1s 10ms/step - loss: 0.6932 - accuracy: 0.4824 - val_loss: 0.6932 - val_accuracy: 0.4989\n",
      "Epoch 10/10\n",
      "66/66 [==============================] - 1s 10ms/step - loss: 0.6935 - accuracy: 0.4734 - val_loss: 0.6932 - val_accuracy: 0.4989\n",
      "INFO:tensorflow:Assets written to: CNNmut.model\\assets\n",
      "[[32, 2, 0.0001, 0.5, 5, 0, 512], [128, 7, 0.0001, 0.4, 2, 1, 128], [128, 7, 0.0001, 0.4, 2, 1, 128], [256, 5, 0.0005, 0.4, 6, 0, 256], [64, 3, 0.005, 0.0, 6, 0, 256], [256, 5, 0.0005, 0.4, 6, 0, 256], [256, 5, 0.0005, 0.4, 6, 0, 256], [256, 5, 0.0005, 0.4, 6, 0, 256], [64, 3, 0.005, 0.0, 6, 0, 256], [256, 5, 0.0005, 0.4, 6, 0, 256]]\n",
      "[0.17194522543995405, 0.1992125151458352, 0.1992125151458352, 0.24901038349936996, 0.24936567719635602, 0.24946847719828558, 0.2499705819069157, 0.24997077189185454, 0.25151836627578456, 0.24998907743741372]\n",
      "Generasi Ke  13\n",
      "Parent 1 dan 2  [256, 5, 0.0005, 0.4, 6, 0, 256] [64, 3, 0.005, 0.0, 6, 0, 256]\n",
      "Child 1 dan 2 [256, 5, 0.0005, 0.4, 6, 0, 256] [64, 3, 0.005, 0.0, 6, 0, 256]\n",
      "Mutasi 1 dan 2 [256, 5, 0.0005, 0.4, 6, 0, 256] [64, 3, 0.005, 0.0, 6, 0, 256]\n",
      "Epoch 1/10\n"
     ]
    },
    {
     "name": "stderr",
     "output_type": "stream",
     "text": [
      "D:\\ProgramData\\Anaconda3\\lib\\site-packages\\tensorflow\\python\\client\\session.py:1761: UserWarning: An interactive session is already active. This can cause out-of-memory errors in some cases. You must explicitly call `InteractiveSession.close()` to release resources held by the other session(s).\n",
      "  warnings.warn('An interactive session is already active. This can '\n"
     ]
    },
    {
     "name": "stdout",
     "output_type": "stream",
     "text": [
      "66/66 [==============================] - 1s 13ms/step - loss: 0.7452 - accuracy: 0.4925 - val_loss: 0.6935 - val_accuracy: 0.4989\n",
      "Epoch 2/10\n",
      "66/66 [==============================] - 1s 10ms/step - loss: 0.6921 - accuracy: 0.5329 - val_loss: 0.6933 - val_accuracy: 0.4989\n",
      "Epoch 3/10\n",
      "66/66 [==============================] - 1s 10ms/step - loss: 0.6938 - accuracy: 0.4849 - val_loss: 0.6933 - val_accuracy: 0.4989\n",
      "Epoch 4/10\n",
      "66/66 [==============================] - 1s 10ms/step - loss: 0.6945 - accuracy: 0.4760 - val_loss: 0.6936 - val_accuracy: 0.4989\n",
      "Epoch 5/10\n",
      "66/66 [==============================] - 1s 10ms/step - loss: 0.6936 - accuracy: 0.4989 - val_loss: 0.6933 - val_accuracy: 0.4989\n",
      "Epoch 6/10\n",
      "66/66 [==============================] - 1s 10ms/step - loss: 0.6934 - accuracy: 0.5032 - val_loss: 0.6932 - val_accuracy: 0.4989\n",
      "Epoch 7/10\n",
      "66/66 [==============================] - 1s 10ms/step - loss: 0.6933 - accuracy: 0.4833 - val_loss: 0.6932 - val_accuracy: 0.4989\n",
      "Epoch 8/10\n",
      "66/66 [==============================] - 1s 10ms/step - loss: 0.6933 - accuracy: 0.4863 - val_loss: 0.6932 - val_accuracy: 0.4989\n",
      "Epoch 9/10\n",
      "66/66 [==============================] - 1s 11ms/step - loss: 0.6932 - accuracy: 0.4824 - val_loss: 0.6932 - val_accuracy: 0.4989\n",
      "Epoch 10/10\n",
      "66/66 [==============================] - 1s 10ms/step - loss: 0.6935 - accuracy: 0.4734 - val_loss: 0.6932 - val_accuracy: 0.4989\n",
      "INFO:tensorflow:Assets written to: CNNmut.model\\assets\n",
      "[[32, 2, 0.0001, 0.5, 5, 0, 512], [128, 7, 0.0001, 0.4, 2, 1, 128], [128, 7, 0.0001, 0.4, 2, 1, 128], [256, 5, 0.0005, 0.4, 6, 0, 256], [64, 3, 0.005, 0.0, 6, 0, 256], [256, 5, 0.0005, 0.4, 6, 0, 256], [256, 5, 0.0005, 0.4, 6, 0, 256], [256, 5, 0.0005, 0.4, 6, 0, 256], [64, 3, 0.005, 0.0, 6, 0, 256], [256, 5, 0.0005, 0.4, 6, 0, 256]]\n",
      "[0.17194522543995405, 0.1992125151458352, 0.1992125151458352, 0.24901038349936996, 0.24936567719635602, 0.24946847719828558, 0.2499705819069157, 0.24997077189185454, 0.2521226648129239, 0.24998907743741372]\n",
      "Generasi Ke  14\n",
      "Parent 1 dan 2  [256, 5, 0.0005, 0.4, 6, 0, 256] [64, 3, 0.005, 0.0, 6, 0, 256]\n",
      "Child 1 dan 2 [256, 5, 0.0005, 0.4, 6, 0, 256] [64, 3, 0.005, 0.0, 6, 0, 256]\n",
      "Mutasi 1 dan 2 [256, 5, 0.0005, 0.4, 6, 0, 256] [64, 3, 0.005, 0.0, 6, 0, 256]\n",
      "Epoch 1/10\n"
     ]
    },
    {
     "name": "stderr",
     "output_type": "stream",
     "text": [
      "D:\\ProgramData\\Anaconda3\\lib\\site-packages\\tensorflow\\python\\client\\session.py:1761: UserWarning: An interactive session is already active. This can cause out-of-memory errors in some cases. You must explicitly call `InteractiveSession.close()` to release resources held by the other session(s).\n",
      "  warnings.warn('An interactive session is already active. This can '\n"
     ]
    },
    {
     "name": "stdout",
     "output_type": "stream",
     "text": [
      "66/66 [==============================] - 1s 13ms/step - loss: 0.7452 - accuracy: 0.4990 - val_loss: 0.6934 - val_accuracy: 0.4989\n",
      "Epoch 2/10\n",
      "66/66 [==============================] - 1s 10ms/step - loss: 0.6922 - accuracy: 0.5329 - val_loss: 0.6933 - val_accuracy: 0.4989\n",
      "Epoch 3/10\n",
      "66/66 [==============================] - 1s 10ms/step - loss: 0.6938 - accuracy: 0.4849 - val_loss: 0.6933 - val_accuracy: 0.4989\n",
      "Epoch 4/10\n",
      "66/66 [==============================] - 1s 10ms/step - loss: 0.6945 - accuracy: 0.4760 - val_loss: 0.6936 - val_accuracy: 0.4989\n",
      "Epoch 5/10\n",
      "66/66 [==============================] - 1s 10ms/step - loss: 0.6936 - accuracy: 0.4989 - val_loss: 0.6933 - val_accuracy: 0.4989\n",
      "Epoch 6/10\n",
      "66/66 [==============================] - 1s 10ms/step - loss: 0.6934 - accuracy: 0.5032 - val_loss: 0.6932 - val_accuracy: 0.4989\n",
      "Epoch 7/10\n",
      "66/66 [==============================] - 1s 10ms/step - loss: 0.6933 - accuracy: 0.4826 - val_loss: 0.6932 - val_accuracy: 0.4989\n",
      "Epoch 8/10\n",
      "66/66 [==============================] - 1s 10ms/step - loss: 0.6933 - accuracy: 0.4863 - val_loss: 0.6932 - val_accuracy: 0.4989\n",
      "Epoch 9/10\n",
      "66/66 [==============================] - 1s 10ms/step - loss: 0.6932 - accuracy: 0.4789 - val_loss: 0.6932 - val_accuracy: 0.4989\n",
      "Epoch 10/10\n",
      "66/66 [==============================] - 1s 10ms/step - loss: 0.6935 - accuracy: 0.4734 - val_loss: 0.6932 - val_accuracy: 0.4989\n",
      "INFO:tensorflow:Assets written to: CNNmut.model\\assets\n",
      "[[32, 2, 0.0001, 0.5, 5, 0, 512], [128, 7, 0.0001, 0.4, 2, 1, 128], [128, 7, 0.0001, 0.4, 2, 1, 128], [256, 5, 0.0005, 0.4, 6, 0, 256], [64, 3, 0.005, 0.0, 6, 0, 256], [256, 5, 0.0005, 0.4, 6, 0, 256], [256, 5, 0.0005, 0.4, 6, 0, 256], [256, 5, 0.0005, 0.4, 6, 0, 256], [64, 3, 0.005, 0.0, 6, 0, 256], [256, 5, 0.0005, 0.4, 6, 0, 256]]\n",
      "[0.17194522543995405, 0.1992125151458352, 0.1992125151458352, 0.24901038349936996, 0.24936567719635602, 0.24946847719828558, 0.2499705819069157, 0.24997077189185454, 0.24958836643424454, 0.24998907743741372]\n",
      "Generasi Ke  15\n",
      "Parent 1 dan 2  [256, 5, 0.0005, 0.4, 6, 0, 256] [64, 3, 0.005, 0.0, 6, 0, 256]\n",
      "Child 1 dan 2 [256, 5, 0.0005, 0.4, 6, 0, 256] [64, 3, 0.005, 0.0, 6, 0, 256]\n",
      "Mutasi 1 dan 2 [256, 5, 0.0005, 0.4, 6, 0, 256] [64, 3, 0.005, 0.0, 6, 0, 256]\n"
     ]
    },
    {
     "name": "stderr",
     "output_type": "stream",
     "text": [
      "D:\\ProgramData\\Anaconda3\\lib\\site-packages\\tensorflow\\python\\client\\session.py:1761: UserWarning: An interactive session is already active. This can cause out-of-memory errors in some cases. You must explicitly call `InteractiveSession.close()` to release resources held by the other session(s).\n",
      "  warnings.warn('An interactive session is already active. This can '\n"
     ]
    },
    {
     "name": "stdout",
     "output_type": "stream",
     "text": [
      "Epoch 1/10\n",
      "66/66 [==============================] - 1s 13ms/step - loss: 0.7452 - accuracy: 0.4925 - val_loss: 0.6935 - val_accuracy: 0.4989\n",
      "Epoch 2/10\n",
      "66/66 [==============================] - 1s 10ms/step - loss: 0.6921 - accuracy: 0.5329 - val_loss: 0.6933 - val_accuracy: 0.4989\n",
      "Epoch 3/10\n",
      "66/66 [==============================] - 1s 10ms/step - loss: 0.6938 - accuracy: 0.4849 - val_loss: 0.6933 - val_accuracy: 0.4989\n",
      "Epoch 4/10\n",
      "66/66 [==============================] - 1s 10ms/step - loss: 0.6945 - accuracy: 0.4760 - val_loss: 0.6936 - val_accuracy: 0.4989\n",
      "Epoch 5/10\n",
      "66/66 [==============================] - 1s 10ms/step - loss: 0.6936 - accuracy: 0.4989 - val_loss: 0.6933 - val_accuracy: 0.4989\n",
      "Epoch 6/10\n",
      "66/66 [==============================] - 1s 10ms/step - loss: 0.6934 - accuracy: 0.5032 - val_loss: 0.6932 - val_accuracy: 0.4989\n",
      "Epoch 7/10\n",
      "66/66 [==============================] - 1s 10ms/step - loss: 0.6933 - accuracy: 0.4833 - val_loss: 0.6932 - val_accuracy: 0.4989\n",
      "Epoch 8/10\n",
      "66/66 [==============================] - 1s 10ms/step - loss: 0.6933 - accuracy: 0.4863 - val_loss: 0.6932 - val_accuracy: 0.4989\n",
      "Epoch 9/10\n",
      "66/66 [==============================] - 1s 10ms/step - loss: 0.6932 - accuracy: 0.4824 - val_loss: 0.6932 - val_accuracy: 0.4989\n",
      "Epoch 10/10\n",
      "66/66 [==============================] - 1s 10ms/step - loss: 0.6935 - accuracy: 0.4734 - val_loss: 0.6932 - val_accuracy: 0.4989\n",
      "INFO:tensorflow:Assets written to: CNNmut.model\\assets\n",
      "[[32, 2, 0.0001, 0.5, 5, 0, 512], [128, 7, 0.0001, 0.4, 2, 1, 128], [128, 7, 0.0001, 0.4, 2, 1, 128], [256, 5, 0.0005, 0.4, 6, 0, 256], [64, 3, 0.005, 0.0, 6, 0, 256], [256, 5, 0.0005, 0.4, 6, 0, 256], [64, 3, 0.005, 0.0, 6, 0, 256], [256, 5, 0.0005, 0.4, 6, 0, 256], [64, 3, 0.005, 0.0, 6, 0, 256], [256, 5, 0.0005, 0.4, 6, 0, 256]]\n",
      "[0.17194522543995405, 0.1992125151458352, 0.1992125151458352, 0.24901038349936996, 0.24936567719635602, 0.24946847719828558, 0.24958836643424454, 0.2499705819069157, 0.24975236741261134, 0.24998907743741372]\n",
      "Generasi Ke  16\n",
      "Parent 1 dan 2  [256, 5, 0.0005, 0.4, 6, 0, 256] [64, 3, 0.005, 0.0, 6, 0, 256]\n",
      "Child 1 dan 2 [256, 5, 0.0005, 0.4, 6, 0, 256] [64, 3, 0.005, 0.0, 6, 0, 256]\n",
      "Mutasi 1 dan 2 [256, 5, 0.0005, 0.4, 6, 0, 256] [64, 3, 0.005, 0.0, 6, 0, 256]\n",
      "Epoch 1/10\n"
     ]
    },
    {
     "name": "stderr",
     "output_type": "stream",
     "text": [
      "D:\\ProgramData\\Anaconda3\\lib\\site-packages\\tensorflow\\python\\client\\session.py:1761: UserWarning: An interactive session is already active. This can cause out-of-memory errors in some cases. You must explicitly call `InteractiveSession.close()` to release resources held by the other session(s).\n",
      "  warnings.warn('An interactive session is already active. This can '\n"
     ]
    },
    {
     "name": "stdout",
     "output_type": "stream",
     "text": [
      "66/66 [==============================] - 1s 13ms/step - loss: 0.7452 - accuracy: 0.4932 - val_loss: 0.6934 - val_accuracy: 0.4989\n",
      "Epoch 2/10\n",
      "66/66 [==============================] - 1s 10ms/step - loss: 0.6923 - accuracy: 0.5329 - val_loss: 0.6933 - val_accuracy: 0.4989\n",
      "Epoch 3/10\n",
      "66/66 [==============================] - 1s 10ms/step - loss: 0.6938 - accuracy: 0.4849 - val_loss: 0.6933 - val_accuracy: 0.4989\n",
      "Epoch 4/10\n",
      "66/66 [==============================] - 1s 10ms/step - loss: 0.6945 - accuracy: 0.4760 - val_loss: 0.6935 - val_accuracy: 0.4989\n",
      "Epoch 5/10\n",
      "66/66 [==============================] - 1s 10ms/step - loss: 0.6936 - accuracy: 0.4989 - val_loss: 0.6933 - val_accuracy: 0.4989\n",
      "Epoch 6/10\n",
      "66/66 [==============================] - 1s 10ms/step - loss: 0.6934 - accuracy: 0.5032 - val_loss: 0.6932 - val_accuracy: 0.4989\n",
      "Epoch 7/10\n",
      "66/66 [==============================] - 1s 10ms/step - loss: 0.6933 - accuracy: 0.4899 - val_loss: 0.6932 - val_accuracy: 0.4989\n",
      "Epoch 8/10\n",
      "66/66 [==============================] - 1s 11ms/step - loss: 0.6933 - accuracy: 0.4863 - val_loss: 0.6932 - val_accuracy: 0.4989\n",
      "Epoch 9/10\n",
      "66/66 [==============================] - 1s 10ms/step - loss: 0.6932 - accuracy: 0.4844 - val_loss: 0.6932 - val_accuracy: 0.4989\n",
      "Epoch 10/10\n",
      "66/66 [==============================] - 1s 10ms/step - loss: 0.6935 - accuracy: 0.4734 - val_loss: 0.6932 - val_accuracy: 0.4989\n",
      "INFO:tensorflow:Assets written to: CNNmut.model\\assets\n",
      "[[32, 2, 0.0001, 0.5, 5, 0, 512], [128, 7, 0.0001, 0.4, 2, 1, 128], [128, 7, 0.0001, 0.4, 2, 1, 128], [256, 5, 0.0005, 0.4, 6, 0, 256], [64, 3, 0.005, 0.0, 6, 0, 256], [256, 5, 0.0005, 0.4, 6, 0, 256], [64, 3, 0.005, 0.0, 6, 0, 256], [64, 3, 0.005, 0.0, 6, 0, 256], [64, 3, 0.005, 0.0, 6, 0, 256], [256, 5, 0.0005, 0.4, 6, 0, 256]]\n",
      "[0.17194522543995405, 0.1992125151458352, 0.1992125151458352, 0.24901038349936996, 0.24936567719635602, 0.24946847719828558, 0.24958836643424454, 0.24975236741261134, 0.24960544613151045, 0.24998907743741372]\n",
      "Generasi Ke  17\n",
      "Parent 1 dan 2  [256, 5, 0.0005, 0.4, 6, 0, 256] [64, 3, 0.005, 0.0, 6, 0, 256]\n",
      "Child 1 dan 2 [256, 5, 0.0005, 0.4, 6, 0, 256] [64, 3, 0.005, 0.0, 6, 0, 256]\n",
      "Mutasi 1 dan 2 [256, 5, 0.0005, 0.4, 6, 0, 256] [64, 3, 0.005, 0.0, 6, 0, 256]\n",
      "Epoch 1/10\n"
     ]
    },
    {
     "name": "stderr",
     "output_type": "stream",
     "text": [
      "D:\\ProgramData\\Anaconda3\\lib\\site-packages\\tensorflow\\python\\client\\session.py:1761: UserWarning: An interactive session is already active. This can cause out-of-memory errors in some cases. You must explicitly call `InteractiveSession.close()` to release resources held by the other session(s).\n",
      "  warnings.warn('An interactive session is already active. This can '\n"
     ]
    },
    {
     "name": "stdout",
     "output_type": "stream",
     "text": [
      "66/66 [==============================] - 1s 12ms/step - loss: 0.7452 - accuracy: 0.4925 - val_loss: 0.6935 - val_accuracy: 0.4989\n",
      "Epoch 2/10\n",
      "66/66 [==============================] - 1s 10ms/step - loss: 0.6921 - accuracy: 0.5329 - val_loss: 0.6933 - val_accuracy: 0.4989\n",
      "Epoch 3/10\n",
      "66/66 [==============================] - 1s 10ms/step - loss: 0.6938 - accuracy: 0.4849 - val_loss: 0.6933 - val_accuracy: 0.4989\n",
      "Epoch 4/10\n",
      "66/66 [==============================] - 1s 10ms/step - loss: 0.6945 - accuracy: 0.4760 - val_loss: 0.6936 - val_accuracy: 0.4989\n",
      "Epoch 5/10\n",
      "66/66 [==============================] - 1s 10ms/step - loss: 0.6936 - accuracy: 0.4989 - val_loss: 0.6933 - val_accuracy: 0.4989\n",
      "Epoch 6/10\n",
      "66/66 [==============================] - 1s 10ms/step - loss: 0.6934 - accuracy: 0.5032 - val_loss: 0.6932 - val_accuracy: 0.4989\n",
      "Epoch 7/10\n",
      "66/66 [==============================] - 1s 10ms/step - loss: 0.6933 - accuracy: 0.4833 - val_loss: 0.6932 - val_accuracy: 0.4989\n",
      "Epoch 8/10\n",
      "66/66 [==============================] - 1s 10ms/step - loss: 0.6933 - accuracy: 0.4863 - val_loss: 0.6932 - val_accuracy: 0.4989\n",
      "Epoch 9/10\n",
      "66/66 [==============================] - 1s 10ms/step - loss: 0.6932 - accuracy: 0.4824 - val_loss: 0.6932 - val_accuracy: 0.4989\n",
      "Epoch 10/10\n",
      "66/66 [==============================] - 1s 11ms/step - loss: 0.6935 - accuracy: 0.4734 - val_loss: 0.6932 - val_accuracy: 0.4989\n",
      "INFO:tensorflow:Assets written to: CNNmut.model\\assets\n",
      "[[32, 2, 0.0001, 0.5, 5, 0, 512], [128, 7, 0.0001, 0.4, 2, 1, 128], [128, 7, 0.0001, 0.4, 2, 1, 128], [256, 5, 0.0005, 0.4, 6, 0, 256], [64, 3, 0.005, 0.0, 6, 0, 256], [256, 5, 0.0005, 0.4, 6, 0, 256], [64, 3, 0.005, 0.0, 6, 0, 256], [64, 3, 0.005, 0.0, 6, 0, 256], [64, 3, 0.005, 0.0, 6, 0, 256], [256, 5, 0.0005, 0.4, 6, 0, 256]]\n",
      "[0.17194522543995405, 0.1992125151458352, 0.1992125151458352, 0.24901038349936996, 0.24936567719635602, 0.24946847719828558, 0.24958836643424454, 0.24960544613151045, 0.24993943750632927, 0.24998907743741372]\n",
      "Generasi Ke  18\n",
      "Parent 1 dan 2  [256, 5, 0.0005, 0.4, 6, 0, 256] [64, 3, 0.005, 0.0, 6, 0, 256]\n",
      "Child 1 dan 2 [256, 5, 0.0005, 0.4, 6, 0, 256] [64, 3, 0.005, 0.0, 6, 0, 256]\n",
      "Mutasi 1 dan 2 [256, 5, 0.0005, 0.4, 6, 0, 256] [64, 3, 0.005, 0.0, 6, 0, 256]\n",
      "Epoch 1/10\n"
     ]
    },
    {
     "name": "stderr",
     "output_type": "stream",
     "text": [
      "D:\\ProgramData\\Anaconda3\\lib\\site-packages\\tensorflow\\python\\client\\session.py:1761: UserWarning: An interactive session is already active. This can cause out-of-memory errors in some cases. You must explicitly call `InteractiveSession.close()` to release resources held by the other session(s).\n",
      "  warnings.warn('An interactive session is already active. This can '\n"
     ]
    },
    {
     "name": "stdout",
     "output_type": "stream",
     "text": [
      "66/66 [==============================] - 1s 13ms/step - loss: 0.7452 - accuracy: 0.4925 - val_loss: 0.6935 - val_accuracy: 0.4989\n",
      "Epoch 2/10\n",
      "66/66 [==============================] - 1s 10ms/step - loss: 0.6921 - accuracy: 0.5329 - val_loss: 0.6933 - val_accuracy: 0.4989\n",
      "Epoch 3/10\n",
      "66/66 [==============================] - 1s 10ms/step - loss: 0.6938 - accuracy: 0.4849 - val_loss: 0.6933 - val_accuracy: 0.4989\n",
      "Epoch 4/10\n",
      "66/66 [==============================] - 1s 10ms/step - loss: 0.6945 - accuracy: 0.4760 - val_loss: 0.6936 - val_accuracy: 0.4989\n",
      "Epoch 5/10\n",
      "66/66 [==============================] - 1s 10ms/step - loss: 0.6936 - accuracy: 0.4989 - val_loss: 0.6933 - val_accuracy: 0.4989\n",
      "Epoch 6/10\n",
      "66/66 [==============================] - 1s 10ms/step - loss: 0.6934 - accuracy: 0.5032 - val_loss: 0.6932 - val_accuracy: 0.4989\n",
      "Epoch 7/10\n",
      "66/66 [==============================] - 1s 10ms/step - loss: 0.6933 - accuracy: 0.4833 - val_loss: 0.6932 - val_accuracy: 0.4989\n",
      "Epoch 8/10\n",
      "66/66 [==============================] - 1s 10ms/step - loss: 0.6933 - accuracy: 0.4863 - val_loss: 0.6932 - val_accuracy: 0.4989\n",
      "Epoch 9/10\n",
      "66/66 [==============================] - 1s 10ms/step - loss: 0.6932 - accuracy: 0.4824 - val_loss: 0.6932 - val_accuracy: 0.4989\n",
      "Epoch 10/10\n",
      "66/66 [==============================] - 1s 11ms/step - loss: 0.6935 - accuracy: 0.4734 - val_loss: 0.6932 - val_accuracy: 0.4989\n",
      "INFO:tensorflow:Assets written to: CNNmut.model\\assets\n",
      "[[32, 2, 0.0001, 0.5, 5, 0, 512], [128, 7, 0.0001, 0.4, 2, 1, 128], [128, 7, 0.0001, 0.4, 2, 1, 128], [256, 5, 0.0005, 0.4, 6, 0, 256], [64, 3, 0.005, 0.0, 6, 0, 256], [256, 5, 0.0005, 0.4, 6, 0, 256], [64, 3, 0.005, 0.0, 6, 0, 256], [64, 3, 0.005, 0.0, 6, 0, 256], [64, 3, 0.005, 0.0, 6, 0, 256], [256, 5, 0.0005, 0.4, 6, 0, 256]]\n",
      "[0.17194522543995405, 0.1992125151458352, 0.1992125151458352, 0.24901038349936996, 0.24936567719635602, 0.24946847719828558, 0.24958836643424454, 0.24960544613151045, 0.24987613851642615, 0.24998907743741372]\n",
      "Generasi Ke  19\n",
      "Parent 1 dan 2  [256, 5, 0.0005, 0.4, 6, 0, 256] [64, 3, 0.005, 0.0, 6, 0, 256]\n",
      "Child 1 dan 2 [256, 5, 0.0005, 0.4, 6, 0, 256] [64, 3, 0.005, 0.0, 6, 0, 256]\n",
      "Mutasi 1 dan 2 [256, 5, 0.0005, 0.4, 6, 0, 256] [64, 3, 0.005, 0.0, 6, 0, 256]\n",
      "Epoch 1/10\n"
     ]
    },
    {
     "name": "stderr",
     "output_type": "stream",
     "text": [
      "D:\\ProgramData\\Anaconda3\\lib\\site-packages\\tensorflow\\python\\client\\session.py:1761: UserWarning: An interactive session is already active. This can cause out-of-memory errors in some cases. You must explicitly call `InteractiveSession.close()` to release resources held by the other session(s).\n",
      "  warnings.warn('An interactive session is already active. This can '\n"
     ]
    },
    {
     "name": "stdout",
     "output_type": "stream",
     "text": [
      "66/66 [==============================] - 1s 13ms/step - loss: 0.7452 - accuracy: 0.4925 - val_loss: 0.6935 - val_accuracy: 0.4989\n",
      "Epoch 2/10\n",
      "66/66 [==============================] - 1s 10ms/step - loss: 0.6921 - accuracy: 0.5329 - val_loss: 0.6933 - val_accuracy: 0.4989\n",
      "Epoch 3/10\n",
      "66/66 [==============================] - 1s 10ms/step - loss: 0.6938 - accuracy: 0.4849 - val_loss: 0.6933 - val_accuracy: 0.4989\n",
      "Epoch 4/10\n",
      "66/66 [==============================] - 1s 10ms/step - loss: 0.6945 - accuracy: 0.4760 - val_loss: 0.6936 - val_accuracy: 0.4989\n",
      "Epoch 5/10\n",
      "66/66 [==============================] - 1s 10ms/step - loss: 0.6936 - accuracy: 0.4989 - val_loss: 0.6933 - val_accuracy: 0.4989\n",
      "Epoch 6/10\n",
      "66/66 [==============================] - 1s 10ms/step - loss: 0.6934 - accuracy: 0.5032 - val_loss: 0.6932 - val_accuracy: 0.4989\n",
      "Epoch 7/10\n",
      "66/66 [==============================] - 1s 10ms/step - loss: 0.6933 - accuracy: 0.4833 - val_loss: 0.6932 - val_accuracy: 0.4989\n",
      "Epoch 8/10\n",
      "66/66 [==============================] - ETA: 0s - loss: 0.6933 - accuracy: 0.48 - 1s 10ms/step - loss: 0.6933 - accuracy: 0.4863 - val_loss: 0.6932 - val_accuracy: 0.4989\n",
      "Epoch 9/10\n",
      "66/66 [==============================] - 1s 10ms/step - loss: 0.6932 - accuracy: 0.4897 - val_loss: 0.6932 - val_accuracy: 0.4989\n",
      "Epoch 10/10\n",
      "66/66 [==============================] - 1s 10ms/step - loss: 0.6935 - accuracy: 0.4734 - val_loss: 0.6932 - val_accuracy: 0.4989\n",
      "INFO:tensorflow:Assets written to: CNNmut.model\\assets\n",
      "[[32, 2, 0.0001, 0.5, 5, 0, 512], [128, 7, 0.0001, 0.4, 2, 1, 128], [128, 7, 0.0001, 0.4, 2, 1, 128], [256, 5, 0.0005, 0.4, 6, 0, 256], [64, 3, 0.005, 0.0, 6, 0, 256], [256, 5, 0.0005, 0.4, 6, 0, 256], [64, 3, 0.005, 0.0, 6, 0, 256], [64, 3, 0.005, 0.0, 6, 0, 256], [64, 3, 0.005, 0.0, 6, 0, 256], [256, 5, 0.0005, 0.4, 6, 0, 256]]\n",
      "[0.17194522543995405, 0.1992125151458352, 0.1992125151458352, 0.24901038349936996, 0.24936567719635602, 0.24946847719828558, 0.24958836643424454, 0.24960544613151045, 0.24863232198881677, 0.24998907743741372]\n",
      "Generasi Ke  20\n",
      "Parent 1 dan 2  [256, 5, 0.0005, 0.4, 6, 0, 256] [64, 3, 0.005, 0.0, 6, 0, 256]\n",
      "Child 1 dan 2 [256, 5, 0.0005, 0.4, 6, 0, 256] [64, 3, 0.005, 0.0, 6, 0, 256]\n",
      "Mutasi 1 dan 2 [256, 5, 0.0005, 0.4, 6, 0, 256] [64, 3, 0.005, 0.0, 6, 0, 256]\n",
      "Epoch 1/10\n"
     ]
    },
    {
     "name": "stderr",
     "output_type": "stream",
     "text": [
      "D:\\ProgramData\\Anaconda3\\lib\\site-packages\\tensorflow\\python\\client\\session.py:1761: UserWarning: An interactive session is already active. This can cause out-of-memory errors in some cases. You must explicitly call `InteractiveSession.close()` to release resources held by the other session(s).\n",
      "  warnings.warn('An interactive session is already active. This can '\n"
     ]
    },
    {
     "name": "stdout",
     "output_type": "stream",
     "text": [
      "66/66 [==============================] - 1s 13ms/step - loss: 0.7452 - accuracy: 0.4925 - val_loss: 0.6935 - val_accuracy: 0.4989\n",
      "Epoch 2/10\n",
      "66/66 [==============================] - 1s 10ms/step - loss: 0.6921 - accuracy: 0.5329 - val_loss: 0.6933 - val_accuracy: 0.4989\n",
      "Epoch 3/10\n",
      "66/66 [==============================] - 1s 11ms/step - loss: 0.6937 - accuracy: 0.4823 - val_loss: 0.6933 - val_accuracy: 0.4989\n",
      "Epoch 4/10\n",
      "66/66 [==============================] - 1s 10ms/step - loss: 0.6945 - accuracy: 0.4760 - val_loss: 0.6935 - val_accuracy: 0.4989\n",
      "Epoch 5/10\n",
      "66/66 [==============================] - 1s 11ms/step - loss: 0.6936 - accuracy: 0.4989 - val_loss: 0.6933 - val_accuracy: 0.4989\n",
      "Epoch 6/10\n",
      "66/66 [==============================] - 1s 10ms/step - loss: 0.6934 - accuracy: 0.5032 - val_loss: 0.6932 - val_accuracy: 0.4989\n",
      "Epoch 7/10\n",
      "66/66 [==============================] - 1s 10ms/step - loss: 0.6933 - accuracy: 0.4826 - val_loss: 0.6932 - val_accuracy: 0.4989\n",
      "Epoch 8/10\n",
      "66/66 [==============================] - 1s 10ms/step - loss: 0.6933 - accuracy: 0.4863 - val_loss: 0.6932 - val_accuracy: 0.4989\n",
      "Epoch 9/10\n",
      "66/66 [==============================] - 1s 10ms/step - loss: 0.6932 - accuracy: 0.4824 - val_loss: 0.6932 - val_accuracy: 0.4989\n",
      "Epoch 10/10\n",
      "66/66 [==============================] - 1s 10ms/step - loss: 0.6935 - accuracy: 0.4734 - val_loss: 0.6932 - val_accuracy: 0.4989\n",
      "INFO:tensorflow:Assets written to: CNNmut.model\\assets\n",
      "[[32, 2, 0.0001, 0.5, 5, 0, 512], [128, 7, 0.0001, 0.4, 2, 1, 128], [128, 7, 0.0001, 0.4, 2, 1, 128], [64, 3, 0.005, 0.0, 6, 0, 256], [256, 5, 0.0005, 0.4, 6, 0, 256], [64, 3, 0.005, 0.0, 6, 0, 256], [256, 5, 0.0005, 0.4, 6, 0, 256], [64, 3, 0.005, 0.0, 6, 0, 256], [64, 3, 0.005, 0.0, 6, 0, 256], [256, 5, 0.0005, 0.4, 6, 0, 256]]\n",
      "[0.17194522543995405, 0.1992125151458352, 0.1992125151458352, 0.24863232198881677, 0.24901038349936996, 0.24936567719635602, 0.24946847719828558, 0.24958836643424454, 0.25807137982305084, 0.24998907743741372]\n"
     ]
    }
   ],
   "source": [
    "feat,besteverygen = featSelection.fit(Xtrain,ytrain)"
   ]
  },
  {
   "cell_type": "code",
   "execution_count": 6,
   "metadata": {},
   "outputs": [
    {
     "data": {
      "text/plain": [
       "[32, 2, 0.0001, 0.5, 5, 0, 512]"
      ]
     },
     "execution_count": 6,
     "metadata": {},
     "output_type": "execute_result"
    }
   ],
   "source": [
    "feat"
   ]
  },
  {
   "cell_type": "code",
   "execution_count": 7,
   "metadata": {},
   "outputs": [
    {
     "data": {
      "text/plain": [
       "['Generasi 0',\n",
       " [32, 2, 0.0001, 0.5, 5, 0, 512],\n",
       " 0.17194522543995405,\n",
       " [32, 2, 0.0001, 0.5, 5, 0, 512],\n",
       " 0.17194522543995405,\n",
       " [32, 2, 0.0001, 0.5, 5, 0, 512],\n",
       " 0.17194522543995405,\n",
       " [32, 2, 0.0001, 0.5, 5, 0, 512],\n",
       " 0.17194522543995405,\n",
       " [32, 2, 0.0001, 0.5, 5, 0, 512],\n",
       " 0.17194522543995405,\n",
       " [32, 2, 0.0001, 0.5, 5, 0, 512],\n",
       " 0.17194522543995405,\n",
       " [32, 2, 0.0001, 0.5, 5, 0, 512],\n",
       " 0.17194522543995405,\n",
       " [32, 2, 0.0001, 0.5, 5, 0, 512],\n",
       " 0.17194522543995405,\n",
       " [32, 2, 0.0001, 0.5, 5, 0, 512],\n",
       " 0.17194522543995405,\n",
       " [32, 2, 0.0001, 0.5, 5, 0, 512],\n",
       " 0.17194522543995405,\n",
       " [32, 2, 0.0001, 0.5, 5, 0, 512],\n",
       " 0.17194522543995405,\n",
       " [32, 2, 0.0001, 0.5, 5, 0, 512],\n",
       " 0.17194522543995405,\n",
       " [32, 2, 0.0001, 0.5, 5, 0, 512],\n",
       " 0.17194522543995405,\n",
       " [32, 2, 0.0001, 0.5, 5, 0, 512],\n",
       " 0.17194522543995405,\n",
       " [32, 2, 0.0001, 0.5, 5, 0, 512],\n",
       " 0.17194522543995405,\n",
       " [32, 2, 0.0001, 0.5, 5, 0, 512],\n",
       " 0.17194522543995405,\n",
       " [32, 2, 0.0001, 0.5, 5, 0, 512],\n",
       " 0.17194522543995405,\n",
       " [32, 2, 0.0001, 0.5, 5, 0, 512],\n",
       " 0.17194522543995405,\n",
       " [32, 2, 0.0001, 0.5, 5, 0, 512],\n",
       " 0.17194522543995405,\n",
       " [32, 2, 0.0001, 0.5, 5, 0, 512],\n",
       " 0.17194522543995405,\n",
       " [32, 2, 0.0001, 0.5, 5, 0, 512],\n",
       " 0.17194522543995405]"
      ]
     },
     "execution_count": 7,
     "metadata": {},
     "output_type": "execute_result"
    }
   ],
   "source": [
    "besteverygen"
   ]
  },
  {
   "cell_type": "markdown",
   "metadata": {},
   "source": [
    "# CNN"
   ]
  },
  {
   "cell_type": "code",
   "execution_count": 8,
   "metadata": {},
   "outputs": [
    {
     "name": "stdout",
     "output_type": "stream",
     "text": [
      "Epoch 1/10\n",
      "66/66 [==============================] - 255s 57ms/step - loss: 0.6932 - accuracy: 0.5081 - val_loss: 0.6925 - val_accuracy: 0.5302\n",
      "Epoch 2/10\n",
      "66/66 [==============================] - 0s 6ms/step - loss: 0.6919 - accuracy: 0.5341 - val_loss: 0.6910 - val_accuracy: 0.6689\n",
      "Epoch 3/10\n",
      "66/66 [==============================] - 0s 5ms/step - loss: 0.6904 - accuracy: 0.6207 - val_loss: 0.6889 - val_accuracy: 0.5660\n",
      "Epoch 4/10\n",
      "66/66 [==============================] - 0s 5ms/step - loss: 0.6894 - accuracy: 0.5339 - val_loss: 0.6835 - val_accuracy: 0.6711\n",
      "Epoch 5/10\n",
      "66/66 [==============================] - 0s 5ms/step - loss: 0.6822 - accuracy: 0.6410 - val_loss: 0.6735 - val_accuracy: 0.6577\n",
      "Epoch 6/10\n",
      "66/66 [==============================] - 0s 6ms/step - loss: 0.6691 - accuracy: 0.6338 - val_loss: 0.6596 - val_accuracy: 0.6779\n",
      "Epoch 7/10\n",
      "66/66 [==============================] - 0s 6ms/step - loss: 0.6572 - accuracy: 0.6558 - val_loss: 0.6384 - val_accuracy: 0.6846\n",
      "Epoch 8/10\n",
      "66/66 [==============================] - 0s 5ms/step - loss: 0.6266 - accuracy: 0.6739 - val_loss: 0.6169 - val_accuracy: 0.6957\n",
      "Epoch 9/10\n",
      "66/66 [==============================] - 0s 6ms/step - loss: 0.6094 - accuracy: 0.6758 - val_loss: 0.5980 - val_accuracy: 0.7002\n",
      "Epoch 10/10\n",
      "66/66 [==============================] - 0s 5ms/step - loss: 0.5775 - accuracy: 0.7025 - val_loss: 0.5683 - val_accuracy: 0.7226\n",
      "INFO:tensorflow:Assets written to: CNNP3.model\\assets\n"
     ]
    }
   ],
   "source": [
    "            pop = feat\n",
    "            f = pop[0]\n",
    "            k = pop[1]\n",
    "            learning = pop[2]\n",
    "            dropout = pop[3]\n",
    "            layer = pop[4]\n",
    "            pool = pop[5]\n",
    "            node = pop[6]\n",
    "            \n",
    "            model = Sequential()\n",
    "            gpu_options = tf.compat.v1.GPUOptions(per_process_gpu_memory_fraction=0.050)\n",
    "\n",
    "            config = ConfigProto()\n",
    "            config.gpu_options.per_process_gpu_memory_fraction = 0.050\n",
    "            session = InteractiveSession(config=config)\n",
    "\n",
    "            seed(0)\n",
    "            tf.random.set_seed(0)\n",
    "            if (pool == 0) :\n",
    "                model.add(Conv2D(f, (k, k), input_shape=Xtrain.shape[1:]))\n",
    "                model.add(Activation('relu'))\n",
    "                model.add(MaxPooling2D(pool_size=(2, 2)))\n",
    "\n",
    "                for i in range(layer-1):\n",
    "                    model.add(Conv2D(f, (k,k),padding='same'))\n",
    "                    model.add(Activation('relu'))\n",
    "                    model.add(MaxPooling2D(pool_size=(2, 2)))\n",
    "\n",
    "                model.add(Flatten())\n",
    "                \n",
    "                model.add(Dense(node))\n",
    "                model.add(Activation('relu'))\n",
    "                model.add(Dropout(dropout))\n",
    "\n",
    "                model.add(Dense(1))\n",
    "                model.add(Activation('sigmoid'))\n",
    "\n",
    "                model.compile(loss='binary_crossentropy',optimizer=keras.optimizers.Adam(learning_rate=learning),metrics=['accuracy'])\n",
    "            \n",
    "                model1 = model.fit(Xtrain, ytrain ,batch_size=16,epochs=10,validation_split=0.3)\n",
    "                model.save('CNNP3.model')\n",
    "\n",
    "            else :\n",
    "                model.add(Conv2D(f,(k,k), input_shape=Xtrain.shape[1:]))\n",
    "                model.add(Activation('relu'))\n",
    "                model.add(AveragePooling2D(pool_size=(2, 2)))\n",
    "\n",
    "                for i in range(layer-1):\n",
    "                    model.add(Conv2D(f, (k,k),padding='same'))\n",
    "                    model.add(Activation('relu'))\n",
    "                    model.add(AveragePooling2D(pool_size=(2, 2)))\n",
    "\n",
    "                model.add(Flatten())\n",
    "                \n",
    "                model.add(Dense(node))\n",
    "                model.add(Activation('relu'))\n",
    "                model.add(Dropout(dropout))\n",
    "\n",
    "                model.add(Dense(1))\n",
    "                model.add(Activation('sigmoid'))\n",
    "\n",
    "                model.compile(loss='binary_crossentropy',optimizer=keras.optimizers.Adam(learning_rate=learning),metrics=['accuracy'])\n",
    "             \n",
    "                model1 = model.fit(Xtrain, ytrain,batch_size=16,epochs=10,validation_split=0.3)\n",
    "                model.save('CNNP3.model')"
   ]
  },
  {
   "cell_type": "code",
   "execution_count": 9,
   "metadata": {},
   "outputs": [
    {
     "data": {
      "image/png": "[encoded data removed]",
      "text/plain": [
       "<Figure size 1080x720 with 1 Axes>"
      ]
     },
     "metadata": {
      "needs_background": "light"
     },
     "output_type": "display_data"
    }
   ],
   "source": [
    "import matplotlib.pyplot as plt\n",
    "#Loss Visualization for data training and validation\n",
    "\n",
    "plt.figure(figsize=(15,10))\n",
    "plt.plot(model1.history['loss'])\n",
    "plt.plot(model1.history['val_loss'])\n",
    "plt.title('Model Performance')\n",
    "plt.xlabel('Epoch')\n",
    "plt.ylabel('Loss')\n",
    "plt.legend(['Train','Validation'], loc='upper right')\n",
    "plt.show()"
   ]
  },
  {
   "cell_type": "code",
   "execution_count": 10,
   "metadata": {},
   "outputs": [],
   "source": [
    "model = tf.keras.models.load_model(\"CNNP3.model\")"
   ]
  },
  {
   "cell_type": "markdown",
   "metadata": {},
   "source": [
    "# Data Latih"
   ]
  },
  {
   "cell_type": "code",
   "execution_count": 11,
   "metadata": {},
   "outputs": [
    {
     "data": {
      "text/plain": [
       "0.71505374"
      ]
     },
     "execution_count": 11,
     "metadata": {},
     "output_type": "execute_result"
    }
   ],
   "source": [
    "prediction = model.predict(Xtrain2)\n",
    "m = tf.keras.metrics.BinaryAccuracy()\n",
    "m.update_state(ytrain2,prediction, sample_weight=None)\n",
    "m.result().numpy()"
   ]
  },
  {
   "cell_type": "code",
   "execution_count": 12,
   "metadata": {},
   "outputs": [
    {
     "data": {
      "text/plain": [
       "0.7219858"
      ]
     },
     "execution_count": 12,
     "metadata": {},
     "output_type": "execute_result"
    }
   ],
   "source": [
    "m = tf.keras.metrics.Precision()\n",
    "m.update_state(ytrain2,prediction, sample_weight=None)\n",
    "m.result().numpy()"
   ]
  },
  {
   "cell_type": "code",
   "execution_count": 13,
   "metadata": {},
   "outputs": [
    {
     "data": {
      "text/plain": [
       "0.6906377"
      ]
     },
     "execution_count": 13,
     "metadata": {},
     "output_type": "execute_result"
    }
   ],
   "source": [
    "m = tf.keras.metrics.Recall()\n",
    "m.update_state(ytrain2,prediction, sample_weight=None)\n",
    "m.result().numpy()"
   ]
  },
  {
   "cell_type": "code",
   "execution_count": 14,
   "metadata": {},
   "outputs": [
    {
     "data": {
      "text/plain": [
       "228.0"
      ]
     },
     "execution_count": 14,
     "metadata": {},
     "output_type": "execute_result"
    }
   ],
   "source": [
    "m = tf.keras.metrics.FalseNegatives()\n",
    "m.update_state(ytrain2,prediction, sample_weight=None)\n",
    "m.result().numpy()"
   ]
  },
  {
   "cell_type": "code",
   "execution_count": 15,
   "metadata": {},
   "outputs": [
    {
     "data": {
      "text/plain": [
       "196.0"
      ]
     },
     "execution_count": 15,
     "metadata": {},
     "output_type": "execute_result"
    }
   ],
   "source": [
    "m = tf.keras.metrics.FalsePositives()\n",
    "m.update_state(ytrain2,prediction, sample_weight=None)\n",
    "m.result().numpy()"
   ]
  },
  {
   "cell_type": "code",
   "execution_count": 16,
   "metadata": {},
   "outputs": [
    {
     "data": {
      "text/plain": [
       "555.0"
      ]
     },
     "execution_count": 16,
     "metadata": {},
     "output_type": "execute_result"
    }
   ],
   "source": [
    "m = tf.keras.metrics.TrueNegatives()\n",
    "m.update_state(ytrain2,prediction, sample_weight=None)\n",
    "m.result().numpy()"
   ]
  },
  {
   "cell_type": "code",
   "execution_count": 17,
   "metadata": {},
   "outputs": [
    {
     "data": {
      "text/plain": [
       "509.0"
      ]
     },
     "execution_count": 17,
     "metadata": {},
     "output_type": "execute_result"
    }
   ],
   "source": [
    "m = tf.keras.metrics.TruePositives()\n",
    "m.update_state(ytrain2,prediction, sample_weight=None)\n",
    "m.result().numpy()"
   ]
  },
  {
   "cell_type": "markdown",
   "metadata": {},
   "source": [
    "# Data Validasi"
   ]
  },
  {
   "cell_type": "code",
   "execution_count": 18,
   "metadata": {},
   "outputs": [
    {
     "data": {
      "text/plain": [
       "0.829582"
      ]
     },
     "execution_count": 18,
     "metadata": {},
     "output_type": "execute_result"
    }
   ],
   "source": [
    "prediction = model.predict(Xval)\n",
    "m = tf.keras.metrics.BinaryAccuracy()\n",
    "m.update_state(yval,prediction, sample_weight=None)\n",
    "m.result().numpy()"
   ]
  },
  {
   "cell_type": "code",
   "execution_count": 19,
   "metadata": {},
   "outputs": [
    {
     "data": {
      "text/plain": [
       "0.8976378"
      ]
     },
     "execution_count": 19,
     "metadata": {},
     "output_type": "execute_result"
    }
   ],
   "source": [
    "m = tf.keras.metrics.Precision()\n",
    "m.update_state(yval,prediction, sample_weight=None)\n",
    "m.result().numpy()"
   ]
  },
  {
   "cell_type": "code",
   "execution_count": 20,
   "metadata": {},
   "outputs": [
    {
     "data": {
      "text/plain": [
       "0.74025977"
      ]
     },
     "execution_count": 20,
     "metadata": {},
     "output_type": "execute_result"
    }
   ],
   "source": [
    "m = tf.keras.metrics.Recall()\n",
    "m.update_state(yval,prediction, sample_weight=None)\n",
    "m.result().numpy()"
   ]
  },
  {
   "cell_type": "code",
   "execution_count": 21,
   "metadata": {},
   "outputs": [
    {
     "data": {
      "text/plain": [
       "80.0"
      ]
     },
     "execution_count": 21,
     "metadata": {},
     "output_type": "execute_result"
    }
   ],
   "source": [
    "m = tf.keras.metrics.FalseNegatives()\n",
    "m.update_state(yval,prediction, sample_weight=None)\n",
    "m.result().numpy()"
   ]
  },
  {
   "cell_type": "code",
   "execution_count": 22,
   "metadata": {},
   "outputs": [
    {
     "data": {
      "text/plain": [
       "26.0"
      ]
     },
     "execution_count": 22,
     "metadata": {},
     "output_type": "execute_result"
    }
   ],
   "source": [
    "m = tf.keras.metrics.FalsePositives()\n",
    "m.update_state(yval,prediction, sample_weight=None)\n",
    "m.result().numpy()"
   ]
  },
  {
   "cell_type": "code",
   "execution_count": 23,
   "metadata": {},
   "outputs": [
    {
     "data": {
      "text/plain": [
       "288.0"
      ]
     },
     "execution_count": 23,
     "metadata": {},
     "output_type": "execute_result"
    }
   ],
   "source": [
    "m = tf.keras.metrics.TrueNegatives()\n",
    "m.update_state(yval,prediction, sample_weight=None)\n",
    "m.result().numpy()"
   ]
  },
  {
   "cell_type": "code",
   "execution_count": 24,
   "metadata": {},
   "outputs": [
    {
     "data": {
      "text/plain": [
       "228.0"
      ]
     },
     "execution_count": 24,
     "metadata": {},
     "output_type": "execute_result"
    }
   ],
   "source": [
    "m = tf.keras.metrics.TruePositives()\n",
    "m.update_state(yval,prediction, sample_weight=None)\n",
    "m.result().numpy()"
   ]
  },
  {
   "cell_type": "markdown",
   "metadata": {},
   "source": [
    "# Data Uji"
   ]
  },
  {
   "cell_type": "code",
   "execution_count": 25,
   "metadata": {},
   "outputs": [
    {
     "data": {
      "text/plain": [
       "0.7358491"
      ]
     },
     "execution_count": 25,
     "metadata": {},
     "output_type": "execute_result"
    }
   ],
   "source": [
    "prediction = model.predict(Xtest)\n",
    "m = tf.keras.metrics.BinaryAccuracy()\n",
    "m.update_state(ytest,prediction, sample_weight=None)\n",
    "m.result().numpy()"
   ]
  },
  {
   "cell_type": "code",
   "execution_count": 26,
   "metadata": {},
   "outputs": [
    {
     "data": {
      "text/plain": [
       "0.76875"
      ]
     },
     "execution_count": 26,
     "metadata": {},
     "output_type": "execute_result"
    }
   ],
   "source": [
    "m = tf.keras.metrics.Precision()\n",
    "m.update_state(ytest,prediction, sample_weight=None)\n",
    "m.result().numpy()"
   ]
  },
  {
   "cell_type": "code",
   "execution_count": 27,
   "metadata": {},
   "outputs": [
    {
     "data": {
      "text/plain": [
       "0.66847825"
      ]
     },
     "execution_count": 27,
     "metadata": {},
     "output_type": "execute_result"
    }
   ],
   "source": [
    "m = tf.keras.metrics.Recall()\n",
    "m.update_state(ytest,prediction, sample_weight=None)\n",
    "m.result().numpy()"
   ]
  },
  {
   "cell_type": "code",
   "execution_count": 28,
   "metadata": {},
   "outputs": [
    {
     "data": {
      "text/plain": [
       "61.0"
      ]
     },
     "execution_count": 28,
     "metadata": {},
     "output_type": "execute_result"
    }
   ],
   "source": [
    "m = tf.keras.metrics.FalseNegatives()\n",
    "m.update_state(ytest,prediction, sample_weight=None)\n",
    "m.result().numpy()"
   ]
  },
  {
   "cell_type": "code",
   "execution_count": 29,
   "metadata": {},
   "outputs": [
    {
     "data": {
      "text/plain": [
       "37.0"
      ]
     },
     "execution_count": 29,
     "metadata": {},
     "output_type": "execute_result"
    }
   ],
   "source": [
    "m = tf.keras.metrics.FalsePositives()\n",
    "m.update_state(ytest,prediction, sample_weight=None)\n",
    "m.result().numpy()"
   ]
  },
  {
   "cell_type": "code",
   "execution_count": 30,
   "metadata": {},
   "outputs": [
    {
     "data": {
      "text/plain": [
       "150.0"
      ]
     },
     "execution_count": 30,
     "metadata": {},
     "output_type": "execute_result"
    }
   ],
   "source": [
    "m = tf.keras.metrics.TrueNegatives()\n",
    "m.update_state(ytest,prediction, sample_weight=None)\n",
    "m.result().numpy()"
   ]
  },
  {
   "cell_type": "code",
   "execution_count": 31,
   "metadata": {},
   "outputs": [
    {
     "data": {
      "text/plain": [
       "123.0"
      ]
     },
     "execution_count": 31,
     "metadata": {},
     "output_type": "execute_result"
    }
   ],
   "source": [
    "m = tf.keras.metrics.TruePositives()\n",
    "m.update_state(ytest,prediction, sample_weight=None)\n",
    "m.result().numpy()"
   ]
  },
  {
   "cell_type": "code",
   "execution_count": null,
   "metadata": {},
   "outputs": [],
   "source": []
  }
 ],
 "metadata": {
  "kernelspec": {
   "display_name": "Python 3",
   "language": "python",
   "name": "python3"
  },
  "language_info": {
   "codemirror_mode": {
    "name": "ipython",
    "version": 3
   },
   "file_extension": ".py",
   "mimetype": "text/x-python",
   "name": "python",
   "nbconvert_exporter": "python",
   "pygments_lexer": "ipython3",
   "version": "3.8.5"
  }
 },
 "nbformat": 4,
 "nbformat_minor": 4
}
