{
 "cells": [
  {
   "cell_type": "code",
   "execution_count": 1,
   "metadata": {},
   "outputs": [],
   "source": [
    "from sklearn.metrics import mean_squared_error\n",
    "import tensorflow as tf\n",
    "from tensorflow.keras.preprocessing.image import ImageDataGenerator\n",
    "from tensorflow.keras.models import Sequential\n",
    "from tensorflow.keras.layers import Dense, Dropout, Activation, Flatten\n",
    "from tensorflow.keras.layers import Conv2D, MaxPooling2D,AveragePooling2D\n",
    "import numpy as np\n",
    "import pickle\n",
    "import random\n",
    "from numpy.random import seed\n",
    "import time\n",
    "from tensorflow.keras.callbacks import TensorBoard\n",
    "from tensorflow.keras.callbacks import EarlyStopping\n",
    "from tensorflow import keras\n",
    "from tensorflow.compat.v1 import ConfigProto\n",
    "from tensorflow.compat.v1 import InteractiveSession\n",
    "import pandas as pd\n",
    "from secrets import randbelow"
   ]
  },
  {
   "cell_type": "code",
   "execution_count": 2,
   "metadata": {},
   "outputs": [],
   "source": [
    "pickle_in = open(\"Xtrain96.pickle\",\"rb\")\n",
    "Xtrain = pickle.load(pickle_in)\n",
    "\n",
    "pickle_in = open(\"ytrain96.pickle\",\"rb\")\n",
    "ytrain = pickle.load(pickle_in)\n",
    "\n",
    "Xtrain=np.array(Xtrain/255.0)\n",
    "ytrain=np.array(ytrain)\n",
    "\n",
    "pickle_in = open(\"Xval96.pickle\",\"rb\")\n",
    "Xval = pickle.load(pickle_in)\n",
    "\n",
    "pickle_in = open(\"yval96.pickle\",\"rb\")\n",
    "yval = pickle.load(pickle_in)\n",
    "\n",
    "pickle_in = open(\"XTest96.pickle\",\"rb\")\n",
    "Xtest = pickle.load(pickle_in)\n",
    "\n",
    "pickle_in = open(\"ytest96.pickle\",\"rb\")\n",
    "ytest = pickle.load(pickle_in)\n",
    "\n",
    "pickle_in = open(\"Xtrain96.pickle\",\"rb\")\n",
    "Xtrain2 = pickle.load(pickle_in)\n",
    "\n",
    "pickle_in = open(\"ytrain96.pickle\",\"rb\")\n",
    "ytrain2 = pickle.load(pickle_in)"
   ]
  },
  {
   "cell_type": "markdown",
   "metadata": {},
   "source": [
    "# Genetic Algorithm"
   ]
  },
  {
   "cell_type": "code",
   "execution_count": 3,
   "metadata": {},
   "outputs": [],
   "source": [
    "class GA():\n",
    "    def __init__(self,popsize, iter_):\n",
    "        self.popsize = popsize\n",
    "        self.iter_ = iter_\n",
    "        \n",
    "    def popinit(self):\n",
    "        population = [] \n",
    "        random.seed(99)\n",
    "        fmap = [32,64,128,256] \n",
    "        kernel = [2,3,5,7]\n",
    "        learningRate = [0.0001,0.0005, 0.001, 0.005] \n",
    "        dropout = [0.0,0.1,0.2,0.3,0.4,0.5]\n",
    "        layer = [2,3,4,5,6]\n",
    "        pool =[0,1]\n",
    "        node = [64,128,256,512]\n",
    "        for i in range(self.popsize):\n",
    "            inPop = [random.choice(fmap),random.choice(kernel),random.choice(learningRate),random.choice(dropout),random.choice(layer),random.choice(pool),random.choice(node)]\n",
    "            population.append(inPop)\n",
    "        return population\n",
    "\n",
    "        \n",
    "    def fitness(self,population,X,y):\n",
    "        savefit=[]\n",
    "        for i in range(len(population)):\n",
    "            pop = population[i]\n",
    "            f = pop[0]\n",
    "            k = pop[1]\n",
    "            learning = pop[2]\n",
    "            dropout = pop[3]\n",
    "            layer = pop[4]\n",
    "            pool = pop[5]\n",
    "            node = pop[6]\n",
    "            \n",
    "            model = Sequential()\n",
    "            gpu_options = tf.compat.v1.GPUOptions(per_process_gpu_memory_fraction=0.050)\n",
    "\n",
    "            config = ConfigProto()\n",
    "            config.gpu_options.per_process_gpu_memory_fraction = 0.050\n",
    "            session = InteractiveSession(config=config)\n",
    "\n",
    "            seed(99)\n",
    "            tf.random.set_seed(99)\n",
    "            if (pool == 0) :\n",
    "                model.add(Conv2D(f, (k, k), input_shape=X.shape[1:]))\n",
    "                model.add(Activation('relu'))\n",
    "                model.add(MaxPooling2D(pool_size=(2, 2)))\n",
    "\n",
    "                for i in range(layer-1):\n",
    "                    model.add(Conv2D(f, (k,k),padding='same'))\n",
    "                    model.add(Activation('relu'))\n",
    "                    model.add(MaxPooling2D(pool_size=(2, 2)))\n",
    "\n",
    "                model.add(Flatten())\n",
    "                \n",
    "                model.add(Dense(node))\n",
    "                model.add(Activation('relu'))\n",
    "                model.add(Dropout(dropout))\n",
    "\n",
    "                model.add(Dense(1))\n",
    "                model.add(Activation('sigmoid'))\n",
    "\n",
    "                model.compile(loss='binary_crossentropy',optimizer=keras.optimizers.Adam(learning_rate=learning),metrics=['accuracy'])\n",
    "            \n",
    "                model.fit(X, y,batch_size=16,epochs=10,validation_split=0.3)\n",
    "                model.save('CNN.model')\n",
    "                modelcnn = tf.keras.models.load_model(\"CNN.model\")\n",
    "\n",
    "                prediction = modelcnn.predict(Xval)\n",
    "                mse = mean_squared_error(yval,prediction)\n",
    "                savefit.append(mse)\n",
    "\n",
    "            else :\n",
    "                model.add(Conv2D(f,(k,k), input_shape=X.shape[1:]))\n",
    "                model.add(Activation('relu'))\n",
    "                model.add(AveragePooling2D(pool_size=(2, 2)))\n",
    "\n",
    "                for i in range(layer-1):\n",
    "                    model.add(Conv2D(f, (k,k),padding='same'))\n",
    "                    model.add(Activation('relu'))\n",
    "                    model.add(AveragePooling2D(pool_size=(2, 2)))\n",
    "\n",
    "                model.add(Flatten())\n",
    "                \n",
    "                model.add(Dense(node))\n",
    "                model.add(Activation('relu'))\n",
    "                model.add(Dropout(dropout))\n",
    "\n",
    "                model.add(Dense(1))\n",
    "                model.add(Activation('sigmoid'))\n",
    "\n",
    "                model.compile(loss='binary_crossentropy',optimizer=keras.optimizers.Adam(learning_rate=learning),metrics=['accuracy'])\n",
    "            \n",
    "                model.fit(X, y,batch_size=16,epochs=10,validation_split=0.3)\n",
    "                model.save('CNN.model')\n",
    "                modelcnn = tf.keras.models.load_model(\"CNN.model\")\n",
    "        \n",
    "                prediction = modelcnn.predict(Xval)\n",
    "                mse = mean_squared_error(yval,prediction)\n",
    "                savefit.append(mse)\n",
    "\n",
    "        return savefit\n",
    "    \n",
    "    def fitmutation(self,mut,X,y):\n",
    "            pop = mut\n",
    "            f = pop[0]\n",
    "            k = pop[1]\n",
    "            learning = pop[2]\n",
    "            dropout = pop[3]\n",
    "            layer = pop[4]\n",
    "            pool = pop[5]\n",
    "            node = pop[6]\n",
    "            \n",
    "            model = Sequential()\n",
    "            gpu_options = tf.compat.v1.GPUOptions(per_process_gpu_memory_fraction=0.050)\n",
    "\n",
    "            config = ConfigProto()\n",
    "            config.gpu_options.per_process_gpu_memory_fraction = 0.050\n",
    "            session = InteractiveSession(config=config)\n",
    "\n",
    "            seed(99)\n",
    "            tf.random.set_seed(99)\n",
    "            if (pool == 0) :\n",
    "                model.add(Conv2D(f, (k, k), input_shape=X.shape[1:]))\n",
    "                model.add(Activation('relu'))\n",
    "                model.add(MaxPooling2D(pool_size=(2, 2)))\n",
    "\n",
    "                for i in range(layer-1):\n",
    "                    model.add(Conv2D(f, (k,k),padding='same'))\n",
    "                    model.add(Activation('relu'))\n",
    "                    model.add(MaxPooling2D(pool_size=(2, 2)))\n",
    "\n",
    "                model.add(Flatten())\n",
    "                \n",
    "                model.add(Dense(node))\n",
    "                model.add(Activation('relu'))\n",
    "                model.add(Dropout(dropout))\n",
    "\n",
    "                model.add(Dense(1))\n",
    "                model.add(Activation('sigmoid'))\n",
    "\n",
    "                model.compile(loss='binary_crossentropy',optimizer=keras.optimizers.Adam(learning_rate=learning),metrics=['accuracy'])\n",
    "            \n",
    "                model.fit(X, y,batch_size=16,epochs=10,validation_split=0.3)\n",
    "                model.save('CNNmut.model')\n",
    "                modelcnn = tf.keras.models.load_model(\"CNNmut.model\")\n",
    "\n",
    "                prediction = modelcnn.predict(Xval)\n",
    "                mse = mean_squared_error(yval,prediction)\n",
    "                fitmut = mse\n",
    "\n",
    "            else :\n",
    "                model.add(Conv2D(f,(k,k), input_shape=X.shape[1:]))\n",
    "                model.add(Activation('relu'))\n",
    "                model.add(AveragePooling2D(pool_size=(2, 2)))\n",
    "\n",
    "                for i in range(layer-1):\n",
    "                    model.add(Conv2D(f, (k,k),padding='same'))\n",
    "                    model.add(Activation('relu'))\n",
    "                    model.add(AveragePooling2D(pool_size=(2, 2)))\n",
    "\n",
    "                model.add(Flatten())\n",
    "                \n",
    "                model.add(Dense(node))\n",
    "                model.add(Activation('relu'))\n",
    "                model.add(Dropout(dropout))\n",
    "\n",
    "                model.add(Dense(1))\n",
    "                model.add(Activation('sigmoid'))\n",
    "\n",
    "                model.compile(loss='binary_crossentropy',optimizer=keras.optimizers.Adam(learning_rate=learning),metrics=['accuracy'])\n",
    "            \n",
    "                model.fit(X, y,batch_size=16,epochs=10,validation_split=0.3)\n",
    "                model.save('CNNmut.model')\n",
    "                modelcnn = tf.keras.models.load_model(\"CNNmut.model\")\n",
    "        \n",
    "                prediction = modelcnn.predict(Xval)\n",
    "                mse = mean_squared_error(yval,prediction)\n",
    "                fitmut = mse\n",
    "            return fitmut\n",
    "        \n",
    "    \n",
    "    def parent_select(self,population, fitness):\n",
    "        sumfit = np.sum(fitness)\n",
    "        prob=[]\n",
    "        parent_1=[]\n",
    "        random.seed(99)\n",
    "        for i in range(len(fitness)):\n",
    "            tmp = fitness[i]/sumfit\n",
    "            prob.append(tmp)\n",
    "        prob_range = []\n",
    "        sum_ = 0\n",
    "        for i in range(len(prob)):\n",
    "                sum_ += prob[i]\n",
    "                prob_range.append(sum_)\n",
    "        for i in range(len(prob)):\n",
    "                rand = random.random()\n",
    "                if rand <= prob_range[i]:\n",
    "                    parent_1 = population[i]\n",
    "                    break\n",
    "        # select second parent\n",
    "        parent_2 = parent_1\n",
    "        while (parent_2 == parent_1):\n",
    "                for i in range(len(prob)):\n",
    "                    rand = random.random()\n",
    "                    if rand <= prob_range[i]:\n",
    "                        parent_2 = population[i]\n",
    "                        break\n",
    "        return parent_1, parent_2\n",
    "    \n",
    "    def cross_over(self,parent1, parent2):\n",
    "        random.seed(99)\n",
    "        crosspoint = random.randrange(0,6)\n",
    "        child1 = parent1[:crosspoint+1] + parent2[crosspoint+1:]\n",
    "        child2 = parent2[:crosspoint+1] + parent1[crosspoint+1:] \n",
    "        return child1, child2\n",
    "    \n",
    "    def mutation(self,child1, child2):\n",
    "        import copy\n",
    "        random.seed(99)\n",
    "        tmp1 = copy.deepcopy(child1)\n",
    "        tmp2 = copy.deepcopy(child2)\n",
    "        fmap = [32,64,128,256] \n",
    "        kernel = [2,3,5,7]\n",
    "        learningRate = [0.0001,0.0005, 0.001, 0.005] \n",
    "        dropout = [0.0,0.1,0.2,0.3,0.4,0.5]\n",
    "        layer = [2,3,4,5,6]\n",
    "        pool =[0,1]\n",
    "        node = [64,128,256,512]\n",
    "        for i in range(len(tmp1)):    \n",
    "            if (i == 0) :\n",
    "                prob = random.random()\n",
    "                if (prob<=0.05) :\n",
    "                    tmp1[point] = random.choice(fmap)\n",
    "                    tmp2[point] = random.choice(fmap)\n",
    "            elif (i ==1):\n",
    "                prob = random.random()\n",
    "                if (prob<=0.05) :\n",
    "                    tmp1[point] = random.choice(kernel)\n",
    "                    tmp2[point] = random.choice(kernel)\n",
    "            elif (i == 2) :\n",
    "                prob = random.random()\n",
    "                if (prob<=0.05) :\n",
    "                    tmp1[point] = random.choice(learningRate)\n",
    "                    tmp2[point] = random.choice(learningRate)\n",
    "            elif (i == 3) :\n",
    "                prob = random.random()\n",
    "                if (prob<=0.05) :\n",
    "                    tmp1[point] = random.choice(dropout)\n",
    "                    tmp2[point] = random.choice(dropout)\n",
    "            elif (i == 4) :\n",
    "                prob = random.random()\n",
    "                if (prob<=0.05) :\n",
    "                    tmp1[point] = random.choice(layer)\n",
    "                    tmp2[point] = random.choice(layer)\n",
    "            elif (i == 5) :\n",
    "                prob = random.random()\n",
    "                if (prob<=0.05) :\n",
    "                    tmp1[point] = random.choice(pool)\n",
    "                    tmp2[point] = random.choice(pool)\n",
    "            else :\n",
    "                prob = random.random()\n",
    "                if (prob<=0.05) :\n",
    "                    tmp1[point] = random.choice(node)\n",
    "                    tmp2[point] = random.choice(node)\n",
    "        return tmp1, tmp2\n",
    "       \n",
    "    def sort(self, population, fitness):\n",
    "        tmp_dict = {'population' : population,'fitness': fitness }\n",
    "        df = pd.DataFrame(tmp_dict)\n",
    "        df.sort_values('fitness', ascending=True, inplace=True)\n",
    "        new_pop = df['population'].values.tolist()\n",
    "        fit = df['fitness'].values.tolist()\n",
    "        return new_pop, fit\n",
    "    \n",
    "    def newfit(self,mut1,mut2,listindividu,X,y) :\n",
    "        tmpmut=[]\n",
    "        tmpfit1=0.0\n",
    "        tmpfit2=0.0\n",
    "        tmpmut.append(mut1)\n",
    "        tmpmut.append(mut2)\n",
    "        for i in listindividu:\n",
    "            if i[0] == mut1 :\n",
    "                tmpfit1  = (i[1])\n",
    "            if i[0] == mut2 :\n",
    "                tmpfit2 = (i[1])\n",
    "        if (tmpfit1)==0.0 and (tmpfit2)==0.0 :\n",
    "            fitness = self.fitness(tmpmut,X,y)\n",
    "            fit1 = fitness[0]\n",
    "            fit2 = fitness[1]\n",
    "        elif (tmpfit1)==0.0 :\n",
    "            fit1 = self.fitmutation(mut1,X,y)\n",
    "            fit2 = tmpfit2\n",
    "        else :\n",
    "            fit1= tmpfit1\n",
    "            fit2 = self.fitmutation(mut2,X,y)\n",
    "        return fit1,fit2\n",
    "                        \n",
    "    \n",
    "    def fit(self,X,y):\n",
    "        pop = self.popinit()\n",
    "        fitness = self.fitness(pop,X,y)\n",
    "        listindividu =[]\n",
    "        for i in range(len(pop)):\n",
    "            a = pop[i]\n",
    "            b = fitness[i]\n",
    "            temp=[a,b]\n",
    "            listindividu.append(temp)\n",
    "        print(pop)\n",
    "        print(fitness)\n",
    "        bestingen =[]\n",
    "        index = np.argmin(fitness)\n",
    "        popgen = pop[index]\n",
    "        fitgen = fitness[index]\n",
    "        bestingen.append('Generasi 0')\n",
    "        bestingen.append(popgen)\n",
    "        bestingen.append(fitgen)\n",
    "        for i in range(self.iter_):\n",
    "            print( 'Generasi Ke ' , i+1 )\n",
    "            parent_1, parent_2 = self.parent_select(pop, fitness)\n",
    "            print('Parent 1 dan 2 ', parent_1, parent_2)\n",
    "            child_1, child_2 = self.cross_over(parent_1, parent_2)\n",
    "            print('Child 1 dan 2', child_1, child_2 )\n",
    "            mut1, mut2 = self.mutation(child_1, child_2)\n",
    "            print('Mutasi 1 dan 2', mut1, mut2)\n",
    "            pop, fitness = self.sort(pop,fitness)\n",
    "            fitmut1,fitmut2 = self.newfit(mut1,mut2,listindividu,X,y)\n",
    "            pop[-1] = mut1; pop[-2] = mut2\n",
    "            fitness[-1] = fitmut1 ; fitness[-2] = fitmut2\n",
    "            mutt=[]\n",
    "            mutt.append(mut1)\n",
    "            mutt.append(mut2)\n",
    "            fitmut=[]\n",
    "            fitmut.append(fitmut1)\n",
    "            fitmut.append(fitmut2)\n",
    "            update=[]\n",
    "            for i in range(len(mutt)) :\n",
    "                a = mutt[i]\n",
    "                b = fitmut[i]\n",
    "                temp=[a,b]\n",
    "                update.append(temp)\n",
    "            listindividu.extend(update)\n",
    "            print(pop)\n",
    "            print(fitness)\n",
    "            index = np.argmin(fitness)\n",
    "            popgen = pop[index]\n",
    "            fitgen = fitness[index]\n",
    "            bestingen.append(popgen)\n",
    "            bestingen.append(fitgen)\n",
    "        idx_ = np.argmin(fitness)\n",
    "        best_pop = pop[idx_]\n",
    "        return  best_pop,bestingen"
   ]
  },
  {
   "cell_type": "code",
   "execution_count": 4,
   "metadata": {},
   "outputs": [],
   "source": [
    "featSelection = GA( popsize=10, iter_=20)"
   ]
  },
  {
   "cell_type": "code",
   "execution_count": 5,
   "metadata": {},
   "outputs": [
    {
     "name": "stdout",
     "output_type": "stream",
     "text": [
      "Epoch 1/10\n",
      "66/66 [==============================] - 300s 93ms/step - loss: 0.8433 - accuracy: 0.5155 - val_loss: 0.6901 - val_accuracy: 0.5078\n",
      "Epoch 2/10\n",
      "66/66 [==============================] - 3s 50ms/step - loss: 0.6875 - accuracy: 0.5399 - val_loss: 0.5910 - val_accuracy: 0.6913\n",
      "Epoch 3/10\n",
      "66/66 [==============================] - 3s 50ms/step - loss: 0.5965 - accuracy: 0.6800 - val_loss: 0.5518 - val_accuracy: 0.7494\n",
      "Epoch 4/10\n",
      "66/66 [==============================] - 3s 50ms/step - loss: 0.5478 - accuracy: 0.7238 - val_loss: 0.5096 - val_accuracy: 0.7562\n",
      "Epoch 5/10\n",
      "66/66 [==============================] - 3s 50ms/step - loss: 0.5293 - accuracy: 0.7480 - val_loss: 0.5272 - val_accuracy: 0.7942\n",
      "Epoch 6/10\n",
      "66/66 [==============================] - 3s 50ms/step - loss: 0.4956 - accuracy: 0.7751 - val_loss: 0.4422 - val_accuracy: 0.7964\n",
      "Epoch 7/10\n",
      "66/66 [==============================] - 3s 50ms/step - loss: 0.4352 - accuracy: 0.8080 - val_loss: 0.4220 - val_accuracy: 0.8210\n",
      "Epoch 8/10\n",
      "66/66 [==============================] - 3s 50ms/step - loss: 0.4382 - accuracy: 0.8108 - val_loss: 0.4240 - val_accuracy: 0.8166\n",
      "Epoch 9/10\n",
      "66/66 [==============================] - 3s 50ms/step - loss: 0.3896 - accuracy: 0.8208 - val_loss: 0.4079 - val_accuracy: 0.8054\n",
      "Epoch 10/10\n",
      "66/66 [==============================] - 3s 50ms/step - loss: 0.4332 - accuracy: 0.7961 - val_loss: 0.4348 - val_accuracy: 0.7897\n",
      "INFO:tensorflow:Assets written to: CNN.model\\assets\n"
     ]
    },
    {
     "name": "stderr",
     "output_type": "stream",
     "text": [
      "D:\\ProgramData\\Anaconda3\\lib\\site-packages\\tensorflow\\python\\client\\session.py:1761: UserWarning: An interactive session is already active. This can cause out-of-memory errors in some cases. You must explicitly call `InteractiveSession.close()` to release resources held by the other session(s).\n",
      "  warnings.warn('An interactive session is already active. This can '\n"
     ]
    },
    {
     "name": "stdout",
     "output_type": "stream",
     "text": [
      "Epoch 1/10\n",
      "66/66 [==============================] - 5s 47ms/step - loss: 0.6939 - accuracy: 0.5222 - val_loss: 0.6924 - val_accuracy: 0.5011\n",
      "Epoch 2/10\n",
      "66/66 [==============================] - 1s 8ms/step - loss: 0.6949 - accuracy: 0.4720 - val_loss: 0.6930 - val_accuracy: 0.5011\n",
      "Epoch 3/10\n",
      "66/66 [==============================] - 0s 8ms/step - loss: 0.6934 - accuracy: 0.5074 - val_loss: 0.6935 - val_accuracy: 0.4989\n",
      "Epoch 4/10\n",
      "66/66 [==============================] - 0s 7ms/step - loss: 0.6944 - accuracy: 0.5113 - val_loss: 0.6936 - val_accuracy: 0.4989\n",
      "Epoch 5/10\n",
      "66/66 [==============================] - 1s 8ms/step - loss: 0.6936 - accuracy: 0.5150 - val_loss: 0.6928 - val_accuracy: 0.4989\n",
      "Epoch 6/10\n",
      "66/66 [==============================] - 0s 8ms/step - loss: 0.6929 - accuracy: 0.5432 - val_loss: 0.6928 - val_accuracy: 0.5481\n",
      "Epoch 7/10\n",
      "66/66 [==============================] - 0s 7ms/step - loss: 0.6938 - accuracy: 0.5485 - val_loss: 0.6938 - val_accuracy: 0.4989\n",
      "Epoch 8/10\n",
      "66/66 [==============================] - 0s 7ms/step - loss: 0.6937 - accuracy: 0.5138 - val_loss: 0.6842 - val_accuracy: 0.7248\n",
      "Epoch 9/10\n",
      "66/66 [==============================] - 0s 7ms/step - loss: 0.6729 - accuracy: 0.6166 - val_loss: 0.6004 - val_accuracy: 0.6376\n",
      "Epoch 10/10\n",
      "66/66 [==============================] - 1s 8ms/step - loss: 0.6025 - accuracy: 0.6779 - val_loss: 0.4212 - val_accuracy: 0.8031\n",
      "INFO:tensorflow:Assets written to: CNN.model\\assets\n"
     ]
    },
    {
     "name": "stderr",
     "output_type": "stream",
     "text": [
      "D:\\ProgramData\\Anaconda3\\lib\\site-packages\\tensorflow\\python\\client\\session.py:1761: UserWarning: An interactive session is already active. This can cause out-of-memory errors in some cases. You must explicitly call `InteractiveSession.close()` to release resources held by the other session(s).\n",
      "  warnings.warn('An interactive session is already active. This can '\n"
     ]
    },
    {
     "name": "stdout",
     "output_type": "stream",
     "text": [
      "Epoch 1/10\n",
      "66/66 [==============================] - 6s 51ms/step - loss: 0.6993 - accuracy: 0.4972 - val_loss: 0.6911 - val_accuracy: 0.5280\n",
      "Epoch 2/10\n",
      "66/66 [==============================] - 1s 11ms/step - loss: 0.6833 - accuracy: 0.5562 - val_loss: 0.6055 - val_accuracy: 0.6846\n",
      "Epoch 3/10\n",
      "66/66 [==============================] - 1s 11ms/step - loss: 0.6074 - accuracy: 0.6761 - val_loss: 0.5956 - val_accuracy: 0.7092\n",
      "Epoch 4/10\n",
      "66/66 [==============================] - 1s 10ms/step - loss: 0.5558 - accuracy: 0.7121 - val_loss: 0.5290 - val_accuracy: 0.7584\n",
      "Epoch 5/10\n",
      "66/66 [==============================] - 1s 10ms/step - loss: 0.4978 - accuracy: 0.7776 - val_loss: 0.5595 - val_accuracy: 0.7517\n",
      "Epoch 6/10\n",
      "66/66 [==============================] - 1s 10ms/step - loss: 0.4756 - accuracy: 0.7995 - val_loss: 0.4654 - val_accuracy: 0.7942\n",
      "Epoch 7/10\n",
      "66/66 [==============================] - 1s 11ms/step - loss: 0.4147 - accuracy: 0.8123 - val_loss: 0.6045 - val_accuracy: 0.7383\n",
      "Epoch 8/10\n",
      "66/66 [==============================] - 1s 10ms/step - loss: 0.4415 - accuracy: 0.8116 - val_loss: 0.3940 - val_accuracy: 0.8300\n",
      "Epoch 9/10\n",
      "66/66 [==============================] - 1s 10ms/step - loss: 0.3081 - accuracy: 0.8756 - val_loss: 0.4108 - val_accuracy: 0.8143\n",
      "Epoch 10/10\n",
      "66/66 [==============================] - 1s 10ms/step - loss: 0.3521 - accuracy: 0.8317 - val_loss: 0.3687 - val_accuracy: 0.8233\n",
      "INFO:tensorflow:Assets written to: CNN.model\\assets\n"
     ]
    },
    {
     "name": "stderr",
     "output_type": "stream",
     "text": [
      "D:\\ProgramData\\Anaconda3\\lib\\site-packages\\tensorflow\\python\\client\\session.py:1761: UserWarning: An interactive session is already active. This can cause out-of-memory errors in some cases. You must explicitly call `InteractiveSession.close()` to release resources held by the other session(s).\n",
      "  warnings.warn('An interactive session is already active. This can '\n"
     ]
    },
    {
     "name": "stdout",
     "output_type": "stream",
     "text": [
      "Epoch 1/10\n",
      "66/66 [==============================] - 10s 96ms/step - loss: 0.6968 - accuracy: 0.4650 - val_loss: 0.6933 - val_accuracy: 0.4989\n",
      "Epoch 2/10\n",
      "66/66 [==============================] - 2s 33ms/step - loss: 0.6931 - accuracy: 0.5213 - val_loss: 0.6932 - val_accuracy: 0.4989\n",
      "Epoch 3/10\n",
      "66/66 [==============================] - 2s 33ms/step - loss: 0.6935 - accuracy: 0.4961 - val_loss: 0.6932 - val_accuracy: 0.4989\n",
      "Epoch 4/10\n",
      "66/66 [==============================] - 2s 33ms/step - loss: 0.6934 - accuracy: 0.5114 - val_loss: 0.6933 - val_accuracy: 0.4989\n",
      "Epoch 5/10\n",
      "66/66 [==============================] - 2s 33ms/step - loss: 0.6931 - accuracy: 0.5091 - val_loss: 0.6932 - val_accuracy: 0.4989\n",
      "Epoch 6/10\n",
      "66/66 [==============================] - 2s 33ms/step - loss: 0.6932 - accuracy: 0.5034 - val_loss: 0.6932 - val_accuracy: 0.4989\n",
      "Epoch 7/10\n",
      "66/66 [==============================] - 2s 33ms/step - loss: 0.6928 - accuracy: 0.5287 - val_loss: 0.6932 - val_accuracy: 0.4989\n",
      "Epoch 8/10\n",
      "66/66 [==============================] - 2s 33ms/step - loss: 0.6932 - accuracy: 0.5107 - val_loss: 0.6933 - val_accuracy: 0.4989\n",
      "Epoch 9/10\n",
      "66/66 [==============================] - 2s 33ms/step - loss: 0.6920 - accuracy: 0.5482 - val_loss: 0.6932 - val_accuracy: 0.4989\n",
      "Epoch 10/10\n",
      "66/66 [==============================] - 2s 33ms/step - loss: 0.6927 - accuracy: 0.5246 - val_loss: 0.6932 - val_accuracy: 0.4989\n",
      "INFO:tensorflow:Assets written to: CNN.model\\assets\n"
     ]
    },
    {
     "name": "stderr",
     "output_type": "stream",
     "text": [
      "D:\\ProgramData\\Anaconda3\\lib\\site-packages\\tensorflow\\python\\client\\session.py:1761: UserWarning: An interactive session is already active. This can cause out-of-memory errors in some cases. You must explicitly call `InteractiveSession.close()` to release resources held by the other session(s).\n",
      "  warnings.warn('An interactive session is already active. This can '\n"
     ]
    },
    {
     "name": "stdout",
     "output_type": "stream",
     "text": [
      "Epoch 1/10\n",
      "66/66 [==============================] - 8s 72ms/step - loss: 0.6935 - accuracy: 0.4994 - val_loss: 0.6929 - val_accuracy: 0.5123\n",
      "Epoch 2/10\n",
      "66/66 [==============================] - 1s 22ms/step - loss: 0.6932 - accuracy: 0.4836 - val_loss: 0.6914 - val_accuracy: 0.6040\n",
      "Epoch 3/10\n",
      "66/66 [==============================] - 1s 22ms/step - loss: 0.6852 - accuracy: 0.5887 - val_loss: 0.5821 - val_accuracy: 0.6890\n",
      "Epoch 4/10\n",
      "66/66 [==============================] - 1s 22ms/step - loss: 0.6140 - accuracy: 0.6908 - val_loss: 0.5493 - val_accuracy: 0.7248\n",
      "Epoch 5/10\n",
      "66/66 [==============================] - 1s 22ms/step - loss: 0.5429 - accuracy: 0.7466 - val_loss: 0.5420 - val_accuracy: 0.7383- loss:\n",
      "Epoch 6/10\n",
      "66/66 [==============================] - 1s 22ms/step - loss: 0.4876 - accuracy: 0.7867 - val_loss: 0.4722 - val_accuracy: 0.7875\n",
      "Epoch 7/10\n",
      "66/66 [==============================] - 1s 22ms/step - loss: 0.4312 - accuracy: 0.8112 - val_loss: 0.4481 - val_accuracy: 0.7942\n",
      "Epoch 8/10\n",
      "66/66 [==============================] - 1s 22ms/step - loss: 0.4102 - accuracy: 0.8233 - val_loss: 0.3672 - val_accuracy: 0.8345\n",
      "Epoch 9/10\n",
      "66/66 [==============================] - 1s 22ms/step - loss: 0.3286 - accuracy: 0.8685 - val_loss: 0.3464 - val_accuracy: 0.8389\n",
      "Epoch 10/10\n",
      "66/66 [==============================] - 1s 22ms/step - loss: 0.3397 - accuracy: 0.8624 - val_loss: 0.2640 - val_accuracy: 0.9016\n",
      "INFO:tensorflow:Assets written to: CNN.model\\assets\n"
     ]
    },
    {
     "name": "stderr",
     "output_type": "stream",
     "text": [
      "D:\\ProgramData\\Anaconda3\\lib\\site-packages\\tensorflow\\python\\client\\session.py:1761: UserWarning: An interactive session is already active. This can cause out-of-memory errors in some cases. You must explicitly call `InteractiveSession.close()` to release resources held by the other session(s).\n",
      "  warnings.warn('An interactive session is already active. This can '\n"
     ]
    },
    {
     "name": "stdout",
     "output_type": "stream",
     "text": [
      "Epoch 1/10\n",
      "66/66 [==============================] - 8s 68ms/step - loss: 0.6932 - accuracy: 0.4933 - val_loss: 0.6917 - val_accuracy: 0.6980\n",
      "Epoch 2/10\n",
      "66/66 [==============================] - 1s 11ms/step - loss: 0.6920 - accuracy: 0.5513 - val_loss: 0.6876 - val_accuracy: 0.6532\n",
      "Epoch 3/10\n",
      "66/66 [==============================] - 1s 11ms/step - loss: 0.6826 - accuracy: 0.5884 - val_loss: 0.6129 - val_accuracy: 0.6846\n",
      "Epoch 4/10\n",
      "66/66 [==============================] - 1s 11ms/step - loss: 0.5882 - accuracy: 0.6920 - val_loss: 0.5294 - val_accuracy: 0.7450\n",
      "Epoch 5/10\n",
      "66/66 [==============================] - 1s 11ms/step - loss: 0.5467 - accuracy: 0.7343 - val_loss: 0.5142 - val_accuracy: 0.7450\n",
      "Epoch 6/10\n",
      "66/66 [==============================] - 1s 11ms/step - loss: 0.4759 - accuracy: 0.7860 - val_loss: 0.4612 - val_accuracy: 0.8009\n",
      "Epoch 7/10\n",
      "66/66 [==============================] - 1s 11ms/step - loss: 0.4530 - accuracy: 0.7878 - val_loss: 0.4532 - val_accuracy: 0.8031\n",
      "Epoch 8/10\n",
      "66/66 [==============================] - 1s 10ms/step - loss: 0.4411 - accuracy: 0.8112 - val_loss: 0.3874 - val_accuracy: 0.8389\n",
      "Epoch 9/10\n",
      "66/66 [==============================] - 1s 11ms/step - loss: 0.3572 - accuracy: 0.8773 - val_loss: 0.3578 - val_accuracy: 0.8523\n",
      "Epoch 10/10\n",
      "66/66 [==============================] - 1s 10ms/step - loss: 0.3867 - accuracy: 0.8423 - val_loss: 0.3363 - val_accuracy: 0.8591\n",
      "INFO:tensorflow:Assets written to: CNN.model\\assets\n"
     ]
    },
    {
     "name": "stderr",
     "output_type": "stream",
     "text": [
      "D:\\ProgramData\\Anaconda3\\lib\\site-packages\\tensorflow\\python\\client\\session.py:1761: UserWarning: An interactive session is already active. This can cause out-of-memory errors in some cases. You must explicitly call `InteractiveSession.close()` to release resources held by the other session(s).\n",
      "  warnings.warn('An interactive session is already active. This can '\n"
     ]
    },
    {
     "name": "stdout",
     "output_type": "stream",
     "text": [
      "Epoch 1/10\n",
      "66/66 [==============================] - 4s 35ms/step - loss: 0.6886 - accuracy: 0.5505 - val_loss: 0.6580 - val_accuracy: 0.5794\n",
      "Epoch 2/10\n",
      "66/66 [==============================] - 0s 6ms/step - loss: 0.6651 - accuracy: 0.5937 - val_loss: 0.6601 - val_accuracy: 0.6152\n",
      "Epoch 3/10\n",
      "66/66 [==============================] - 0s 6ms/step - loss: 0.5895 - accuracy: 0.6991 - val_loss: 0.5390 - val_accuracy: 0.6846\n",
      "Epoch 4/10\n",
      "66/66 [==============================] - 0s 6ms/step - loss: 0.5129 - accuracy: 0.7618 - val_loss: 0.4690 - val_accuracy: 0.7852\n",
      "Epoch 5/10\n",
      "66/66 [==============================] - 0s 6ms/step - loss: 0.4931 - accuracy: 0.7748 - val_loss: 0.4714 - val_accuracy: 0.7808\n",
      "Epoch 6/10\n",
      "66/66 [==============================] - 0s 6ms/step - loss: 0.4966 - accuracy: 0.7688 - val_loss: 0.5271 - val_accuracy: 0.7293\n",
      "Epoch 7/10\n",
      "66/66 [==============================] - 0s 6ms/step - loss: 0.4023 - accuracy: 0.8059 - val_loss: 0.3696 - val_accuracy: 0.8591\n",
      "Epoch 8/10\n",
      "66/66 [==============================] - 0s 6ms/step - loss: 0.3865 - accuracy: 0.8285 - val_loss: 0.3790 - val_accuracy: 0.8345\n",
      "Epoch 9/10\n",
      "66/66 [==============================] - 0s 6ms/step - loss: 0.3206 - accuracy: 0.8542 - val_loss: 0.4155 - val_accuracy: 0.8121\n",
      "Epoch 10/10\n",
      "66/66 [==============================] - 0s 6ms/step - loss: 0.4153 - accuracy: 0.8216 - val_loss: 0.2724 - val_accuracy: 0.8926\n",
      "INFO:tensorflow:Assets written to: CNN.model\\assets\n"
     ]
    },
    {
     "name": "stderr",
     "output_type": "stream",
     "text": [
      "D:\\ProgramData\\Anaconda3\\lib\\site-packages\\tensorflow\\python\\client\\session.py:1761: UserWarning: An interactive session is already active. This can cause out-of-memory errors in some cases. You must explicitly call `InteractiveSession.close()` to release resources held by the other session(s).\n",
      "  warnings.warn('An interactive session is already active. This can '\n"
     ]
    },
    {
     "name": "stdout",
     "output_type": "stream",
     "text": [
      "Epoch 1/10\n",
      "66/66 [==============================] - 1s 10ms/step - loss: 0.6857 - accuracy: 0.5606 - val_loss: 0.6363 - val_accuracy: 0.7271\n",
      "Epoch 2/10\n",
      "66/66 [==============================] - 0s 7ms/step - loss: 0.6350 - accuracy: 0.6669 - val_loss: 0.5704 - val_accuracy: 0.7315\n",
      "Epoch 3/10\n",
      "66/66 [==============================] - 0s 7ms/step - loss: 0.5783 - accuracy: 0.6628 - val_loss: 0.5632 - val_accuracy: 0.6779\n",
      "Epoch 4/10\n",
      "66/66 [==============================] - 0s 7ms/step - loss: 0.5158 - accuracy: 0.7386 - val_loss: 0.5013 - val_accuracy: 0.7606\n",
      "Epoch 5/10\n",
      "66/66 [==============================] - 0s 7ms/step - loss: 0.4862 - accuracy: 0.7748 - val_loss: 0.4696 - val_accuracy: 0.7875\n",
      "Epoch 6/10\n",
      "66/66 [==============================] - 0s 7ms/step - loss: 0.4839 - accuracy: 0.7777 - val_loss: 0.4338 - val_accuracy: 0.8188\n",
      "Epoch 7/10\n",
      "66/66 [==============================] - 0s 7ms/step - loss: 0.4330 - accuracy: 0.7913 - val_loss: 0.4019 - val_accuracy: 0.8568\n",
      "Epoch 8/10\n",
      "66/66 [==============================] - 0s 7ms/step - loss: 0.4144 - accuracy: 0.8305 - val_loss: 0.3693 - val_accuracy: 0.8568\n",
      "Epoch 9/10\n",
      "66/66 [==============================] - 0s 7ms/step - loss: 0.3280 - accuracy: 0.8814 - val_loss: 0.3194 - val_accuracy: 0.8993\n",
      "Epoch 10/10\n",
      "66/66 [==============================] - 0s 7ms/step - loss: 0.3463 - accuracy: 0.8775 - val_loss: 0.2907 - val_accuracy: 0.8993\n",
      "INFO:tensorflow:Assets written to: CNN.model\\assets\n"
     ]
    },
    {
     "name": "stderr",
     "output_type": "stream",
     "text": [
      "D:\\ProgramData\\Anaconda3\\lib\\site-packages\\tensorflow\\python\\client\\session.py:1761: UserWarning: An interactive session is already active. This can cause out-of-memory errors in some cases. You must explicitly call `InteractiveSession.close()` to release resources held by the other session(s).\n",
      "  warnings.warn('An interactive session is already active. This can '\n"
     ]
    },
    {
     "name": "stdout",
     "output_type": "stream",
     "text": [
      "Epoch 1/10\n",
      "66/66 [==============================] - 4s 40ms/step - loss: 0.6890 - accuracy: 0.5399 - val_loss: 0.6484 - val_accuracy: 0.7002\n",
      "Epoch 2/10\n",
      "66/66 [==============================] - 0s 7ms/step - loss: 0.6386 - accuracy: 0.6420 - val_loss: 0.5589 - val_accuracy: 0.7293\n",
      "Epoch 3/10\n",
      "66/66 [==============================] - 0s 7ms/step - loss: 0.5470 - accuracy: 0.7401 - val_loss: 0.5057 - val_accuracy: 0.7405\n",
      "Epoch 4/10\n",
      "66/66 [==============================] - 0s 7ms/step - loss: 0.4762 - accuracy: 0.7794 - val_loss: 0.4527 - val_accuracy: 0.7987\n",
      "Epoch 5/10\n",
      "66/66 [==============================] - 0s 7ms/step - loss: 0.4335 - accuracy: 0.8068 - val_loss: 0.4010 - val_accuracy: 0.8389\n",
      "Epoch 6/10\n",
      "66/66 [==============================] - 0s 7ms/step - loss: 0.4026 - accuracy: 0.8456 - val_loss: 0.4220 - val_accuracy: 0.8210\n",
      "Epoch 7/10\n",
      "66/66 [==============================] - 0s 7ms/step - loss: 0.3739 - accuracy: 0.8351 - val_loss: 0.3205 - val_accuracy: 0.8971\n",
      "Epoch 8/10\n",
      "66/66 [==============================] - 0s 7ms/step - loss: 0.3339 - accuracy: 0.8561 - val_loss: 0.3427 - val_accuracy: 0.8635\n",
      "Epoch 9/10\n",
      "66/66 [==============================] - 0s 7ms/step - loss: 0.2863 - accuracy: 0.8816 - val_loss: 0.2793 - val_accuracy: 0.8971\n",
      "Epoch 10/10\n",
      "66/66 [==============================] - 0s 7ms/step - loss: 0.3079 - accuracy: 0.8821 - val_loss: 0.2605 - val_accuracy: 0.9083\n",
      "INFO:tensorflow:Assets written to: CNN.model\\assets\n"
     ]
    },
    {
     "name": "stderr",
     "output_type": "stream",
     "text": [
      "D:\\ProgramData\\Anaconda3\\lib\\site-packages\\tensorflow\\python\\client\\session.py:1761: UserWarning: An interactive session is already active. This can cause out-of-memory errors in some cases. You must explicitly call `InteractiveSession.close()` to release resources held by the other session(s).\n",
      "  warnings.warn('An interactive session is already active. This can '\n"
     ]
    },
    {
     "name": "stdout",
     "output_type": "stream",
     "text": [
      "Epoch 1/10\n",
      "66/66 [==============================] - 4s 39ms/step - loss: 12.5955 - accuracy: 0.5113 - val_loss: 0.6932 - val_accuracy: 0.5011\n",
      "Epoch 2/10\n",
      "66/66 [==============================] - 1s 18ms/step - loss: 0.6948 - accuracy: 0.4713 - val_loss: 0.6931 - val_accuracy: 0.5011\n",
      "Epoch 3/10\n",
      "66/66 [==============================] - 1s 18ms/step - loss: 0.6936 - accuracy: 0.4500 - val_loss: 0.6932 - val_accuracy: 0.4989\n",
      "Epoch 4/10\n",
      "66/66 [==============================] - 1s 18ms/step - loss: 0.6936 - accuracy: 0.5114 - val_loss: 0.6934 - val_accuracy: 0.4989\n",
      "Epoch 5/10\n",
      "66/66 [==============================] - 1s 18ms/step - loss: 0.6932 - accuracy: 0.5091 - val_loss: 0.6933 - val_accuracy: 0.4989\n",
      "Epoch 6/10\n",
      "66/66 [==============================] - 1s 18ms/step - loss: 0.6932 - accuracy: 0.4813 - val_loss: 0.6932 - val_accuracy: 0.4989\n",
      "Epoch 7/10\n",
      "66/66 [==============================] - 1s 18ms/step - loss: 0.6928 - accuracy: 0.5287 - val_loss: 0.6933 - val_accuracy: 0.4989\n",
      "Epoch 8/10\n",
      "66/66 [==============================] - 1s 18ms/step - loss: 0.6933 - accuracy: 0.5107 - val_loss: 0.6933 - val_accuracy: 0.4989\n",
      "Epoch 9/10\n",
      "66/66 [==============================] - 1s 18ms/step - loss: 0.6918 - accuracy: 0.5482 - val_loss: 0.6932 - val_accuracy: 0.4989\n",
      "Epoch 10/10\n",
      "66/66 [==============================] - 1s 18ms/step - loss: 0.6929 - accuracy: 0.5246 - val_loss: 0.6932 - val_accuracy: 0.4989\n",
      "INFO:tensorflow:Assets written to: CNN.model\\assets\n",
      "[[256, 7, 0.0005, 0.4, 3, 0, 128], [64, 2, 0.001, 0.5, 5, 0, 512], [64, 7, 0.0005, 0.2, 5, 0, 128], [256, 3, 0.001, 0.0, 6, 0, 512], [128, 7, 0.0001, 0.2, 6, 0, 512], [64, 5, 0.0001, 0.3, 6, 0, 512], [32, 5, 0.0005, 0.1, 3, 1, 128], [64, 2, 0.0001, 0.0, 3, 1, 512], [32, 7, 0.0001, 0.1, 4, 0, 512], [128, 3, 0.005, 0.1, 2, 0, 512]]\n",
      "[0.30484477896904016, 0.4539570094833009, 0.252877873240566, 0.24931948451823127, 0.20728163659263205, 0.18737273874671445, 0.14630223406140094, 0.16881002532968079, 0.19125925772054783, 0.25038271158075803]\n",
      "Generasi Ke  1\n",
      "Parent 1 dan 2  [64, 2, 0.001, 0.5, 5, 0, 512] [128, 7, 0.0001, 0.2, 6, 0, 512]\n",
      "Child 1 dan 2 [64, 2, 0.001, 0.5, 6, 0, 512] [128, 7, 0.0001, 0.2, 5, 0, 512]\n",
      "Mutasi 1 dan 2 [64, 2, 0.001, 0.5, 6, 0, 512] [128, 7, 0.0001, 0.2, 5, 0, 512]\n",
      "Epoch 1/10\n"
     ]
    },
    {
     "name": "stderr",
     "output_type": "stream",
     "text": [
      "D:\\ProgramData\\Anaconda3\\lib\\site-packages\\tensorflow\\python\\client\\session.py:1761: UserWarning: An interactive session is already active. This can cause out-of-memory errors in some cases. You must explicitly call `InteractiveSession.close()` to release resources held by the other session(s).\n",
      "  warnings.warn('An interactive session is already active. This can '\n"
     ]
    },
    {
     "name": "stdout",
     "output_type": "stream",
     "text": [
      "66/66 [==============================] - 2s 20ms/step - loss: 0.6933 - accuracy: 0.5127 - val_loss: 0.6926 - val_accuracy: 0.4989\n",
      "Epoch 2/10\n",
      "66/66 [==============================] - 1s 10ms/step - loss: 0.6938 - accuracy: 0.4927 - val_loss: 0.6929 - val_accuracy: 0.4989\n",
      "Epoch 3/10\n",
      "66/66 [==============================] - 1s 9ms/step - loss: 0.6931 - accuracy: 0.5047 - val_loss: 0.7014 - val_accuracy: 0.4989\n",
      "Epoch 4/10\n",
      "66/66 [==============================] - 1s 9ms/step - loss: 0.6852 - accuracy: 0.5733 - val_loss: 0.6664 - val_accuracy: 0.5414\n",
      "Epoch 5/10\n",
      "66/66 [==============================] - 1s 9ms/step - loss: 0.6457 - accuracy: 0.6276 - val_loss: 0.5566 - val_accuracy: 0.7271\n",
      "Epoch 6/10\n",
      "66/66 [==============================] - 1s 9ms/step - loss: 0.5038 - accuracy: 0.7954 - val_loss: 0.3199 - val_accuracy: 0.8725\n",
      "Epoch 7/10\n",
      "66/66 [==============================] - 1s 9ms/step - loss: 0.3406 - accuracy: 0.8800 - val_loss: 0.3523 - val_accuracy: 0.8456\n",
      "Epoch 8/10\n",
      "66/66 [==============================] - 1s 9ms/step - loss: 0.2494 - accuracy: 0.8971 - val_loss: 0.3580 - val_accuracy: 0.8613\n",
      "Epoch 9/10\n",
      "66/66 [==============================] - 1s 9ms/step - loss: 0.3169 - accuracy: 0.8584 - val_loss: 0.2194 - val_accuracy: 0.9083\n",
      "Epoch 10/10\n",
      "66/66 [==============================] - 1s 10ms/step - loss: 0.1744 - accuracy: 0.9346 - val_loss: 0.1485 - val_accuracy: 0.9441\n",
      "INFO:tensorflow:Assets written to: CNN.model\\assets\n"
     ]
    },
    {
     "name": "stderr",
     "output_type": "stream",
     "text": [
      "D:\\ProgramData\\Anaconda3\\lib\\site-packages\\tensorflow\\python\\client\\session.py:1761: UserWarning: An interactive session is already active. This can cause out-of-memory errors in some cases. You must explicitly call `InteractiveSession.close()` to release resources held by the other session(s).\n",
      "  warnings.warn('An interactive session is already active. This can '\n"
     ]
    },
    {
     "name": "stdout",
     "output_type": "stream",
     "text": [
      "Epoch 1/10\n",
      "66/66 [==============================] - 2s 26ms/step - loss: 0.6907 - accuracy: 0.5169 - val_loss: 0.6634 - val_accuracy: 0.7159\n",
      "Epoch 2/10\n",
      "66/66 [==============================] - 2s 23ms/step - loss: 0.6421 - accuracy: 0.6449 - val_loss: 0.5893 - val_accuracy: 0.7293 0s - loss: 0.6502 - accu\n",
      "Epoch 3/10\n",
      "66/66 [==============================] - 2s 23ms/step - loss: 0.5113 - accuracy: 0.7448 - val_loss: 0.4615 - val_accuracy: 0.7919\n",
      "Epoch 4/10\n",
      "66/66 [==============================] - 2s 23ms/step - loss: 0.4612 - accuracy: 0.7904 - val_loss: 0.4428 - val_accuracy: 0.8210\n",
      "Epoch 5/10\n",
      "66/66 [==============================] - 2s 23ms/step - loss: 0.4354 - accuracy: 0.8087 - val_loss: 0.4232 - val_accuracy: 0.8412: 0.4375 - accuracy: \n",
      "Epoch 6/10\n",
      "66/66 [==============================] - 2s 23ms/step - loss: 0.3893 - accuracy: 0.8503 - val_loss: 0.3472 - val_accuracy: 0.8658\n",
      "Epoch 7/10\n",
      "66/66 [==============================] - 2s 23ms/step - loss: 0.3299 - accuracy: 0.8584 - val_loss: 0.2853 - val_accuracy: 0.8926\n",
      "Epoch 8/10\n",
      "66/66 [==============================] - 2s 23ms/step - loss: 0.2601 - accuracy: 0.8901 - val_loss: 0.2817 - val_accuracy: 0.8859\n",
      "Epoch 9/10\n",
      "66/66 [==============================] - 2s 23ms/step - loss: 0.2030 - accuracy: 0.9293 - val_loss: 0.2209 - val_accuracy: 0.9217\n",
      "Epoch 10/10\n",
      "66/66 [==============================] - 2s 23ms/step - loss: 0.1945 - accuracy: 0.9375 - val_loss: 0.1987 - val_accuracy: 0.9217\n",
      "INFO:tensorflow:Assets written to: CNN.model\\assets\n",
      "[[32, 5, 0.0005, 0.1, 3, 1, 128], [64, 2, 0.0001, 0.0, 3, 1, 512], [64, 5, 0.0001, 0.3, 6, 0, 512], [32, 7, 0.0001, 0.1, 4, 0, 512], [128, 7, 0.0001, 0.2, 6, 0, 512], [256, 3, 0.001, 0.0, 6, 0, 512], [128, 3, 0.005, 0.1, 2, 0, 512], [64, 7, 0.0005, 0.2, 5, 0, 128], [128, 7, 0.0001, 0.2, 5, 0, 512], [64, 2, 0.001, 0.5, 6, 0, 512]]\n",
      "[0.14630223406140094, 0.16881002532968079, 0.18737273874671445, 0.19125925772054783, 0.20728163659263205, 0.24931948451823127, 0.25038271158075803, 0.252877873240566, 0.24263583696305585, 0.2475691406754041]\n",
      "Generasi Ke  2\n",
      "Parent 1 dan 2  [64, 5, 0.0001, 0.3, 6, 0, 512] [64, 7, 0.0005, 0.2, 5, 0, 128]\n",
      "Child 1 dan 2 [64, 5, 0.0001, 0.3, 5, 0, 128] [64, 7, 0.0005, 0.2, 6, 0, 512]\n",
      "Mutasi 1 dan 2 [64, 5, 0.0001, 0.3, 5, 0, 128] [64, 7, 0.0005, 0.2, 6, 0, 512]\n",
      "Epoch 1/10\n"
     ]
    },
    {
     "name": "stderr",
     "output_type": "stream",
     "text": [
      "D:\\ProgramData\\Anaconda3\\lib\\site-packages\\tensorflow\\python\\client\\session.py:1761: UserWarning: An interactive session is already active. This can cause out-of-memory errors in some cases. You must explicitly call `InteractiveSession.close()` to release resources held by the other session(s).\n",
      "  warnings.warn('An interactive session is already active. This can '\n"
     ]
    },
    {
     "name": "stdout",
     "output_type": "stream",
     "text": [
      "66/66 [==============================] - 1s 14ms/step - loss: 0.6916 - accuracy: 0.5338 - val_loss: 0.6774 - val_accuracy: 0.6174\n",
      "Epoch 2/10\n",
      "66/66 [==============================] - 1s 11ms/step - loss: 0.6768 - accuracy: 0.5703 - val_loss: 0.6115 - val_accuracy: 0.7204\n",
      "Epoch 3/10\n",
      "66/66 [==============================] - 1s 11ms/step - loss: 0.6176 - accuracy: 0.6653 - val_loss: 0.5313 - val_accuracy: 0.7427\n",
      "Epoch 4/10\n",
      "66/66 [==============================] - 1s 11ms/step - loss: 0.5360 - accuracy: 0.7480 - val_loss: 0.4890 - val_accuracy: 0.7875\n",
      "Epoch 5/10\n",
      "66/66 [==============================] - 1s 12ms/step - loss: 0.5212 - accuracy: 0.7451 - val_loss: 0.4643 - val_accuracy: 0.7987\n",
      "Epoch 6/10\n",
      "66/66 [==============================] - 1s 11ms/step - loss: 0.4324 - accuracy: 0.8400 - val_loss: 0.4244 - val_accuracy: 0.8412\n",
      "Epoch 7/10\n",
      "66/66 [==============================] - 1s 12ms/step - loss: 0.4229 - accuracy: 0.8126 - val_loss: 0.3944 - val_accuracy: 0.8300\n",
      "Epoch 8/10\n",
      "66/66 [==============================] - 1s 12ms/step - loss: 0.3832 - accuracy: 0.8490 - val_loss: 0.3510 - val_accuracy: 0.8568\n",
      "Epoch 9/10\n",
      "66/66 [==============================] - 1s 12ms/step - loss: 0.3125 - accuracy: 0.8762 - val_loss: 0.3030 - val_accuracy: 0.8904\n",
      "Epoch 10/10\n",
      "66/66 [==============================] - 1s 11ms/step - loss: 0.3475 - accuracy: 0.8574 - val_loss: 0.2793 - val_accuracy: 0.8926\n",
      "INFO:tensorflow:Assets written to: CNN.model\\assets\n"
     ]
    },
    {
     "name": "stderr",
     "output_type": "stream",
     "text": [
      "D:\\ProgramData\\Anaconda3\\lib\\site-packages\\tensorflow\\python\\client\\session.py:1761: UserWarning: An interactive session is already active. This can cause out-of-memory errors in some cases. You must explicitly call `InteractiveSession.close()` to release resources held by the other session(s).\n",
      "  warnings.warn('An interactive session is already active. This can '\n"
     ]
    },
    {
     "name": "stdout",
     "output_type": "stream",
     "text": [
      "Epoch 1/10\n",
      "66/66 [==============================] - 2s 23ms/step - loss: 0.6937 - accuracy: 0.5019 - val_loss: 0.6932 - val_accuracy: 0.4989\n",
      "Epoch 2/10\n",
      "66/66 [==============================] - 1s 13ms/step - loss: 0.6930 - accuracy: 0.5213 - val_loss: 0.6932 - val_accuracy: 0.4989\n",
      "Epoch 3/10\n",
      "66/66 [==============================] - 1s 13ms/step - loss: 0.6933 - accuracy: 0.4932 - val_loss: 0.6932 - val_accuracy: 0.4989\n",
      "Epoch 4/10\n",
      "66/66 [==============================] - 1s 13ms/step - loss: 0.6932 - accuracy: 0.5114 - val_loss: 0.6933 - val_accuracy: 0.4989\n",
      "Epoch 5/10\n",
      "66/66 [==============================] - 1s 13ms/step - loss: 0.6931 - accuracy: 0.5091 - val_loss: 0.6932 - val_accuracy: 0.4989\n",
      "Epoch 6/10\n",
      "66/66 [==============================] - 1s 13ms/step - loss: 0.6932 - accuracy: 0.5034 - val_loss: 0.6932 - val_accuracy: 0.4989\n",
      "Epoch 7/10\n",
      "66/66 [==============================] - 1s 13ms/step - loss: 0.7303 - accuracy: 0.5232 - val_loss: 0.6931 - val_accuracy: 0.5011\n",
      "Epoch 8/10\n",
      "66/66 [==============================] - 1s 12ms/step - loss: 0.6934 - accuracy: 0.4860 - val_loss: 0.6932 - val_accuracy: 0.4989\n",
      "Epoch 9/10\n",
      "66/66 [==============================] - 1s 12ms/step - loss: 0.6926 - accuracy: 0.5482 - val_loss: 0.6932 - val_accuracy: 0.4989\n",
      "Epoch 10/10\n",
      "66/66 [==============================] - 1s 13ms/step - loss: 0.6929 - accuracy: 0.5246 - val_loss: 0.6932 - val_accuracy: 0.4989\n",
      "INFO:tensorflow:Assets written to: CNN.model\\assets\n",
      "[[32, 5, 0.0005, 0.1, 3, 1, 128], [64, 2, 0.0001, 0.0, 3, 1, 512], [64, 5, 0.0001, 0.3, 6, 0, 512], [32, 7, 0.0001, 0.1, 4, 0, 512], [128, 7, 0.0001, 0.2, 6, 0, 512], [128, 7, 0.0001, 0.2, 5, 0, 512], [64, 2, 0.001, 0.5, 6, 0, 512], [256, 3, 0.001, 0.0, 6, 0, 512], [64, 7, 0.0005, 0.2, 6, 0, 512], [64, 5, 0.0001, 0.3, 5, 0, 128]]\n",
      "[0.14630223406140094, 0.16881002532968079, 0.18737273874671445, 0.19125925772054783, 0.20728163659263205, 0.24263583696305585, 0.2475691406754041, 0.24931948451823127, 0.25026340716605316, 0.196015802305642]\n",
      "Generasi Ke  3\n",
      "Parent 1 dan 2  [64, 5, 0.0001, 0.3, 6, 0, 512] [128, 7, 0.0001, 0.2, 5, 0, 512]\n",
      "Child 1 dan 2 [64, 5, 0.0001, 0.3, 5, 0, 512] [128, 7, 0.0001, 0.2, 6, 0, 512]\n",
      "Mutasi 1 dan 2 [64, 5, 0.0001, 0.3, 5, 0, 512] [128, 7, 0.0001, 0.2, 6, 0, 512]\n"
     ]
    },
    {
     "name": "stderr",
     "output_type": "stream",
     "text": [
      "D:\\ProgramData\\Anaconda3\\lib\\site-packages\\tensorflow\\python\\client\\session.py:1761: UserWarning: An interactive session is already active. This can cause out-of-memory errors in some cases. You must explicitly call `InteractiveSession.close()` to release resources held by the other session(s).\n",
      "  warnings.warn('An interactive session is already active. This can '\n"
     ]
    },
    {
     "name": "stdout",
     "output_type": "stream",
     "text": [
      "Epoch 1/10\n",
      "66/66 [==============================] - 2s 14ms/step - loss: 0.6917 - accuracy: 0.5392 - val_loss: 0.6851 - val_accuracy: 0.5011\n",
      "Epoch 2/10\n",
      "66/66 [==============================] - 1s 12ms/step - loss: 0.6884 - accuracy: 0.5167 - val_loss: 0.6602 - val_accuracy: 0.6443\n",
      "Epoch 3/10\n",
      "66/66 [==============================] - 1s 12ms/step - loss: 0.6511 - accuracy: 0.5978 - val_loss: 0.5658 - val_accuracy: 0.7204\n",
      "Epoch 4/10\n",
      "66/66 [==============================] - 1s 11ms/step - loss: 0.5652 - accuracy: 0.6967 - val_loss: 0.4885 - val_accuracy: 0.7696\n",
      "Epoch 5/10\n",
      "66/66 [==============================] - 1s 11ms/step - loss: 0.4896 - accuracy: 0.7829 - val_loss: 0.4565 - val_accuracy: 0.8121\n",
      "Epoch 6/10\n",
      "66/66 [==============================] - 1s 11ms/step - loss: 0.4555 - accuracy: 0.8203 - val_loss: 0.4105 - val_accuracy: 0.8412\n",
      "Epoch 7/10\n",
      "66/66 [==============================] - 1s 12ms/step - loss: 0.4157 - accuracy: 0.8256 - val_loss: 0.4020 - val_accuracy: 0.8233\n",
      "Epoch 8/10\n",
      "66/66 [==============================] - 1s 12ms/step - loss: 0.3810 - accuracy: 0.8460 - val_loss: 0.3243 - val_accuracy: 0.8725\n",
      "Epoch 9/10\n",
      "66/66 [==============================] - 1s 11ms/step - loss: 0.2873 - accuracy: 0.8814 - val_loss: 0.2879 - val_accuracy: 0.9060\n",
      "Epoch 10/10\n",
      "66/66 [==============================] - 1s 12ms/step - loss: 0.3352 - accuracy: 0.8715 - val_loss: 0.2672 - val_accuracy: 0.9105\n",
      "INFO:tensorflow:Assets written to: CNNmut.model\\assets\n",
      "[[32, 5, 0.0005, 0.1, 3, 1, 128], [64, 2, 0.0001, 0.0, 3, 1, 512], [64, 5, 0.0001, 0.3, 6, 0, 512], [32, 7, 0.0001, 0.1, 4, 0, 512], [64, 5, 0.0001, 0.3, 5, 0, 128], [128, 7, 0.0001, 0.2, 6, 0, 512], [128, 7, 0.0001, 0.2, 5, 0, 512], [64, 2, 0.001, 0.5, 6, 0, 512], [128, 7, 0.0001, 0.2, 6, 0, 512], [64, 5, 0.0001, 0.3, 5, 0, 512]]\n",
      "[0.14630223406140094, 0.16881002532968079, 0.18737273874671445, 0.19125925772054783, 0.196015802305642, 0.20728163659263205, 0.24263583696305585, 0.2475691406754041, 0.20728163659263205, 0.19993095728777058]\n",
      "Generasi Ke  4\n",
      "Parent 1 dan 2  [64, 5, 0.0001, 0.3, 6, 0, 512] [128, 7, 0.0001, 0.2, 6, 0, 512]\n",
      "Child 1 dan 2 [64, 5, 0.0001, 0.3, 6, 0, 512] [128, 7, 0.0001, 0.2, 6, 0, 512]\n",
      "Mutasi 1 dan 2 [64, 5, 0.0001, 0.3, 6, 0, 512] [128, 7, 0.0001, 0.2, 6, 0, 512]\n",
      "Epoch 1/10\n"
     ]
    },
    {
     "name": "stderr",
     "output_type": "stream",
     "text": [
      "D:\\ProgramData\\Anaconda3\\lib\\site-packages\\tensorflow\\python\\client\\session.py:1761: UserWarning: An interactive session is already active. This can cause out-of-memory errors in some cases. You must explicitly call `InteractiveSession.close()` to release resources held by the other session(s).\n",
      "  warnings.warn('An interactive session is already active. This can '\n"
     ]
    },
    {
     "name": "stdout",
     "output_type": "stream",
     "text": [
      "66/66 [==============================] - 2s 29ms/step - loss: 0.6935 - accuracy: 0.4960 - val_loss: 0.6926 - val_accuracy: 0.5011\n",
      "Epoch 2/10\n",
      "66/66 [==============================] - 2s 24ms/step - loss: 0.6929 - accuracy: 0.4893 - val_loss: 0.6578 - val_accuracy: 0.5302\n",
      "Epoch 3/10\n",
      "66/66 [==============================] - 2s 24ms/step - loss: 0.6483 - accuracy: 0.6263 - val_loss: 0.5471 - val_accuracy: 0.7226\n",
      "Epoch 4/10\n",
      "66/66 [==============================] - 2s 24ms/step - loss: 0.5718 - accuracy: 0.7123 - val_loss: 0.5387 - val_accuracy: 0.7405\n",
      "Epoch 5/10\n",
      "66/66 [==============================] - 2s 24ms/step - loss: 0.5180 - accuracy: 0.7555 - val_loss: 0.5464 - val_accuracy: 0.7338\n",
      "Epoch 6/10\n",
      "66/66 [==============================] - 2s 24ms/step - loss: 0.4890 - accuracy: 0.7845 - val_loss: 0.4537 - val_accuracy: 0.7942 0s - l\n",
      "Epoch 7/10\n",
      "66/66 [==============================] - 2s 24ms/step - loss: 0.4313 - accuracy: 0.8046 - val_loss: 0.4687 - val_accuracy: 0.7808\n",
      "Epoch 8/10\n",
      "66/66 [==============================] - 2s 24ms/step - loss: 0.4295 - accuracy: 0.8011 - val_loss: 0.3699 - val_accuracy: 0.8434\n",
      "Epoch 9/10\n",
      "66/66 [==============================] - 2s 24ms/step - loss: 0.3409 - accuracy: 0.8503 - val_loss: 0.3230 - val_accuracy: 0.8456\n",
      "Epoch 10/10\n",
      "66/66 [==============================] - 2s 24ms/step - loss: 0.3426 - accuracy: 0.8676 - val_loss: 0.2866 - val_accuracy: 0.8747\n",
      "INFO:tensorflow:Assets written to: CNNmut.model\\assets\n",
      "[[32, 5, 0.0005, 0.1, 3, 1, 128], [64, 2, 0.0001, 0.0, 3, 1, 512], [64, 5, 0.0001, 0.3, 6, 0, 512], [32, 7, 0.0001, 0.1, 4, 0, 512], [64, 5, 0.0001, 0.3, 5, 0, 128], [64, 5, 0.0001, 0.3, 5, 0, 512], [128, 7, 0.0001, 0.2, 6, 0, 512], [128, 7, 0.0001, 0.2, 6, 0, 512], [128, 7, 0.0001, 0.2, 6, 0, 512], [64, 5, 0.0001, 0.3, 6, 0, 512]]\n",
      "[0.14630223406140094, 0.16881002532968079, 0.18737273874671445, 0.19125925772054783, 0.196015802305642, 0.19993095728777058, 0.20728163659263205, 0.20728163659263205, 0.18787497686168955, 0.18737273874671445]\n",
      "Generasi Ke  5\n",
      "Parent 1 dan 2  [64, 5, 0.0001, 0.3, 6, 0, 512] [64, 5, 0.0001, 0.3, 5, 0, 512]\n",
      "Child 1 dan 2 [64, 5, 0.0001, 0.3, 5, 0, 512] [64, 5, 0.0001, 0.3, 6, 0, 512]\n",
      "Mutasi 1 dan 2 [64, 5, 0.0001, 0.3, 5, 0, 512] [64, 5, 0.0001, 0.3, 6, 0, 512]\n",
      "Epoch 1/10\n"
     ]
    },
    {
     "name": "stderr",
     "output_type": "stream",
     "text": [
      "D:\\ProgramData\\Anaconda3\\lib\\site-packages\\tensorflow\\python\\client\\session.py:1761: UserWarning: An interactive session is already active. This can cause out-of-memory errors in some cases. You must explicitly call `InteractiveSession.close()` to release resources held by the other session(s).\n",
      "  warnings.warn('An interactive session is already active. This can '\n"
     ]
    },
    {
     "name": "stdout",
     "output_type": "stream",
     "text": [
      "66/66 [==============================] - 2s 15ms/step - loss: 0.6932 - accuracy: 0.4919 - val_loss: 0.6920 - val_accuracy: 0.5570\n",
      "Epoch 2/10\n",
      "66/66 [==============================] - 1s 12ms/step - loss: 0.6927 - accuracy: 0.5120 - val_loss: 0.6898 - val_accuracy: 0.5168\n",
      "Epoch 3/10\n",
      "66/66 [==============================] - 1s 12ms/step - loss: 0.6871 - accuracy: 0.5741 - val_loss: 0.6081 - val_accuracy: 0.7136\n",
      "Epoch 4/10\n",
      "66/66 [==============================] - 1s 12ms/step - loss: 0.6019 - accuracy: 0.6890 - val_loss: 0.5500 - val_accuracy: 0.7092\n",
      "Epoch 5/10\n",
      "66/66 [==============================] - 1s 12ms/step - loss: 0.5497 - accuracy: 0.7459 - val_loss: 0.5289 - val_accuracy: 0.7226\n",
      "Epoch 6/10\n",
      "66/66 [==============================] - 1s 12ms/step - loss: 0.4806 - accuracy: 0.8004 - val_loss: 0.4598 - val_accuracy: 0.7942\n",
      "Epoch 7/10\n",
      "66/66 [==============================] - 1s 12ms/step - loss: 0.4534 - accuracy: 0.7845 - val_loss: 0.4396 - val_accuracy: 0.8098\n",
      "Epoch 8/10\n",
      "66/66 [==============================] - 1s 12ms/step - loss: 0.4315 - accuracy: 0.8116 - val_loss: 0.3907 - val_accuracy: 0.8300\n",
      "Epoch 9/10\n",
      "66/66 [==============================] - 1s 12ms/step - loss: 0.3546 - accuracy: 0.8707 - val_loss: 0.3403 - val_accuracy: 0.8725\n",
      "Epoch 10/10\n",
      "66/66 [==============================] - 1s 12ms/step - loss: 0.3705 - accuracy: 0.8522 - val_loss: 0.3246 - val_accuracy: 0.8680\n",
      "INFO:tensorflow:Assets written to: CNNmut.model\\assets\n",
      "[[32, 5, 0.0005, 0.1, 3, 1, 128], [64, 2, 0.0001, 0.0, 3, 1, 512], [64, 5, 0.0001, 0.3, 6, 0, 512], [64, 5, 0.0001, 0.3, 6, 0, 512], [128, 7, 0.0001, 0.2, 6, 0, 512], [32, 7, 0.0001, 0.1, 4, 0, 512], [64, 5, 0.0001, 0.3, 5, 0, 128], [64, 5, 0.0001, 0.3, 5, 0, 512], [64, 5, 0.0001, 0.3, 6, 0, 512], [64, 5, 0.0001, 0.3, 5, 0, 512]]\n",
      "[0.14630223406140094, 0.16881002532968079, 0.18737273874671445, 0.18737273874671445, 0.18787497686168955, 0.19125925772054783, 0.196015802305642, 0.19993095728777058, 0.20450393032643915, 0.19993095728777058]\n",
      "Generasi Ke  6\n",
      "Parent 1 dan 2  [64, 5, 0.0001, 0.3, 6, 0, 512] [32, 7, 0.0001, 0.1, 4, 0, 512]\n",
      "Child 1 dan 2 [64, 5, 0.0001, 0.3, 4, 0, 512] [32, 7, 0.0001, 0.1, 6, 0, 512]\n",
      "Mutasi 1 dan 2 [64, 5, 0.0001, 0.3, 4, 0, 512] [32, 7, 0.0001, 0.1, 6, 0, 512]\n",
      "Epoch 1/10\n"
     ]
    },
    {
     "name": "stderr",
     "output_type": "stream",
     "text": [
      "D:\\ProgramData\\Anaconda3\\lib\\site-packages\\tensorflow\\python\\client\\session.py:1761: UserWarning: An interactive session is already active. This can cause out-of-memory errors in some cases. You must explicitly call `InteractiveSession.close()` to release resources held by the other session(s).\n",
      "  warnings.warn('An interactive session is already active. This can '\n"
     ]
    },
    {
     "name": "stdout",
     "output_type": "stream",
     "text": [
      "66/66 [==============================] - 2s 16ms/step - loss: 0.6916 - accuracy: 0.5469 - val_loss: 0.6741 - val_accuracy: 0.5772\n",
      "Epoch 2/10\n",
      "66/66 [==============================] - 1s 11ms/step - loss: 0.6674 - accuracy: 0.6053 - val_loss: 0.5785 - val_accuracy: 0.7114\n",
      "Epoch 3/10\n",
      "66/66 [==============================] - 1s 12ms/step - loss: 0.5899 - accuracy: 0.6857 - val_loss: 0.5167 - val_accuracy: 0.7584\n",
      "Epoch 4/10\n",
      "66/66 [==============================] - 1s 12ms/step - loss: 0.5000 - accuracy: 0.7589 - val_loss: 0.4717 - val_accuracy: 0.8054\n",
      "Epoch 5/10\n",
      "66/66 [==============================] - 1s 11ms/step - loss: 0.4475 - accuracy: 0.8196 - val_loss: 0.4159 - val_accuracy: 0.8523\n",
      "Epoch 6/10\n",
      "66/66 [==============================] - 1s 11ms/step - loss: 0.4211 - accuracy: 0.8288 - val_loss: 0.3692 - val_accuracy: 0.8702\n",
      "Epoch 7/10\n",
      "66/66 [==============================] - 1s 11ms/step - loss: 0.3653 - accuracy: 0.8495 - val_loss: 0.3298 - val_accuracy: 0.8926\n",
      "Epoch 8/10\n",
      "66/66 [==============================] - 1s 11ms/step - loss: 0.3441 - accuracy: 0.8544 - val_loss: 0.2951 - val_accuracy: 0.8837\n",
      "Epoch 9/10\n",
      "66/66 [==============================] - 1s 11ms/step - loss: 0.2546 - accuracy: 0.8962 - val_loss: 0.2501 - val_accuracy: 0.9105\n",
      "Epoch 10/10\n",
      "66/66 [==============================] - 1s 11ms/step - loss: 0.2804 - accuracy: 0.8937 - val_loss: 0.2299 - val_accuracy: 0.9150\n",
      "INFO:tensorflow:Assets written to: CNN.model\\assets\n"
     ]
    },
    {
     "name": "stderr",
     "output_type": "stream",
     "text": [
      "D:\\ProgramData\\Anaconda3\\lib\\site-packages\\tensorflow\\python\\client\\session.py:1761: UserWarning: An interactive session is already active. This can cause out-of-memory errors in some cases. You must explicitly call `InteractiveSession.close()` to release resources held by the other session(s).\n",
      "  warnings.warn('An interactive session is already active. This can '\n"
     ]
    },
    {
     "name": "stdout",
     "output_type": "stream",
     "text": [
      "Epoch 1/10\n",
      "66/66 [==============================] - 3s 29ms/step - loss: 0.6930 - accuracy: 0.4987 - val_loss: 0.6912 - val_accuracy: 0.5168\n",
      "Epoch 2/10\n",
      "66/66 [==============================] - 1s 9ms/step - loss: 0.6922 - accuracy: 0.5125 - val_loss: 0.6840 - val_accuracy: 0.5369\n",
      "Epoch 3/10\n",
      "66/66 [==============================] - 1s 9ms/step - loss: 0.6742 - accuracy: 0.5877 - val_loss: 0.6258 - val_accuracy: 0.6130\n",
      "Epoch 4/10\n",
      "66/66 [==============================] - 1s 9ms/step - loss: 0.5777 - accuracy: 0.6898 - val_loss: 0.5403 - val_accuracy: 0.7226\n",
      "Epoch 5/10\n",
      "66/66 [==============================] - 1s 9ms/step - loss: 0.5438 - accuracy: 0.7309 - val_loss: 0.5217 - val_accuracy: 0.7494\n",
      "Epoch 6/10\n",
      "66/66 [==============================] - 1s 9ms/step - loss: 0.4857 - accuracy: 0.7842 - val_loss: 0.4801 - val_accuracy: 0.7785\n",
      "Epoch 7/10\n",
      "66/66 [==============================] - 1s 9ms/step - loss: 0.4741 - accuracy: 0.7681 - val_loss: 0.4835 - val_accuracy: 0.7718\n",
      "Epoch 8/10\n",
      "66/66 [==============================] - 1s 9ms/step - loss: 0.4712 - accuracy: 0.7785 - val_loss: 0.4486 - val_accuracy: 0.8076\n",
      "Epoch 9/10\n",
      "66/66 [==============================] - 1s 9ms/step - loss: 0.3879 - accuracy: 0.8394 - val_loss: 0.3984 - val_accuracy: 0.8255\n",
      "Epoch 10/10\n",
      "66/66 [==============================] - 1s 9ms/step - loss: 0.4588 - accuracy: 0.7980 - val_loss: 0.3847 - val_accuracy: 0.8412\n",
      "INFO:tensorflow:Assets written to: CNN.model\\assets\n",
      "[[32, 5, 0.0005, 0.1, 3, 1, 128], [64, 2, 0.0001, 0.0, 3, 1, 512], [64, 5, 0.0001, 0.3, 6, 0, 512], [64, 5, 0.0001, 0.3, 6, 0, 512], [128, 7, 0.0001, 0.2, 6, 0, 512], [32, 7, 0.0001, 0.1, 4, 0, 512], [64, 5, 0.0001, 0.3, 5, 0, 128], [64, 5, 0.0001, 0.3, 5, 0, 512], [32, 7, 0.0001, 0.1, 6, 0, 512], [64, 5, 0.0001, 0.3, 4, 0, 512]]\n",
      "[0.14630223406140094, 0.16881002532968079, 0.18737273874671445, 0.18737273874671445, 0.18787497686168955, 0.19125925772054783, 0.196015802305642, 0.19993095728777058, 0.16107274815995667, 0.209003966038378]\n",
      "Generasi Ke  7\n",
      "Parent 1 dan 2  [64, 5, 0.0001, 0.3, 6, 0, 512] [32, 7, 0.0001, 0.1, 4, 0, 512]\n",
      "Child 1 dan 2 [64, 5, 0.0001, 0.3, 4, 0, 512] [32, 7, 0.0001, 0.1, 6, 0, 512]\n",
      "Mutasi 1 dan 2 [64, 5, 0.0001, 0.3, 4, 0, 512] [32, 7, 0.0001, 0.1, 6, 0, 512]\n",
      "Epoch 1/10\n"
     ]
    },
    {
     "name": "stderr",
     "output_type": "stream",
     "text": [
      "D:\\ProgramData\\Anaconda3\\lib\\site-packages\\tensorflow\\python\\client\\session.py:1761: UserWarning: An interactive session is already active. This can cause out-of-memory errors in some cases. You must explicitly call `InteractiveSession.close()` to release resources held by the other session(s).\n",
      "  warnings.warn('An interactive session is already active. This can '\n"
     ]
    },
    {
     "name": "stdout",
     "output_type": "stream",
     "text": [
      "66/66 [==============================] - 1s 13ms/step - loss: 0.6930 - accuracy: 0.4984 - val_loss: 0.6909 - val_accuracy: 0.6957\n",
      "Epoch 2/10\n",
      "66/66 [==============================] - 1s 9ms/step - loss: 0.6924 - accuracy: 0.5129 - val_loss: 0.6863 - val_accuracy: 0.6353\n",
      "Epoch 3/10\n",
      "66/66 [==============================] - 1s 9ms/step - loss: 0.6779 - accuracy: 0.5756 - val_loss: 0.6308 - val_accuracy: 0.5973\n",
      "Epoch 4/10\n",
      "66/66 [==============================] - 1s 9ms/step - loss: 0.5769 - accuracy: 0.6903 - val_loss: 0.5288 - val_accuracy: 0.7360\n",
      "Epoch 5/10\n",
      "66/66 [==============================] - 1s 9ms/step - loss: 0.5474 - accuracy: 0.7298 - val_loss: 0.5178 - val_accuracy: 0.7427\n",
      "Epoch 6/10\n",
      "66/66 [==============================] - 1s 9ms/step - loss: 0.4804 - accuracy: 0.8011 - val_loss: 0.4712 - val_accuracy: 0.7987\n",
      "Epoch 7/10\n",
      "66/66 [==============================] - 1s 9ms/step - loss: 0.4723 - accuracy: 0.7609 - val_loss: 0.4677 - val_accuracy: 0.7875\n",
      "Epoch 8/10\n",
      "66/66 [==============================] - 1s 9ms/step - loss: 0.4726 - accuracy: 0.7800 - val_loss: 0.4440 - val_accuracy: 0.8076\n",
      "Epoch 9/10\n",
      "66/66 [==============================] - 1s 9ms/step - loss: 0.3876 - accuracy: 0.8483 - val_loss: 0.3961 - val_accuracy: 0.8233\n",
      "Epoch 10/10\n",
      "66/66 [==============================] - 1s 9ms/step - loss: 0.4542 - accuracy: 0.7870 - val_loss: 0.3801 - val_accuracy: 0.8389\n",
      "INFO:tensorflow:Assets written to: CNNmut.model\\assets\n",
      "[[32, 5, 0.0005, 0.1, 3, 1, 128], [32, 7, 0.0001, 0.1, 6, 0, 512], [64, 2, 0.0001, 0.0, 3, 1, 512], [64, 5, 0.0001, 0.3, 6, 0, 512], [64, 5, 0.0001, 0.3, 6, 0, 512], [128, 7, 0.0001, 0.2, 6, 0, 512], [32, 7, 0.0001, 0.1, 4, 0, 512], [64, 5, 0.0001, 0.3, 5, 0, 128], [32, 7, 0.0001, 0.1, 6, 0, 512], [64, 5, 0.0001, 0.3, 4, 0, 512]]\n",
      "[0.14630223406140094, 0.16107274815995667, 0.16881002532968079, 0.18737273874671445, 0.18737273874671445, 0.18787497686168955, 0.19125925772054783, 0.196015802305642, 0.16234773199623503, 0.209003966038378]\n",
      "Generasi Ke  8\n",
      "Parent 1 dan 2  [64, 2, 0.0001, 0.0, 3, 1, 512] [128, 7, 0.0001, 0.2, 6, 0, 512]\n",
      "Child 1 dan 2 [64, 2, 0.0001, 0.0, 6, 0, 512] [128, 7, 0.0001, 0.2, 3, 1, 512]\n",
      "Mutasi 1 dan 2 [64, 2, 0.0001, 0.0, 6, 0, 512] [128, 7, 0.0001, 0.2, 3, 1, 512]\n",
      "Epoch 1/10\n"
     ]
    },
    {
     "name": "stderr",
     "output_type": "stream",
     "text": [
      "D:\\ProgramData\\Anaconda3\\lib\\site-packages\\tensorflow\\python\\client\\session.py:1761: UserWarning: An interactive session is already active. This can cause out-of-memory errors in some cases. You must explicitly call `InteractiveSession.close()` to release resources held by the other session(s).\n",
      "  warnings.warn('An interactive session is already active. This can '\n"
     ]
    },
    {
     "name": "stdout",
     "output_type": "stream",
     "text": [
      "66/66 [==============================] - 1s 12ms/step - loss: 0.6929 - accuracy: 0.4880 - val_loss: 0.6918 - val_accuracy: 0.5168\n",
      "Epoch 2/10\n",
      "66/66 [==============================] - 1s 9ms/step - loss: 0.6918 - accuracy: 0.5519 - val_loss: 0.6887 - val_accuracy: 0.6242\n",
      "Epoch 3/10\n",
      "66/66 [==============================] - 1s 10ms/step - loss: 0.6861 - accuracy: 0.6004 - val_loss: 0.6916 - val_accuracy: 0.4989\n",
      "Epoch 4/10\n",
      "66/66 [==============================] - 1s 10ms/step - loss: 0.6753 - accuracy: 0.5741 - val_loss: 0.6433 - val_accuracy: 0.6555\n",
      "Epoch 5/10\n",
      "66/66 [==============================] - 1s 9ms/step - loss: 0.6243 - accuracy: 0.6861 - val_loss: 0.5926 - val_accuracy: 0.6868\n",
      "Epoch 6/10\n",
      "66/66 [==============================] - 1s 9ms/step - loss: 0.5610 - accuracy: 0.7541 - val_loss: 0.5962 - val_accuracy: 0.6913\n",
      "Epoch 7/10\n",
      "66/66 [==============================] - 1s 10ms/step - loss: 0.5536 - accuracy: 0.7323 - val_loss: 0.5560 - val_accuracy: 0.7427\n",
      "Epoch 8/10\n",
      "66/66 [==============================] - 1s 10ms/step - loss: 0.5614 - accuracy: 0.7072 - val_loss: 0.5401 - val_accuracy: 0.7271\n",
      "Epoch 9/10\n",
      "66/66 [==============================] - 1s 10ms/step - loss: 0.4920 - accuracy: 0.7782 - val_loss: 0.5208 - val_accuracy: 0.7472\n",
      "Epoch 10/10\n",
      "66/66 [==============================] - 1s 10ms/step - loss: 0.4971 - accuracy: 0.7754 - val_loss: 0.5149 - val_accuracy: 0.7494\n",
      "INFO:tensorflow:Assets written to: CNN.model\\assets\n"
     ]
    },
    {
     "name": "stderr",
     "output_type": "stream",
     "text": [
      "D:\\ProgramData\\Anaconda3\\lib\\site-packages\\tensorflow\\python\\client\\session.py:1761: UserWarning: An interactive session is already active. This can cause out-of-memory errors in some cases. You must explicitly call `InteractiveSession.close()` to release resources held by the other session(s).\n",
      "  warnings.warn('An interactive session is already active. This can '\n"
     ]
    },
    {
     "name": "stdout",
     "output_type": "stream",
     "text": [
      "Epoch 1/10\n",
      "66/66 [==============================] - 2s 23ms/step - loss: 0.6897 - accuracy: 0.5356 - val_loss: 0.7254 - val_accuracy: 0.5078\n",
      "Epoch 2/10\n",
      "66/66 [==============================] - 1s 21ms/step - loss: 0.6698 - accuracy: 0.6133 - val_loss: 0.5395 - val_accuracy: 0.7204\n",
      "Epoch 3/10\n",
      "66/66 [==============================] - 1s 21ms/step - loss: 0.5225 - accuracy: 0.7400 - val_loss: 0.4601 - val_accuracy: 0.7852\n",
      "Epoch 4/10\n",
      "66/66 [==============================] - 1s 21ms/step - loss: 0.4536 - accuracy: 0.7886 - val_loss: 0.4076 - val_accuracy: 0.8367\n",
      "Epoch 5/10\n",
      "66/66 [==============================] - 1s 21ms/step - loss: 0.4961 - accuracy: 0.7770 - val_loss: 0.3877 - val_accuracy: 0.8702\n",
      "Epoch 6/10\n",
      "66/66 [==============================] - 1s 22ms/step - loss: 0.3982 - accuracy: 0.8284 - val_loss: 0.4181 - val_accuracy: 0.8188\n",
      "Epoch 7/10\n",
      "66/66 [==============================] - 1s 21ms/step - loss: 0.3453 - accuracy: 0.8459 - val_loss: 0.2547 - val_accuracy: 0.9105\n",
      "Epoch 8/10\n",
      "66/66 [==============================] - 1s 21ms/step - loss: 0.2804 - accuracy: 0.8880 - val_loss: 0.3196 - val_accuracy: 0.8680\n",
      "Epoch 9/10\n",
      "66/66 [==============================] - 1s 22ms/step - loss: 0.2523 - accuracy: 0.8893 - val_loss: 0.2172 - val_accuracy: 0.9329\n",
      "Epoch 10/10\n",
      "66/66 [==============================] - 1s 21ms/step - loss: 0.2402 - accuracy: 0.8957 - val_loss: 0.1920 - val_accuracy: 0.9284\n",
      "INFO:tensorflow:Assets written to: CNN.model\\assets\n",
      "[[32, 5, 0.0005, 0.1, 3, 1, 128], [32, 7, 0.0001, 0.1, 6, 0, 512], [32, 7, 0.0001, 0.1, 6, 0, 512], [64, 2, 0.0001, 0.0, 3, 1, 512], [64, 5, 0.0001, 0.3, 6, 0, 512], [64, 5, 0.0001, 0.3, 6, 0, 512], [128, 7, 0.0001, 0.2, 6, 0, 512], [32, 7, 0.0001, 0.1, 4, 0, 512], [128, 7, 0.0001, 0.2, 3, 1, 512], [64, 2, 0.0001, 0.0, 6, 0, 512]]\n",
      "[0.14630223406140094, 0.16107274815995667, 0.16234773199623503, 0.16881002532968079, 0.18737273874671445, 0.18737273874671445, 0.18787497686168955, 0.19125925772054783, 0.21219292599177034, 0.16924310236904203]\n",
      "Generasi Ke  9\n",
      "Parent 1 dan 2  [32, 7, 0.0001, 0.1, 6, 0, 512] [64, 5, 0.0001, 0.3, 6, 0, 512]\n",
      "Child 1 dan 2 [32, 7, 0.0001, 0.1, 6, 0, 512] [64, 5, 0.0001, 0.3, 6, 0, 512]\n",
      "Mutasi 1 dan 2 [32, 7, 0.0001, 0.1, 6, 0, 512] [64, 5, 0.0001, 0.3, 6, 0, 512]\n",
      "Epoch 1/10\n"
     ]
    },
    {
     "name": "stderr",
     "output_type": "stream",
     "text": [
      "D:\\ProgramData\\Anaconda3\\lib\\site-packages\\tensorflow\\python\\client\\session.py:1761: UserWarning: An interactive session is already active. This can cause out-of-memory errors in some cases. You must explicitly call `InteractiveSession.close()` to release resources held by the other session(s).\n",
      "  warnings.warn('An interactive session is already active. This can '\n"
     ]
    },
    {
     "name": "stdout",
     "output_type": "stream",
     "text": [
      "66/66 [==============================] - 2s 16ms/step - loss: 0.6932 - accuracy: 0.4929 - val_loss: 0.6914 - val_accuracy: 0.5369\n",
      "Epoch 2/10\n",
      "66/66 [==============================] - 1s 13ms/step - loss: 0.6928 - accuracy: 0.5044 - val_loss: 0.6917 - val_accuracy: 0.6040\n",
      "Epoch 3/10\n",
      "66/66 [==============================] - 1s 14ms/step - loss: 0.6915 - accuracy: 0.5488 - val_loss: 0.7117 - val_accuracy: 0.4989\n",
      "Epoch 4/10\n",
      "66/66 [==============================] - 1s 13ms/step - loss: 0.6634 - accuracy: 0.5960 - val_loss: 0.5865 - val_accuracy: 0.6913\n",
      "Epoch 5/10\n",
      "66/66 [==============================] - 1s 13ms/step - loss: 0.6021 - accuracy: 0.6805 - val_loss: 0.5497 - val_accuracy: 0.7338\n",
      "Epoch 6/10\n",
      "66/66 [==============================] - 1s 13ms/step - loss: 0.5188 - accuracy: 0.7579 - val_loss: 0.4884 - val_accuracy: 0.7740\n",
      "Epoch 7/10\n",
      "66/66 [==============================] - 1s 13ms/step - loss: 0.4963 - accuracy: 0.7496 - val_loss: 0.4608 - val_accuracy: 0.7987\n",
      "Epoch 8/10\n",
      "66/66 [==============================] - 1s 13ms/step - loss: 0.4764 - accuracy: 0.7898 - val_loss: 0.4458 - val_accuracy: 0.7942\n",
      "Epoch 9/10\n",
      "66/66 [==============================] - 1s 12ms/step - loss: 0.3896 - accuracy: 0.8459 - val_loss: 0.3796 - val_accuracy: 0.8456\n",
      "Epoch 10/10\n",
      "66/66 [==============================] - 1s 12ms/step - loss: 0.4172 - accuracy: 0.8261 - val_loss: 0.3849 - val_accuracy: 0.8277\n",
      "INFO:tensorflow:Assets written to: CNNmut.model\\assets\n",
      "[[32, 5, 0.0005, 0.1, 3, 1, 128], [32, 7, 0.0001, 0.1, 6, 0, 512], [32, 7, 0.0001, 0.1, 6, 0, 512], [64, 2, 0.0001, 0.0, 3, 1, 512], [64, 2, 0.0001, 0.0, 6, 0, 512], [64, 5, 0.0001, 0.3, 6, 0, 512], [64, 5, 0.0001, 0.3, 6, 0, 512], [128, 7, 0.0001, 0.2, 6, 0, 512], [64, 5, 0.0001, 0.3, 6, 0, 512], [32, 7, 0.0001, 0.1, 6, 0, 512]]\n",
      "[0.14630223406140094, 0.16107274815995667, 0.16234773199623503, 0.16881002532968079, 0.16924310236904203, 0.18737273874671445, 0.18737273874671445, 0.18787497686168955, 0.1676011995619598, 0.16234773199623503]\n",
      "Generasi Ke  10\n",
      "Parent 1 dan 2  [32, 7, 0.0001, 0.1, 6, 0, 512] [64, 5, 0.0001, 0.3, 6, 0, 512]\n",
      "Child 1 dan 2 [32, 7, 0.0001, 0.1, 6, 0, 512] [64, 5, 0.0001, 0.3, 6, 0, 512]\n",
      "Mutasi 1 dan 2 [32, 7, 0.0001, 0.1, 6, 0, 512] [64, 5, 0.0001, 0.3, 6, 0, 512]\n",
      "Epoch 1/10\n"
     ]
    },
    {
     "name": "stderr",
     "output_type": "stream",
     "text": [
      "D:\\ProgramData\\Anaconda3\\lib\\site-packages\\tensorflow\\python\\client\\session.py:1761: UserWarning: An interactive session is already active. This can cause out-of-memory errors in some cases. You must explicitly call `InteractiveSession.close()` to release resources held by the other session(s).\n",
      "  warnings.warn('An interactive session is already active. This can '\n"
     ]
    },
    {
     "name": "stdout",
     "output_type": "stream",
     "text": [
      "66/66 [==============================] - 2s 16ms/step - loss: 0.6932 - accuracy: 0.4900 - val_loss: 0.6918 - val_accuracy: 0.5436\n",
      "Epoch 2/10\n",
      "66/66 [==============================] - 1s 12ms/step - loss: 0.6928 - accuracy: 0.5037 - val_loss: 0.6906 - val_accuracy: 0.5705\n",
      "Epoch 3/10\n",
      "66/66 [==============================] - 1s 13ms/step - loss: 0.6888 - accuracy: 0.5780 - val_loss: 0.6239 - val_accuracy: 0.7181\n",
      "Epoch 4/10\n",
      "66/66 [==============================] - 1s 13ms/step - loss: 0.6079 - accuracy: 0.6709 - val_loss: 0.5476 - val_accuracy: 0.7181\n",
      "Epoch 5/10\n",
      "66/66 [==============================] - 1s 13ms/step - loss: 0.5653 - accuracy: 0.7159 - val_loss: 0.5347 - val_accuracy: 0.7360\n",
      "Epoch 6/10\n",
      "66/66 [==============================] - 1s 13ms/step - loss: 0.4788 - accuracy: 0.8110 - val_loss: 0.4569 - val_accuracy: 0.8054\n",
      "Epoch 7/10\n",
      "66/66 [==============================] - 1s 13ms/step - loss: 0.4552 - accuracy: 0.7896 - val_loss: 0.4425 - val_accuracy: 0.8009\n",
      "Epoch 8/10\n",
      "66/66 [==============================] - 1s 13ms/step - loss: 0.4212 - accuracy: 0.8279 - val_loss: 0.3799 - val_accuracy: 0.8345\n",
      "Epoch 9/10\n",
      "66/66 [==============================] - 1s 13ms/step - loss: 0.3325 - accuracy: 0.8839 - val_loss: 0.3301 - val_accuracy: 0.8725\n",
      "Epoch 10/10\n",
      "66/66 [==============================] - 1s 13ms/step - loss: 0.3583 - accuracy: 0.8574 - val_loss: 0.3170 - val_accuracy: 0.8658\n",
      "INFO:tensorflow:Assets written to: CNNmut.model\\assets\n",
      "[[32, 5, 0.0005, 0.1, 3, 1, 128], [32, 7, 0.0001, 0.1, 6, 0, 512], [32, 7, 0.0001, 0.1, 6, 0, 512], [32, 7, 0.0001, 0.1, 6, 0, 512], [64, 5, 0.0001, 0.3, 6, 0, 512], [64, 2, 0.0001, 0.0, 3, 1, 512], [64, 2, 0.0001, 0.0, 6, 0, 512], [64, 5, 0.0001, 0.3, 6, 0, 512], [64, 5, 0.0001, 0.3, 6, 0, 512], [32, 7, 0.0001, 0.1, 6, 0, 512]]\n",
      "[0.14630223406140094, 0.16107274815995667, 0.16234773199623503, 0.16234773199623503, 0.1676011995619598, 0.16881002532968079, 0.16924310236904203, 0.18737273874671445, 0.20739261502119044, 0.16234773199623503]\n",
      "Generasi Ke  11\n",
      "Parent 1 dan 2  [32, 7, 0.0001, 0.1, 6, 0, 512] [64, 2, 0.0001, 0.0, 3, 1, 512]\n",
      "Child 1 dan 2 [32, 7, 0.0001, 0.1, 3, 1, 512] [64, 2, 0.0001, 0.0, 6, 0, 512]\n",
      "Mutasi 1 dan 2 [32, 7, 0.0001, 0.1, 3, 1, 512] [64, 2, 0.0001, 0.0, 6, 0, 512]\n",
      "Epoch 1/10\n"
     ]
    },
    {
     "name": "stderr",
     "output_type": "stream",
     "text": [
      "D:\\ProgramData\\Anaconda3\\lib\\site-packages\\tensorflow\\python\\client\\session.py:1761: UserWarning: An interactive session is already active. This can cause out-of-memory errors in some cases. You must explicitly call `InteractiveSession.close()` to release resources held by the other session(s).\n",
      "  warnings.warn('An interactive session is already active. This can '\n"
     ]
    },
    {
     "name": "stdout",
     "output_type": "stream",
     "text": [
      "66/66 [==============================] - 1s 10ms/step - loss: 0.6873 - accuracy: 0.5667 - val_loss: 0.6335 - val_accuracy: 0.7047\n",
      "Epoch 2/10\n",
      "66/66 [==============================] - 1s 8ms/step - loss: 0.6443 - accuracy: 0.6418 - val_loss: 0.5976 - val_accuracy: 0.6465\n",
      "Epoch 3/10\n",
      "66/66 [==============================] - 1s 8ms/step - loss: 0.5776 - accuracy: 0.6926 - val_loss: 0.5741 - val_accuracy: 0.6711\n",
      "Epoch 4/10\n",
      "66/66 [==============================] - 1s 8ms/step - loss: 0.5184 - accuracy: 0.7424 - val_loss: 0.4922 - val_accuracy: 0.7651\n",
      "Epoch 5/10\n",
      "66/66 [==============================] - 1s 8ms/step - loss: 0.4823 - accuracy: 0.7720 - val_loss: 0.4564 - val_accuracy: 0.7987\n",
      "Epoch 6/10\n",
      "66/66 [==============================] - 1s 8ms/step - loss: 0.4830 - accuracy: 0.7904 - val_loss: 0.4436 - val_accuracy: 0.7964\n",
      "Epoch 7/10\n",
      "66/66 [==============================] - 1s 8ms/step - loss: 0.4265 - accuracy: 0.8021 - val_loss: 0.4136 - val_accuracy: 0.8300\n",
      "Epoch 8/10\n",
      "66/66 [==============================] - 1s 8ms/step - loss: 0.4135 - accuracy: 0.8167 - val_loss: 0.3634 - val_accuracy: 0.8613\n",
      "Epoch 9/10\n",
      "66/66 [==============================] - 1s 8ms/step - loss: 0.3365 - accuracy: 0.8572 - val_loss: 0.3280 - val_accuracy: 0.8747\n",
      "Epoch 10/10\n",
      "66/66 [==============================] - 1s 8ms/step - loss: 0.3903 - accuracy: 0.8477 - val_loss: 0.3160 - val_accuracy: 0.8613\n",
      "INFO:tensorflow:Assets written to: CNNmut.model\\assets\n",
      "[[32, 5, 0.0005, 0.1, 3, 1, 128], [32, 7, 0.0001, 0.1, 6, 0, 512], [32, 7, 0.0001, 0.1, 6, 0, 512], [32, 7, 0.0001, 0.1, 6, 0, 512], [32, 7, 0.0001, 0.1, 6, 0, 512], [64, 5, 0.0001, 0.3, 6, 0, 512], [64, 2, 0.0001, 0.0, 3, 1, 512], [64, 2, 0.0001, 0.0, 6, 0, 512], [64, 2, 0.0001, 0.0, 6, 0, 512], [32, 7, 0.0001, 0.1, 3, 1, 512]]\n",
      "[0.14630223406140094, 0.16107274815995667, 0.16234773199623503, 0.16234773199623503, 0.16234773199623503, 0.1676011995619598, 0.16881002532968079, 0.16924310236904203, 0.16924310236904203, 0.16387617863837547]\n",
      "Generasi Ke  12\n",
      "Parent 1 dan 2  [32, 7, 0.0001, 0.1, 6, 0, 512] [64, 5, 0.0001, 0.3, 6, 0, 512]\n",
      "Child 1 dan 2 [32, 7, 0.0001, 0.1, 6, 0, 512] [64, 5, 0.0001, 0.3, 6, 0, 512]\n",
      "Mutasi 1 dan 2 [32, 7, 0.0001, 0.1, 6, 0, 512] [64, 5, 0.0001, 0.3, 6, 0, 512]\n",
      "Epoch 1/10\n"
     ]
    },
    {
     "name": "stderr",
     "output_type": "stream",
     "text": [
      "D:\\ProgramData\\Anaconda3\\lib\\site-packages\\tensorflow\\python\\client\\session.py:1761: UserWarning: An interactive session is already active. This can cause out-of-memory errors in some cases. You must explicitly call `InteractiveSession.close()` to release resources held by the other session(s).\n",
      "  warnings.warn('An interactive session is already active. This can '\n"
     ]
    },
    {
     "name": "stdout",
     "output_type": "stream",
     "text": [
      "66/66 [==============================] - 2s 16ms/step - loss: 0.6931 - accuracy: 0.4984 - val_loss: 0.6915 - val_accuracy: 0.5145\n",
      "Epoch 2/10\n",
      "66/66 [==============================] - 1s 13ms/step - loss: 0.6929 - accuracy: 0.5013 - val_loss: 0.6910 - val_accuracy: 0.6555\n",
      "Epoch 3/10\n",
      "66/66 [==============================] - 1s 12ms/step - loss: 0.6905 - accuracy: 0.5271 - val_loss: 0.6467 - val_accuracy: 0.6197\n",
      "Epoch 4/10\n",
      "66/66 [==============================] - 1s 12ms/step - loss: 0.6242 - accuracy: 0.6391 - val_loss: 0.5512 - val_accuracy: 0.7383\n",
      "Epoch 5/10\n",
      "66/66 [==============================] - 1s 13ms/step - loss: 0.5918 - accuracy: 0.7172 - val_loss: 0.5345 - val_accuracy: 0.7427\n",
      "Epoch 6/10\n",
      "66/66 [==============================] - 1s 13ms/step - loss: 0.5060 - accuracy: 0.7781 - val_loss: 0.4837 - val_accuracy: 0.7852\n",
      "Epoch 7/10\n",
      "66/66 [==============================] - 1s 13ms/step - loss: 0.4928 - accuracy: 0.7536 - val_loss: 0.4704 - val_accuracy: 0.7852\n",
      "Epoch 8/10\n",
      "66/66 [==============================] - 1s 12ms/step - loss: 0.4721 - accuracy: 0.7865 - val_loss: 0.4365 - val_accuracy: 0.7942\n",
      "Epoch 9/10\n",
      "66/66 [==============================] - 1s 12ms/step - loss: 0.3807 - accuracy: 0.8661 - val_loss: 0.3739 - val_accuracy: 0.8479\n",
      "Epoch 10/10\n",
      "66/66 [==============================] - 1s 13ms/step - loss: 0.4062 - accuracy: 0.8263 - val_loss: 0.3542 - val_accuracy: 0.8523\n",
      "INFO:tensorflow:Assets written to: CNNmut.model\\assets\n",
      "[[32, 5, 0.0005, 0.1, 3, 1, 128], [32, 7, 0.0001, 0.1, 6, 0, 512], [32, 7, 0.0001, 0.1, 6, 0, 512], [32, 7, 0.0001, 0.1, 6, 0, 512], [32, 7, 0.0001, 0.1, 6, 0, 512], [32, 7, 0.0001, 0.1, 3, 1, 512], [64, 5, 0.0001, 0.3, 6, 0, 512], [64, 2, 0.0001, 0.0, 3, 1, 512], [64, 5, 0.0001, 0.3, 6, 0, 512], [32, 7, 0.0001, 0.1, 6, 0, 512]]\n",
      "[0.14630223406140094, 0.16107274815995667, 0.16234773199623503, 0.16234773199623503, 0.16234773199623503, 0.16387617863837547, 0.1676011995619598, 0.16881002532968079, 0.16828390221594144, 0.16234773199623503]\n",
      "Generasi Ke  13\n",
      "Parent 1 dan 2  [32, 7, 0.0001, 0.1, 6, 0, 512] [32, 7, 0.0001, 0.1, 3, 1, 512]\n",
      "Child 1 dan 2 [32, 7, 0.0001, 0.1, 3, 1, 512] [32, 7, 0.0001, 0.1, 6, 0, 512]\n",
      "Mutasi 1 dan 2 [32, 7, 0.0001, 0.1, 3, 1, 512] [32, 7, 0.0001, 0.1, 6, 0, 512]\n",
      "Epoch 1/10\n"
     ]
    },
    {
     "name": "stderr",
     "output_type": "stream",
     "text": [
      "D:\\ProgramData\\Anaconda3\\lib\\site-packages\\tensorflow\\python\\client\\session.py:1761: UserWarning: An interactive session is already active. This can cause out-of-memory errors in some cases. You must explicitly call `InteractiveSession.close()` to release resources held by the other session(s).\n",
      "  warnings.warn('An interactive session is already active. This can '\n"
     ]
    },
    {
     "name": "stdout",
     "output_type": "stream",
     "text": [
      "66/66 [==============================] - 1s 12ms/step - loss: 0.6930 - accuracy: 0.4988 - val_loss: 0.6906 - val_accuracy: 0.7025\n",
      "Epoch 2/10\n",
      "66/66 [==============================] - 1s 10ms/step - loss: 0.6919 - accuracy: 0.5123 - val_loss: 0.6868 - val_accuracy: 0.6801\n",
      "Epoch 3/10\n",
      "66/66 [==============================] - 1s 10ms/step - loss: 0.6818 - accuracy: 0.5654 - val_loss: 0.5972 - val_accuracy: 0.6890\n",
      "Epoch 4/10\n",
      "66/66 [==============================] - 1s 11ms/step - loss: 0.5817 - accuracy: 0.6830 - val_loss: 0.5442 - val_accuracy: 0.7405\n",
      "Epoch 5/10\n",
      "66/66 [==============================] - 1s 10ms/step - loss: 0.5528 - accuracy: 0.7304 - val_loss: 0.5327 - val_accuracy: 0.7315\n",
      "Epoch 6/10\n",
      "66/66 [==============================] - 1s 9ms/step - loss: 0.4968 - accuracy: 0.7724 - val_loss: 0.4928 - val_accuracy: 0.7740\n",
      "Epoch 7/10\n",
      "66/66 [==============================] - 1s 9ms/step - loss: 0.5070 - accuracy: 0.7370 - val_loss: 0.4831 - val_accuracy: 0.7897\n",
      "Epoch 8/10\n",
      "66/66 [==============================] - 1s 10ms/step - loss: 0.4973 - accuracy: 0.7708 - val_loss: 0.4646 - val_accuracy: 0.7987\n",
      "Epoch 9/10\n",
      "66/66 [==============================] - 1s 11ms/step - loss: 0.4173 - accuracy: 0.8367 - val_loss: 0.4190 - val_accuracy: 0.8098\n",
      "Epoch 10/10\n",
      "66/66 [==============================] - 1s 10ms/step - loss: 0.4810 - accuracy: 0.7801 - val_loss: 0.4161 - val_accuracy: 0.8255\n",
      "INFO:tensorflow:Assets written to: CNNmut.model\\assets\n",
      "[[32, 5, 0.0005, 0.1, 3, 1, 128], [32, 7, 0.0001, 0.1, 6, 0, 512], [32, 7, 0.0001, 0.1, 6, 0, 512], [32, 7, 0.0001, 0.1, 6, 0, 512], [32, 7, 0.0001, 0.1, 6, 0, 512], [32, 7, 0.0001, 0.1, 6, 0, 512], [32, 7, 0.0001, 0.1, 3, 1, 512], [64, 5, 0.0001, 0.3, 6, 0, 512], [32, 7, 0.0001, 0.1, 6, 0, 512], [32, 7, 0.0001, 0.1, 3, 1, 512]]\n",
      "[0.14630223406140094, 0.16107274815995667, 0.16234773199623503, 0.16234773199623503, 0.16234773199623503, 0.16234773199623503, 0.16387617863837547, 0.1676011995619598, 0.1592047597253997, 0.16387617863837547]\n",
      "Generasi Ke  14\n",
      "Parent 1 dan 2  [32, 7, 0.0001, 0.1, 6, 0, 512] [32, 7, 0.0001, 0.1, 3, 1, 512]\n",
      "Child 1 dan 2 [32, 7, 0.0001, 0.1, 3, 1, 512] [32, 7, 0.0001, 0.1, 6, 0, 512]\n",
      "Mutasi 1 dan 2 [32, 7, 0.0001, 0.1, 3, 1, 512] [32, 7, 0.0001, 0.1, 6, 0, 512]\n"
     ]
    },
    {
     "name": "stderr",
     "output_type": "stream",
     "text": [
      "D:\\ProgramData\\Anaconda3\\lib\\site-packages\\tensorflow\\python\\client\\session.py:1761: UserWarning: An interactive session is already active. This can cause out-of-memory errors in some cases. You must explicitly call `InteractiveSession.close()` to release resources held by the other session(s).\n",
      "  warnings.warn('An interactive session is already active. This can '\n"
     ]
    },
    {
     "name": "stdout",
     "output_type": "stream",
     "text": [
      "Epoch 1/10\n",
      "66/66 [==============================] - 2s 19ms/step - loss: 0.6930 - accuracy: 0.4981 - val_loss: 0.6911 - val_accuracy: 0.4989\n",
      "Epoch 2/10\n",
      "66/66 [==============================] - 1s 13ms/step - loss: 0.6914 - accuracy: 0.5496 - val_loss: 0.6828 - val_accuracy: 0.5906\n",
      "Epoch 3/10\n",
      "66/66 [==============================] - 1s 15ms/step - loss: 0.6706 - accuracy: 0.6076 - val_loss: 0.6304 - val_accuracy: 0.6040\n",
      "Epoch 4/10\n",
      "66/66 [==============================] - 1s 13ms/step - loss: 0.5718 - accuracy: 0.6923 - val_loss: 0.5408 - val_accuracy: 0.7450\n",
      "Epoch 5/10\n",
      "66/66 [==============================] - 1s 13ms/step - loss: 0.5358 - accuracy: 0.7384 - val_loss: 0.5293 - val_accuracy: 0.7338\n",
      "Epoch 6/10\n",
      "66/66 [==============================] - 1s 13ms/step - loss: 0.4844 - accuracy: 0.7907 - val_loss: 0.4856 - val_accuracy: 0.7830\n",
      "Epoch 7/10\n",
      "66/66 [==============================] - 1s 13ms/step - loss: 0.4761 - accuracy: 0.7686 - val_loss: 0.4717 - val_accuracy: 0.8031\n",
      "Epoch 8/10\n",
      "66/66 [==============================] - 1s 13ms/step - loss: 0.4812 - accuracy: 0.7761 - val_loss: 0.4549 - val_accuracy: 0.8076\n",
      "Epoch 9/10\n",
      "66/66 [==============================] - 1s 13ms/step - loss: 0.3963 - accuracy: 0.8471 - val_loss: 0.4054 - val_accuracy: 0.8322\n",
      "Epoch 10/10\n",
      "66/66 [==============================] - 1s 13ms/step - loss: 0.4540 - accuracy: 0.7906 - val_loss: 0.3858 - val_accuracy: 0.8389\n",
      "INFO:tensorflow:Assets written to: CNNmut.model\\assets\n",
      "[[32, 5, 0.0005, 0.1, 3, 1, 128], [32, 7, 0.0001, 0.1, 6, 0, 512], [32, 7, 0.0001, 0.1, 6, 0, 512], [32, 7, 0.0001, 0.1, 6, 0, 512], [32, 7, 0.0001, 0.1, 6, 0, 512], [32, 7, 0.0001, 0.1, 6, 0, 512], [32, 7, 0.0001, 0.1, 6, 0, 512], [32, 7, 0.0001, 0.1, 3, 1, 512], [32, 7, 0.0001, 0.1, 6, 0, 512], [32, 7, 0.0001, 0.1, 3, 1, 512]]\n",
      "[0.14630223406140094, 0.1592047597253997, 0.16107274815995667, 0.16234773199623503, 0.16234773199623503, 0.16234773199623503, 0.16234773199623503, 0.16387617863837547, 0.14798303949935054, 0.16387617863837547]\n",
      "Generasi Ke  15\n",
      "Parent 1 dan 2  [32, 7, 0.0001, 0.1, 6, 0, 512] [32, 7, 0.0001, 0.1, 3, 1, 512]\n",
      "Child 1 dan 2 [32, 7, 0.0001, 0.1, 3, 1, 512] [32, 7, 0.0001, 0.1, 6, 0, 512]\n",
      "Mutasi 1 dan 2 [32, 7, 0.0001, 0.1, 3, 1, 512] [32, 7, 0.0001, 0.1, 6, 0, 512]\n"
     ]
    },
    {
     "name": "stderr",
     "output_type": "stream",
     "text": [
      "D:\\ProgramData\\Anaconda3\\lib\\site-packages\\tensorflow\\python\\client\\session.py:1761: UserWarning: An interactive session is already active. This can cause out-of-memory errors in some cases. You must explicitly call `InteractiveSession.close()` to release resources held by the other session(s).\n",
      "  warnings.warn('An interactive session is already active. This can '\n"
     ]
    },
    {
     "name": "stdout",
     "output_type": "stream",
     "text": [
      "Epoch 1/10\n",
      "66/66 [==============================] - 2s 15ms/step - loss: 0.6931 - accuracy: 0.4992 - val_loss: 0.6908 - val_accuracy: 0.5503\n",
      "Epoch 2/10\n",
      "66/66 [==============================] - 1s 12ms/step - loss: 0.6920 - accuracy: 0.5216 - val_loss: 0.6871 - val_accuracy: 0.6353\n",
      "Epoch 3/10\n",
      "66/66 [==============================] - 1s 13ms/step - loss: 0.6799 - accuracy: 0.5796 - val_loss: 0.6164 - val_accuracy: 0.6264\n",
      "Epoch 4/10\n",
      "66/66 [==============================] - 1s 13ms/step - loss: 0.5835 - accuracy: 0.6881 - val_loss: 0.5406 - val_accuracy: 0.7248\n",
      "Epoch 5/10\n",
      "66/66 [==============================] - 1s 13ms/step - loss: 0.5427 - accuracy: 0.7367 - val_loss: 0.5145 - val_accuracy: 0.7517\n",
      "Epoch 6/10\n",
      "66/66 [==============================] - 1s 12ms/step - loss: 0.4909 - accuracy: 0.7710 - val_loss: 0.4852 - val_accuracy: 0.7740\n",
      "Epoch 7/10\n",
      "66/66 [==============================] - 1s 12ms/step - loss: 0.4928 - accuracy: 0.7677 - val_loss: 0.4707 - val_accuracy: 0.8009\n",
      "Epoch 8/10\n",
      "66/66 [==============================] - 1s 11ms/step - loss: 0.4809 - accuracy: 0.7776 - val_loss: 0.4454 - val_accuracy: 0.8031\n",
      "Epoch 9/10\n",
      "66/66 [==============================] - 1s 12ms/step - loss: 0.3987 - accuracy: 0.8316 - val_loss: 0.4073 - val_accuracy: 0.8255\n",
      "Epoch 10/10\n",
      "66/66 [==============================] - 1s 10ms/step - loss: 0.4586 - accuracy: 0.7915 - val_loss: 0.3901 - val_accuracy: 0.8389\n",
      "INFO:tensorflow:Assets written to: CNNmut.model\\assets\n",
      "[[32, 5, 0.0005, 0.1, 3, 1, 128], [32, 7, 0.0001, 0.1, 6, 0, 512], [32, 7, 0.0001, 0.1, 6, 0, 512], [32, 7, 0.0001, 0.1, 6, 0, 512], [32, 7, 0.0001, 0.1, 6, 0, 512], [32, 7, 0.0001, 0.1, 6, 0, 512], [32, 7, 0.0001, 0.1, 6, 0, 512], [32, 7, 0.0001, 0.1, 6, 0, 512], [32, 7, 0.0001, 0.1, 6, 0, 512], [32, 7, 0.0001, 0.1, 3, 1, 512]]\n",
      "[0.14630223406140094, 0.14798303949935054, 0.1592047597253997, 0.16107274815995667, 0.16234773199623503, 0.16234773199623503, 0.16234773199623503, 0.16234773199623503, 0.1619119997205373, 0.16387617863837547]\n",
      "Generasi Ke  16\n",
      "Parent 1 dan 2  [32, 7, 0.0001, 0.1, 6, 0, 512] [32, 5, 0.0005, 0.1, 3, 1, 128]\n",
      "Child 1 dan 2 [32, 7, 0.0001, 0.1, 3, 1, 128] [32, 5, 0.0005, 0.1, 6, 0, 512]\n",
      "Mutasi 1 dan 2 [32, 7, 0.0001, 0.1, 3, 1, 128] [32, 5, 0.0005, 0.1, 6, 0, 512]\n",
      "Epoch 1/10\n"
     ]
    },
    {
     "name": "stderr",
     "output_type": "stream",
     "text": [
      "D:\\ProgramData\\Anaconda3\\lib\\site-packages\\tensorflow\\python\\client\\session.py:1761: UserWarning: An interactive session is already active. This can cause out-of-memory errors in some cases. You must explicitly call `InteractiveSession.close()` to release resources held by the other session(s).\n",
      "  warnings.warn('An interactive session is already active. This can '\n"
     ]
    },
    {
     "name": "stdout",
     "output_type": "stream",
     "text": [
      "66/66 [==============================] - 1s 11ms/step - loss: 0.6855 - accuracy: 0.5505 - val_loss: 0.6361 - val_accuracy: 0.7159\n",
      "Epoch 2/10\n",
      "66/66 [==============================] - 1s 9ms/step - loss: 0.6371 - accuracy: 0.6463 - val_loss: 0.5614 - val_accuracy: 0.7338\n",
      "Epoch 3/10\n",
      "66/66 [==============================] - 1s 8ms/step - loss: 0.5918 - accuracy: 0.6812 - val_loss: 0.5387 - val_accuracy: 0.7069\n",
      "Epoch 4/10\n",
      "66/66 [==============================] - 1s 9ms/step - loss: 0.5208 - accuracy: 0.7342 - val_loss: 0.4935 - val_accuracy: 0.7696\n",
      "Epoch 5/10\n",
      "66/66 [==============================] - 1s 9ms/step - loss: 0.5038 - accuracy: 0.7680 - val_loss: 0.4658 - val_accuracy: 0.8031\n",
      "Epoch 6/10\n",
      "66/66 [==============================] - 1s 9ms/step - loss: 0.4725 - accuracy: 0.7923 - val_loss: 0.4457 - val_accuracy: 0.8188\n",
      "Epoch 7/10\n",
      "66/66 [==============================] - 1s 9ms/step - loss: 0.4400 - accuracy: 0.7840 - val_loss: 0.4540 - val_accuracy: 0.7763\n",
      "Epoch 8/10\n",
      "66/66 [==============================] - 1s 9ms/step - loss: 0.4557 - accuracy: 0.7853 - val_loss: 0.4290 - val_accuracy: 0.8031\n",
      "Epoch 9/10\n",
      "66/66 [==============================] - 1s 9ms/step - loss: 0.3735 - accuracy: 0.8535 - val_loss: 0.3701 - val_accuracy: 0.8412\n",
      "Epoch 10/10\n",
      "66/66 [==============================] - 1s 8ms/step - loss: 0.4817 - accuracy: 0.7800 - val_loss: 0.3466 - val_accuracy: 0.8501\n",
      "INFO:tensorflow:Assets written to: CNN.model\\assets\n"
     ]
    },
    {
     "name": "stderr",
     "output_type": "stream",
     "text": [
      "D:\\ProgramData\\Anaconda3\\lib\\site-packages\\tensorflow\\python\\client\\session.py:1761: UserWarning: An interactive session is already active. This can cause out-of-memory errors in some cases. You must explicitly call `InteractiveSession.close()` to release resources held by the other session(s).\n",
      "  warnings.warn('An interactive session is already active. This can '\n"
     ]
    },
    {
     "name": "stdout",
     "output_type": "stream",
     "text": [
      "Epoch 1/10\n",
      "66/66 [==============================] - 5s 44ms/step - loss: 0.6935 - accuracy: 0.4914 - val_loss: 0.6923 - val_accuracy: 0.6644\n",
      "Epoch 2/10\n",
      "66/66 [==============================] - 1s 10ms/step - loss: 0.6938 - accuracy: 0.4890 - val_loss: 0.6930 - val_accuracy: 0.5011\n",
      "Epoch 3/10\n",
      "66/66 [==============================] - 1s 10ms/step - loss: 0.6931 - accuracy: 0.4661 - val_loss: 0.6802 - val_accuracy: 0.5011\n",
      "Epoch 4/10\n",
      "66/66 [==============================] - 1s 10ms/step - loss: 0.6628 - accuracy: 0.6260 - val_loss: 0.6162 - val_accuracy: 0.6779\n",
      "Epoch 5/10\n",
      "66/66 [==============================] - 1s 9ms/step - loss: 0.6310 - accuracy: 0.6649 - val_loss: 0.6061 - val_accuracy: 0.6868\n",
      "Epoch 6/10\n",
      "66/66 [==============================] - 1s 9ms/step - loss: 0.5291 - accuracy: 0.7596 - val_loss: 0.5267 - val_accuracy: 0.7315\n",
      "Epoch 7/10\n",
      "66/66 [==============================] - 1s 9ms/step - loss: 0.4805 - accuracy: 0.7711 - val_loss: 0.4815 - val_accuracy: 0.7673\n",
      "Epoch 8/10\n",
      "66/66 [==============================] - 1s 10ms/step - loss: 0.4294 - accuracy: 0.8098 - val_loss: 0.4450 - val_accuracy: 0.7942\n",
      "Epoch 9/10\n",
      "66/66 [==============================] - 1s 10ms/step - loss: 0.3681 - accuracy: 0.8496 - val_loss: 0.3657 - val_accuracy: 0.8434\n",
      "Epoch 10/10\n",
      "66/66 [==============================] - 1s 10ms/step - loss: 0.3876 - accuracy: 0.8290 - val_loss: 0.3504 - val_accuracy: 0.8501\n",
      "INFO:tensorflow:Assets written to: CNN.model\\assets\n",
      "[[32, 5, 0.0005, 0.1, 3, 1, 128], [32, 7, 0.0001, 0.1, 6, 0, 512], [32, 7, 0.0001, 0.1, 6, 0, 512], [32, 7, 0.0001, 0.1, 6, 0, 512], [32, 7, 0.0001, 0.1, 6, 0, 512], [32, 7, 0.0001, 0.1, 6, 0, 512], [32, 7, 0.0001, 0.1, 6, 0, 512], [32, 7, 0.0001, 0.1, 6, 0, 512], [32, 5, 0.0005, 0.1, 6, 0, 512], [32, 7, 0.0001, 0.1, 3, 1, 128]]\n",
      "[0.14630223406140094, 0.14798303949935054, 0.1592047597253997, 0.16107274815995667, 0.1619119997205373, 0.16234773199623503, 0.16234773199623503, 0.16234773199623503, 0.2411708793841415, 0.13339235694150006]\n",
      "Generasi Ke  17\n",
      "Parent 1 dan 2  [32, 7, 0.0001, 0.1, 6, 0, 512] [32, 5, 0.0005, 0.1, 3, 1, 128]\n",
      "Child 1 dan 2 [32, 7, 0.0001, 0.1, 3, 1, 128] [32, 5, 0.0005, 0.1, 6, 0, 512]\n",
      "Mutasi 1 dan 2 [32, 7, 0.0001, 0.1, 3, 1, 128] [32, 5, 0.0005, 0.1, 6, 0, 512]\n",
      "Epoch 1/10\n"
     ]
    },
    {
     "name": "stderr",
     "output_type": "stream",
     "text": [
      "D:\\ProgramData\\Anaconda3\\lib\\site-packages\\tensorflow\\python\\client\\session.py:1761: UserWarning: An interactive session is already active. This can cause out-of-memory errors in some cases. You must explicitly call `InteractiveSession.close()` to release resources held by the other session(s).\n",
      "  warnings.warn('An interactive session is already active. This can '\n"
     ]
    },
    {
     "name": "stdout",
     "output_type": "stream",
     "text": [
      "66/66 [==============================] - 2s 14ms/step - loss: 0.6935 - accuracy: 0.4904 - val_loss: 0.6926 - val_accuracy: 0.5011\n",
      "Epoch 2/10\n",
      "66/66 [==============================] - 1s 10ms/step - loss: 0.6938 - accuracy: 0.4785 - val_loss: 0.6919 - val_accuracy: 0.5145\n",
      "Epoch 3/10\n",
      "66/66 [==============================] - 1s 9ms/step - loss: 0.6853 - accuracy: 0.5898 - val_loss: 0.6621 - val_accuracy: 0.7136\n",
      "Epoch 4/10\n",
      "66/66 [==============================] - 1s 10ms/step - loss: 0.6253 - accuracy: 0.6969 - val_loss: 0.5570 - val_accuracy: 0.7360\n",
      "Epoch 5/10\n",
      "66/66 [==============================] - 1s 10ms/step - loss: 0.5934 - accuracy: 0.6900 - val_loss: 0.5604 - val_accuracy: 0.6935\n",
      "Epoch 6/10\n",
      "66/66 [==============================] - 1s 10ms/step - loss: 0.5045 - accuracy: 0.7841 - val_loss: 0.5672 - val_accuracy: 0.7002\n",
      "Epoch 7/10\n",
      "66/66 [==============================] - 1s 10ms/step - loss: 0.4883 - accuracy: 0.7537 - val_loss: 0.4456 - val_accuracy: 0.8076\n",
      "Epoch 8/10\n",
      "66/66 [==============================] - 1s 9ms/step - loss: 0.4260 - accuracy: 0.8128 - val_loss: 0.4267 - val_accuracy: 0.8143\n",
      "Epoch 9/10\n",
      "66/66 [==============================] - 1s 10ms/step - loss: 0.3534 - accuracy: 0.8484 - val_loss: 0.4479 - val_accuracy: 0.7830\n",
      "Epoch 10/10\n",
      "66/66 [==============================] - 1s 9ms/step - loss: 0.4332 - accuracy: 0.8110 - val_loss: 0.3055 - val_accuracy: 0.8814\n",
      "INFO:tensorflow:Assets written to: CNNmut.model\\assets\n",
      "[[32, 7, 0.0001, 0.1, 3, 1, 128], [32, 5, 0.0005, 0.1, 3, 1, 128], [32, 7, 0.0001, 0.1, 6, 0, 512], [32, 7, 0.0001, 0.1, 6, 0, 512], [32, 7, 0.0001, 0.1, 6, 0, 512], [32, 7, 0.0001, 0.1, 6, 0, 512], [32, 7, 0.0001, 0.1, 6, 0, 512], [32, 7, 0.0001, 0.1, 6, 0, 512], [32, 5, 0.0005, 0.1, 6, 0, 512], [32, 7, 0.0001, 0.1, 3, 1, 128]]\n",
      "[0.13339235694150006, 0.14630223406140094, 0.14798303949935054, 0.1592047597253997, 0.16107274815995667, 0.1619119997205373, 0.16234773199623503, 0.16234773199623503, 0.17159690088777274, 0.13339235694150006]\n",
      "Generasi Ke  18\n",
      "Parent 1 dan 2  [32, 7, 0.0001, 0.1, 6, 0, 512] [32, 7, 0.0001, 0.1, 3, 1, 128]\n",
      "Child 1 dan 2 [32, 7, 0.0001, 0.1, 3, 1, 128] [32, 7, 0.0001, 0.1, 6, 0, 512]\n",
      "Mutasi 1 dan 2 [32, 7, 0.0001, 0.1, 3, 1, 128] [32, 7, 0.0001, 0.1, 6, 0, 512]\n",
      "Epoch 1/10\n"
     ]
    },
    {
     "name": "stderr",
     "output_type": "stream",
     "text": [
      "D:\\ProgramData\\Anaconda3\\lib\\site-packages\\tensorflow\\python\\client\\session.py:1761: UserWarning: An interactive session is already active. This can cause out-of-memory errors in some cases. You must explicitly call `InteractiveSession.close()` to release resources held by the other session(s).\n",
      "  warnings.warn('An interactive session is already active. This can '\n"
     ]
    },
    {
     "name": "stdout",
     "output_type": "stream",
     "text": [
      "66/66 [==============================] - 2s 14ms/step - loss: 0.6930 - accuracy: 0.4994 - val_loss: 0.6902 - val_accuracy: 0.5078\n",
      "Epoch 2/10\n",
      "66/66 [==============================] - 1s 11ms/step - loss: 0.6903 - accuracy: 0.5359 - val_loss: 0.6758 - val_accuracy: 0.5034\n",
      "Epoch 3/10\n",
      "66/66 [==============================] - 1s 11ms/step - loss: 0.6618 - accuracy: 0.5928 - val_loss: 0.5999 - val_accuracy: 0.6488\n",
      "Epoch 4/10\n",
      "66/66 [==============================] - 1s 11ms/step - loss: 0.5634 - accuracy: 0.6957 - val_loss: 0.5237 - val_accuracy: 0.7539\n",
      "Epoch 5/10\n",
      "66/66 [==============================] - 1s 10ms/step - loss: 0.5412 - accuracy: 0.7420 - val_loss: 0.5129 - val_accuracy: 0.7629\n",
      "Epoch 6/10\n",
      "66/66 [==============================] - 1s 10ms/step - loss: 0.4798 - accuracy: 0.7844 - val_loss: 0.4723 - val_accuracy: 0.7852\n",
      "Epoch 7/10\n",
      "66/66 [==============================] - 1s 11ms/step - loss: 0.4601 - accuracy: 0.7726 - val_loss: 0.4772 - val_accuracy: 0.7673\n",
      "Epoch 8/10\n",
      "66/66 [==============================] - 1s 10ms/step - loss: 0.4698 - accuracy: 0.7754 - val_loss: 0.4399 - val_accuracy: 0.8009\n",
      "Epoch 9/10\n",
      "66/66 [==============================] - 1s 10ms/step - loss: 0.3897 - accuracy: 0.8433 - val_loss: 0.3949 - val_accuracy: 0.8345\n",
      "Epoch 10/10\n",
      "66/66 [==============================] - 1s 10ms/step - loss: 0.4554 - accuracy: 0.7986 - val_loss: 0.3728 - val_accuracy: 0.8501\n",
      "INFO:tensorflow:Assets written to: CNNmut.model\\assets\n",
      "[[32, 7, 0.0001, 0.1, 3, 1, 128], [32, 7, 0.0001, 0.1, 3, 1, 128], [32, 5, 0.0005, 0.1, 3, 1, 128], [32, 7, 0.0001, 0.1, 6, 0, 512], [32, 7, 0.0001, 0.1, 6, 0, 512], [32, 7, 0.0001, 0.1, 6, 0, 512], [32, 7, 0.0001, 0.1, 6, 0, 512], [32, 7, 0.0001, 0.1, 6, 0, 512], [32, 7, 0.0001, 0.1, 6, 0, 512], [32, 7, 0.0001, 0.1, 3, 1, 128]]\n",
      "[0.13339235694150006, 0.13339235694150006, 0.14630223406140094, 0.14798303949935054, 0.1592047597253997, 0.16107274815995667, 0.1619119997205373, 0.16234773199623503, 0.16155828115924728, 0.13339235694150006]\n",
      "Generasi Ke  19\n",
      "Parent 1 dan 2  [32, 5, 0.0005, 0.1, 3, 1, 128] [32, 7, 0.0001, 0.1, 6, 0, 512]\n",
      "Child 1 dan 2 [32, 5, 0.0005, 0.1, 6, 0, 512] [32, 7, 0.0001, 0.1, 3, 1, 128]\n",
      "Mutasi 1 dan 2 [32, 5, 0.0005, 0.1, 6, 0, 512] [32, 7, 0.0001, 0.1, 3, 1, 128]\n",
      "Epoch 1/10\n"
     ]
    },
    {
     "name": "stderr",
     "output_type": "stream",
     "text": [
      "D:\\ProgramData\\Anaconda3\\lib\\site-packages\\tensorflow\\python\\client\\session.py:1761: UserWarning: An interactive session is already active. This can cause out-of-memory errors in some cases. You must explicitly call `InteractiveSession.close()` to release resources held by the other session(s).\n",
      "  warnings.warn('An interactive session is already active. This can '\n"
     ]
    },
    {
     "name": "stdout",
     "output_type": "stream",
     "text": [
      "66/66 [==============================] - 1s 11ms/step - loss: 0.6855 - accuracy: 0.5501 - val_loss: 0.6367 - val_accuracy: 0.7159\n",
      "Epoch 2/10\n",
      "66/66 [==============================] - 1s 8ms/step - loss: 0.6362 - accuracy: 0.6438 - val_loss: 0.5568 - val_accuracy: 0.7204\n",
      "Epoch 3/10\n",
      "66/66 [==============================] - 1s 8ms/step - loss: 0.5915 - accuracy: 0.6757 - val_loss: 0.5371 - val_accuracy: 0.7136\n",
      "Epoch 4/10\n",
      "66/66 [==============================] - 1s 9ms/step - loss: 0.5160 - accuracy: 0.7408 - val_loss: 0.4928 - val_accuracy: 0.7763\n",
      "Epoch 5/10\n",
      "66/66 [==============================] - 1s 9ms/step - loss: 0.5042 - accuracy: 0.7652 - val_loss: 0.4629 - val_accuracy: 0.8009\n",
      "Epoch 6/10\n",
      "66/66 [==============================] - 1s 8ms/step - loss: 0.4678 - accuracy: 0.8053 - val_loss: 0.4417 - val_accuracy: 0.8166\n",
      "Epoch 7/10\n",
      "66/66 [==============================] - 1s 9ms/step - loss: 0.4334 - accuracy: 0.7812 - val_loss: 0.4331 - val_accuracy: 0.8143\n",
      "Epoch 8/10\n",
      "66/66 [==============================] - 1s 9ms/step - loss: 0.4469 - accuracy: 0.7961 - val_loss: 0.4280 - val_accuracy: 0.8054\n",
      "Epoch 9/10\n",
      "66/66 [==============================] - 1s 9ms/step - loss: 0.3703 - accuracy: 0.8426 - val_loss: 0.3662 - val_accuracy: 0.8456\n",
      "Epoch 10/10\n",
      "66/66 [==============================] - 1s 9ms/step - loss: 0.4577 - accuracy: 0.7936 - val_loss: 0.3285 - val_accuracy: 0.8613\n",
      "INFO:tensorflow:Assets written to: CNNmut.model\\assets\n",
      "[[32, 7, 0.0001, 0.1, 3, 1, 128], [32, 7, 0.0001, 0.1, 3, 1, 128], [32, 7, 0.0001, 0.1, 3, 1, 128], [32, 5, 0.0005, 0.1, 3, 1, 128], [32, 7, 0.0001, 0.1, 6, 0, 512], [32, 7, 0.0001, 0.1, 6, 0, 512], [32, 7, 0.0001, 0.1, 6, 0, 512], [32, 7, 0.0001, 0.1, 6, 0, 512], [32, 7, 0.0001, 0.1, 3, 1, 128], [32, 5, 0.0005, 0.1, 6, 0, 512]]\n",
      "[0.13339235694150006, 0.13339235694150006, 0.13339235694150006, 0.14630223406140094, 0.14798303949935054, 0.1592047597253997, 0.16107274815995667, 0.16155828115924728, 0.14905797681292096, 0.17159690088777274]\n",
      "Generasi Ke  20\n",
      "Parent 1 dan 2  [32, 7, 0.0001, 0.1, 3, 1, 128] [32, 7, 0.0001, 0.1, 6, 0, 512]\n",
      "Child 1 dan 2 [32, 7, 0.0001, 0.1, 6, 0, 512] [32, 7, 0.0001, 0.1, 3, 1, 128]\n",
      "Mutasi 1 dan 2 [32, 7, 0.0001, 0.1, 6, 0, 512] [32, 7, 0.0001, 0.1, 3, 1, 128]\n",
      "Epoch 1/10\n"
     ]
    },
    {
     "name": "stderr",
     "output_type": "stream",
     "text": [
      "D:\\ProgramData\\Anaconda3\\lib\\site-packages\\tensorflow\\python\\client\\session.py:1761: UserWarning: An interactive session is already active. This can cause out-of-memory errors in some cases. You must explicitly call `InteractiveSession.close()` to release resources held by the other session(s).\n",
      "  warnings.warn('An interactive session is already active. This can '\n"
     ]
    },
    {
     "name": "stdout",
     "output_type": "stream",
     "text": [
      "66/66 [==============================] - 1s 11ms/step - loss: 0.6855 - accuracy: 0.5503 - val_loss: 0.6362 - val_accuracy: 0.7226\n",
      "Epoch 2/10\n",
      "66/66 [==============================] - 1s 8ms/step - loss: 0.6367 - accuracy: 0.6475 - val_loss: 0.5591 - val_accuracy: 0.7338\n",
      "Epoch 3/10\n",
      "66/66 [==============================] - 1s 8ms/step - loss: 0.5906 - accuracy: 0.6763 - val_loss: 0.5346 - val_accuracy: 0.7114\n",
      "Epoch 4/10\n",
      "66/66 [==============================] - 1s 8ms/step - loss: 0.5206 - accuracy: 0.7422 - val_loss: 0.4934 - val_accuracy: 0.7651\n",
      "Epoch 5/10\n",
      "66/66 [==============================] - 1s 8ms/step - loss: 0.4965 - accuracy: 0.7716 - val_loss: 0.4627 - val_accuracy: 0.8054\n",
      "Epoch 6/10\n",
      "66/66 [==============================] - 1s 8ms/step - loss: 0.4894 - accuracy: 0.7779 - val_loss: 0.4409 - val_accuracy: 0.8098\n",
      "Epoch 7/10\n",
      "66/66 [==============================] - 1s 8ms/step - loss: 0.4356 - accuracy: 0.7862 - val_loss: 0.4581 - val_accuracy: 0.7763\n",
      "Epoch 8/10\n",
      "66/66 [==============================] - 1s 8ms/step - loss: 0.4444 - accuracy: 0.7935 - val_loss: 0.4150 - val_accuracy: 0.8143\n",
      "Epoch 9/10\n",
      "66/66 [==============================] - 1s 9ms/step - loss: 0.3664 - accuracy: 0.8510 - val_loss: 0.3660 - val_accuracy: 0.8501\n",
      "Epoch 10/10\n",
      "66/66 [==============================] - 1s 9ms/step - loss: 0.5020 - accuracy: 0.7698 - val_loss: 0.3392 - val_accuracy: 0.8523\n",
      "INFO:tensorflow:Assets written to: CNNmut.model\\assets\n",
      "[[32, 7, 0.0001, 0.1, 3, 1, 128], [32, 7, 0.0001, 0.1, 3, 1, 128], [32, 7, 0.0001, 0.1, 3, 1, 128], [32, 5, 0.0005, 0.1, 3, 1, 128], [32, 7, 0.0001, 0.1, 6, 0, 512], [32, 7, 0.0001, 0.1, 3, 1, 128], [32, 7, 0.0001, 0.1, 6, 0, 512], [32, 7, 0.0001, 0.1, 6, 0, 512], [32, 7, 0.0001, 0.1, 3, 1, 128], [32, 7, 0.0001, 0.1, 6, 0, 512]]\n",
      "[0.13339235694150006, 0.13339235694150006, 0.13339235694150006, 0.14630223406140094, 0.14798303949935054, 0.14905797681292096, 0.1592047597253997, 0.16107274815995667, 0.146344706954319, 0.16155828115924728]\n"
     ]
    }
   ],
   "source": [
    "feat,besteverygen = featSelection.fit(Xtrain,ytrain)"
   ]
  },
  {
   "cell_type": "code",
   "execution_count": 6,
   "metadata": {},
   "outputs": [
    {
     "data": {
      "text/plain": [
       "[32, 7, 0.0001, 0.1, 3, 1, 128]"
      ]
     },
     "execution_count": 6,
     "metadata": {},
     "output_type": "execute_result"
    }
   ],
   "source": [
    "feat"
   ]
  },
  {
   "cell_type": "code",
   "execution_count": 7,
   "metadata": {},
   "outputs": [
    {
     "data": {
      "text/plain": [
       "['Generasi 0',\n",
       " [32, 5, 0.0005, 0.1, 3, 1, 128],\n",
       " 0.14630223406140094,\n",
       " [32, 5, 0.0005, 0.1, 3, 1, 128],\n",
       " 0.14630223406140094,\n",
       " [32, 5, 0.0005, 0.1, 3, 1, 128],\n",
       " 0.14630223406140094,\n",
       " [32, 5, 0.0005, 0.1, 3, 1, 128],\n",
       " 0.14630223406140094,\n",
       " [32, 5, 0.0005, 0.1, 3, 1, 128],\n",
       " 0.14630223406140094,\n",
       " [32, 5, 0.0005, 0.1, 3, 1, 128],\n",
       " 0.14630223406140094,\n",
       " [32, 5, 0.0005, 0.1, 3, 1, 128],\n",
       " 0.14630223406140094,\n",
       " [32, 5, 0.0005, 0.1, 3, 1, 128],\n",
       " 0.14630223406140094,\n",
       " [32, 5, 0.0005, 0.1, 3, 1, 128],\n",
       " 0.14630223406140094,\n",
       " [32, 5, 0.0005, 0.1, 3, 1, 128],\n",
       " 0.14630223406140094,\n",
       " [32, 5, 0.0005, 0.1, 3, 1, 128],\n",
       " 0.14630223406140094,\n",
       " [32, 5, 0.0005, 0.1, 3, 1, 128],\n",
       " 0.14630223406140094,\n",
       " [32, 5, 0.0005, 0.1, 3, 1, 128],\n",
       " 0.14630223406140094,\n",
       " [32, 5, 0.0005, 0.1, 3, 1, 128],\n",
       " 0.14630223406140094,\n",
       " [32, 5, 0.0005, 0.1, 3, 1, 128],\n",
       " 0.14630223406140094,\n",
       " [32, 5, 0.0005, 0.1, 3, 1, 128],\n",
       " 0.14630223406140094,\n",
       " [32, 7, 0.0001, 0.1, 3, 1, 128],\n",
       " 0.13339235694150006,\n",
       " [32, 7, 0.0001, 0.1, 3, 1, 128],\n",
       " 0.13339235694150006,\n",
       " [32, 7, 0.0001, 0.1, 3, 1, 128],\n",
       " 0.13339235694150006,\n",
       " [32, 7, 0.0001, 0.1, 3, 1, 128],\n",
       " 0.13339235694150006,\n",
       " [32, 7, 0.0001, 0.1, 3, 1, 128],\n",
       " 0.13339235694150006]"
      ]
     },
     "execution_count": 7,
     "metadata": {},
     "output_type": "execute_result"
    }
   ],
   "source": [
    "besteverygen"
   ]
  },
  {
   "cell_type": "markdown",
   "metadata": {},
   "source": [
    "# CNN"
   ]
  },
  {
   "cell_type": "code",
   "execution_count": 8,
   "metadata": {},
   "outputs": [
    {
     "name": "stdout",
     "output_type": "stream",
     "text": [
      "Epoch 1/10\n",
      "66/66 [==============================] - 272s 37ms/step - loss: 0.6855 - accuracy: 0.5523 - val_loss: 0.6371 - val_accuracy: 0.7136\n",
      "Epoch 2/10\n",
      "66/66 [==============================] - 0s 5ms/step - loss: 0.6367 - accuracy: 0.6462 - val_loss: 0.5598 - val_accuracy: 0.7315\n",
      "Epoch 3/10\n",
      "66/66 [==============================] - 0s 5ms/step - loss: 0.5925 - accuracy: 0.6756 - val_loss: 0.5387 - val_accuracy: 0.7159\n",
      "Epoch 4/10\n",
      "66/66 [==============================] - 0s 5ms/step - loss: 0.5212 - accuracy: 0.7407 - val_loss: 0.4966 - val_accuracy: 0.7517\n",
      "Epoch 5/10\n",
      "66/66 [==============================] - 0s 5ms/step - loss: 0.5000 - accuracy: 0.7617 - val_loss: 0.4679 - val_accuracy: 0.8009\n",
      "Epoch 6/10\n",
      "66/66 [==============================] - 0s 5ms/step - loss: 0.4953 - accuracy: 0.7763 - val_loss: 0.4501 - val_accuracy: 0.8031\n",
      "Epoch 7/10\n",
      "66/66 [==============================] - 0s 5ms/step - loss: 0.4396 - accuracy: 0.7754 - val_loss: 0.4535 - val_accuracy: 0.7763\n",
      "Epoch 8/10\n",
      "66/66 [==============================] - 0s 5ms/step - loss: 0.4442 - accuracy: 0.7785 - val_loss: 0.4245 - val_accuracy: 0.8054\n",
      "Epoch 9/10\n",
      "66/66 [==============================] - 0s 5ms/step - loss: 0.3617 - accuracy: 0.8493 - val_loss: 0.3631 - val_accuracy: 0.8501\n",
      "Epoch 10/10\n",
      "66/66 [==============================] - 0s 5ms/step - loss: 0.4838 - accuracy: 0.7786 - val_loss: 0.3404 - val_accuracy: 0.8591\n",
      "INFO:tensorflow:Assets written to: CNNP2V2.model\\assets\n"
     ]
    }
   ],
   "source": [
    "            pop = feat\n",
    "            f = pop[0]\n",
    "            k = pop[1]\n",
    "            learning = pop[2]\n",
    "            dropout = pop[3]\n",
    "            layer = pop[4]\n",
    "            pool = pop[5]\n",
    "            node = pop[6]\n",
    "            \n",
    "            model = Sequential()\n",
    "            gpu_options = tf.compat.v1.GPUOptions(per_process_gpu_memory_fraction=0.050)\n",
    "\n",
    "            config = ConfigProto()\n",
    "            config.gpu_options.per_process_gpu_memory_fraction = 0.050\n",
    "            session = InteractiveSession(config=config)\n",
    "\n",
    "            seed(99)\n",
    "            tf.random.set_seed(99)\n",
    "            if (pool == 0) :\n",
    "                model.add(Conv2D(f, (k, k), input_shape=Xtrain.shape[1:]))\n",
    "                model.add(Activation('relu'))\n",
    "                model.add(MaxPooling2D(pool_size=(2, 2)))\n",
    "\n",
    "                for i in range(layer-1):\n",
    "                    model.add(Conv2D(f, (k,k),padding='same'))\n",
    "                    model.add(Activation('relu'))\n",
    "                    model.add(MaxPooling2D(pool_size=(2, 2)))\n",
    "\n",
    "                model.add(Flatten())\n",
    "                \n",
    "                model.add(Dense(node))\n",
    "                model.add(Activation('relu'))\n",
    "                model.add(Dropout(dropout))\n",
    "\n",
    "                model.add(Dense(1))\n",
    "                model.add(Activation('sigmoid'))\n",
    "\n",
    "                model.compile(loss='binary_crossentropy',optimizer=keras.optimizers.Adam(learning_rate=learning),metrics=['accuracy'])\n",
    "            \n",
    "                model1 = model.fit(Xtrain, ytrain ,batch_size=16,epochs=10,validation_split=0.3)\n",
    "                model.save('CNNP2V2.model')\n",
    "\n",
    "            else :\n",
    "                model.add(Conv2D(f,(k,k), input_shape=Xtrain.shape[1:]))\n",
    "                model.add(Activation('relu'))\n",
    "                model.add(AveragePooling2D(pool_size=(2, 2)))\n",
    "\n",
    "                for i in range(layer-1):\n",
    "                    model.add(Conv2D(f, (k,k),padding='same'))\n",
    "                    model.add(Activation('relu'))\n",
    "                    model.add(AveragePooling2D(pool_size=(2, 2)))\n",
    "\n",
    "                model.add(Flatten())\n",
    "                \n",
    "                model.add(Dense(node))\n",
    "                model.add(Activation('relu'))\n",
    "                model.add(Dropout(dropout))\n",
    "\n",
    "                model.add(Dense(1))\n",
    "                model.add(Activation('sigmoid'))\n",
    "\n",
    "                model.compile(loss='binary_crossentropy',optimizer=keras.optimizers.Adam(learning_rate=learning),metrics=['accuracy'])\n",
    "            \n",
    "                model1 = model.fit(Xtrain, ytrain,batch_size=16,epochs=10,validation_split=0.3)\n",
    "                model.save('CNNP2V2.model')"
   ]
  },
  {
   "cell_type": "code",
   "execution_count": 9,
   "metadata": {},
   "outputs": [
    {
     "data": {
      "image/png": "[encoded data removed]",
      "text/plain": [
       "<Figure size 1080x720 with 1 Axes>"
      ]
     },
     "metadata": {
      "needs_background": "light"
     },
     "output_type": "display_data"
    }
   ],
   "source": [
    "import matplotlib.pyplot as plt\n",
    "#Loss Visualization for data training and validation\n",
    "\n",
    "plt.figure(figsize=(15,10))\n",
    "plt.plot(model1.history['loss'])\n",
    "plt.plot(model1.history['val_loss'])\n",
    "plt.title('Model Performance')\n",
    "plt.xlabel('Epoch')\n",
    "plt.ylabel('Loss')\n",
    "plt.legend(['Train','Validation'], loc='upper right')\n",
    "plt.show()"
   ]
  },
  {
   "cell_type": "code",
   "execution_count": 10,
   "metadata": {},
   "outputs": [],
   "source": [
    "model = tf.keras.models.load_model(\"CNNP2V2.model\")"
   ]
  },
  {
   "cell_type": "markdown",
   "metadata": {},
   "source": [
    "# Data Latih"
   ]
  },
  {
   "cell_type": "code",
   "execution_count": 11,
   "metadata": {},
   "outputs": [
    {
     "data": {
      "text/plain": [
       "0.828629"
      ]
     },
     "execution_count": 11,
     "metadata": {},
     "output_type": "execute_result"
    }
   ],
   "source": [
    "prediction = model.predict(Xtrain2)\n",
    "m = tf.keras.metrics.BinaryAccuracy()\n",
    "m.update_state(ytrain2,prediction, sample_weight=None)\n",
    "m.result().numpy()"
   ]
  },
  {
   "cell_type": "code",
   "execution_count": 12,
   "metadata": {},
   "outputs": [
    {
     "data": {
      "text/plain": [
       "0.7648352"
      ]
     },
     "execution_count": 12,
     "metadata": {},
     "output_type": "execute_result"
    }
   ],
   "source": [
    "m = tf.keras.metrics.Precision()\n",
    "m.update_state(ytrain2,prediction, sample_weight=None)\n",
    "m.result().numpy()"
   ]
  },
  {
   "cell_type": "code",
   "execution_count": 13,
   "metadata": {},
   "outputs": [
    {
     "data": {
      "text/plain": [
       "0.9443691"
      ]
     },
     "execution_count": 13,
     "metadata": {},
     "output_type": "execute_result"
    }
   ],
   "source": [
    "m = tf.keras.metrics.Recall()\n",
    "m.update_state(ytrain2,prediction, sample_weight=None)\n",
    "m.result().numpy()"
   ]
  },
  {
   "cell_type": "code",
   "execution_count": 14,
   "metadata": {},
   "outputs": [
    {
     "data": {
      "text/plain": [
       "41.0"
      ]
     },
     "execution_count": 14,
     "metadata": {},
     "output_type": "execute_result"
    }
   ],
   "source": [
    "m = tf.keras.metrics.FalseNegatives()\n",
    "m.update_state(ytrain2,prediction, sample_weight=None)\n",
    "m.result().numpy()"
   ]
  },
  {
   "cell_type": "code",
   "execution_count": 15,
   "metadata": {},
   "outputs": [
    {
     "data": {
      "text/plain": [
       "214.0"
      ]
     },
     "execution_count": 15,
     "metadata": {},
     "output_type": "execute_result"
    }
   ],
   "source": [
    "m = tf.keras.metrics.FalsePositives()\n",
    "m.update_state(ytrain2,prediction, sample_weight=None)\n",
    "m.result().numpy()"
   ]
  },
  {
   "cell_type": "code",
   "execution_count": 16,
   "metadata": {},
   "outputs": [
    {
     "data": {
      "text/plain": [
       "537.0"
      ]
     },
     "execution_count": 16,
     "metadata": {},
     "output_type": "execute_result"
    }
   ],
   "source": [
    "m = tf.keras.metrics.TrueNegatives()\n",
    "m.update_state(ytrain2,prediction, sample_weight=None)\n",
    "m.result().numpy()"
   ]
  },
  {
   "cell_type": "code",
   "execution_count": 17,
   "metadata": {},
   "outputs": [
    {
     "data": {
      "text/plain": [
       "696.0"
      ]
     },
     "execution_count": 17,
     "metadata": {},
     "output_type": "execute_result"
    }
   ],
   "source": [
    "m = tf.keras.metrics.TruePositives()\n",
    "m.update_state(ytrain2,prediction, sample_weight=None)\n",
    "m.result().numpy()"
   ]
  },
  {
   "cell_type": "markdown",
   "metadata": {},
   "source": [
    "# Data Validasi"
   ]
  },
  {
   "cell_type": "code",
   "execution_count": 18,
   "metadata": {},
   "outputs": [
    {
     "data": {
      "text/plain": [
       "0.84887457"
      ]
     },
     "execution_count": 18,
     "metadata": {},
     "output_type": "execute_result"
    }
   ],
   "source": [
    "prediction = model.predict(Xval)\n",
    "m = tf.keras.metrics.BinaryAccuracy()\n",
    "m.update_state(yval,prediction, sample_weight=None)\n",
    "m.result().numpy()"
   ]
  },
  {
   "cell_type": "code",
   "execution_count": 19,
   "metadata": {},
   "outputs": [
    {
     "data": {
      "text/plain": [
       "0.78918916"
      ]
     },
     "execution_count": 19,
     "metadata": {},
     "output_type": "execute_result"
    }
   ],
   "source": [
    "m = tf.keras.metrics.Precision()\n",
    "m.update_state(yval,prediction, sample_weight=None)\n",
    "m.result().numpy()"
   ]
  },
  {
   "cell_type": "code",
   "execution_count": 20,
   "metadata": {},
   "outputs": [
    {
     "data": {
      "text/plain": [
       "0.9480519"
      ]
     },
     "execution_count": 20,
     "metadata": {},
     "output_type": "execute_result"
    }
   ],
   "source": [
    "m = tf.keras.metrics.Recall()\n",
    "m.update_state(yval,prediction, sample_weight=None)\n",
    "m.result().numpy()"
   ]
  },
  {
   "cell_type": "code",
   "execution_count": 21,
   "metadata": {},
   "outputs": [
    {
     "data": {
      "text/plain": [
       "16.0"
      ]
     },
     "execution_count": 21,
     "metadata": {},
     "output_type": "execute_result"
    }
   ],
   "source": [
    "m = tf.keras.metrics.FalseNegatives()\n",
    "m.update_state(yval,prediction, sample_weight=None)\n",
    "m.result().numpy()"
   ]
  },
  {
   "cell_type": "code",
   "execution_count": 22,
   "metadata": {},
   "outputs": [
    {
     "data": {
      "text/plain": [
       "78.0"
      ]
     },
     "execution_count": 22,
     "metadata": {},
     "output_type": "execute_result"
    }
   ],
   "source": [
    "m = tf.keras.metrics.FalsePositives()\n",
    "m.update_state(yval,prediction, sample_weight=None)\n",
    "m.result().numpy()"
   ]
  },
  {
   "cell_type": "code",
   "execution_count": 23,
   "metadata": {},
   "outputs": [
    {
     "data": {
      "text/plain": [
       "236.0"
      ]
     },
     "execution_count": 23,
     "metadata": {},
     "output_type": "execute_result"
    }
   ],
   "source": [
    "m = tf.keras.metrics.TrueNegatives()\n",
    "m.update_state(yval,prediction, sample_weight=None)\n",
    "m.result().numpy()"
   ]
  },
  {
   "cell_type": "code",
   "execution_count": 24,
   "metadata": {},
   "outputs": [
    {
     "data": {
      "text/plain": [
       "292.0"
      ]
     },
     "execution_count": 24,
     "metadata": {},
     "output_type": "execute_result"
    }
   ],
   "source": [
    "m = tf.keras.metrics.TruePositives()\n",
    "m.update_state(yval,prediction, sample_weight=None)\n",
    "m.result().numpy()"
   ]
  },
  {
   "cell_type": "markdown",
   "metadata": {},
   "source": [
    "# Data Uji"
   ]
  },
  {
   "cell_type": "code",
   "execution_count": 25,
   "metadata": {},
   "outputs": [
    {
     "data": {
      "text/plain": [
       "0.6927224"
      ]
     },
     "execution_count": 25,
     "metadata": {},
     "output_type": "execute_result"
    }
   ],
   "source": [
    "prediction = model.predict(Xtest)\n",
    "m = tf.keras.metrics.BinaryAccuracy()\n",
    "m.update_state(ytest,prediction, sample_weight=None)\n",
    "m.result().numpy()"
   ]
  },
  {
   "cell_type": "code",
   "execution_count": 26,
   "metadata": {},
   "outputs": [
    {
     "data": {
      "text/plain": [
       "0.64705884"
      ]
     },
     "execution_count": 26,
     "metadata": {},
     "output_type": "execute_result"
    }
   ],
   "source": [
    "m = tf.keras.metrics.Precision()\n",
    "m.update_state(ytest,prediction, sample_weight=None)\n",
    "m.result().numpy()"
   ]
  },
  {
   "cell_type": "code",
   "execution_count": 27,
   "metadata": {},
   "outputs": [
    {
     "data": {
      "text/plain": [
       "0.8369565"
      ]
     },
     "execution_count": 27,
     "metadata": {},
     "output_type": "execute_result"
    }
   ],
   "source": [
    "m = tf.keras.metrics.Recall()\n",
    "m.update_state(ytest,prediction, sample_weight=None)\n",
    "m.result().numpy()"
   ]
  },
  {
   "cell_type": "code",
   "execution_count": 28,
   "metadata": {},
   "outputs": [
    {
     "data": {
      "text/plain": [
       "30.0"
      ]
     },
     "execution_count": 28,
     "metadata": {},
     "output_type": "execute_result"
    }
   ],
   "source": [
    "m = tf.keras.metrics.FalseNegatives()\n",
    "m.update_state(ytest,prediction, sample_weight=None)\n",
    "m.result().numpy()"
   ]
  },
  {
   "cell_type": "code",
   "execution_count": 29,
   "metadata": {},
   "outputs": [
    {
     "data": {
      "text/plain": [
       "84.0"
      ]
     },
     "execution_count": 29,
     "metadata": {},
     "output_type": "execute_result"
    }
   ],
   "source": [
    "m = tf.keras.metrics.FalsePositives()\n",
    "m.update_state(ytest,prediction, sample_weight=None)\n",
    "m.result().numpy()"
   ]
  },
  {
   "cell_type": "code",
   "execution_count": 30,
   "metadata": {},
   "outputs": [
    {
     "data": {
      "text/plain": [
       "103.0"
      ]
     },
     "execution_count": 30,
     "metadata": {},
     "output_type": "execute_result"
    }
   ],
   "source": [
    "m = tf.keras.metrics.TrueNegatives()\n",
    "m.update_state(ytest,prediction, sample_weight=None)\n",
    "m.result().numpy()"
   ]
  },
  {
   "cell_type": "code",
   "execution_count": 31,
   "metadata": {},
   "outputs": [
    {
     "data": {
      "text/plain": [
       "154.0"
      ]
     },
     "execution_count": 31,
     "metadata": {},
     "output_type": "execute_result"
    }
   ],
   "source": [
    "m = tf.keras.metrics.TruePositives()\n",
    "m.update_state(ytest,prediction, sample_weight=None)\n",
    "m.result().numpy()"
   ]
  },
  {
   "cell_type": "code",
   "execution_count": null,
   "metadata": {},
   "outputs": [],
   "source": []
  }
 ],
 "metadata": {
  "kernelspec": {
   "display_name": "Python 3",
   "language": "python",
   "name": "python3"
  },
  "language_info": {
   "codemirror_mode": {
    "name": "ipython",
    "version": 3
   },
   "file_extension": ".py",
   "mimetype": "text/x-python",
   "name": "python",
   "nbconvert_exporter": "python",
   "pygments_lexer": "ipython3",
   "version": "3.8.5"
  }
 },
 "nbformat": 4,
 "nbformat_minor": 4
}
