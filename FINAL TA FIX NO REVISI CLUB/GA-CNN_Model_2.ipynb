{
 "cells": [
  {
   "cell_type": "code",
   "execution_count": 1,
   "metadata": {},
   "outputs": [],
   "source": [
    "from sklearn.metrics import mean_squared_error\n",
    "import tensorflow as tf\n",
    "from tensorflow.keras.preprocessing.image import ImageDataGenerator\n",
    "from tensorflow.keras.models import Sequential\n",
    "from tensorflow.keras.layers import Dense, Dropout, Activation, Flatten\n",
    "from tensorflow.keras.layers import Conv2D, MaxPooling2D,AveragePooling2D\n",
    "import numpy as np\n",
    "import pickle\n",
    "import random\n",
    "from numpy.random import seed\n",
    "import time\n",
    "from tensorflow.keras.callbacks import TensorBoard\n",
    "from tensorflow.keras.callbacks import EarlyStopping\n",
    "from tensorflow import keras\n",
    "from tensorflow.compat.v1 import ConfigProto\n",
    "from tensorflow.compat.v1 import InteractiveSession\n",
    "import pandas as pd\n",
    "from secrets import randbelow"
   ]
  },
  {
   "cell_type": "code",
   "execution_count": 2,
   "metadata": {},
   "outputs": [],
   "source": [
    "pickle_in = open(\"Xtrain96.pickle\",\"rb\")\n",
    "Xtrain = pickle.load(pickle_in)\n",
    "\n",
    "pickle_in = open(\"ytrain96.pickle\",\"rb\")\n",
    "ytrain = pickle.load(pickle_in)\n",
    "\n",
    "Xtrain=np.array(Xtrain/255.0)\n",
    "ytrain=np.array(ytrain)\n",
    "\n",
    "pickle_in = open(\"Xval96.pickle\",\"rb\")\n",
    "Xval = pickle.load(pickle_in)\n",
    "\n",
    "pickle_in = open(\"yval96.pickle\",\"rb\")\n",
    "yval = pickle.load(pickle_in)\n",
    "\n",
    "pickle_in = open(\"XTest96.pickle\",\"rb\")\n",
    "Xtest = pickle.load(pickle_in)\n",
    "\n",
    "pickle_in = open(\"ytest96.pickle\",\"rb\")\n",
    "ytest = pickle.load(pickle_in)\n",
    "\n",
    "pickle_in = open(\"Xtrain96.pickle\",\"rb\")\n",
    "Xtrain2 = pickle.load(pickle_in)\n",
    "\n",
    "pickle_in = open(\"ytrain96.pickle\",\"rb\")\n",
    "ytrain2 = pickle.load(pickle_in)"
   ]
  },
  {
   "cell_type": "markdown",
   "metadata": {},
   "source": [
    "# Genetic Algorithm"
   ]
  },
  {
   "cell_type": "code",
   "execution_count": 3,
   "metadata": {},
   "outputs": [],
   "source": [
    "class GA():\n",
    "    def __init__(self,popsize, iter_):\n",
    "        self.popsize = popsize\n",
    "        self.iter_ = iter_\n",
    "        \n",
    "    def popinit(self):\n",
    "        population = [] \n",
    "        random.seed(0)\n",
    "        fmap = [32,64,128,256] \n",
    "        kernel = [2,3,5,7]\n",
    "        learningRate = [0.0001,0.0005, 0.001, 0.005] \n",
    "        dropout = [0.0,0.1,0.2,0.3,0.4,0.5]\n",
    "        layer = [2,3,4,5,6]\n",
    "        pool =[0,1]\n",
    "        node = [64,128,256,512]\n",
    "        for i in range(self.popsize):\n",
    "            inPop = [random.choice(fmap),random.choice(kernel),random.choice(learningRate),random.choice(dropout),random.choice(layer),random.choice(pool),random.choice(node)]\n",
    "            population.append(inPop)\n",
    "        return population\n",
    "\n",
    "        \n",
    "    def fitness(self,population,X,y):\n",
    "        savefit=[]\n",
    "        for i in range(len(population)):\n",
    "            pop = population[i]\n",
    "            f = pop[0]\n",
    "            k = pop[1]\n",
    "            learning = pop[2]\n",
    "            dropout = pop[3]\n",
    "            layer = pop[4]\n",
    "            pool = pop[5]\n",
    "            node = pop[6]\n",
    "            \n",
    "            model = Sequential()\n",
    "            gpu_options = tf.compat.v1.GPUOptions(per_process_gpu_memory_fraction=0.050)\n",
    "\n",
    "            config = ConfigProto()\n",
    "            config.gpu_options.per_process_gpu_memory_fraction = 0.050\n",
    "            session = InteractiveSession(config=config)\n",
    "\n",
    "            seed(0)\n",
    "            tf.random.set_seed(0)\n",
    "            if (pool == 0) :\n",
    "                model.add(Conv2D(f, (k, k), input_shape=X.shape[1:]))\n",
    "                model.add(Activation('relu'))\n",
    "                model.add(MaxPooling2D(pool_size=(2, 2)))\n",
    "\n",
    "                for i in range(layer-1):\n",
    "                    model.add(Conv2D(f, (k,k),padding='same'))\n",
    "                    model.add(Activation('relu'))\n",
    "                    model.add(MaxPooling2D(pool_size=(2, 2)))\n",
    "\n",
    "                model.add(Flatten())\n",
    "                \n",
    "                model.add(Dense(node))\n",
    "                model.add(Activation('relu'))\n",
    "                model.add(Dropout(dropout))\n",
    "\n",
    "                model.add(Dense(1))\n",
    "                model.add(Activation('sigmoid'))\n",
    "\n",
    "                model.compile(loss='binary_crossentropy',optimizer=keras.optimizers.Adam(learning_rate=learning),metrics=['accuracy'])\n",
    "            \n",
    "                model.fit(X, y,batch_size=16,epochs=10,validation_split=0.3)\n",
    "                model.save('CNN.model')\n",
    "                modelcnn = tf.keras.models.load_model(\"CNN.model\")\n",
    "\n",
    "                prediction = modelcnn.predict(Xval)\n",
    "                mse = mean_squared_error(yval,prediction)\n",
    "                savefit.append(mse)\n",
    "\n",
    "            else :\n",
    "                model.add(Conv2D(f,(k,k), input_shape=X.shape[1:]))\n",
    "                model.add(Activation('relu'))\n",
    "                model.add(AveragePooling2D(pool_size=(2, 2)))\n",
    "\n",
    "                for i in range(layer-1):\n",
    "                    model.add(Conv2D(f, (k,k),padding='same'))\n",
    "                    model.add(Activation('relu'))\n",
    "                    model.add(AveragePooling2D(pool_size=(2, 2)))\n",
    "\n",
    "                model.add(Flatten())\n",
    "                \n",
    "                model.add(Dense(node))\n",
    "                model.add(Activation('relu'))\n",
    "                model.add(Dropout(dropout))\n",
    "\n",
    "                model.add(Dense(1))\n",
    "                model.add(Activation('sigmoid'))\n",
    "\n",
    "                model.compile(loss='binary_crossentropy',optimizer=keras.optimizers.Adam(learning_rate=learning),metrics=['accuracy'])\n",
    "            \n",
    "                model.fit(X, y,batch_size=16,epochs=10,validation_split=0.3)\n",
    "                model.save('CNN.model')\n",
    "                modelcnn = tf.keras.models.load_model(\"CNN.model\")\n",
    "        \n",
    "                prediction = modelcnn.predict(Xval)\n",
    "                mse = mean_squared_error(yval,prediction)\n",
    "                savefit.append(mse)\n",
    "\n",
    "        return savefit\n",
    "    \n",
    "    def fitmutation(self,mut,X,y):\n",
    "            pop = mut\n",
    "            f = pop[0]\n",
    "            k = pop[1]\n",
    "            learning = pop[2]\n",
    "            dropout = pop[3]\n",
    "            layer = pop[4]\n",
    "            pool = pop[5]\n",
    "            node = pop[6]\n",
    "            \n",
    "            model = Sequential()\n",
    "            gpu_options = tf.compat.v1.GPUOptions(per_process_gpu_memory_fraction=0.050)\n",
    "\n",
    "            config = ConfigProto()\n",
    "            config.gpu_options.per_process_gpu_memory_fraction = 0.050\n",
    "            session = InteractiveSession(config=config)\n",
    "\n",
    "            seed(0)\n",
    "            tf.random.set_seed(0)\n",
    "            if (pool == 0) :\n",
    "                model.add(Conv2D(f, (k, k), input_shape=X.shape[1:]))\n",
    "                model.add(Activation('relu'))\n",
    "                model.add(MaxPooling2D(pool_size=(2, 2)))\n",
    "\n",
    "                for i in range(layer-1):\n",
    "                    model.add(Conv2D(f, (k,k),padding='same'))\n",
    "                    model.add(Activation('relu'))\n",
    "                    model.add(MaxPooling2D(pool_size=(2, 2)))\n",
    "\n",
    "                model.add(Flatten())\n",
    "                \n",
    "                model.add(Dense(node))\n",
    "                model.add(Activation('relu'))\n",
    "                model.add(Dropout(dropout))\n",
    "\n",
    "                model.add(Dense(1))\n",
    "                model.add(Activation('sigmoid'))\n",
    "\n",
    "                model.compile(loss='binary_crossentropy',optimizer=keras.optimizers.Adam(learning_rate=learning),metrics=['accuracy'])\n",
    "            \n",
    "                model.fit(X, y,batch_size=16,epochs=10,validation_split=0.3)\n",
    "                model.save('CNNmut.model')\n",
    "                modelcnn = tf.keras.models.load_model(\"CNNmut.model\")\n",
    "\n",
    "                prediction = modelcnn.predict(Xval)\n",
    "                mse = mean_squared_error(yval,prediction)\n",
    "                fitmut = mse\n",
    "\n",
    "            else :\n",
    "                model.add(Conv2D(f,(k,k), input_shape=X.shape[1:]))\n",
    "                model.add(Activation('relu'))\n",
    "                model.add(AveragePooling2D(pool_size=(2, 2)))\n",
    "\n",
    "                for i in range(layer-1):\n",
    "                    model.add(Conv2D(f, (k,k),padding='same'))\n",
    "                    model.add(Activation('relu'))\n",
    "                    model.add(AveragePooling2D(pool_size=(2, 2)))\n",
    "\n",
    "                model.add(Flatten())\n",
    "                \n",
    "                model.add(Dense(node))\n",
    "                model.add(Activation('relu'))\n",
    "                model.add(Dropout(dropout))\n",
    "\n",
    "                model.add(Dense(1))\n",
    "                model.add(Activation('sigmoid'))\n",
    "\n",
    "                model.compile(loss='binary_crossentropy',optimizer=keras.optimizers.Adam(learning_rate=learning),metrics=['accuracy'])\n",
    "            \n",
    "                model.fit(X, y,batch_size=16,epochs=10,validation_split=0.3)\n",
    "                model.save('CNNmut.model')\n",
    "                modelcnn = tf.keras.models.load_model(\"CNNmut.model\")\n",
    "        \n",
    "                prediction = modelcnn.predict(Xval)\n",
    "                mse = mean_squared_error(yval,prediction)\n",
    "                fitmut = mse\n",
    "            return fitmut\n",
    "        \n",
    "    \n",
    "    def parent_select(self,population, fitness):\n",
    "        sumfit = np.sum(fitness)\n",
    "        prob=[]\n",
    "        parent_1=[]\n",
    "        random.seed(0)\n",
    "        for i in range(len(fitness)):\n",
    "            tmp = fitness[i]/sumfit\n",
    "            prob.append(tmp)\n",
    "        prob_range = []\n",
    "        sum_ = 0\n",
    "        for i in range(len(prob)):\n",
    "                sum_ += prob[i]\n",
    "                prob_range.append(sum_)\n",
    "        for i in range(len(prob)):\n",
    "                rand = random.random()\n",
    "                if rand <= prob_range[i]:\n",
    "                    parent_1 = population[i]\n",
    "                    break\n",
    "        # select second parent\n",
    "        parent_2 = parent_1\n",
    "        while (parent_2 == parent_1):\n",
    "                for i in range(len(prob)):\n",
    "                    rand = random.random()\n",
    "                    if rand <= prob_range[i]:\n",
    "                        parent_2 = population[i]\n",
    "                        break\n",
    "        return parent_1, parent_2\n",
    "    \n",
    "    def cross_over(self,parent1, parent2):\n",
    "        random.seed(0)\n",
    "        crosspoint = random.randrange(0,6)\n",
    "        child1 = parent1[:crosspoint+1] + parent2[crosspoint+1:]\n",
    "        child2 = parent2[:crosspoint+1] + parent1[crosspoint+1:] \n",
    "        return child1, child2\n",
    "    \n",
    "    def mutation(self,child1, child2):\n",
    "        import copy\n",
    "        random.seed(0)\n",
    "        tmp1 = copy.deepcopy(child1)\n",
    "        tmp2 = copy.deepcopy(child2)\n",
    "        fmap = [32,64,128,256] \n",
    "        kernel = [2,3,5,7]\n",
    "        learningRate = [0.0001,0.0005, 0.001, 0.005] \n",
    "        dropout = [0.0,0.1,0.2,0.3,0.4,0.5]\n",
    "        layer = [2,3,4,5,6]\n",
    "        pool =[0,1]\n",
    "        node = [64,128,256,512]\n",
    "        for i in range(len(tmp1)):    \n",
    "            if (i == 0) :\n",
    "                prob = random.random()\n",
    "                if (prob<=0.05) :\n",
    "                    tmp1[point] = random.choice(fmap)\n",
    "                    tmp2[point] = random.choice(fmap)\n",
    "            elif (i ==1):\n",
    "                prob = random.random()\n",
    "                if (prob<=0.05) :\n",
    "                    tmp1[point] = random.choice(kernel)\n",
    "                    tmp2[point] = random.choice(kernel)\n",
    "            elif (i == 2) :\n",
    "                prob = random.random()\n",
    "                if (prob<=0.05) :\n",
    "                    tmp1[point] = random.choice(learningRate)\n",
    "                    tmp2[point] = random.choice(learningRate)\n",
    "            elif (i == 3) :\n",
    "                prob = random.random()\n",
    "                if (prob<=0.05) :\n",
    "                    tmp1[point] = random.choice(dropout)\n",
    "                    tmp2[point] = random.choice(dropout)\n",
    "            elif (i == 4) :\n",
    "                prob = random.random()\n",
    "                if (prob<=0.05) :\n",
    "                    tmp1[point] = random.choice(layer)\n",
    "                    tmp2[point] = random.choice(layer)\n",
    "            elif (i == 5) :\n",
    "                prob = random.random()\n",
    "                if (prob<=0.05) :\n",
    "                    tmp1[point] = random.choice(pool)\n",
    "                    tmp2[point] = random.choice(pool)\n",
    "            else :\n",
    "                prob = random.random()\n",
    "                if (prob<=0.05) :\n",
    "                    tmp1[point] = random.choice(node)\n",
    "                    tmp2[point] = random.choice(node)\n",
    "        return tmp1, tmp2\n",
    "       \n",
    "    def sort(self, population, fitness):\n",
    "        tmp_dict = {'population' : population,'fitness': fitness }\n",
    "        df = pd.DataFrame(tmp_dict)\n",
    "        df.sort_values('fitness', ascending=True, inplace=True)\n",
    "        new_pop = df['population'].values.tolist()\n",
    "        fit = df['fitness'].values.tolist()\n",
    "        return new_pop, fit\n",
    "    \n",
    "    def newfit(self,mut1,mut2,listindividu,X,y) :\n",
    "        tmpmut=[]\n",
    "        tmpfit1=0.0\n",
    "        tmpfit2=0.0\n",
    "        tmpmut.append(mut1)\n",
    "        tmpmut.append(mut2)\n",
    "        for i in listindividu:\n",
    "            if i[0] == mut1 :\n",
    "                tmpfit1  = (i[1])\n",
    "            if i[0] == mut2 :\n",
    "                tmpfit2 = (i[1])\n",
    "        if (tmpfit1)==0.0 and (tmpfit2)==0.0 :\n",
    "            fitness = self.fitness(tmpmut,X,y)\n",
    "            fit1 = fitness[0]\n",
    "            fit2 = fitness[1]\n",
    "        elif (tmpfit1)==0.0 :\n",
    "            fit1 = self.fitmutation(mut1,X,y)\n",
    "            fit2 = tmpfit2\n",
    "        else :\n",
    "            fit1= tmpfit1\n",
    "            fit2 = self.fitmutation(mut2,X,y)\n",
    "        return fit1,fit2\n",
    "                        \n",
    "    \n",
    "    def fit(self,X,y):\n",
    "        pop = self.popinit()\n",
    "        fitness = self.fitness(pop,X,y)\n",
    "        listindividu =[]\n",
    "        for i in range(len(pop)):\n",
    "            a = pop[i]\n",
    "            b = fitness[i]\n",
    "            temp=[a,b]\n",
    "            listindividu.append(temp)\n",
    "        print(pop)\n",
    "        print(fitness)\n",
    "        bestingen =[]\n",
    "        index = np.argmin(fitness)\n",
    "        popgen = pop[index]\n",
    "        fitgen = fitness[index]\n",
    "        bestingen.append('Generasi 0')\n",
    "        bestingen.append(popgen)\n",
    "        bestingen.append(fitgen)\n",
    "        for i in range(self.iter_):\n",
    "            print( 'Generasi Ke ' , i+1 )\n",
    "            parent_1, parent_2 = self.parent_select(pop, fitness)\n",
    "            print('Parent 1 dan 2 ', parent_1, parent_2)\n",
    "            child_1, child_2 = self.cross_over(parent_1, parent_2)\n",
    "            print('Child 1 dan 2', child_1, child_2 )\n",
    "            mut1, mut2 = self.mutation(child_1, child_2)\n",
    "            print('Mutasi 1 dan 2', mut1, mut2)\n",
    "            pop, fitness = self.sort(pop,fitness)\n",
    "            fitmut1,fitmut2 = self.newfit(mut1,mut2,listindividu,X,y)\n",
    "            pop[-1] = mut1; pop[-2] = mut2\n",
    "            fitness[-1] = fitmut1 ; fitness[-2] = fitmut2\n",
    "            mutt=[]\n",
    "            mutt.append(mut1)\n",
    "            mutt.append(mut2)\n",
    "            fitmut=[]\n",
    "            fitmut.append(fitmut1)\n",
    "            fitmut.append(fitmut2)\n",
    "            update=[]\n",
    "            for i in range(len(mutt)) :\n",
    "                a = mutt[i]\n",
    "                b = fitmut[i]\n",
    "                temp=[a,b]\n",
    "                update.append(temp)\n",
    "            listindividu.extend(update)\n",
    "            print(pop)\n",
    "            print(fitness)\n",
    "            index = np.argmin(fitness)\n",
    "            popgen = pop[index]\n",
    "            fitgen = fitness[index]\n",
    "            bestingen.append(popgen)\n",
    "            bestingen.append(fitgen)\n",
    "        idx_ = np.argmin(fitness)\n",
    "        best_pop = pop[idx_]\n",
    "        return  best_pop,bestingen"
   ]
  },
  {
   "cell_type": "code",
   "execution_count": 4,
   "metadata": {},
   "outputs": [],
   "source": [
    "featSelection = GA( popsize=10, iter_=20)"
   ]
  },
  {
   "cell_type": "code",
   "execution_count": 5,
   "metadata": {},
   "outputs": [
    {
     "name": "stdout",
     "output_type": "stream",
     "text": [
      "Epoch 1/10\n",
      "66/66 [==============================] - 272s 120ms/step - loss: 0.6934 - accuracy: 0.4928 - val_loss: 0.6929 - val_accuracy: 0.4989\n",
      "Epoch 2/10\n",
      "66/66 [==============================] - 4s 58ms/step - loss: 0.6914 - accuracy: 0.5329 - val_loss: 0.6931 - val_accuracy: 0.4989\n",
      "Epoch 3/10\n",
      "66/66 [==============================] - 4s 57ms/step - loss: 0.6931 - accuracy: 0.4849 - val_loss: 0.6929 - val_accuracy: 0.4989\n",
      "Epoch 4/10\n",
      "66/66 [==============================] - 4s 57ms/step - loss: 0.6937 - accuracy: 0.4735 - val_loss: 0.6925 - val_accuracy: 0.4989\n",
      "Epoch 5/10\n",
      "66/66 [==============================] - 4s 57ms/step - loss: 0.6924 - accuracy: 0.4960 - val_loss: 0.6923 - val_accuracy: 0.4989\n",
      "Epoch 6/10\n",
      "66/66 [==============================] - 4s 57ms/step - loss: 0.6911 - accuracy: 0.5392 - val_loss: 0.6916 - val_accuracy: 0.5101\n",
      "Epoch 7/10\n",
      "66/66 [==============================] - 4s 57ms/step - loss: 0.6926 - accuracy: 0.4897 - val_loss: 0.6886 - val_accuracy: 0.5884\n",
      "Epoch 8/10\n",
      "66/66 [==============================] - 4s 57ms/step - loss: 0.6839 - accuracy: 0.5553 - val_loss: 0.6637 - val_accuracy: 0.6219\n",
      "Epoch 9/10\n",
      "66/66 [==============================] - 4s 57ms/step - loss: 0.6611 - accuracy: 0.6089 - val_loss: 0.6444 - val_accuracy: 0.6040\n",
      "Epoch 10/10\n",
      "66/66 [==============================] - 4s 57ms/step - loss: 0.6380 - accuracy: 0.6266 - val_loss: 0.5862 - val_accuracy: 0.6890\n",
      "INFO:tensorflow:Assets written to: CNN.model\\assets\n"
     ]
    },
    {
     "name": "stderr",
     "output_type": "stream",
     "text": [
      "D:\\ProgramData\\Anaconda3\\lib\\site-packages\\tensorflow\\python\\client\\session.py:1761: UserWarning: An interactive session is already active. This can cause out-of-memory errors in some cases. You must explicitly call `InteractiveSession.close()` to release resources held by the other session(s).\n",
      "  warnings.warn('An interactive session is already active. This can '\n"
     ]
    },
    {
     "name": "stdout",
     "output_type": "stream",
     "text": [
      "Epoch 1/10\n",
      "66/66 [==============================] - 4s 42ms/step - loss: 0.7707 - accuracy: 0.5217 - val_loss: 0.6931 - val_accuracy: 0.4989\n",
      "Epoch 2/10\n",
      "66/66 [==============================] - 1s 17ms/step - loss: 0.6935 - accuracy: 0.5329 - val_loss: 0.6931 - val_accuracy: 0.5011\n",
      "Epoch 3/10\n",
      "66/66 [==============================] - 1s 17ms/step - loss: 0.6933 - accuracy: 0.4931 - val_loss: 0.6932 - val_accuracy: 0.4989\n",
      "Epoch 4/10\n",
      "66/66 [==============================] - 1s 17ms/step - loss: 0.6938 - accuracy: 0.4638 - val_loss: 0.6927 - val_accuracy: 0.4989\n",
      "Epoch 5/10\n",
      "66/66 [==============================] - 1s 17ms/step - loss: 0.7240 - accuracy: 0.5030 - val_loss: 0.6936 - val_accuracy: 0.4989\n",
      "Epoch 6/10\n",
      "66/66 [==============================] - 1s 17ms/step - loss: 0.6939 - accuracy: 0.4942 - val_loss: 0.6932 - val_accuracy: 0.4989\n",
      "Epoch 7/10\n",
      "66/66 [==============================] - 1s 17ms/step - loss: 0.6932 - accuracy: 0.4947 - val_loss: 0.6932 - val_accuracy: 0.4989\n",
      "Epoch 8/10\n",
      "66/66 [==============================] - 1s 17ms/step - loss: 0.6933 - accuracy: 0.4892 - val_loss: 0.6932 - val_accuracy: 0.4989\n",
      "Epoch 9/10\n",
      "66/66 [==============================] - 1s 17ms/step - loss: 0.6933 - accuracy: 0.5220 - val_loss: 0.6931 - val_accuracy: 0.5011\n",
      "Epoch 10/10\n",
      "66/66 [==============================] - 1s 17ms/step - loss: 0.6933 - accuracy: 0.4918 - val_loss: 0.6931 - val_accuracy: 0.5011\n",
      "INFO:tensorflow:Assets written to: CNN.model\\assets\n"
     ]
    },
    {
     "name": "stderr",
     "output_type": "stream",
     "text": [
      "D:\\ProgramData\\Anaconda3\\lib\\site-packages\\tensorflow\\python\\client\\session.py:1761: UserWarning: An interactive session is already active. This can cause out-of-memory errors in some cases. You must explicitly call `InteractiveSession.close()` to release resources held by the other session(s).\n",
      "  warnings.warn('An interactive session is already active. This can '\n"
     ]
    },
    {
     "name": "stdout",
     "output_type": "stream",
     "text": [
      "Epoch 1/10\n",
      "66/66 [==============================] - 6s 50ms/step - loss: 0.6944 - accuracy: 0.5044 - val_loss: 0.6936 - val_accuracy: 0.4989\n",
      "Epoch 2/10\n",
      "66/66 [==============================] - 0s 7ms/step - loss: 0.6920 - accuracy: 0.5329 - val_loss: 0.6928 - val_accuracy: 0.5996\n",
      "Epoch 3/10\n",
      "66/66 [==============================] - 0s 7ms/step - loss: 0.6926 - accuracy: 0.5344 - val_loss: 0.6907 - val_accuracy: 0.4989\n",
      "Epoch 4/10\n",
      "66/66 [==============================] - 0s 8ms/step - loss: 0.6576 - accuracy: 0.6005 - val_loss: 0.5752 - val_accuracy: 0.7002\n",
      "Epoch 5/10\n",
      "66/66 [==============================] - 0s 7ms/step - loss: 0.5780 - accuracy: 0.7081 - val_loss: 0.3959 - val_accuracy: 0.8322\n",
      "Epoch 6/10\n",
      "66/66 [==============================] - 0s 7ms/step - loss: 0.4422 - accuracy: 0.7962 - val_loss: 0.3314 - val_accuracy: 0.8680\n",
      "Epoch 7/10\n",
      "66/66 [==============================] - 0s 7ms/step - loss: 0.3141 - accuracy: 0.8974 - val_loss: 0.2109 - val_accuracy: 0.9239\n",
      "Epoch 8/10\n",
      "66/66 [==============================] - 0s 7ms/step - loss: 0.2432 - accuracy: 0.9254 - val_loss: 0.1814 - val_accuracy: 0.9396\n",
      "Epoch 9/10\n",
      "66/66 [==============================] - 1s 8ms/step - loss: 0.1852 - accuracy: 0.9458 - val_loss: 0.1606 - val_accuracy: 0.9418\n",
      "Epoch 10/10\n",
      "66/66 [==============================] - 0s 7ms/step - loss: 0.1455 - accuracy: 0.9521 - val_loss: 0.2435 - val_accuracy: 0.9105\n",
      "INFO:tensorflow:Assets written to: CNN.model\\assets\n"
     ]
    },
    {
     "name": "stderr",
     "output_type": "stream",
     "text": [
      "D:\\ProgramData\\Anaconda3\\lib\\site-packages\\tensorflow\\python\\client\\session.py:1761: UserWarning: An interactive session is already active. This can cause out-of-memory errors in some cases. You must explicitly call `InteractiveSession.close()` to release resources held by the other session(s).\n",
      "  warnings.warn('An interactive session is already active. This can '\n"
     ]
    },
    {
     "name": "stdout",
     "output_type": "stream",
     "text": [
      "Epoch 1/10\n",
      "66/66 [==============================] - 6s 49ms/step - loss: 0.6937 - accuracy: 0.5107 - val_loss: 0.6932 - val_accuracy: 0.4989\n",
      "Epoch 2/10\n",
      "66/66 [==============================] - 0s 6ms/step - loss: 0.6921 - accuracy: 0.5331 - val_loss: 0.6899 - val_accuracy: 0.6823\n",
      "Epoch 3/10\n",
      "66/66 [==============================] - 0s 6ms/step - loss: 0.6848 - accuracy: 0.5807 - val_loss: 0.6658 - val_accuracy: 0.5481\n",
      "Epoch 4/10\n",
      "66/66 [==============================] - 0s 6ms/step - loss: 0.6461 - accuracy: 0.6187 - val_loss: 0.6067 - val_accuracy: 0.6756\n",
      "Epoch 5/10\n",
      "66/66 [==============================] - 0s 6ms/step - loss: 0.6164 - accuracy: 0.6734 - val_loss: 0.5510 - val_accuracy: 0.7226\n",
      "Epoch 6/10\n",
      "66/66 [==============================] - 0s 6ms/step - loss: 0.5419 - accuracy: 0.7312 - val_loss: 0.4350 - val_accuracy: 0.7897\n",
      "Epoch 7/10\n",
      "66/66 [==============================] - 0s 6ms/step - loss: 0.3935 - accuracy: 0.8365 - val_loss: 0.2834 - val_accuracy: 0.8881\n",
      "Epoch 8/10\n",
      "66/66 [==============================] - 0s 6ms/step - loss: 0.3039 - accuracy: 0.8810 - val_loss: 0.2880 - val_accuracy: 0.8837\n",
      "Epoch 9/10\n",
      "66/66 [==============================] - 0s 6ms/step - loss: 0.2687 - accuracy: 0.9046 - val_loss: 0.2664 - val_accuracy: 0.9105\n",
      "Epoch 10/10\n",
      "66/66 [==============================] - 0s 6ms/step - loss: 0.2144 - accuracy: 0.9294 - val_loss: 0.2094 - val_accuracy: 0.9396\n",
      "INFO:tensorflow:Assets written to: CNN.model\\assets\n"
     ]
    },
    {
     "name": "stderr",
     "output_type": "stream",
     "text": [
      "D:\\ProgramData\\Anaconda3\\lib\\site-packages\\tensorflow\\python\\client\\session.py:1761: UserWarning: An interactive session is already active. This can cause out-of-memory errors in some cases. You must explicitly call `InteractiveSession.close()` to release resources held by the other session(s).\n",
      "  warnings.warn('An interactive session is already active. This can '\n"
     ]
    },
    {
     "name": "stdout",
     "output_type": "stream",
     "text": [
      "Epoch 1/10\n",
      "66/66 [==============================] - 10s 98ms/step - loss: 0.7024 - accuracy: 0.5257 - val_loss: 0.6920 - val_accuracy: 0.4989\n",
      "Epoch 2/10\n",
      "66/66 [==============================] - 3s 43ms/step - loss: 0.6904 - accuracy: 0.5290 - val_loss: 0.6931 - val_accuracy: 0.4989\n",
      "Epoch 3/10\n",
      "66/66 [==============================] - 3s 43ms/step - loss: 0.6924 - accuracy: 0.5119 - val_loss: 0.6948 - val_accuracy: 0.4989\n",
      "Epoch 4/10\n",
      "66/66 [==============================] - 3s 43ms/step - loss: 0.6972 - accuracy: 0.4661 - val_loss: 0.6924 - val_accuracy: 0.5548\n",
      "Epoch 5/10\n",
      "66/66 [==============================] - 3s 43ms/step - loss: 0.6921 - accuracy: 0.5530 - val_loss: 0.6832 - val_accuracy: 0.5324\n",
      "Epoch 6/10\n",
      "66/66 [==============================] - 3s 43ms/step - loss: 0.6823 - accuracy: 0.5502 - val_loss: 0.6804 - val_accuracy: 0.6219\n",
      "Epoch 7/10\n",
      "66/66 [==============================] - 3s 43ms/step - loss: 0.6771 - accuracy: 0.5982 - val_loss: 0.6767 - val_accuracy: 0.5570\n",
      "Epoch 8/10\n",
      "66/66 [==============================] - 3s 43ms/step - loss: 0.6757 - accuracy: 0.5716 - val_loss: 0.6444 - val_accuracy: 0.6711\n",
      "Epoch 9/10\n",
      "66/66 [==============================] - 3s 43ms/step - loss: 0.6766 - accuracy: 0.6135 - val_loss: 0.6616 - val_accuracy: 0.6286\n",
      "Epoch 10/10\n",
      "66/66 [==============================] - 3s 43ms/step - loss: 0.6676 - accuracy: 0.5985 - val_loss: 0.7105 - val_accuracy: 0.6130\n",
      "INFO:tensorflow:Assets written to: CNN.model\\assets\n"
     ]
    },
    {
     "name": "stderr",
     "output_type": "stream",
     "text": [
      "D:\\ProgramData\\Anaconda3\\lib\\site-packages\\tensorflow\\python\\client\\session.py:1761: UserWarning: An interactive session is already active. This can cause out-of-memory errors in some cases. You must explicitly call `InteractiveSession.close()` to release resources held by the other session(s).\n",
      "  warnings.warn('An interactive session is already active. This can '\n"
     ]
    },
    {
     "name": "stdout",
     "output_type": "stream",
     "text": [
      "Epoch 1/10\n",
      "66/66 [==============================] - 1s 8ms/step - loss: 0.6932 - accuracy: 0.5081 - val_loss: 0.6925 - val_accuracy: 0.5324\n",
      "Epoch 2/10\n",
      "66/66 [==============================] - 0s 5ms/step - loss: 0.6919 - accuracy: 0.5316 - val_loss: 0.6910 - val_accuracy: 0.6801\n",
      "Epoch 3/10\n",
      "66/66 [==============================] - 0s 5ms/step - loss: 0.6905 - accuracy: 0.6392 - val_loss: 0.6891 - val_accuracy: 0.5257\n",
      "Epoch 4/10\n",
      "66/66 [==============================] - 0s 5ms/step - loss: 0.6897 - accuracy: 0.5390 - val_loss: 0.6838 - val_accuracy: 0.6667\n",
      "Epoch 5/10\n",
      "66/66 [==============================] - 0s 6ms/step - loss: 0.6825 - accuracy: 0.6319 - val_loss: 0.6740 - val_accuracy: 0.6622\n",
      "Epoch 6/10\n",
      "66/66 [==============================] - 0s 6ms/step - loss: 0.6702 - accuracy: 0.6419 - val_loss: 0.6608 - val_accuracy: 0.6801\n",
      "Epoch 7/10\n",
      "66/66 [==============================] - 0s 5ms/step - loss: 0.6586 - accuracy: 0.6582 - val_loss: 0.6399 - val_accuracy: 0.6868\n",
      "Epoch 8/10\n",
      "66/66 [==============================] - 0s 5ms/step - loss: 0.6285 - accuracy: 0.6760 - val_loss: 0.6179 - val_accuracy: 0.6913\n",
      "Epoch 9/10\n",
      "66/66 [==============================] - 0s 6ms/step - loss: 0.6110 - accuracy: 0.6698 - val_loss: 0.5978 - val_accuracy: 0.7047\n",
      "Epoch 10/10\n",
      "66/66 [==============================] - 0s 6ms/step - loss: 0.5786 - accuracy: 0.7026 - val_loss: 0.5676 - val_accuracy: 0.7271\n",
      "INFO:tensorflow:Assets written to: CNN.model\\assets\n"
     ]
    },
    {
     "name": "stderr",
     "output_type": "stream",
     "text": [
      "D:\\ProgramData\\Anaconda3\\lib\\site-packages\\tensorflow\\python\\client\\session.py:1761: UserWarning: An interactive session is already active. This can cause out-of-memory errors in some cases. You must explicitly call `InteractiveSession.close()` to release resources held by the other session(s).\n",
      "  warnings.warn('An interactive session is already active. This can '\n"
     ]
    },
    {
     "name": "stdout",
     "output_type": "stream",
     "text": [
      "Epoch 1/10\n",
      "66/66 [==============================] - 3s 33ms/step - loss: 0.7987 - accuracy: 0.4944 - val_loss: 0.6928 - val_accuracy: 0.6242\n",
      "Epoch 2/10\n",
      "66/66 [==============================] - 1s 14ms/step - loss: 0.6936 - accuracy: 0.5252 - val_loss: 0.6923 - val_accuracy: 0.4989\n",
      "Epoch 3/10\n",
      "66/66 [==============================] - 1s 14ms/step - loss: 0.6926 - accuracy: 0.5427 - val_loss: 0.6895 - val_accuracy: 0.5324\n",
      "Epoch 4/10\n",
      "66/66 [==============================] - 1s 14ms/step - loss: 0.6621 - accuracy: 0.5609 - val_loss: 0.5159 - val_accuracy: 0.7562\n",
      "Epoch 5/10\n",
      "66/66 [==============================] - 1s 14ms/step - loss: 0.5120 - accuracy: 0.7821 - val_loss: 0.4512 - val_accuracy: 0.7942\n",
      "Epoch 6/10\n",
      "66/66 [==============================] - 1s 14ms/step - loss: 0.4183 - accuracy: 0.8069 - val_loss: 0.3638 - val_accuracy: 0.8702\n",
      "Epoch 7/10\n",
      "66/66 [==============================] - 1s 14ms/step - loss: 0.3543 - accuracy: 0.8604 - val_loss: 0.2784 - val_accuracy: 0.8993\n",
      "Epoch 8/10\n",
      "66/66 [==============================] - 1s 14ms/step - loss: 0.2905 - accuracy: 0.8824 - val_loss: 0.3974 - val_accuracy: 0.8143\n",
      "Epoch 9/10\n",
      "66/66 [==============================] - 1s 14ms/step - loss: 0.3008 - accuracy: 0.8779 - val_loss: 0.2219 - val_accuracy: 0.9083\n",
      "Epoch 10/10\n",
      "66/66 [==============================] - 1s 14ms/step - loss: 0.1902 - accuracy: 0.9184 - val_loss: 0.1938 - val_accuracy: 0.9239\n",
      "INFO:tensorflow:Assets written to: CNN.model\\assets\n"
     ]
    },
    {
     "name": "stderr",
     "output_type": "stream",
     "text": [
      "D:\\ProgramData\\Anaconda3\\lib\\site-packages\\tensorflow\\python\\client\\session.py:1761: UserWarning: An interactive session is already active. This can cause out-of-memory errors in some cases. You must explicitly call `InteractiveSession.close()` to release resources held by the other session(s).\n",
      "  warnings.warn('An interactive session is already active. This can '\n"
     ]
    },
    {
     "name": "stdout",
     "output_type": "stream",
     "text": [
      "Epoch 1/10\n",
      "66/66 [==============================] - 3s 28ms/step - loss: 1.6344 - accuracy: 0.5253 - val_loss: 0.6933 - val_accuracy: 0.4989\n",
      "Epoch 2/10\n",
      "66/66 [==============================] - 1s 9ms/step - loss: 0.6923 - accuracy: 0.5329 - val_loss: 0.6934 - val_accuracy: 0.4989\n",
      "Epoch 3/10\n",
      "66/66 [==============================] - 1s 9ms/step - loss: 0.6939 - accuracy: 0.4849 - val_loss: 0.6933 - val_accuracy: 0.4989\n",
      "Epoch 4/10\n",
      "66/66 [==============================] - 1s 9ms/step - loss: 0.6946 - accuracy: 0.4760 - val_loss: 0.6936 - val_accuracy: 0.4989\n",
      "Epoch 5/10\n",
      "66/66 [==============================] - 1s 10ms/step - loss: 0.6936 - accuracy: 0.4989 - val_loss: 0.6933 - val_accuracy: 0.4989\n",
      "Epoch 6/10\n",
      "66/66 [==============================] - 1s 10ms/step - loss: 0.6934 - accuracy: 0.5032 - val_loss: 0.6932 - val_accuracy: 0.4989\n",
      "Epoch 7/10\n",
      "66/66 [==============================] - 1s 9ms/step - loss: 0.6933 - accuracy: 0.4876 - val_loss: 0.6932 - val_accuracy: 0.4989\n",
      "Epoch 8/10\n",
      "66/66 [==============================] - 1s 9ms/step - loss: 0.6933 - accuracy: 0.4990 - val_loss: 0.6932 - val_accuracy: 0.4989\n",
      "Epoch 9/10\n",
      "66/66 [==============================] - 1s 9ms/step - loss: 0.6932 - accuracy: 0.4836 - val_loss: 0.6932 - val_accuracy: 0.4989\n",
      "Epoch 10/10\n",
      "66/66 [==============================] - 1s 9ms/step - loss: 0.6935 - accuracy: 0.4732 - val_loss: 0.6932 - val_accuracy: 0.4989\n",
      "INFO:tensorflow:Assets written to: CNN.model\\assets\n"
     ]
    },
    {
     "name": "stderr",
     "output_type": "stream",
     "text": [
      "D:\\ProgramData\\Anaconda3\\lib\\site-packages\\tensorflow\\python\\client\\session.py:1761: UserWarning: An interactive session is already active. This can cause out-of-memory errors in some cases. You must explicitly call `InteractiveSession.close()` to release resources held by the other session(s).\n",
      "  warnings.warn('An interactive session is already active. This can '\n"
     ]
    },
    {
     "name": "stdout",
     "output_type": "stream",
     "text": [
      "Epoch 1/10\n",
      "66/66 [==============================] - 3s 24ms/step - loss: 0.7014 - accuracy: 0.5509 - val_loss: 0.6910 - val_accuracy: 0.4989\n",
      "Epoch 2/10\n",
      "66/66 [==============================] - 0s 6ms/step - loss: 0.6912 - accuracy: 0.5364 - val_loss: 0.6910 - val_accuracy: 0.6622\n",
      "Epoch 3/10\n",
      "66/66 [==============================] - 0s 6ms/step - loss: 0.6898 - accuracy: 0.5674 - val_loss: 0.6971 - val_accuracy: 0.5034\n",
      "Epoch 4/10\n",
      "66/66 [==============================] - 0s 6ms/step - loss: 0.6570 - accuracy: 0.6148 - val_loss: 0.5326 - val_accuracy: 0.7517\n",
      "Epoch 5/10\n",
      "66/66 [==============================] - 0s 6ms/step - loss: 0.5443 - accuracy: 0.7478 - val_loss: 0.4707 - val_accuracy: 0.7696\n",
      "Epoch 6/10\n",
      "66/66 [==============================] - 0s 6ms/step - loss: 0.4435 - accuracy: 0.7971 - val_loss: 0.3867 - val_accuracy: 0.8367\n",
      "Epoch 7/10\n",
      "66/66 [==============================] - 0s 6ms/step - loss: 0.3873 - accuracy: 0.8344 - val_loss: 0.3313 - val_accuracy: 0.8702\n",
      "Epoch 8/10\n",
      "66/66 [==============================] - 0s 6ms/step - loss: 0.3419 - accuracy: 0.8529 - val_loss: 0.4428 - val_accuracy: 0.8009\n",
      "Epoch 9/10\n",
      "66/66 [==============================] - 0s 6ms/step - loss: 0.3097 - accuracy: 0.8754 - val_loss: 0.3169 - val_accuracy: 0.8859\n",
      "Epoch 10/10\n",
      "66/66 [==============================] - 0s 6ms/step - loss: 0.2308 - accuracy: 0.9080 - val_loss: 0.2947 - val_accuracy: 0.8971\n",
      "INFO:tensorflow:Assets written to: CNN.model\\assets\n"
     ]
    },
    {
     "name": "stderr",
     "output_type": "stream",
     "text": [
      "D:\\ProgramData\\Anaconda3\\lib\\site-packages\\tensorflow\\python\\client\\session.py:1761: UserWarning: An interactive session is already active. This can cause out-of-memory errors in some cases. You must explicitly call `InteractiveSession.close()` to release resources held by the other session(s).\n",
      "  warnings.warn('An interactive session is already active. This can '\n"
     ]
    },
    {
     "name": "stdout",
     "output_type": "stream",
     "text": [
      "Epoch 1/10\n",
      "66/66 [==============================] - 4s 38ms/step - loss: 0.6950 - accuracy: 0.4834 - val_loss: 0.6921 - val_accuracy: 0.4989\n",
      "Epoch 2/10\n",
      "66/66 [==============================] - 1s 20ms/step - loss: 0.6904 - accuracy: 0.5376 - val_loss: 0.6887 - val_accuracy: 0.5705\n",
      "Epoch 3/10\n",
      "66/66 [==============================] - 1s 20ms/step - loss: 0.6836 - accuracy: 0.5765 - val_loss: 0.6898 - val_accuracy: 0.5011\n",
      "Epoch 4/10\n",
      "66/66 [==============================] - 1s 20ms/step - loss: 0.6931 - accuracy: 0.5529 - val_loss: 0.6728 - val_accuracy: 0.5749\n",
      "Epoch 5/10\n",
      "66/66 [==============================] - 1s 20ms/step - loss: 0.6580 - accuracy: 0.6021 - val_loss: 0.6337 - val_accuracy: 0.6152\n",
      "Epoch 6/10\n",
      "66/66 [==============================] - 1s 19ms/step - loss: 0.6572 - accuracy: 0.6382 - val_loss: 0.6128 - val_accuracy: 0.6286\n",
      "Epoch 7/10\n",
      "66/66 [==============================] - 1s 20ms/step - loss: 0.5781 - accuracy: 0.6945 - val_loss: 0.5443 - val_accuracy: 0.7450\n",
      "Epoch 8/10\n",
      "66/66 [==============================] - 1s 19ms/step - loss: 0.5306 - accuracy: 0.7659 - val_loss: 0.4833 - val_accuracy: 0.7673\n",
      "Epoch 9/10\n",
      "66/66 [==============================] - 1s 19ms/step - loss: 0.4896 - accuracy: 0.7977 - val_loss: 0.5319 - val_accuracy: 0.7539\n",
      "Epoch 10/10\n",
      "66/66 [==============================] - 1s 19ms/step - loss: 0.4537 - accuracy: 0.8171 - val_loss: 0.4134 - val_accuracy: 0.8389\n",
      "INFO:tensorflow:Assets written to: CNN.model\\assets\n",
      "[[256, 7, 0.0001, 0.2, 6, 1, 512], [128, 7, 0.001, 0.4, 3, 0, 256], [64, 2, 0.001, 0.4, 6, 0, 256], [32, 2, 0.001, 0.3, 6, 0, 256], [256, 5, 0.0005, 0.4, 5, 1, 256], [32, 2, 0.0001, 0.5, 5, 0, 512], [128, 3, 0.001, 0.5, 2, 0, 128], [64, 3, 0.005, 0.0, 2, 1, 512], [32, 5, 0.001, 0.5, 2, 1, 128], [128, 7, 0.0001, 0.4, 5, 1, 128]]\n",
      "[0.43459177679485944, 0.24924353073206, 0.49517684887459806, 0.4164916077829388, 0.2457399990218172, 0.17549445020756776, 0.15842904357696858, 0.2499876052514022, 0.2619118758355319, 0.16889016511963972]\n",
      "Generasi Ke  1\n",
      "Parent 1 dan 2  [32, 2, 0.001, 0.3, 6, 0, 256] [256, 5, 0.0005, 0.4, 5, 1, 256]\n",
      "Child 1 dan 2 [32, 2, 0.001, 0.3, 5, 1, 256] [256, 5, 0.0005, 0.4, 6, 0, 256]\n",
      "Mutasi 1 dan 2 [32, 2, 0.001, 0.3, 5, 1, 256] [256, 5, 0.0005, 0.4, 6, 0, 256]\n",
      "Epoch 1/10\n"
     ]
    },
    {
     "name": "stderr",
     "output_type": "stream",
     "text": [
      "D:\\ProgramData\\Anaconda3\\lib\\site-packages\\tensorflow\\python\\client\\session.py:1761: UserWarning: An interactive session is already active. This can cause out-of-memory errors in some cases. You must explicitly call `InteractiveSession.close()` to release resources held by the other session(s).\n",
      "  warnings.warn('An interactive session is already active. This can '\n"
     ]
    },
    {
     "name": "stdout",
     "output_type": "stream",
     "text": [
      "66/66 [==============================] - 1s 8ms/step - loss: 0.6936 - accuracy: 0.4964 - val_loss: 0.6925 - val_accuracy: 0.4989\n",
      "Epoch 2/10\n",
      "66/66 [==============================] - 0s 6ms/step - loss: 0.6885 - accuracy: 0.5449 - val_loss: 0.6846 - val_accuracy: 0.5749\n",
      "Epoch 3/10\n",
      "66/66 [==============================] - 0s 6ms/step - loss: 0.6721 - accuracy: 0.5893 - val_loss: 0.6644 - val_accuracy: 0.5459\n",
      "Epoch 4/10\n",
      "66/66 [==============================] - 0s 6ms/step - loss: 0.6733 - accuracy: 0.5759 - val_loss: 0.6174 - val_accuracy: 0.6779\n",
      "Epoch 5/10\n",
      "66/66 [==============================] - 0s 6ms/step - loss: 0.6066 - accuracy: 0.6702 - val_loss: 0.4400 - val_accuracy: 0.8054\n",
      "Epoch 6/10\n",
      "66/66 [==============================] - 0s 6ms/step - loss: 0.4658 - accuracy: 0.7697 - val_loss: 0.4071 - val_accuracy: 0.8277\n",
      "Epoch 7/10\n",
      "66/66 [==============================] - 0s 6ms/step - loss: 0.6379 - accuracy: 0.6412 - val_loss: 0.5969 - val_accuracy: 0.6465\n",
      "Epoch 8/10\n",
      "66/66 [==============================] - 0s 6ms/step - loss: 0.5783 - accuracy: 0.6826 - val_loss: 0.5909 - val_accuracy: 0.6823\n",
      "Epoch 9/10\n",
      "66/66 [==============================] - 0s 5ms/step - loss: 0.5720 - accuracy: 0.6804 - val_loss: 0.5306 - val_accuracy: 0.7673\n",
      "Epoch 10/10\n",
      "66/66 [==============================] - 0s 6ms/step - loss: 0.5112 - accuracy: 0.7563 - val_loss: 0.4189 - val_accuracy: 0.8479\n",
      "INFO:tensorflow:Assets written to: CNN.model\\assets\n"
     ]
    },
    {
     "name": "stderr",
     "output_type": "stream",
     "text": [
      "D:\\ProgramData\\Anaconda3\\lib\\site-packages\\tensorflow\\python\\client\\session.py:1761: UserWarning: An interactive session is already active. This can cause out-of-memory errors in some cases. You must explicitly call `InteractiveSession.close()` to release resources held by the other session(s).\n",
      "  warnings.warn('An interactive session is already active. This can '\n"
     ]
    },
    {
     "name": "stdout",
     "output_type": "stream",
     "text": [
      "Epoch 1/10\n",
      "66/66 [==============================] - 5s 57ms/step - loss: 0.6946 - accuracy: 0.5073 - val_loss: 0.6933 - val_accuracy: 0.4989\n",
      "Epoch 2/10\n",
      "66/66 [==============================] - 3s 45ms/step - loss: 0.6923 - accuracy: 0.5329 - val_loss: 0.6933 - val_accuracy: 0.4989\n",
      "Epoch 3/10\n",
      "66/66 [==============================] - 3s 45ms/step - loss: 0.6935 - accuracy: 0.4848 - val_loss: 0.6932 - val_accuracy: 0.4989\n",
      "Epoch 4/10\n",
      "66/66 [==============================] - 3s 45ms/step - loss: 0.6940 - accuracy: 0.4734 - val_loss: 0.6934 - val_accuracy: 0.4989\n",
      "Epoch 5/10\n",
      "66/66 [==============================] - 3s 45ms/step - loss: 0.6937 - accuracy: 0.4947 - val_loss: 0.6933 - val_accuracy: 0.4989\n",
      "Epoch 6/10\n",
      "66/66 [==============================] - 3s 45ms/step - loss: 0.6935 - accuracy: 0.4914 - val_loss: 0.6932 - val_accuracy: 0.4989\n",
      "Epoch 7/10\n",
      "66/66 [==============================] - 3s 45ms/step - loss: 0.6935 - accuracy: 0.5021 - val_loss: 0.6933 - val_accuracy: 0.4989\n",
      "Epoch 8/10\n",
      "66/66 [==============================] - 3s 45ms/step - loss: 0.6938 - accuracy: 0.4939 - val_loss: 0.6944 - val_accuracy: 0.5011\n",
      "Epoch 9/10\n",
      "66/66 [==============================] - 3s 46ms/step - loss: 0.6950 - accuracy: 0.4719 - val_loss: 0.6919 - val_accuracy: 0.5011\n",
      "Epoch 10/10\n",
      "66/66 [==============================] - 3s 45ms/step - loss: 0.6951 - accuracy: 0.5197 - val_loss: 0.6811 - val_accuracy: 0.5861\n",
      "INFO:tensorflow:Assets written to: CNN.model\\assets\n",
      "[[128, 3, 0.001, 0.5, 2, 0, 128], [128, 7, 0.0001, 0.4, 5, 1, 128], [32, 2, 0.0001, 0.5, 5, 0, 512], [256, 5, 0.0005, 0.4, 5, 1, 256], [128, 7, 0.001, 0.4, 3, 0, 256], [64, 3, 0.005, 0.0, 2, 1, 512], [32, 5, 0.001, 0.5, 2, 1, 128], [32, 2, 0.001, 0.3, 6, 0, 256], [256, 5, 0.0005, 0.4, 6, 0, 256], [32, 2, 0.001, 0.3, 5, 1, 256]]\n",
      "[0.15842904357696858, 0.16889016511963972, 0.17549445020756776, 0.2457399990218172, 0.24924353073206, 0.2499876052514022, 0.2619118758355319, 0.4164916077829388, 0.347880211618509, 0.49517684887459806]\n",
      "Generasi Ke  2\n",
      "Parent 1 dan 2  [256, 5, 0.0005, 0.4, 5, 1, 256] [32, 2, 0.001, 0.3, 6, 0, 256]\n",
      "Child 1 dan 2 [256, 5, 0.0005, 0.4, 6, 0, 256] [32, 2, 0.001, 0.3, 5, 1, 256]\n",
      "Mutasi 1 dan 2 [256, 5, 0.0005, 0.4, 6, 0, 256] [32, 2, 0.001, 0.3, 5, 1, 256]\n",
      "Epoch 1/10\n"
     ]
    },
    {
     "name": "stderr",
     "output_type": "stream",
     "text": [
      "D:\\ProgramData\\Anaconda3\\lib\\site-packages\\tensorflow\\python\\client\\session.py:1761: UserWarning: An interactive session is already active. This can cause out-of-memory errors in some cases. You must explicitly call `InteractiveSession.close()` to release resources held by the other session(s).\n",
      "  warnings.warn('An interactive session is already active. This can '\n"
     ]
    },
    {
     "name": "stdout",
     "output_type": "stream",
     "text": [
      "66/66 [==============================] - 1s 8ms/step - loss: 0.6936 - accuracy: 0.4962 - val_loss: 0.6927 - val_accuracy: 0.4989\n",
      "Epoch 2/10\n",
      "66/66 [==============================] - 0s 6ms/step - loss: 0.6881 - accuracy: 0.5349 - val_loss: 0.6837 - val_accuracy: 0.5705\n",
      "Epoch 3/10\n",
      "66/66 [==============================] - 0s 6ms/step - loss: 0.6701 - accuracy: 0.5933 - val_loss: 0.6677 - val_accuracy: 0.5369\n",
      "Epoch 4/10\n",
      "66/66 [==============================] - 0s 6ms/step - loss: 0.6740 - accuracy: 0.5713 - val_loss: 0.6280 - val_accuracy: 0.6644\n",
      "Epoch 5/10\n",
      "66/66 [==============================] - 0s 6ms/step - loss: 0.6221 - accuracy: 0.6501 - val_loss: 0.6394 - val_accuracy: 0.7047\n",
      "Epoch 6/10\n",
      "66/66 [==============================] - 0s 6ms/step - loss: 0.5538 - accuracy: 0.7321 - val_loss: 0.5259 - val_accuracy: 0.7293\n",
      "Epoch 7/10\n",
      "66/66 [==============================] - 0s 6ms/step - loss: 0.6614 - accuracy: 0.6443 - val_loss: 0.6084 - val_accuracy: 0.6465\n",
      "Epoch 8/10\n",
      "66/66 [==============================] - 0s 6ms/step - loss: 0.5941 - accuracy: 0.6755 - val_loss: 0.6111 - val_accuracy: 0.6555\n",
      "Epoch 9/10\n",
      "66/66 [==============================] - 0s 6ms/step - loss: 0.6043 - accuracy: 0.6581 - val_loss: 0.5827 - val_accuracy: 0.6935\n",
      "Epoch 10/10\n",
      "66/66 [==============================] - 0s 6ms/step - loss: 0.5739 - accuracy: 0.7074 - val_loss: 0.5748 - val_accuracy: 0.6935\n",
      "INFO:tensorflow:Assets written to: CNNmut.model\\assets\n",
      "[[128, 3, 0.001, 0.5, 2, 0, 128], [128, 7, 0.0001, 0.4, 5, 1, 128], [32, 2, 0.0001, 0.5, 5, 0, 512], [256, 5, 0.0005, 0.4, 5, 1, 256], [128, 7, 0.001, 0.4, 3, 0, 256], [64, 3, 0.005, 0.0, 2, 1, 512], [32, 5, 0.001, 0.5, 2, 1, 128], [256, 5, 0.0005, 0.4, 6, 0, 256], [32, 2, 0.001, 0.3, 5, 1, 256], [256, 5, 0.0005, 0.4, 6, 0, 256]]\n",
      "[0.15842904357696858, 0.16889016511963972, 0.17549445020756776, 0.2457399990218172, 0.24924353073206, 0.2499876052514022, 0.2619118758355319, 0.347880211618509, 0.49517684887459806, 0.347880211618509]\n",
      "Generasi Ke  3\n",
      "Parent 1 dan 2  [256, 5, 0.0005, 0.4, 5, 1, 256] [256, 5, 0.0005, 0.4, 6, 0, 256]\n",
      "Child 1 dan 2 [256, 5, 0.0005, 0.4, 6, 0, 256] [256, 5, 0.0005, 0.4, 5, 1, 256]\n",
      "Mutasi 1 dan 2 [256, 5, 0.0005, 0.4, 6, 0, 256] [256, 5, 0.0005, 0.4, 5, 1, 256]\n",
      "Epoch 1/10\n"
     ]
    },
    {
     "name": "stderr",
     "output_type": "stream",
     "text": [
      "D:\\ProgramData\\Anaconda3\\lib\\site-packages\\tensorflow\\python\\client\\session.py:1761: UserWarning: An interactive session is already active. This can cause out-of-memory errors in some cases. You must explicitly call `InteractiveSession.close()` to release resources held by the other session(s).\n",
      "  warnings.warn('An interactive session is already active. This can '\n"
     ]
    },
    {
     "name": "stdout",
     "output_type": "stream",
     "text": [
      "66/66 [==============================] - 4s 46ms/step - loss: 0.7024 - accuracy: 0.5262 - val_loss: 0.6918 - val_accuracy: 0.4989\n",
      "Epoch 2/10\n",
      "66/66 [==============================] - 3s 44ms/step - loss: 0.6901 - accuracy: 0.5284 - val_loss: 0.6830 - val_accuracy: 0.5123\n",
      "Epoch 3/10\n",
      "66/66 [==============================] - 3s 44ms/step - loss: 0.6847 - accuracy: 0.5617 - val_loss: 0.6931 - val_accuracy: 0.4989\n",
      "Epoch 4/10\n",
      "66/66 [==============================] - 3s 44ms/step - loss: 0.6942 - accuracy: 0.4817 - val_loss: 0.6927 - val_accuracy: 0.4989\n",
      "Epoch 5/10\n",
      "66/66 [==============================] - 3s 44ms/step - loss: 0.6934 - accuracy: 0.4879 - val_loss: 0.6932 - val_accuracy: 0.4989\n",
      "Epoch 6/10\n",
      "66/66 [==============================] - 3s 43ms/step - loss: 0.6935 - accuracy: 0.4786 - val_loss: 0.6929 - val_accuracy: 0.4989\n",
      "Epoch 7/10\n",
      "66/66 [==============================] - 3s 44ms/step - loss: 0.6933 - accuracy: 0.4905 - val_loss: 0.6930 - val_accuracy: 0.4989\n",
      "Epoch 8/10\n",
      "66/66 [==============================] - 3s 44ms/step - loss: 0.6913 - accuracy: 0.5379 - val_loss: 0.6929 - val_accuracy: 0.5011\n",
      "Epoch 9/10\n",
      "66/66 [==============================] - 3s 44ms/step - loss: 0.6923 - accuracy: 0.5152 - val_loss: 0.6926 - val_accuracy: 0.5996\n",
      "Epoch 10/10\n",
      "66/66 [==============================] - 3s 44ms/step - loss: 0.6924 - accuracy: 0.5045 - val_loss: 0.6729 - val_accuracy: 0.5951\n",
      "INFO:tensorflow:Assets written to: CNNmut.model\\assets\n",
      "[[128, 3, 0.001, 0.5, 2, 0, 128], [128, 7, 0.0001, 0.4, 5, 1, 128], [32, 2, 0.0001, 0.5, 5, 0, 512], [256, 5, 0.0005, 0.4, 5, 1, 256], [128, 7, 0.001, 0.4, 3, 0, 256], [64, 3, 0.005, 0.0, 2, 1, 512], [32, 5, 0.001, 0.5, 2, 1, 128], [256, 5, 0.0005, 0.4, 6, 0, 256], [256, 5, 0.0005, 0.4, 5, 1, 256], [256, 5, 0.0005, 0.4, 6, 0, 256]]\n",
      "[0.15842904357696858, 0.16889016511963972, 0.17549445020756776, 0.2457399990218172, 0.24924353073206, 0.2499876052514022, 0.2619118758355319, 0.347880211618509, 0.32429186591390735, 0.347880211618509]\n",
      "Generasi Ke  4\n",
      "Parent 1 dan 2  [256, 5, 0.0005, 0.4, 5, 1, 256] [256, 5, 0.0005, 0.4, 6, 0, 256]\n",
      "Child 1 dan 2 [256, 5, 0.0005, 0.4, 6, 0, 256] [256, 5, 0.0005, 0.4, 5, 1, 256]\n",
      "Mutasi 1 dan 2 [256, 5, 0.0005, 0.4, 6, 0, 256] [256, 5, 0.0005, 0.4, 5, 1, 256]\n",
      "Epoch 1/10\n"
     ]
    },
    {
     "name": "stderr",
     "output_type": "stream",
     "text": [
      "D:\\ProgramData\\Anaconda3\\lib\\site-packages\\tensorflow\\python\\client\\session.py:1761: UserWarning: An interactive session is already active. This can cause out-of-memory errors in some cases. You must explicitly call `InteractiveSession.close()` to release resources held by the other session(s).\n",
      "  warnings.warn('An interactive session is already active. This can '\n"
     ]
    },
    {
     "name": "stdout",
     "output_type": "stream",
     "text": [
      "66/66 [==============================] - 4s 47ms/step - loss: 0.7024 - accuracy: 0.5267 - val_loss: 0.6917 - val_accuracy: 0.4989\n",
      "Epoch 2/10\n",
      "66/66 [==============================] - 3s 45ms/step - loss: 0.6917 - accuracy: 0.5205 - val_loss: 0.6931 - val_accuracy: 0.4989\n",
      "Epoch 3/10\n",
      "66/66 [==============================] - 3s 44ms/step - loss: 0.6929 - accuracy: 0.5285 - val_loss: 0.6932 - val_accuracy: 0.4989\n",
      "Epoch 4/10\n",
      "66/66 [==============================] - 3s 44ms/step - loss: 0.6946 - accuracy: 0.4921 - val_loss: 0.6907 - val_accuracy: 0.4989\n",
      "Epoch 5/10\n",
      "66/66 [==============================] - 3s 44ms/step - loss: 0.6911 - accuracy: 0.5421 - val_loss: 0.6949 - val_accuracy: 0.5011\n",
      "Epoch 6/10\n",
      "66/66 [==============================] - 3s 44ms/step - loss: 0.6955 - accuracy: 0.5096 - val_loss: 0.6931 - val_accuracy: 0.5011\n",
      "Epoch 7/10\n",
      "66/66 [==============================] - 3s 44ms/step - loss: 0.6931 - accuracy: 0.5050 - val_loss: 0.6916 - val_accuracy: 0.5011\n",
      "Epoch 8/10\n",
      "66/66 [==============================] - 3s 44ms/step - loss: 0.6844 - accuracy: 0.5472 - val_loss: 0.6932 - val_accuracy: 0.5011\n",
      "Epoch 9/10\n",
      "66/66 [==============================] - 3s 44ms/step - loss: 0.6940 - accuracy: 0.4969 - val_loss: 0.6930 - val_accuracy: 0.5011\n",
      "Epoch 10/10\n",
      "66/66 [==============================] - 3s 44ms/step - loss: 0.6925 - accuracy: 0.5149 - val_loss: 0.6875 - val_accuracy: 0.5414\n",
      "INFO:tensorflow:Assets written to: CNNmut.model\\assets\n",
      "[[128, 3, 0.001, 0.5, 2, 0, 128], [128, 7, 0.0001, 0.4, 5, 1, 128], [32, 2, 0.0001, 0.5, 5, 0, 512], [256, 5, 0.0005, 0.4, 5, 1, 256], [128, 7, 0.001, 0.4, 3, 0, 256], [64, 3, 0.005, 0.0, 2, 1, 512], [32, 5, 0.001, 0.5, 2, 1, 128], [256, 5, 0.0005, 0.4, 5, 1, 256], [256, 5, 0.0005, 0.4, 5, 1, 256], [256, 5, 0.0005, 0.4, 6, 0, 256]]\n",
      "[0.15842904357696858, 0.16889016511963972, 0.17549445020756776, 0.2457399990218172, 0.24924353073206, 0.2499876052514022, 0.2619118758355319, 0.32429186591390735, 0.49023531968472206, 0.347880211618509]\n",
      "Generasi Ke  5\n",
      "Parent 1 dan 2  [256, 5, 0.0005, 0.4, 5, 1, 256] [128, 7, 0.001, 0.4, 3, 0, 256]\n",
      "Child 1 dan 2 [256, 5, 0.0005, 0.4, 3, 0, 256] [128, 7, 0.001, 0.4, 5, 1, 256]\n",
      "Mutasi 1 dan 2 [256, 5, 0.0005, 0.4, 3, 0, 256] [128, 7, 0.001, 0.4, 5, 1, 256]\n",
      "Epoch 1/10\n"
     ]
    },
    {
     "name": "stderr",
     "output_type": "stream",
     "text": [
      "D:\\ProgramData\\Anaconda3\\lib\\site-packages\\tensorflow\\python\\client\\session.py:1761: UserWarning: An interactive session is already active. This can cause out-of-memory errors in some cases. You must explicitly call `InteractiveSession.close()` to release resources held by the other session(s).\n",
      "  warnings.warn('An interactive session is already active. This can '\n"
     ]
    },
    {
     "name": "stdout",
     "output_type": "stream",
     "text": [
      "66/66 [==============================] - 3s 45ms/step - loss: 0.7018 - accuracy: 0.5403 - val_loss: 0.6859 - val_accuracy: 0.4989\n",
      "Epoch 2/10\n",
      "66/66 [==============================] - 3s 43ms/step - loss: 0.6612 - accuracy: 0.6190 - val_loss: 0.6115 - val_accuracy: 0.7338\n",
      "Epoch 3/10\n",
      "66/66 [==============================] - 3s 43ms/step - loss: 0.6087 - accuracy: 0.6858 - val_loss: 0.6309 - val_accuracy: 0.6152\n",
      "Epoch 4/10\n",
      "66/66 [==============================] - 3s 44ms/step - loss: 0.5472 - accuracy: 0.7415 - val_loss: 0.4768 - val_accuracy: 0.7830\n",
      "Epoch 5/10\n",
      "66/66 [==============================] - 3s 43ms/step - loss: 0.4715 - accuracy: 0.7867 - val_loss: 0.3939 - val_accuracy: 0.8188\n",
      "Epoch 6/10\n",
      "66/66 [==============================] - 3s 48ms/step - loss: 0.4100 - accuracy: 0.8038 - val_loss: 0.4000 - val_accuracy: 0.7987\n",
      "Epoch 7/10\n",
      "66/66 [==============================] - 3s 43ms/step - loss: 0.3749 - accuracy: 0.8389 - val_loss: 0.3426 - val_accuracy: 0.8613\n",
      "Epoch 8/10\n",
      "66/66 [==============================] - 3s 43ms/step - loss: 0.3266 - accuracy: 0.8626 - val_loss: 0.3072 - val_accuracy: 0.8747\n",
      "Epoch 9/10\n",
      "66/66 [==============================] - 3s 46ms/step - loss: 0.2240 - accuracy: 0.9180 - val_loss: 0.2441 - val_accuracy: 0.9105\n",
      "Epoch 10/10\n",
      "66/66 [==============================] - 3s 45ms/step - loss: 0.1884 - accuracy: 0.9360 - val_loss: 0.4539 - val_accuracy: 0.7830\n",
      "INFO:tensorflow:Assets written to: CNN.model\\assets\n"
     ]
    },
    {
     "name": "stderr",
     "output_type": "stream",
     "text": [
      "D:\\ProgramData\\Anaconda3\\lib\\site-packages\\tensorflow\\python\\client\\session.py:1761: UserWarning: An interactive session is already active. This can cause out-of-memory errors in some cases. You must explicitly call `InteractiveSession.close()` to release resources held by the other session(s).\n",
      "  warnings.warn('An interactive session is already active. This can '\n"
     ]
    },
    {
     "name": "stdout",
     "output_type": "stream",
     "text": [
      "Epoch 1/10\n",
      "66/66 [==============================] - 2s 26ms/step - loss: 0.7132 - accuracy: 0.4995 - val_loss: 0.6933 - val_accuracy: 0.4989\n",
      "Epoch 2/10\n",
      "66/66 [==============================] - 1s 21ms/step - loss: 0.6925 - accuracy: 0.5329 - val_loss: 0.6933 - val_accuracy: 0.4989\n",
      "Epoch 3/10\n",
      "66/66 [==============================] - 1s 22ms/step - loss: 0.6938 - accuracy: 0.4849 - val_loss: 0.6933 - val_accuracy: 0.4989\n",
      "Epoch 4/10\n",
      "66/66 [==============================] - 1s 22ms/step - loss: 0.6942 - accuracy: 0.4760 - val_loss: 0.6935 - val_accuracy: 0.4989\n",
      "Epoch 5/10\n",
      "66/66 [==============================] - 1s 22ms/step - loss: 0.6935 - accuracy: 0.4984 - val_loss: 0.6933 - val_accuracy: 0.4989\n",
      "Epoch 6/10\n",
      "66/66 [==============================] - 1s 21ms/step - loss: 0.6933 - accuracy: 0.5011 - val_loss: 0.6932 - val_accuracy: 0.4989\n",
      "Epoch 7/10\n",
      "66/66 [==============================] - 1s 21ms/step - loss: 0.6931 - accuracy: 0.5067 - val_loss: 0.6932 - val_accuracy: 0.4989\n",
      "Epoch 8/10\n",
      "66/66 [==============================] - 1s 21ms/step - loss: 0.6930 - accuracy: 0.4764 - val_loss: 0.6932 - val_accuracy: 0.4989\n",
      "Epoch 9/10\n",
      "66/66 [==============================] - 1s 21ms/step - loss: 0.6931 - accuracy: 0.5088 - val_loss: 0.6932 - val_accuracy: 0.4989\n",
      "Epoch 10/10\n",
      "66/66 [==============================] - 1s 21ms/step - loss: 0.6937 - accuracy: 0.4802 - val_loss: 0.6932 - val_accuracy: 0.4989\n",
      "INFO:tensorflow:Assets written to: CNN.model\\assets\n",
      "[[128, 3, 0.001, 0.5, 2, 0, 128], [128, 7, 0.0001, 0.4, 5, 1, 128], [32, 2, 0.0001, 0.5, 5, 0, 512], [256, 5, 0.0005, 0.4, 5, 1, 256], [128, 7, 0.001, 0.4, 3, 0, 256], [64, 3, 0.005, 0.0, 2, 1, 512], [32, 5, 0.001, 0.5, 2, 1, 128], [256, 5, 0.0005, 0.4, 5, 1, 256], [128, 7, 0.001, 0.4, 5, 1, 256], [256, 5, 0.0005, 0.4, 3, 0, 256]]\n",
      "[0.15842904357696858, 0.16889016511963972, 0.17549445020756776, 0.2457399990218172, 0.24924353073206, 0.2499876052514022, 0.2619118758355319, 0.32429186591390735, 0.24755138775069652, 0.23905429474607295]\n",
      "Generasi Ke  6\n",
      "Parent 1 dan 2  [256, 5, 0.0005, 0.4, 5, 1, 256] [128, 7, 0.001, 0.4, 3, 0, 256]\n",
      "Child 1 dan 2 [256, 5, 0.0005, 0.4, 3, 0, 256] [128, 7, 0.001, 0.4, 5, 1, 256]\n",
      "Mutasi 1 dan 2 [256, 5, 0.0005, 0.4, 3, 0, 256] [128, 7, 0.001, 0.4, 5, 1, 256]\n",
      "Epoch 1/10\n"
     ]
    },
    {
     "name": "stderr",
     "output_type": "stream",
     "text": [
      "D:\\ProgramData\\Anaconda3\\lib\\site-packages\\tensorflow\\python\\client\\session.py:1761: UserWarning: An interactive session is already active. This can cause out-of-memory errors in some cases. You must explicitly call `InteractiveSession.close()` to release resources held by the other session(s).\n",
      "  warnings.warn('An interactive session is already active. This can '\n"
     ]
    },
    {
     "name": "stdout",
     "output_type": "stream",
     "text": [
      "66/66 [==============================] - 2s 24ms/step - loss: 0.7132 - accuracy: 0.5012 - val_loss: 0.6933 - val_accuracy: 0.4989\n",
      "Epoch 2/10\n",
      "66/66 [==============================] - 1s 22ms/step - loss: 0.6924 - accuracy: 0.5329 - val_loss: 0.6933 - val_accuracy: 0.4989\n",
      "Epoch 3/10\n",
      "66/66 [==============================] - 1s 22ms/step - loss: 0.6940 - accuracy: 0.4849 - val_loss: 0.6933 - val_accuracy: 0.4989\n",
      "Epoch 4/10\n",
      "66/66 [==============================] - 1s 22ms/step - loss: 0.6944 - accuracy: 0.4760 - val_loss: 0.6937 - val_accuracy: 0.4989\n",
      "Epoch 5/10\n",
      "66/66 [==============================] - 1s 22ms/step - loss: 0.6943 - accuracy: 0.4741 - val_loss: 0.6933 - val_accuracy: 0.4989\n",
      "Epoch 6/10\n",
      "66/66 [==============================] - 1s 21ms/step - loss: 0.6933 - accuracy: 0.5034 - val_loss: 0.6932 - val_accuracy: 0.4989\n",
      "Epoch 7/10\n",
      "66/66 [==============================] - 1s 22ms/step - loss: 0.6933 - accuracy: 0.4996 - val_loss: 0.6932 - val_accuracy: 0.4989\n",
      "Epoch 8/10\n",
      "66/66 [==============================] - 1s 22ms/step - loss: 0.6929 - accuracy: 0.5165 - val_loss: 0.6932 - val_accuracy: 0.4989\n",
      "Epoch 9/10\n",
      "66/66 [==============================] - 1s 22ms/step - loss: 0.6934 - accuracy: 0.5159 - val_loss: 0.6932 - val_accuracy: 0.4989\n",
      "Epoch 10/10\n",
      "66/66 [==============================] - 1s 22ms/step - loss: 0.6936 - accuracy: 0.4518 - val_loss: 0.6932 - val_accuracy: 0.4989\n",
      "INFO:tensorflow:Assets written to: CNNmut.model\\assets\n",
      "[[128, 3, 0.001, 0.5, 2, 0, 128], [128, 7, 0.0001, 0.4, 5, 1, 128], [32, 2, 0.0001, 0.5, 5, 0, 512], [256, 5, 0.0005, 0.4, 3, 0, 256], [256, 5, 0.0005, 0.4, 5, 1, 256], [128, 7, 0.001, 0.4, 5, 1, 256], [128, 7, 0.001, 0.4, 3, 0, 256], [64, 3, 0.005, 0.0, 2, 1, 512], [128, 7, 0.001, 0.4, 5, 1, 256], [256, 5, 0.0005, 0.4, 3, 0, 256]]\n",
      "[0.15842904357696858, 0.16889016511963972, 0.17549445020756776, 0.23905429474607295, 0.2457399990218172, 0.24755138775069652, 0.24924353073206, 0.2499876052514022, 0.24999627270042085, 0.23905429474607295]\n",
      "Generasi Ke  7\n",
      "Parent 1 dan 2  [256, 5, 0.0005, 0.4, 3, 0, 256] [256, 5, 0.0005, 0.4, 5, 1, 256]\n",
      "Child 1 dan 2 [256, 5, 0.0005, 0.4, 5, 1, 256] [256, 5, 0.0005, 0.4, 3, 0, 256]\n",
      "Mutasi 1 dan 2 [256, 5, 0.0005, 0.4, 5, 1, 256] [256, 5, 0.0005, 0.4, 3, 0, 256]\n",
      "Epoch 1/10\n"
     ]
    },
    {
     "name": "stderr",
     "output_type": "stream",
     "text": [
      "D:\\ProgramData\\Anaconda3\\lib\\site-packages\\tensorflow\\python\\client\\session.py:1761: UserWarning: An interactive session is already active. This can cause out-of-memory errors in some cases. You must explicitly call `InteractiveSession.close()` to release resources held by the other session(s).\n",
      "  warnings.warn('An interactive session is already active. This can '\n"
     ]
    },
    {
     "name": "stdout",
     "output_type": "stream",
     "text": [
      "66/66 [==============================] - 4s 46ms/step - loss: 0.7003 - accuracy: 0.5458 - val_loss: 0.6741 - val_accuracy: 0.5347\n",
      "Epoch 2/10\n",
      "66/66 [==============================] - 3s 43ms/step - loss: 0.6355 - accuracy: 0.6553 - val_loss: 0.5947 - val_accuracy: 0.8031\n",
      "Epoch 3/10\n",
      "66/66 [==============================] - 3s 44ms/step - loss: 0.5540 - accuracy: 0.7802 - val_loss: 0.5072 - val_accuracy: 0.7360\n",
      "Epoch 4/10\n",
      "66/66 [==============================] - 3s 43ms/step - loss: 0.4477 - accuracy: 0.8218 - val_loss: 0.3835 - val_accuracy: 0.8389\n",
      "Epoch 5/10\n",
      "66/66 [==============================] - 3s 44ms/step - loss: 0.3930 - accuracy: 0.8403 - val_loss: 0.3450 - val_accuracy: 0.8568\n",
      "Epoch 6/10\n",
      "66/66 [==============================] - 3s 44ms/step - loss: 0.3438 - accuracy: 0.8478 - val_loss: 0.3424 - val_accuracy: 0.8322\n",
      "Epoch 7/10\n",
      "66/66 [==============================] - 3s 44ms/step - loss: 0.2986 - accuracy: 0.8893 - val_loss: 0.2623 - val_accuracy: 0.9083\n",
      "Epoch 8/10\n",
      "66/66 [==============================] - 3s 44ms/step - loss: 0.2118 - accuracy: 0.9096 - val_loss: 0.2680 - val_accuracy: 0.8904\n",
      "Epoch 9/10\n",
      "66/66 [==============================] - 3s 43ms/step - loss: 0.2081 - accuracy: 0.9232 - val_loss: 0.2972 - val_accuracy: 0.8814\n",
      "Epoch 10/10\n",
      "66/66 [==============================] - 3s 43ms/step - loss: 0.1608 - accuracy: 0.9361 - val_loss: 0.2809 - val_accuracy: 0.8971\n",
      "INFO:tensorflow:Assets written to: CNNmut.model\\assets\n",
      "[[128, 3, 0.001, 0.5, 2, 0, 128], [128, 7, 0.0001, 0.4, 5, 1, 128], [32, 2, 0.0001, 0.5, 5, 0, 512], [256, 5, 0.0005, 0.4, 3, 0, 256], [256, 5, 0.0005, 0.4, 3, 0, 256], [256, 5, 0.0005, 0.4, 5, 1, 256], [128, 7, 0.001, 0.4, 5, 1, 256], [128, 7, 0.001, 0.4, 3, 0, 256], [256, 5, 0.0005, 0.4, 3, 0, 256], [256, 5, 0.0005, 0.4, 5, 1, 256]]\n",
      "[0.15842904357696858, 0.16889016511963972, 0.17549445020756776, 0.23905429474607295, 0.23905429474607295, 0.2457399990218172, 0.24755138775069652, 0.24924353073206, 0.4067453970912988, 0.49023531968472206]\n",
      "Generasi Ke  8\n",
      "Parent 1 dan 2  [256, 5, 0.0005, 0.4, 3, 0, 256] [128, 7, 0.001, 0.4, 3, 0, 256]\n",
      "Child 1 dan 2 [256, 5, 0.0005, 0.4, 3, 0, 256] [128, 7, 0.001, 0.4, 3, 0, 256]\n",
      "Mutasi 1 dan 2 [256, 5, 0.0005, 0.4, 3, 0, 256] [128, 7, 0.001, 0.4, 3, 0, 256]\n",
      "Epoch 1/10\n"
     ]
    },
    {
     "name": "stderr",
     "output_type": "stream",
     "text": [
      "D:\\ProgramData\\Anaconda3\\lib\\site-packages\\tensorflow\\python\\client\\session.py:1761: UserWarning: An interactive session is already active. This can cause out-of-memory errors in some cases. You must explicitly call `InteractiveSession.close()` to release resources held by the other session(s).\n",
      "  warnings.warn('An interactive session is already active. This can '\n"
     ]
    },
    {
     "name": "stdout",
     "output_type": "stream",
     "text": [
      "66/66 [==============================] - 2s 21ms/step - loss: 0.7710 - accuracy: 0.5267 - val_loss: 0.6912 - val_accuracy: 0.4989\n",
      "Epoch 2/10\n",
      "66/66 [==============================] - 1s 19ms/step - loss: 0.6914 - accuracy: 0.5400 - val_loss: 0.6859 - val_accuracy: 0.6488\n",
      "Epoch 3/10\n",
      "66/66 [==============================] - 1s 19ms/step - loss: 0.6867 - accuracy: 0.5299 - val_loss: 0.6932 - val_accuracy: 0.4989\n",
      "Epoch 4/10\n",
      "66/66 [==============================] - 1s 20ms/step - loss: 0.6937 - accuracy: 0.4785 - val_loss: 0.6933 - val_accuracy: 0.4989\n",
      "Epoch 5/10\n",
      "66/66 [==============================] - 1s 20ms/step - loss: 0.6924 - accuracy: 0.5011 - val_loss: 0.6933 - val_accuracy: 0.4989\n",
      "Epoch 6/10\n",
      "66/66 [==============================] - 1s 20ms/step - loss: 0.6929 - accuracy: 0.5038 - val_loss: 0.6932 - val_accuracy: 0.4989\n",
      "Epoch 7/10\n",
      "66/66 [==============================] - 1s 20ms/step - loss: 0.6926 - accuracy: 0.5051 - val_loss: 0.6932 - val_accuracy: 0.4989\n",
      "Epoch 8/10\n",
      "66/66 [==============================] - 1s 20ms/step - loss: 0.6923 - accuracy: 0.5015 - val_loss: 0.6932 - val_accuracy: 0.4989\n",
      "Epoch 9/10\n",
      "66/66 [==============================] - 1s 20ms/step - loss: 0.6921 - accuracy: 0.5091 - val_loss: 0.6932 - val_accuracy: 0.4989\n",
      "Epoch 10/10\n",
      "66/66 [==============================] - 1s 20ms/step - loss: 0.6929 - accuracy: 0.4908 - val_loss: 0.6932 - val_accuracy: 0.4989\n",
      "INFO:tensorflow:Assets written to: CNNmut.model\\assets\n",
      "[[128, 3, 0.001, 0.5, 2, 0, 128], [128, 7, 0.0001, 0.4, 5, 1, 128], [32, 2, 0.0001, 0.5, 5, 0, 512], [256, 5, 0.0005, 0.4, 3, 0, 256], [256, 5, 0.0005, 0.4, 3, 0, 256], [256, 5, 0.0005, 0.4, 5, 1, 256], [128, 7, 0.001, 0.4, 5, 1, 256], [128, 7, 0.001, 0.4, 3, 0, 256], [128, 7, 0.001, 0.4, 3, 0, 256], [256, 5, 0.0005, 0.4, 3, 0, 256]]\n",
      "[0.15842904357696858, 0.16889016511963972, 0.17549445020756776, 0.23905429474607295, 0.23905429474607295, 0.2457399990218172, 0.24755138775069652, 0.24924353073206, 0.37885839163421386, 0.4067453970912988]\n",
      "Generasi Ke  9\n",
      "Parent 1 dan 2  [256, 5, 0.0005, 0.4, 3, 0, 256] [128, 7, 0.001, 0.4, 3, 0, 256]\n",
      "Child 1 dan 2 [256, 5, 0.0005, 0.4, 3, 0, 256] [128, 7, 0.001, 0.4, 3, 0, 256]\n",
      "Mutasi 1 dan 2 [256, 5, 0.0005, 0.4, 3, 0, 256] [128, 7, 0.001, 0.4, 3, 0, 256]\n",
      "Epoch 1/10\n"
     ]
    },
    {
     "name": "stderr",
     "output_type": "stream",
     "text": [
      "D:\\ProgramData\\Anaconda3\\lib\\site-packages\\tensorflow\\python\\client\\session.py:1761: UserWarning: An interactive session is already active. This can cause out-of-memory errors in some cases. You must explicitly call `InteractiveSession.close()` to release resources held by the other session(s).\n",
      "  warnings.warn('An interactive session is already active. This can '\n"
     ]
    },
    {
     "name": "stdout",
     "output_type": "stream",
     "text": [
      "66/66 [==============================] - 2s 25ms/step - loss: 0.7729 - accuracy: 0.5240 - val_loss: 0.6922 - val_accuracy: 0.4989\n",
      "Epoch 2/10\n",
      "66/66 [==============================] - 1s 20ms/step - loss: 0.6904 - accuracy: 0.5367 - val_loss: 0.6923 - val_accuracy: 0.6040\n",
      "Epoch 3/10\n",
      "66/66 [==============================] - 1s 20ms/step - loss: 0.6932 - accuracy: 0.5005 - val_loss: 0.6987 - val_accuracy: 0.4989\n",
      "Epoch 4/10\n",
      "66/66 [==============================] - 1s 20ms/step - loss: 0.7026 - accuracy: 0.4600 - val_loss: 0.6932 - val_accuracy: 0.4989\n",
      "Epoch 5/10\n",
      "66/66 [==============================] - 1s 21ms/step - loss: 0.6931 - accuracy: 0.4884 - val_loss: 0.6779 - val_accuracy: 0.6376\n",
      "Epoch 6/10\n",
      "66/66 [==============================] - 1s 21ms/step - loss: 0.6842 - accuracy: 0.5707 - val_loss: 0.6931 - val_accuracy: 0.5011\n",
      "Epoch 7/10\n",
      "66/66 [==============================] - 1s 21ms/step - loss: 0.6933 - accuracy: 0.5221 - val_loss: 0.6931 - val_accuracy: 0.5011\n",
      "Epoch 8/10\n",
      "66/66 [==============================] - 1s 20ms/step - loss: 0.6936 - accuracy: 0.4475 - val_loss: 0.6932 - val_accuracy: 0.4989\n",
      "Epoch 9/10\n",
      "66/66 [==============================] - 1s 20ms/step - loss: 0.6937 - accuracy: 0.5196 - val_loss: 0.6911 - val_accuracy: 0.4989\n",
      "Epoch 10/10\n",
      "66/66 [==============================] - 1s 21ms/step - loss: 0.7001 - accuracy: 0.4582 - val_loss: 0.6932 - val_accuracy: 0.4989\n",
      "INFO:tensorflow:Assets written to: CNNmut.model\\assets\n",
      "[[128, 3, 0.001, 0.5, 2, 0, 128], [128, 7, 0.0001, 0.4, 5, 1, 128], [32, 2, 0.0001, 0.5, 5, 0, 512], [256, 5, 0.0005, 0.4, 3, 0, 256], [256, 5, 0.0005, 0.4, 3, 0, 256], [256, 5, 0.0005, 0.4, 5, 1, 256], [128, 7, 0.001, 0.4, 5, 1, 256], [128, 7, 0.001, 0.4, 3, 0, 256], [128, 7, 0.001, 0.4, 3, 0, 256], [256, 5, 0.0005, 0.4, 3, 0, 256]]\n",
      "[0.15842904357696858, 0.16889016511963972, 0.17549445020756776, 0.23905429474607295, 0.23905429474607295, 0.2457399990218172, 0.24755138775069652, 0.24924353073206, 0.305252120838506, 0.4067453970912988]\n",
      "Generasi Ke  10\n",
      "Parent 1 dan 2  [256, 5, 0.0005, 0.4, 3, 0, 256] [128, 7, 0.001, 0.4, 3, 0, 256]\n",
      "Child 1 dan 2 [256, 5, 0.0005, 0.4, 3, 0, 256] [128, 7, 0.001, 0.4, 3, 0, 256]\n",
      "Mutasi 1 dan 2 [256, 5, 0.0005, 0.4, 3, 0, 256] [128, 7, 0.001, 0.4, 3, 0, 256]\n",
      "Epoch 1/10\n"
     ]
    },
    {
     "name": "stderr",
     "output_type": "stream",
     "text": [
      "D:\\ProgramData\\Anaconda3\\lib\\site-packages\\tensorflow\\python\\client\\session.py:1761: UserWarning: An interactive session is already active. This can cause out-of-memory errors in some cases. You must explicitly call `InteractiveSession.close()` to release resources held by the other session(s).\n",
      "  warnings.warn('An interactive session is already active. This can '\n"
     ]
    },
    {
     "name": "stdout",
     "output_type": "stream",
     "text": [
      "66/66 [==============================] - 2s 23ms/step - loss: 0.7708 - accuracy: 0.5271 - val_loss: 0.6929 - val_accuracy: 0.4989\n",
      "Epoch 2/10\n",
      "66/66 [==============================] - 1s 20ms/step - loss: 0.6919 - accuracy: 0.5498 - val_loss: 0.6820 - val_accuracy: 0.5034\n",
      "Epoch 3/10\n",
      "66/66 [==============================] - 1s 19ms/step - loss: 0.6842 - accuracy: 0.5439 - val_loss: 0.6792 - val_accuracy: 0.5526\n",
      "Epoch 4/10\n",
      "66/66 [==============================] - 1s 19ms/step - loss: 0.6870 - accuracy: 0.5585 - val_loss: 0.6948 - val_accuracy: 0.4989\n",
      "Epoch 5/10\n",
      "66/66 [==============================] - 1s 19ms/step - loss: 0.6935 - accuracy: 0.4950 - val_loss: 0.6933 - val_accuracy: 0.4989\n",
      "Epoch 6/10\n",
      "66/66 [==============================] - 1s 19ms/step - loss: 0.6936 - accuracy: 0.4965 - val_loss: 0.6932 - val_accuracy: 0.4989\n",
      "Epoch 7/10\n",
      "66/66 [==============================] - 1s 19ms/step - loss: 0.6936 - accuracy: 0.4978 - val_loss: 0.6932 - val_accuracy: 0.4989\n",
      "Epoch 8/10\n",
      "66/66 [==============================] - 1s 19ms/step - loss: 0.6931 - accuracy: 0.4906 - val_loss: 0.6932 - val_accuracy: 0.4989\n",
      "Epoch 9/10\n",
      "66/66 [==============================] - 1s 19ms/step - loss: 0.6924 - accuracy: 0.5080 - val_loss: 0.6932 - val_accuracy: 0.4989\n",
      "Epoch 10/10\n",
      "66/66 [==============================] - 1s 20ms/step - loss: 0.6929 - accuracy: 0.4816 - val_loss: 0.6932 - val_accuracy: 0.4989\n",
      "INFO:tensorflow:Assets written to: CNNmut.model\\assets\n",
      "[[128, 3, 0.001, 0.5, 2, 0, 128], [128, 7, 0.0001, 0.4, 5, 1, 128], [32, 2, 0.0001, 0.5, 5, 0, 512], [256, 5, 0.0005, 0.4, 3, 0, 256], [256, 5, 0.0005, 0.4, 3, 0, 256], [256, 5, 0.0005, 0.4, 5, 1, 256], [128, 7, 0.001, 0.4, 5, 1, 256], [128, 7, 0.001, 0.4, 3, 0, 256], [128, 7, 0.001, 0.4, 3, 0, 256], [256, 5, 0.0005, 0.4, 3, 0, 256]]\n",
      "[0.15842904357696858, 0.16889016511963972, 0.17549445020756776, 0.23905429474607295, 0.23905429474607295, 0.2457399990218172, 0.24755138775069652, 0.24924353073206, 0.28562973774059336, 0.4067453970912988]\n",
      "Generasi Ke  11\n",
      "Parent 1 dan 2  [256, 5, 0.0005, 0.4, 3, 0, 256] [128, 7, 0.001, 0.4, 3, 0, 256]\n",
      "Child 1 dan 2 [256, 5, 0.0005, 0.4, 3, 0, 256] [128, 7, 0.001, 0.4, 3, 0, 256]\n",
      "Mutasi 1 dan 2 [256, 5, 0.0005, 0.4, 3, 0, 256] [128, 7, 0.001, 0.4, 3, 0, 256]\n",
      "Epoch 1/10\n"
     ]
    },
    {
     "name": "stderr",
     "output_type": "stream",
     "text": [
      "D:\\ProgramData\\Anaconda3\\lib\\site-packages\\tensorflow\\python\\client\\session.py:1761: UserWarning: An interactive session is already active. This can cause out-of-memory errors in some cases. You must explicitly call `InteractiveSession.close()` to release resources held by the other session(s).\n",
      "  warnings.warn('An interactive session is already active. This can '\n"
     ]
    },
    {
     "name": "stdout",
     "output_type": "stream",
     "text": [
      "66/66 [==============================] - 2s 21ms/step - loss: 0.7710 - accuracy: 0.5263 - val_loss: 0.6930 - val_accuracy: 0.4989\n",
      "Epoch 2/10\n",
      "66/66 [==============================] - 1s 19ms/step - loss: 0.6943 - accuracy: 0.5373 - val_loss: 0.6932 - val_accuracy: 0.4989\n",
      "Epoch 3/10\n",
      "66/66 [==============================] - 1s 19ms/step - loss: 0.6936 - accuracy: 0.4843 - val_loss: 0.6932 - val_accuracy: 0.4989\n",
      "Epoch 4/10\n",
      "66/66 [==============================] - 1s 19ms/step - loss: 0.6941 - accuracy: 0.4760 - val_loss: 0.6933 - val_accuracy: 0.4989\n",
      "Epoch 5/10\n",
      "66/66 [==============================] - 1s 19ms/step - loss: 0.6933 - accuracy: 0.4989 - val_loss: 0.6933 - val_accuracy: 0.4989\n",
      "Epoch 6/10\n",
      "66/66 [==============================] - 1s 20ms/step - loss: 0.6934 - accuracy: 0.4763 - val_loss: 0.6932 - val_accuracy: 0.4989\n",
      "Epoch 7/10\n",
      "66/66 [==============================] - 1s 19ms/step - loss: 0.6933 - accuracy: 0.5017 - val_loss: 0.6918 - val_accuracy: 0.5324\n",
      "Epoch 8/10\n",
      "66/66 [==============================] - 1s 19ms/step - loss: 0.6952 - accuracy: 0.5005 - val_loss: 0.6933 - val_accuracy: 0.4989\n",
      "Epoch 9/10\n",
      "66/66 [==============================] - 1s 20ms/step - loss: 0.6929 - accuracy: 0.5120 - val_loss: 0.6932 - val_accuracy: 0.4989\n",
      "Epoch 10/10\n",
      "66/66 [==============================] - 1s 19ms/step - loss: 0.6935 - accuracy: 0.4999 - val_loss: 0.6932 - val_accuracy: 0.4989\n",
      "INFO:tensorflow:Assets written to: CNNmut.model\\assets\n",
      "[[128, 3, 0.001, 0.5, 2, 0, 128], [128, 7, 0.0001, 0.4, 5, 1, 128], [32, 2, 0.0001, 0.5, 5, 0, 512], [256, 5, 0.0005, 0.4, 3, 0, 256], [256, 5, 0.0005, 0.4, 3, 0, 256], [256, 5, 0.0005, 0.4, 5, 1, 256], [128, 7, 0.001, 0.4, 5, 1, 256], [128, 7, 0.001, 0.4, 3, 0, 256], [128, 7, 0.001, 0.4, 3, 0, 256], [256, 5, 0.0005, 0.4, 3, 0, 256]]\n",
      "[0.15842904357696858, 0.16889016511963972, 0.17549445020756776, 0.23905429474607295, 0.23905429474607295, 0.2457399990218172, 0.24755138775069652, 0.24924353073206, 0.4102865883996661, 0.4067453970912988]\n",
      "Generasi Ke  12\n",
      "Parent 1 dan 2  [256, 5, 0.0005, 0.4, 3, 0, 256] [128, 7, 0.001, 0.4, 3, 0, 256]\n",
      "Child 1 dan 2 [256, 5, 0.0005, 0.4, 3, 0, 256] [128, 7, 0.001, 0.4, 3, 0, 256]\n",
      "Mutasi 1 dan 2 [256, 5, 0.0005, 0.4, 3, 0, 256] [128, 7, 0.001, 0.4, 3, 0, 256]\n",
      "Epoch 1/10\n"
     ]
    },
    {
     "name": "stderr",
     "output_type": "stream",
     "text": [
      "D:\\ProgramData\\Anaconda3\\lib\\site-packages\\tensorflow\\python\\client\\session.py:1761: UserWarning: An interactive session is already active. This can cause out-of-memory errors in some cases. You must explicitly call `InteractiveSession.close()` to release resources held by the other session(s).\n",
      "  warnings.warn('An interactive session is already active. This can '\n"
     ]
    },
    {
     "name": "stdout",
     "output_type": "stream",
     "text": [
      "66/66 [==============================] - 2s 22ms/step - loss: 0.7709 - accuracy: 0.5288 - val_loss: 0.6943 - val_accuracy: 0.4989\n",
      "Epoch 2/10\n",
      "66/66 [==============================] - 1s 20ms/step - loss: 0.6913 - accuracy: 0.5303 - val_loss: 0.6754 - val_accuracy: 0.5593\n",
      "Epoch 3/10\n",
      "66/66 [==============================] - 1s 20ms/step - loss: 0.6789 - accuracy: 0.5586 - val_loss: 1.0342 - val_accuracy: 0.4989\n",
      "Epoch 4/10\n",
      "66/66 [==============================] - 1s 19ms/step - loss: 0.7194 - accuracy: 0.5747 - val_loss: 0.6288 - val_accuracy: 0.6398\n",
      "Epoch 5/10\n",
      "66/66 [==============================] - 1s 19ms/step - loss: 0.6090 - accuracy: 0.6535 - val_loss: 0.5517 - val_accuracy: 0.7271\n",
      "Epoch 6/10\n",
      "66/66 [==============================] - 1s 19ms/step - loss: 0.5590 - accuracy: 0.7096 - val_loss: 0.5559 - val_accuracy: 0.7114\n",
      "Epoch 7/10\n",
      "66/66 [==============================] - 1s 20ms/step - loss: 0.5541 - accuracy: 0.7136 - val_loss: 0.5056 - val_accuracy: 0.7696\n",
      "Epoch 8/10\n",
      "66/66 [==============================] - 1s 19ms/step - loss: 0.5053 - accuracy: 0.7617 - val_loss: 0.4921 - val_accuracy: 0.7696\n",
      "Epoch 9/10\n",
      "66/66 [==============================] - 1s 20ms/step - loss: 0.5509 - accuracy: 0.7315 - val_loss: 0.5287 - val_accuracy: 0.7450\n",
      "Epoch 10/10\n",
      "66/66 [==============================] - 1s 19ms/step - loss: 0.5149 - accuracy: 0.7549 - val_loss: 0.4658 - val_accuracy: 0.7763\n",
      "INFO:tensorflow:Assets written to: CNNmut.model\\assets\n",
      "[[128, 3, 0.001, 0.5, 2, 0, 128], [128, 7, 0.0001, 0.4, 5, 1, 128], [32, 2, 0.0001, 0.5, 5, 0, 512], [256, 5, 0.0005, 0.4, 3, 0, 256], [256, 5, 0.0005, 0.4, 3, 0, 256], [256, 5, 0.0005, 0.4, 5, 1, 256], [128, 7, 0.001, 0.4, 5, 1, 256], [128, 7, 0.001, 0.4, 3, 0, 256], [128, 7, 0.001, 0.4, 3, 0, 256], [256, 5, 0.0005, 0.4, 3, 0, 256]]\n",
      "[0.15842904357696858, 0.16889016511963972, 0.17549445020756776, 0.23905429474607295, 0.23905429474607295, 0.2457399990218172, 0.24755138775069652, 0.24924353073206, 0.17145603582941374, 0.4067453970912988]\n",
      "Generasi Ke  13\n",
      "Parent 1 dan 2  [256, 5, 0.0005, 0.4, 3, 0, 256] [128, 7, 0.001, 0.4, 3, 0, 256]\n",
      "Child 1 dan 2 [256, 5, 0.0005, 0.4, 3, 0, 256] [128, 7, 0.001, 0.4, 3, 0, 256]\n",
      "Mutasi 1 dan 2 [256, 5, 0.0005, 0.4, 3, 0, 256] [128, 7, 0.001, 0.4, 3, 0, 256]\n",
      "Epoch 1/10\n"
     ]
    },
    {
     "name": "stderr",
     "output_type": "stream",
     "text": [
      "D:\\ProgramData\\Anaconda3\\lib\\site-packages\\tensorflow\\python\\client\\session.py:1761: UserWarning: An interactive session is already active. This can cause out-of-memory errors in some cases. You must explicitly call `InteractiveSession.close()` to release resources held by the other session(s).\n",
      "  warnings.warn('An interactive session is already active. This can '\n"
     ]
    },
    {
     "name": "stdout",
     "output_type": "stream",
     "text": [
      "66/66 [==============================] - 2s 21ms/step - loss: 0.7709 - accuracy: 0.5258 - val_loss: 0.6885 - val_accuracy: 0.4989\n",
      "Epoch 2/10\n",
      "66/66 [==============================] - 1s 19ms/step - loss: 0.6912 - accuracy: 0.5457 - val_loss: 0.6920 - val_accuracy: 0.49890.6907 - accu\n",
      "Epoch 3/10\n",
      "66/66 [==============================] - 1s 19ms/step - loss: 0.6949 - accuracy: 0.4591 - val_loss: 0.6932 - val_accuracy: 0.4989\n",
      "Epoch 4/10\n",
      "66/66 [==============================] - 1s 19ms/step - loss: 0.6948 - accuracy: 0.4595 - val_loss: 0.6775 - val_accuracy: 0.5973\n",
      "Epoch 5/10\n",
      "66/66 [==============================] - 1s 19ms/step - loss: 0.6810 - accuracy: 0.5909 - val_loss: 0.6934 - val_accuracy: 0.4989\n",
      "Epoch 6/10\n",
      "66/66 [==============================] - 1s 19ms/step - loss: 0.6937 - accuracy: 0.5014 - val_loss: 0.6720 - val_accuracy: 0.6421loss: 0.6937 -  - ETA: 0s - loss: 0.6937 - accuracy: 0.50\n",
      "Epoch 7/10\n",
      "66/66 [==============================] - 1s 19ms/step - loss: 0.6382 - accuracy: 0.6514 - val_loss: 0.5814 - val_accuracy: 0.6711\n",
      "Epoch 8/10\n",
      "66/66 [==============================] - 1s 20ms/step - loss: 0.5995 - accuracy: 0.6853 - val_loss: 0.5556 - val_accuracy: 0.7226\n",
      "Epoch 9/10\n",
      "66/66 [==============================] - 1s 19ms/step - loss: 0.5925 - accuracy: 0.7031 - val_loss: 0.6027 - val_accuracy: 0.7136- loss: 0.5922 - accuracy: 0.70\n",
      "Epoch 10/10\n",
      "66/66 [==============================] - 1s 19ms/step - loss: 0.5591 - accuracy: 0.7329 - val_loss: 0.5300 - val_accuracy: 0.7338\n",
      "INFO:tensorflow:Assets written to: CNNmut.model\\assets\n",
      "[[128, 3, 0.001, 0.5, 2, 0, 128], [128, 7, 0.0001, 0.4, 5, 1, 128], [128, 7, 0.001, 0.4, 3, 0, 256], [32, 2, 0.0001, 0.5, 5, 0, 512], [256, 5, 0.0005, 0.4, 3, 0, 256], [256, 5, 0.0005, 0.4, 3, 0, 256], [256, 5, 0.0005, 0.4, 5, 1, 256], [128, 7, 0.001, 0.4, 5, 1, 256], [128, 7, 0.001, 0.4, 3, 0, 256], [256, 5, 0.0005, 0.4, 3, 0, 256]]\n",
      "[0.15842904357696858, 0.16889016511963972, 0.17145603582941374, 0.17549445020756776, 0.23905429474607295, 0.23905429474607295, 0.2457399990218172, 0.24755138775069652, 0.29219102348993115, 0.4067453970912988]\n",
      "Generasi Ke  14\n",
      "Parent 1 dan 2  [32, 2, 0.0001, 0.5, 5, 0, 512] [128, 7, 0.001, 0.4, 5, 1, 256]\n",
      "Child 1 dan 2 [32, 2, 0.0001, 0.5, 5, 1, 256] [128, 7, 0.001, 0.4, 5, 0, 512]\n",
      "Mutasi 1 dan 2 [32, 2, 0.0001, 0.5, 5, 1, 256] [128, 7, 0.001, 0.4, 5, 0, 512]\n",
      "Epoch 1/10\n"
     ]
    },
    {
     "name": "stderr",
     "output_type": "stream",
     "text": [
      "D:\\ProgramData\\Anaconda3\\lib\\site-packages\\tensorflow\\python\\client\\session.py:1761: UserWarning: An interactive session is already active. This can cause out-of-memory errors in some cases. You must explicitly call `InteractiveSession.close()` to release resources held by the other session(s).\n",
      "  warnings.warn('An interactive session is already active. This can '\n"
     ]
    },
    {
     "name": "stdout",
     "output_type": "stream",
     "text": [
      "66/66 [==============================] - 1s 9ms/step - loss: 0.6932 - accuracy: 0.4872 - val_loss: 0.6929 - val_accuracy: 0.4989\n",
      "Epoch 2/10\n",
      "66/66 [==============================] - 0s 7ms/step - loss: 0.6927 - accuracy: 0.5310 - val_loss: 0.6927 - val_accuracy: 0.4989\n",
      "Epoch 3/10\n",
      "66/66 [==============================] - 0s 6ms/step - loss: 0.6931 - accuracy: 0.4890 - val_loss: 0.6925 - val_accuracy: 0.4989\n",
      "Epoch 4/10\n",
      "66/66 [==============================] - 0s 6ms/step - loss: 0.6929 - accuracy: 0.4749 - val_loss: 0.6921 - val_accuracy: 0.4989\n",
      "Epoch 5/10\n",
      "66/66 [==============================] - 0s 7ms/step - loss: 0.6926 - accuracy: 0.4988 - val_loss: 0.6911 - val_accuracy: 0.4989\n",
      "Epoch 6/10\n",
      "66/66 [==============================] - 0s 6ms/step - loss: 0.6910 - accuracy: 0.5073 - val_loss: 0.6894 - val_accuracy: 0.5056\n",
      "Epoch 7/10\n",
      "66/66 [==============================] - 0s 7ms/step - loss: 0.6890 - accuracy: 0.5427 - val_loss: 0.6866 - val_accuracy: 0.5369\n",
      "Epoch 8/10\n",
      "66/66 [==============================] - 0s 6ms/step - loss: 0.6859 - accuracy: 0.5589 - val_loss: 0.6849 - val_accuracy: 0.6465\n",
      "Epoch 9/10\n",
      "66/66 [==============================] - 0s 6ms/step - loss: 0.6845 - accuracy: 0.5663 - val_loss: 0.6754 - val_accuracy: 0.6152\n",
      "Epoch 10/10\n",
      "66/66 [==============================] - 0s 6ms/step - loss: 0.6746 - accuracy: 0.5960 - val_loss: 0.6662 - val_accuracy: 0.5705\n",
      "INFO:tensorflow:Assets written to: CNN.model\\assets\n"
     ]
    },
    {
     "name": "stderr",
     "output_type": "stream",
     "text": [
      "D:\\ProgramData\\Anaconda3\\lib\\site-packages\\tensorflow\\python\\client\\session.py:1761: UserWarning: An interactive session is already active. This can cause out-of-memory errors in some cases. You must explicitly call `InteractiveSession.close()` to release resources held by the other session(s).\n",
      "  warnings.warn('An interactive session is already active. This can '\n"
     ]
    },
    {
     "name": "stdout",
     "output_type": "stream",
     "text": [
      "Epoch 1/10\n",
      "66/66 [==============================] - 2s 24ms/step - loss: 0.7200 - accuracy: 0.4754 - val_loss: 0.6933 - val_accuracy: 0.4989\n",
      "Epoch 2/10\n",
      "66/66 [==============================] - 1s 21ms/step - loss: 0.6922 - accuracy: 0.5329 - val_loss: 0.6932 - val_accuracy: 0.4989\n",
      "Epoch 3/10\n",
      "66/66 [==============================] - 1s 21ms/step - loss: 0.6938 - accuracy: 0.4738 - val_loss: 0.6934 - val_accuracy: 0.4989\n",
      "Epoch 4/10\n",
      "66/66 [==============================] - 1s 21ms/step - loss: 0.6952 - accuracy: 0.4750 - val_loss: 0.6936 - val_accuracy: 0.4989\n",
      "Epoch 5/10\n",
      "66/66 [==============================] - 1s 21ms/step - loss: 0.6937 - accuracy: 0.4969 - val_loss: 0.6933 - val_accuracy: 0.4989\n",
      "Epoch 6/10\n",
      "66/66 [==============================] - 1s 21ms/step - loss: 0.6934 - accuracy: 0.5048 - val_loss: 0.6932 - val_accuracy: 0.4989\n",
      "Epoch 7/10\n",
      "66/66 [==============================] - 1s 21ms/step - loss: 0.6931 - accuracy: 0.5011 - val_loss: 0.6932 - val_accuracy: 0.4989\n",
      "Epoch 8/10\n",
      "66/66 [==============================] - 1s 21ms/step - loss: 0.6933 - accuracy: 0.5037 - val_loss: 0.6932 - val_accuracy: 0.4989\n",
      "Epoch 9/10\n",
      "66/66 [==============================] - 1s 21ms/step - loss: 0.6932 - accuracy: 0.5033 - val_loss: 0.6932 - val_accuracy: 0.4989\n",
      "Epoch 10/10\n",
      "66/66 [==============================] - 1s 21ms/step - loss: 0.6934 - accuracy: 0.4677 - val_loss: 0.6932 - val_accuracy: 0.4989\n",
      "INFO:tensorflow:Assets written to: CNN.model\\assets\n",
      "[[128, 3, 0.001, 0.5, 2, 0, 128], [128, 7, 0.0001, 0.4, 5, 1, 128], [128, 7, 0.001, 0.4, 3, 0, 256], [32, 2, 0.0001, 0.5, 5, 0, 512], [256, 5, 0.0005, 0.4, 3, 0, 256], [256, 5, 0.0005, 0.4, 3, 0, 256], [256, 5, 0.0005, 0.4, 5, 1, 256], [128, 7, 0.001, 0.4, 5, 1, 256], [128, 7, 0.001, 0.4, 5, 0, 512], [32, 2, 0.0001, 0.5, 5, 1, 256]]\n",
      "[0.15842904357696858, 0.16889016511963972, 0.17145603582941374, 0.17549445020756776, 0.23905429474607295, 0.23905429474607295, 0.2457399990218172, 0.24755138775069652, 0.24989100710387344, 0.4935652791358515]\n",
      "Generasi Ke  15\n",
      "Parent 1 dan 2  [32, 2, 0.0001, 0.5, 5, 0, 512] [128, 7, 0.001, 0.4, 5, 1, 256]\n",
      "Child 1 dan 2 [32, 2, 0.0001, 0.5, 5, 1, 256] [128, 7, 0.001, 0.4, 5, 0, 512]\n",
      "Mutasi 1 dan 2 [32, 2, 0.0001, 0.5, 5, 1, 256] [128, 7, 0.001, 0.4, 5, 0, 512]\n",
      "Epoch 1/10\n"
     ]
    },
    {
     "name": "stderr",
     "output_type": "stream",
     "text": [
      "D:\\ProgramData\\Anaconda3\\lib\\site-packages\\tensorflow\\python\\client\\session.py:1761: UserWarning: An interactive session is already active. This can cause out-of-memory errors in some cases. You must explicitly call `InteractiveSession.close()` to release resources held by the other session(s).\n",
      "  warnings.warn('An interactive session is already active. This can '\n"
     ]
    },
    {
     "name": "stdout",
     "output_type": "stream",
     "text": [
      "66/66 [==============================] - 2s 24ms/step - loss: 0.7200 - accuracy: 0.4736 - val_loss: 0.6933 - val_accuracy: 0.4989\n",
      "Epoch 2/10\n",
      "66/66 [==============================] - 1s 21ms/step - loss: 0.6926 - accuracy: 0.5326 - val_loss: 0.6931 - val_accuracy: 0.4989\n",
      "Epoch 3/10\n",
      "66/66 [==============================] - 1s 21ms/step - loss: 0.6935 - accuracy: 0.4807 - val_loss: 0.6935 - val_accuracy: 0.4989\n",
      "Epoch 4/10\n",
      "66/66 [==============================] - 1s 22ms/step - loss: 0.6962 - accuracy: 0.4806 - val_loss: 0.6936 - val_accuracy: 0.4989\n",
      "Epoch 5/10\n",
      "66/66 [==============================] - 1s 21ms/step - loss: 0.6947 - accuracy: 0.5011 - val_loss: 0.6931 - val_accuracy: 0.5011\n",
      "Epoch 6/10\n",
      "66/66 [==============================] - 1s 21ms/step - loss: 0.6941 - accuracy: 0.4974 - val_loss: 0.6932 - val_accuracy: 0.4989\n",
      "Epoch 7/10\n",
      "66/66 [==============================] - 1s 21ms/step - loss: 0.6932 - accuracy: 0.4985 - val_loss: 0.6932 - val_accuracy: 0.4989\n",
      "Epoch 8/10\n",
      "66/66 [==============================] - 1s 21ms/step - loss: 0.6931 - accuracy: 0.5195 - val_loss: 0.6932 - val_accuracy: 0.4989\n",
      "Epoch 9/10\n",
      "66/66 [==============================] - 1s 21ms/step - loss: 0.6954 - accuracy: 0.5054 - val_loss: 0.6932 - val_accuracy: 0.4989\n",
      "Epoch 10/10\n",
      "66/66 [==============================] - 1s 22ms/step - loss: 0.6941 - accuracy: 0.4602 - val_loss: 0.6932 - val_accuracy: 0.498944 - accuracy: 0.45 - ETA: 0s - loss: 0.6943 \n",
      "INFO:tensorflow:Assets written to: CNNmut.model\\assets\n",
      "[[128, 3, 0.001, 0.5, 2, 0, 128], [128, 7, 0.0001, 0.4, 5, 1, 128], [128, 7, 0.001, 0.4, 3, 0, 256], [32, 2, 0.0001, 0.5, 5, 0, 512], [256, 5, 0.0005, 0.4, 3, 0, 256], [256, 5, 0.0005, 0.4, 3, 0, 256], [256, 5, 0.0005, 0.4, 5, 1, 256], [128, 7, 0.001, 0.4, 5, 1, 256], [128, 7, 0.001, 0.4, 5, 0, 512], [32, 2, 0.0001, 0.5, 5, 1, 256]]\n",
      "[0.15842904357696858, 0.16889016511963972, 0.17145603582941374, 0.17549445020756776, 0.23905429474607295, 0.23905429474607295, 0.2457399990218172, 0.24755138775069652, 0.2503933764385552, 0.4935652791358515]\n",
      "Generasi Ke  16\n",
      "Parent 1 dan 2  [32, 2, 0.0001, 0.5, 5, 0, 512] [128, 7, 0.001, 0.4, 5, 1, 256]\n",
      "Child 1 dan 2 [32, 2, 0.0001, 0.5, 5, 1, 256] [128, 7, 0.001, 0.4, 5, 0, 512]\n",
      "Mutasi 1 dan 2 [32, 2, 0.0001, 0.5, 5, 1, 256] [128, 7, 0.001, 0.4, 5, 0, 512]\n",
      "Epoch 1/10\n"
     ]
    },
    {
     "name": "stderr",
     "output_type": "stream",
     "text": [
      "D:\\ProgramData\\Anaconda3\\lib\\site-packages\\tensorflow\\python\\client\\session.py:1761: UserWarning: An interactive session is already active. This can cause out-of-memory errors in some cases. You must explicitly call `InteractiveSession.close()` to release resources held by the other session(s).\n",
      "  warnings.warn('An interactive session is already active. This can '\n"
     ]
    },
    {
     "name": "stdout",
     "output_type": "stream",
     "text": [
      "66/66 [==============================] - 2s 25ms/step - loss: 0.7202 - accuracy: 0.4784 - val_loss: 0.6932 - val_accuracy: 0.4989\n",
      "Epoch 2/10\n",
      "66/66 [==============================] - 1s 21ms/step - loss: 0.6925 - accuracy: 0.5293 - val_loss: 0.6933 - val_accuracy: 0.4989\n",
      "Epoch 3/10\n",
      "66/66 [==============================] - 1s 21ms/step - loss: 0.6938 - accuracy: 0.4849 - val_loss: 0.6933 - val_accuracy: 0.4989\n",
      "Epoch 4/10\n",
      "66/66 [==============================] - 1s 22ms/step - loss: 0.6945 - accuracy: 0.4758 - val_loss: 0.6934 - val_accuracy: 0.4989\n",
      "Epoch 5/10\n",
      "66/66 [==============================] - 1s 21ms/step - loss: 0.6935 - accuracy: 0.4975 - val_loss: 0.6933 - val_accuracy: 0.4989\n",
      "Epoch 6/10\n",
      "66/66 [==============================] - 1s 22ms/step - loss: 0.6930 - accuracy: 0.5006 - val_loss: 0.6932 - val_accuracy: 0.4989\n",
      "Epoch 7/10\n",
      "66/66 [==============================] - 1s 21ms/step - loss: 0.6933 - accuracy: 0.5136 - val_loss: 0.6932 - val_accuracy: 0.4989\n",
      "Epoch 8/10\n",
      "66/66 [==============================] - 1s 22ms/step - loss: 0.6932 - accuracy: 0.5138 - val_loss: 0.6932 - val_accuracy: 0.4989\n",
      "Epoch 9/10\n",
      "66/66 [==============================] - 1s 21ms/step - loss: 0.6931 - accuracy: 0.5145 - val_loss: 0.6932 - val_accuracy: 0.4989\n",
      "Epoch 10/10\n",
      "66/66 [==============================] - 1s 21ms/step - loss: 0.6935 - accuracy: 0.4802 - val_loss: 0.6932 - val_accuracy: 0.4989\n",
      "INFO:tensorflow:Assets written to: CNNmut.model\\assets\n",
      "[[128, 3, 0.001, 0.5, 2, 0, 128], [128, 7, 0.0001, 0.4, 5, 1, 128], [128, 7, 0.001, 0.4, 3, 0, 256], [32, 2, 0.0001, 0.5, 5, 0, 512], [256, 5, 0.0005, 0.4, 3, 0, 256], [256, 5, 0.0005, 0.4, 3, 0, 256], [256, 5, 0.0005, 0.4, 5, 1, 256], [128, 7, 0.001, 0.4, 5, 1, 256], [128, 7, 0.001, 0.4, 5, 0, 512], [32, 2, 0.0001, 0.5, 5, 1, 256]]\n",
      "[0.15842904357696858, 0.16889016511963972, 0.17145603582941374, 0.17549445020756776, 0.23905429474607295, 0.23905429474607295, 0.2457399990218172, 0.24755138775069652, 0.25015082556007867, 0.4935652791358515]\n",
      "Generasi Ke  17\n",
      "Parent 1 dan 2  [32, 2, 0.0001, 0.5, 5, 0, 512] [128, 7, 0.001, 0.4, 5, 1, 256]\n",
      "Child 1 dan 2 [32, 2, 0.0001, 0.5, 5, 1, 256] [128, 7, 0.001, 0.4, 5, 0, 512]\n",
      "Mutasi 1 dan 2 [32, 2, 0.0001, 0.5, 5, 1, 256] [128, 7, 0.001, 0.4, 5, 0, 512]\n",
      "Epoch 1/10\n"
     ]
    },
    {
     "name": "stderr",
     "output_type": "stream",
     "text": [
      "D:\\ProgramData\\Anaconda3\\lib\\site-packages\\tensorflow\\python\\client\\session.py:1761: UserWarning: An interactive session is already active. This can cause out-of-memory errors in some cases. You must explicitly call `InteractiveSession.close()` to release resources held by the other session(s).\n",
      "  warnings.warn('An interactive session is already active. This can '\n"
     ]
    },
    {
     "name": "stdout",
     "output_type": "stream",
     "text": [
      "66/66 [==============================] - 2s 23ms/step - loss: 0.7236 - accuracy: 0.4818 - val_loss: 0.6934 - val_accuracy: 0.4989\n",
      "Epoch 2/10\n",
      "66/66 [==============================] - 1s 21ms/step - loss: 0.6952 - accuracy: 0.5328 - val_loss: 0.6932 - val_accuracy: 0.4989\n",
      "Epoch 3/10\n",
      "66/66 [==============================] - 1s 21ms/step - loss: 0.6934 - accuracy: 0.4817 - val_loss: 0.6932 - val_accuracy: 0.4989\n",
      "Epoch 4/10\n",
      "66/66 [==============================] - 1s 21ms/step - loss: 0.6941 - accuracy: 0.4720 - val_loss: 0.6935 - val_accuracy: 0.4989\n",
      "Epoch 5/10\n",
      "66/66 [==============================] - 1s 21ms/step - loss: 0.6937 - accuracy: 0.4993 - val_loss: 0.6933 - val_accuracy: 0.4989\n",
      "Epoch 6/10\n",
      "66/66 [==============================] - 1s 22ms/step - loss: 0.6933 - accuracy: 0.5040 - val_loss: 0.6932 - val_accuracy: 0.4989\n",
      "Epoch 7/10\n",
      "66/66 [==============================] - 1s 21ms/step - loss: 0.6933 - accuracy: 0.4962 - val_loss: 0.6932 - val_accuracy: 0.4989\n",
      "Epoch 8/10\n",
      "66/66 [==============================] - 1s 21ms/step - loss: 0.6932 - accuracy: 0.5019 - val_loss: 0.6932 - val_accuracy: 0.4989\n",
      "Epoch 9/10\n",
      "66/66 [==============================] - 1s 21ms/step - loss: 0.6930 - accuracy: 0.5135 - val_loss: 0.6932 - val_accuracy: 0.4989\n",
      "Epoch 10/10\n",
      "66/66 [==============================] - 1s 21ms/step - loss: 0.6935 - accuracy: 0.4884 - val_loss: 0.6932 - val_accuracy: 0.4989\n",
      "INFO:tensorflow:Assets written to: CNNmut.model\\assets\n",
      "[[128, 3, 0.001, 0.5, 2, 0, 128], [128, 7, 0.0001, 0.4, 5, 1, 128], [128, 7, 0.001, 0.4, 3, 0, 256], [32, 2, 0.0001, 0.5, 5, 0, 512], [256, 5, 0.0005, 0.4, 3, 0, 256], [256, 5, 0.0005, 0.4, 3, 0, 256], [256, 5, 0.0005, 0.4, 5, 1, 256], [128, 7, 0.001, 0.4, 5, 1, 256], [128, 7, 0.001, 0.4, 5, 0, 512], [32, 2, 0.0001, 0.5, 5, 1, 256]]\n",
      "[0.15842904357696858, 0.16889016511963972, 0.17145603582941374, 0.17549445020756776, 0.23905429474607295, 0.23905429474607295, 0.2457399990218172, 0.24755138775069652, 0.24997952734217635, 0.4935652791358515]\n",
      "Generasi Ke  18\n",
      "Parent 1 dan 2  [32, 2, 0.0001, 0.5, 5, 0, 512] [128, 7, 0.001, 0.4, 5, 1, 256]\n",
      "Child 1 dan 2 [32, 2, 0.0001, 0.5, 5, 1, 256] [128, 7, 0.001, 0.4, 5, 0, 512]\n",
      "Mutasi 1 dan 2 [32, 2, 0.0001, 0.5, 5, 1, 256] [128, 7, 0.001, 0.4, 5, 0, 512]\n",
      "Epoch 1/10\n"
     ]
    },
    {
     "name": "stderr",
     "output_type": "stream",
     "text": [
      "D:\\ProgramData\\Anaconda3\\lib\\site-packages\\tensorflow\\python\\client\\session.py:1761: UserWarning: An interactive session is already active. This can cause out-of-memory errors in some cases. You must explicitly call `InteractiveSession.close()` to release resources held by the other session(s).\n",
      "  warnings.warn('An interactive session is already active. This can '\n"
     ]
    },
    {
     "name": "stdout",
     "output_type": "stream",
     "text": [
      "66/66 [==============================] - 2s 23ms/step - loss: 0.7201 - accuracy: 0.4680 - val_loss: 0.6934 - val_accuracy: 0.4989\n",
      "Epoch 2/10\n",
      "66/66 [==============================] - 1s 21ms/step - loss: 0.6922 - accuracy: 0.5329 - val_loss: 0.6932 - val_accuracy: 0.4989\n",
      "Epoch 3/10\n",
      "66/66 [==============================] - 1s 21ms/step - loss: 0.6936 - accuracy: 0.4757 - val_loss: 0.6932 - val_accuracy: 0.4989\n",
      "Epoch 4/10\n",
      "66/66 [==============================] - 1s 21ms/step - loss: 0.6942 - accuracy: 0.4718 - val_loss: 0.6934 - val_accuracy: 0.4989\n",
      "Epoch 5/10\n",
      "66/66 [==============================] - 1s 21ms/step - loss: 0.6934 - accuracy: 0.4967 - val_loss: 0.6933 - val_accuracy: 0.4989\n",
      "Epoch 6/10\n",
      "66/66 [==============================] - 1s 21ms/step - loss: 0.6932 - accuracy: 0.5060 - val_loss: 0.6932 - val_accuracy: 0.4989\n",
      "Epoch 7/10\n",
      "66/66 [==============================] - 1s 21ms/step - loss: 0.6934 - accuracy: 0.4932 - val_loss: 0.6932 - val_accuracy: 0.4989\n",
      "Epoch 8/10\n",
      "66/66 [==============================] - 1s 21ms/step - loss: 0.6932 - accuracy: 0.5018 - val_loss: 0.6932 - val_accuracy: 0.4989\n",
      "Epoch 9/10\n",
      "66/66 [==============================] - 1s 21ms/step - loss: 0.6930 - accuracy: 0.5216 - val_loss: 0.6932 - val_accuracy: 0.4989\n",
      "Epoch 10/10\n",
      "66/66 [==============================] - 1s 21ms/step - loss: 0.6935 - accuracy: 0.4759 - val_loss: 0.6932 - val_accuracy: 0.4989\n",
      "INFO:tensorflow:Assets written to: CNNmut.model\\assets\n",
      "[[128, 3, 0.001, 0.5, 2, 0, 128], [128, 7, 0.0001, 0.4, 5, 1, 128], [128, 7, 0.001, 0.4, 3, 0, 256], [32, 2, 0.0001, 0.5, 5, 0, 512], [256, 5, 0.0005, 0.4, 3, 0, 256], [256, 5, 0.0005, 0.4, 3, 0, 256], [256, 5, 0.0005, 0.4, 5, 1, 256], [128, 7, 0.001, 0.4, 5, 1, 256], [128, 7, 0.001, 0.4, 5, 0, 512], [32, 2, 0.0001, 0.5, 5, 1, 256]]\n",
      "[0.15842904357696858, 0.16889016511963972, 0.17145603582941374, 0.17549445020756776, 0.23905429474607295, 0.23905429474607295, 0.2457399990218172, 0.24755138775069652, 0.25000416398446845, 0.4935652791358515]\n",
      "Generasi Ke  19\n",
      "Parent 1 dan 2  [32, 2, 0.0001, 0.5, 5, 0, 512] [128, 7, 0.001, 0.4, 5, 1, 256]\n",
      "Child 1 dan 2 [32, 2, 0.0001, 0.5, 5, 1, 256] [128, 7, 0.001, 0.4, 5, 0, 512]\n",
      "Mutasi 1 dan 2 [32, 2, 0.0001, 0.5, 5, 1, 256] [128, 7, 0.001, 0.4, 5, 0, 512]\n",
      "Epoch 1/10\n"
     ]
    },
    {
     "name": "stderr",
     "output_type": "stream",
     "text": [
      "D:\\ProgramData\\Anaconda3\\lib\\site-packages\\tensorflow\\python\\client\\session.py:1761: UserWarning: An interactive session is already active. This can cause out-of-memory errors in some cases. You must explicitly call `InteractiveSession.close()` to release resources held by the other session(s).\n",
      "  warnings.warn('An interactive session is already active. This can '\n"
     ]
    },
    {
     "name": "stdout",
     "output_type": "stream",
     "text": [
      "66/66 [==============================] - 2s 24ms/step - loss: 0.7201 - accuracy: 0.4754 - val_loss: 0.6933 - val_accuracy: 0.4989\n",
      "Epoch 2/10\n",
      "66/66 [==============================] - 1s 21ms/step - loss: 0.6925 - accuracy: 0.5337 - val_loss: 0.6931 - val_accuracy: 0.5011\n",
      "Epoch 3/10\n",
      "66/66 [==============================] - 1s 21ms/step - loss: 0.6935 - accuracy: 0.4712 - val_loss: 0.6933 - val_accuracy: 0.4989\n",
      "Epoch 4/10\n",
      "66/66 [==============================] - 1s 21ms/step - loss: 0.6944 - accuracy: 0.4670 - val_loss: 0.6936 - val_accuracy: 0.4989\n",
      "Epoch 5/10\n",
      "66/66 [==============================] - 1s 22ms/step - loss: 0.6937 - accuracy: 0.4989 - val_loss: 0.6934 - val_accuracy: 0.4989\n",
      "Epoch 6/10\n",
      "66/66 [==============================] - 1s 21ms/step - loss: 0.6947 - accuracy: 0.5005 - val_loss: 0.6934 - val_accuracy: 0.4989\n",
      "Epoch 7/10\n",
      "66/66 [==============================] - 1s 21ms/step - loss: 0.6938 - accuracy: 0.4974 - val_loss: 0.6932 - val_accuracy: 0.4989\n",
      "Epoch 8/10\n",
      "66/66 [==============================] - 1s 21ms/step - loss: 0.6931 - accuracy: 0.4817 - val_loss: 0.6932 - val_accuracy: 0.4989\n",
      "Epoch 9/10\n",
      "66/66 [==============================] - 1s 22ms/step - loss: 0.6925 - accuracy: 0.5007 - val_loss: 0.6932 - val_accuracy: 0.4989ss:\n",
      "Epoch 10/10\n",
      "66/66 [==============================] - 1s 21ms/step - loss: 0.6929 - accuracy: 0.4886 - val_loss: 0.6932 - val_accuracy: 0.4989\n",
      "INFO:tensorflow:Assets written to: CNNmut.model\\assets\n",
      "[[128, 3, 0.001, 0.5, 2, 0, 128], [128, 7, 0.0001, 0.4, 5, 1, 128], [128, 7, 0.001, 0.4, 3, 0, 256], [32, 2, 0.0001, 0.5, 5, 0, 512], [256, 5, 0.0005, 0.4, 3, 0, 256], [256, 5, 0.0005, 0.4, 3, 0, 256], [256, 5, 0.0005, 0.4, 5, 1, 256], [128, 7, 0.001, 0.4, 5, 1, 256], [128, 7, 0.001, 0.4, 5, 0, 512], [32, 2, 0.0001, 0.5, 5, 1, 256]]\n",
      "[0.15842904357696858, 0.16889016511963972, 0.17145603582941374, 0.17549445020756776, 0.23905429474607295, 0.23905429474607295, 0.2457399990218172, 0.24755138775069652, 0.46394215437862957, 0.4935652791358515]\n",
      "Generasi Ke  20\n",
      "Parent 1 dan 2  [32, 2, 0.0001, 0.5, 5, 0, 512] [128, 7, 0.001, 0.4, 5, 1, 256]\n",
      "Child 1 dan 2 [32, 2, 0.0001, 0.5, 5, 1, 256] [128, 7, 0.001, 0.4, 5, 0, 512]\n",
      "Mutasi 1 dan 2 [32, 2, 0.0001, 0.5, 5, 1, 256] [128, 7, 0.001, 0.4, 5, 0, 512]\n",
      "Epoch 1/10\n"
     ]
    },
    {
     "name": "stderr",
     "output_type": "stream",
     "text": [
      "D:\\ProgramData\\Anaconda3\\lib\\site-packages\\tensorflow\\python\\client\\session.py:1761: UserWarning: An interactive session is already active. This can cause out-of-memory errors in some cases. You must explicitly call `InteractiveSession.close()` to release resources held by the other session(s).\n",
      "  warnings.warn('An interactive session is already active. This can '\n"
     ]
    },
    {
     "name": "stdout",
     "output_type": "stream",
     "text": [
      "66/66 [==============================] - 2s 24ms/step - loss: 0.7202 - accuracy: 0.4776 - val_loss: 0.6933 - val_accuracy: 0.4989\n",
      "Epoch 2/10\n",
      "66/66 [==============================] - 1s 21ms/step - loss: 0.6925 - accuracy: 0.5331 - val_loss: 0.6931 - val_accuracy: 0.5011\n",
      "Epoch 3/10\n",
      "66/66 [==============================] - 1s 22ms/step - loss: 0.6935 - accuracy: 0.4903 - val_loss: 0.6933 - val_accuracy: 0.4989\n",
      "Epoch 4/10\n",
      "66/66 [==============================] - 1s 22ms/step - loss: 0.6944 - accuracy: 0.4638 - val_loss: 0.6936 - val_accuracy: 0.4989\n",
      "Epoch 5/10\n",
      "66/66 [==============================] - 1s 22ms/step - loss: 0.6936 - accuracy: 0.4973 - val_loss: 0.6933 - val_accuracy: 0.4989\n",
      "Epoch 6/10\n",
      "66/66 [==============================] - 1s 22ms/step - loss: 0.6933 - accuracy: 0.5025 - val_loss: 0.6932 - val_accuracy: 0.4989\n",
      "Epoch 7/10\n",
      "66/66 [==============================] - 1s 22ms/step - loss: 0.6926 - accuracy: 0.5124 - val_loss: 0.6932 - val_accuracy: 0.4989\n",
      "Epoch 8/10\n",
      "66/66 [==============================] - 1s 21ms/step - loss: 0.6924 - accuracy: 0.5107 - val_loss: 0.6933 - val_accuracy: 0.4989\n",
      "Epoch 9/10\n",
      "66/66 [==============================] - 1s 22ms/step - loss: 0.6922 - accuracy: 0.5201 - val_loss: 0.6932 - val_accuracy: 0.4989\n",
      "Epoch 10/10\n",
      "66/66 [==============================] - 1s 22ms/step - loss: 0.6932 - accuracy: 0.4675 - val_loss: 0.6932 - val_accuracy: 0.4989\n",
      "INFO:tensorflow:Assets written to: CNNmut.model\\assets\n",
      "[[128, 3, 0.001, 0.5, 2, 0, 128], [128, 7, 0.0001, 0.4, 5, 1, 128], [128, 7, 0.001, 0.4, 3, 0, 256], [32, 2, 0.0001, 0.5, 5, 0, 512], [256, 5, 0.0005, 0.4, 3, 0, 256], [256, 5, 0.0005, 0.4, 3, 0, 256], [256, 5, 0.0005, 0.4, 5, 1, 256], [128, 7, 0.001, 0.4, 5, 1, 256], [128, 7, 0.001, 0.4, 5, 0, 512], [32, 2, 0.0001, 0.5, 5, 1, 256]]\n",
      "[0.15842904357696858, 0.16889016511963972, 0.17145603582941374, 0.17549445020756776, 0.23905429474607295, 0.23905429474607295, 0.2457399990218172, 0.24755138775069652, 0.24925737157589156, 0.4935652791358515]\n"
     ]
    }
   ],
   "source": [
    "feat,besteverygen = featSelection.fit(Xtrain,ytrain)"
   ]
  },
  {
   "cell_type": "code",
   "execution_count": 6,
   "metadata": {},
   "outputs": [
    {
     "data": {
      "text/plain": [
       "[128, 3, 0.001, 0.5, 2, 0, 128]"
      ]
     },
     "execution_count": 6,
     "metadata": {},
     "output_type": "execute_result"
    }
   ],
   "source": [
    "feat"
   ]
  },
  {
   "cell_type": "code",
   "execution_count": 7,
   "metadata": {},
   "outputs": [
    {
     "data": {
      "text/plain": [
       "['Generasi 0',\n",
       " [128, 3, 0.001, 0.5, 2, 0, 128],\n",
       " 0.15842904357696858,\n",
       " [128, 3, 0.001, 0.5, 2, 0, 128],\n",
       " 0.15842904357696858,\n",
       " [128, 3, 0.001, 0.5, 2, 0, 128],\n",
       " 0.15842904357696858,\n",
       " [128, 3, 0.001, 0.5, 2, 0, 128],\n",
       " 0.15842904357696858,\n",
       " [128, 3, 0.001, 0.5, 2, 0, 128],\n",
       " 0.15842904357696858,\n",
       " [128, 3, 0.001, 0.5, 2, 0, 128],\n",
       " 0.15842904357696858,\n",
       " [128, 3, 0.001, 0.5, 2, 0, 128],\n",
       " 0.15842904357696858,\n",
       " [128, 3, 0.001, 0.5, 2, 0, 128],\n",
       " 0.15842904357696858,\n",
       " [128, 3, 0.001, 0.5, 2, 0, 128],\n",
       " 0.15842904357696858,\n",
       " [128, 3, 0.001, 0.5, 2, 0, 128],\n",
       " 0.15842904357696858,\n",
       " [128, 3, 0.001, 0.5, 2, 0, 128],\n",
       " 0.15842904357696858,\n",
       " [128, 3, 0.001, 0.5, 2, 0, 128],\n",
       " 0.15842904357696858,\n",
       " [128, 3, 0.001, 0.5, 2, 0, 128],\n",
       " 0.15842904357696858,\n",
       " [128, 3, 0.001, 0.5, 2, 0, 128],\n",
       " 0.15842904357696858,\n",
       " [128, 3, 0.001, 0.5, 2, 0, 128],\n",
       " 0.15842904357696858,\n",
       " [128, 3, 0.001, 0.5, 2, 0, 128],\n",
       " 0.15842904357696858,\n",
       " [128, 3, 0.001, 0.5, 2, 0, 128],\n",
       " 0.15842904357696858,\n",
       " [128, 3, 0.001, 0.5, 2, 0, 128],\n",
       " 0.15842904357696858,\n",
       " [128, 3, 0.001, 0.5, 2, 0, 128],\n",
       " 0.15842904357696858,\n",
       " [128, 3, 0.001, 0.5, 2, 0, 128],\n",
       " 0.15842904357696858,\n",
       " [128, 3, 0.001, 0.5, 2, 0, 128],\n",
       " 0.15842904357696858]"
      ]
     },
     "execution_count": 7,
     "metadata": {},
     "output_type": "execute_result"
    }
   ],
   "source": [
    "besteverygen"
   ]
  },
  {
   "cell_type": "markdown",
   "metadata": {},
   "source": [
    "# CNN"
   ]
  },
  {
   "cell_type": "code",
   "execution_count": 8,
   "metadata": {},
   "outputs": [
    {
     "name": "stderr",
     "output_type": "stream",
     "text": [
      "D:\\ProgramData\\Anaconda3\\lib\\site-packages\\tensorflow\\python\\client\\session.py:1761: UserWarning: An interactive session is already active. This can cause out-of-memory errors in some cases. You must explicitly call `InteractiveSession.close()` to release resources held by the other session(s).\n",
      "  warnings.warn('An interactive session is already active. This can '\n"
     ]
    },
    {
     "name": "stdout",
     "output_type": "stream",
     "text": [
      "Epoch 1/10\n",
      "66/66 [==============================] - 1s 15ms/step - loss: 0.7986 - accuracy: 0.4943 - val_loss: 0.6931 - val_accuracy: 0.5011\n",
      "Epoch 2/10\n",
      "66/66 [==============================] - 1s 14ms/step - loss: 0.6931 - accuracy: 0.5079 - val_loss: 0.6918 - val_accuracy: 0.6353\n",
      "Epoch 3/10\n",
      "66/66 [==============================] - 1s 13ms/step - loss: 0.6809 - accuracy: 0.5987 - val_loss: 0.6851 - val_accuracy: 0.5973\n",
      "Epoch 4/10\n",
      "66/66 [==============================] - 1s 14ms/step - loss: 0.6289 - accuracy: 0.6487 - val_loss: 0.5924 - val_accuracy: 0.7025\n",
      "Epoch 5/10\n",
      "66/66 [==============================] - 1s 13ms/step - loss: 0.5254 - accuracy: 0.7630 - val_loss: 0.4713 - val_accuracy: 0.7964\n",
      "Epoch 6/10\n",
      "66/66 [==============================] - 1s 13ms/step - loss: 0.4205 - accuracy: 0.8009 - val_loss: 0.4169 - val_accuracy: 0.8367\n",
      "Epoch 7/10\n",
      "66/66 [==============================] - 1s 14ms/step - loss: 0.3760 - accuracy: 0.8272 - val_loss: 0.4189 - val_accuracy: 0.7987\n",
      "Epoch 8/10\n",
      "66/66 [==============================] - 1s 14ms/step - loss: 0.3316 - accuracy: 0.8730 - val_loss: 0.4110 - val_accuracy: 0.8434\n",
      "Epoch 9/10\n",
      "66/66 [==============================] - 1s 14ms/step - loss: 0.3005 - accuracy: 0.8863 - val_loss: 0.2726 - val_accuracy: 0.9038\n",
      "Epoch 10/10\n",
      "66/66 [==============================] - 1s 14ms/step - loss: 0.1889 - accuracy: 0.9285 - val_loss: 0.2967 - val_accuracy: 0.8949\n",
      "INFO:tensorflow:Assets written to: CNNP2.model\\assets\n"
     ]
    }
   ],
   "source": [
    "            pop = feat\n",
    "            f = pop[0]\n",
    "            k = pop[1]\n",
    "            learning = pop[2]\n",
    "            dropout = pop[3]\n",
    "            layer = pop[4]\n",
    "            pool = pop[5]\n",
    "            node = pop[6]\n",
    "            \n",
    "            model = Sequential()\n",
    "            gpu_options = tf.compat.v1.GPUOptions(per_process_gpu_memory_fraction=0.050)\n",
    "\n",
    "            config = ConfigProto()\n",
    "            config.gpu_options.per_process_gpu_memory_fraction = 0.050\n",
    "            session = InteractiveSession(config=config)\n",
    "\n",
    "            seed(0)\n",
    "            tf.random.set_seed(0)\n",
    "            if (pool == 0) :\n",
    "                model.add(Conv2D(f, (k, k), input_shape=Xtrain.shape[1:]))\n",
    "                model.add(Activation('relu'))\n",
    "                model.add(MaxPooling2D(pool_size=(2, 2)))\n",
    "\n",
    "                for i in range(layer-1):\n",
    "                    model.add(Conv2D(f, (k,k),padding='same'))\n",
    "                    model.add(Activation('relu'))\n",
    "                    model.add(MaxPooling2D(pool_size=(2, 2)))\n",
    "\n",
    "                model.add(Flatten())\n",
    "                \n",
    "                model.add(Dense(node))\n",
    "                model.add(Activation('relu'))\n",
    "                model.add(Dropout(dropout))\n",
    "\n",
    "                model.add(Dense(1))\n",
    "                model.add(Activation('sigmoid'))\n",
    "\n",
    "                model.compile(loss='binary_crossentropy',optimizer=keras.optimizers.Adam(learning_rate=learning),metrics=['accuracy'])\n",
    "            \n",
    "                model1 = model.fit(Xtrain, ytrain ,batch_size=16,epochs=10,validation_split=0.3)\n",
    "                model.save('CNNP2.model')\n",
    "\n",
    "            else :\n",
    "                model.add(Conv2D(f,(k,k), input_shape=Xtrain.shape[1:]))\n",
    "                model.add(Activation('relu'))\n",
    "                model.add(AveragePooling2D(pool_size=(2, 2)))\n",
    "\n",
    "                for i in range(layer-1):\n",
    "                    model.add(Conv2D(f, (k,k),padding='same'))\n",
    "                    model.add(Activation('relu'))\n",
    "                    model.add(AveragePooling2D(pool_size=(2, 2)))\n",
    "\n",
    "                model.add(Flatten())\n",
    "                \n",
    "                model.add(Dense(node))\n",
    "                model.add(Activation('relu'))\n",
    "                model.add(Dropout(dropout))\n",
    "\n",
    "                model.add(Dense(1))\n",
    "                model.add(Activation('sigmoid'))\n",
    "\n",
    "                model.compile(loss='binary_crossentropy',optimizer=keras.optimizers.Adam(learning_rate=learning),metrics=['accuracy'])\n",
    "            \n",
    "                model1 = model.fit(Xtrain, ytrain,batch_size=16,epochs=10,validation_split=0.3)\n",
    "                model.save('CNNP2.model')"
   ]
  },
  {
   "cell_type": "code",
   "execution_count": 9,
   "metadata": {},
   "outputs": [
    {
     "data": {
      "image/png": "[encoded data removed]",
      "text/plain": [
       "<Figure size 1080x720 with 1 Axes>"
      ]
     },
     "metadata": {
      "needs_background": "light"
     },
     "output_type": "display_data"
    }
   ],
   "source": [
    "import matplotlib.pyplot as plt\n",
    "#Loss Visualization for data training and validation\n",
    "\n",
    "plt.figure(figsize=(15,10))\n",
    "plt.plot(model1.history['loss'])\n",
    "plt.plot(model1.history['val_loss'])\n",
    "plt.title('Model Performance')\n",
    "plt.xlabel('Epoch')\n",
    "plt.ylabel('Loss')\n",
    "plt.legend(['Train','Validation'], loc='upper right')\n",
    "plt.show()"
   ]
  },
  {
   "cell_type": "code",
   "execution_count": 10,
   "metadata": {},
   "outputs": [],
   "source": [
    "model = tf.keras.models.load_model(\"CNNP2.model\")"
   ]
  },
  {
   "cell_type": "markdown",
   "metadata": {},
   "source": [
    "# Data Latih"
   ]
  },
  {
   "cell_type": "code",
   "execution_count": 11,
   "metadata": {},
   "outputs": [
    {
     "data": {
      "text/plain": [
       "0.8689516"
      ]
     },
     "execution_count": 11,
     "metadata": {},
     "output_type": "execute_result"
    }
   ],
   "source": [
    "prediction = model.predict(Xtrain2)\n",
    "m = tf.keras.metrics.BinaryAccuracy()\n",
    "m.update_state(ytrain2,prediction, sample_weight=None)\n",
    "m.result().numpy()"
   ]
  },
  {
   "cell_type": "code",
   "execution_count": 12,
   "metadata": {},
   "outputs": [
    {
     "data": {
      "text/plain": [
       "0.82808715"
      ]
     },
     "execution_count": 12,
     "metadata": {},
     "output_type": "execute_result"
    }
   ],
   "source": [
    "m = tf.keras.metrics.Precision()\n",
    "m.update_state(ytrain2,prediction, sample_weight=None)\n",
    "m.result().numpy()"
   ]
  },
  {
   "cell_type": "code",
   "execution_count": 13,
   "metadata": {},
   "outputs": [
    {
     "data": {
      "text/plain": [
       "0.9280868"
      ]
     },
     "execution_count": 13,
     "metadata": {},
     "output_type": "execute_result"
    }
   ],
   "source": [
    "m = tf.keras.metrics.Recall()\n",
    "m.update_state(ytrain2,prediction, sample_weight=None)\n",
    "m.result().numpy()"
   ]
  },
  {
   "cell_type": "code",
   "execution_count": 14,
   "metadata": {},
   "outputs": [
    {
     "data": {
      "text/plain": [
       "53.0"
      ]
     },
     "execution_count": 14,
     "metadata": {},
     "output_type": "execute_result"
    }
   ],
   "source": [
    "m = tf.keras.metrics.FalseNegatives()\n",
    "m.update_state(ytrain2,prediction, sample_weight=None)\n",
    "m.result().numpy()"
   ]
  },
  {
   "cell_type": "code",
   "execution_count": 15,
   "metadata": {},
   "outputs": [
    {
     "data": {
      "text/plain": [
       "142.0"
      ]
     },
     "execution_count": 15,
     "metadata": {},
     "output_type": "execute_result"
    }
   ],
   "source": [
    "m = tf.keras.metrics.FalsePositives()\n",
    "m.update_state(ytrain2,prediction, sample_weight=None)\n",
    "m.result().numpy()"
   ]
  },
  {
   "cell_type": "code",
   "execution_count": 16,
   "metadata": {},
   "outputs": [
    {
     "data": {
      "text/plain": [
       "609.0"
      ]
     },
     "execution_count": 16,
     "metadata": {},
     "output_type": "execute_result"
    }
   ],
   "source": [
    "m = tf.keras.metrics.TrueNegatives()\n",
    "m.update_state(ytrain2,prediction, sample_weight=None)\n",
    "m.result().numpy()"
   ]
  },
  {
   "cell_type": "code",
   "execution_count": 17,
   "metadata": {},
   "outputs": [
    {
     "data": {
      "text/plain": [
       "684.0"
      ]
     },
     "execution_count": 17,
     "metadata": {},
     "output_type": "execute_result"
    }
   ],
   "source": [
    "m = tf.keras.metrics.TruePositives()\n",
    "m.update_state(ytrain2,prediction, sample_weight=None)\n",
    "m.result().numpy()"
   ]
  },
  {
   "cell_type": "markdown",
   "metadata": {},
   "source": [
    "# Data Validasi"
   ]
  },
  {
   "cell_type": "code",
   "execution_count": 18,
   "metadata": {},
   "outputs": [
    {
     "data": {
      "text/plain": [
       "0.71382636"
      ]
     },
     "execution_count": 18,
     "metadata": {},
     "output_type": "execute_result"
    }
   ],
   "source": [
    "prediction = model.predict(Xval)\n",
    "m = tf.keras.metrics.BinaryAccuracy()\n",
    "m.update_state(yval,prediction, sample_weight=None)\n",
    "m.result().numpy()"
   ]
  },
  {
   "cell_type": "code",
   "execution_count": 19,
   "metadata": {},
   "outputs": [
    {
     "data": {
      "text/plain": [
       "0.6666667"
      ]
     },
     "execution_count": 19,
     "metadata": {},
     "output_type": "execute_result"
    }
   ],
   "source": [
    "m = tf.keras.metrics.Precision()\n",
    "m.update_state(yval,prediction, sample_weight=None)\n",
    "m.result().numpy()"
   ]
  },
  {
   "cell_type": "code",
   "execution_count": 20,
   "metadata": {},
   "outputs": [
    {
     "data": {
      "text/plain": [
       "0.84415585"
      ]
     },
     "execution_count": 20,
     "metadata": {},
     "output_type": "execute_result"
    }
   ],
   "source": [
    "m = tf.keras.metrics.Recall()\n",
    "m.update_state(yval,prediction, sample_weight=None)\n",
    "m.result().numpy()"
   ]
  },
  {
   "cell_type": "code",
   "execution_count": 21,
   "metadata": {},
   "outputs": [
    {
     "data": {
      "text/plain": [
       "48.0"
      ]
     },
     "execution_count": 21,
     "metadata": {},
     "output_type": "execute_result"
    }
   ],
   "source": [
    "m = tf.keras.metrics.FalseNegatives()\n",
    "m.update_state(yval,prediction, sample_weight=None)\n",
    "m.result().numpy()"
   ]
  },
  {
   "cell_type": "code",
   "execution_count": 22,
   "metadata": {},
   "outputs": [
    {
     "data": {
      "text/plain": [
       "130.0"
      ]
     },
     "execution_count": 22,
     "metadata": {},
     "output_type": "execute_result"
    }
   ],
   "source": [
    "m = tf.keras.metrics.FalsePositives()\n",
    "m.update_state(yval,prediction, sample_weight=None)\n",
    "m.result().numpy()"
   ]
  },
  {
   "cell_type": "code",
   "execution_count": 23,
   "metadata": {},
   "outputs": [
    {
     "data": {
      "text/plain": [
       "184.0"
      ]
     },
     "execution_count": 23,
     "metadata": {},
     "output_type": "execute_result"
    }
   ],
   "source": [
    "m = tf.keras.metrics.TrueNegatives()\n",
    "m.update_state(yval,prediction, sample_weight=None)\n",
    "m.result().numpy()"
   ]
  },
  {
   "cell_type": "code",
   "execution_count": 24,
   "metadata": {},
   "outputs": [
    {
     "data": {
      "text/plain": [
       "260.0"
      ]
     },
     "execution_count": 24,
     "metadata": {},
     "output_type": "execute_result"
    }
   ],
   "source": [
    "m = tf.keras.metrics.TruePositives()\n",
    "m.update_state(yval,prediction, sample_weight=None)\n",
    "m.result().numpy()"
   ]
  },
  {
   "cell_type": "markdown",
   "metadata": {},
   "source": [
    "# Data Uji"
   ]
  },
  {
   "cell_type": "code",
   "execution_count": 25,
   "metadata": {},
   "outputs": [
    {
     "data": {
      "text/plain": [
       "0.5579515"
      ]
     },
     "execution_count": 25,
     "metadata": {},
     "output_type": "execute_result"
    }
   ],
   "source": [
    "prediction = model.predict(Xtest)\n",
    "m = tf.keras.metrics.BinaryAccuracy()\n",
    "m.update_state(ytest,prediction, sample_weight=None)\n",
    "m.result().numpy()"
   ]
  },
  {
   "cell_type": "code",
   "execution_count": 26,
   "metadata": {},
   "outputs": [
    {
     "data": {
      "text/plain": [
       "0.53496504"
      ]
     },
     "execution_count": 26,
     "metadata": {},
     "output_type": "execute_result"
    }
   ],
   "source": [
    "m = tf.keras.metrics.Precision()\n",
    "m.update_state(ytest,prediction, sample_weight=None)\n",
    "m.result().numpy()"
   ]
  },
  {
   "cell_type": "code",
   "execution_count": 27,
   "metadata": {},
   "outputs": [
    {
     "data": {
      "text/plain": [
       "0.83152175"
      ]
     },
     "execution_count": 27,
     "metadata": {},
     "output_type": "execute_result"
    }
   ],
   "source": [
    "m = tf.keras.metrics.Recall()\n",
    "m.update_state(ytest,prediction, sample_weight=None)\n",
    "m.result().numpy()"
   ]
  },
  {
   "cell_type": "code",
   "execution_count": 28,
   "metadata": {},
   "outputs": [
    {
     "data": {
      "text/plain": [
       "31.0"
      ]
     },
     "execution_count": 28,
     "metadata": {},
     "output_type": "execute_result"
    }
   ],
   "source": [
    "m = tf.keras.metrics.FalseNegatives()\n",
    "m.update_state(ytest,prediction, sample_weight=None)\n",
    "m.result().numpy()"
   ]
  },
  {
   "cell_type": "code",
   "execution_count": 29,
   "metadata": {},
   "outputs": [
    {
     "data": {
      "text/plain": [
       "133.0"
      ]
     },
     "execution_count": 29,
     "metadata": {},
     "output_type": "execute_result"
    }
   ],
   "source": [
    "m = tf.keras.metrics.FalsePositives()\n",
    "m.update_state(ytest,prediction, sample_weight=None)\n",
    "m.result().numpy()"
   ]
  },
  {
   "cell_type": "code",
   "execution_count": 30,
   "metadata": {},
   "outputs": [
    {
     "data": {
      "text/plain": [
       "54.0"
      ]
     },
     "execution_count": 30,
     "metadata": {},
     "output_type": "execute_result"
    }
   ],
   "source": [
    "m = tf.keras.metrics.TrueNegatives()\n",
    "m.update_state(ytest,prediction, sample_weight=None)\n",
    "m.result().numpy()"
   ]
  },
  {
   "cell_type": "code",
   "execution_count": 31,
   "metadata": {},
   "outputs": [
    {
     "data": {
      "text/plain": [
       "153.0"
      ]
     },
     "execution_count": 31,
     "metadata": {},
     "output_type": "execute_result"
    }
   ],
   "source": [
    "m = tf.keras.metrics.TruePositives()\n",
    "m.update_state(ytest,prediction, sample_weight=None)\n",
    "m.result().numpy()"
   ]
  },
  {
   "cell_type": "code",
   "execution_count": null,
   "metadata": {},
   "outputs": [],
   "source": []
  }
 ],
 "metadata": {
  "kernelspec": {
   "display_name": "Python 3",
   "language": "python",
   "name": "python3"
  },
  "language_info": {
   "codemirror_mode": {
    "name": "ipython",
    "version": 3
   },
   "file_extension": ".py",
   "mimetype": "text/x-python",
   "name": "python",
   "nbconvert_exporter": "python",
   "pygments_lexer": "ipython3",
   "version": "3.8.5"
  }
 },
 "nbformat": 4,
 "nbformat_minor": 4
}
