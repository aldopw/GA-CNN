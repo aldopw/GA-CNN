{
 "cells": [
  {
   "cell_type": "code",
   "execution_count": 1,
   "metadata": {},
   "outputs": [],
   "source": [
    "from sklearn.metrics import mean_squared_error\n",
    "import tensorflow as tf\n",
    "from tensorflow.keras.preprocessing.image import ImageDataGenerator\n",
    "from tensorflow.keras.models import Sequential\n",
    "from tensorflow.keras.layers import Dense, Dropout, Activation, Flatten\n",
    "from tensorflow.keras.layers import Conv2D, MaxPooling2D,AveragePooling2D\n",
    "import numpy as np\n",
    "import pickle\n",
    "import random\n",
    "from numpy.random import seed\n",
    "import time\n",
    "from tensorflow.keras.callbacks import TensorBoard\n",
    "from tensorflow.keras.callbacks import EarlyStopping\n",
    "from tensorflow import keras\n",
    "from tensorflow.compat.v1 import ConfigProto\n",
    "from tensorflow.compat.v1 import InteractiveSession\n",
    "import pandas as pd\n",
    "from secrets import randbelow"
   ]
  },
  {
   "cell_type": "code",
   "execution_count": 2,
   "metadata": {},
   "outputs": [],
   "source": [
    "pickle_in = open(\"Xtrain96.pickle\",\"rb\")\n",
    "Xtrain = pickle.load(pickle_in)\n",
    "\n",
    "pickle_in = open(\"ytrain96.pickle\",\"rb\")\n",
    "ytrain = pickle.load(pickle_in)\n",
    "\n",
    "Xtrain=np.array(Xtrain/255.0)\n",
    "ytrain=np.array(ytrain)\n",
    "\n",
    "pickle_in = open(\"Xval96.pickle\",\"rb\")\n",
    "Xval = pickle.load(pickle_in)\n",
    "\n",
    "pickle_in = open(\"yval96.pickle\",\"rb\")\n",
    "yval = pickle.load(pickle_in)\n",
    "\n",
    "pickle_in = open(\"XTest96.pickle\",\"rb\")\n",
    "Xtest = pickle.load(pickle_in)\n",
    "\n",
    "pickle_in = open(\"ytest96.pickle\",\"rb\")\n",
    "ytest = pickle.load(pickle_in)\n",
    "\n",
    "pickle_in = open(\"Xtrain96.pickle\",\"rb\")\n",
    "Xtrain2 = pickle.load(pickle_in)\n",
    "\n",
    "pickle_in = open(\"ytrain96.pickle\",\"rb\")\n",
    "ytrain2 = pickle.load(pickle_in)"
   ]
  },
  {
   "cell_type": "markdown",
   "metadata": {},
   "source": [
    "# Genetic Algorithm"
   ]
  },
  {
   "cell_type": "code",
   "execution_count": 3,
   "metadata": {},
   "outputs": [],
   "source": [
    "class GA():\n",
    "    def __init__(self,popsize, iter_):\n",
    "        self.popsize = popsize\n",
    "        self.iter_ = iter_\n",
    "        \n",
    "    def popinit(self):\n",
    "        population = [] \n",
    "        random.seed(0)\n",
    "        fmap = [32,64,128,256] \n",
    "        kernel = [2,3,5,7]\n",
    "        learningRate = [0.0001,0.0005, 0.001, 0.005] \n",
    "        dropout = [0.0,0.1,0.2,0.3,0.4,0.5]\n",
    "        layer = [2,3,4,5,6]\n",
    "        pool =[0,1]\n",
    "        node = [64,128,256,512]\n",
    "        for i in range(self.popsize):\n",
    "            inPop = [random.choice(fmap),random.choice(kernel),random.choice(learningRate),random.choice(dropout),random.choice(layer),random.choice(pool),random.choice(node)]\n",
    "            population.append(inPop)\n",
    "        return population\n",
    "\n",
    "        \n",
    "    def fitness(self,population,X,y):\n",
    "        savefit=[]\n",
    "        for i in range(len(population)):\n",
    "            pop = population[i]\n",
    "            f = pop[0]\n",
    "            k = pop[1]\n",
    "            learning = pop[2]\n",
    "            dropout = pop[3]\n",
    "            layer = pop[4]\n",
    "            pool = pop[5]\n",
    "            node = pop[6]\n",
    "            \n",
    "            model = Sequential()\n",
    "            gpu_options = tf.compat.v1.GPUOptions(per_process_gpu_memory_fraction=0.050)\n",
    "\n",
    "            config = ConfigProto()\n",
    "            config.gpu_options.per_process_gpu_memory_fraction = 0.050\n",
    "            session = InteractiveSession(config=config)\n",
    "\n",
    "            seed(0)\n",
    "            tf.random.set_seed(0)\n",
    "            if (pool == 0) :\n",
    "                model.add(Conv2D(f, (k, k), input_shape=X.shape[1:]))\n",
    "                model.add(Activation('relu'))\n",
    "                model.add(MaxPooling2D(pool_size=(2, 2)))\n",
    "\n",
    "                for i in range(layer-1):\n",
    "                    model.add(Conv2D(f, (k,k),padding='same'))\n",
    "                    model.add(Activation('relu'))\n",
    "                    model.add(MaxPooling2D(pool_size=(2, 2)))\n",
    "\n",
    "                model.add(Flatten())\n",
    "                \n",
    "                model.add(Dense(node))\n",
    "                model.add(Activation('relu'))\n",
    "                model.add(Dropout(dropout))\n",
    "\n",
    "                model.add(Dense(1))\n",
    "                model.add(Activation('sigmoid'))\n",
    "\n",
    "                model.compile(loss='binary_crossentropy',optimizer=keras.optimizers.Adam(learning_rate=learning),metrics=['accuracy'])\n",
    "            \n",
    "                model.fit(X, y,batch_size=16,epochs=10,validation_split=0.3)\n",
    "                model.save('CNN.model')\n",
    "                modelcnn = tf.keras.models.load_model(\"CNN.model\")\n",
    "\n",
    "                prediction = modelcnn.predict(Xval)\n",
    "                mse = mean_squared_error(yval,prediction)\n",
    "                savefit.append(mse)\n",
    "\n",
    "            else :\n",
    "                model.add(Conv2D(f,(k,k), input_shape=X.shape[1:]))\n",
    "                model.add(Activation('relu'))\n",
    "                model.add(AveragePooling2D(pool_size=(2, 2)))\n",
    "\n",
    "                for i in range(layer-1):\n",
    "                    model.add(Conv2D(f, (k,k),padding='same'))\n",
    "                    model.add(Activation('relu'))\n",
    "                    model.add(AveragePooling2D(pool_size=(2, 2)))\n",
    "\n",
    "                model.add(Flatten())\n",
    "                \n",
    "                model.add(Dense(node))\n",
    "                model.add(Activation('relu'))\n",
    "                model.add(Dropout(dropout))\n",
    "\n",
    "                model.add(Dense(1))\n",
    "                model.add(Activation('sigmoid'))\n",
    "\n",
    "                model.compile(loss='binary_crossentropy',optimizer=keras.optimizers.Adam(learning_rate=learning),metrics=['accuracy'])\n",
    "            \n",
    "                model.fit(X, y,batch_size=16,epochs=10,validation_split=0.3)\n",
    "                model.save('CNN.model')\n",
    "                modelcnn = tf.keras.models.load_model(\"CNN.model\")\n",
    "        \n",
    "                prediction = modelcnn.predict(Xval)\n",
    "                mse = mean_squared_error(yval,prediction)\n",
    "                savefit.append(mse)\n",
    "\n",
    "        return savefit\n",
    "    \n",
    "    def fitmutation(self,mut,X,y):\n",
    "            pop = mut\n",
    "            f = pop[0]\n",
    "            k = pop[1]\n",
    "            learning = pop[2]\n",
    "            dropout = pop[3]\n",
    "            layer = pop[4]\n",
    "            pool = pop[5]\n",
    "            node = pop[6]\n",
    "            \n",
    "            model = Sequential()\n",
    "            gpu_options = tf.compat.v1.GPUOptions(per_process_gpu_memory_fraction=0.050)\n",
    "\n",
    "            config = ConfigProto()\n",
    "            config.gpu_options.per_process_gpu_memory_fraction = 0.050\n",
    "            session = InteractiveSession(config=config)\n",
    "\n",
    "            seed(0)\n",
    "            tf.random.set_seed(0)\n",
    "            if (pool == 0) :\n",
    "                model.add(Conv2D(f, (k, k), input_shape=X.shape[1:]))\n",
    "                model.add(Activation('relu'))\n",
    "                model.add(MaxPooling2D(pool_size=(2, 2)))\n",
    "\n",
    "                for i in range(layer-1):\n",
    "                    model.add(Conv2D(f, (k,k),padding='same'))\n",
    "                    model.add(Activation('relu'))\n",
    "                    model.add(MaxPooling2D(pool_size=(2, 2)))\n",
    "\n",
    "                model.add(Flatten())\n",
    "                \n",
    "                model.add(Dense(node))\n",
    "                model.add(Activation('relu'))\n",
    "                model.add(Dropout(dropout))\n",
    "\n",
    "                model.add(Dense(1))\n",
    "                model.add(Activation('sigmoid'))\n",
    "\n",
    "                model.compile(loss='binary_crossentropy',optimizer=keras.optimizers.Adam(learning_rate=learning),metrics=['accuracy'])\n",
    "            \n",
    "                model.fit(X, y,batch_size=16,epochs=10,validation_split=0.3)\n",
    "                model.save('CNNmut.model')\n",
    "                modelcnn = tf.keras.models.load_model(\"CNNmut.model\")\n",
    "\n",
    "                prediction = modelcnn.predict(Xval)\n",
    "                mse = mean_squared_error(yval,prediction)\n",
    "                fitmut = mse\n",
    "\n",
    "            else :\n",
    "                model.add(Conv2D(f,(k,k), input_shape=X.shape[1:]))\n",
    "                model.add(Activation('relu'))\n",
    "                model.add(AveragePooling2D(pool_size=(2, 2)))\n",
    "\n",
    "                for i in range(layer-1):\n",
    "                    model.add(Conv2D(f, (k,k),padding='same'))\n",
    "                    model.add(Activation('relu'))\n",
    "                    model.add(AveragePooling2D(pool_size=(2, 2)))\n",
    "\n",
    "                model.add(Flatten())\n",
    "                \n",
    "                model.add(Dense(node))\n",
    "                model.add(Activation('relu'))\n",
    "                model.add(Dropout(dropout))\n",
    "\n",
    "                model.add(Dense(1))\n",
    "                model.add(Activation('sigmoid'))\n",
    "\n",
    "                model.compile(loss='binary_crossentropy',optimizer=keras.optimizers.Adam(learning_rate=learning),metrics=['accuracy'])\n",
    "            \n",
    "                model.fit(X, y,batch_size=16,epochs=10,validation_split=0.3)\n",
    "                model.save('CNNmut.model')\n",
    "                modelcnn = tf.keras.models.load_model(\"CNNmut.model\")\n",
    "        \n",
    "                prediction = modelcnn.predict(Xval)\n",
    "                mse = mean_squared_error(yval,prediction)\n",
    "                fitmut = mse\n",
    "            return fitmut\n",
    "        \n",
    "    \n",
    "    def parent_select(self,population, fitness):\n",
    "        sumfit = np.sum(fitness)\n",
    "        prob=[]\n",
    "        parent_1=[]\n",
    "        random.seed(0)\n",
    "        for i in range(len(fitness)):\n",
    "            tmp = fitness[i]/sumfit\n",
    "            prob.append(tmp)\n",
    "        prob_range = []\n",
    "        sum_ = 0\n",
    "        for i in range(len(prob)):\n",
    "                sum_ += prob[i]\n",
    "                prob_range.append(sum_)\n",
    "        for i in range(len(prob)):\n",
    "                rand = random.random()\n",
    "                if rand <= prob_range[i]:\n",
    "                    parent_1 = population[i]\n",
    "                    break\n",
    "        # select second parent\n",
    "        parent_2 = parent_1\n",
    "        while (parent_2 == parent_1):\n",
    "                for i in range(len(prob)):\n",
    "                    rand = random.random()\n",
    "                    if rand <= prob_range[i]:\n",
    "                        parent_2 = population[i]\n",
    "                        break\n",
    "        return parent_1, parent_2\n",
    "    \n",
    "    def cross_over(self,parent1, parent2):\n",
    "        random.seed(0)\n",
    "        crosspoint = random.randrange(0,6)\n",
    "        child1 = parent1[:crosspoint+1] + parent2[crosspoint+1:]\n",
    "        child2 = parent2[:crosspoint+1] + parent1[crosspoint+1:] \n",
    "        return child1, child2\n",
    "    \n",
    "    def mutation(self,child1, child2):\n",
    "        import copy\n",
    "        random.seed(0)\n",
    "        tmp1 = copy.deepcopy(child1)\n",
    "        tmp2 = copy.deepcopy(child2)\n",
    "        fmap = [32,64,128,256] \n",
    "        kernel = [2,3,5,7]\n",
    "        learningRate = [0.0001,0.0005, 0.001, 0.005] \n",
    "        dropout = [0.0,0.1,0.2,0.3,0.4,0.5]\n",
    "        layer = [2,3,4,5,6]\n",
    "        pool =[0,1]\n",
    "        node = [64,128,256,512]\n",
    "        for i in range(len(tmp1)):    \n",
    "            if (i == 0) :\n",
    "                prob = random.random()\n",
    "                if (prob<=0.01) :\n",
    "                    tmp1[point] = random.choice(fmap)\n",
    "                    tmp2[point] = random.choice(fmap)\n",
    "            elif (i ==1):\n",
    "                prob = random.random()\n",
    "                if (prob<=0.01) :\n",
    "                    tmp1[point] = random.choice(kernel)\n",
    "                    tmp2[point] = random.choice(kernel)\n",
    "            elif (i == 2) :\n",
    "                prob = random.random()\n",
    "                if (prob<=0.01) :\n",
    "                    tmp1[point] = random.choice(learningRate)\n",
    "                    tmp2[point] = random.choice(learningRate)\n",
    "            elif (i == 3) :\n",
    "                prob = random.random()\n",
    "                if (prob<=0.01) :\n",
    "                    tmp1[point] = random.choice(dropout)\n",
    "                    tmp2[point] = random.choice(dropout)\n",
    "            elif (i == 4) :\n",
    "                prob = random.random()\n",
    "                if (prob<=0.01) :\n",
    "                    tmp1[point] = random.choice(layer)\n",
    "                    tmp2[point] = random.choice(layer)\n",
    "            elif (i == 5) :\n",
    "                prob = random.random()\n",
    "                if (prob<=0.01) :\n",
    "                    tmp1[point] = random.choice(pool)\n",
    "                    tmp2[point] = random.choice(pool)\n",
    "            else :\n",
    "                prob = random.random()\n",
    "                if (prob<=0.01) :\n",
    "                    tmp1[point] = random.choice(node)\n",
    "                    tmp2[point] = random.choice(node)\n",
    "        return tmp1, tmp2\n",
    "       \n",
    "    def sort(self, population, fitness):\n",
    "        tmp_dict = {'population' : population,'fitness': fitness }\n",
    "        df = pd.DataFrame(tmp_dict)\n",
    "        df.sort_values('fitness', ascending=True, inplace=True)\n",
    "        new_pop = df['population'].values.tolist()\n",
    "        fit = df['fitness'].values.tolist()\n",
    "        return new_pop, fit\n",
    "    \n",
    "    def newfit(self,mut1,mut2,listindividu,X,y) :\n",
    "        tmpmut=[]\n",
    "        tmpfit1=0.0\n",
    "        tmpfit2=0.0\n",
    "        tmpmut.append(mut1)\n",
    "        tmpmut.append(mut2)\n",
    "        for i in listindividu:\n",
    "            if i[0] == mut1 :\n",
    "                tmpfit1  = (i[1])\n",
    "            if i[0] == mut2 :\n",
    "                tmpfit2 = (i[1])\n",
    "        if (tmpfit1)==0.0 and (tmpfit2)==0.0 :\n",
    "            fitness = self.fitness(tmpmut,X,y)\n",
    "            fit1 = fitness[0]\n",
    "            fit2 = fitness[1]\n",
    "        elif (tmpfit1)==0.0 :\n",
    "            fit1 = self.fitmutation(mut1,X,y)\n",
    "            fit2 = tmpfit2\n",
    "        else :\n",
    "            fit1= tmpfit1\n",
    "            fit2 = self.fitmutation(mut2,X,y)\n",
    "        return fit1,fit2\n",
    "                        \n",
    "    \n",
    "    def fit(self,X,y):\n",
    "        pop = self.popinit()\n",
    "        fitness = self.fitness(pop,X,y)\n",
    "        listindividu =[]\n",
    "        for i in range(len(pop)):\n",
    "            a = pop[i]\n",
    "            b = fitness[i]\n",
    "            temp=[a,b]\n",
    "            listindividu.append(temp)\n",
    "        print(pop)\n",
    "        print(fitness)\n",
    "        bestingen =[]\n",
    "        index = np.argmin(fitness)\n",
    "        popgen = pop[index]\n",
    "        fitgen = fitness[index]\n",
    "        bestingen.append('Generasi 0')\n",
    "        bestingen.append(popgen)\n",
    "        bestingen.append(fitgen)\n",
    "        for i in range(self.iter_):\n",
    "            print( 'Generasi Ke ' , i+1 )\n",
    "            parent_1, parent_2 = self.parent_select(pop, fitness)\n",
    "            print('Parent 1 dan 2 ', parent_1, parent_2)\n",
    "            child_1, child_2 = self.cross_over(parent_1, parent_2)\n",
    "            print('Child 1 dan 2', child_1, child_2 )\n",
    "            mut1, mut2 = self.mutation(child_1, child_2)\n",
    "            print('Mutasi 1 dan 2', mut1, mut2)\n",
    "            pop, fitness = self.sort(pop,fitness)\n",
    "            fitmut1,fitmut2 = self.newfit(mut1,mut2,listindividu,X,y)\n",
    "            pop[-1] = mut1; pop[-2] = mut2\n",
    "            fitness[-1] = fitmut1 ; fitness[-2] = fitmut2\n",
    "            mutt=[]\n",
    "            mutt.append(mut1)\n",
    "            mutt.append(mut2)\n",
    "            fitmut=[]\n",
    "            fitmut.append(fitmut1)\n",
    "            fitmut.append(fitmut2)\n",
    "            update=[]\n",
    "            for i in range(len(mutt)) :\n",
    "                a = mutt[i]\n",
    "                b = fitmut[i]\n",
    "                temp=[a,b]\n",
    "                update.append(temp)\n",
    "            listindividu.extend(update)\n",
    "            print(pop)\n",
    "            print(fitness)\n",
    "            index = np.argmin(fitness)\n",
    "            popgen = pop[index]\n",
    "            fitgen = fitness[index]\n",
    "            bestingen.append(popgen)\n",
    "            bestingen.append(fitgen)\n",
    "        idx_ = np.argmin(fitness)\n",
    "        best_pop = pop[idx_]\n",
    "        return  best_pop,bestingen"
   ]
  },
  {
   "cell_type": "code",
   "execution_count": 4,
   "metadata": {},
   "outputs": [],
   "source": [
    "featSelection = GA( popsize=10, iter_=20)"
   ]
  },
  {
   "cell_type": "code",
   "execution_count": 5,
   "metadata": {},
   "outputs": [
    {
     "name": "stdout",
     "output_type": "stream",
     "text": [
      "Epoch 1/10\n",
      "66/66 [==============================] - 284s 121ms/step - loss: 0.6934 - accuracy: 0.4920 - val_loss: 0.6929 - val_accuracy: 0.4989\n",
      "Epoch 2/10\n",
      "66/66 [==============================] - 4s 57ms/step - loss: 0.6916 - accuracy: 0.5329 - val_loss: 0.6931 - val_accuracy: 0.4989\n",
      "Epoch 3/10\n",
      "66/66 [==============================] - 4s 57ms/step - loss: 0.6931 - accuracy: 0.4876 - val_loss: 0.6929 - val_accuracy: 0.4989\n",
      "Epoch 4/10\n",
      "66/66 [==============================] - 4s 57ms/step - loss: 0.6934 - accuracy: 0.4739 - val_loss: 0.6912 - val_accuracy: 0.4989\n",
      "Epoch 5/10\n",
      "66/66 [==============================] - 4s 57ms/step - loss: 0.6924 - accuracy: 0.5168 - val_loss: 0.6896 - val_accuracy: 0.4989\n",
      "Epoch 6/10\n",
      "66/66 [==============================] - 4s 59ms/step - loss: 0.6876 - accuracy: 0.5463 - val_loss: 0.6860 - val_accuracy: 0.5123\n",
      "Epoch 7/10\n",
      "66/66 [==============================] - 4s 60ms/step - loss: 0.6932 - accuracy: 0.4967 - val_loss: 0.6962 - val_accuracy: 0.5190\n",
      "Epoch 8/10\n",
      "66/66 [==============================] - 4s 58ms/step - loss: 0.7140 - accuracy: 0.5488 - val_loss: 0.6905 - val_accuracy: 0.5078\n",
      "Epoch 9/10\n",
      "66/66 [==============================] - 4s 58ms/step - loss: 0.6727 - accuracy: 0.5744 - val_loss: 0.6583 - val_accuracy: 0.5705\n",
      "Epoch 10/10\n",
      "66/66 [==============================] - 4s 57ms/step - loss: 0.6466 - accuracy: 0.6147 - val_loss: 0.6094 - val_accuracy: 0.7025\n",
      "INFO:tensorflow:Assets written to: CNN.model\\assets\n"
     ]
    },
    {
     "name": "stderr",
     "output_type": "stream",
     "text": [
      "D:\\ProgramData\\Anaconda3\\lib\\site-packages\\tensorflow\\python\\client\\session.py:1761: UserWarning: An interactive session is already active. This can cause out-of-memory errors in some cases. You must explicitly call `InteractiveSession.close()` to release resources held by the other session(s).\n",
      "  warnings.warn('An interactive session is already active. This can '\n"
     ]
    },
    {
     "name": "stdout",
     "output_type": "stream",
     "text": [
      "Epoch 1/10\n",
      "66/66 [==============================] - 4s 43ms/step - loss: 0.7709 - accuracy: 0.5309 - val_loss: 0.6924 - val_accuracy: 0.4989\n",
      "Epoch 2/10\n",
      "66/66 [==============================] - 1s 17ms/step - loss: 0.6937 - accuracy: 0.5223 - val_loss: 0.6930 - val_accuracy: 0.4989\n",
      "Epoch 3/10\n",
      "66/66 [==============================] - 1s 17ms/step - loss: 0.6938 - accuracy: 0.4937 - val_loss: 0.6976 - val_accuracy: 0.4989\n",
      "Epoch 4/10\n",
      "66/66 [==============================] - 1s 18ms/step - loss: 0.7001 - accuracy: 0.4983 - val_loss: 0.6934 - val_accuracy: 0.4989\n",
      "Epoch 5/10\n",
      "66/66 [==============================] - 1s 17ms/step - loss: 0.6929 - accuracy: 0.5243 - val_loss: 0.6929 - val_accuracy: 0.4989\n",
      "Epoch 6/10\n",
      "66/66 [==============================] - 1s 17ms/step - loss: 0.6932 - accuracy: 0.5029 - val_loss: 0.6932 - val_accuracy: 0.4989\n",
      "Epoch 7/10\n",
      "66/66 [==============================] - 1s 17ms/step - loss: 0.6940 - accuracy: 0.5159 - val_loss: 0.6932 - val_accuracy: 0.4989\n",
      "Epoch 8/10\n",
      "66/66 [==============================] - 1s 17ms/step - loss: 0.6933 - accuracy: 0.5193 - val_loss: 0.6931 - val_accuracy: 0.4989\n",
      "Epoch 9/10\n",
      "66/66 [==============================] - 1s 17ms/step - loss: 0.6932 - accuracy: 0.5289 - val_loss: 0.6931 - val_accuracy: 0.5011\n",
      "Epoch 10/10\n",
      "66/66 [==============================] - 1s 18ms/step - loss: 0.6939 - accuracy: 0.4794 - val_loss: 0.6931 - val_accuracy: 0.5011\n",
      "INFO:tensorflow:Assets written to: CNN.model\\assets\n"
     ]
    },
    {
     "name": "stderr",
     "output_type": "stream",
     "text": [
      "D:\\ProgramData\\Anaconda3\\lib\\site-packages\\tensorflow\\python\\client\\session.py:1761: UserWarning: An interactive session is already active. This can cause out-of-memory errors in some cases. You must explicitly call `InteractiveSession.close()` to release resources held by the other session(s).\n",
      "  warnings.warn('An interactive session is already active. This can '\n"
     ]
    },
    {
     "name": "stdout",
     "output_type": "stream",
     "text": [
      "Epoch 1/10\n",
      "66/66 [==============================] - 6s 52ms/step - loss: 0.6945 - accuracy: 0.5072 - val_loss: 0.6936 - val_accuracy: 0.4989\n",
      "Epoch 2/10\n",
      "66/66 [==============================] - 0s 8ms/step - loss: 0.6922 - accuracy: 0.5346 - val_loss: 0.6928 - val_accuracy: 0.5011\n",
      "Epoch 3/10\n",
      "66/66 [==============================] - 0s 7ms/step - loss: 0.6925 - accuracy: 0.5213 - val_loss: 0.6918 - val_accuracy: 0.4989\n",
      "Epoch 4/10\n",
      "66/66 [==============================] - 0s 7ms/step - loss: 0.6683 - accuracy: 0.5677 - val_loss: 0.5895 - val_accuracy: 0.6846\n",
      "Epoch 5/10\n",
      "66/66 [==============================] - 0s 7ms/step - loss: 0.5644 - accuracy: 0.6987 - val_loss: 0.4190 - val_accuracy: 0.8121\n",
      "Epoch 6/10\n",
      "66/66 [==============================] - 0s 7ms/step - loss: 0.3979 - accuracy: 0.8429 - val_loss: 0.2560 - val_accuracy: 0.9038\n",
      "Epoch 7/10\n",
      "66/66 [==============================] - 0s 8ms/step - loss: 0.3367 - accuracy: 0.8794 - val_loss: 0.2018 - val_accuracy: 0.9217\n",
      "Epoch 8/10\n",
      "66/66 [==============================] - 0s 7ms/step - loss: 0.2427 - accuracy: 0.9129 - val_loss: 0.2000 - val_accuracy: 0.9150\n",
      "Epoch 9/10\n",
      "66/66 [==============================] - 0s 8ms/step - loss: 0.2268 - accuracy: 0.9169 - val_loss: 0.2341 - val_accuracy: 0.8993\n",
      "Epoch 10/10\n",
      "66/66 [==============================] - 1s 8ms/step - loss: 0.1760 - accuracy: 0.9418 - val_loss: 0.1921 - val_accuracy: 0.9217\n",
      "INFO:tensorflow:Assets written to: CNN.model\\assets\n"
     ]
    },
    {
     "name": "stderr",
     "output_type": "stream",
     "text": [
      "D:\\ProgramData\\Anaconda3\\lib\\site-packages\\tensorflow\\python\\client\\session.py:1761: UserWarning: An interactive session is already active. This can cause out-of-memory errors in some cases. You must explicitly call `InteractiveSession.close()` to release resources held by the other session(s).\n",
      "  warnings.warn('An interactive session is already active. This can '\n"
     ]
    },
    {
     "name": "stdout",
     "output_type": "stream",
     "text": [
      "Epoch 1/10\n",
      "66/66 [==============================] - 6s 51ms/step - loss: 0.6938 - accuracy: 0.5105 - val_loss: 0.6930 - val_accuracy: 0.4989\n",
      "Epoch 2/10\n",
      "66/66 [==============================] - 0s 6ms/step - loss: 0.6914 - accuracy: 0.5405 - val_loss: 0.6813 - val_accuracy: 0.6152\n",
      "Epoch 3/10\n",
      "66/66 [==============================] - 0s 6ms/step - loss: 0.6751 - accuracy: 0.6015 - val_loss: 0.6583 - val_accuracy: 0.5503\n",
      "Epoch 4/10\n",
      "66/66 [==============================] - 0s 6ms/step - loss: 0.6153 - accuracy: 0.6622 - val_loss: 0.5835 - val_accuracy: 0.6868\n",
      "Epoch 5/10\n",
      "66/66 [==============================] - 0s 6ms/step - loss: 0.5725 - accuracy: 0.7100 - val_loss: 0.5188 - val_accuracy: 0.7315\n",
      "Epoch 6/10\n",
      "66/66 [==============================] - 0s 6ms/step - loss: 0.4715 - accuracy: 0.7806 - val_loss: 0.4022 - val_accuracy: 0.8121\n",
      "Epoch 7/10\n",
      "66/66 [==============================] - 0s 6ms/step - loss: 0.3671 - accuracy: 0.8588 - val_loss: 0.3033 - val_accuracy: 0.8904\n",
      "Epoch 8/10\n",
      "66/66 [==============================] - 0s 6ms/step - loss: 0.2933 - accuracy: 0.8821 - val_loss: 0.2450 - val_accuracy: 0.9060\n",
      "Epoch 9/10\n",
      "66/66 [==============================] - 0s 6ms/step - loss: 0.2298 - accuracy: 0.9235 - val_loss: 0.2189 - val_accuracy: 0.9038\n",
      "Epoch 10/10\n",
      "66/66 [==============================] - 0s 6ms/step - loss: 0.1629 - accuracy: 0.9500 - val_loss: 0.3012 - val_accuracy: 0.8792\n",
      "INFO:tensorflow:Assets written to: CNN.model\\assets\n"
     ]
    },
    {
     "name": "stderr",
     "output_type": "stream",
     "text": [
      "D:\\ProgramData\\Anaconda3\\lib\\site-packages\\tensorflow\\python\\client\\session.py:1761: UserWarning: An interactive session is already active. This can cause out-of-memory errors in some cases. You must explicitly call `InteractiveSession.close()` to release resources held by the other session(s).\n",
      "  warnings.warn('An interactive session is already active. This can '\n"
     ]
    },
    {
     "name": "stdout",
     "output_type": "stream",
     "text": [
      "Epoch 1/10\n",
      "66/66 [==============================] - 10s 99ms/step - loss: 0.7024 - accuracy: 0.5259 - val_loss: 0.6919 - val_accuracy: 0.4989\n",
      "Epoch 2/10\n",
      "66/66 [==============================] - 3s 43ms/step - loss: 0.6896 - accuracy: 0.5300 - val_loss: 0.6930 - val_accuracy: 0.4989\n",
      "Epoch 3/10\n",
      "66/66 [==============================] - 3s 43ms/step - loss: 0.6916 - accuracy: 0.5255 - val_loss: 0.6892 - val_accuracy: 0.5481\n",
      "Epoch 4/10\n",
      "66/66 [==============================] - 3s 43ms/step - loss: 0.6905 - accuracy: 0.5201 - val_loss: 0.6845 - val_accuracy: 0.5324\n",
      "Epoch 5/10\n",
      "66/66 [==============================] - 3s 43ms/step - loss: 0.6780 - accuracy: 0.5542 - val_loss: 0.6657 - val_accuracy: 0.5682\n",
      "Epoch 6/10\n",
      "66/66 [==============================] - 3s 43ms/step - loss: 0.6722 - accuracy: 0.6198 - val_loss: 0.6361 - val_accuracy: 0.6152\n",
      "Epoch 7/10\n",
      "66/66 [==============================] - 3s 43ms/step - loss: 0.6450 - accuracy: 0.6125 - val_loss: 0.6306 - val_accuracy: 0.6443\n",
      "Epoch 8/10\n",
      "66/66 [==============================] - 3s 43ms/step - loss: 0.6271 - accuracy: 0.6700 - val_loss: 0.5308 - val_accuracy: 0.7718\n",
      "Epoch 9/10\n",
      "66/66 [==============================] - 3s 43ms/step - loss: 0.6626 - accuracy: 0.6453 - val_loss: 0.6429 - val_accuracy: 0.6600\n",
      "Epoch 10/10\n",
      "66/66 [==============================] - 3s 43ms/step - loss: 0.6236 - accuracy: 0.6616 - val_loss: 0.6082 - val_accuracy: 0.6600\n",
      "INFO:tensorflow:Assets written to: CNN.model\\assets\n"
     ]
    },
    {
     "name": "stderr",
     "output_type": "stream",
     "text": [
      "D:\\ProgramData\\Anaconda3\\lib\\site-packages\\tensorflow\\python\\client\\session.py:1761: UserWarning: An interactive session is already active. This can cause out-of-memory errors in some cases. You must explicitly call `InteractiveSession.close()` to release resources held by the other session(s).\n",
      "  warnings.warn('An interactive session is already active. This can '\n"
     ]
    },
    {
     "name": "stdout",
     "output_type": "stream",
     "text": [
      "Epoch 1/10\n",
      "66/66 [==============================] - 1s 8ms/step - loss: 0.6932 - accuracy: 0.5081 - val_loss: 0.6925 - val_accuracy: 0.5302\n",
      "Epoch 2/10\n",
      "66/66 [==============================] - 0s 5ms/step - loss: 0.6919 - accuracy: 0.5280 - val_loss: 0.6910 - val_accuracy: 0.6734\n",
      "Epoch 3/10\n",
      "66/66 [==============================] - 0s 5ms/step - loss: 0.6904 - accuracy: 0.6396 - val_loss: 0.6893 - val_accuracy: 0.5280\n",
      "Epoch 4/10\n",
      "66/66 [==============================] - 0s 5ms/step - loss: 0.6902 - accuracy: 0.5130 - val_loss: 0.6850 - val_accuracy: 0.6264\n",
      "Epoch 5/10\n",
      "66/66 [==============================] - 0s 5ms/step - loss: 0.6836 - accuracy: 0.6243 - val_loss: 0.6764 - val_accuracy: 0.6577\n",
      "Epoch 6/10\n",
      "66/66 [==============================] - 0s 5ms/step - loss: 0.6730 - accuracy: 0.6345 - val_loss: 0.6636 - val_accuracy: 0.6846\n",
      "Epoch 7/10\n",
      "66/66 [==============================] - 0s 5ms/step - loss: 0.6611 - accuracy: 0.6456 - val_loss: 0.6430 - val_accuracy: 0.6756\n",
      "Epoch 8/10\n",
      "66/66 [==============================] - 0s 5ms/step - loss: 0.6319 - accuracy: 0.6792 - val_loss: 0.6201 - val_accuracy: 0.6913\n",
      "Epoch 9/10\n",
      "66/66 [==============================] - 0s 5ms/step - loss: 0.6131 - accuracy: 0.6723 - val_loss: 0.6004 - val_accuracy: 0.6980\n",
      "Epoch 10/10\n",
      "66/66 [==============================] - 0s 5ms/step - loss: 0.5816 - accuracy: 0.7121 - val_loss: 0.5673 - val_accuracy: 0.7181\n",
      "INFO:tensorflow:Assets written to: CNN.model\\assets\n"
     ]
    },
    {
     "name": "stderr",
     "output_type": "stream",
     "text": [
      "D:\\ProgramData\\Anaconda3\\lib\\site-packages\\tensorflow\\python\\client\\session.py:1761: UserWarning: An interactive session is already active. This can cause out-of-memory errors in some cases. You must explicitly call `InteractiveSession.close()` to release resources held by the other session(s).\n",
      "  warnings.warn('An interactive session is already active. This can '\n"
     ]
    },
    {
     "name": "stdout",
     "output_type": "stream",
     "text": [
      "Epoch 1/10\n",
      "66/66 [==============================] - 3s 32ms/step - loss: 0.7985 - accuracy: 0.4933 - val_loss: 0.6927 - val_accuracy: 0.5839\n",
      "Epoch 2/10\n",
      "66/66 [==============================] - 1s 13ms/step - loss: 0.6944 - accuracy: 0.5320 - val_loss: 0.6853 - val_accuracy: 0.5481\n",
      "Epoch 3/10\n",
      "66/66 [==============================] - 1s 13ms/step - loss: 0.6807 - accuracy: 0.5435 - val_loss: 0.6483 - val_accuracy: 0.6353\n",
      "Epoch 4/10\n",
      "66/66 [==============================] - 1s 14ms/step - loss: 0.5715 - accuracy: 0.7200 - val_loss: 0.6241 - val_accuracy: 0.6577\n",
      "Epoch 5/10\n",
      "66/66 [==============================] - 1s 13ms/step - loss: 0.5057 - accuracy: 0.7682 - val_loss: 0.3991 - val_accuracy: 0.8143\n",
      "Epoch 6/10\n",
      "66/66 [==============================] - 1s 13ms/step - loss: 0.4356 - accuracy: 0.8264 - val_loss: 0.3248 - val_accuracy: 0.8702\n",
      "Epoch 7/10\n",
      "66/66 [==============================] - 1s 14ms/step - loss: 0.3112 - accuracy: 0.8807 - val_loss: 0.2577 - val_accuracy: 0.8971\n",
      "Epoch 8/10\n",
      "66/66 [==============================] - 1s 13ms/step - loss: 0.2451 - accuracy: 0.8973 - val_loss: 0.5186 - val_accuracy: 0.7562\n",
      "Epoch 9/10\n",
      "66/66 [==============================] - 1s 13ms/step - loss: 0.2343 - accuracy: 0.9019 - val_loss: 0.2126 - val_accuracy: 0.9239\n",
      "Epoch 10/10\n",
      "66/66 [==============================] - 1s 13ms/step - loss: 0.2204 - accuracy: 0.9220 - val_loss: 0.2129 - val_accuracy: 0.9150\n",
      "INFO:tensorflow:Assets written to: CNN.model\\assets\n"
     ]
    },
    {
     "name": "stderr",
     "output_type": "stream",
     "text": [
      "D:\\ProgramData\\Anaconda3\\lib\\site-packages\\tensorflow\\python\\client\\session.py:1761: UserWarning: An interactive session is already active. This can cause out-of-memory errors in some cases. You must explicitly call `InteractiveSession.close()` to release resources held by the other session(s).\n",
      "  warnings.warn('An interactive session is already active. This can '\n"
     ]
    },
    {
     "name": "stdout",
     "output_type": "stream",
     "text": [
      "Epoch 1/10\n",
      "66/66 [==============================] - 3s 28ms/step - loss: 1.6344 - accuracy: 0.5253 - val_loss: 0.6933 - val_accuracy: 0.4989\n",
      "Epoch 2/10\n",
      "66/66 [==============================] - 1s 9ms/step - loss: 0.6923 - accuracy: 0.5329 - val_loss: 0.6934 - val_accuracy: 0.4989\n",
      "Epoch 3/10\n",
      "66/66 [==============================] - 1s 9ms/step - loss: 0.6939 - accuracy: 0.4849 - val_loss: 0.6933 - val_accuracy: 0.4989\n",
      "Epoch 4/10\n",
      "66/66 [==============================] - 1s 9ms/step - loss: 0.6946 - accuracy: 0.4760 - val_loss: 0.6936 - val_accuracy: 0.4989\n",
      "Epoch 5/10\n",
      "66/66 [==============================] - 1s 9ms/step - loss: 0.6936 - accuracy: 0.4989 - val_loss: 0.6933 - val_accuracy: 0.4989\n",
      "Epoch 6/10\n",
      "66/66 [==============================] - 1s 9ms/step - loss: 0.6934 - accuracy: 0.5032 - val_loss: 0.6932 - val_accuracy: 0.4989\n",
      "Epoch 7/10\n",
      "66/66 [==============================] - 1s 9ms/step - loss: 0.6933 - accuracy: 0.4876 - val_loss: 0.6932 - val_accuracy: 0.4989\n",
      "Epoch 8/10\n",
      "66/66 [==============================] - ETA: 0s - loss: 0.6933 - accuracy: 0.49 - 1s 9ms/step - loss: 0.6933 - accuracy: 0.4990 - val_loss: 0.6932 - val_accuracy: 0.4989\n",
      "Epoch 9/10\n",
      "66/66 [==============================] - 1s 9ms/step - loss: 0.6932 - accuracy: 0.4836 - val_loss: 0.6932 - val_accuracy: 0.4989\n",
      "Epoch 10/10\n",
      "66/66 [==============================] - 1s 9ms/step - loss: 0.6935 - accuracy: 0.4732 - val_loss: 0.6932 - val_accuracy: 0.4989\n",
      "INFO:tensorflow:Assets written to: CNN.model\\assets\n"
     ]
    },
    {
     "name": "stderr",
     "output_type": "stream",
     "text": [
      "D:\\ProgramData\\Anaconda3\\lib\\site-packages\\tensorflow\\python\\client\\session.py:1761: UserWarning: An interactive session is already active. This can cause out-of-memory errors in some cases. You must explicitly call `InteractiveSession.close()` to release resources held by the other session(s).\n",
      "  warnings.warn('An interactive session is already active. This can '\n"
     ]
    },
    {
     "name": "stdout",
     "output_type": "stream",
     "text": [
      "Epoch 1/10\n",
      "66/66 [==============================] - 3s 24ms/step - loss: 0.7016 - accuracy: 0.5517 - val_loss: 0.6908 - val_accuracy: 0.4989\n",
      "Epoch 2/10\n",
      "66/66 [==============================] - 0s 6ms/step - loss: 0.6946 - accuracy: 0.5435 - val_loss: 0.6923 - val_accuracy: 0.5906\n",
      "Epoch 3/10\n",
      "66/66 [==============================] - 0s 5ms/step - loss: 0.6928 - accuracy: 0.5365 - val_loss: 0.6875 - val_accuracy: 0.4989\n",
      "Epoch 4/10\n",
      "66/66 [==============================] - 0s 6ms/step - loss: 0.6863 - accuracy: 0.5655 - val_loss: 0.5529 - val_accuracy: 0.7405\n",
      "Epoch 5/10\n",
      "66/66 [==============================] - 0s 5ms/step - loss: 0.6188 - accuracy: 0.6586 - val_loss: 0.5361 - val_accuracy: 0.7405\n",
      "Epoch 6/10\n",
      "66/66 [==============================] - 0s 5ms/step - loss: 0.5415 - accuracy: 0.7006 - val_loss: 0.4664 - val_accuracy: 0.7584\n",
      "Epoch 7/10\n",
      "66/66 [==============================] - 0s 5ms/step - loss: 0.4858 - accuracy: 0.7520 - val_loss: 0.4757 - val_accuracy: 0.7808\n",
      "Epoch 8/10\n",
      "66/66 [==============================] - 0s 5ms/step - loss: 0.4606 - accuracy: 0.7759 - val_loss: 0.4287 - val_accuracy: 0.8166\n",
      "Epoch 9/10\n",
      "66/66 [==============================] - 0s 6ms/step - loss: 0.3965 - accuracy: 0.8173 - val_loss: 0.3939 - val_accuracy: 0.8322\n",
      "Epoch 10/10\n",
      "66/66 [==============================] - 0s 5ms/step - loss: 0.3759 - accuracy: 0.8499 - val_loss: 0.3974 - val_accuracy: 0.8098\n",
      "INFO:tensorflow:Assets written to: CNN.model\\assets\n"
     ]
    },
    {
     "name": "stderr",
     "output_type": "stream",
     "text": [
      "D:\\ProgramData\\Anaconda3\\lib\\site-packages\\tensorflow\\python\\client\\session.py:1761: UserWarning: An interactive session is already active. This can cause out-of-memory errors in some cases. You must explicitly call `InteractiveSession.close()` to release resources held by the other session(s).\n",
      "  warnings.warn('An interactive session is already active. This can '\n"
     ]
    },
    {
     "name": "stdout",
     "output_type": "stream",
     "text": [
      "Epoch 1/10\n",
      "66/66 [==============================] - 4s 37ms/step - loss: 0.6950 - accuracy: 0.4833 - val_loss: 0.6919 - val_accuracy: 0.4989\n",
      "Epoch 2/10\n",
      "66/66 [==============================] - 1s 20ms/step - loss: 0.6903 - accuracy: 0.5419 - val_loss: 0.6831 - val_accuracy: 0.5705\n",
      "Epoch 3/10\n",
      "66/66 [==============================] - 1s 20ms/step - loss: 0.6780 - accuracy: 0.5968 - val_loss: 0.6837 - val_accuracy: 0.5145\n",
      "Epoch 4/10\n",
      "66/66 [==============================] - 1s 20ms/step - loss: 0.6914 - accuracy: 0.5564 - val_loss: 0.6602 - val_accuracy: 0.6242\n",
      "Epoch 5/10\n",
      "66/66 [==============================] - 1s 20ms/step - loss: 0.6566 - accuracy: 0.6015 - val_loss: 0.6366 - val_accuracy: 0.6264\n",
      "Epoch 6/10\n",
      "66/66 [==============================] - 1s 20ms/step - loss: 0.6490 - accuracy: 0.6652 - val_loss: 0.5715 - val_accuracy: 0.7338\n",
      "Epoch 7/10\n",
      "66/66 [==============================] - 1s 20ms/step - loss: 0.5618 - accuracy: 0.7130 - val_loss: 0.5521 - val_accuracy: 0.7360\n",
      "Epoch 8/10\n",
      "66/66 [==============================] - 1s 20ms/step - loss: 0.5353 - accuracy: 0.7757 - val_loss: 0.4879 - val_accuracy: 0.7696\n",
      "Epoch 9/10\n",
      "66/66 [==============================] - 1s 20ms/step - loss: 0.4887 - accuracy: 0.7924 - val_loss: 0.5012 - val_accuracy: 0.7808\n",
      "Epoch 10/10\n",
      "66/66 [==============================] - 1s 20ms/step - loss: 0.4468 - accuracy: 0.8136 - val_loss: 0.4358 - val_accuracy: 0.7919\n",
      "INFO:tensorflow:Assets written to: CNN.model\\assets\n",
      "[[256, 7, 0.0001, 0.2, 6, 1, 512], [128, 7, 0.001, 0.4, 3, 0, 256], [64, 2, 0.001, 0.4, 6, 0, 256], [32, 2, 0.001, 0.3, 6, 0, 256], [256, 5, 0.0005, 0.4, 5, 1, 256], [32, 2, 0.0001, 0.5, 5, 0, 512], [128, 3, 0.001, 0.5, 2, 0, 128], [64, 3, 0.005, 0.0, 2, 1, 512], [32, 5, 0.001, 0.5, 2, 1, 128], [128, 7, 0.0001, 0.4, 5, 1, 128]]\n",
      "[0.29605420194312965, 0.23712504260696382, 0.35369774866959797, 0.3842778981432165, 0.4887459804536903, 0.20218035162080197, 0.19458220349908323, 0.24998756342661232, 0.30399416114644295, 0.23767371922823516]\n",
      "Generasi Ke  1\n",
      "Parent 1 dan 2  [32, 2, 0.001, 0.3, 6, 0, 256] [256, 5, 0.0005, 0.4, 5, 1, 256]\n",
      "Child 1 dan 2 [32, 2, 0.001, 0.3, 5, 1, 256] [256, 5, 0.0005, 0.4, 6, 0, 256]\n",
      "Mutasi 1 dan 2 [32, 2, 0.001, 0.3, 5, 1, 256] [256, 5, 0.0005, 0.4, 6, 0, 256]\n",
      "Epoch 1/10\n"
     ]
    },
    {
     "name": "stderr",
     "output_type": "stream",
     "text": [
      "D:\\ProgramData\\Anaconda3\\lib\\site-packages\\tensorflow\\python\\client\\session.py:1761: UserWarning: An interactive session is already active. This can cause out-of-memory errors in some cases. You must explicitly call `InteractiveSession.close()` to release resources held by the other session(s).\n",
      "  warnings.warn('An interactive session is already active. This can '\n"
     ]
    },
    {
     "name": "stdout",
     "output_type": "stream",
     "text": [
      "66/66 [==============================] - 1s 8ms/step - loss: 0.6936 - accuracy: 0.4958 - val_loss: 0.6927 - val_accuracy: 0.4989\n",
      "Epoch 2/10\n",
      "66/66 [==============================] - 0s 6ms/step - loss: 0.6890 - accuracy: 0.5476 - val_loss: 0.6862 - val_accuracy: 0.5749\n",
      "Epoch 3/10\n",
      "66/66 [==============================] - 0s 6ms/step - loss: 0.6743 - accuracy: 0.5941 - val_loss: 0.6768 - val_accuracy: 0.5190\n",
      "Epoch 4/10\n",
      "66/66 [==============================] - 0s 5ms/step - loss: 0.6735 - accuracy: 0.5679 - val_loss: 0.6245 - val_accuracy: 0.6689\n",
      "Epoch 5/10\n",
      "66/66 [==============================] - 0s 6ms/step - loss: 0.6307 - accuracy: 0.6190 - val_loss: 0.5674 - val_accuracy: 0.7204\n",
      "Epoch 6/10\n",
      "66/66 [==============================] - 0s 6ms/step - loss: 0.5496 - accuracy: 0.7398 - val_loss: 0.4504 - val_accuracy: 0.8031\n",
      "Epoch 7/10\n",
      "66/66 [==============================] - 0s 6ms/step - loss: 0.5689 - accuracy: 0.7095 - val_loss: 0.3160 - val_accuracy: 0.8949\n",
      "Epoch 8/10\n",
      "66/66 [==============================] - 0s 6ms/step - loss: 0.4107 - accuracy: 0.8446 - val_loss: 0.3238 - val_accuracy: 0.8747\n",
      "Epoch 9/10\n",
      "66/66 [==============================] - 0s 6ms/step - loss: 0.3678 - accuracy: 0.8458 - val_loss: 0.2715 - val_accuracy: 0.8770\n",
      "Epoch 10/10\n",
      "66/66 [==============================] - 0s 6ms/step - loss: 0.2773 - accuracy: 0.9083 - val_loss: 0.2750 - val_accuracy: 0.8926\n",
      "INFO:tensorflow:Assets written to: CNN.model\\assets\n"
     ]
    },
    {
     "name": "stderr",
     "output_type": "stream",
     "text": [
      "D:\\ProgramData\\Anaconda3\\lib\\site-packages\\tensorflow\\python\\client\\session.py:1761: UserWarning: An interactive session is already active. This can cause out-of-memory errors in some cases. You must explicitly call `InteractiveSession.close()` to release resources held by the other session(s).\n",
      "  warnings.warn('An interactive session is already active. This can '\n"
     ]
    },
    {
     "name": "stdout",
     "output_type": "stream",
     "text": [
      "Epoch 1/10\n",
      "66/66 [==============================] - 5s 67ms/step - loss: 0.6945 - accuracy: 0.4942 - val_loss: 0.6933 - val_accuracy: 0.4989\n",
      "Epoch 2/10\n",
      "66/66 [==============================] - 3s 48ms/step - loss: 0.6912 - accuracy: 0.5327 - val_loss: 0.6932 - val_accuracy: 0.4989\n",
      "Epoch 3/10\n",
      "66/66 [==============================] - 3s 45ms/step - loss: 0.6934 - accuracy: 0.4776 - val_loss: 0.6932 - val_accuracy: 0.4989\n",
      "Epoch 4/10\n",
      "66/66 [==============================] - 3s 45ms/step - loss: 0.6939 - accuracy: 0.4715 - val_loss: 0.6933 - val_accuracy: 0.4989\n",
      "Epoch 5/10\n",
      "66/66 [==============================] - 3s 46ms/step - loss: 0.6936 - accuracy: 0.4980 - val_loss: 0.6933 - val_accuracy: 0.4989\n",
      "Epoch 6/10\n",
      "66/66 [==============================] - 3s 47ms/step - loss: 0.6934 - accuracy: 0.5032 - val_loss: 0.6932 - val_accuracy: 0.4989\n",
      "Epoch 7/10\n",
      "66/66 [==============================] - 3s 46ms/step - loss: 0.6931 - accuracy: 0.5048 - val_loss: 0.6932 - val_accuracy: 0.4989\n",
      "Epoch 8/10\n",
      "66/66 [==============================] - 3s 45ms/step - loss: 0.6932 - accuracy: 0.4974 - val_loss: 0.6932 - val_accuracy: 0.4989\n",
      "Epoch 9/10\n",
      "66/66 [==============================] - 3s 45ms/step - loss: 0.6929 - accuracy: 0.5142 - val_loss: 0.6932 - val_accuracy: 0.4989\n",
      "Epoch 10/10\n",
      "66/66 [==============================] - 3s 45ms/step - loss: 0.6935 - accuracy: 0.4641 - val_loss: 0.6932 - val_accuracy: 0.4989\n",
      "INFO:tensorflow:Assets written to: CNN.model\\assets\n",
      "[[128, 3, 0.001, 0.5, 2, 0, 128], [32, 2, 0.0001, 0.5, 5, 0, 512], [128, 7, 0.001, 0.4, 3, 0, 256], [128, 7, 0.0001, 0.4, 5, 1, 128], [64, 3, 0.005, 0.0, 2, 1, 512], [256, 7, 0.0001, 0.2, 6, 1, 512], [32, 5, 0.001, 0.5, 2, 1, 128], [64, 2, 0.001, 0.4, 6, 0, 256], [256, 5, 0.0005, 0.4, 6, 0, 256], [32, 2, 0.001, 0.3, 5, 1, 256]]\n",
      "[0.19458220349908323, 0.20218035162080197, 0.23712504260696382, 0.23767371922823516, 0.24998756342661232, 0.29605420194312965, 0.30399416114644295, 0.35369774866959797, 0.24971951628379574, 0.49517684887459806]\n",
      "Generasi Ke  2\n",
      "Parent 1 dan 2  [128, 7, 0.0001, 0.4, 5, 1, 128] [64, 3, 0.005, 0.0, 2, 1, 512]\n",
      "Child 1 dan 2 [128, 7, 0.0001, 0.4, 2, 1, 512] [64, 3, 0.005, 0.0, 5, 1, 128]\n",
      "Mutasi 1 dan 2 [128, 7, 0.0001, 0.4, 2, 1, 512] [64, 3, 0.005, 0.0, 5, 1, 128]\n",
      "Epoch 1/10\n"
     ]
    },
    {
     "name": "stderr",
     "output_type": "stream",
     "text": [
      "D:\\ProgramData\\Anaconda3\\lib\\site-packages\\tensorflow\\python\\client\\session.py:1761: UserWarning: An interactive session is already active. This can cause out-of-memory errors in some cases. You must explicitly call `InteractiveSession.close()` to release resources held by the other session(s).\n",
      "  warnings.warn('An interactive session is already active. This can '\n"
     ]
    },
    {
     "name": "stdout",
     "output_type": "stream",
     "text": [
      "66/66 [==============================] - 2s 22ms/step - loss: 0.6922 - accuracy: 0.5700 - val_loss: 0.6694 - val_accuracy: 0.5973\n",
      "Epoch 2/10\n",
      "66/66 [==============================] - 1s 20ms/step - loss: 0.6472 - accuracy: 0.6249 - val_loss: 0.5287 - val_accuracy: 0.7405\n",
      "Epoch 3/10\n",
      "66/66 [==============================] - 1s 20ms/step - loss: 0.5484 - accuracy: 0.7327 - val_loss: 0.5654 - val_accuracy: 0.6980\n",
      "Epoch 4/10\n",
      "66/66 [==============================] - 1s 20ms/step - loss: 0.5057 - accuracy: 0.7725 - val_loss: 0.4441 - val_accuracy: 0.8277\n",
      "Epoch 5/10\n",
      "66/66 [==============================] - 1s 20ms/step - loss: 0.4291 - accuracy: 0.8151 - val_loss: 0.4189 - val_accuracy: 0.8054\n",
      "Epoch 6/10\n",
      "66/66 [==============================] - 1s 20ms/step - loss: 0.4509 - accuracy: 0.7830 - val_loss: 0.3198 - val_accuracy: 0.8859\n",
      "Epoch 7/10\n",
      "66/66 [==============================] - 1s 20ms/step - loss: 0.3520 - accuracy: 0.8575 - val_loss: 0.3401 - val_accuracy: 0.8702\n",
      "Epoch 8/10\n",
      "66/66 [==============================] - 1s 20ms/step - loss: 0.3124 - accuracy: 0.8764 - val_loss: 0.3564 - val_accuracy: 0.8345\n",
      "Epoch 9/10\n",
      "66/66 [==============================] - 1s 20ms/step - loss: 0.2765 - accuracy: 0.8870 - val_loss: 0.2633 - val_accuracy: 0.9060\n",
      "Epoch 10/10\n",
      "66/66 [==============================] - 1s 20ms/step - loss: 0.2373 - accuracy: 0.9148 - val_loss: 0.3839 - val_accuracy: 0.8322\n",
      "INFO:tensorflow:Assets written to: CNN.model\\assets\n"
     ]
    },
    {
     "name": "stderr",
     "output_type": "stream",
     "text": [
      "D:\\ProgramData\\Anaconda3\\lib\\site-packages\\tensorflow\\python\\client\\session.py:1761: UserWarning: An interactive session is already active. This can cause out-of-memory errors in some cases. You must explicitly call `InteractiveSession.close()` to release resources held by the other session(s).\n",
      "  warnings.warn('An interactive session is already active. This can '\n"
     ]
    },
    {
     "name": "stdout",
     "output_type": "stream",
     "text": [
      "Epoch 1/10\n",
      "66/66 [==============================] - 4s 38ms/step - loss: 0.6840 - accuracy: 0.5261 - val_loss: 0.6935 - val_accuracy: 0.4989\n",
      "Epoch 2/10\n",
      "66/66 [==============================] - 1s 8ms/step - loss: 0.6921 - accuracy: 0.5329 - val_loss: 0.6932 - val_accuracy: 0.4989\n",
      "Epoch 3/10\n",
      "66/66 [==============================] - 1s 8ms/step - loss: 0.6936 - accuracy: 0.4749 - val_loss: 0.6933 - val_accuracy: 0.4989\n",
      "Epoch 4/10\n",
      "66/66 [==============================] - 1s 8ms/step - loss: 0.6946 - accuracy: 0.4760 - val_loss: 0.6936 - val_accuracy: 0.4989\n",
      "Epoch 5/10\n",
      "66/66 [==============================] - 1s 8ms/step - loss: 0.6936 - accuracy: 0.4989 - val_loss: 0.6933 - val_accuracy: 0.4989\n",
      "Epoch 6/10\n",
      "66/66 [==============================] - 1s 8ms/step - loss: 0.6934 - accuracy: 0.5032 - val_loss: 0.6932 - val_accuracy: 0.4989\n",
      "Epoch 7/10\n",
      "66/66 [==============================] - 1s 8ms/step - loss: 0.6933 - accuracy: 0.4849 - val_loss: 0.6932 - val_accuracy: 0.4989\n",
      "Epoch 8/10\n",
      "66/66 [==============================] - 1s 8ms/step - loss: 0.6933 - accuracy: 0.4808 - val_loss: 0.6932 - val_accuracy: 0.4989\n",
      "Epoch 9/10\n",
      "66/66 [==============================] - 1s 8ms/step - loss: 0.6932 - accuracy: 0.4764 - val_loss: 0.6932 - val_accuracy: 0.4989\n",
      "Epoch 10/10\n",
      "66/66 [==============================] - 1s 8ms/step - loss: 0.6935 - accuracy: 0.4732 - val_loss: 0.6932 - val_accuracy: 0.4989\n",
      "INFO:tensorflow:Assets written to: CNN.model\\assets\n",
      "[[128, 3, 0.001, 0.5, 2, 0, 128], [32, 2, 0.0001, 0.5, 5, 0, 512], [128, 7, 0.001, 0.4, 3, 0, 256], [128, 7, 0.0001, 0.4, 5, 1, 128], [256, 5, 0.0005, 0.4, 6, 0, 256], [64, 3, 0.005, 0.0, 2, 1, 512], [256, 7, 0.0001, 0.2, 6, 1, 512], [32, 5, 0.001, 0.5, 2, 1, 128], [64, 3, 0.005, 0.0, 5, 1, 128], [128, 7, 0.0001, 0.4, 2, 1, 512]]\n",
      "[0.19458220349908323, 0.20218035162080197, 0.23712504260696382, 0.23767371922823516, 0.24971951628379574, 0.24998756342661232, 0.29605420194312965, 0.30399416114644295, 0.24998555479723175, 0.18325979003863033]\n",
      "Generasi Ke  3\n",
      "Parent 1 dan 2  [128, 7, 0.0001, 0.4, 5, 1, 128] [256, 5, 0.0005, 0.4, 6, 0, 256]\n",
      "Child 1 dan 2 [128, 7, 0.0001, 0.4, 6, 0, 256] [256, 5, 0.0005, 0.4, 5, 1, 128]\n",
      "Mutasi 1 dan 2 [128, 7, 0.0001, 0.4, 6, 0, 256] [256, 5, 0.0005, 0.4, 5, 1, 128]\n",
      "Epoch 1/10\n"
     ]
    },
    {
     "name": "stderr",
     "output_type": "stream",
     "text": [
      "D:\\ProgramData\\Anaconda3\\lib\\site-packages\\tensorflow\\python\\client\\session.py:1761: UserWarning: An interactive session is already active. This can cause out-of-memory errors in some cases. You must explicitly call `InteractiveSession.close()` to release resources held by the other session(s).\n",
      "  warnings.warn('An interactive session is already active. This can '\n"
     ]
    },
    {
     "name": "stdout",
     "output_type": "stream",
     "text": [
      "66/66 [==============================] - 3s 31ms/step - loss: 0.6937 - accuracy: 0.5099 - val_loss: 0.6930 - val_accuracy: 0.4989\n",
      "Epoch 2/10\n",
      "66/66 [==============================] - 1s 21ms/step - loss: 0.6904 - accuracy: 0.5431 - val_loss: 0.6928 - val_accuracy: 0.5772\n",
      "Epoch 3/10\n",
      "66/66 [==============================] - 1s 21ms/step - loss: 0.6928 - accuracy: 0.5249 - val_loss: 0.6926 - val_accuracy: 0.4989\n",
      "Epoch 4/10\n",
      "66/66 [==============================] - 1s 22ms/step - loss: 0.6942 - accuracy: 0.4731 - val_loss: 0.6796 - val_accuracy: 0.5414\n",
      "Epoch 5/10\n",
      "66/66 [==============================] - 1s 22ms/step - loss: 0.6717 - accuracy: 0.6284 - val_loss: 0.5780 - val_accuracy: 0.7025\n",
      "Epoch 6/10\n",
      "66/66 [==============================] - 1s 21ms/step - loss: 0.5845 - accuracy: 0.7071 - val_loss: 0.5397 - val_accuracy: 0.7248\n",
      "Epoch 7/10\n",
      "66/66 [==============================] - 1s 22ms/step - loss: 0.5343 - accuracy: 0.7436 - val_loss: 0.5442 - val_accuracy: 0.7271\n",
      "Epoch 8/10\n",
      "66/66 [==============================] - 1s 21ms/step - loss: 0.4856 - accuracy: 0.7912 - val_loss: 0.4833 - val_accuracy: 0.7606\n",
      "Epoch 9/10\n",
      "66/66 [==============================] - 1s 21ms/step - loss: 0.4550 - accuracy: 0.8002 - val_loss: 0.4196 - val_accuracy: 0.8367\n",
      "Epoch 10/10\n",
      "66/66 [==============================] - 1s 21ms/step - loss: 0.3778 - accuracy: 0.8527 - val_loss: 0.3873 - val_accuracy: 0.8345\n",
      "INFO:tensorflow:Assets written to: CNN.model\\assets\n"
     ]
    },
    {
     "name": "stderr",
     "output_type": "stream",
     "text": [
      "D:\\ProgramData\\Anaconda3\\lib\\site-packages\\tensorflow\\python\\client\\session.py:1761: UserWarning: An interactive session is already active. This can cause out-of-memory errors in some cases. You must explicitly call `InteractiveSession.close()` to release resources held by the other session(s).\n",
      "  warnings.warn('An interactive session is already active. This can '\n"
     ]
    },
    {
     "name": "stdout",
     "output_type": "stream",
     "text": [
      "Epoch 1/10\n",
      "66/66 [==============================] - 4s 46ms/step - loss: 0.6975 - accuracy: 0.5261 - val_loss: 0.6927 - val_accuracy: 0.4989\n",
      "Epoch 2/10\n",
      "66/66 [==============================] - 3s 44ms/step - loss: 0.6943 - accuracy: 0.5330 - val_loss: 0.6932 - val_accuracy: 0.4989\n",
      "Epoch 3/10\n",
      "66/66 [==============================] - 3s 44ms/step - loss: 0.6934 - accuracy: 0.4803 - val_loss: 0.6932 - val_accuracy: 0.4989\n",
      "Epoch 4/10\n",
      "66/66 [==============================] - 3s 44ms/step - loss: 0.6937 - accuracy: 0.4748 - val_loss: 0.6932 - val_accuracy: 0.4989\n",
      "Epoch 5/10\n",
      "66/66 [==============================] - 3s 44ms/step - loss: 0.6932 - accuracy: 0.4981 - val_loss: 0.6932 - val_accuracy: 0.4989\n",
      "Epoch 6/10\n",
      "66/66 [==============================] - 3s 44ms/step - loss: 0.6929 - accuracy: 0.5048 - val_loss: 0.6932 - val_accuracy: 0.4989\n",
      "Epoch 7/10\n",
      "66/66 [==============================] - 3s 44ms/step - loss: 0.6932 - accuracy: 0.5067 - val_loss: 0.6932 - val_accuracy: 0.4989\n",
      "Epoch 8/10\n",
      "66/66 [==============================] - 3s 44ms/step - loss: 0.6930 - accuracy: 0.5130 - val_loss: 0.6932 - val_accuracy: 0.4989\n",
      "Epoch 9/10\n",
      "66/66 [==============================] - 3s 44ms/step - loss: 0.6929 - accuracy: 0.5279 - val_loss: 0.6932 - val_accuracy: 0.4989\n",
      "Epoch 10/10\n",
      "66/66 [==============================] - 3s 44ms/step - loss: 0.6934 - accuracy: 0.4945 - val_loss: 0.6931 - val_accuracy: 0.4989\n",
      "INFO:tensorflow:Assets written to: CNN.model\\assets\n",
      "[[128, 7, 0.0001, 0.4, 2, 1, 512], [128, 3, 0.001, 0.5, 2, 0, 128], [32, 2, 0.0001, 0.5, 5, 0, 512], [128, 7, 0.001, 0.4, 3, 0, 256], [128, 7, 0.0001, 0.4, 5, 1, 128], [256, 5, 0.0005, 0.4, 6, 0, 256], [64, 3, 0.005, 0.0, 5, 1, 128], [64, 3, 0.005, 0.0, 2, 1, 512], [256, 5, 0.0005, 0.4, 5, 1, 128], [128, 7, 0.0001, 0.4, 6, 0, 256]]\n",
      "[0.18325979003863033, 0.19458220349908323, 0.20218035162080197, 0.23712504260696382, 0.23767371922823516, 0.24971951628379574, 0.24998555479723175, 0.24998756342661232, 0.24822920644897517, 0.19960692453404252]\n",
      "Generasi Ke  4\n",
      "Parent 1 dan 2  [128, 7, 0.001, 0.4, 3, 0, 256] [128, 7, 0.0001, 0.4, 5, 1, 128]\n",
      "Child 1 dan 2 [128, 7, 0.001, 0.4, 5, 1, 128] [128, 7, 0.0001, 0.4, 3, 0, 256]\n",
      "Mutasi 1 dan 2 [128, 7, 0.001, 0.4, 5, 1, 128] [128, 7, 0.0001, 0.4, 3, 0, 256]\n",
      "Epoch 1/10\n"
     ]
    },
    {
     "name": "stderr",
     "output_type": "stream",
     "text": [
      "D:\\ProgramData\\Anaconda3\\lib\\site-packages\\tensorflow\\python\\client\\session.py:1761: UserWarning: An interactive session is already active. This can cause out-of-memory errors in some cases. You must explicitly call `InteractiveSession.close()` to release resources held by the other session(s).\n",
      "  warnings.warn('An interactive session is already active. This can '\n"
     ]
    },
    {
     "name": "stdout",
     "output_type": "stream",
     "text": [
      "66/66 [==============================] - 2s 25ms/step - loss: 0.6959 - accuracy: 0.5103 - val_loss: 0.6931 - val_accuracy: 0.4989\n",
      "Epoch 2/10\n",
      "66/66 [==============================] - 1s 20ms/step - loss: 0.6929 - accuracy: 0.5099 - val_loss: 0.6932 - val_accuracy: 0.4989\n",
      "Epoch 3/10\n",
      "66/66 [==============================] - 1s 20ms/step - loss: 0.6935 - accuracy: 0.4836 - val_loss: 0.6933 - val_accuracy: 0.4989\n",
      "Epoch 4/10\n",
      "66/66 [==============================] - 1s 21ms/step - loss: 0.6944 - accuracy: 0.4626 - val_loss: 0.6934 - val_accuracy: 0.4989\n",
      "Epoch 5/10\n",
      "66/66 [==============================] - 1s 20ms/step - loss: 0.6935 - accuracy: 0.4956 - val_loss: 0.6932 - val_accuracy: 0.4989\n",
      "Epoch 6/10\n",
      "66/66 [==============================] - 1s 20ms/step - loss: 0.6935 - accuracy: 0.4811 - val_loss: 0.6932 - val_accuracy: 0.4989\n",
      "Epoch 7/10\n",
      "66/66 [==============================] - 1s 20ms/step - loss: 0.6928 - accuracy: 0.5074 - val_loss: 0.6932 - val_accuracy: 0.4989\n",
      "Epoch 8/10\n",
      "66/66 [==============================] - 1s 21ms/step - loss: 0.6932 - accuracy: 0.4838 - val_loss: 0.6932 - val_accuracy: 0.4989\n",
      "Epoch 9/10\n",
      "66/66 [==============================] - 1s 20ms/step - loss: 0.6927 - accuracy: 0.5469 - val_loss: 0.6932 - val_accuracy: 0.4989\n",
      "Epoch 10/10\n",
      "66/66 [==============================] - 1s 20ms/step - loss: 0.6935 - accuracy: 0.4958 - val_loss: 0.6932 - val_accuracy: 0.4989\n",
      "INFO:tensorflow:Assets written to: CNN.model\\assets\n"
     ]
    },
    {
     "name": "stderr",
     "output_type": "stream",
     "text": [
      "D:\\ProgramData\\Anaconda3\\lib\\site-packages\\tensorflow\\python\\client\\session.py:1761: UserWarning: An interactive session is already active. This can cause out-of-memory errors in some cases. You must explicitly call `InteractiveSession.close()` to release resources held by the other session(s).\n",
      "  warnings.warn('An interactive session is already active. This can '\n"
     ]
    },
    {
     "name": "stdout",
     "output_type": "stream",
     "text": [
      "Epoch 1/10\n",
      "66/66 [==============================] - 2s 21ms/step - loss: 0.6939 - accuracy: 0.5395 - val_loss: 0.6791 - val_accuracy: 0.4966\n",
      "Epoch 2/10\n",
      "66/66 [==============================] - 1s 19ms/step - loss: 0.6580 - accuracy: 0.6035 - val_loss: 0.5669 - val_accuracy: 0.6957\n",
      "Epoch 3/10\n",
      "66/66 [==============================] - 1s 19ms/step - loss: 0.5832 - accuracy: 0.7095 - val_loss: 0.5363 - val_accuracy: 0.7271\n",
      "Epoch 4/10\n",
      "66/66 [==============================] - 1s 19ms/step - loss: 0.4972 - accuracy: 0.7574 - val_loss: 0.4646 - val_accuracy: 0.8031\n",
      "Epoch 5/10\n",
      "66/66 [==============================] - 1s 19ms/step - loss: 0.4408 - accuracy: 0.8136 - val_loss: 0.4111 - val_accuracy: 0.8233\n",
      "Epoch 6/10\n",
      "66/66 [==============================] - 1s 18ms/step - loss: 0.4019 - accuracy: 0.8128 - val_loss: 0.3499 - val_accuracy: 0.8523\n",
      "Epoch 7/10\n",
      "66/66 [==============================] - 1s 19ms/step - loss: 0.3490 - accuracy: 0.8639 - val_loss: 0.2943 - val_accuracy: 0.8859\n",
      "Epoch 8/10\n",
      "66/66 [==============================] - 1s 19ms/step - loss: 0.2791 - accuracy: 0.8983 - val_loss: 0.2852 - val_accuracy: 0.8971\n",
      "Epoch 9/10\n",
      "66/66 [==============================] - 1s 19ms/step - loss: 0.2525 - accuracy: 0.8970 - val_loss: 0.2295 - val_accuracy: 0.9150\n",
      "Epoch 10/10\n",
      "66/66 [==============================] - 1s 19ms/step - loss: 0.2010 - accuracy: 0.9162 - val_loss: 0.2343 - val_accuracy: 0.9150\n",
      "INFO:tensorflow:Assets written to: CNN.model\\assets\n",
      "[[128, 7, 0.0001, 0.4, 2, 1, 512], [128, 3, 0.001, 0.5, 2, 0, 128], [128, 7, 0.0001, 0.4, 6, 0, 256], [32, 2, 0.0001, 0.5, 5, 0, 512], [128, 7, 0.001, 0.4, 3, 0, 256], [128, 7, 0.0001, 0.4, 5, 1, 128], [256, 5, 0.0005, 0.4, 5, 1, 128], [256, 5, 0.0005, 0.4, 6, 0, 256], [128, 7, 0.0001, 0.4, 3, 0, 256], [128, 7, 0.001, 0.4, 5, 1, 128]]\n",
      "[0.18325979003863033, 0.19458220349908323, 0.19960692453404252, 0.20218035162080197, 0.23712504260696382, 0.23767371922823516, 0.24822920644897517, 0.24971951628379574, 0.24602531047783516, 0.24998721614244493]\n",
      "Generasi Ke  5\n",
      "Parent 1 dan 2  [32, 2, 0.0001, 0.5, 5, 0, 512] [128, 7, 0.001, 0.4, 3, 0, 256]\n",
      "Child 1 dan 2 [32, 2, 0.0001, 0.5, 3, 0, 256] [128, 7, 0.001, 0.4, 5, 0, 512]\n",
      "Mutasi 1 dan 2 [32, 2, 0.0001, 0.5, 3, 0, 256] [128, 7, 0.001, 0.4, 5, 0, 512]\n",
      "Epoch 1/10\n"
     ]
    },
    {
     "name": "stderr",
     "output_type": "stream",
     "text": [
      "D:\\ProgramData\\Anaconda3\\lib\\site-packages\\tensorflow\\python\\client\\session.py:1761: UserWarning: An interactive session is already active. This can cause out-of-memory errors in some cases. You must explicitly call `InteractiveSession.close()` to release resources held by the other session(s).\n",
      "  warnings.warn('An interactive session is already active. This can '\n"
     ]
    },
    {
     "name": "stdout",
     "output_type": "stream",
     "text": [
      "66/66 [==============================] - 1s 8ms/step - loss: 0.6923 - accuracy: 0.5056 - val_loss: 0.6792 - val_accuracy: 0.5056\n",
      "Epoch 2/10\n",
      "66/66 [==============================] - 0s 5ms/step - loss: 0.6651 - accuracy: 0.6011 - val_loss: 0.6509 - val_accuracy: 0.7136\n",
      "Epoch 3/10\n",
      "66/66 [==============================] - 0s 5ms/step - loss: 0.6451 - accuracy: 0.6889 - val_loss: 0.6461 - val_accuracy: 0.5347\n",
      "Epoch 4/10\n",
      "66/66 [==============================] - 0s 5ms/step - loss: 0.6391 - accuracy: 0.6175 - val_loss: 0.5871 - val_accuracy: 0.7360\n",
      "Epoch 5/10\n",
      "66/66 [==============================] - ETA: 0s - loss: 0.5850 - accuracy: 0.73 - 0s 5ms/step - loss: 0.5819 - accuracy: 0.7376 - val_loss: 0.5364 - val_accuracy: 0.7763\n",
      "Epoch 6/10\n",
      "66/66 [==============================] - 0s 5ms/step - loss: 0.5180 - accuracy: 0.7753 - val_loss: 0.4965 - val_accuracy: 0.8031\n",
      "Epoch 7/10\n",
      "66/66 [==============================] - 0s 5ms/step - loss: 0.4701 - accuracy: 0.8074 - val_loss: 0.4603 - val_accuracy: 0.8143\n",
      "Epoch 8/10\n",
      "66/66 [==============================] - 0s 5ms/step - loss: 0.4470 - accuracy: 0.8098 - val_loss: 0.4780 - val_accuracy: 0.7629\n",
      "Epoch 9/10\n",
      "66/66 [==============================] - 0s 5ms/step - loss: 0.4282 - accuracy: 0.8325 - val_loss: 0.4155 - val_accuracy: 0.8031\n",
      "Epoch 10/10\n",
      "66/66 [==============================] - 0s 5ms/step - loss: 0.3971 - accuracy: 0.8464 - val_loss: 0.3848 - val_accuracy: 0.8479\n",
      "INFO:tensorflow:Assets written to: CNN.model\\assets\n"
     ]
    },
    {
     "name": "stderr",
     "output_type": "stream",
     "text": [
      "D:\\ProgramData\\Anaconda3\\lib\\site-packages\\tensorflow\\python\\client\\session.py:1761: UserWarning: An interactive session is already active. This can cause out-of-memory errors in some cases. You must explicitly call `InteractiveSession.close()` to release resources held by the other session(s).\n",
      "  warnings.warn('An interactive session is already active. This can '\n"
     ]
    },
    {
     "name": "stdout",
     "output_type": "stream",
     "text": [
      "Epoch 1/10\n",
      "66/66 [==============================] - 2s 23ms/step - loss: 0.7200 - accuracy: 0.4742 - val_loss: 0.6934 - val_accuracy: 0.4989\n",
      "Epoch 2/10\n",
      "66/66 [==============================] - 1s 21ms/step - loss: 0.6921 - accuracy: 0.5329 - val_loss: 0.6933 - val_accuracy: 0.4989\n",
      "Epoch 3/10\n",
      "66/66 [==============================] - 1s 21ms/step - loss: 0.6938 - accuracy: 0.4752 - val_loss: 0.6932 - val_accuracy: 0.4989\n",
      "Epoch 4/10\n",
      "66/66 [==============================] - 1s 21ms/step - loss: 0.6941 - accuracy: 0.4733 - val_loss: 0.6934 - val_accuracy: 0.4989\n",
      "Epoch 5/10\n",
      "66/66 [==============================] - 1s 21ms/step - loss: 0.6937 - accuracy: 0.4975 - val_loss: 0.6933 - val_accuracy: 0.4989\n",
      "Epoch 6/10\n",
      "66/66 [==============================] - 1s 21ms/step - loss: 0.6932 - accuracy: 0.4990 - val_loss: 0.6933 - val_accuracy: 0.4989\n",
      "Epoch 7/10\n",
      "66/66 [==============================] - 1s 21ms/step - loss: 0.6935 - accuracy: 0.5006 - val_loss: 0.6932 - val_accuracy: 0.4989\n",
      "Epoch 8/10\n",
      "66/66 [==============================] - 1s 21ms/step - loss: 0.6933 - accuracy: 0.4900 - val_loss: 0.6932 - val_accuracy: 0.4989\n",
      "Epoch 9/10\n",
      "66/66 [==============================] - 1s 21ms/step - loss: 0.6930 - accuracy: 0.5136 - val_loss: 0.6932 - val_accuracy: 0.4989\n",
      "Epoch 10/10\n",
      "66/66 [==============================] - 1s 21ms/step - loss: 0.6933 - accuracy: 0.5036 - val_loss: 0.6932 - val_accuracy: 0.4989\n",
      "INFO:tensorflow:Assets written to: CNN.model\\assets\n",
      "[[128, 7, 0.0001, 0.4, 2, 1, 512], [128, 3, 0.001, 0.5, 2, 0, 128], [128, 7, 0.0001, 0.4, 6, 0, 256], [32, 2, 0.0001, 0.5, 5, 0, 512], [128, 7, 0.001, 0.4, 3, 0, 256], [128, 7, 0.0001, 0.4, 5, 1, 128], [128, 7, 0.0001, 0.4, 3, 0, 256], [256, 5, 0.0005, 0.4, 5, 1, 128], [128, 7, 0.001, 0.4, 5, 0, 512], [32, 2, 0.0001, 0.5, 3, 0, 256]]\n",
      "[0.18325979003863033, 0.19458220349908323, 0.19960692453404252, 0.20218035162080197, 0.23712504260696382, 0.23767371922823516, 0.24602531047783516, 0.24822920644897517, 0.2500224386688235, 0.1818740523075574]\n",
      "Generasi Ke  6\n",
      "Parent 1 dan 2  [32, 2, 0.0001, 0.5, 5, 0, 512] [128, 7, 0.001, 0.4, 3, 0, 256]\n",
      "Child 1 dan 2 [32, 2, 0.0001, 0.5, 3, 0, 256] [128, 7, 0.001, 0.4, 5, 0, 512]\n",
      "Mutasi 1 dan 2 [32, 2, 0.0001, 0.5, 3, 0, 256] [128, 7, 0.001, 0.4, 5, 0, 512]\n",
      "Epoch 1/10\n"
     ]
    },
    {
     "name": "stderr",
     "output_type": "stream",
     "text": [
      "D:\\ProgramData\\Anaconda3\\lib\\site-packages\\tensorflow\\python\\client\\session.py:1761: UserWarning: An interactive session is already active. This can cause out-of-memory errors in some cases. You must explicitly call `InteractiveSession.close()` to release resources held by the other session(s).\n",
      "  warnings.warn('An interactive session is already active. This can '\n"
     ]
    },
    {
     "name": "stdout",
     "output_type": "stream",
     "text": [
      "66/66 [==============================] - 2s 23ms/step - loss: 0.7201 - accuracy: 0.4800 - val_loss: 0.6934 - val_accuracy: 0.4989\n",
      "Epoch 2/10\n",
      "66/66 [==============================] - 1s 20ms/step - loss: 0.6921 - accuracy: 0.5329 - val_loss: 0.6932 - val_accuracy: 0.4989\n",
      "Epoch 3/10\n",
      "66/66 [==============================] - 1s 21ms/step - loss: 0.6935 - accuracy: 0.4817 - val_loss: 0.6932 - val_accuracy: 0.4989\n",
      "Epoch 4/10\n",
      "66/66 [==============================] - 1s 20ms/step - loss: 0.6942 - accuracy: 0.4568 - val_loss: 0.6934 - val_accuracy: 0.4989\n",
      "Epoch 5/10\n",
      "66/66 [==============================] - 1s 20ms/step - loss: 0.6935 - accuracy: 0.4984 - val_loss: 0.6933 - val_accuracy: 0.4989\n",
      "Epoch 6/10\n",
      "66/66 [==============================] - 1s 21ms/step - loss: 0.6930 - accuracy: 0.4930 - val_loss: 0.6932 - val_accuracy: 0.4989\n",
      "Epoch 7/10\n",
      "66/66 [==============================] - 1s 21ms/step - loss: 0.6933 - accuracy: 0.5152 - val_loss: 0.6932 - val_accuracy: 0.4989\n",
      "Epoch 8/10\n",
      "66/66 [==============================] - 1s 21ms/step - loss: 0.6932 - accuracy: 0.4933 - val_loss: 0.6932 - val_accuracy: 0.4989\n",
      "Epoch 9/10\n",
      "66/66 [==============================] - 1s 21ms/step - loss: 0.6931 - accuracy: 0.5068 - val_loss: 0.6932 - val_accuracy: 0.4989\n",
      "Epoch 10/10\n",
      "66/66 [==============================] - 1s 20ms/step - loss: 0.6935 - accuracy: 0.4819 - val_loss: 0.6932 - val_accuracy: 0.4989\n",
      "INFO:tensorflow:Assets written to: CNNmut.model\\assets\n",
      "[[32, 2, 0.0001, 0.5, 3, 0, 256], [128, 7, 0.0001, 0.4, 2, 1, 512], [128, 3, 0.001, 0.5, 2, 0, 128], [128, 7, 0.0001, 0.4, 6, 0, 256], [32, 2, 0.0001, 0.5, 5, 0, 512], [128, 7, 0.001, 0.4, 3, 0, 256], [128, 7, 0.0001, 0.4, 5, 1, 128], [128, 7, 0.0001, 0.4, 3, 0, 256], [128, 7, 0.001, 0.4, 5, 0, 512], [32, 2, 0.0001, 0.5, 3, 0, 256]]\n",
      "[0.1818740523075574, 0.18325979003863033, 0.19458220349908323, 0.19960692453404252, 0.20218035162080197, 0.23712504260696382, 0.23767371922823516, 0.24602531047783516, 0.2505327541528572, 0.1818740523075574]\n",
      "Generasi Ke  7\n",
      "Parent 1 dan 2  [128, 7, 0.0001, 0.4, 6, 0, 256] [32, 2, 0.0001, 0.5, 5, 0, 512]\n",
      "Child 1 dan 2 [128, 7, 0.0001, 0.4, 5, 0, 512] [32, 2, 0.0001, 0.5, 6, 0, 256]\n",
      "Mutasi 1 dan 2 [128, 7, 0.0001, 0.4, 5, 0, 512] [32, 2, 0.0001, 0.5, 6, 0, 256]\n",
      "Epoch 1/10\n"
     ]
    },
    {
     "name": "stderr",
     "output_type": "stream",
     "text": [
      "D:\\ProgramData\\Anaconda3\\lib\\site-packages\\tensorflow\\python\\client\\session.py:1761: UserWarning: An interactive session is already active. This can cause out-of-memory errors in some cases. You must explicitly call `InteractiveSession.close()` to release resources held by the other session(s).\n",
      "  warnings.warn('An interactive session is already active. This can '\n"
     ]
    },
    {
     "name": "stdout",
     "output_type": "stream",
     "text": [
      "66/66 [==============================] - 2s 23ms/step - loss: 0.6952 - accuracy: 0.5256 - val_loss: 0.6909 - val_accuracy: 0.4989\n",
      "Epoch 2/10\n",
      "66/66 [==============================] - 1s 21ms/step - loss: 0.6837 - accuracy: 0.5887 - val_loss: 0.6147 - val_accuracy: 0.6823\n",
      "Epoch 3/10\n",
      "66/66 [==============================] - 1s 21ms/step - loss: 0.6297 - accuracy: 0.6756 - val_loss: 0.5799 - val_accuracy: 0.6913\n",
      "Epoch 4/10\n",
      "66/66 [==============================] - 1s 21ms/step - loss: 0.5566 - accuracy: 0.7209 - val_loss: 0.5229 - val_accuracy: 0.7606\n",
      "Epoch 5/10\n",
      "66/66 [==============================] - 1s 21ms/step - loss: 0.5070 - accuracy: 0.7689 - val_loss: 0.4742 - val_accuracy: 0.7830\n",
      "Epoch 6/10\n",
      "66/66 [==============================] - 1s 21ms/step - loss: 0.5075 - accuracy: 0.7594 - val_loss: 0.4247 - val_accuracy: 0.8345\n",
      "Epoch 7/10\n",
      "66/66 [==============================] - 2s 24ms/step - loss: 0.4357 - accuracy: 0.7999 - val_loss: 0.3909 - val_accuracy: 0.8412\n",
      "Epoch 8/10\n",
      "66/66 [==============================] - 2s 24ms/step - loss: 0.3520 - accuracy: 0.8692 - val_loss: 0.3361 - val_accuracy: 0.8412\n",
      "Epoch 9/10\n",
      "66/66 [==============================] - 2s 23ms/step - loss: 0.3119 - accuracy: 0.8785 - val_loss: 0.3133 - val_accuracy: 0.8792\n",
      "Epoch 10/10\n",
      "66/66 [==============================] - 1s 22ms/step - loss: 0.3026 - accuracy: 0.8609 - val_loss: 0.3566 - val_accuracy: 0.8523\n",
      "INFO:tensorflow:Assets written to: CNN.model\\assets\n"
     ]
    },
    {
     "name": "stderr",
     "output_type": "stream",
     "text": [
      "D:\\ProgramData\\Anaconda3\\lib\\site-packages\\tensorflow\\python\\client\\session.py:1761: UserWarning: An interactive session is already active. This can cause out-of-memory errors in some cases. You must explicitly call `InteractiveSession.close()` to release resources held by the other session(s).\n",
      "  warnings.warn('An interactive session is already active. This can '\n"
     ]
    },
    {
     "name": "stdout",
     "output_type": "stream",
     "text": [
      "Epoch 1/10\n",
      "66/66 [==============================] - 1s 9ms/step - loss: 0.6930 - accuracy: 0.4986 - val_loss: 0.6928 - val_accuracy: 0.4989\n",
      "Epoch 2/10\n",
      "66/66 [==============================] - 0s 6ms/step - loss: 0.6923 - accuracy: 0.5347 - val_loss: 0.6919 - val_accuracy: 0.4966\n",
      "Epoch 3/10\n",
      "66/66 [==============================] - 0s 6ms/step - loss: 0.6921 - accuracy: 0.5106 - val_loss: 0.6913 - val_accuracy: 0.4989\n",
      "Epoch 4/10\n",
      "66/66 [==============================] - 0s 6ms/step - loss: 0.6923 - accuracy: 0.4979 - val_loss: 0.6887 - val_accuracy: 0.5078\n",
      "Epoch 5/10\n",
      "66/66 [==============================] - 0s 6ms/step - loss: 0.6879 - accuracy: 0.5976 - val_loss: 0.6843 - val_accuracy: 0.7136\n",
      "Epoch 6/10\n",
      "66/66 [==============================] - 0s 6ms/step - loss: 0.6822 - accuracy: 0.6697 - val_loss: 0.6767 - val_accuracy: 0.5928\n",
      "Epoch 7/10\n",
      "66/66 [==============================] - 0s 6ms/step - loss: 0.6744 - accuracy: 0.6339 - val_loss: 0.6599 - val_accuracy: 0.6935\n",
      "Epoch 8/10\n",
      "66/66 [==============================] - 0s 6ms/step - loss: 0.6533 - accuracy: 0.6626 - val_loss: 0.6374 - val_accuracy: 0.6823\n",
      "Epoch 9/10\n",
      "66/66 [==============================] - 0s 6ms/step - loss: 0.6306 - accuracy: 0.6808 - val_loss: 0.6108 - val_accuracy: 0.7047\n",
      "Epoch 10/10\n",
      "66/66 [==============================] - 0s 6ms/step - loss: 0.6040 - accuracy: 0.6963 - val_loss: 0.5817 - val_accuracy: 0.7271\n",
      "INFO:tensorflow:Assets written to: CNN.model\\assets\n",
      "[[32, 2, 0.0001, 0.5, 3, 0, 256], [32, 2, 0.0001, 0.5, 3, 0, 256], [128, 7, 0.0001, 0.4, 2, 1, 512], [128, 3, 0.001, 0.5, 2, 0, 128], [128, 7, 0.0001, 0.4, 6, 0, 256], [32, 2, 0.0001, 0.5, 5, 0, 512], [128, 7, 0.001, 0.4, 3, 0, 256], [128, 7, 0.0001, 0.4, 5, 1, 128], [32, 2, 0.0001, 0.5, 6, 0, 256], [128, 7, 0.0001, 0.4, 5, 0, 512]]\n",
      "[0.1818740523075574, 0.1818740523075574, 0.18325979003863033, 0.19458220349908323, 0.19960692453404252, 0.20218035162080197, 0.23712504260696382, 0.23767371922823516, 0.13972707441894341, 0.18639830653631181]\n",
      "Generasi Ke  8\n",
      "Parent 1 dan 2  [128, 3, 0.001, 0.5, 2, 0, 128] [128, 7, 0.0001, 0.4, 6, 0, 256]\n",
      "Child 1 dan 2 [128, 3, 0.001, 0.5, 6, 0, 256] [128, 7, 0.0001, 0.4, 2, 0, 128]\n",
      "Mutasi 1 dan 2 [128, 3, 0.001, 0.5, 6, 0, 256] [128, 7, 0.0001, 0.4, 2, 0, 128]\n",
      "Epoch 1/10\n"
     ]
    },
    {
     "name": "stderr",
     "output_type": "stream",
     "text": [
      "D:\\ProgramData\\Anaconda3\\lib\\site-packages\\tensorflow\\python\\client\\session.py:1761: UserWarning: An interactive session is already active. This can cause out-of-memory errors in some cases. You must explicitly call `InteractiveSession.close()` to release resources held by the other session(s).\n",
      "  warnings.warn('An interactive session is already active. This can '\n"
     ]
    },
    {
     "name": "stdout",
     "output_type": "stream",
     "text": [
      "66/66 [==============================] - 6s 55ms/step - loss: 0.6945 - accuracy: 0.5108 - val_loss: 0.6933 - val_accuracy: 0.4989\n",
      "Epoch 2/10\n",
      "66/66 [==============================] - 1s 14ms/step - loss: 0.6925 - accuracy: 0.5347 - val_loss: 0.6933 - val_accuracy: 0.4989\n",
      "Epoch 3/10\n",
      "66/66 [==============================] - 1s 14ms/step - loss: 0.6937 - accuracy: 0.4914 - val_loss: 0.6933 - val_accuracy: 0.4989\n",
      "Epoch 4/10\n",
      "66/66 [==============================] - 1s 14ms/step - loss: 0.6944 - accuracy: 0.4763 - val_loss: 0.6936 - val_accuracy: 0.4989\n",
      "Epoch 5/10\n",
      "66/66 [==============================] - 1s 14ms/step - loss: 0.6940 - accuracy: 0.4996 - val_loss: 0.6933 - val_accuracy: 0.4989\n",
      "Epoch 6/10\n",
      "66/66 [==============================] - 1s 14ms/step - loss: 0.6933 - accuracy: 0.5015 - val_loss: 0.6932 - val_accuracy: 0.4989\n",
      "Epoch 7/10\n",
      "66/66 [==============================] - 1s 14ms/step - loss: 0.6934 - accuracy: 0.4870 - val_loss: 0.6932 - val_accuracy: 0.4989\n",
      "Epoch 8/10\n",
      "66/66 [==============================] - 1s 15ms/step - loss: 0.6935 - accuracy: 0.4756 - val_loss: 0.6932 - val_accuracy: 0.4989\n",
      "Epoch 9/10\n",
      "66/66 [==============================] - 1s 14ms/step - loss: 0.6927 - accuracy: 0.5145 - val_loss: 0.6932 - val_accuracy: 0.4989\n",
      "Epoch 10/10\n",
      "66/66 [==============================] - 1s 14ms/step - loss: 0.6936 - accuracy: 0.4805 - val_loss: 0.6932 - val_accuracy: 0.4989\n",
      "INFO:tensorflow:Assets written to: CNN.model\\assets\n"
     ]
    },
    {
     "name": "stderr",
     "output_type": "stream",
     "text": [
      "D:\\ProgramData\\Anaconda3\\lib\\site-packages\\tensorflow\\python\\client\\session.py:1761: UserWarning: An interactive session is already active. This can cause out-of-memory errors in some cases. You must explicitly call `InteractiveSession.close()` to release resources held by the other session(s).\n",
      "  warnings.warn('An interactive session is already active. This can '\n"
     ]
    },
    {
     "name": "stdout",
     "output_type": "stream",
     "text": [
      "Epoch 1/10\n",
      "66/66 [==============================] - 2s 21ms/step - loss: 0.6989 - accuracy: 0.5344 - val_loss: 0.6768 - val_accuracy: 0.4966\n",
      "Epoch 2/10\n",
      "66/66 [==============================] - 1s 19ms/step - loss: 0.6590 - accuracy: 0.6097 - val_loss: 0.5696 - val_accuracy: 0.6935\n",
      "Epoch 3/10\n",
      "66/66 [==============================] - 1s 18ms/step - loss: 0.5782 - accuracy: 0.7096 - val_loss: 0.5651 - val_accuracy: 0.6957\n",
      "Epoch 4/10\n",
      "66/66 [==============================] - 1s 18ms/step - loss: 0.5132 - accuracy: 0.7692 - val_loss: 0.4203 - val_accuracy: 0.8322\n",
      "Epoch 5/10\n",
      "66/66 [==============================] - 1s 19ms/step - loss: 0.4309 - accuracy: 0.8232 - val_loss: 0.4488 - val_accuracy: 0.7808\n",
      "Epoch 6/10\n",
      "66/66 [==============================] - 1s 18ms/step - loss: 0.4213 - accuracy: 0.7934 - val_loss: 0.3272 - val_accuracy: 0.8702\n",
      "Epoch 7/10\n",
      "66/66 [==============================] - 1s 18ms/step - loss: 0.3640 - accuracy: 0.8534 - val_loss: 0.3167 - val_accuracy: 0.8792\n",
      "Epoch 8/10\n",
      "66/66 [==============================] - 1s 18ms/step - loss: 0.3006 - accuracy: 0.8749 - val_loss: 0.3663 - val_accuracy: 0.8479\n",
      "Epoch 9/10\n",
      "66/66 [==============================] - 1s 19ms/step - loss: 0.2964 - accuracy: 0.8849 - val_loss: 0.2751 - val_accuracy: 0.9038ss: 0.2953 - accuracy\n",
      "Epoch 10/10\n",
      "66/66 [==============================] - 1s 18ms/step - loss: 0.2618 - accuracy: 0.9102 - val_loss: 0.2660 - val_accuracy: 0.9128\n",
      "INFO:tensorflow:Assets written to: CNN.model\\assets\n",
      "[[32, 2, 0.0001, 0.5, 6, 0, 256], [32, 2, 0.0001, 0.5, 3, 0, 256], [32, 2, 0.0001, 0.5, 3, 0, 256], [128, 7, 0.0001, 0.4, 2, 1, 512], [128, 7, 0.0001, 0.4, 5, 0, 512], [128, 3, 0.001, 0.5, 2, 0, 128], [128, 7, 0.0001, 0.4, 6, 0, 256], [32, 2, 0.0001, 0.5, 5, 0, 512], [128, 7, 0.0001, 0.4, 2, 0, 128], [128, 3, 0.001, 0.5, 6, 0, 256]]\n",
      "[0.13972707441894341, 0.1818740523075574, 0.1818740523075574, 0.18325979003863033, 0.18639830653631181, 0.19458220349908323, 0.19960692453404252, 0.20218035162080197, 0.17851338845164133, 0.2500302137948183]\n",
      "Generasi Ke  9\n",
      "Parent 1 dan 2  [128, 7, 0.0001, 0.4, 2, 1, 512] [128, 7, 0.0001, 0.4, 5, 0, 512]\n",
      "Child 1 dan 2 [128, 7, 0.0001, 0.4, 5, 0, 512] [128, 7, 0.0001, 0.4, 2, 1, 512]\n",
      "Mutasi 1 dan 2 [128, 7, 0.0001, 0.4, 5, 0, 512] [128, 7, 0.0001, 0.4, 2, 1, 512]\n",
      "Epoch 1/10\n"
     ]
    },
    {
     "name": "stderr",
     "output_type": "stream",
     "text": [
      "D:\\ProgramData\\Anaconda3\\lib\\site-packages\\tensorflow\\python\\client\\session.py:1761: UserWarning: An interactive session is already active. This can cause out-of-memory errors in some cases. You must explicitly call `InteractiveSession.close()` to release resources held by the other session(s).\n",
      "  warnings.warn('An interactive session is already active. This can '\n"
     ]
    },
    {
     "name": "stdout",
     "output_type": "stream",
     "text": [
      "66/66 [==============================] - 2s 23ms/step - loss: 0.6921 - accuracy: 0.5703 - val_loss: 0.6687 - val_accuracy: 0.6443\n",
      "Epoch 2/10\n",
      "66/66 [==============================] - 1s 21ms/step - loss: 0.6491 - accuracy: 0.6255 - val_loss: 0.5356 - val_accuracy: 0.7248\n",
      "Epoch 3/10\n",
      "66/66 [==============================] - 1s 20ms/step - loss: 0.5512 - accuracy: 0.7514 - val_loss: 0.5848 - val_accuracy: 0.6711\n",
      "Epoch 4/10\n",
      "66/66 [==============================] - 1s 21ms/step - loss: 0.5104 - accuracy: 0.7724 - val_loss: 0.4625 - val_accuracy: 0.8143\n",
      "Epoch 5/10\n",
      "66/66 [==============================] - 1s 21ms/step - loss: 0.4476 - accuracy: 0.8051 - val_loss: 0.4393 - val_accuracy: 0.7942\n",
      "Epoch 6/10\n",
      "66/66 [==============================] - 1s 21ms/step - loss: 0.4286 - accuracy: 0.8056 - val_loss: 0.3429 - val_accuracy: 0.8725\n",
      "Epoch 7/10\n",
      "66/66 [==============================] - 1s 21ms/step - loss: 0.3594 - accuracy: 0.8651 - val_loss: 0.3443 - val_accuracy: 0.8568\n",
      "Epoch 8/10\n",
      "66/66 [==============================] - 1s 21ms/step - loss: 0.3171 - accuracy: 0.8684 - val_loss: 0.3661 - val_accuracy: 0.8300\n",
      "Epoch 9/10\n",
      "66/66 [==============================] - 1s 20ms/step - loss: 0.2767 - accuracy: 0.8921 - val_loss: 0.2784 - val_accuracy: 0.9105\n",
      "Epoch 10/10\n",
      "66/66 [==============================] - 1s 21ms/step - loss: 0.2443 - accuracy: 0.9043 - val_loss: 0.3678 - val_accuracy: 0.8412\n",
      "INFO:tensorflow:Assets written to: CNNmut.model\\assets\n",
      "[[32, 2, 0.0001, 0.5, 6, 0, 256], [128, 7, 0.0001, 0.4, 2, 0, 128], [32, 2, 0.0001, 0.5, 3, 0, 256], [32, 2, 0.0001, 0.5, 3, 0, 256], [128, 7, 0.0001, 0.4, 2, 1, 512], [128, 7, 0.0001, 0.4, 5, 0, 512], [128, 3, 0.001, 0.5, 2, 0, 128], [128, 7, 0.0001, 0.4, 6, 0, 256], [128, 7, 0.0001, 0.4, 2, 1, 512], [128, 7, 0.0001, 0.4, 5, 0, 512]]\n",
      "[0.13972707441894341, 0.17851338845164133, 0.1818740523075574, 0.1818740523075574, 0.18325979003863033, 0.18639830653631181, 0.19458220349908323, 0.19960692453404252, 0.17429957321373526, 0.18639830653631181]\n",
      "Generasi Ke  10\n",
      "Parent 1 dan 2  [32, 2, 0.0001, 0.5, 3, 0, 256] [128, 7, 0.0001, 0.4, 2, 1, 512]\n",
      "Child 1 dan 2 [32, 2, 0.0001, 0.5, 2, 1, 512] [128, 7, 0.0001, 0.4, 3, 0, 256]\n",
      "Mutasi 1 dan 2 [32, 2, 0.0001, 0.5, 2, 1, 512] [128, 7, 0.0001, 0.4, 3, 0, 256]\n",
      "Epoch 1/10\n"
     ]
    },
    {
     "name": "stderr",
     "output_type": "stream",
     "text": [
      "D:\\ProgramData\\Anaconda3\\lib\\site-packages\\tensorflow\\python\\client\\session.py:1761: UserWarning: An interactive session is already active. This can cause out-of-memory errors in some cases. You must explicitly call `InteractiveSession.close()` to release resources held by the other session(s).\n",
      "  warnings.warn('An interactive session is already active. This can '\n"
     ]
    },
    {
     "name": "stdout",
     "output_type": "stream",
     "text": [
      "66/66 [==============================] - 1s 8ms/step - loss: 0.7060 - accuracy: 0.5310 - val_loss: 0.6610 - val_accuracy: 0.7383\n",
      "Epoch 2/10\n",
      "66/66 [==============================] - 0s 6ms/step - loss: 0.6598 - accuracy: 0.6353 - val_loss: 0.6234 - val_accuracy: 0.7562\n",
      "Epoch 3/10\n",
      "66/66 [==============================] - 0s 6ms/step - loss: 0.6304 - accuracy: 0.6597 - val_loss: 0.6044 - val_accuracy: 0.6331\n",
      "Epoch 4/10\n",
      "66/66 [==============================] - 0s 6ms/step - loss: 0.6107 - accuracy: 0.6708 - val_loss: 0.5442 - val_accuracy: 0.7584\n",
      "Epoch 5/10\n",
      "66/66 [==============================] - 0s 6ms/step - loss: 0.5645 - accuracy: 0.7397 - val_loss: 0.5288 - val_accuracy: 0.7338\n",
      "Epoch 6/10\n",
      "66/66 [==============================] - ETA: 0s - loss: 0.5087 - accuracy: 0.78 - 0s 6ms/step - loss: 0.5089 - accuracy: 0.7800 - val_loss: 0.4975 - val_accuracy: 0.7584\n",
      "Epoch 7/10\n",
      "66/66 [==============================] - 0s 6ms/step - loss: 0.4837 - accuracy: 0.7759 - val_loss: 0.4450 - val_accuracy: 0.8210\n",
      "Epoch 8/10\n",
      "66/66 [==============================] - 0s 6ms/step - loss: 0.4565 - accuracy: 0.8107 - val_loss: 0.4320 - val_accuracy: 0.8121\n",
      "Epoch 9/10\n",
      "66/66 [==============================] - 0s 6ms/step - loss: 0.4287 - accuracy: 0.8463 - val_loss: 0.3696 - val_accuracy: 0.8770\n",
      "Epoch 10/10\n",
      "66/66 [==============================] - 0s 6ms/step - loss: 0.3726 - accuracy: 0.8803 - val_loss: 0.3503 - val_accuracy: 0.8904\n",
      "INFO:tensorflow:Assets written to: CNNmut.model\\assets\n",
      "[[32, 2, 0.0001, 0.5, 6, 0, 256], [128, 7, 0.0001, 0.4, 2, 1, 512], [128, 7, 0.0001, 0.4, 2, 0, 128], [32, 2, 0.0001, 0.5, 3, 0, 256], [32, 2, 0.0001, 0.5, 3, 0, 256], [128, 7, 0.0001, 0.4, 2, 1, 512], [128, 7, 0.0001, 0.4, 5, 0, 512], [128, 7, 0.0001, 0.4, 5, 0, 512], [128, 7, 0.0001, 0.4, 3, 0, 256], [32, 2, 0.0001, 0.5, 2, 1, 512]]\n",
      "[0.13972707441894341, 0.17429957321373526, 0.17851338845164133, 0.1818740523075574, 0.1818740523075574, 0.18325979003863033, 0.18639830653631181, 0.18639830653631181, 0.24602531047783516, 0.17712517485196846]\n",
      "Generasi Ke  11\n",
      "Parent 1 dan 2  [32, 2, 0.0001, 0.5, 3, 0, 256] [128, 7, 0.0001, 0.4, 2, 0, 128]\n",
      "Child 1 dan 2 [32, 2, 0.0001, 0.5, 2, 0, 128] [128, 7, 0.0001, 0.4, 3, 0, 256]\n",
      "Mutasi 1 dan 2 [32, 2, 0.0001, 0.5, 2, 0, 128] [128, 7, 0.0001, 0.4, 3, 0, 256]\n",
      "Epoch 1/10\n"
     ]
    },
    {
     "name": "stderr",
     "output_type": "stream",
     "text": [
      "D:\\ProgramData\\Anaconda3\\lib\\site-packages\\tensorflow\\python\\client\\session.py:1761: UserWarning: An interactive session is already active. This can cause out-of-memory errors in some cases. You must explicitly call `InteractiveSession.close()` to release resources held by the other session(s).\n",
      "  warnings.warn('An interactive session is already active. This can '\n"
     ]
    },
    {
     "name": "stdout",
     "output_type": "stream",
     "text": [
      "66/66 [==============================] - 1s 9ms/step - loss: 0.7080 - accuracy: 0.5245 - val_loss: 0.6786 - val_accuracy: 0.4989\n",
      "Epoch 2/10\n",
      "66/66 [==============================] - 0s 6ms/step - loss: 0.6686 - accuracy: 0.5821 - val_loss: 0.6459 - val_accuracy: 0.7897\n",
      "Epoch 3/10\n",
      "66/66 [==============================] - 0s 6ms/step - loss: 0.6389 - accuracy: 0.7048 - val_loss: 0.6416 - val_accuracy: 0.5257\n",
      "Epoch 4/10\n",
      "66/66 [==============================] - 0s 5ms/step - loss: 0.6288 - accuracy: 0.6643 - val_loss: 0.5713 - val_accuracy: 0.7897\n",
      "Epoch 5/10\n",
      "66/66 [==============================] - 0s 6ms/step - loss: 0.5703 - accuracy: 0.7547 - val_loss: 0.5185 - val_accuracy: 0.8322\n",
      "Epoch 6/10\n",
      "66/66 [==============================] - 0s 6ms/step - loss: 0.5232 - accuracy: 0.7607 - val_loss: 0.4771 - val_accuracy: 0.8322\n",
      "Epoch 7/10\n",
      "66/66 [==============================] - 0s 5ms/step - loss: 0.4961 - accuracy: 0.7996 - val_loss: 0.4341 - val_accuracy: 0.8456\n",
      "Epoch 8/10\n",
      "66/66 [==============================] - 0s 6ms/step - loss: 0.4468 - accuracy: 0.8329 - val_loss: 0.4398 - val_accuracy: 0.8210\n",
      "Epoch 9/10\n",
      "66/66 [==============================] - 0s 6ms/step - loss: 0.4172 - accuracy: 0.8415 - val_loss: 0.3822 - val_accuracy: 0.8591\n",
      "Epoch 10/10\n",
      "66/66 [==============================] - 0s 6ms/step - loss: 0.3845 - accuracy: 0.8569 - val_loss: 0.3644 - val_accuracy: 0.8613\n",
      "INFO:tensorflow:Assets written to: CNNmut.model\\assets\n",
      "[[32, 2, 0.0001, 0.5, 6, 0, 256], [128, 7, 0.0001, 0.4, 2, 1, 512], [32, 2, 0.0001, 0.5, 2, 1, 512], [128, 7, 0.0001, 0.4, 2, 0, 128], [32, 2, 0.0001, 0.5, 3, 0, 256], [32, 2, 0.0001, 0.5, 3, 0, 256], [128, 7, 0.0001, 0.4, 2, 1, 512], [128, 7, 0.0001, 0.4, 5, 0, 512], [128, 7, 0.0001, 0.4, 3, 0, 256], [32, 2, 0.0001, 0.5, 2, 0, 128]]\n",
      "[0.13972707441894341, 0.17429957321373526, 0.17712517485196846, 0.17851338845164133, 0.1818740523075574, 0.1818740523075574, 0.18325979003863033, 0.18639830653631181, 0.24602531047783516, 0.16084123423785004]\n",
      "Generasi Ke  12\n",
      "Parent 1 dan 2  [128, 7, 0.0001, 0.4, 2, 0, 128] [32, 2, 0.0001, 0.5, 3, 0, 256]\n",
      "Child 1 dan 2 [128, 7, 0.0001, 0.4, 3, 0, 256] [32, 2, 0.0001, 0.5, 2, 0, 128]\n",
      "Mutasi 1 dan 2 [128, 7, 0.0001, 0.4, 3, 0, 256] [32, 2, 0.0001, 0.5, 2, 0, 128]\n",
      "Epoch 1/10\n"
     ]
    },
    {
     "name": "stderr",
     "output_type": "stream",
     "text": [
      "D:\\ProgramData\\Anaconda3\\lib\\site-packages\\tensorflow\\python\\client\\session.py:1761: UserWarning: An interactive session is already active. This can cause out-of-memory errors in some cases. You must explicitly call `InteractiveSession.close()` to release resources held by the other session(s).\n",
      "  warnings.warn('An interactive session is already active. This can '\n"
     ]
    },
    {
     "name": "stdout",
     "output_type": "stream",
     "text": [
      "66/66 [==============================] - 1s 8ms/step - loss: 0.7080 - accuracy: 0.5245 - val_loss: 0.6786 - val_accuracy: 0.4989\n",
      "Epoch 2/10\n",
      "66/66 [==============================] - 0s 6ms/step - loss: 0.6686 - accuracy: 0.5821 - val_loss: 0.6459 - val_accuracy: 0.7897\n",
      "Epoch 3/10\n",
      "66/66 [==============================] - 0s 6ms/step - loss: 0.6389 - accuracy: 0.7048 - val_loss: 0.6416 - val_accuracy: 0.5257\n",
      "Epoch 4/10\n",
      "66/66 [==============================] - 0s 5ms/step - loss: 0.6288 - accuracy: 0.6643 - val_loss: 0.5714 - val_accuracy: 0.7897\n",
      "Epoch 5/10\n",
      "66/66 [==============================] - 0s 5ms/step - loss: 0.5704 - accuracy: 0.7532 - val_loss: 0.5185 - val_accuracy: 0.8300\n",
      "Epoch 6/10\n",
      "66/66 [==============================] - 0s 6ms/step - loss: 0.5234 - accuracy: 0.7584 - val_loss: 0.4772 - val_accuracy: 0.8322\n",
      "Epoch 7/10\n",
      "66/66 [==============================] - 0s 6ms/step - loss: 0.4962 - accuracy: 0.8015 - val_loss: 0.4344 - val_accuracy: 0.8434\n",
      "Epoch 8/10\n",
      "66/66 [==============================] - 0s 5ms/step - loss: 0.4474 - accuracy: 0.8324 - val_loss: 0.4378 - val_accuracy: 0.8210\n",
      "Epoch 9/10\n",
      "66/66 [==============================] - 0s 5ms/step - loss: 0.4164 - accuracy: 0.8400 - val_loss: 0.3828 - val_accuracy: 0.8568\n",
      "Epoch 10/10\n",
      "66/66 [==============================] - 0s 5ms/step - loss: 0.3851 - accuracy: 0.8569 - val_loss: 0.3644 - val_accuracy: 0.8613\n",
      "INFO:tensorflow:Assets written to: CNNmut.model\\assets\n",
      "[[32, 2, 0.0001, 0.5, 6, 0, 256], [32, 2, 0.0001, 0.5, 2, 0, 128], [128, 7, 0.0001, 0.4, 2, 1, 512], [32, 2, 0.0001, 0.5, 2, 1, 512], [128, 7, 0.0001, 0.4, 2, 0, 128], [32, 2, 0.0001, 0.5, 3, 0, 256], [32, 2, 0.0001, 0.5, 3, 0, 256], [128, 7, 0.0001, 0.4, 2, 1, 512], [32, 2, 0.0001, 0.5, 2, 0, 128], [128, 7, 0.0001, 0.4, 3, 0, 256]]\n",
      "[0.13972707441894341, 0.16084123423785004, 0.17429957321373526, 0.17712517485196846, 0.17851338845164133, 0.1818740523075574, 0.1818740523075574, 0.18325979003863033, 0.1614830404229346, 0.24602531047783516]\n",
      "Generasi Ke  13\n",
      "Parent 1 dan 2  [32, 2, 0.0001, 0.5, 2, 1, 512] [128, 7, 0.0001, 0.4, 2, 0, 128]\n",
      "Child 1 dan 2 [32, 2, 0.0001, 0.5, 2, 0, 128] [128, 7, 0.0001, 0.4, 2, 1, 512]\n",
      "Mutasi 1 dan 2 [32, 2, 0.0001, 0.5, 2, 0, 128] [128, 7, 0.0001, 0.4, 2, 1, 512]\n",
      "Epoch 1/10\n"
     ]
    },
    {
     "name": "stderr",
     "output_type": "stream",
     "text": [
      "D:\\ProgramData\\Anaconda3\\lib\\site-packages\\tensorflow\\python\\client\\session.py:1761: UserWarning: An interactive session is already active. This can cause out-of-memory errors in some cases. You must explicitly call `InteractiveSession.close()` to release resources held by the other session(s).\n",
      "  warnings.warn('An interactive session is already active. This can '\n"
     ]
    },
    {
     "name": "stdout",
     "output_type": "stream",
     "text": [
      "66/66 [==============================] - 2s 23ms/step - loss: 0.6921 - accuracy: 0.5706 - val_loss: 0.6693 - val_accuracy: 0.7069\n",
      "Epoch 2/10\n",
      "66/66 [==============================] - 1s 21ms/step - loss: 0.6526 - accuracy: 0.6132 - val_loss: 0.5699 - val_accuracy: 0.6846\n",
      "Epoch 3/10\n",
      "66/66 [==============================] - 1s 20ms/step - loss: 0.5665 - accuracy: 0.7274 - val_loss: 0.5940 - val_accuracy: 0.6711\n",
      "Epoch 4/10\n",
      "66/66 [==============================] - 1s 20ms/step - loss: 0.5200 - accuracy: 0.7678 - val_loss: 0.4793 - val_accuracy: 0.7740\n",
      "Epoch 5/10\n",
      "66/66 [==============================] - 1s 21ms/step - loss: 0.4548 - accuracy: 0.7928 - val_loss: 0.4122 - val_accuracy: 0.8277\n",
      "Epoch 6/10\n",
      "66/66 [==============================] - 1s 21ms/step - loss: 0.4506 - accuracy: 0.7851 - val_loss: 0.3420 - val_accuracy: 0.8702\n",
      "Epoch 7/10\n",
      "66/66 [==============================] - 1s 21ms/step - loss: 0.3592 - accuracy: 0.8536 - val_loss: 0.3518 - val_accuracy: 0.8591\n",
      "Epoch 8/10\n",
      "66/66 [==============================] - 1s 21ms/step - loss: 0.3191 - accuracy: 0.8708 - val_loss: 0.3499 - val_accuracy: 0.8367\n",
      "Epoch 9/10\n",
      "66/66 [==============================] - 1s 21ms/step - loss: 0.2629 - accuracy: 0.8964 - val_loss: 0.2727 - val_accuracy: 0.9128\n",
      "Epoch 10/10\n",
      "66/66 [==============================] - 1s 21ms/step - loss: 0.2390 - accuracy: 0.9105 - val_loss: 0.3471 - val_accuracy: 0.8568\n",
      "INFO:tensorflow:Assets written to: CNNmut.model\\assets\n",
      "[[32, 2, 0.0001, 0.5, 6, 0, 256], [32, 2, 0.0001, 0.5, 2, 0, 128], [32, 2, 0.0001, 0.5, 2, 0, 128], [128, 7, 0.0001, 0.4, 2, 1, 512], [32, 2, 0.0001, 0.5, 2, 1, 512], [128, 7, 0.0001, 0.4, 2, 0, 128], [32, 2, 0.0001, 0.5, 3, 0, 256], [32, 2, 0.0001, 0.5, 3, 0, 256], [128, 7, 0.0001, 0.4, 2, 1, 512], [32, 2, 0.0001, 0.5, 2, 0, 128]]\n",
      "[0.13972707441894341, 0.16084123423785004, 0.1614830404229346, 0.17429957321373526, 0.17712517485196846, 0.17851338845164133, 0.1818740523075574, 0.1818740523075574, 0.1689742017993754, 0.1614830404229346]\n",
      "Generasi Ke  14\n",
      "Parent 1 dan 2  [128, 7, 0.0001, 0.4, 2, 1, 512] [32, 2, 0.0001, 0.5, 2, 1, 512]\n",
      "Child 1 dan 2 [128, 7, 0.0001, 0.4, 2, 1, 512] [32, 2, 0.0001, 0.5, 2, 1, 512]\n",
      "Mutasi 1 dan 2 [128, 7, 0.0001, 0.4, 2, 1, 512] [32, 2, 0.0001, 0.5, 2, 1, 512]\n",
      "Epoch 1/10\n"
     ]
    },
    {
     "name": "stderr",
     "output_type": "stream",
     "text": [
      "D:\\ProgramData\\Anaconda3\\lib\\site-packages\\tensorflow\\python\\client\\session.py:1761: UserWarning: An interactive session is already active. This can cause out-of-memory errors in some cases. You must explicitly call `InteractiveSession.close()` to release resources held by the other session(s).\n",
      "  warnings.warn('An interactive session is already active. This can '\n"
     ]
    },
    {
     "name": "stdout",
     "output_type": "stream",
     "text": [
      "66/66 [==============================] - 1s 8ms/step - loss: 0.7060 - accuracy: 0.5310 - val_loss: 0.6610 - val_accuracy: 0.7383\n",
      "Epoch 2/10\n",
      "66/66 [==============================] - 0s 6ms/step - loss: 0.6598 - accuracy: 0.6353 - val_loss: 0.6235 - val_accuracy: 0.7562\n",
      "Epoch 3/10\n",
      "66/66 [==============================] - 0s 6ms/step - loss: 0.6304 - accuracy: 0.6580 - val_loss: 0.6042 - val_accuracy: 0.6331\n",
      "Epoch 4/10\n",
      "66/66 [==============================] - 0s 6ms/step - loss: 0.6107 - accuracy: 0.6778 - val_loss: 0.5454 - val_accuracy: 0.7606\n",
      "Epoch 5/10\n",
      "66/66 [==============================] - 0s 6ms/step - loss: 0.5644 - accuracy: 0.7349 - val_loss: 0.5286 - val_accuracy: 0.7315\n",
      "Epoch 6/10\n",
      "66/66 [==============================] - ETA: 0s - loss: 0.5096 - accuracy: 0.7809 ETA: 0s - loss: 0.5083 - accuracy:  - 0s 6ms/step - loss: 0.5099 - accuracy: 0.7794 - val_loss: 0.4973 - val_accuracy: 0.7539\n",
      "Epoch 7/10\n",
      "66/66 [==============================] - 0s 6ms/step - loss: 0.4840 - accuracy: 0.7823 - val_loss: 0.4452 - val_accuracy: 0.8233\n",
      "Epoch 8/10\n",
      "66/66 [==============================] - 0s 6ms/step - loss: 0.4560 - accuracy: 0.8088 - val_loss: 0.4335 - val_accuracy: 0.8121\n",
      "Epoch 9/10\n",
      "66/66 [==============================] - 0s 6ms/step - loss: 0.4296 - accuracy: 0.8389 - val_loss: 0.3701 - val_accuracy: 0.8792\n",
      "Epoch 10/10\n",
      "66/66 [==============================] - 0s 6ms/step - loss: 0.3738 - accuracy: 0.8814 - val_loss: 0.3518 - val_accuracy: 0.8904\n",
      "INFO:tensorflow:Assets written to: CNNmut.model\\assets\n",
      "[[32, 2, 0.0001, 0.5, 6, 0, 256], [32, 2, 0.0001, 0.5, 2, 0, 128], [32, 2, 0.0001, 0.5, 2, 0, 128], [32, 2, 0.0001, 0.5, 2, 0, 128], [128, 7, 0.0001, 0.4, 2, 1, 512], [128, 7, 0.0001, 0.4, 2, 1, 512], [32, 2, 0.0001, 0.5, 2, 1, 512], [128, 7, 0.0001, 0.4, 2, 0, 128], [32, 2, 0.0001, 0.5, 2, 1, 512], [128, 7, 0.0001, 0.4, 2, 1, 512]]\n",
      "[0.13972707441894341, 0.16084123423785004, 0.1614830404229346, 0.1614830404229346, 0.1689742017993754, 0.17429957321373526, 0.17712517485196846, 0.17851338845164133, 0.17840710819141356, 0.1689742017993754]\n",
      "Generasi Ke  15\n",
      "Parent 1 dan 2  [32, 2, 0.0001, 0.5, 2, 0, 128] [128, 7, 0.0001, 0.4, 2, 1, 512]\n",
      "Child 1 dan 2 [32, 2, 0.0001, 0.5, 2, 1, 512] [128, 7, 0.0001, 0.4, 2, 0, 128]\n",
      "Mutasi 1 dan 2 [32, 2, 0.0001, 0.5, 2, 1, 512] [128, 7, 0.0001, 0.4, 2, 0, 128]\n",
      "Epoch 1/10\n"
     ]
    },
    {
     "name": "stderr",
     "output_type": "stream",
     "text": [
      "D:\\ProgramData\\Anaconda3\\lib\\site-packages\\tensorflow\\python\\client\\session.py:1761: UserWarning: An interactive session is already active. This can cause out-of-memory errors in some cases. You must explicitly call `InteractiveSession.close()` to release resources held by the other session(s).\n",
      "  warnings.warn('An interactive session is already active. This can '\n"
     ]
    },
    {
     "name": "stdout",
     "output_type": "stream",
     "text": [
      "66/66 [==============================] - 2s 21ms/step - loss: 0.6989 - accuracy: 0.5377 - val_loss: 0.6743 - val_accuracy: 0.5145\n",
      "Epoch 2/10\n",
      "66/66 [==============================] - 1s 18ms/step - loss: 0.6545 - accuracy: 0.6315 - val_loss: 0.5646 - val_accuracy: 0.7002\n",
      "Epoch 3/10\n",
      "66/66 [==============================] - 1s 18ms/step - loss: 0.5688 - accuracy: 0.7256 - val_loss: 0.5506 - val_accuracy: 0.7002\n",
      "Epoch 4/10\n",
      "66/66 [==============================] - 1s 19ms/step - loss: 0.5037 - accuracy: 0.7712 - val_loss: 0.4322 - val_accuracy: 0.8345\n",
      "Epoch 5/10\n",
      "66/66 [==============================] - 1s 18ms/step - loss: 0.4403 - accuracy: 0.8147 - val_loss: 0.4328 - val_accuracy: 0.7987\n",
      "Epoch 6/10\n",
      "66/66 [==============================] - 1s 18ms/step - loss: 0.4370 - accuracy: 0.7963 - val_loss: 0.3509 - val_accuracy: 0.8568\n",
      "Epoch 7/10\n",
      "66/66 [==============================] - 1s 18ms/step - loss: 0.3833 - accuracy: 0.8499 - val_loss: 0.3227 - val_accuracy: 0.8725\n",
      "Epoch 8/10\n",
      "66/66 [==============================] - 1s 18ms/step - loss: 0.3096 - accuracy: 0.8861 - val_loss: 0.3205 - val_accuracy: 0.8926\n",
      "Epoch 9/10\n",
      "66/66 [==============================] - 1s 18ms/step - loss: 0.3015 - accuracy: 0.8855 - val_loss: 0.2730 - val_accuracy: 0.9038\n",
      "Epoch 10/10\n",
      "66/66 [==============================] - 1s 18ms/step - loss: 0.2683 - accuracy: 0.8994 - val_loss: 0.2872 - val_accuracy: 0.8993\n",
      "INFO:tensorflow:Assets written to: CNNmut.model\\assets\n",
      "[[32, 2, 0.0001, 0.5, 6, 0, 256], [32, 2, 0.0001, 0.5, 2, 0, 128], [32, 2, 0.0001, 0.5, 2, 0, 128], [32, 2, 0.0001, 0.5, 2, 0, 128], [128, 7, 0.0001, 0.4, 2, 1, 512], [128, 7, 0.0001, 0.4, 2, 1, 512], [128, 7, 0.0001, 0.4, 2, 1, 512], [32, 2, 0.0001, 0.5, 2, 1, 512], [128, 7, 0.0001, 0.4, 2, 0, 128], [32, 2, 0.0001, 0.5, 2, 1, 512]]\n",
      "[0.13972707441894341, 0.16084123423785004, 0.1614830404229346, 0.1614830404229346, 0.1689742017993754, 0.1689742017993754, 0.17429957321373526, 0.17712517485196846, 0.19172268037056336, 0.17840710819141356]\n",
      "Generasi Ke  16\n",
      "Parent 1 dan 2  [32, 2, 0.0001, 0.5, 2, 0, 128] [128, 7, 0.0001, 0.4, 2, 1, 512]\n",
      "Child 1 dan 2 [32, 2, 0.0001, 0.5, 2, 1, 512] [128, 7, 0.0001, 0.4, 2, 0, 128]\n",
      "Mutasi 1 dan 2 [32, 2, 0.0001, 0.5, 2, 1, 512] [128, 7, 0.0001, 0.4, 2, 0, 128]\n",
      "Epoch 1/10\n"
     ]
    },
    {
     "name": "stderr",
     "output_type": "stream",
     "text": [
      "D:\\ProgramData\\Anaconda3\\lib\\site-packages\\tensorflow\\python\\client\\session.py:1761: UserWarning: An interactive session is already active. This can cause out-of-memory errors in some cases. You must explicitly call `InteractiveSession.close()` to release resources held by the other session(s).\n",
      "  warnings.warn('An interactive session is already active. This can '\n"
     ]
    },
    {
     "name": "stdout",
     "output_type": "stream",
     "text": [
      "66/66 [==============================] - 2s 21ms/step - loss: 0.6990 - accuracy: 0.5389 - val_loss: 0.6793 - val_accuracy: 0.5011\n",
      "Epoch 2/10\n",
      "66/66 [==============================] - 1s 18ms/step - loss: 0.6627 - accuracy: 0.6213 - val_loss: 0.5628 - val_accuracy: 0.7204\n",
      "Epoch 3/10\n",
      "66/66 [==============================] - 1s 18ms/step - loss: 0.5567 - accuracy: 0.7325 - val_loss: 0.5665 - val_accuracy: 0.6935\n",
      "Epoch 4/10\n",
      "66/66 [==============================] - 1s 19ms/step - loss: 0.5011 - accuracy: 0.7766 - val_loss: 0.4462 - val_accuracy: 0.8121\n",
      "Epoch 5/10\n",
      "66/66 [==============================] - 1s 18ms/step - loss: 0.4317 - accuracy: 0.8159 - val_loss: 0.4389 - val_accuracy: 0.7897\n",
      "Epoch 6/10\n",
      "66/66 [==============================] - 1s 18ms/step - loss: 0.3821 - accuracy: 0.8316 - val_loss: 0.3132 - val_accuracy: 0.8837 0s - loss: 0.400\n",
      "Epoch 7/10\n",
      "66/66 [==============================] - 1s 18ms/step - loss: 0.3580 - accuracy: 0.8549 - val_loss: 0.3093 - val_accuracy: 0.8949\n",
      "Epoch 8/10\n",
      "66/66 [==============================] - 1s 18ms/step - loss: 0.2999 - accuracy: 0.8865 - val_loss: 0.3460 - val_accuracy: 0.8546\n",
      "Epoch 9/10\n",
      "66/66 [==============================] - 1s 19ms/step - loss: 0.2927 - accuracy: 0.8824 - val_loss: 0.2760 - val_accuracy: 0.9016\n",
      "Epoch 10/10\n",
      "66/66 [==============================] - 1s 18ms/step - loss: 0.2503 - accuracy: 0.9063 - val_loss: 0.2886 - val_accuracy: 0.9060\n",
      "INFO:tensorflow:Assets written to: CNNmut.model\\assets\n",
      "[[32, 2, 0.0001, 0.5, 6, 0, 256], [32, 2, 0.0001, 0.5, 2, 0, 128], [32, 2, 0.0001, 0.5, 2, 0, 128], [32, 2, 0.0001, 0.5, 2, 0, 128], [128, 7, 0.0001, 0.4, 2, 1, 512], [128, 7, 0.0001, 0.4, 2, 1, 512], [128, 7, 0.0001, 0.4, 2, 1, 512], [32, 2, 0.0001, 0.5, 2, 1, 512], [128, 7, 0.0001, 0.4, 2, 0, 128], [32, 2, 0.0001, 0.5, 2, 1, 512]]\n",
      "[0.13972707441894341, 0.16084123423785004, 0.1614830404229346, 0.1614830404229346, 0.1689742017993754, 0.1689742017993754, 0.17429957321373526, 0.17712517485196846, 0.19150823929313548, 0.17840710819141356]\n",
      "Generasi Ke  17\n",
      "Parent 1 dan 2  [32, 2, 0.0001, 0.5, 2, 0, 128] [128, 7, 0.0001, 0.4, 2, 1, 512]\n",
      "Child 1 dan 2 [32, 2, 0.0001, 0.5, 2, 1, 512] [128, 7, 0.0001, 0.4, 2, 0, 128]\n",
      "Mutasi 1 dan 2 [32, 2, 0.0001, 0.5, 2, 1, 512] [128, 7, 0.0001, 0.4, 2, 0, 128]\n",
      "Epoch 1/10\n"
     ]
    },
    {
     "name": "stderr",
     "output_type": "stream",
     "text": [
      "D:\\ProgramData\\Anaconda3\\lib\\site-packages\\tensorflow\\python\\client\\session.py:1761: UserWarning: An interactive session is already active. This can cause out-of-memory errors in some cases. You must explicitly call `InteractiveSession.close()` to release resources held by the other session(s).\n",
      "  warnings.warn('An interactive session is already active. This can '\n"
     ]
    },
    {
     "name": "stdout",
     "output_type": "stream",
     "text": [
      "66/66 [==============================] - 2s 21ms/step - loss: 0.6990 - accuracy: 0.5342 - val_loss: 0.6784 - val_accuracy: 0.5101\n",
      "Epoch 2/10\n",
      "66/66 [==============================] - 1s 18ms/step - loss: 0.6593 - accuracy: 0.6081 - val_loss: 0.5758 - val_accuracy: 0.6667\n",
      "Epoch 3/10\n",
      "66/66 [==============================] - 1s 18ms/step - loss: 0.5501 - accuracy: 0.7489 - val_loss: 0.5365 - val_accuracy: 0.7136\n",
      "Epoch 4/10\n",
      "66/66 [==============================] - 1s 19ms/step - loss: 0.4907 - accuracy: 0.7960 - val_loss: 0.4520 - val_accuracy: 0.8210\n",
      "Epoch 5/10\n",
      "66/66 [==============================] - 1s 18ms/step - loss: 0.4393 - accuracy: 0.8071 - val_loss: 0.4465 - val_accuracy: 0.7852\n",
      "Epoch 6/10\n",
      "66/66 [==============================] - 1s 18ms/step - loss: 0.4032 - accuracy: 0.8188 - val_loss: 0.3396 - val_accuracy: 0.8658\n",
      "Epoch 7/10\n",
      "66/66 [==============================] - 1s 18ms/step - loss: 0.3737 - accuracy: 0.8364 - val_loss: 0.3208 - val_accuracy: 0.8881\n",
      "Epoch 8/10\n",
      "66/66 [==============================] - 1s 18ms/step - loss: 0.3036 - accuracy: 0.8765 - val_loss: 0.3382 - val_accuracy: 0.8658\n",
      "Epoch 9/10\n",
      "66/66 [==============================] - 1s 18ms/step - loss: 0.2854 - accuracy: 0.8923 - val_loss: 0.2751 - val_accuracy: 0.9060\n",
      "Epoch 10/10\n",
      "66/66 [==============================] - 1s 18ms/step - loss: 0.2506 - accuracy: 0.9129 - val_loss: 0.2686 - val_accuracy: 0.9083\n",
      "INFO:tensorflow:Assets written to: CNNmut.model\\assets\n",
      "[[32, 2, 0.0001, 0.5, 6, 0, 256], [32, 2, 0.0001, 0.5, 2, 0, 128], [32, 2, 0.0001, 0.5, 2, 0, 128], [32, 2, 0.0001, 0.5, 2, 0, 128], [128, 7, 0.0001, 0.4, 2, 1, 512], [128, 7, 0.0001, 0.4, 2, 1, 512], [128, 7, 0.0001, 0.4, 2, 1, 512], [32, 2, 0.0001, 0.5, 2, 1, 512], [128, 7, 0.0001, 0.4, 2, 0, 128], [32, 2, 0.0001, 0.5, 2, 1, 512]]\n",
      "[0.13972707441894341, 0.16084123423785004, 0.1614830404229346, 0.1614830404229346, 0.1689742017993754, 0.1689742017993754, 0.17429957321373526, 0.17712517485196846, 0.19206661717357773, 0.17840710819141356]\n",
      "Generasi Ke  18\n",
      "Parent 1 dan 2  [32, 2, 0.0001, 0.5, 2, 0, 128] [128, 7, 0.0001, 0.4, 2, 1, 512]\n",
      "Child 1 dan 2 [32, 2, 0.0001, 0.5, 2, 1, 512] [128, 7, 0.0001, 0.4, 2, 0, 128]\n",
      "Mutasi 1 dan 2 [32, 2, 0.0001, 0.5, 2, 1, 512] [128, 7, 0.0001, 0.4, 2, 0, 128]\n",
      "Epoch 1/10\n"
     ]
    },
    {
     "name": "stderr",
     "output_type": "stream",
     "text": [
      "D:\\ProgramData\\Anaconda3\\lib\\site-packages\\tensorflow\\python\\client\\session.py:1761: UserWarning: An interactive session is already active. This can cause out-of-memory errors in some cases. You must explicitly call `InteractiveSession.close()` to release resources held by the other session(s).\n",
      "  warnings.warn('An interactive session is already active. This can '\n"
     ]
    },
    {
     "name": "stdout",
     "output_type": "stream",
     "text": [
      "66/66 [==============================] - 2s 21ms/step - loss: 0.6991 - accuracy: 0.5304 - val_loss: 0.6802 - val_accuracy: 0.5011\n",
      "Epoch 2/10\n",
      "66/66 [==============================] - 1s 19ms/step - loss: 0.6647 - accuracy: 0.6076 - val_loss: 0.5842 - val_accuracy: 0.6711\n",
      "Epoch 3/10\n",
      "66/66 [==============================] - 1s 19ms/step - loss: 0.5752 - accuracy: 0.7145 - val_loss: 0.5162 - val_accuracy: 0.7248\n",
      "Epoch 4/10\n",
      "66/66 [==============================] - 1s 19ms/step - loss: 0.5004 - accuracy: 0.7692 - val_loss: 0.4542 - val_accuracy: 0.8322\n",
      "Epoch 5/10\n",
      "66/66 [==============================] - 1s 19ms/step - loss: 0.4540 - accuracy: 0.8162 - val_loss: 0.4244 - val_accuracy: 0.8188\n",
      "Epoch 6/10\n",
      "66/66 [==============================] - 1s 19ms/step - loss: 0.4404 - accuracy: 0.8064 - val_loss: 0.3474 - val_accuracy: 0.8568\n",
      "Epoch 7/10\n",
      "66/66 [==============================] - 1s 18ms/step - loss: 0.3835 - accuracy: 0.8374 - val_loss: 0.3278 - val_accuracy: 0.8770\n",
      "Epoch 8/10\n",
      "66/66 [==============================] - 1s 19ms/step - loss: 0.3065 - accuracy: 0.8818 - val_loss: 0.3210 - val_accuracy: 0.8859\n",
      "Epoch 9/10\n",
      "66/66 [==============================] - 1s 19ms/step - loss: 0.2951 - accuracy: 0.8847 - val_loss: 0.2804 - val_accuracy: 0.8971\n",
      "Epoch 10/10\n",
      "66/66 [==============================] - 1s 19ms/step - loss: 0.2659 - accuracy: 0.9095 - val_loss: 0.2914 - val_accuracy: 0.8971\n",
      "INFO:tensorflow:Assets written to: CNNmut.model\\assets\n",
      "[[32, 2, 0.0001, 0.5, 6, 0, 256], [32, 2, 0.0001, 0.5, 2, 0, 128], [32, 2, 0.0001, 0.5, 2, 0, 128], [32, 2, 0.0001, 0.5, 2, 0, 128], [128, 7, 0.0001, 0.4, 2, 1, 512], [128, 7, 0.0001, 0.4, 2, 1, 512], [128, 7, 0.0001, 0.4, 2, 1, 512], [32, 2, 0.0001, 0.5, 2, 1, 512], [128, 7, 0.0001, 0.4, 2, 0, 128], [32, 2, 0.0001, 0.5, 2, 1, 512]]\n",
      "[0.13972707441894341, 0.16084123423785004, 0.1614830404229346, 0.1614830404229346, 0.1689742017993754, 0.1689742017993754, 0.17429957321373526, 0.17712517485196846, 0.20257429565822485, 0.17840710819141356]\n",
      "Generasi Ke  19\n",
      "Parent 1 dan 2  [32, 2, 0.0001, 0.5, 2, 0, 128] [128, 7, 0.0001, 0.4, 2, 1, 512]\n",
      "Child 1 dan 2 [32, 2, 0.0001, 0.5, 2, 1, 512] [128, 7, 0.0001, 0.4, 2, 0, 128]\n",
      "Mutasi 1 dan 2 [32, 2, 0.0001, 0.5, 2, 1, 512] [128, 7, 0.0001, 0.4, 2, 0, 128]\n",
      "Epoch 1/10\n"
     ]
    },
    {
     "name": "stderr",
     "output_type": "stream",
     "text": [
      "D:\\ProgramData\\Anaconda3\\lib\\site-packages\\tensorflow\\python\\client\\session.py:1761: UserWarning: An interactive session is already active. This can cause out-of-memory errors in some cases. You must explicitly call `InteractiveSession.close()` to release resources held by the other session(s).\n",
      "  warnings.warn('An interactive session is already active. This can '\n"
     ]
    },
    {
     "name": "stdout",
     "output_type": "stream",
     "text": [
      "66/66 [==============================] - 2s 22ms/step - loss: 0.6988 - accuracy: 0.5383 - val_loss: 0.6791 - val_accuracy: 0.5772\n",
      "Epoch 2/10\n",
      "66/66 [==============================] - 1s 19ms/step - loss: 0.6646 - accuracy: 0.6187 - val_loss: 0.5921 - val_accuracy: 0.6532\n",
      "Epoch 3/10\n",
      "66/66 [==============================] - 1s 19ms/step - loss: 0.5876 - accuracy: 0.6847 - val_loss: 0.5199 - val_accuracy: 0.7293\n",
      "Epoch 4/10\n",
      "66/66 [==============================] - 1s 19ms/step - loss: 0.5127 - accuracy: 0.7705 - val_loss: 0.4410 - val_accuracy: 0.8345\n",
      "Epoch 5/10\n",
      "66/66 [==============================] - 1s 18ms/step - loss: 0.4413 - accuracy: 0.7952 - val_loss: 0.4388 - val_accuracy: 0.7919\n",
      "Epoch 6/10\n",
      "66/66 [==============================] - 1s 19ms/step - loss: 0.4300 - accuracy: 0.7925 - val_loss: 0.3426 - val_accuracy: 0.8613\n",
      "Epoch 7/10\n",
      "66/66 [==============================] - 1s 19ms/step - loss: 0.3817 - accuracy: 0.8471 - val_loss: 0.3314 - val_accuracy: 0.8725\n",
      "Epoch 8/10\n",
      "66/66 [==============================] - 1s 19ms/step - loss: 0.3200 - accuracy: 0.8769 - val_loss: 0.3597 - val_accuracy: 0.8546\n",
      "Epoch 9/10\n",
      "66/66 [==============================] - 1s 19ms/step - loss: 0.3204 - accuracy: 0.8797 - val_loss: 0.2837 - val_accuracy: 0.8993\n",
      "Epoch 10/10\n",
      "66/66 [==============================] - 1s 19ms/step - loss: 0.2785 - accuracy: 0.8941 - val_loss: 0.2865 - val_accuracy: 0.8971\n",
      "INFO:tensorflow:Assets written to: CNNmut.model\\assets\n",
      "[[32, 2, 0.0001, 0.5, 6, 0, 256], [32, 2, 0.0001, 0.5, 2, 0, 128], [32, 2, 0.0001, 0.5, 2, 0, 128], [32, 2, 0.0001, 0.5, 2, 0, 128], [128, 7, 0.0001, 0.4, 2, 1, 512], [128, 7, 0.0001, 0.4, 2, 1, 512], [128, 7, 0.0001, 0.4, 2, 1, 512], [32, 2, 0.0001, 0.5, 2, 1, 512], [128, 7, 0.0001, 0.4, 2, 0, 128], [32, 2, 0.0001, 0.5, 2, 1, 512]]\n",
      "[0.13972707441894341, 0.16084123423785004, 0.1614830404229346, 0.1614830404229346, 0.1689742017993754, 0.1689742017993754, 0.17429957321373526, 0.17712517485196846, 0.1800459929531085, 0.17840710819141356]\n",
      "Generasi Ke  20\n",
      "Parent 1 dan 2  [32, 2, 0.0001, 0.5, 2, 0, 128] [128, 7, 0.0001, 0.4, 2, 1, 512]\n",
      "Child 1 dan 2 [32, 2, 0.0001, 0.5, 2, 1, 512] [128, 7, 0.0001, 0.4, 2, 0, 128]\n",
      "Mutasi 1 dan 2 [32, 2, 0.0001, 0.5, 2, 1, 512] [128, 7, 0.0001, 0.4, 2, 0, 128]\n",
      "Epoch 1/10\n"
     ]
    },
    {
     "name": "stderr",
     "output_type": "stream",
     "text": [
      "D:\\ProgramData\\Anaconda3\\lib\\site-packages\\tensorflow\\python\\client\\session.py:1761: UserWarning: An interactive session is already active. This can cause out-of-memory errors in some cases. You must explicitly call `InteractiveSession.close()` to release resources held by the other session(s).\n",
      "  warnings.warn('An interactive session is already active. This can '\n"
     ]
    },
    {
     "name": "stdout",
     "output_type": "stream",
     "text": [
      "66/66 [==============================] - 2s 21ms/step - loss: 0.6990 - accuracy: 0.5326 - val_loss: 0.6757 - val_accuracy: 0.6130\n",
      "Epoch 2/10\n",
      "66/66 [==============================] - 1s 19ms/step - loss: 0.6617 - accuracy: 0.6459 - val_loss: 0.5770 - val_accuracy: 0.6667\n",
      "Epoch 3/10\n",
      "66/66 [==============================] - 1s 19ms/step - loss: 0.5767 - accuracy: 0.7080 - val_loss: 0.5242 - val_accuracy: 0.7226\n",
      "Epoch 4/10\n",
      "66/66 [==============================] - 1s 19ms/step - loss: 0.5095 - accuracy: 0.7609 - val_loss: 0.4541 - val_accuracy: 0.8076\n",
      "Epoch 5/10\n",
      "66/66 [==============================] - 1s 18ms/step - loss: 0.4471 - accuracy: 0.8204 - val_loss: 0.4223 - val_accuracy: 0.8054\n",
      "Epoch 6/10\n",
      "66/66 [==============================] - 1s 19ms/step - loss: 0.3997 - accuracy: 0.8110 - val_loss: 0.3272 - val_accuracy: 0.8770\n",
      "Epoch 7/10\n",
      "66/66 [==============================] - 1s 19ms/step - loss: 0.3578 - accuracy: 0.8488 - val_loss: 0.3114 - val_accuracy: 0.8859\n",
      "Epoch 8/10\n",
      "66/66 [==============================] - 1s 23ms/step - loss: 0.2994 - accuracy: 0.8836 - val_loss: 0.3251 - val_accuracy: 0.8814\n",
      "Epoch 9/10\n",
      "66/66 [==============================] - 1s 21ms/step - loss: 0.3040 - accuracy: 0.8782 - val_loss: 0.2752 - val_accuracy: 0.9038\n",
      "Epoch 10/10\n",
      "66/66 [==============================] - 1s 19ms/step - loss: 0.2466 - accuracy: 0.9116 - val_loss: 0.2693 - val_accuracy: 0.9150\n",
      "INFO:tensorflow:Assets written to: CNNmut.model\\assets\n",
      "[[32, 2, 0.0001, 0.5, 6, 0, 256], [32, 2, 0.0001, 0.5, 2, 0, 128], [32, 2, 0.0001, 0.5, 2, 0, 128], [32, 2, 0.0001, 0.5, 2, 0, 128], [128, 7, 0.0001, 0.4, 2, 1, 512], [128, 7, 0.0001, 0.4, 2, 1, 512], [128, 7, 0.0001, 0.4, 2, 1, 512], [32, 2, 0.0001, 0.5, 2, 1, 512], [128, 7, 0.0001, 0.4, 2, 0, 128], [32, 2, 0.0001, 0.5, 2, 1, 512]]\n",
      "[0.13972707441894341, 0.16084123423785004, 0.1614830404229346, 0.1614830404229346, 0.1689742017993754, 0.1689742017993754, 0.17429957321373526, 0.17712517485196846, 0.1944343143647383, 0.17840710819141356]\n"
     ]
    }
   ],
   "source": [
    "feat,besteverygen = featSelection.fit(Xtrain,ytrain)"
   ]
  },
  {
   "cell_type": "code",
   "execution_count": 6,
   "metadata": {},
   "outputs": [
    {
     "data": {
      "text/plain": [
       "[32, 2, 0.0001, 0.5, 6, 0, 256]"
      ]
     },
     "execution_count": 6,
     "metadata": {},
     "output_type": "execute_result"
    }
   ],
   "source": [
    "feat"
   ]
  },
  {
   "cell_type": "code",
   "execution_count": 7,
   "metadata": {},
   "outputs": [
    {
     "data": {
      "text/plain": [
       "['Generasi 0',\n",
       " [128, 3, 0.001, 0.5, 2, 0, 128],\n",
       " 0.19458220349908323,\n",
       " [128, 3, 0.001, 0.5, 2, 0, 128],\n",
       " 0.19458220349908323,\n",
       " [128, 7, 0.0001, 0.4, 2, 1, 512],\n",
       " 0.18325979003863033,\n",
       " [128, 7, 0.0001, 0.4, 2, 1, 512],\n",
       " 0.18325979003863033,\n",
       " [128, 7, 0.0001, 0.4, 2, 1, 512],\n",
       " 0.18325979003863033,\n",
       " [32, 2, 0.0001, 0.5, 3, 0, 256],\n",
       " 0.1818740523075574,\n",
       " [32, 2, 0.0001, 0.5, 3, 0, 256],\n",
       " 0.1818740523075574,\n",
       " [32, 2, 0.0001, 0.5, 6, 0, 256],\n",
       " 0.13972707441894341,\n",
       " [32, 2, 0.0001, 0.5, 6, 0, 256],\n",
       " 0.13972707441894341,\n",
       " [32, 2, 0.0001, 0.5, 6, 0, 256],\n",
       " 0.13972707441894341,\n",
       " [32, 2, 0.0001, 0.5, 6, 0, 256],\n",
       " 0.13972707441894341,\n",
       " [32, 2, 0.0001, 0.5, 6, 0, 256],\n",
       " 0.13972707441894341,\n",
       " [32, 2, 0.0001, 0.5, 6, 0, 256],\n",
       " 0.13972707441894341,\n",
       " [32, 2, 0.0001, 0.5, 6, 0, 256],\n",
       " 0.13972707441894341,\n",
       " [32, 2, 0.0001, 0.5, 6, 0, 256],\n",
       " 0.13972707441894341,\n",
       " [32, 2, 0.0001, 0.5, 6, 0, 256],\n",
       " 0.13972707441894341,\n",
       " [32, 2, 0.0001, 0.5, 6, 0, 256],\n",
       " 0.13972707441894341,\n",
       " [32, 2, 0.0001, 0.5, 6, 0, 256],\n",
       " 0.13972707441894341,\n",
       " [32, 2, 0.0001, 0.5, 6, 0, 256],\n",
       " 0.13972707441894341,\n",
       " [32, 2, 0.0001, 0.5, 6, 0, 256],\n",
       " 0.13972707441894341,\n",
       " [32, 2, 0.0001, 0.5, 6, 0, 256],\n",
       " 0.13972707441894341]"
      ]
     },
     "execution_count": 7,
     "metadata": {},
     "output_type": "execute_result"
    }
   ],
   "source": [
    "besteverygen"
   ]
  },
  {
   "cell_type": "markdown",
   "metadata": {},
   "source": [
    "# CNN"
   ]
  },
  {
   "cell_type": "code",
   "execution_count": 77,
   "metadata": {},
   "outputs": [
    {
     "name": "stderr",
     "output_type": "stream",
     "text": [
      "D:\\ProgramData\\Anaconda3\\lib\\site-packages\\tensorflow\\python\\client\\session.py:1761: UserWarning: An interactive session is already active. This can cause out-of-memory errors in some cases. You must explicitly call `InteractiveSession.close()` to release resources held by the other session(s).\n",
      "  warnings.warn('An interactive session is already active. This can '\n"
     ]
    },
    {
     "name": "stdout",
     "output_type": "stream",
     "text": [
      "Epoch 1/10\n",
      "66/66 [==============================] - 1s 8ms/step - loss: 0.6930 - accuracy: 0.4986 - val_loss: 0.6928 - val_accuracy: 0.4989\n",
      "Epoch 2/10\n",
      "66/66 [==============================] - 0s 5ms/step - loss: 0.6923 - accuracy: 0.5350 - val_loss: 0.6919 - val_accuracy: 0.4877\n",
      "Epoch 3/10\n",
      "66/66 [==============================] - 0s 6ms/step - loss: 0.6921 - accuracy: 0.5095 - val_loss: 0.6914 - val_accuracy: 0.4989\n",
      "Epoch 4/10\n",
      "66/66 [==============================] - 0s 5ms/step - loss: 0.6925 - accuracy: 0.4918 - val_loss: 0.6890 - val_accuracy: 0.5034\n",
      "Epoch 5/10\n",
      "66/66 [==============================] - 0s 5ms/step - loss: 0.6882 - accuracy: 0.5908 - val_loss: 0.6851 - val_accuracy: 0.7047\n",
      "Epoch 6/10\n",
      "66/66 [==============================] - 0s 6ms/step - loss: 0.6833 - accuracy: 0.6601 - val_loss: 0.6788 - val_accuracy: 0.5817\n",
      "Epoch 7/10\n",
      "66/66 [==============================] - 0s 6ms/step - loss: 0.6768 - accuracy: 0.6486 - val_loss: 0.6646 - val_accuracy: 0.6443\n",
      "Epoch 8/10\n",
      "66/66 [==============================] - 0s 5ms/step - loss: 0.6577 - accuracy: 0.6763 - val_loss: 0.6425 - val_accuracy: 0.6868\n",
      "Epoch 9/10\n",
      "66/66 [==============================] - 0s 6ms/step - loss: 0.6356 - accuracy: 0.6823 - val_loss: 0.6161 - val_accuracy: 0.6957\n",
      "Epoch 10/10\n",
      "66/66 [==============================] - 0s 7ms/step - loss: 0.6077 - accuracy: 0.7011 - val_loss: 0.5821 - val_accuracy: 0.7248\n",
      "INFO:tensorflow:Assets written to: CNNP1.model\\assets\n"
     ]
    }
   ],
   "source": [
    "            pop = feat\n",
    "            f = pop[0]\n",
    "            k = pop[1]\n",
    "            learning = pop[2]\n",
    "            dropout = pop[3]\n",
    "            layer = pop[4]\n",
    "            pool = pop[5]\n",
    "            node = pop[6]\n",
    "            \n",
    "            model = Sequential()\n",
    "            gpu_options = tf.compat.v1.GPUOptions(per_process_gpu_memory_fraction=0.050)\n",
    "\n",
    "            config = ConfigProto()\n",
    "            config.gpu_options.per_process_gpu_memory_fraction = 0.050\n",
    "            session = InteractiveSession(config=config)\n",
    "\n",
    "            seed(0)\n",
    "            tf.random.set_seed(0)\n",
    "            if (pool == 0) :\n",
    "                model.add(Conv2D(f, (k, k), input_shape=Xtrain.shape[1:]))\n",
    "                model.add(Activation('relu'))\n",
    "                model.add(MaxPooling2D(pool_size=(2, 2)))\n",
    "\n",
    "                for i in range(layer-1):\n",
    "                    model.add(Conv2D(f, (k,k),padding='same'))\n",
    "                    model.add(Activation('relu'))\n",
    "                    model.add(MaxPooling2D(pool_size=(2, 2)))\n",
    "\n",
    "                model.add(Flatten())\n",
    "                \n",
    "                model.add(Dense(node))\n",
    "                model.add(Activation('relu'))\n",
    "                model.add(Dropout(dropout))\n",
    "\n",
    "                model.add(Dense(1))\n",
    "                model.add(Activation('sigmoid'))\n",
    "\n",
    "                model.compile(loss='binary_crossentropy',optimizer=keras.optimizers.Adam(learning_rate=learning),metrics=['accuracy'])\n",
    "            \n",
    "                model1 = model.fit(Xtrain, ytrain ,batch_size=16,epochs=10,validation_split=0.3)\n",
    "                model.save('CNNP1.model')\n",
    "\n",
    "            else :\n",
    "                model.add(Conv2D(f,(k,k), input_shape=Xtrain.shape[1:]))\n",
    "                model.add(Activation('relu'))\n",
    "                model.add(AveragePooling2D(pool_size=(2, 2)))\n",
    "\n",
    "                for i in range(layer-1):\n",
    "                    model.add(Conv2D(f, (k,k),padding='same'))\n",
    "                    model.add(Activation('relu'))\n",
    "                    model.add(AveragePooling2D(pool_size=(2, 2)))\n",
    "\n",
    "                model.add(Flatten())\n",
    "                \n",
    "                model.add(Dense(node))\n",
    "                model.add(Activation('relu'))\n",
    "                model.add(Dropout(dropout))\n",
    "\n",
    "                model.add(Dense(1))\n",
    "                model.add(Activation('sigmoid'))\n",
    "\n",
    "                model.compile(loss='binary_crossentropy',optimizer=keras.optimizers.Adam(learning_rate=learning),metrics=['accuracy'])\n",
    "            \n",
    "                model1 =model.fit(Xtrain, ytrain,batch_size=16,epochs=10,validation_split=0.3)\n",
    "                model.save('CNNP1.model')"
   ]
  },
  {
   "cell_type": "code",
   "execution_count": 78,
   "metadata": {},
   "outputs": [
    {
     "data": {
      "image/png": "[encoded data removed]",
      "text/plain": [
       "<Figure size 1080x720 with 1 Axes>"
      ]
     },
     "metadata": {
      "needs_background": "light"
     },
     "output_type": "display_data"
    }
   ],
   "source": [
    "import matplotlib.pyplot as plt\n",
    "#Loss Visualization for data training and validation\n",
    "\n",
    "plt.figure(figsize=(15,10))\n",
    "plt.plot(model1.history['loss'])\n",
    "plt.plot(model1.history['val_loss'])\n",
    "plt.title('Model Performance')\n",
    "plt.xlabel('Epoch')\n",
    "plt.ylabel('Loss')\n",
    "plt.legend(['Train','Validation'], loc='upper right')\n",
    "plt.show()"
   ]
  },
  {
   "cell_type": "code",
   "execution_count": 79,
   "metadata": {},
   "outputs": [],
   "source": [
    "model = tf.keras.models.load_model(\"CNNP1.model\")"
   ]
  },
  {
   "cell_type": "markdown",
   "metadata": {},
   "source": [
    "# Data Latih"
   ]
  },
  {
   "cell_type": "code",
   "execution_count": 80,
   "metadata": {},
   "outputs": [
    {
     "data": {
      "text/plain": [
       "0.7163978"
      ]
     },
     "execution_count": 80,
     "metadata": {},
     "output_type": "execute_result"
    }
   ],
   "source": [
    "prediction = model.predict(Xtrain2)\n",
    "m = tf.keras.metrics.BinaryAccuracy()\n",
    "m.update_state(ytrain2,prediction, sample_weight=None)\n",
    "m.result().numpy()"
   ]
  },
  {
   "cell_type": "code",
   "execution_count": 81,
   "metadata": {},
   "outputs": [
    {
     "data": {
      "text/plain": [
       "0.70012707"
      ]
     },
     "execution_count": 81,
     "metadata": {},
     "output_type": "execute_result"
    }
   ],
   "source": [
    "m = tf.keras.metrics.Precision()\n",
    "m.update_state(ytrain2,prediction, sample_weight=None)\n",
    "m.result().numpy()"
   ]
  },
  {
   "cell_type": "code",
   "execution_count": 82,
   "metadata": {},
   "outputs": [
    {
     "data": {
      "text/plain": [
       "0.7476255"
      ]
     },
     "execution_count": 82,
     "metadata": {},
     "output_type": "execute_result"
    }
   ],
   "source": [
    "m = tf.keras.metrics.Recall()\n",
    "m.update_state(ytrain2,prediction, sample_weight=None)\n",
    "m.result().numpy()"
   ]
  },
  {
   "cell_type": "code",
   "execution_count": 83,
   "metadata": {},
   "outputs": [
    {
     "data": {
      "text/plain": [
       "186.0"
      ]
     },
     "execution_count": 83,
     "metadata": {},
     "output_type": "execute_result"
    }
   ],
   "source": [
    "m = tf.keras.metrics.FalseNegatives()\n",
    "m.update_state(ytrain2,prediction, sample_weight=None)\n",
    "m.result().numpy()"
   ]
  },
  {
   "cell_type": "code",
   "execution_count": 84,
   "metadata": {},
   "outputs": [
    {
     "data": {
      "text/plain": [
       "236.0"
      ]
     },
     "execution_count": 84,
     "metadata": {},
     "output_type": "execute_result"
    }
   ],
   "source": [
    "m = tf.keras.metrics.FalsePositives()\n",
    "m.update_state(ytrain2,prediction, sample_weight=None)\n",
    "m.result().numpy()"
   ]
  },
  {
   "cell_type": "code",
   "execution_count": 85,
   "metadata": {},
   "outputs": [
    {
     "data": {
      "text/plain": [
       "515.0"
      ]
     },
     "execution_count": 85,
     "metadata": {},
     "output_type": "execute_result"
    }
   ],
   "source": [
    "m = tf.keras.metrics.TrueNegatives()\n",
    "m.update_state(ytrain2,prediction, sample_weight=None)\n",
    "m.result().numpy()"
   ]
  },
  {
   "cell_type": "code",
   "execution_count": 86,
   "metadata": {},
   "outputs": [
    {
     "data": {
      "text/plain": [
       "551.0"
      ]
     },
     "execution_count": 86,
     "metadata": {},
     "output_type": "execute_result"
    }
   ],
   "source": [
    "m = tf.keras.metrics.TruePositives()\n",
    "m.update_state(ytrain2,prediction, sample_weight=None)\n",
    "m.result().numpy()"
   ]
  },
  {
   "cell_type": "markdown",
   "metadata": {},
   "source": [
    "# Data Validasi"
   ]
  },
  {
   "cell_type": "code",
   "execution_count": 87,
   "metadata": {},
   "outputs": [
    {
     "data": {
      "text/plain": [
       "0.8536978"
      ]
     },
     "execution_count": 87,
     "metadata": {},
     "output_type": "execute_result"
    }
   ],
   "source": [
    "prediction = model.predict(Xval)\n",
    "m = tf.keras.metrics.BinaryAccuracy()\n",
    "m.update_state(yval,prediction, sample_weight=None)\n",
    "m.result().numpy()"
   ]
  },
  {
   "cell_type": "code",
   "execution_count": 88,
   "metadata": {},
   "outputs": [
    {
     "data": {
      "text/plain": [
       "0.87543255"
      ]
     },
     "execution_count": 88,
     "metadata": {},
     "output_type": "execute_result"
    }
   ],
   "source": [
    "m = tf.keras.metrics.Precision()\n",
    "m.update_state(yval,prediction, sample_weight=None)\n",
    "m.result().numpy()"
   ]
  },
  {
   "cell_type": "code",
   "execution_count": 89,
   "metadata": {},
   "outputs": [
    {
     "data": {
      "text/plain": [
       "0.8214286"
      ]
     },
     "execution_count": 89,
     "metadata": {},
     "output_type": "execute_result"
    }
   ],
   "source": [
    "m = tf.keras.metrics.Recall()\n",
    "m.update_state(yval,prediction, sample_weight=None)\n",
    "m.result().numpy()"
   ]
  },
  {
   "cell_type": "code",
   "execution_count": 90,
   "metadata": {},
   "outputs": [
    {
     "data": {
      "text/plain": [
       "55.0"
      ]
     },
     "execution_count": 90,
     "metadata": {},
     "output_type": "execute_result"
    }
   ],
   "source": [
    "m = tf.keras.metrics.FalseNegatives()\n",
    "m.update_state(yval,prediction, sample_weight=None)\n",
    "m.result().numpy()"
   ]
  },
  {
   "cell_type": "code",
   "execution_count": 91,
   "metadata": {},
   "outputs": [
    {
     "data": {
      "text/plain": [
       "36.0"
      ]
     },
     "execution_count": 91,
     "metadata": {},
     "output_type": "execute_result"
    }
   ],
   "source": [
    "m = tf.keras.metrics.FalsePositives()\n",
    "m.update_state(yval,prediction, sample_weight=None)\n",
    "m.result().numpy()"
   ]
  },
  {
   "cell_type": "code",
   "execution_count": 92,
   "metadata": {},
   "outputs": [
    {
     "data": {
      "text/plain": [
       "278.0"
      ]
     },
     "execution_count": 92,
     "metadata": {},
     "output_type": "execute_result"
    }
   ],
   "source": [
    "m = tf.keras.metrics.TrueNegatives()\n",
    "m.update_state(yval,prediction, sample_weight=None)\n",
    "m.result().numpy()"
   ]
  },
  {
   "cell_type": "code",
   "execution_count": 93,
   "metadata": {},
   "outputs": [
    {
     "data": {
      "text/plain": [
       "253.0"
      ]
     },
     "execution_count": 93,
     "metadata": {},
     "output_type": "execute_result"
    }
   ],
   "source": [
    "m = tf.keras.metrics.TruePositives()\n",
    "m.update_state(yval,prediction, sample_weight=None)\n",
    "m.result().numpy()"
   ]
  },
  {
   "cell_type": "markdown",
   "metadata": {},
   "source": [
    "# Data Uji"
   ]
  },
  {
   "cell_type": "code",
   "execution_count": 94,
   "metadata": {},
   "outputs": [
    {
     "data": {
      "text/plain": [
       "0.7358491"
      ]
     },
     "execution_count": 94,
     "metadata": {},
     "output_type": "execute_result"
    }
   ],
   "source": [
    "prediction = model.predict(Xtest)\n",
    "m = tf.keras.metrics.BinaryAccuracy()\n",
    "m.update_state(ytest,prediction, sample_weight=None)\n",
    "m.result().numpy()"
   ]
  },
  {
   "cell_type": "code",
   "execution_count": 95,
   "metadata": {},
   "outputs": [
    {
     "data": {
      "text/plain": [
       "0.7171717"
      ]
     },
     "execution_count": 95,
     "metadata": {},
     "output_type": "execute_result"
    }
   ],
   "source": [
    "m = tf.keras.metrics.Precision()\n",
    "m.update_state(ytest,prediction, sample_weight=None)\n",
    "m.result().numpy()"
   ]
  },
  {
   "cell_type": "code",
   "execution_count": 96,
   "metadata": {},
   "outputs": [
    {
     "data": {
      "text/plain": [
       "0.7717391"
      ]
     },
     "execution_count": 96,
     "metadata": {},
     "output_type": "execute_result"
    }
   ],
   "source": [
    "m = tf.keras.metrics.Recall()\n",
    "m.update_state(ytest,prediction, sample_weight=None)\n",
    "m.result().numpy()"
   ]
  },
  {
   "cell_type": "code",
   "execution_count": 97,
   "metadata": {},
   "outputs": [
    {
     "data": {
      "text/plain": [
       "42.0"
      ]
     },
     "execution_count": 97,
     "metadata": {},
     "output_type": "execute_result"
    }
   ],
   "source": [
    "m = tf.keras.metrics.FalseNegatives()\n",
    "m.update_state(ytest,prediction, sample_weight=None)\n",
    "m.result().numpy()"
   ]
  },
  {
   "cell_type": "code",
   "execution_count": 98,
   "metadata": {},
   "outputs": [
    {
     "data": {
      "text/plain": [
       "56.0"
      ]
     },
     "execution_count": 98,
     "metadata": {},
     "output_type": "execute_result"
    }
   ],
   "source": [
    "m = tf.keras.metrics.FalsePositives()\n",
    "m.update_state(ytest,prediction, sample_weight=None)\n",
    "m.result().numpy()"
   ]
  },
  {
   "cell_type": "code",
   "execution_count": 99,
   "metadata": {},
   "outputs": [
    {
     "data": {
      "text/plain": [
       "131.0"
      ]
     },
     "execution_count": 99,
     "metadata": {},
     "output_type": "execute_result"
    }
   ],
   "source": [
    "m = tf.keras.metrics.TrueNegatives()\n",
    "m.update_state(ytest,prediction, sample_weight=None)\n",
    "m.result().numpy()"
   ]
  },
  {
   "cell_type": "code",
   "execution_count": 100,
   "metadata": {},
   "outputs": [
    {
     "data": {
      "text/plain": [
       "142.0"
      ]
     },
     "execution_count": 100,
     "metadata": {},
     "output_type": "execute_result"
    }
   ],
   "source": [
    "m = tf.keras.metrics.TruePositives()\n",
    "m.update_state(ytest,prediction, sample_weight=None)\n",
    "m.result().numpy()"
   ]
  },
  {
   "cell_type": "code",
   "execution_count": null,
   "metadata": {},
   "outputs": [],
   "source": []
  }
 ],
 "metadata": {
  "kernelspec": {
   "display_name": "Python 3",
   "language": "python",
   "name": "python3"
  },
  "language_info": {
   "codemirror_mode": {
    "name": "ipython",
    "version": 3
   },
   "file_extension": ".py",
   "mimetype": "text/x-python",
   "name": "python",
   "nbconvert_exporter": "python",
   "pygments_lexer": "ipython3",
   "version": "3.8.5"
  }
 },
 "nbformat": 4,
 "nbformat_minor": 4
}
